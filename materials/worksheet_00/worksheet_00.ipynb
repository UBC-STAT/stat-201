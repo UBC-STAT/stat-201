{
 "cells": [
  {
   "cell_type": "markdown",
   "metadata": {
    "deletable": false,
    "editable": false,
    "nbgrader": {
     "cell_type": "markdown",
     "checksum": "0877a9eab441836f757c69f8dac9c34b",
     "grade": false,
     "grade_id": "cell-ccd1e2501ff21f28",
     "locked": true,
     "schema_version": 3,
     "solution": false,
     "task": false
    }
   },
   "source": [
    "# Practice Worksheet: Inferential questions and data visualisation"
   ]
  },
  {
   "cell_type": "markdown",
   "metadata": {
    "deletable": false,
    "editable": false,
    "nbgrader": {
     "cell_type": "markdown",
     "checksum": "ce0982329fd26bf73e788209cb398ec6",
     "grade": false,
     "grade_id": "cell-a3b416b82b7bac72",
     "locked": true,
     "schema_version": 3,
     "solution": false,
     "task": false
    },
    "tags": []
   },
   "source": [
    "### Welcome to STAT 201: Statistical Inference for Data Science\n",
    "\n",
    "Each week, you will complete a lecture assignment like this one. Before we get started, there are some administrative details.\n",
    "\n",
    "You can only learn technical subjects with hands-on practice. The weekly lecture worksheets and tutorials are crucial in the course; you should complete them with utmost dedication. Collaborating with fellow students during these sessions is highly encouraged, as it can aid in a better understanding of concepts. If you ever get stuck while attempting a question in the lecture or tutorial worksheets, don't hesitate to seek help from your peers, TAs, or instructors. In fact, explaining concepts to others helps solidify your own understanding of them. However, please refrain from sharing answers, as we expect everyone to submit their own work, and just getting the answer jeopardizes one's learning. \n",
    "\n",
    "Cases of plagiarism will receive 0 in the entire assignment, and we will report the student to UBC's Faculty of Science for academic misconduct. \n",
    "\n",
    "Copy-and-pasting or paraphrasing the answer given by a genAI tool (e.g., chatGPT) is not acceptable as an answer to worksheet questions. It prevents you from learning properly and will be considered academic misconduct.\n",
    "\n",
    "You can read more about course policies on the course website."
   ]
  },
  {
   "cell_type": "markdown",
   "metadata": {
    "deletable": false,
    "editable": false,
    "nbgrader": {
     "cell_type": "markdown",
     "checksum": "9d8a15acbce211ab1dc2a5977b41b6cc",
     "grade": false,
     "grade_id": "cell-b3e882daf16912d9",
     "locked": true,
     "schema_version": 3,
     "solution": false,
     "task": false
    }
   },
   "source": [
    "Since DSCI 100 is a prerequisite for this course, we expect students to be comfortable with the tutorial and worksheet style and structure. Students should also be familiar with answering questions in a Jupyter notebook and assessing if their answers are correct before submission. However, if you're having trouble, contact the teaching team for support - we're glad to help. This practice worksheet is made to help you remember how to use Jupyter notebooks."
   ]
  },
  {
   "cell_type": "markdown",
   "metadata": {
    "deletable": false,
    "editable": false,
    "nbgrader": {
     "cell_type": "markdown",
     "checksum": "e93504dea69c24946c42f4a2d1077be5",
     "grade": false,
     "grade_id": "cell-b3e882daf16912d8",
     "locked": true,
     "schema_version": 3,
     "solution": false,
     "task": false
    }
   },
   "source": [
    "**Today's worksheet is a practice worksheet. It does not count for points. It is meant to refresh your mind on how these work and to review a few concepts you have learned previously.**"
   ]
  },
  {
   "cell_type": "markdown",
   "metadata": {
    "deletable": false,
    "editable": false,
    "nbgrader": {
     "cell_type": "markdown",
     "checksum": "475718ea3cfe52dc4805f19f15b8621e",
     "grade": false,
     "grade_id": "cell-7f137055c244e8bb",
     "locked": true,
     "schema_version": 3,
     "solution": false,
     "task": false
    }
   },
   "source": [
    "#### Practice Worksheet Learning Goals:\n",
    "After completing this practice worksheet, you will remember how to:\n",
    "\n",
    "1. Differentiate an inferential question from other questions that can be answered with data.\n",
    "2. Write an R script to plot a histogram.\n"
   ]
  },
  {
   "cell_type": "code",
   "execution_count": null,
   "metadata": {
    "deletable": false,
    "editable": false,
    "nbgrader": {
     "cell_type": "code",
     "checksum": "7be9bf074f06fe2398710c6d76e4bc94",
     "grade": false,
     "grade_id": "cell-ddd97f3228533f17",
     "locked": true,
     "schema_version": 3,
     "solution": false,
     "task": false
    }
   },
   "outputs": [],
   "source": [
    "# Run this cell before continuing.\n",
    "library(tidyverse)\n",
    "library(palmerpenguins)\n",
    "source(\"tests_worksheet_00.R\")"
   ]
  },
  {
   "cell_type": "markdown",
   "metadata": {
    "deletable": false,
    "editable": false,
    "nbgrader": {
     "cell_type": "markdown",
     "checksum": "70a1d34aa9e4ff30639e103ac581106c",
     "grade": false,
     "grade_id": "cell-4f02f27ed4ce78da",
     "locked": true,
     "schema_version": 3,
     "solution": false,
     "task": false
    }
   },
   "source": [
    "## 1. Inferential questions\n",
    "\n",
    "In DSCI 100, we learned about [six different types of data analysis questions we can ask and answer](https://datasciencebook.ca/intro.html#asking-a-question). Let's start this worksheet by reminding us what an inferential question is."
   ]
  },
  {
   "cell_type": "markdown",
   "metadata": {
    "deletable": false,
    "editable": false,
    "nbgrader": {
     "cell_type": "markdown",
     "checksum": "c0c5fcb87be730193eb83e56954880b2",
     "grade": false,
     "grade_id": "cell-2a0842175d90ec51",
     "locked": true,
     "schema_version": 3,
     "solution": false,
     "task": false
    }
   },
   "source": [
    "**Question 1.0**\n",
    "<br>{points: 1}\n",
    "\n",
    "Which of the following is an example of an inferential question:\n",
    "\n",
    "A. Are students who exercise regularly less stressed during exams?     \n",
    "    \n",
    "B. What is the number of native bird species found in Vancouver?   \n",
    "     \n",
    "C. What is the chance of survival if we treat a patient with this new drug?     \n",
    "     \n",
    "D. What is the most common declared major of the students in my data set?  \n",
    " \n",
    "_Assign your answer to an object called `answer1.0`. Your answer should be a single character surrounded by quotes._"
   ]
  },
  {
   "cell_type": "code",
   "execution_count": null,
   "metadata": {
    "deletable": false,
    "nbgrader": {
     "cell_type": "code",
     "checksum": "516163d7bef1470c5ec4ea043ec2af78",
     "grade": false,
     "grade_id": "cell-7f45af42ce3654c9",
     "locked": false,
     "schema_version": 3,
     "solution": true,
     "task": false
    }
   },
   "outputs": [],
   "source": [
    "# answer1.0 <- ...\n",
    "\n",
    "# your code here\n",
    "fail() # No Answer - remove if you provide an answer"
   ]
  },
  {
   "cell_type": "code",
   "execution_count": null,
   "metadata": {
    "deletable": false,
    "editable": false,
    "nbgrader": {
     "cell_type": "code",
     "checksum": "69ec74474282cd4c36a5d7affb9cd793",
     "grade": true,
     "grade_id": "cell-370ef28ef4d2afef",
     "locked": true,
     "points": 1,
     "schema_version": 3,
     "solution": false,
     "task": false
    }
   },
   "outputs": [],
   "source": [
    "test_1.0()"
   ]
  },
  {
   "cell_type": "markdown",
   "metadata": {
    "deletable": false,
    "editable": false,
    "nbgrader": {
     "cell_type": "markdown",
     "checksum": "1cd1c0e31526199bf3db65f0b497e090",
     "grade": false,
     "grade_id": "cell-2ade049ef0bdae06",
     "locked": true,
     "schema_version": 3,
     "solution": false,
     "task": false
    }
   },
   "source": [
    "**Question 1.1**\n",
    "<br>{points: 1}\n",
    "\n",
    "True or false?\n",
    "\n",
    "\"What process explains the decline of species diversity in Canada?\" is an example of an inferential question.\n",
    "\n",
    "_Assign your answer to an object called `answer1.1`. Your answer should be either \"true\" or \"false\", surrounded by quotes._"
   ]
  },
  {
   "cell_type": "code",
   "execution_count": null,
   "metadata": {
    "deletable": false,
    "nbgrader": {
     "cell_type": "code",
     "checksum": "81b6de776f2d5f171840db410e13d350",
     "grade": false,
     "grade_id": "cell-a59dd67fdf2b5b14",
     "locked": false,
     "schema_version": 3,
     "solution": true,
     "task": false
    }
   },
   "outputs": [],
   "source": [
    "# answer1.1 <- ...\n",
    "\n",
    "# your code here\n",
    "fail() # No Answer - remove if you provide an answer"
   ]
  },
  {
   "cell_type": "code",
   "execution_count": null,
   "metadata": {
    "deletable": false,
    "editable": false,
    "nbgrader": {
     "cell_type": "code",
     "checksum": "c5b914036234bc708ab3c08d09e80336",
     "grade": true,
     "grade_id": "cell-24f6f39cbad38803",
     "locked": true,
     "points": 1,
     "schema_version": 3,
     "solution": false,
     "task": false
    }
   },
   "outputs": [],
   "source": [
    "test_1.1()"
   ]
  },
  {
   "cell_type": "markdown",
   "metadata": {
    "deletable": false,
    "editable": false,
    "nbgrader": {
     "cell_type": "markdown",
     "checksum": "8f83ed21d5f375b35ee76f783143c9a7",
     "grade": false,
     "grade_id": "cell-fc0f9df1c3fc9625",
     "locked": true,
     "schema_version": 3,
     "solution": false,
     "task": false
    }
   },
   "source": [
    "## 2. Histograms with `ggplot2`\n",
    "\n",
    "In DSCI 100, we learned about creating [visualisations with `ggplot2`](https://datasciencebook.ca/viz.html). In STAT 201, we will also use `ggplot2` to visualise our data. One type of visualisation that you have encountered before and that we will use repeatedly in this course is called a *histogram*. A histogram is useful because it displays how a variable is distributed in a data set by separating the data into bins and using vertical bars to quantify how many data points fall in each bin.\n",
    "\n",
    "As an example, the code below will plot a histogram of the body mass (in grams) of three species of penguins found in a data set from the R  package `palmerpenguins`, which you loaded at the start of the worksheet."
   ]
  },
  {
   "cell_type": "code",
   "execution_count": null,
   "metadata": {
    "deletable": false,
    "editable": false,
    "nbgrader": {
     "cell_type": "code",
     "checksum": "efe426c72c309d3c4a188af7d11b57d6",
     "grade": false,
     "grade_id": "cell-d68bb00a53f16c29",
     "locked": true,
     "schema_version": 3,
     "solution": false,
     "task": false
    }
   },
   "outputs": [],
   "source": [
    "# Run this cell before continuing.\n",
    "penguin_hist <- penguins %>% \n",
    "    ggplot(aes(x = body_mass_g)) + \n",
    "    geom_histogram(bins = 20) +\n",
    "    xlab(\"Body mass (g)\") +\n",
    "    ylab(\"Count\") +\n",
    "    ggtitle(\"Body mass of penguins\")\n",
    "penguin_hist"
   ]
  },
  {
   "cell_type": "markdown",
   "metadata": {},
   "source": [
    "*We have a warning because some of the rows have missing values (i.e., these rows have `NA` instead of a penguin's body mass).*"
   ]
  },
  {
   "cell_type": "markdown",
   "metadata": {
    "deletable": false,
    "editable": false,
    "nbgrader": {
     "cell_type": "markdown",
     "checksum": "02e22668b45be44deb5c2ebb9776587e",
     "grade": false,
     "grade_id": "cell-e88fa2107d4d8a58",
     "locked": true,
     "schema_version": 3,
     "solution": false,
     "task": false
    }
   },
   "source": [
    "**Question 2.0**\n",
    "<br>{points: 1}\n",
    "\n",
    "Which part of the code above specifies the column of the data set that corresponds to the x-axis?\n",
    "\n",
    "A. `geom_histogram(bins = 20)`\n",
    "    \n",
    "B. `xlab(\"Body mass (g)\")`\n",
    "     \n",
    "C. `penguins`    \n",
    "     \n",
    "D. `aes(x = body_mass_g)`  \n",
    " \n",
    "_Assign your answer to an object called `answer2.0`. Your answer should be a single character surrounded by quotes._"
   ]
  },
  {
   "cell_type": "code",
   "execution_count": null,
   "metadata": {
    "deletable": false,
    "nbgrader": {
     "cell_type": "code",
     "checksum": "7b9c9499a52f1986296de79bcdf010d3",
     "grade": false,
     "grade_id": "cell-7f45af42ce3654c7",
     "locked": false,
     "schema_version": 3,
     "solution": true,
     "task": false
    }
   },
   "outputs": [],
   "source": [
    "# answer2.0 <- ...\n",
    "\n",
    "# your code here\n",
    "fail() # No Answer - remove if you provide an answer"
   ]
  },
  {
   "cell_type": "code",
   "execution_count": null,
   "metadata": {
    "deletable": false,
    "editable": false,
    "nbgrader": {
     "cell_type": "code",
     "checksum": "b730db270b5318ceae450febaeceb206",
     "grade": true,
     "grade_id": "cell-2671547959a2572b",
     "locked": true,
     "points": 1,
     "schema_version": 3,
     "solution": false,
     "task": false
    }
   },
   "outputs": [],
   "source": [
    "test_2.0()"
   ]
  },
  {
   "cell_type": "markdown",
   "metadata": {
    "deletable": false,
    "editable": false,
    "nbgrader": {
     "cell_type": "markdown",
     "checksum": "0c9c86d33bce3f3d27e2267593b4e6f7",
     "grade": false,
     "grade_id": "cell-311e159be2358681",
     "locked": true,
     "schema_version": 3,
     "solution": false,
     "task": false
    }
   },
   "source": [
    "**Question 2.1**\n",
    "<br>{points: 1}\n",
    "\n",
    "True or false?\n",
    "\n",
    "\"The penguins in this data set range from roughly 2500 g to roughly 6500 g.\"\n",
    "\n",
    "_Assign your answer to an object called `answer2.1`. Your answer should be either \"true\" or \"false\", surrounded by quotes._"
   ]
  },
  {
   "cell_type": "code",
   "execution_count": null,
   "metadata": {
    "deletable": false,
    "nbgrader": {
     "cell_type": "code",
     "checksum": "454673b1069191a1decd471221156840",
     "grade": false,
     "grade_id": "cell-5778dbcc6fc4155e",
     "locked": false,
     "schema_version": 3,
     "solution": true,
     "task": false
    }
   },
   "outputs": [],
   "source": [
    "# answer2.1 <- ...\n",
    "\n",
    "# your code here\n",
    "fail() # No Answer - remove if you provide an answer"
   ]
  },
  {
   "cell_type": "code",
   "execution_count": null,
   "metadata": {
    "deletable": false,
    "editable": false,
    "nbgrader": {
     "cell_type": "code",
     "checksum": "292de22a16cd4b5403a6e8f9abffee99",
     "grade": true,
     "grade_id": "cell-f0b575c2ad676c6d",
     "locked": true,
     "points": 1,
     "schema_version": 3,
     "solution": false,
     "task": false
    }
   },
   "outputs": [],
   "source": [
    "test_2.1()"
   ]
  },
  {
   "cell_type": "markdown",
   "metadata": {
    "deletable": false,
    "editable": false,
    "nbgrader": {
     "cell_type": "markdown",
     "checksum": "6820990298b595c5539b9f9e67c2a31c",
     "grade": false,
     "grade_id": "cell-ab5d9b3c90205f60",
     "locked": true,
     "schema_version": 3,
     "solution": false,
     "task": false
    }
   },
   "source": [
    "**Question 2.2**\n",
    "<br>{points: 1}\n",
    "\n",
    "True or false?\n",
    "\n",
    "\"According to the histogram, the mean of this dataset is likely higher than the median.\"\n",
    "\n",
    "_Assign your answer to an object called `answer2.2`. Your answer should be either \"true\" or \"false\", surrounded by quotes._"
   ]
  },
  {
   "cell_type": "code",
   "execution_count": null,
   "metadata": {
    "deletable": false,
    "nbgrader": {
     "cell_type": "code",
     "checksum": "77fa215b19219b9bfdb6657507b76005",
     "grade": false,
     "grade_id": "cell-9383a173828603fb",
     "locked": false,
     "schema_version": 3,
     "solution": true,
     "task": false
    }
   },
   "outputs": [],
   "source": [
    "# answer2.2 <- ...\n",
    "\n",
    "# your code here\n",
    "fail() # No Answer - remove if you provide an answer"
   ]
  },
  {
   "cell_type": "code",
   "execution_count": null,
   "metadata": {
    "deletable": false,
    "editable": false,
    "nbgrader": {
     "cell_type": "code",
     "checksum": "dd1714ec37e7370e81064ce0ecad75ad",
     "grade": true,
     "grade_id": "cell-cabc7d17045f8d1b",
     "locked": true,
     "points": 0,
     "schema_version": 3,
     "solution": false,
     "task": false
    }
   },
   "outputs": [],
   "source": [
    "test_2.2()"
   ]
  },
  {
   "cell_type": "markdown",
   "metadata": {
    "deletable": false,
    "editable": false,
    "nbgrader": {
     "cell_type": "markdown",
     "checksum": "52d08283325eceea1ae0a6d60331d5a6",
     "grade": false,
     "grade_id": "cell-e88fa2107d4d8a57",
     "locked": true,
     "schema_version": 3,
     "solution": false,
     "task": false
    }
   },
   "source": [
    "### Final thoughts\n",
    "Congratulations! You have completed your practice STAT 201 worksheet. This worksheet doesn't count for points, but it's good to go through how to save and check your worksheet properly. When finishing a worksheet, keep in mind:\n",
    "- **Don't forget to save your work with `File` -> `Save Notebook`. You should always do this periodically _(TIP: use the keybind `Ctrl+S` or `Cmd+S` to speed up the process)._**\n",
    "- **Before you leave the page, check that the autograder returns the results you are expecting by clicking `Kernel` -> `Restart Kernel and Run All`.**\n",
    "- Never rename a file or folder."
   ]
  }
 ],
 "metadata": {
  "docker": {
   "latest_image_tag": "v0.4.0"
  },
  "jupytext": {
   "encoding": "# -*- coding: utf-8 -*-"
  },
  "kernelspec": {
   "display_name": "R",
   "language": "R",
   "name": "ir"
  },
  "language_info": {
   "codemirror_mode": "r",
   "file_extension": ".r",
   "mimetype": "text/x-r-source",
   "name": "R",
   "pygments_lexer": "r",
   "version": "4.3.3"
  }
 },
 "nbformat": 4,
 "nbformat_minor": 4
}
