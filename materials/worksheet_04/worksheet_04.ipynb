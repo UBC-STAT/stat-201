{
 "cells": [
  {
   "cell_type": "markdown",
   "metadata": {
    "deletable": false,
    "editable": false,
    "nbgrader": {
     "cell_type": "markdown",
     "checksum": "183a2e078152dd161a30387b5a0e5db4",
     "grade": false,
     "grade_id": "cell-c3be035a676e3d8f",
     "locked": true,
     "schema_version": 3,
     "solution": false,
     "task": false
    }
   },
   "source": [
    "# Worksheet 4: Confidence Intervals via Bootstrapping"
   ]
  },
  {
   "cell_type": "markdown",
   "metadata": {
    "deletable": false,
    "editable": false,
    "nbgrader": {
     "cell_type": "markdown",
     "checksum": "97171ab5adfcd750c67c4bb92da174c2",
     "grade": false,
     "grade_id": "cell-e74e47156fd30ffe",
     "locked": true,
     "schema_version": 3,
     "solution": false,
     "task": false
    }
   },
   "source": [
    "#### Lecture and Tutorial Learning Goals:\n",
    "From this section, students are expected to be able to:\n",
    "\n",
    "1. Define what a confidence interval is and why we want to generate one.\n",
    "2. Explain how the bootstrap sampling distribution can be used to create confidence intervals.\n",
    "3. Write a computer script to calculate confidence intervals for a population parameter using bootstrapping.\n",
    "4. Effectively visualize point estimates and confidence intervals.\n",
    "5. Interpret and explain results from confidence intervals.\n",
    "6. Discuss the potential limitations of these methods."
   ]
  },
  {
   "cell_type": "code",
   "execution_count": null,
   "metadata": {
    "deletable": false,
    "editable": false,
    "nbgrader": {
     "cell_type": "code",
     "checksum": "1472cf43296097795109b54543e4eee0",
     "grade": false,
     "grade_id": "cell-e3dd9d74ab20965b",
     "locked": true,
     "schema_version": 3,
     "solution": false,
     "task": false
    }
   },
   "outputs": [],
   "source": [
    "# Run this cell before continuing.\n",
    "library(cowplot)\n",
    "library(datateachr)\n",
    "library(infer)\n",
    "library(repr)\n",
    "library(tidyverse)\n",
    "source(\"tests_worksheet_04.R\")"
   ]
  },
  {
   "cell_type": "markdown",
   "metadata": {
    "deletable": false,
    "editable": false,
    "nbgrader": {
     "cell_type": "markdown",
     "checksum": "f7e7f33d097396294395d7212ef07a16",
     "grade": false,
     "grade_id": "cell-04657c2d7e49dc5d",
     "locked": true,
     "schema_version": 3,
     "solution": false,
     "task": false
    }
   },
   "source": [
    "## 1. Short Recap & Warm-Up\n",
    "\n",
    "Before we start exploring the new material for this week, let's remind ourselves of some of the most important points that we covered in the previous week by answering a couple of questions."
   ]
  },
  {
   "cell_type": "markdown",
   "metadata": {
    "deletable": false,
    "editable": false,
    "nbgrader": {
     "cell_type": "markdown",
     "checksum": "6b5452a72d7cd407ba1a28476add5dd5",
     "grade": false,
     "grade_id": "cell-277aef32f735ac0e",
     "locked": true,
     "schema_version": 3,
     "solution": false,
     "task": false
    }
   },
   "source": [
    "**Question 1.0**\n",
    "<br>{points: 1}\n",
    "\n",
    "Consider the following diagram of some of the concepts that we have learned about so far:\n",
    "\n",
    "```\n",
    "population -> parameters\n",
    "    sample -> point estimate -> estimates -> ...(1)\n",
    "    sample -> ...(2) -> standard error\n",
    "        bootstrap samples -> bootstrap distribution -> ...(3) -> sampling distribution\n",
    "                             bootstrap distribution -> ...(4) -> estimates -> ...(5)\n",
    "```\n",
    "An arrow `->` indicates some type of relationship between the two conjoined terms. For example, `population -> parameters` could be interpretted as \"a population has parameters\", and `sample -> point estimate` could be interpretted as \"from a sample, we can compute a point estimate\".\n",
    "\n",
    "Notice that some terms are missing, as indicated by the 5 `...`'s. Your job is to match the following terms with their appropriate locations in the diagram:\n",
    "\n",
    "A. Standard deviation\n",
    "\n",
    "B. Standard error\n",
    "\n",
    "C. Estimator\n",
    "\n",
    "D. Estimates\n",
    "\n",
    "E. Parameter\n",
    "\n",
    "Your answer should be a string containing the letters associated with the terms **in the same order as they would appear in the completed diagram:** `(1)(2)(3)(4)(5)`. Each letter must be used exactly once. For example, one potential solution is `\"ABCDE\"`.\n",
    "\n",
    "_Assign your answer to an object called `answer1.0`. Your answer should be a string containing the letters \"A\", \"B\", \"C\", \"D\", and \"E\" in any order._"
   ]
  },
  {
   "cell_type": "code",
   "execution_count": null,
   "metadata": {
    "deletable": false,
    "nbgrader": {
     "cell_type": "code",
     "checksum": "7d68b56e6852681b46c0bef0ca97cae9",
     "grade": false,
     "grade_id": "cell-1727cffb8fad502f",
     "locked": false,
     "schema_version": 3,
     "solution": true,
     "task": false
    }
   },
   "outputs": [],
   "source": [
    "# answer1.0 <- ...\n",
    "\n",
    "# your code here\n",
    "fail() # No Answer - remove if you provide an answer"
   ]
  },
  {
   "cell_type": "code",
   "execution_count": null,
   "metadata": {
    "deletable": false,
    "editable": false,
    "nbgrader": {
     "cell_type": "code",
     "checksum": "1861854a0a5451c2ac811312d881821e",
     "grade": true,
     "grade_id": "cell-44068c9ca1db48aa",
     "locked": true,
     "points": 1,
     "schema_version": 3,
     "solution": false,
     "task": false
    }
   },
   "outputs": [],
   "source": [
    "test_1.0()"
   ]
  },
  {
   "cell_type": "markdown",
   "metadata": {
    "deletable": false,
    "editable": false,
    "nbgrader": {
     "cell_type": "markdown",
     "checksum": "45ef2eabad40d15b0c17912520d44a88",
     "grade": false,
     "grade_id": "cell-eea64fe8856b291f",
     "locked": true,
     "schema_version": 3,
     "solution": false,
     "task": false
    }
   },
   "source": [
    "**Question 1.1**\n",
    "<br>{points: 1}\n",
    "\n",
    "Which statment below is **not** true?\n",
    "\n",
    "A. Given a sample of size 100, we could get a useful estimate of the sampling distribution for samples of size 100 by taking many bootstrap samples of size 70 from the original sample.\n",
    "\n",
    "B. As sample size increases, the standard deviation of the boostrap distribution resulting from a given sample generally decreases.\n",
    "\n",
    "C. The standard deviation of a bootstrap distribution can provide a reliable estimate of the standard error of an estimator, even if the estimator's distribution is asymmetrical.\n",
    "\n",
    "D. The procedure for drawing a normal sample and a bootstrap sample are very similar, with the exception of where we sample from, and the type of sampling (with vs. without replacement).\n",
    "\n",
    "_Assign your answer to an object called `answer1.1`. Your answer should be a single character surrounded by quotes._"
   ]
  },
  {
   "cell_type": "code",
   "execution_count": null,
   "metadata": {
    "deletable": false,
    "nbgrader": {
     "cell_type": "code",
     "checksum": "2fe9c30eec4bb5eaf011a71050add8c2",
     "grade": false,
     "grade_id": "cell-6e7c99c9098e9e01",
     "locked": false,
     "schema_version": 3,
     "solution": true,
     "task": false
    }
   },
   "outputs": [],
   "source": [
    "# answer1.1 <- ...\n",
    "\n",
    "# your code here\n",
    "fail() # No Answer - remove if you provide an answer"
   ]
  },
  {
   "cell_type": "code",
   "execution_count": null,
   "metadata": {
    "deletable": false,
    "editable": false,
    "nbgrader": {
     "cell_type": "code",
     "checksum": "6215c6106144eca0b5a679ae057a300f",
     "grade": true,
     "grade_id": "cell-0e9dc9ae6c2a29f4",
     "locked": true,
     "points": 1,
     "schema_version": 3,
     "solution": false,
     "task": false
    }
   },
   "outputs": [],
   "source": [
    "test_1.1()"
   ]
  },
  {
   "cell_type": "markdown",
   "metadata": {
    "deletable": false,
    "editable": false,
    "nbgrader": {
     "cell_type": "markdown",
     "checksum": "7106f48195e0b39444f688ef4640e15f",
     "grade": false,
     "grade_id": "cell-0ba462b13e472a93",
     "locked": true,
     "schema_version": 3,
     "solution": false,
     "task": false
    }
   },
   "source": [
    "## 2. Introduction to Confidence Intervals\n",
    "\n",
    "So far, we have spent a lot of time understanding sampling distributions as well as one method used to estimate them (bootstrapping). But what's the point of sampling distributions in reality? We know that it tells us about **sampling variation**, which we quantify as the **standard error** of an estimator (the standard deviation of the estimator's distribution). But how are sampling distributions used in practice?\n",
    "> We use a sampling distribution to give a range of plausible values for a population parameter. This range of values is known as a **confidence interval**.\n",
    "\n",
    "In this section, we'll present the basic idea behind confidence intervals and the formal concepts that are used to define them."
   ]
  },
  {
   "cell_type": "markdown",
   "metadata": {
    "deletable": false,
    "editable": false,
    "nbgrader": {
     "cell_type": "markdown",
     "checksum": "58a980684fe89d1059aa5ba425d5e883",
     "grade": false,
     "grade_id": "cell-509ae1c00179cdf6",
     "locked": true,
     "schema_version": 3,
     "solution": false,
     "task": false
    }
   },
   "source": [
    "### Vancouver Street Trees\n",
    "Because we are introducing something brand new, let's revisit a dataset that we are familiar with: `vancouver_trees`. This time, we'll consider our population to be all of the public trees planted in Sunset. Our parameter of interest will be the mean of the `diameter` variable. In the cell below we have filtered the data frame for the population of interest and selected the variable that we need. We have also converted the diameter column from inches to centimetres."
   ]
  },
  {
   "cell_type": "code",
   "execution_count": null,
   "metadata": {
    "deletable": false,
    "editable": false,
    "nbgrader": {
     "cell_type": "code",
     "checksum": "e0224a5939c6f3f1d7c342af24004229",
     "grade": false,
     "grade_id": "cell-acaf959d1d48ef8b",
     "locked": true,
     "schema_version": 3,
     "solution": false,
     "task": false
    }
   },
   "outputs": [],
   "source": [
    "# Run this cell before continuing.\n",
    "sunset_pop <- \n",
    "    vancouver_trees %>% \n",
    "    filter(neighbourhood_name == \"SUNSET\") %>% \n",
    "    select(diameter) %>% \n",
    "    mutate(diameter = diameter * 2.54)\n",
    "\n",
    "head(sunset_pop)"
   ]
  },
  {
   "cell_type": "markdown",
   "metadata": {
    "deletable": false,
    "editable": false,
    "nbgrader": {
     "cell_type": "markdown",
     "checksum": "747ecae948dd00caf20056ace5423ec4",
     "grade": false,
     "grade_id": "cell-04d92e2140412282",
     "locked": true,
     "schema_version": 3,
     "solution": false,
     "task": false
    }
   },
   "source": [
    "**Question 2.0** \n",
    "<br> {points: 1}\n",
    "\n",
    "Calculate the mean of the population of interest.\n",
    "\n",
    "_Assign your answer to an object called `pop_mean`. Your answer should be a single number._"
   ]
  },
  {
   "cell_type": "code",
   "execution_count": null,
   "metadata": {
    "deletable": false,
    "nbgrader": {
     "cell_type": "code",
     "checksum": "5870082f29c7af2bc0a07ad09b9d480d",
     "grade": false,
     "grade_id": "cell-9316dff880f18da5",
     "locked": false,
     "schema_version": 3,
     "solution": true,
     "task": false
    }
   },
   "outputs": [],
   "source": [
    "# your code here\n",
    "fail() # No Answer - remove if you provide an answer\n",
    "\n",
    "pop_mean"
   ]
  },
  {
   "cell_type": "code",
   "execution_count": null,
   "metadata": {
    "deletable": false,
    "editable": false,
    "nbgrader": {
     "cell_type": "code",
     "checksum": "196684b82d6ee223b1e0cc56de6c899b",
     "grade": true,
     "grade_id": "cell-21c011af0ae860c8",
     "locked": true,
     "points": 1,
     "schema_version": 3,
     "solution": false,
     "task": false
    }
   },
   "outputs": [],
   "source": [
    "test_2.0()"
   ]
  },
  {
   "cell_type": "markdown",
   "metadata": {
    "deletable": false,
    "editable": false,
    "nbgrader": {
     "cell_type": "markdown",
     "checksum": "ce5c633f0e833e0ee1ee9c11b150657a",
     "grade": false,
     "grade_id": "cell-668169d4e9139f50",
     "locked": true,
     "schema_version": 3,
     "solution": false,
     "task": false
    }
   },
   "source": [
    "In the cell below, we run code that generates 10 different bootstrap distributions. Each distribution estimates the sampling distribution of the mean of `sunset_pop` for samples of size 24. Hence, each bootstrap distribution was generated by taking a single sample of size 24 from the population `sunset_pop`, taking many resamples from this sample, and calculating the mean of each resample. We can consider the bootstrap distributions to depict some plausible values for the population parameter of interest, based on the original sample that was used to generate them.\n",
    "\n",
    "_Use the 10 bootstrap distributions below to answer the **next question**._"
   ]
  },
  {
   "cell_type": "code",
   "execution_count": null,
   "metadata": {
    "deletable": false,
    "editable": false,
    "nbgrader": {
     "cell_type": "code",
     "checksum": "bffc7c9538a99849fc74c7c746436d66",
     "grade": false,
     "grade_id": "cell-1e4480115f4769d7",
     "locked": true,
     "schema_version": 3,
     "solution": false,
     "task": false
    }
   },
   "outputs": [],
   "source": [
    "# Run this cell before continuing.\n",
    "options(repr.plot.width = 20, repr.plot.height = 8)\n",
    "source(\"bootstrap_dists_worksheet_04.R\")\n",
    "print(bootstrap_dists)"
   ]
  },
  {
   "cell_type": "markdown",
   "metadata": {
    "deletable": false,
    "editable": false,
    "nbgrader": {
     "cell_type": "markdown",
     "checksum": "b3e0527a37de3fba1e6d57c7d6aa847e",
     "grade": false,
     "grade_id": "cell-c93453feb55827dc",
     "locked": true,
     "schema_version": 3,
     "solution": false,
     "task": false
    }
   },
   "source": [
    "**Question 2.1**\n",
    "<br>{points: 1}\n",
    "\n",
    "How many of the bootstrap distributions **reasonably \"cover\"** the true mean of the population?\n",
    "\n",
    "**Hint:** there may be more than one correct answer.\n",
    "\n",
    "_Assign your answer to an object called `answer2.1`. Your answer should be a single integer._"
   ]
  },
  {
   "cell_type": "code",
   "execution_count": null,
   "metadata": {
    "deletable": false,
    "nbgrader": {
     "cell_type": "code",
     "checksum": "7cfab1f6ac89fe05a6b9fe1642b35981",
     "grade": false,
     "grade_id": "cell-b718f74c7ad73204",
     "locked": false,
     "schema_version": 3,
     "solution": true,
     "task": false
    }
   },
   "outputs": [],
   "source": [
    "# answer2.1 <- ...\n",
    "\n",
    "# your code here\n",
    "fail() # No Answer - remove if you provide an answer"
   ]
  },
  {
   "cell_type": "code",
   "execution_count": null,
   "metadata": {
    "deletable": false,
    "editable": false,
    "nbgrader": {
     "cell_type": "code",
     "checksum": "9e22ed2ce555b908ef76b2c1861d5ba3",
     "grade": true,
     "grade_id": "cell-cf6d3812af64bde2",
     "locked": true,
     "points": 1,
     "schema_version": 3,
     "solution": false,
     "task": false
    }
   },
   "outputs": [],
   "source": [
    "test_2.1()"
   ]
  },
  {
   "cell_type": "markdown",
   "metadata": {
    "deletable": false,
    "editable": false,
    "nbgrader": {
     "cell_type": "markdown",
     "checksum": "b9294ec77530d4272a3fa3cb0f89136e",
     "grade": false,
     "grade_id": "cell-08219e12485b6dbd",
     "locked": true,
     "schema_version": 3,
     "solution": false,
     "task": false
    }
   },
   "source": [
    "### Quantiles\n",
    "Is there a clear answer to the previous question? Not really... The meaning of \"reasonably covers\" may differ from person to person; where would you draw the line between \"covers\" and \"does not cover\"? To avoid relying on our own intuition, we need a more rigorous way to say whether or not a bootstrap distribution \"covers\" the parameter of interest. To do this, we will use **quantiles**. The general definition of quantiles that we will be using in this course is as follows:\n",
    "> The $p$th quantile is the value of the observation data set where a proportion of $p$ fall below it, and $1 - p$ fall above it.\n",
    "\n",
    "The $p$th quantile is also commonly referred to as the $p \\times 100\\%$th **percentile**. For example, the 0.025th quantile is also referred to as the 2.5th percentile. "
   ]
  },
  {
   "cell_type": "markdown",
   "metadata": {
    "deletable": false,
    "editable": false,
    "nbgrader": {
     "cell_type": "markdown",
     "checksum": "c74f4cddedf55e5eebe967cbf1c87381",
     "grade": false,
     "grade_id": "cell-5a8d653eb31a90a3",
     "locked": true,
     "schema_version": 3,
     "solution": false,
     "task": false
    }
   },
   "source": [
    "**Question 2.2**\n",
    "<br>{points: 1}\n",
    "\n",
    "Take a single sample of size 150 from `sunset_pop` using `rep_sample_n`. Be sure to `ungroup` and select only the variable that we are interested in (`diameter`). Use the scaffolding provided below as a guide:\n",
    "\n",
    "```r\n",
    "sample_1 <- \n",
    "    ... %>% \n",
    "    rep_sample_n(reps = ..., size = ..., replace = ...) %>% \n",
    "    ungroup() %>% \n",
    "    select(...)\n",
    "```\n",
    "\n",
    "_Assign your data frame to an object called `sample_1`._"
   ]
  },
  {
   "cell_type": "code",
   "execution_count": null,
   "metadata": {
    "deletable": false,
    "nbgrader": {
     "cell_type": "code",
     "checksum": "1fc531e7d0de9f119023504a0ce1ec45",
     "grade": false,
     "grade_id": "cell-631427c9071eaba9",
     "locked": false,
     "schema_version": 3,
     "solution": true,
     "task": false
    }
   },
   "outputs": [],
   "source": [
    "set.seed(8622) # DO NOT CHANGE THIS!\n",
    "\n",
    "# your code here\n",
    "fail() # No Answer - remove if you provide an answer\n",
    "\n",
    "head(sample_1)"
   ]
  },
  {
   "cell_type": "code",
   "execution_count": null,
   "metadata": {
    "deletable": false,
    "editable": false,
    "nbgrader": {
     "cell_type": "code",
     "checksum": "c4a1124b5a515db2d2e351ccd13a6d78",
     "grade": true,
     "grade_id": "cell-a081d7650da43c44",
     "locked": true,
     "points": 1,
     "schema_version": 3,
     "solution": false,
     "task": false
    }
   },
   "outputs": [],
   "source": [
    "test_2.2()"
   ]
  },
  {
   "cell_type": "markdown",
   "metadata": {
    "deletable": false,
    "editable": false,
    "nbgrader": {
     "cell_type": "markdown",
     "checksum": "40f3de8c890720e9f8cac2e265d927d5",
     "grade": false,
     "grade_id": "cell-21b0d343665f8c2b",
     "locked": true,
     "schema_version": 3,
     "solution": false,
     "task": false
    }
   },
   "source": [
    "**Question 2.3**\n",
    "<br> {points: 1}\n",
    "\n",
    "Calculate the 0.75th quantile of `sample_1` using R's `quantile` function. Use the scaffolding provided below as a guide:\n",
    "\n",
    "```r\n",
    "upper_quantile <- \n",
    "    sample_1 %>% \n",
    "    ...(...) %>% \n",
    "    quantile(...)\n",
    "```\n",
    "\n",
    "**Hints:**\n",
    "1. `quantile` takes a numeric vector for the first argument\n",
    "2. You can use the `pull` to get a single column from a data frame as a vector, for example, `pull(data_frame, column_name)`\n",
    "\n",
    "_Assign your answer to an object called `upper_quantile`. Your answer should be a single number._"
   ]
  },
  {
   "cell_type": "code",
   "execution_count": null,
   "metadata": {
    "deletable": false,
    "nbgrader": {
     "cell_type": "code",
     "checksum": "1cfe81118b002bfd513511024952058a",
     "grade": false,
     "grade_id": "cell-cacf4f1c9c1e26dc",
     "locked": false,
     "schema_version": 3,
     "solution": true,
     "task": false
    }
   },
   "outputs": [],
   "source": [
    "# your code here\n",
    "fail() # No Answer - remove if you provide an answer\n",
    "\n",
    "upper_quantile"
   ]
  },
  {
   "cell_type": "code",
   "execution_count": null,
   "metadata": {
    "deletable": false,
    "editable": false,
    "nbgrader": {
     "cell_type": "code",
     "checksum": "893e49e2acace1bc799d45c071ec8443",
     "grade": true,
     "grade_id": "cell-8b38703a2532492b",
     "locked": true,
     "points": 1,
     "schema_version": 3,
     "solution": false,
     "task": false
    }
   },
   "outputs": [],
   "source": [
    "test_2.2()"
   ]
  },
  {
   "cell_type": "markdown",
   "metadata": {
    "deletable": false,
    "editable": false,
    "nbgrader": {
     "cell_type": "markdown",
     "checksum": "40031598c204784c11e54a3aa7011a4d",
     "grade": false,
     "grade_id": "cell-1decc52a2880a0bf",
     "locked": true,
     "schema_version": 3,
     "solution": false,
     "task": false
    }
   },
   "source": [
    "**Question 2.4**\n",
    "<br>{points: 1}\n",
    "\n",
    "True or false?\n",
    "\n",
    "One correct interpretation of the value of `upper_quantile` is: approximately 25% of observations in the sample `sample_1` lie above the value of `upper_quantile`.\n",
    "\n",
    "_Assign your answer to an object called `answer2.4`. Your answer should be either \"true\" or \"false\", surrounded by quotes._"
   ]
  },
  {
   "cell_type": "code",
   "execution_count": null,
   "metadata": {
    "deletable": false,
    "nbgrader": {
     "cell_type": "code",
     "checksum": "cd655f0bca6b8f1877dbf65bda9a25ce",
     "grade": false,
     "grade_id": "cell-43b8be334725790e",
     "locked": false,
     "schema_version": 3,
     "solution": true,
     "task": false
    }
   },
   "outputs": [],
   "source": [
    "# answer2.4 <- ...\n",
    "\n",
    "# your code here\n",
    "fail() # No Answer - remove if you provide an answer"
   ]
  },
  {
   "cell_type": "code",
   "execution_count": null,
   "metadata": {
    "deletable": false,
    "editable": false,
    "nbgrader": {
     "cell_type": "code",
     "checksum": "8736c07cf06fa7e47cfa0f7bb6ff87e5",
     "grade": true,
     "grade_id": "cell-e04d21251d8de8fb",
     "locked": true,
     "points": 1,
     "schema_version": 3,
     "solution": false,
     "task": false
    }
   },
   "outputs": [],
   "source": [
    "test_2.4()"
   ]
  },
  {
   "cell_type": "markdown",
   "metadata": {
    "deletable": false,
    "editable": false,
    "nbgrader": {
     "cell_type": "markdown",
     "checksum": "3f1cddce2df0ce3a11e0fd195bd1e297",
     "grade": false,
     "grade_id": "cell-bffd96979f8468c2",
     "locked": true,
     "schema_version": 3,
     "solution": false,
     "task": false
    }
   },
   "source": [
    "**Question 2.5**\n",
    "<br> {points: 1}\n",
    "\n",
    "Calculate the 0.25th quantile of `sample_1` using R's `quantile` function.\n",
    "\n",
    "_Assign your answer to an object called `lower_quantile`. Your answer should be a single number._"
   ]
  },
  {
   "cell_type": "code",
   "execution_count": null,
   "metadata": {
    "deletable": false,
    "nbgrader": {
     "cell_type": "code",
     "checksum": "814bbce0a89c4234521912aca790e781",
     "grade": false,
     "grade_id": "cell-80552f5495dd76e7",
     "locked": false,
     "schema_version": 3,
     "solution": true,
     "task": false
    }
   },
   "outputs": [],
   "source": [
    "# your code here\n",
    "fail() # No Answer - remove if you provide an answer\n",
    "\n",
    "lower_quantile"
   ]
  },
  {
   "cell_type": "code",
   "execution_count": null,
   "metadata": {
    "deletable": false,
    "editable": false,
    "nbgrader": {
     "cell_type": "code",
     "checksum": "78ac2dc569ec290d5ae87331ed8efd30",
     "grade": true,
     "grade_id": "cell-00effe9dd34235fa",
     "locked": true,
     "points": 1,
     "schema_version": 3,
     "solution": false,
     "task": false
    }
   },
   "outputs": [],
   "source": [
    "test_2.5()"
   ]
  },
  {
   "cell_type": "markdown",
   "metadata": {
    "deletable": false,
    "editable": false,
    "nbgrader": {
     "cell_type": "markdown",
     "checksum": "c7d218d5a27bc7de70941552bb6a8f27",
     "grade": false,
     "grade_id": "cell-6509ea4d827fc45e",
     "locked": true,
     "schema_version": 3,
     "solution": false,
     "task": false
    }
   },
   "source": [
    "**Question 2.6**\n",
    "<br> {points: 1}\n",
    "\n",
    "Plot the distribution of the sample `sample_1` using `geom_histogram` with bin widths of 2. Additionally, add vertical lines on top of the histogram at the location of the 0.25th and 0.75th quantiles using `geom_vline`. Ensure your plot has descriptive, human-readable labels with units and a title. Use the scaffolding provided below as a guide:\n",
    "\n",
    "```r\n",
    "sample_quantile_plot <- \n",
    "    ... %>% \n",
    "    ggplot(aes(x = ...)) +\n",
    "    theme_bw() +\n",
    "    ...(binwidth = ..., color = 'white') +\n",
    "    geom_vline(... = lower_quantile, colour = \"red\", size = 1) +\n",
    "    ...(xintercept = upper_quantile, colour = \"red\", size = 1) +\n",
    "    labs(title = \"Sample Distribution (150 observations from population)\",\n",
    "         x = ...) + \n",
    "    theme(text = element_text(size = 20))\n",
    "\n",
    "```\n",
    "\n",
    "_Assign your plot to an object called `sample_quantile_plot`._"
   ]
  },
  {
   "cell_type": "code",
   "execution_count": null,
   "metadata": {
    "deletable": false,
    "nbgrader": {
     "cell_type": "code",
     "checksum": "5d1cb4bfa6c0afa3be415b9bd133028e",
     "grade": false,
     "grade_id": "cell-f733caa7b3918b85",
     "locked": false,
     "schema_version": 3,
     "solution": true,
     "task": false
    }
   },
   "outputs": [],
   "source": [
    "# your code here\n",
    "fail() # No Answer - remove if you provide an answer\n",
    "\n",
    "sample_quantile_plot"
   ]
  },
  {
   "cell_type": "code",
   "execution_count": null,
   "metadata": {
    "deletable": false,
    "editable": false,
    "nbgrader": {
     "cell_type": "code",
     "checksum": "759eae3254135d1caba084aaa23981d6",
     "grade": true,
     "grade_id": "cell-4d14bf1e59651b64",
     "locked": true,
     "points": 1,
     "schema_version": 3,
     "solution": false,
     "task": false
    }
   },
   "outputs": [],
   "source": [
    "test_2.6()"
   ]
  },
  {
   "cell_type": "markdown",
   "metadata": {
    "deletable": false,
    "editable": false,
    "nbgrader": {
     "cell_type": "markdown",
     "checksum": "3bb61b1a51e28558b51a8efd9ac84884",
     "grade": false,
     "grade_id": "cell-d39d1428b752e6ef",
     "locked": true,
     "schema_version": 3,
     "solution": false,
     "task": false
    }
   },
   "source": [
    "**Question 2.7** \n",
    "<br> {points: 1}\n",
    "\n",
    "Calculate the proportion of `sample_1` that falls **below** the 0.75th quantile you calculated earlier (`upper_quantile`). Use the scaffolding provided below as a guide:\n",
    "\n",
    "```r\n",
    "p_below <-\n",
    "    sample_1 %>% \n",
    "    summarise(prop = mean(... < ...)) %>% \n",
    "    pull(...)\n",
    "```\n",
    "\n",
    "_Assign your answer to an object called `p_below`. Your answer should be a single number._"
   ]
  },
  {
   "cell_type": "code",
   "execution_count": null,
   "metadata": {
    "deletable": false,
    "nbgrader": {
     "cell_type": "code",
     "checksum": "9d763dd1a7bfe17fdb5fca30f17f087e",
     "grade": false,
     "grade_id": "cell-d881d2aa312309a9",
     "locked": false,
     "schema_version": 3,
     "solution": true,
     "task": false
    }
   },
   "outputs": [],
   "source": [
    "# your code here\n",
    "fail() # No Answer - remove if you provide an answer\n",
    "\n",
    "p_below"
   ]
  },
  {
   "cell_type": "code",
   "execution_count": null,
   "metadata": {
    "deletable": false,
    "editable": false,
    "nbgrader": {
     "cell_type": "code",
     "checksum": "7853b57e1f5ecbb3a2d35d7855f3ae09",
     "grade": true,
     "grade_id": "cell-6f42ef47e030eb3c",
     "locked": true,
     "points": 1,
     "schema_version": 3,
     "solution": false,
     "task": false
    }
   },
   "outputs": [],
   "source": [
    "test_2.7()"
   ]
  },
  {
   "cell_type": "markdown",
   "metadata": {
    "deletable": false,
    "editable": false,
    "nbgrader": {
     "cell_type": "markdown",
     "checksum": "ffdaacf49cc21620b726d5a35467de00",
     "grade": false,
     "grade_id": "cell-4182c2bf8c74aae5",
     "locked": true,
     "schema_version": 3,
     "solution": false,
     "task": false
    }
   },
   "source": [
    "**Question 2.8** \n",
    "<br> {points: 1}\n",
    "\n",
    "Calculate the proportion of `sample_1` that falls **between** the 0.25th and 0.75th quantiles that you calculated earlier (`lower_quantile` and `upper_quantile`, respectively).\n",
    "\n",
    "**Hint:** one method of calculating the answer to this question is very similar to the method used in the previous question.\n",
    "\n",
    "_Assign your answer to an object called `p_between`. Your answer should be a single number._"
   ]
  },
  {
   "cell_type": "code",
   "execution_count": null,
   "metadata": {
    "deletable": false,
    "nbgrader": {
     "cell_type": "code",
     "checksum": "4336cecfbda7a3986b175a4bb30a1e00",
     "grade": false,
     "grade_id": "cell-8eec876afcff3471",
     "locked": false,
     "schema_version": 3,
     "solution": true,
     "task": false
    }
   },
   "outputs": [],
   "source": [
    "# your code here\n",
    "fail() # No Answer - remove if you provide an answer\n",
    "\n",
    "p_between"
   ]
  },
  {
   "cell_type": "code",
   "execution_count": null,
   "metadata": {
    "deletable": false,
    "editable": false,
    "nbgrader": {
     "cell_type": "code",
     "checksum": "f16daa65c3b1ad236e036305a75d9d9a",
     "grade": true,
     "grade_id": "cell-ba5a902a9f7c2d70",
     "locked": true,
     "points": 1,
     "schema_version": 3,
     "solution": false,
     "task": false
    }
   },
   "outputs": [],
   "source": [
    "test_2.8()"
   ]
  },
  {
   "cell_type": "markdown",
   "metadata": {
    "deletable": false,
    "editable": false,
    "nbgrader": {
     "cell_type": "markdown",
     "checksum": "ca6dee0ccb9c06f4c732644669ca2dbe",
     "grade": false,
     "grade_id": "cell-2f242a5fcf503103",
     "locked": true,
     "schema_version": 3,
     "solution": false,
     "task": false
    }
   },
   "source": [
    "**Question 2.9**\n",
    "<br>{points: 1}\n",
    "\n",
    "Assume that we are certain that the sample `sample_1` is unbiased and representative of the population (i.e. we can consider it to be a good estimate of the population). Which of the interpretation **of the interval** (`lower_quantile`, `upper_quantile`) between the two quantiles of the sample distribution is **incorrect**?\n",
    "\n",
    "A. If we picked a random observation from the population, we can estimate that there is approximately a 50% chance that its diameter would fall within the interval (`lower_quantile`, `upper_quantile`).\n",
    "\n",
    "B. Approximately 25% of the diameters of the observations in the sample fall above the value of `upper_quantile`.\n",
    "\n",
    "C. If we draw another random sample and randomly picked an observation, there is approximately a 75% chance that its diameter would fall above the value of `lower_quantile`.\n",
    "\n",
    "D. We can estimate that approximately 25% of the diameters of the observations in the population fall below the value of `lower_quantile`.\n",
    "\n",
    "_Assign your answer to an object called `answer2.9`. Your answer should be a single character surrounded by quotes._"
   ]
  },
  {
   "cell_type": "code",
   "execution_count": null,
   "metadata": {
    "deletable": false,
    "nbgrader": {
     "cell_type": "code",
     "checksum": "915bd5f052f829e1a0ad49c7a2dc330c",
     "grade": false,
     "grade_id": "cell-15bf5fcc9a1caf7a",
     "locked": false,
     "schema_version": 3,
     "solution": true,
     "task": false
    }
   },
   "outputs": [],
   "source": [
    "# answer2.9 <- ...\n",
    "\n",
    "# your code here\n",
    "fail() # No Answer - remove if you provide an answer"
   ]
  },
  {
   "cell_type": "code",
   "execution_count": null,
   "metadata": {
    "deletable": false,
    "editable": false,
    "nbgrader": {
     "cell_type": "code",
     "checksum": "010b2b359de650775499b6d8921a79ab",
     "grade": true,
     "grade_id": "cell-05e987f5d1c2ac77",
     "locked": true,
     "points": 1,
     "schema_version": 3,
     "solution": false,
     "task": false
    }
   },
   "outputs": [],
   "source": [
    "test_2.9()"
   ]
  },
  {
   "cell_type": "markdown",
   "metadata": {
    "deletable": false,
    "editable": false,
    "nbgrader": {
     "cell_type": "markdown",
     "checksum": "697fef9b4320c8b04b90bf99cb57324c",
     "grade": false,
     "grade_id": "cell-9f27e8a9508261b2",
     "locked": true,
     "schema_version": 3,
     "solution": false,
     "task": false
    }
   },
   "source": [
    "**Question 2.10**\n",
    "<br>{points: 1}\n",
    "\n",
    "Like the previous question, assume that we are certain that the sample `sample_1` is unbiased and representative of the population (i.e. we can consider it to be a good estimate of the population). However, suppose that you calculated the 0.1th quantile for `lower_quantile` and the 0.6th quantile for `upper_quantile` for the sample, instead of the 0.25th and 0.75th quantiles as you did previously.\n",
    "\n",
    "Given the above scenario, would the correctness of the following interpretation of the interval (`lower_quantile`, `upper_quantile`) remain **unchanged**?\n",
    "\n",
    "> If we picked a random observation from the population, we can estimate that there is approximately a 50% chance that it would fall within the interval (`lower_quantile`, `upper_quantile`).\n",
    "\n",
    "_Assign your answer to an object called `answer2.10`. Your answer should be either \"true\" or \"false\", surrounded by quotes._"
   ]
  },
  {
   "cell_type": "code",
   "execution_count": null,
   "metadata": {
    "deletable": false,
    "nbgrader": {
     "cell_type": "code",
     "checksum": "c917edf8c3bc1325b83d95bbc8feea8e",
     "grade": false,
     "grade_id": "cell-7cb07710ff20a77a",
     "locked": false,
     "schema_version": 3,
     "solution": true,
     "task": false
    }
   },
   "outputs": [],
   "source": [
    "# answer2.10 <- ...\n",
    "\n",
    "# your code here\n",
    "fail() # No Answer - remove if you provide an answer"
   ]
  },
  {
   "cell_type": "code",
   "execution_count": null,
   "metadata": {
    "deletable": false,
    "editable": false,
    "nbgrader": {
     "cell_type": "code",
     "checksum": "bbc07b9bed4a9074781864d35f23cc38",
     "grade": true,
     "grade_id": "cell-7c17acaaaaafaf03",
     "locked": true,
     "points": 1,
     "schema_version": 3,
     "solution": false,
     "task": false
    }
   },
   "outputs": [],
   "source": [
    "test_2.10()"
   ]
  },
  {
   "cell_type": "markdown",
   "metadata": {
    "deletable": false,
    "editable": false,
    "nbgrader": {
     "cell_type": "markdown",
     "checksum": "181316faa3b135e913817670ff954118",
     "grade": false,
     "grade_id": "cell-d5e11d0ae75cba1a",
     "locked": true,
     "schema_version": 3,
     "solution": false,
     "task": false
    }
   },
   "source": [
    "## 3. Formalizing Confidence Intervals\n",
    "\n",
    "Now that we understand quantiles and how we can interpret them, we can rephrase the vague question of\n",
    "> How many of the bootstrap distributions **reasonably \"cover\"** the true mean of the population?\n",
    "\n",
    "that we encountered at the start of the previous section. Specifically, we could ask something like\n",
    "> Does the interval between the 0.1th and 0.9th quantiles capture the true mean of the population?\n",
    "\n",
    "instead, where the answer does not rely on one's intuition. That interval referenced in the question above is called a **confidence interval**, and in particular, it is called an **80% confidence interval**. One should think of a confidence interval as a **range of plausible** values for the population parameter, which may or may not fall within the interval. This is significantly different than a point estimate, which is a **single plausible value** for the population parameter. A popular analogy used to compare point estimates to confidence intervals is fishing with a spear vs. fishing with a net, respectively.\n",
    "\n",
    "<br>\n",
    "\n",
    "![](https://d33wubrfki0l68.cloudfront.net/45f6d2e16255dbcb42de86336e1e49ef732aa5da/8bcd0/images/shutterstock/point_estimate_vs_conf_int.png)\n",
    "<div style=\"text-align: center\"><i>Image from <a href=\"https://moderndive.com/8-confidence-intervals.html#ci-build-up\">ModernDive (Figure 8.15)</i></a></div><br>\n",
    "With a spear, we are aiming for a particular fish (a single value) and hoping to catch it, whereas with a net, we are aiming for a larger area in space (a range of plausible values) and hoping that the fish is captured in the net."
   ]
  },
  {
   "cell_type": "markdown",
   "metadata": {
    "deletable": false,
    "editable": false,
    "nbgrader": {
     "cell_type": "markdown",
     "checksum": "d9f2dd2455331b347dcae4c95ae58873",
     "grade": false,
     "grade_id": "cell-f79e0d2285a3d223",
     "locked": true,
     "schema_version": 3,
     "solution": false,
     "task": false
    }
   },
   "source": [
    "### Calculating & Visualizing a Single 90% Confidence Interval Using Bootstrapping\n",
    "To get a clearer picture of how we can use quantiles and a bootstrap sampling distribution to calculate a confidence interval, let's calculate one from scratch. Specifically, we'll calculate a single 90% confidence interval for the mean of the `diameter` variable for the population `sunset_pop`. Afterwards, we'll visualize it and compare it to the true mean.\n",
    "> As usual, it is important to note that we do not usually have access to the population parameter of interest; many of these questions are purely for your understanding of confidence intervals. "
   ]
  },
  {
   "cell_type": "markdown",
   "metadata": {
    "deletable": false,
    "editable": false,
    "nbgrader": {
     "cell_type": "markdown",
     "checksum": "7532b3a418b00de62097fa93b4ee5e13",
     "grade": false,
     "grade_id": "cell-e79671482c0c74aa",
     "locked": true,
     "schema_version": 3,
     "solution": false,
     "task": false
    }
   },
   "source": [
    "**Question 3.0** \n",
    "<br> {points: 1}\n",
    "\n",
    "Take a single random sample of size 30 from `sunset_pop` using `rep_sample_n` and a seed of 0120. Ensure the resulting data frame only has a single column: `diameter`. Use the scaffolding provided below as a guide:\n",
    "\n",
    "```r\n",
    "sample_2 <- \n",
    "    sunset_pop %>% \n",
    "    rep_sample_n(reps = ..., size = ..., replace = ...) %>% \n",
    "    ungroup() %>% \n",
    "    select(...)\n",
    "```\n",
    "\n",
    "**Note:** don't forget that `rep_sample_n` returns a grouped data frame.\n",
    "\n",
    "_Assign your data frame to an object called `sample_2`._"
   ]
  },
  {
   "cell_type": "code",
   "execution_count": null,
   "metadata": {
    "deletable": false,
    "nbgrader": {
     "cell_type": "code",
     "checksum": "818a2468d1a6640170310f2bcd48f1f6",
     "grade": false,
     "grade_id": "cell-9662bf3faea4b384",
     "locked": false,
     "schema_version": 3,
     "solution": true,
     "task": false
    }
   },
   "outputs": [],
   "source": [
    "set.seed(0120) # DO NOT CHANGE!\n",
    "\n",
    "# your code here\n",
    "fail() # No Answer - remove if you provide an answer\n",
    "head(sample_2)"
   ]
  },
  {
   "cell_type": "code",
   "execution_count": null,
   "metadata": {
    "deletable": false,
    "editable": false,
    "nbgrader": {
     "cell_type": "code",
     "checksum": "019fd32a7836b161864d6cc98fdaf35c",
     "grade": true,
     "grade_id": "cell-655ca510c6b77ddd",
     "locked": true,
     "points": 1,
     "schema_version": 3,
     "solution": false,
     "task": false
    }
   },
   "outputs": [],
   "source": [
    "test_3.0()"
   ]
  },
  {
   "cell_type": "markdown",
   "metadata": {
    "deletable": false,
    "editable": false,
    "nbgrader": {
     "cell_type": "markdown",
     "checksum": "aeb41e8fae2865744e13df91c47ef1fd",
     "grade": false,
     "grade_id": "cell-c91006d0be04f2ed",
     "locked": true,
     "schema_version": 3,
     "solution": false,
     "task": false
    }
   },
   "source": [
    "**Question 3.1** \n",
    "<br> {points: 1}\n",
    "\n",
    "Generate a bootstrap distribution of sample means from `sample_2` by re-sampling with replacement 1000 times using `rep_sample_n` and a seed of 5127. Then, calculate the mean of each bootstrap sample. Name the new column containing the bootstrap sample means `mean_diameter`, and select only that column. Use the scaffolding provided below as a guide:\n",
    "```r\n",
    "bootstrap_dist <- \n",
    "    sample_2 %>% \n",
    "    rep_sample_n(reps = ..., size = ..., replace = ...) %>% \n",
    "    group_by(...) %>% \n",
    "    ...(mean_diameter = ...(diameter)) %>% \n",
    "    select(mean_diameter)\n",
    "```\n",
    "\n",
    "_Assign your data frame to an object called `bootstrap_dist`._"
   ]
  },
  {
   "cell_type": "code",
   "execution_count": null,
   "metadata": {
    "deletable": false,
    "nbgrader": {
     "cell_type": "code",
     "checksum": "85e98a5c8bf41a7d1ef9f273a24f1183",
     "grade": false,
     "grade_id": "cell-3210e119a4b45f52",
     "locked": false,
     "schema_version": 3,
     "solution": true,
     "task": false
    }
   },
   "outputs": [],
   "source": [
    "set.seed(5127) # DO NOT CHANGE!\n",
    "\n",
    "# your code here\n",
    "fail() # No Answer - remove if you provide an answer\n",
    "head(bootstrap_dist)"
   ]
  },
  {
   "cell_type": "code",
   "execution_count": null,
   "metadata": {
    "deletable": false,
    "editable": false,
    "nbgrader": {
     "cell_type": "code",
     "checksum": "52b56bb12c56ade4e1d8dd475c8cca3d",
     "grade": true,
     "grade_id": "cell-468f79ddac80be06",
     "locked": true,
     "points": 1,
     "schema_version": 3,
     "solution": false,
     "task": false
    }
   },
   "outputs": [],
   "source": [
    "test_3.1()"
   ]
  },
  {
   "cell_type": "markdown",
   "metadata": {
    "deletable": false,
    "editable": false,
    "nbgrader": {
     "cell_type": "markdown",
     "checksum": "375b024ae7cddd5823f0714301e8d7cc",
     "grade": false,
     "grade_id": "cell-c687afc82623f277",
     "locked": true,
     "schema_version": 3,
     "solution": false,
     "task": false
    }
   },
   "source": [
    "**Question 3.2** \n",
    "<br> {points: 1}\n",
    "\n",
    "Calculate the 5th and 95th percentiles of `bootstrap_dist` using the `quantile` and `summarize` functions. Name the column containing the 5th percentile `ci_lower` and the column containing the 95th percentile `ci_upper`. Use the scaffolding provided below as a guide:\n",
    "\n",
    "```r\n",
    "ci <- \n",
    "    bootstrap_dist %>% \n",
    "    ...(ci_lower = quantile(..., 0.05),\n",
    "              ci_upper = ...(mean_diameter, ...))\n",
    "```\n",
    "\n",
    "_Assign your data frame to an object called `ci`._"
   ]
  },
  {
   "cell_type": "code",
   "execution_count": null,
   "metadata": {
    "deletable": false,
    "nbgrader": {
     "cell_type": "code",
     "checksum": "7dd8bb470fd3982c2e16b2f06a91da0f",
     "grade": false,
     "grade_id": "cell-5c3ecec57f5961ed",
     "locked": false,
     "schema_version": 3,
     "solution": true,
     "task": false
    }
   },
   "outputs": [],
   "source": [
    "# your code here\n",
    "fail() # No Answer - remove if you provide an answer\n",
    "head(ci)"
   ]
  },
  {
   "cell_type": "code",
   "execution_count": null,
   "metadata": {
    "deletable": false,
    "editable": false,
    "nbgrader": {
     "cell_type": "code",
     "checksum": "25424d0f6e5da845fb7b4b460f65d333",
     "grade": true,
     "grade_id": "cell-06d2c37656961ba4",
     "locked": true,
     "points": 1,
     "schema_version": 3,
     "solution": false,
     "task": false
    }
   },
   "outputs": [],
   "source": [
    "test_3.2()"
   ]
  },
  {
   "cell_type": "markdown",
   "metadata": {
    "deletable": false,
    "editable": false,
    "nbgrader": {
     "cell_type": "markdown",
     "checksum": "e2014af8db007a024972b0ea8cc7680f",
     "grade": false,
     "grade_id": "cell-49ce2db61cd6187f",
     "locked": true,
     "schema_version": 3,
     "solution": false,
     "task": false
    }
   },
   "source": [
    "**Question 3.3**\n",
    "<br> {points: 1}\n",
    "\n",
    "Plot the confidence interval (represented by a transluscent rectangle) and true mean of the population (represented by a vertical line, generated by `geom_vline`) over the bootstrap distribution `sample_2s` (visualized as a histogram with bin widths of 1, generated by `geom_histogram`). Use the scaffolding provided below as a guide:\n",
    "\n",
    "```r\n",
    "ci_plot <- \n",
    "    ... %>% \n",
    "    ggplot(aes(x = ...)) +\n",
    "    ...(binwidth = ..., colour = \"white\", fill = \"grey\") +\n",
    "    annotate(\"rect\", xmin = ci$ci_lower, xmax = ci$ci_upper, ymin = 0, ymax = Inf,\n",
    "             fill = \"deepskyblue\",\n",
    "             alpha = 0.3) +\n",
    "    geom_vline(xintercept = pop_mean,\n",
    "               size = 2,\n",
    "               colour = \"red\") +\n",
    "    labs(title = \"Bootstrap distribution with 90% confidence interval\",\n",
    "         x = \"Mean tree diameter (cm)\") +\n",
    "    theme_bw() # Sets a theme for better visibility\n",
    "```\n",
    "\n",
    "**Note:** recall that you already calculated the true mean of the population in the and saved it to an object named `pop_mean`. \n",
    "\n",
    "_Assign your plot to an object called `ci_plot`._"
   ]
  },
  {
   "cell_type": "code",
   "execution_count": null,
   "metadata": {
    "deletable": false,
    "nbgrader": {
     "cell_type": "code",
     "checksum": "834a61d580660a32a40df0d326166168",
     "grade": false,
     "grade_id": "cell-eb29c1f5f79ebd0d",
     "locked": false,
     "schema_version": 3,
     "solution": true,
     "task": false
    }
   },
   "outputs": [],
   "source": [
    "# your code here\n",
    "fail() # No Answer - remove if you provide an answer\n",
    "\n",
    "ci_plot"
   ]
  },
  {
   "cell_type": "code",
   "execution_count": null,
   "metadata": {
    "deletable": false,
    "editable": false,
    "nbgrader": {
     "cell_type": "code",
     "checksum": "8fec8121a401bd8b2eeb0fae41d722d8",
     "grade": true,
     "grade_id": "cell-f9895e50fbccccc1",
     "locked": true,
     "points": 1,
     "schema_version": 3,
     "solution": false,
     "task": false
    }
   },
   "outputs": [],
   "source": [
    "test_3.3()"
   ]
  },
  {
   "cell_type": "markdown",
   "metadata": {
    "deletable": false,
    "editable": false,
    "nbgrader": {
     "cell_type": "markdown",
     "checksum": "d212480892614c224ecf26fa6fccfb4f",
     "grade": false,
     "grade_id": "cell-8f5235449d935656",
     "locked": true,
     "schema_version": 3,
     "solution": false,
     "task": false
    }
   },
   "source": [
    "**Question 3.4**\n",
    "<br>{points: 1}\n",
    "\n",
    "True or false?\n",
    "\n",
    "The parameter of interest (the mean diameter of public street trees located in sunset) is captured by the confidence interval that we calculated in **question 3.2** and visualized above.\n",
    "\n",
    "_Assign your answer to an object called `answer3.4`. Your answer should be either \"true\" or \"false\", surrounded by quotes._"
   ]
  },
  {
   "cell_type": "code",
   "execution_count": null,
   "metadata": {
    "deletable": false,
    "nbgrader": {
     "cell_type": "code",
     "checksum": "2b4f7394fbf078c68b8c6b128ba271f7",
     "grade": false,
     "grade_id": "cell-fc39e7ebca011d85",
     "locked": false,
     "schema_version": 3,
     "solution": true,
     "task": false
    }
   },
   "outputs": [],
   "source": [
    "# answer3.4 <- ...\n",
    "\n",
    "# your code here\n",
    "fail() # No Answer - remove if you provide an answer"
   ]
  },
  {
   "cell_type": "code",
   "execution_count": null,
   "metadata": {
    "deletable": false,
    "editable": false,
    "nbgrader": {
     "cell_type": "code",
     "checksum": "3d6764157a2a6f6432b73e27766d9f9a",
     "grade": true,
     "grade_id": "cell-c3b87542b1ddd91e",
     "locked": true,
     "points": 1,
     "schema_version": 3,
     "solution": false,
     "task": false
    }
   },
   "outputs": [],
   "source": [
    "test_3.4()"
   ]
  },
  {
   "cell_type": "markdown",
   "metadata": {
    "deletable": false,
    "editable": false,
    "nbgrader": {
     "cell_type": "markdown",
     "checksum": "8b7072f87952b92da5c354cd8d193832",
     "grade": false,
     "grade_id": "cell-5045ad6c08aad93f",
     "locked": true,
     "schema_version": 3,
     "solution": false,
     "task": false
    }
   },
   "source": [
    "### Calculating & Visualizing Many 90% Confidence Intervals Using Bootstrapping\n",
    "How can we interpret a confidence interval when we don't have access to the population parameter (i.e. in reality)? Does our interpretation change as the width of the interval changes? How could we choose the width in the first place? To answer these questions, we're going to produce 100 different 90% confidence intervals to see how they behave. The bulk of the work has already been done for you in the cell below. We took 100 samples of size 30 and used each one to produce an estimate of the sampling distribution using bootstrapping with 1000 repetitions, essentially repeating the procedure you followed at the start of this section 100 times over."
   ]
  },
  {
   "cell_type": "code",
   "execution_count": null,
   "metadata": {
    "deletable": false,
    "editable": false,
    "nbgrader": {
     "cell_type": "code",
     "checksum": "40fd8d7d7aab812a968f64a556d91ddb",
     "grade": false,
     "grade_id": "cell-44364736f4a0c09a",
     "locked": true,
     "schema_version": 3,
     "solution": false,
     "task": false
    }
   },
   "outputs": [],
   "source": [
    "# Run this cell before continuing.\n",
    "sampling_dist_estimates <- read_csv(\"sampling_dist_estimates.csv\")\n",
    "bootstrap_samples <- read_csv(\"bootstrap_samples.csv\")"
   ]
  },
  {
   "cell_type": "markdown",
   "metadata": {
    "deletable": false,
    "editable": false,
    "nbgrader": {
     "cell_type": "markdown",
     "checksum": "5387cae40cac9b0481d2baa4e96fd705",
     "grade": false,
     "grade_id": "cell-e4c194c8f89c4d32",
     "locked": true,
     "schema_version": 3,
     "solution": false,
     "task": false
    }
   },
   "source": [
    "However, here are a few questions to check your understanding of what went on behind the scenes.\n",
    "\n",
    "_Use the following information to answer the **next 3 questions**._\n",
    "\n",
    "Consider the following two data frames:\n",
    "1. `sampling_dist_estimates`: contains 100 estimates of the sampling distribution as 100 different tibbles within the column `bootstrap_mean`. The `sample_id` column ranges from 1 to 100 (since we took 100 samples)\n",
    "2. `bootstrap_samples`: a bootstrap data frame, where `sample_id == 1` for all rows"
   ]
  },
  {
   "cell_type": "code",
   "execution_count": null,
   "metadata": {
    "deletable": false,
    "editable": false,
    "nbgrader": {
     "cell_type": "code",
     "checksum": "b7a3703a7bc5d5320a704e46ecf88d4d",
     "grade": false,
     "grade_id": "cell-050b99444ff299dd",
     "locked": true,
     "schema_version": 3,
     "solution": false,
     "task": false
    }
   },
   "outputs": [],
   "source": [
    "print(sampling_dist_estimates)\n",
    "print(bootstrap_samples)"
   ]
  },
  {
   "cell_type": "markdown",
   "metadata": {
    "deletable": false,
    "editable": false,
    "nbgrader": {
     "cell_type": "markdown",
     "checksum": "6a4453baf832eef9c73a943d7d599bc8",
     "grade": false,
     "grade_id": "cell-89d9be6420a6b0c2",
     "locked": true,
     "schema_version": 3,
     "solution": false,
     "task": false
    }
   },
   "source": [
    "**Question 3.5**\n",
    "<br>{points: 1}\n",
    "\n",
    "True or false?\n",
    "\n",
    "`bootstrap_samples` contains all of the bootstrap samples that were used to calculate the `bootstrap_mean` variable in `sampling_dist_estimates` for all of the 100 original samples.\n",
    "\n",
    "_Assign your answer to an object called `answer3.5`. Your answer should be either \"true\" or \"false\", surrounded by quotes._"
   ]
  },
  {
   "cell_type": "code",
   "execution_count": null,
   "metadata": {
    "deletable": false,
    "nbgrader": {
     "cell_type": "code",
     "checksum": "5b0f6fa4f6eae6c958ef1d9d241ba212",
     "grade": false,
     "grade_id": "cell-6119935a39ff6560",
     "locked": false,
     "schema_version": 3,
     "solution": true,
     "task": false
    }
   },
   "outputs": [],
   "source": [
    "# answer3.5 <- ...\n",
    "\n",
    "# your code here\n",
    "fail() # No Answer - remove if you provide an answer"
   ]
  },
  {
   "cell_type": "code",
   "execution_count": null,
   "metadata": {
    "deletable": false,
    "editable": false,
    "nbgrader": {
     "cell_type": "code",
     "checksum": "6c319ec28704f515a21eea857c4977db",
     "grade": true,
     "grade_id": "cell-38d43d4c70b0e718",
     "locked": true,
     "points": 1,
     "schema_version": 3,
     "solution": false,
     "task": false
    }
   },
   "outputs": [],
   "source": [
    "test_3.5()"
   ]
  },
  {
   "cell_type": "markdown",
   "metadata": {
    "deletable": false,
    "editable": false,
    "nbgrader": {
     "cell_type": "markdown",
     "checksum": "f1d651113dec9bbbca5e6387fddbe716",
     "grade": false,
     "grade_id": "cell-00d2e4f54afbf569",
     "locked": true,
     "schema_version": 3,
     "solution": false,
     "task": false
    }
   },
   "source": [
    "**Question 3.6**\n",
    "<br>{points: 1}\n",
    "\n",
    "True or false?\n",
    "\n",
    "Given **only** the `sampling_dist_estimates` data frame, we could produce `bootstrap_samples` data frame.\n",
    "\n",
    "_Assign your answer to an object called `answer3.6`. Your answer should be either \"true\" or \"false\", surrounded by quotes._"
   ]
  },
  {
   "cell_type": "code",
   "execution_count": null,
   "metadata": {
    "deletable": false,
    "nbgrader": {
     "cell_type": "code",
     "checksum": "a0d5bf6493917cee336024e1d9af5a5d",
     "grade": false,
     "grade_id": "cell-1098ceb1db0279d4",
     "locked": false,
     "schema_version": 3,
     "solution": true,
     "task": false
    }
   },
   "outputs": [],
   "source": [
    "# answer3.6 <- ...\n",
    "\n",
    "# your code here\n",
    "fail() # No Answer - remove if you provide an answer"
   ]
  },
  {
   "cell_type": "code",
   "execution_count": null,
   "metadata": {
    "deletable": false,
    "editable": false,
    "nbgrader": {
     "cell_type": "code",
     "checksum": "2e30a13ab82689ff9c1e9b736ef84bab",
     "grade": true,
     "grade_id": "cell-3368d315642a0ac1",
     "locked": true,
     "points": 1,
     "schema_version": 3,
     "solution": false,
     "task": false
    }
   },
   "outputs": [],
   "source": [
    "test_3.6()"
   ]
  },
  {
   "cell_type": "markdown",
   "metadata": {
    "deletable": false,
    "editable": false,
    "nbgrader": {
     "cell_type": "markdown",
     "checksum": "215b6934f99349d90940620a039105e6",
     "grade": false,
     "grade_id": "cell-adfe76c5059f0f22",
     "locked": true,
     "schema_version": 3,
     "solution": false,
     "task": false
    }
   },
   "source": [
    "**Question 3.7** \n",
    "<br> {points: 1}\n",
    "\n",
    "Use `bootstrap_samples` to re-create the bootstrap distribution from `sampling_dist_estimates` that was generated using `sample_id == 1`. Your resulting data frame should have two columns: `replicate` and `bootstrap_mean`.\n",
    "\n",
    "_Assign your data frame to an object called `sampling_dist_estimate`._"
   ]
  },
  {
   "cell_type": "code",
   "execution_count": null,
   "metadata": {
    "deletable": false,
    "nbgrader": {
     "cell_type": "code",
     "checksum": "c2d92d8510cd5a8f93afffbec8a3fc25",
     "grade": false,
     "grade_id": "cell-42da114f25e415ff",
     "locked": false,
     "schema_version": 3,
     "solution": true,
     "task": false
    }
   },
   "outputs": [],
   "source": [
    "# your code here\n",
    "fail() # No Answer - remove if you provide an answer\n",
    "\n",
    "print(sampling_dist_estimate)"
   ]
  },
  {
   "cell_type": "code",
   "execution_count": null,
   "metadata": {
    "deletable": false,
    "editable": false,
    "nbgrader": {
     "cell_type": "code",
     "checksum": "fc8a3a77b187fbaab314772fe550bebf",
     "grade": true,
     "grade_id": "cell-f5c211ade1be51d0",
     "locked": true,
     "points": 1,
     "schema_version": 3,
     "solution": false,
     "task": false
    }
   },
   "outputs": [],
   "source": [
    "test_3.7()"
   ]
  },
  {
   "cell_type": "markdown",
   "metadata": {
    "deletable": false,
    "editable": false,
    "nbgrader": {
     "cell_type": "markdown",
     "checksum": "79412bd3b0ce71a9d3dd323e3fce32d6",
     "grade": false,
     "grade_id": "cell-cc5f6279584f2648",
     "locked": true,
     "schema_version": 3,
     "solution": false,
     "task": false
    }
   },
   "source": [
    "**Question 3.8** \n",
    "<br> {points: 1}\n",
    "\n",
    "Now that we understand where `sampling_dist_estimates` came from, calculate a 90% confidence interval from each bootstrap distribution using the 0.05th and 0.95th quantiles. Use the scaffolding provided below as a guide:\n",
    "\n",
    "```r\n",
    "intervals <- \n",
    "    sampling_dist_estimates %>% \n",
    "    ...(...) %>% \n",
    "    summarize(ci_lower = ...(bootstrap_mean, ...),\n",
    "              ci_upper = ...(..., ...))\n",
    "```\n",
    "\n",
    "**Hint:** The procedure is very similar to **question 3.2**, but with one extra step.\n",
    "\n",
    "_Assign your data frame to an object called `intervals`._"
   ]
  },
  {
   "cell_type": "code",
   "execution_count": null,
   "metadata": {
    "deletable": false,
    "nbgrader": {
     "cell_type": "code",
     "checksum": "d9d52d32128045d543bb1730de433e5d",
     "grade": false,
     "grade_id": "cell-cfcd85d8fdffd524",
     "locked": false,
     "schema_version": 3,
     "solution": true,
     "task": false
    }
   },
   "outputs": [],
   "source": [
    "# your code here\n",
    "fail() # No Answer - remove if you provide an answer\n",
    "\n",
    "print(intervals)"
   ]
  },
  {
   "cell_type": "code",
   "execution_count": null,
   "metadata": {
    "deletable": false,
    "editable": false,
    "nbgrader": {
     "cell_type": "code",
     "checksum": "febd710620699b8335d0001d9555837b",
     "grade": true,
     "grade_id": "cell-d2e624405bcd8f41",
     "locked": true,
     "points": 1,
     "schema_version": 3,
     "solution": false,
     "task": false
    }
   },
   "outputs": [],
   "source": [
    "test_3.8()"
   ]
  },
  {
   "cell_type": "markdown",
   "metadata": {
    "deletable": false,
    "editable": false,
    "nbgrader": {
     "cell_type": "markdown",
     "checksum": "cd04c388c55e6083d7b004d4b1b87dfc",
     "grade": false,
     "grade_id": "cell-d62749d5f278136a",
     "locked": true,
     "schema_version": 3,
     "solution": false,
     "task": false
    }
   },
   "source": [
    "**Question 3.9** \n",
    "<br> {points: 1}\n",
    "\n",
    "Add a variable named `captured` to `intervals` that indicates whether the confidence interval described in that row captures the true mean (`pop_mean`). If the true mean is captured, `captured` should be `TRUE`, otherwise it should be `FALSE`. Use the scaffolding provided below as a guide:\n",
    "\n",
    "```r\n",
    "intervals_captured <- \n",
    "    intervals %>% \n",
    "    mutate(captured = (ci_lower <= ... & pop_mean <= ...))\n",
    "```\n",
    "\n",
    "_Assign your answer to an object called `intervals_captured`. Your answer should be a single number._"
   ]
  },
  {
   "cell_type": "code",
   "execution_count": null,
   "metadata": {
    "deletable": false,
    "nbgrader": {
     "cell_type": "code",
     "checksum": "c54c3ea3dd0940d8ff143114e5b90e21",
     "grade": false,
     "grade_id": "cell-f04e9dff8487a991",
     "locked": false,
     "schema_version": 3,
     "solution": true,
     "task": false
    }
   },
   "outputs": [],
   "source": [
    "# your code here\n",
    "fail() # No Answer - remove if you provide an answer\n",
    "head(intervals_captured)"
   ]
  },
  {
   "cell_type": "code",
   "execution_count": null,
   "metadata": {
    "deletable": false,
    "editable": false,
    "nbgrader": {
     "cell_type": "code",
     "checksum": "5e68f3b739d20b42e12a4c827c51c38f",
     "grade": true,
     "grade_id": "cell-84b7cebc8e7d4385",
     "locked": true,
     "points": 1,
     "schema_version": 3,
     "solution": false,
     "task": false
    }
   },
   "outputs": [],
   "source": [
    "test_3.9()"
   ]
  },
  {
   "cell_type": "markdown",
   "metadata": {
    "deletable": false,
    "editable": false,
    "nbgrader": {
     "cell_type": "markdown",
     "checksum": "3c92688640bbbe26a581a2fe07c35b77",
     "grade": false,
     "grade_id": "cell-5cc314f8a903e16d",
     "locked": true,
     "schema_version": 3,
     "solution": false,
     "task": false
    }
   },
   "source": [
    "**Question 3.10**\n",
    "<br> {points: 1}\n",
    "\n",
    "Visualize all 100 confidence intervals. Each interval is represented by a horizontal line (`geom_segment`) and is coloured depending on whether it captures the true mean of the population, which is represented as a vertical line (`geom_vline`). The ID of the sample should be on the y-axis. Use the scaffolding provided below as a guide:\n",
    "\n",
    "```r\n",
    "many_ci_plot <- \n",
    "    ... %>%\n",
    "    ggplot() +\n",
    "    scale_colour_manual(breaks = c(\"TRUE\", \"FALSE\"), # Change colour scale for better visibility.\n",
    "                        values = c(\"grey\", \"black\")) +\n",
    "    ...(aes(x = ...,\n",
    "                     xend = ...,\n",
    "                     y = sample_id,\n",
    "                     yend = sample_id,\n",
    "                     colour = ...)) +\n",
    "    ...(xintercept = ..., colour = \"red\", size = 1) +\n",
    "    labs(title = \"100 90% Confidence Intervals\",\n",
    "         y = \"Sample ID\",\n",
    "         x = \"Diameter (cm)\",\n",
    "         colour = \"Captured?\") +\n",
    "    theme_bw() # Sets a theme for better visibility.\n",
    "```\n",
    "\n",
    "_Assign your plot to an object called `many_ci_plot`._"
   ]
  },
  {
   "cell_type": "code",
   "execution_count": null,
   "metadata": {
    "deletable": false,
    "nbgrader": {
     "cell_type": "code",
     "checksum": "fe3895af9714b09d0c25caec77beb342",
     "grade": false,
     "grade_id": "cell-5e4348b127e03245",
     "locked": false,
     "schema_version": 3,
     "solution": true,
     "task": false
    }
   },
   "outputs": [],
   "source": [
    "options(repr.plot.width = 5, repr.plot.height = 6)\n",
    "\n",
    "# your code here\n",
    "fail() # No Answer - remove if you provide an answer\n",
    "\n",
    "many_ci_plot"
   ]
  },
  {
   "cell_type": "code",
   "execution_count": null,
   "metadata": {
    "deletable": false,
    "editable": false,
    "nbgrader": {
     "cell_type": "code",
     "checksum": "9606434424e06eaaa268a50f04d742f0",
     "grade": true,
     "grade_id": "cell-2d43ad356138ddbc",
     "locked": true,
     "points": 1,
     "schema_version": 3,
     "solution": false,
     "task": false
    }
   },
   "outputs": [],
   "source": [
    "test_3.10()"
   ]
  },
  {
   "cell_type": "markdown",
   "metadata": {
    "deletable": false,
    "editable": false,
    "nbgrader": {
     "cell_type": "markdown",
     "checksum": "39d326c1f2da136427ee1c65acac9995",
     "grade": false,
     "grade_id": "cell-b42b0e3fe75aa077",
     "locked": true,
     "schema_version": 3,
     "solution": false,
     "task": false
    }
   },
   "source": [
    "**Question 3.11**\n",
    "<br>{points: 1}\n",
    "\n",
    "Using the plot above, how many of the 100 confidence intervals \"capture\" the true mean of the population?\n",
    "\n",
    "_Assign your answer to an object called `answer3.11`. Your answer should be a single integer._"
   ]
  },
  {
   "cell_type": "code",
   "execution_count": null,
   "metadata": {
    "deletable": false,
    "nbgrader": {
     "cell_type": "code",
     "checksum": "cc32a6c480eda1aaa7b66984b06bd764",
     "grade": false,
     "grade_id": "cell-8f63c686e8f83932",
     "locked": false,
     "schema_version": 3,
     "solution": true,
     "task": false
    }
   },
   "outputs": [],
   "source": [
    "# answer3.11 <- ...\n",
    "\n",
    "# your code here\n",
    "fail() # No Answer - remove if you provide an answer"
   ]
  },
  {
   "cell_type": "code",
   "execution_count": null,
   "metadata": {
    "deletable": false,
    "editable": false,
    "nbgrader": {
     "cell_type": "code",
     "checksum": "27e3db9c7494e4e4b03415b764e52a3b",
     "grade": true,
     "grade_id": "cell-21fc9714f214f663",
     "locked": true,
     "points": 1,
     "schema_version": 3,
     "solution": false,
     "task": false
    }
   },
   "outputs": [],
   "source": [
    "test_3.11()"
   ]
  },
  {
   "cell_type": "markdown",
   "metadata": {
    "deletable": false,
    "editable": false,
    "nbgrader": {
     "cell_type": "markdown",
     "checksum": "580c706518be5471bc03eaf6d6e1d550",
     "grade": false,
     "grade_id": "cell-1a3b8516cd23c692",
     "locked": true,
     "schema_version": 3,
     "solution": false,
     "task": false
    }
   },
   "source": [
    "**Question 3.12**\n",
    "<br>{points: 1}\n",
    "\n",
    "If we repeated the above experiment, but with 1000 different 90% confidence intervals instead of 100, how many of the intervals would you **expect** to capture the true mean of the population?\n",
    "\n",
    "_Assign your answer to an object called `answer3.12`. Your answer should be a single integer._"
   ]
  },
  {
   "cell_type": "code",
   "execution_count": null,
   "metadata": {
    "deletable": false,
    "nbgrader": {
     "cell_type": "code",
     "checksum": "a0daee792b58a33e2a480e6cea6a10d2",
     "grade": false,
     "grade_id": "cell-bb9290a90cf1a962",
     "locked": false,
     "schema_version": 3,
     "solution": true,
     "task": false
    }
   },
   "outputs": [],
   "source": [
    "# answer3.12 <- ...\n",
    "\n",
    "# your code here\n",
    "fail() # No Answer - remove if you provide an answer"
   ]
  },
  {
   "cell_type": "code",
   "execution_count": null,
   "metadata": {
    "deletable": false,
    "editable": false,
    "nbgrader": {
     "cell_type": "code",
     "checksum": "7e9b935a0cccc9b4fbbd16537f731433",
     "grade": true,
     "grade_id": "cell-a82f209ebd0dc15e",
     "locked": true,
     "points": 1,
     "schema_version": 3,
     "solution": false,
     "task": false
    }
   },
   "outputs": [],
   "source": [
    "test_3.12()"
   ]
  },
  {
   "cell_type": "markdown",
   "metadata": {
    "deletable": false,
    "editable": false,
    "nbgrader": {
     "cell_type": "markdown",
     "checksum": "346331f01e6b8c0111d994bd674f3df7",
     "grade": false,
     "grade_id": "cell-8b120440dfa4831f",
     "locked": true,
     "schema_version": 3,
     "solution": false,
     "task": false
    }
   },
   "source": [
    "**Question 3.13**\n",
    "<br>{points: 1}\n",
    "\n",
    "Suppose you **did not** have data for the entire population of public street trees in Sunset. Consider a single **90% confidence interval** that you calculated using by bootstrapping a single sample of size $n$.\n",
    "\n",
    "True or false?\n",
    "\n",
    "We can interpret the confidence interval as: we are 90% confident that the true mean is captured by the interval. Or, in other words, across all 90% confidence intervals that could be calculated for the mean of the population of interest, we can expect that 90% of the intervals contain the true mean. \n",
    "\n",
    "_Assign your answer to an object called `answer3.13`. Your answer should be either \"true\" or \"false\", surrounded by quotes._"
   ]
  },
  {
   "cell_type": "code",
   "execution_count": null,
   "metadata": {
    "deletable": false,
    "nbgrader": {
     "cell_type": "code",
     "checksum": "44150755686d6e57996e0cffe50a7e00",
     "grade": false,
     "grade_id": "cell-88e21c6567e30d81",
     "locked": false,
     "schema_version": 3,
     "solution": true,
     "task": false
    }
   },
   "outputs": [],
   "source": [
    "# answer3.13 <- ...\n",
    "\n",
    "# your code here\n",
    "fail() # No Answer - remove if you provide an answer"
   ]
  },
  {
   "cell_type": "code",
   "execution_count": null,
   "metadata": {
    "deletable": false,
    "editable": false,
    "nbgrader": {
     "cell_type": "code",
     "checksum": "994629e40a2541ba73e7d0f1c6467947",
     "grade": true,
     "grade_id": "cell-db5f3330adee8e77",
     "locked": true,
     "points": 1,
     "schema_version": 3,
     "solution": false,
     "task": false
    }
   },
   "outputs": [],
   "source": [
    "test_3.13()"
   ]
  },
  {
   "cell_type": "markdown",
   "metadata": {
    "deletable": false,
    "editable": false,
    "nbgrader": {
     "cell_type": "markdown",
     "checksum": "82b36b834b8c2d53367b363bd7bdcfde",
     "grade": false,
     "grade_id": "cell-efa920c654bbd2a6",
     "locked": true,
     "schema_version": 3,
     "solution": false,
     "task": false
    }
   },
   "source": [
    "## 4. Conclusion\n",
    "Here are a few more questions that target some of the nuances related to confidence intervals."
   ]
  },
  {
   "cell_type": "markdown",
   "metadata": {
    "deletable": false,
    "editable": false,
    "nbgrader": {
     "cell_type": "markdown",
     "checksum": "a5c8f28905dccb125c3c274ea915cfff",
     "grade": false,
     "grade_id": "cell-c2dd7916ef433d4c",
     "locked": true,
     "schema_version": 3,
     "solution": false,
     "task": false
    }
   },
   "source": [
    "**Question 4.0**\n",
    "<br>{points: 1}\n",
    "\n",
    "Suppose you **did not** have access to data for the entire population of public street trees in Sunset. Assume you took a single sample of size 75 and used bootstrapping to calculate a 95% confidence interval for the **standard deviation** of the diameter of the population, which turned out to be\n",
    "> (12.52cm, 22.33cm)\n",
    "\n",
    "True or false?\n",
    "\n",
    "There is a 95% chance that the true standard deviation of the diameter of the population of public street trees in Sunset will fall within this interval.\n",
    "\n",
    "_Assign your answer to an object called `answer4.0`. Your answer should be either \"true\" or \"false\", surrounded by quotes._"
   ]
  },
  {
   "cell_type": "code",
   "execution_count": null,
   "metadata": {
    "deletable": false,
    "nbgrader": {
     "cell_type": "code",
     "checksum": "fb7e4a1325b32d7d578101edc4c11d98",
     "grade": false,
     "grade_id": "cell-e8d058e353ab4f72",
     "locked": false,
     "schema_version": 3,
     "solution": true,
     "task": false
    }
   },
   "outputs": [],
   "source": [
    "# answer4.0 <- ...\n",
    "\n",
    "# your code here\n",
    "fail() # No Answer - remove if you provide an answer"
   ]
  },
  {
   "cell_type": "code",
   "execution_count": null,
   "metadata": {
    "deletable": false,
    "editable": false,
    "nbgrader": {
     "cell_type": "code",
     "checksum": "d268daf5d4d2a0804921334073a9a66d",
     "grade": true,
     "grade_id": "cell-bbd47776f99243d4",
     "locked": true,
     "points": 1,
     "schema_version": 3,
     "solution": false,
     "task": false
    }
   },
   "outputs": [],
   "source": [
    "test_4.0()"
   ]
  },
  {
   "cell_type": "markdown",
   "metadata": {
    "deletable": false,
    "editable": false,
    "nbgrader": {
     "cell_type": "markdown",
     "checksum": "fa7803c203c5437e746612693df46921",
     "grade": false,
     "grade_id": "cell-0a22a20c35a80f51",
     "locked": true,
     "schema_version": 3,
     "solution": false,
     "task": false
    }
   },
   "source": [
    "**Question 4.1**\n",
    "<br>{points: 1}\n",
    "\n",
    "Suppose you were interested in calculating a 90% confidence interval for the **true proportion** of UBC students who lived on campus during their first year. Which of the following can be considered as \"random\"?\n",
    "\n",
    "A. The true proportion of the population of interest.\n",
    "\n",
    "B. The lower bound of a 99% confidence interval for the proportion of the population of interest.\n",
    "\n",
    "C. The upper bound of a 99% confidence interval for the proportion of the population of interest.\n",
    "\n",
    "D. A confidence interval of (0.44, 0.82) that you calculated by taking a sample of size 50 from the population of UBC students.\n",
    "\n",
    "E. All of the above.\n",
    "\n",
    "F. Only A, B, and C.\n",
    "\n",
    "G. Only B, C, and D.\n",
    "\n",
    "H. Only A and D.\n",
    "\n",
    "I. Only B and C.\n",
    "\n",
    "_Assign your answer to an object called `answer4.1`. Your answer should be a single character surrounded by quotes._"
   ]
  },
  {
   "cell_type": "code",
   "execution_count": null,
   "metadata": {
    "deletable": false,
    "nbgrader": {
     "cell_type": "code",
     "checksum": "132cdf28c4def2f627ed4ed0d6761a0c",
     "grade": false,
     "grade_id": "cell-0f3aa2532492f4c5",
     "locked": false,
     "schema_version": 3,
     "solution": true,
     "task": false
    }
   },
   "outputs": [],
   "source": [
    "# answer4.1 <- ...\n",
    "\n",
    "# your code here\n",
    "fail() # No Answer - remove if you provide an answer"
   ]
  },
  {
   "cell_type": "code",
   "execution_count": null,
   "metadata": {
    "deletable": false,
    "editable": false,
    "nbgrader": {
     "cell_type": "code",
     "checksum": "6ab647311923217d60f7b428e4eaf57f",
     "grade": true,
     "grade_id": "cell-2def133d8fcf3278",
     "locked": true,
     "points": 1,
     "schema_version": 3,
     "solution": false,
     "task": false
    }
   },
   "outputs": [],
   "source": [
    "test_4.1()"
   ]
  },
  {
   "cell_type": "markdown",
   "metadata": {
    "deletable": false,
    "editable": false,
    "nbgrader": {
     "cell_type": "markdown",
     "checksum": "37afce45f7da32854fb0d285e54a966c",
     "grade": false,
     "grade_id": "cell-f5e68ef10f101d6c",
     "locked": true,
     "schema_version": 3,
     "solution": false,
     "task": false
    }
   },
   "source": [
    "**Question 4.2**\n",
    "<br>{points: 1}\n",
    "\n",
    "Suppose you calculated two 50% confidence intervals for the mean of the number of years that it takes a UBC student to complete their undergraduate degree using bootstrapping. For the first confidence interval, you used the 0.1th and 0.6th quantiles, and for the second, you used the 0.25th and 0.75th quantiles.\n",
    "\n",
    "True or false?\n",
    "\n",
    "Both confidence intervals are valid **and** they can be interpretted in the same way.\n",
    "\n",
    "_Assign your answer to an object called `answer4.2`. Your answer should be either \"true\" or \"false\", surrounded by quotes._"
   ]
  },
  {
   "cell_type": "code",
   "execution_count": null,
   "metadata": {
    "deletable": false,
    "nbgrader": {
     "cell_type": "code",
     "checksum": "5ca4e50d295f6b91470bcf040b2fcef6",
     "grade": false,
     "grade_id": "cell-2d10c846379de836",
     "locked": false,
     "schema_version": 3,
     "solution": true,
     "task": false
    }
   },
   "outputs": [],
   "source": [
    "# answer4.2 <- ...\n",
    "\n",
    "# your code here\n",
    "fail() # No Answer - remove if you provide an answer"
   ]
  },
  {
   "cell_type": "code",
   "execution_count": null,
   "metadata": {
    "deletable": false,
    "editable": false,
    "nbgrader": {
     "cell_type": "code",
     "checksum": "29aaebe67dc4b6aceb758399112a8bcd",
     "grade": true,
     "grade_id": "cell-957569e757b313b3",
     "locked": true,
     "points": 1,
     "schema_version": 3,
     "solution": false,
     "task": false
    }
   },
   "outputs": [],
   "source": [
    "test_4.2()"
   ]
  },
  {
   "cell_type": "markdown",
   "metadata": {
    "deletable": false,
    "editable": false,
    "nbgrader": {
     "cell_type": "markdown",
     "checksum": "365eb1c2563071309220bfee55127ae4",
     "grade": false,
     "grade_id": "cell-df732433c2fb284d",
     "locked": true,
     "schema_version": 3,
     "solution": false,
     "task": false
    }
   },
   "source": [
    "**Question 4.3**\n",
    "<br>{points: 1}\n",
    "\n",
    "Consider the following (**impossible**) scenario:\n",
    "\n",
    "> Congratulations! You've just made a statistical breakthrough and found a way to access the true sampling distribution for any population using only a single sample! There is no need for bootstrapping anymore, as you can determine the true sampling distribution directly.\n",
    "> \n",
    "> However, you're still unable to work out the population parameter you are interested in. So, you decide to use the 0.1th and 0.9th quantiles of true sampling distribution to formulate a confidence interval for the population parameter.\n",
    "\n",
    "What confidence level is **most likely** to be associated with this confidence interval that you calculated in the scenario above?\n",
    "\n",
    "A. 0%\n",
    "\n",
    "B. 50%\n",
    "\n",
    "C. 80%\n",
    "\n",
    "D. 100%\n",
    "\n",
    "_Assign your answer to an object called `answer4.3`. Your answer should be a single character surrounded by quotes._"
   ]
  },
  {
   "cell_type": "code",
   "execution_count": null,
   "metadata": {
    "deletable": false,
    "nbgrader": {
     "cell_type": "code",
     "checksum": "122fbeba6c65707fa56efbb999b0b90e",
     "grade": false,
     "grade_id": "cell-9d1f6cfbbe4c3ce5",
     "locked": false,
     "schema_version": 3,
     "solution": true,
     "task": false
    }
   },
   "outputs": [],
   "source": [
    "# answer4.3 <- ...\n",
    "\n",
    "# your code here\n",
    "fail() # No Answer - remove if you provide an answer"
   ]
  },
  {
   "cell_type": "code",
   "execution_count": null,
   "metadata": {
    "deletable": false,
    "editable": false,
    "nbgrader": {
     "cell_type": "code",
     "checksum": "4d91af6a81c601565225160e5dd541c7",
     "grade": true,
     "grade_id": "cell-fd193800f5a81b99",
     "locked": true,
     "points": 1,
     "schema_version": 3,
     "solution": false,
     "task": false
    }
   },
   "outputs": [],
   "source": [
    "test_4.3()"
   ]
  }
 ],
 "metadata": {
  "docker": {
   "latest_image_tag": "v0.4.0"
  },
  "jupytext": {
   "formats": "ipynb,Rmd"
  },
  "kernelspec": {
   "display_name": "R",
   "language": "R",
   "name": "ir"
  },
  "language_info": {
   "codemirror_mode": "r",
   "file_extension": ".r",
   "mimetype": "text/x-r-source",
   "name": "R",
   "pygments_lexer": "r",
   "version": "4.0.0"
  }
 },
 "nbformat": 4,
 "nbformat_minor": 4
}
