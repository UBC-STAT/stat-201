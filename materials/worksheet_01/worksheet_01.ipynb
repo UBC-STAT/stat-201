{
 "cells": [
  {
   "cell_type": "markdown",
   "metadata": {
    "deletable": false,
    "editable": false,
    "nbgrader": {
     "cell_type": "markdown",
     "checksum": "aff777346a0d9e44c27d51d98a1f3fb2",
     "grade": false,
     "grade_id": "cell-ccd1e2501ff21f28",
     "locked": true,
     "schema_version": 3,
     "solution": false,
     "task": false
    }
   },
   "source": [
    "# Worksheet 1: Introduction to Statistical Inference and Sampling"
   ]
  },
  {
   "cell_type": "markdown",
   "metadata": {
    "deletable": false,
    "editable": false,
    "nbgrader": {
     "cell_type": "markdown",
     "checksum": "e532132906f4a137dbbf424eed3263bc",
     "grade": false,
     "grade_id": "cell-a3b416b82b7bac72",
     "locked": true,
     "schema_version": 3,
     "solution": false,
     "task": false
    }
   },
   "source": [
    "### Welcome to STAT 201: Statistical Inference for Data Science\n",
    "\n",
    "Each week you will complete a lecture assignment like this one. Before we get started, there are some administrative details.\n",
    "\n",
    "You can't learn technical subjects without hands-on practice. The weekly lecture worksheets and tutorials are an important part of the course. Collaborating on lecture worksheets and tutorial assignments is more than okay -- it's encouraged! You should rarely be stuck for more than a few minutes on questions in lecture or tutorial, so ask a neighbor, TA or an instructor for help (explaining things is beneficial, too -- the best way to solidify your knowledge of a subject is to explain it). Please don't just share answers, though. Everyone must submit a copy of their own work.\n",
    "\n",
    "You can read more about course policies on the course website."
   ]
  },
  {
   "cell_type": "markdown",
   "metadata": {
    "deletable": false,
    "editable": false,
    "nbgrader": {
     "cell_type": "markdown",
     "checksum": "971169a29765fcc89417fdde4b4006b6",
     "grade": false,
     "grade_id": "cell-7f137055c244e8bb",
     "locked": true,
     "schema_version": 3,
     "solution": false,
     "task": false
    }
   },
   "source": [
    "#### Lecture and Tutorial Learning Goals:\n",
    "After completing this week's lecture and tutorial work, you will be able to:\n",
    "\n",
    "1. Describe real-world examples of questions that can be answered with the statistical inference methods presented in this course (e.g., estimation, hypothesis testing).\n",
    "1. Name common population parameters (mean, proportion, median, variance, standard deviation, and correlation) that are often estimated using sample data, and write computer scripts to calculate estimates of these parameters.\n",
    "1. Define the following terms in relation to statistical inference: population, sample, population parameter, estimate, sampling distribution.\n",
    "1. Write a computer script to draw random samples from a finite population (e.g., census data).\n",
    "1. Write a computer script to reveal a sampling distribution from a finite population."
   ]
  },
  {
   "cell_type": "markdown",
   "metadata": {
    "deletable": false,
    "editable": false,
    "nbgrader": {
     "cell_type": "markdown",
     "checksum": "7886b4112bd5cb031438041a15eef22a",
     "grade": false,
     "grade_id": "cell-b3e882daf16912d9",
     "locked": true,
     "schema_version": 3,
     "solution": false,
     "task": false
    }
   },
   "source": [
    "DSCI 100 is a prerequisite for this course so students should be comfortable with the tutorial and worksheet style and structure. Student should also be familar with answering  questions in a jupyter notebook and assessing if their answers are correct before submission. \n"
   ]
  },
  {
   "cell_type": "markdown",
   "metadata": {
    "deletable": false,
    "editable": false,
    "nbgrader": {
     "cell_type": "markdown",
     "checksum": "acbc5d265d1f5f73d367da7d0ee83b0c",
     "grade": false,
     "grade_id": "cell-82dfbe5a9829fa67",
     "locked": true,
     "schema_version": 3,
     "solution": false,
     "task": false
    }
   },
   "source": [
    "This worksheet covers [Chapter 7 - 7.3 of the Modern Dive Textbook](https://moderndive.com/7-sampling.html) of the online textbook. You should read this chapter before attempting this worksheet."
   ]
  },
  {
   "cell_type": "code",
   "execution_count": null,
   "metadata": {
    "deletable": false,
    "editable": false,
    "nbgrader": {
     "cell_type": "code",
     "checksum": "83ebf1ceeb0b3f8f07494bccb9dd9730",
     "grade": false,
     "grade_id": "cell-ddd97f3228533f17",
     "locked": true,
     "schema_version": 3,
     "solution": false,
     "task": false
    }
   },
   "outputs": [],
   "source": [
    "# Run this cell before continuing.\n",
    "library(tidyverse)\n",
    "library(repr)\n",
    "library(digest)\n",
    "library(infer)\n",
    "library(gridExtra)\n",
    "library(taxyvr)\n",
    "library(cowplot)\n",
    "source(\"tests_worksheet_01.R\")"
   ]
  },
  {
   "cell_type": "markdown",
   "metadata": {
    "deletable": false,
    "editable": false,
    "nbgrader": {
     "cell_type": "markdown",
     "checksum": "631187bd0003b5d8455ed3310e5dd0f6",
     "grade": false,
     "grade_id": "cell-4f02f27ed4ce78da",
     "locked": true,
     "schema_version": 3,
     "solution": false,
     "task": false
    }
   },
   "source": [
    "## 1. Warm Up Questions\n",
    "\n",
    "In DSCI 100, we learned about [6 different types of data analysis questions we can ask and answer](https://datasciencebook.ca/intro.html#asking-a-question). Let's start this worksheet off by reminding us what an inferential question is."
   ]
  },
  {
   "cell_type": "markdown",
   "metadata": {
    "deletable": false,
    "editable": false,
    "nbgrader": {
     "cell_type": "markdown",
     "checksum": "9dcfeb1cb49ad10a2738eadda183ac7f",
     "grade": false,
     "grade_id": "cell-2a0842175d90ec51",
     "locked": true,
     "schema_version": 3,
     "solution": false,
     "task": false
    }
   },
   "source": [
    "**Question 1.0**\n",
    "<br>{points: 1}\n",
    "\n",
    "Which of the following is an example of an inferential question:\n",
    "\n",
    "A. How many candy stores are there in Kitsilano?   \n",
    "    \n",
    "B. Does the average sleep duration of individuals who consume melatonin 30 minutes before bed differ from those who do not?     \n",
    "     \n",
    "C. If I study 28 hours, what score will I obtain on this exam?     \n",
    "     \n",
    "D. Does owning a houseplant lead to the adoption of a puppy?     \n",
    " \n",
    "_Assign your answer to an object called `answer1.0`. Your answer should be a single character surrounded by quotes._"
   ]
  },
  {
   "cell_type": "code",
   "execution_count": null,
   "metadata": {
    "deletable": false,
    "nbgrader": {
     "cell_type": "code",
     "checksum": "516163d7bef1470c5ec4ea043ec2af78",
     "grade": false,
     "grade_id": "cell-7f45af42ce3654c9",
     "locked": false,
     "schema_version": 3,
     "solution": true,
     "task": false
    }
   },
   "outputs": [],
   "source": [
    "# answer1.0 <- ...\n",
    "\n",
    "# your code here\n",
    "fail() # No Answer - remove if you provide an answer"
   ]
  },
  {
   "cell_type": "code",
   "execution_count": null,
   "metadata": {
    "deletable": false,
    "editable": false,
    "nbgrader": {
     "cell_type": "code",
     "checksum": "69ec74474282cd4c36a5d7affb9cd793",
     "grade": true,
     "grade_id": "cell-370ef28ef4d2afef",
     "locked": true,
     "points": 1,
     "schema_version": 3,
     "solution": false,
     "task": false
    }
   },
   "outputs": [],
   "source": [
    "test_1.0()"
   ]
  },
  {
   "cell_type": "markdown",
   "metadata": {
    "deletable": false,
    "editable": false,
    "nbgrader": {
     "cell_type": "markdown",
     "checksum": "72ad847f1cdd59f20d778cc3e88fb90f",
     "grade": false,
     "grade_id": "cell-2ade049ef0bdae06",
     "locked": true,
     "schema_version": 3,
     "solution": false,
     "task": false
    }
   },
   "source": [
    "**Question 1.1**\n",
    "<br>{points: 1}\n",
    "\n",
    "True or false?\n",
    "\n",
    "\"How does taking the new experimental drug result in lower blood pressure?\" is an example of an inferential question.\n",
    "\n",
    "_Assign your answer to an object called `answer1.1`. Your answer should be either \"true\" or \"false\", surrounded by quotes._"
   ]
  },
  {
   "cell_type": "code",
   "execution_count": null,
   "metadata": {
    "deletable": false,
    "nbgrader": {
     "cell_type": "code",
     "checksum": "81b6de776f2d5f171840db410e13d350",
     "grade": false,
     "grade_id": "cell-a59dd67fdf2b5b14",
     "locked": false,
     "schema_version": 3,
     "solution": true,
     "task": false
    }
   },
   "outputs": [],
   "source": [
    "# answer1.1 <- ...\n",
    "\n",
    "# your code here\n",
    "fail() # No Answer - remove if you provide an answer"
   ]
  },
  {
   "cell_type": "code",
   "execution_count": null,
   "metadata": {
    "deletable": false,
    "editable": false,
    "nbgrader": {
     "cell_type": "code",
     "checksum": "c5b914036234bc708ab3c08d09e80336",
     "grade": true,
     "grade_id": "cell-24f6f39cbad38803",
     "locked": true,
     "points": 1,
     "schema_version": 3,
     "solution": false,
     "task": false
    }
   },
   "outputs": [],
   "source": [
    "test_1.1()"
   ]
  },
  {
   "cell_type": "markdown",
   "metadata": {
    "deletable": false,
    "editable": false,
    "nbgrader": {
     "cell_type": "markdown",
     "checksum": "9d8d007a72e62a7525c7b9eb36b532d7",
     "grade": false,
     "grade_id": "cell-f05dc7047d85b2cf",
     "locked": true,
     "schema_version": 3,
     "solution": false,
     "task": false
    }
   },
   "source": [
    "**Question 1.2**\n",
    "<br>{points: 1}\n",
    "\n",
    "Which one of these R package can be used for virtual sampling?\n",
    "\n",
    "A. `dbplyr`\n",
    "\n",
    "B. `rep_sample_n`\n",
    "\n",
    "C. `broom`\n",
    "\n",
    "D. `infer`\n",
    "        \n",
    "_Assign your answer to an object called `answer1.2`. Your answer should be a single character surrounded by quotes._"
   ]
  },
  {
   "cell_type": "code",
   "execution_count": null,
   "metadata": {
    "deletable": false,
    "nbgrader": {
     "cell_type": "code",
     "checksum": "bf635edbd2f56a0e2d2c078fe0b5497f",
     "grade": false,
     "grade_id": "cell-6fe8a5c60f5088fe",
     "locked": false,
     "schema_version": 3,
     "solution": true,
     "task": false
    }
   },
   "outputs": [],
   "source": [
    "# answer1.2 <- ...\n",
    "\n",
    "# your code here\n",
    "fail() # No Answer - remove if you provide an answer"
   ]
  },
  {
   "cell_type": "code",
   "execution_count": null,
   "metadata": {
    "deletable": false,
    "editable": false,
    "nbgrader": {
     "cell_type": "code",
     "checksum": "7b94cd150aa25d6a0e71168b6aa190a9",
     "grade": true,
     "grade_id": "cell-ca46f7274bbb8e82",
     "locked": true,
     "points": 1,
     "schema_version": 3,
     "solution": false,
     "task": false
    }
   },
   "outputs": [],
   "source": [
    "test_1.2()"
   ]
  },
  {
   "cell_type": "markdown",
   "metadata": {
    "deletable": false,
    "editable": false,
    "nbgrader": {
     "cell_type": "markdown",
     "checksum": "6f30460313efbf37ac9fb60763f7fd39",
     "grade": false,
     "grade_id": "cell-082896050f56b83a",
     "locked": true,
     "schema_version": 3,
     "solution": false,
     "task": false
    }
   },
   "source": [
    "**Question 1.3**\n",
    "<br> {points: 1}\n",
    "\n",
    "Read the mixed-up table below and assign each object in the code cell below the integer associated with its correct definition.\n",
    "\n",
    "> **Note:** some of these terms may have different meanings in other fields, but these are the definitions that we will be using in this course.\n",
    "\n",
    "| <p align=\"left\"> Term | <p align=\"left\"> Definition |\n",
    "|----------------|------------|\n",
    "| <p align=\"left\">mean | <p align=\"left\">1. The number of entities/object with a specific characteristic divided by the total number of entities/objects. |\n",
    "| <p align=\"left\">proportion | <p align=\"left\"> 2. The mean of the sum of the squared distances of each observation from the mean value of all observations.|\n",
    "| <p align=\"left\">median | <p align=\"left\">3. The middle observation of a sorted variable’s data.|\n",
    "| <p align=\"left\">variance | <p align=\"left\">4. The strength \\& direction an upward or downward relationship between two variables.|\n",
    "| <p align=\"left\">standard deviation | <p align=\"left\">5. The sum of all of the data observations divided by how many observations there are.|\n",
    "| <p align=\"left\">correlation | <p align=\"left\">6. The square root of the variance.|\n",
    "    \n",
    "_Assign your answers to the objects given below (`mean`, `proportion`, `median`, `variance`, `standard_deviation`, and `correlation`). Your answers should each be a single integer._"
   ]
  },
  {
   "cell_type": "code",
   "execution_count": null,
   "metadata": {
    "deletable": false,
    "nbgrader": {
     "cell_type": "code",
     "checksum": "c141904588db458a0191dc2d5af2f67b",
     "grade": false,
     "grade_id": "cell-32e8a32bc1e8e019",
     "locked": false,
     "schema_version": 3,
     "solution": true,
     "task": false
    }
   },
   "outputs": [],
   "source": [
    "# mean <- ...\n",
    "# proportion <- ...\n",
    "# median <- ...\n",
    "# variance <- ...\n",
    "# standard_deviation <- ...\n",
    "# correlation <- ...\n",
    "\n",
    "# your code here\n",
    "fail() # No Answer - remove if you provide an answer"
   ]
  },
  {
   "cell_type": "code",
   "execution_count": null,
   "metadata": {
    "deletable": false,
    "editable": false,
    "nbgrader": {
     "cell_type": "code",
     "checksum": "c39e2938e8b0d33b4065f4a1abc43cc3",
     "grade": true,
     "grade_id": "cell-80a34af1e398fc32",
     "locked": true,
     "points": 1,
     "schema_version": 3,
     "solution": false,
     "task": false
    }
   },
   "outputs": [],
   "source": [
    "test_1.3()"
   ]
  },
  {
   "cell_type": "markdown",
   "metadata": {
    "deletable": false,
    "editable": false,
    "nbgrader": {
     "cell_type": "markdown",
     "checksum": "b10912d02d809447b4e3f42f9673c9ce",
     "grade": false,
     "grade_id": "cell-9b7cbd596e8db154",
     "locked": true,
     "schema_version": 3,
     "solution": false,
     "task": false
    }
   },
   "source": [
    "**Question 1.4**\n",
    "<br> {points: 1}\n",
    "\n",
    "Read the mixed-up table below and assign each object in the code cell below the integer associated with its correct definition. \n",
    "\n",
    ">**Note:** some of these terms may have different meanings in other fields, but these are the definitions that we will be using in this course.\n",
    "\n",
    "| Terms |  Definitions |\n",
    "|----------------|------------|\n",
    "| <p align=\"left\">point estimate | <p align=\"left\">1. the entire set of entities/objects of interest |\n",
    "| <p align=\"left\">population | <p align=\"left\">2. a numerical summary value about the population|\n",
    "| <p align=\"left\">population parameter | <p align=\"left\">3. a subset of entities/objects in the population |\n",
    "| <p align=\"left\">sample |  <p align=\"left\">4. a single number calculated from a sample that estimates an unknown population parameter of interest |\n",
    "| <p align=\"left\">observation | <p align=\"left\"> 5. a distribution of point estimates, where each point estimate was calculated from a different random sample from the same population |\n",
    "| <p align=\"left\">sampling distribution | <p align=\"left\">6. a quantity or quality (or a set of these) from a single member of a population |\n",
    "    \n",
    "_Assign your answers to the objects given below (`point_estimate`, `population`, `population_parameter`, `sample`, `observation`, and `sampling_distribution`). Your answers should each be a single integer._"
   ]
  },
  {
   "cell_type": "code",
   "execution_count": null,
   "metadata": {
    "deletable": false,
    "lines_to_next_cell": 2,
    "nbgrader": {
     "cell_type": "code",
     "checksum": "c2327e70643e9e46472e9dd66dc99f4c",
     "grade": false,
     "grade_id": "cell-a1c8c8030496cf62",
     "locked": false,
     "schema_version": 3,
     "solution": true,
     "task": false
    }
   },
   "outputs": [],
   "source": [
    "# point_estimate <- ...\n",
    "# population <- ...\n",
    "# population_parameter <- ...\n",
    "# sample <- ...\n",
    "# observation <- ...\n",
    "# sampling_distribution <- ...\n",
    "\n",
    "# your code here\n",
    "fail() # No Answer - remove if you provide an answer"
   ]
  },
  {
   "cell_type": "code",
   "execution_count": null,
   "metadata": {
    "deletable": false,
    "editable": false,
    "nbgrader": {
     "cell_type": "code",
     "checksum": "97d3733e6ffdcf132d3e74add4f265a6",
     "grade": true,
     "grade_id": "cell-4a24ccad4eac3a5b",
     "locked": true,
     "points": 1,
     "schema_version": 3,
     "solution": false,
     "task": false
    }
   },
   "outputs": [],
   "source": [
    "test_1.4()"
   ]
  },
  {
   "cell_type": "markdown",
   "metadata": {
    "deletable": false,
    "editable": false,
    "nbgrader": {
     "cell_type": "markdown",
     "checksum": "b3b4ad0bd90d8704e35ad99b0bf42327",
     "grade": false,
     "grade_id": "cell-0214e5bdd912ce9f",
     "locked": true,
     "schema_version": 3,
     "solution": false,
     "task": false
    }
   },
   "source": [
    "**Question 1.5**\n",
    "<br> {points: 1}\n",
    "\n",
    "True or false?\n",
    "\n",
    "A distribution shows all possible values (or intervals) of a variable, and how often they occur.\n",
    "\n",
    "_Assign your answer to an object called `answer1.5`. Your answer should be either \"true\" or \"false\" surrounded by quotes._"
   ]
  },
  {
   "cell_type": "code",
   "execution_count": null,
   "metadata": {
    "deletable": false,
    "nbgrader": {
     "cell_type": "code",
     "checksum": "e78cac59aa1d84ca20ac7cf8b9f794f0",
     "grade": false,
     "grade_id": "cell-58619a3b699b4eb8",
     "locked": false,
     "schema_version": 3,
     "solution": true,
     "task": false
    }
   },
   "outputs": [],
   "source": [
    "# answer1.5 <- ...\n",
    "\n",
    "# your code here\n",
    "fail() # No Answer - remove if you provide an answer"
   ]
  },
  {
   "cell_type": "code",
   "execution_count": null,
   "metadata": {
    "deletable": false,
    "editable": false,
    "nbgrader": {
     "cell_type": "code",
     "checksum": "9db2124d74fbdfb9f8664365b40f4d08",
     "grade": true,
     "grade_id": "cell-f3553853de48de4f",
     "locked": true,
     "points": 1,
     "schema_version": 3,
     "solution": false,
     "task": false
    }
   },
   "outputs": [],
   "source": [
    "test_1.5()"
   ]
  },
  {
   "cell_type": "markdown",
   "metadata": {
    "deletable": false,
    "editable": false,
    "nbgrader": {
     "cell_type": "markdown",
     "checksum": "bab21c56333fcdf4856af957e072b996",
     "grade": false,
     "grade_id": "cell-13a54771fe022451",
     "locked": true,
     "schema_version": 3,
     "solution": false,
     "task": false
    }
   },
   "source": [
    "**Question 1.6**\n",
    "<br> {points: 1}\n",
    "\n",
    "Tiffany got 10 packages of Skittles for Halloween. Every time she opened a new package, she recorded the number of red Skittles that it contained. The table below describes the distribution of the number of red Skittles after she opened all 10 packages.\n",
    "\n",
    "| # Red Skittles | Frequency |\n",
    "|----------------|-----------|\n",
    "| 0              | 0         |\n",
    "| 1              | 1         |\n",
    "| 2              | 3         |\n",
    "| 3              | 3         |\n",
    "| 4              | 2         |\n",
    "| 5              | 1         |\n",
    "| > 5            | 0         |\n",
    "\n",
    "Which histogram below could be used to describe the distribution of the number of red Skittles?\n",
    "\n",
    "_Assign your answer to an object called `answer1.6`. Your answer should be a single character surrounded by quotes._"
   ]
  },
  {
   "cell_type": "code",
   "execution_count": null,
   "metadata": {
    "deletable": false,
    "editable": false,
    "nbgrader": {
     "cell_type": "code",
     "checksum": "41de50a54c6aa3f07ba3ba66de01ae62",
     "grade": false,
     "grade_id": "cell-be8a82d56273d53e",
     "locked": true,
     "schema_version": 3,
     "solution": false,
     "task": false
    }
   },
   "outputs": [],
   "source": [
    "# Run this cell before continuing.\n",
    "source(\"skittles.R\")"
   ]
  },
  {
   "cell_type": "code",
   "execution_count": null,
   "metadata": {
    "deletable": false,
    "nbgrader": {
     "cell_type": "code",
     "checksum": "12fc8a36a4c6e34f6a751d7ac48880c3",
     "grade": false,
     "grade_id": "cell-eae0ae97905ad1e3",
     "locked": false,
     "schema_version": 3,
     "solution": true,
     "task": false
    }
   },
   "outputs": [],
   "source": [
    "# answer1.6 <- ...\n",
    "\n",
    "# your code here\n",
    "fail() # No Answer - remove if you provide an answer"
   ]
  },
  {
   "cell_type": "code",
   "execution_count": null,
   "metadata": {
    "deletable": false,
    "editable": false,
    "nbgrader": {
     "cell_type": "code",
     "checksum": "6075017c98fd706e11d15b8448a778dc",
     "grade": true,
     "grade_id": "cell-d2292a2dede39897",
     "locked": true,
     "points": 1,
     "schema_version": 3,
     "solution": false,
     "task": false
    }
   },
   "outputs": [],
   "source": [
    "test_1.6()"
   ]
  },
  {
   "cell_type": "markdown",
   "metadata": {
    "deletable": false,
    "editable": false,
    "nbgrader": {
     "cell_type": "markdown",
     "checksum": "f440909762d9c2d3b1be339e33df6bcd",
     "grade": false,
     "grade_id": "cell-1319bf8e4602d44d",
     "locked": true,
     "schema_version": 3,
     "solution": false,
     "task": false
    }
   },
   "source": [
    "Use the histogram below to answer the next **two** questions. It was produced using the `mpg` variable from the `mtcars` dataset. Note that it is not necessary to understand the code used to produce the histogram to answer the questions."
   ]
  },
  {
   "cell_type": "code",
   "execution_count": null,
   "metadata": {
    "deletable": false,
    "editable": false,
    "nbgrader": {
     "cell_type": "code",
     "checksum": "e4feb5e829245cba971b58b57e3ef42c",
     "grade": false,
     "grade_id": "cell-68be4905e01e2179",
     "locked": true,
     "schema_version": 3,
     "solution": false,
     "task": false
    }
   },
   "outputs": [],
   "source": [
    "# Run this cell before continuing.\n",
    "options(repr.plot.width = 4, repr.plot.height = 3)\n",
    "\n",
    "mtcars %>%\n",
    "    ggplot(aes(x = mpg)) +\n",
    "    scale_y_continuous(breaks = seq(0, 8, 1)) +\n",
    "    geom_histogram(boundary = 10, binwidth = 2, colour = \"white\") +\n",
    "    scale_x_continuous(breaks = seq(10, 34, 2)) +\n",
    "    xlab(\"Miles per gallon (mpg)\") +\n",
    "    ylab(\"Frequency\") +\n",
    "    ggtitle(\"Distribution of miles per gallon \\nrating for all cars in the mtcars dataset\")"
   ]
  },
  {
   "cell_type": "markdown",
   "metadata": {
    "deletable": false,
    "editable": false,
    "nbgrader": {
     "cell_type": "markdown",
     "checksum": "cfd34c56beffda440832d4065b696c3b",
     "grade": false,
     "grade_id": "cell-951363965048a8c7",
     "locked": true,
     "schema_version": 3,
     "solution": false,
     "task": false
    }
   },
   "source": [
    "**Question 1.7**\n",
    "<br>{points: 1}\n",
    "\n",
    "How many cars are there in the `mtcars` dataset with a `mpg` rating of less than 12?\n",
    "\n",
    "_Assign your answer to an object called `answer1.7`. Your answer should be a single integer._"
   ]
  },
  {
   "cell_type": "code",
   "execution_count": null,
   "metadata": {
    "deletable": false,
    "nbgrader": {
     "cell_type": "code",
     "checksum": "36e7975da4eb6d5dc8ade1b6f0e50be6",
     "grade": false,
     "grade_id": "cell-1fd2456f311a850a",
     "locked": false,
     "schema_version": 3,
     "solution": true,
     "task": false
    }
   },
   "outputs": [],
   "source": [
    "# answer1.7 <- ...\n",
    "\n",
    "# your code here\n",
    "fail() # No Answer - remove if you provide an answer"
   ]
  },
  {
   "cell_type": "code",
   "execution_count": null,
   "metadata": {
    "deletable": false,
    "editable": false,
    "nbgrader": {
     "cell_type": "code",
     "checksum": "eba8151f34bd7deabde03c435843fc84",
     "grade": true,
     "grade_id": "cell-d9493c9861f1a5a8",
     "locked": true,
     "points": 1,
     "schema_version": 3,
     "solution": false,
     "task": false
    }
   },
   "outputs": [],
   "source": [
    "test_1.7()"
   ]
  },
  {
   "cell_type": "markdown",
   "metadata": {
    "deletable": false,
    "editable": false,
    "nbgrader": {
     "cell_type": "markdown",
     "checksum": "363424b8ffe6163c1b1f8f27c94d83f7",
     "grade": false,
     "grade_id": "cell-9966fe7c15c32e34",
     "locked": true,
     "schema_version": 3,
     "solution": false,
     "task": false
    }
   },
   "source": [
    "**Question 1.8**\n",
    "<br>{points: 1}\n",
    "\n",
    "How many more cars are there in the `mtcars` dataset with a `mpg` rating between 16 and 22 than there are with a `mpg` rating between 22 and 28?\n",
    "\n",
    "_Assign your answer to an object called `answer1.8`. Your answer should be a single integer._"
   ]
  },
  {
   "cell_type": "code",
   "execution_count": null,
   "metadata": {
    "deletable": false,
    "nbgrader": {
     "cell_type": "code",
     "checksum": "255a1fefa8a96218f5686d348438f477",
     "grade": false,
     "grade_id": "cell-ac4ffeb74fafd7ac",
     "locked": false,
     "schema_version": 3,
     "solution": true,
     "task": false
    }
   },
   "outputs": [],
   "source": [
    "# answer1.8 <- ...\n",
    "\n",
    "# your code here\n",
    "fail() # No Answer - remove if you provide an answer"
   ]
  },
  {
   "cell_type": "code",
   "execution_count": null,
   "metadata": {
    "deletable": false,
    "editable": false,
    "nbgrader": {
     "cell_type": "code",
     "checksum": "56c7c1083e17bf86dab5151a67e187f0",
     "grade": true,
     "grade_id": "cell-2e69ac12dd07b62b",
     "locked": true,
     "points": 1,
     "schema_version": 3,
     "solution": false,
     "task": false
    }
   },
   "outputs": [],
   "source": [
    "test_1.8()"
   ]
  },
  {
   "cell_type": "markdown",
   "metadata": {
    "deletable": false,
    "editable": false,
    "lines_to_next_cell": 2,
    "nbgrader": {
     "cell_type": "markdown",
     "checksum": "5b86dfe6790c7e00239b5c3b4e25a70c",
     "grade": false,
     "grade_id": "cell-c49b636f4737765f",
     "locked": true,
     "schema_version": 3,
     "solution": false,
     "task": false
    }
   },
   "source": [
    "Now we will start working with a real population to explore the concepts of population distributions, sampling, and sampling distributions a bit more in-depth. We will compute a single point estimate of a population parameter, compare it to the true value, and then take many samples to explore the distribution of the point estimates themselves, which we call *sampling distribution*. We'll also compare the sampling distribution to the population distribution and its parameters.\n",
    "\n",
    "## 2. Vancouver Property Tax"
   ]
  },
  {
   "cell_type": "markdown",
   "metadata": {
    "deletable": false,
    "editable": false,
    "nbgrader": {
     "cell_type": "markdown",
     "checksum": "a8f7ae48885931f849e6729059a84852",
     "grade": false,
     "grade_id": "cell-1a705931653de4e8",
     "locked": true,
     "schema_version": 3,
     "solution": false,
     "task": false
    }
   },
   "source": [
    "> _\"In this world, nothing is certain except death and taxes.\"_\n",
    "<br>\n",
    "> [Benjamin Franklin](https://constitutioncenter.org/blog/benjamin-franklins-last-great-quote-and-the-constitution)\n",
    "        \n",
    "Homeowners in Vancouver can certainly agree with this statement. Every year, Vancouverites have their properties assessed for their value, and based on that, are charged a certain amount as tax for owning the property. For several years, the City of Vancouver has been collecting assessment and levy data for every property in Vancouver. This data has been made publicly available on their [Data Portal](https://opendata.vancouver.ca/), and we have compiled it into an R package called `taxyvr`. Let's load that package now."
   ]
  },
  {
   "cell_type": "code",
   "execution_count": null,
   "metadata": {
    "deletable": false,
    "editable": false,
    "nbgrader": {
     "cell_type": "code",
     "checksum": "4f057ba6866781c663a29384e0119b2d",
     "grade": false,
     "grade_id": "cell-1e28f10ad2685f3c",
     "locked": true,
     "schema_version": 3,
     "solution": false,
     "task": false
    }
   },
   "outputs": [],
   "source": [
    "# Run this cell before continuing.\n",
    "library(taxyvr)"
   ]
  },
  {
   "cell_type": "markdown",
   "metadata": {
    "deletable": false,
    "editable": false,
    "nbgrader": {
     "cell_type": "markdown",
     "checksum": "dad8efa6a0bbcd100b04dff2a0969d4b",
     "grade": false,
     "grade_id": "cell-b9f303065910237c",
     "locked": true,
     "schema_version": 3,
     "solution": false,
     "task": false
    }
   },
   "source": [
    "`taxyvr` contains property tax assessment data for all properties from 2014 to 2019, with one data frame for each year, named `tax_2014`, `tax_2015`, and so on. It also contains data frames with more recent information about some properties, but the city is still updating them. We will be using data from the `taxyvr` package throughout the course, so be sure to familiarize yourself with its contents!\n",
    "\n",
    "For this worksheet, we will be looking at the data from 2019, `tax_2019`. This dataset represents all the properties in Vancouver for 2019 and can be considered a census.\n",
    "\n",
    "<br>\n",
    "\n",
    "![](https://media.giphy.com/media/28jeqp9apQJM6pClEo/giphy.gif)\n",
    "<div style=\"text-align: center\"><i>Image from <a href=\"https://media.giphy.com/media/28jeqp9apQJM6pClEo/giphy.gif\">giphy.com</i></a></div>\n",
    "<br>\n",
    "\n",
    "In Vancouver, there are many different types of properties with various purposes. The City of Vancouver has classified each property into nine different zone categories: comprehensive development, one or multiple-family dwellings, and commercial. We are interested in understanding the assessment values of one of the most common types of residential homes in Vancouver: multiple-family dwellings in strata housing (e.g., condos, townhouses, duplexes). Specifically, we are interested in estimating the mean assessment value for multiple-family dwellings in strata housing.\n",
    "\n",
    "As mentioned above, the City of Vancouver collects this data for all properties in the entire city. Thus, we have data for the whole population of interest. Usually, this is not the case, and when we **do** have access to the entire population as we do here, this defeats the purpose of estimating since we can easily calculate the mean directly. However, we are still going to be estimating here (in fact, we will be making hundreds of estimates!) to understand how our estimations behave.\n",
    "\n",
    "Our population of interest is a subset of all Vancouver properties, so we need to select only the rows for this property type. Before we do that, let's look at the first few rows of our `tax_2019` data set."
   ]
  },
  {
   "cell_type": "code",
   "execution_count": null,
   "metadata": {
    "deletable": false,
    "editable": false,
    "nbgrader": {
     "cell_type": "code",
     "checksum": "9ea4237d4c6008edde1c8c0f2f084711",
     "grade": false,
     "grade_id": "cell-fc176c52f0481b55",
     "locked": true,
     "schema_version": 3,
     "solution": false,
     "task": false
    }
   },
   "outputs": [],
   "source": [
    "# Run this cell before continuing.\n",
    "head(tax_2019)"
   ]
  },
  {
   "cell_type": "markdown",
   "metadata": {
    "deletable": false,
    "editable": false,
    "nbgrader": {
     "cell_type": "markdown",
     "checksum": "250d1c1fc7f7ffb72d87e12258e2ab5f",
     "grade": false,
     "grade_id": "cell-843ea3d942861b83",
     "locked": true,
     "schema_version": 3,
     "solution": false,
     "task": false
    }
   },
   "source": [
    "Some of the column names are a bit confusing. We can use `?tax_2019` to display more information about the data, including a description of the meaning of each column:"
   ]
  },
  {
   "cell_type": "code",
   "execution_count": null,
   "metadata": {
    "deletable": false,
    "editable": false,
    "nbgrader": {
     "cell_type": "code",
     "checksum": "87a648d400793d8ffce301ccd4c0f750",
     "grade": false,
     "grade_id": "cell-faf3c0dec4508a51",
     "locked": true,
     "schema_version": 3,
     "solution": false,
     "task": false
    }
   },
   "outputs": [],
   "source": [
    "# Run this cell before continuing.\n",
    "?tax_2019"
   ]
  },
  {
   "cell_type": "markdown",
   "metadata": {
    "deletable": false,
    "editable": false,
    "nbgrader": {
     "cell_type": "markdown",
     "checksum": "42b5757b9536177b60b9efdfe70af71d",
     "grade": false,
     "grade_id": "cell-87d1179527cc6179",
     "locked": true,
     "schema_version": 3,
     "solution": false,
     "task": false
    }
   },
   "source": [
    "As mentioned above, we are only interested in the population corresponding to multiple-family dwellings in strata housing. In this data set, the properties that correspond to that meet the following criteria:  \n",
    "- **Have a land value greater than \\$1:**  Some properties are assigned a value of `NA`, and these are the properties undergoing big renovations. These values get amended after the renovations and are reflected in the following year's assessment. The same occurs with homes that are assessed at $0.\n",
    "- **Are of legal type land `STRATA`**\n",
    "- **Are of zone category `Multiple Family Dwelling`** "
   ]
  },
  {
   "cell_type": "markdown",
   "metadata": {
    "deletable": false,
    "editable": false,
    "nbgrader": {
     "cell_type": "markdown",
     "checksum": "b305ec40ad89608cb141f3e2a69ae305",
     "grade": false,
     "grade_id": "cell-e7b0e675810d24b4",
     "locked": true,
     "schema_version": 3,
     "solution": false,
     "task": false
    }
   },
   "source": [
    "**Question 2.0** \n",
    "<br> {points: 1}\n",
    "\n",
    "Let's filter our dataset `tax_2019` to get a subset with the above criteria, which we will define as our population. Since we will be concentrating on the `current_land_value` column, ensure that your final data frame has only this column.\n",
    "\n",
    "_Assign your data frame to an object called `multi_family_strata`._"
   ]
  },
  {
   "cell_type": "code",
   "execution_count": null,
   "metadata": {
    "deletable": false,
    "nbgrader": {
     "cell_type": "code",
     "checksum": "fd64679ad0b17e78ae94bd8b1c658256",
     "grade": false,
     "grade_id": "cell-a5780df8ff3ee2af",
     "locked": false,
     "schema_version": 3,
     "solution": true,
     "task": false
    }
   },
   "outputs": [],
   "source": [
    "# multi_family_strata <- tax_2019 %>%  \n",
    "#     filter(!is.na(...),\n",
    "#            ...,\n",
    "#            ...,\n",
    "#            ...) %>% \n",
    "#     select(...)\n",
    "\n",
    "# your code here\n",
    "fail() # No Answer - remove if you provide an answer\n",
    "head(multi_family_strata)"
   ]
  },
  {
   "cell_type": "code",
   "execution_count": null,
   "metadata": {
    "deletable": false,
    "editable": false,
    "nbgrader": {
     "cell_type": "code",
     "checksum": "c39323ab8f55471c232b0511ec417475",
     "grade": true,
     "grade_id": "cell-d0d01d8617427f65",
     "locked": true,
     "points": 1,
     "schema_version": 3,
     "solution": false,
     "task": false
    }
   },
   "outputs": [],
   "source": [
    "test_2.0()"
   ]
  },
  {
   "cell_type": "markdown",
   "metadata": {
    "deletable": false,
    "editable": false,
    "nbgrader": {
     "cell_type": "markdown",
     "checksum": "9035058b1743cb3d7e2722271397ed67",
     "grade": false,
     "grade_id": "cell-f30ea04eea40b9dd",
     "locked": true,
     "schema_version": 3,
     "solution": false,
     "task": false
    }
   },
   "source": [
    "**Question 2.1** \n",
    "<br> {points: 1}\n",
    "\n",
    "Visualize the distribution of `current_land_value` for the population `multi_family_strata` that we obtained in the previous question by plotting a histogram using `geom_histogram` with the argument `bins = 50`. Ensure that your axes are human-readable. We changed the format of the x-axis scale using `scale_x_continuous` and rotated it to make it more readable.\n",
    "\n",
    "_Assign your plot to an object called `pop_dist`._"
   ]
  },
  {
   "cell_type": "code",
   "execution_count": null,
   "metadata": {
    "deletable": false,
    "nbgrader": {
     "cell_type": "code",
     "checksum": "c581096fea1056f7aab328788294a1bf",
     "grade": false,
     "grade_id": "cell-f5534e6c9cd14c66",
     "locked": false,
     "schema_version": 3,
     "solution": true,
     "task": false
    }
   },
   "outputs": [],
   "source": [
    "options(repr.plot.width = 4, repr.plot.height = 3)\n",
    "\n",
    "# pop_dist <- ... %>% \n",
    "#     ggplot(...) + \n",
    "#     geom_...(...) +\n",
    "#     ... +\n",
    "#     ggtitle(\"Land Value Distribution\") +\n",
    "#     scale_x_continuous(labels = scales::dollar_format()) +\n",
    "#     theme(axis.text.x = element_text(angle = 45, hjust = 1))\n",
    "\n",
    "# your code here\n",
    "fail() # No Answer - remove if you provide an answer\n",
    "pop_dist"
   ]
  },
  {
   "cell_type": "code",
   "execution_count": null,
   "metadata": {
    "deletable": false,
    "editable": false,
    "nbgrader": {
     "cell_type": "code",
     "checksum": "bc5f00f1959d25fb834a5c2d1c59a6cd",
     "grade": true,
     "grade_id": "cell-456cbebb3f4f32b4",
     "locked": true,
     "points": 1,
     "schema_version": 3,
     "solution": false,
     "task": false
    }
   },
   "outputs": [],
   "source": [
    "test_2.1()"
   ]
  },
  {
   "cell_type": "markdown",
   "metadata": {
    "deletable": false,
    "editable": false,
    "nbgrader": {
     "cell_type": "markdown",
     "checksum": "0918f36ccb4ad7ae3dd25d0033712940",
     "grade": false,
     "grade_id": "cell-62b684a63ec96f31",
     "locked": true,
     "schema_version": 3,
     "solution": false,
     "task": false
    }
   },
   "source": [
    "**Question 2.2** \n",
    "<br> {points: 1}\n",
    "\n",
    "We are interested in the population's mean assessed value for multiple-family dwellings in strata housing. We can calculate the population parameter of interest with `summarise` because we have data for the entire population (`multi_family_strata`). (Note: in practice, we never have access to the entire population.)\n",
    "\n",
    "\n",
    "_Assign your data frame to an object called `pop_mean`. The resulting data frame should have a single column named `pop_mean`._"
   ]
  },
  {
   "cell_type": "code",
   "execution_count": null,
   "metadata": {
    "deletable": false,
    "nbgrader": {
     "cell_type": "code",
     "checksum": "59482c5e4a1357488f3c17657e6f5256",
     "grade": false,
     "grade_id": "cell-fb1b348c31d1d836",
     "locked": false,
     "schema_version": 3,
     "solution": true,
     "task": false
    }
   },
   "outputs": [],
   "source": [
    "# pop_mean <- ... %>% \n",
    "#     ...(pop_mean = ...(...))\n",
    "\n",
    "# your code here\n",
    "fail() # No Answer - remove if you provide an answer\n",
    "pop_mean"
   ]
  },
  {
   "cell_type": "code",
   "execution_count": null,
   "metadata": {
    "deletable": false,
    "editable": false,
    "nbgrader": {
     "cell_type": "code",
     "checksum": "637d7381fa7ba8df4b602edf716d2b9d",
     "grade": true,
     "grade_id": "cell-dc386e49215841fd",
     "locked": true,
     "points": 1,
     "schema_version": 3,
     "solution": false,
     "task": false
    }
   },
   "outputs": [],
   "source": [
    "test_2.2()"
   ]
  },
  {
   "cell_type": "markdown",
   "metadata": {
    "deletable": false,
    "editable": false,
    "nbgrader": {
     "cell_type": "markdown",
     "checksum": "375dbdb015ac7d9cc57a26a502fd0854",
     "grade": false,
     "grade_id": "cell-035b54d76e73d9c0",
     "locked": true,
     "schema_version": 3,
     "solution": false,
     "task": false
    }
   },
   "source": [
    "**Question 2.3** \n",
    "<br> {points: 1}\n",
    "\n",
    "In most cases, we rarely have the resources to record every observation in the population, so instead, we collect a single sample from the population. We use that single sample to estimate a population parameter (as well as infer how accurate our estimate is, but more on that later).\n",
    "\n",
    "Let's pretend we are in such a situation where we can only take a sample of 40 observations, without replacement, from our population. Use `rep_sample_n` to take your sample, and set the seed to `4321`.\n",
    "\n",
    "_Assign your data frame to an object called `sample_1`._"
   ]
  },
  {
   "cell_type": "code",
   "execution_count": null,
   "metadata": {
    "deletable": false,
    "nbgrader": {
     "cell_type": "code",
     "checksum": "147916b492f1f0b7ac78de319dc18b12",
     "grade": false,
     "grade_id": "cell-6127051155e5b696",
     "locked": false,
     "schema_version": 3,
     "solution": true,
     "task": false
    }
   },
   "outputs": [],
   "source": [
    "set.seed(4321) # DO NOT CHANGE!\n",
    "\n",
    "# sample_1 <- ... %>% \n",
    "#     rep_sample_n(...)\n",
    "\n",
    "# your code here\n",
    "fail() # No Answer - remove if you provide an answer\n",
    "head(sample_1)"
   ]
  },
  {
   "cell_type": "code",
   "execution_count": null,
   "metadata": {
    "deletable": false,
    "editable": false,
    "nbgrader": {
     "cell_type": "code",
     "checksum": "747235c988c10e9490cfd5a128eb49fb",
     "grade": true,
     "grade_id": "cell-d9d2029104a018db",
     "locked": true,
     "points": 1,
     "schema_version": 3,
     "solution": false,
     "task": false
    }
   },
   "outputs": [],
   "source": [
    "test_2.3()"
   ]
  },
  {
   "cell_type": "markdown",
   "metadata": {
    "deletable": false,
    "editable": false,
    "nbgrader": {
     "cell_type": "markdown",
     "checksum": "0e5104b4d4f29dd0cfa059c71d17126e",
     "grade": false,
     "grade_id": "cell-8fc6b0362a3e2415",
     "locked": true,
     "schema_version": 3,
     "solution": false,
     "task": false
    }
   },
   "source": [
    "**Question 2.4** \n",
    "<br> {points: 1}\n",
    "\n",
    "Visualize the distribution of the random sample you just took (`sample_1`) by plotting a histogram using `geom_histogram` with the argument `bins = 50`. Add a title to the plot using `ggtitle` and ensure that the x-axis has a human-readable label.\n",
    "\n",
    "_Assign your plot to an object called `sample_1_dist`._"
   ]
  },
  {
   "cell_type": "code",
   "execution_count": null,
   "metadata": {
    "deletable": false,
    "nbgrader": {
     "cell_type": "code",
     "checksum": "d6e982c270cfc35344b7b52ed7f128d5",
     "grade": false,
     "grade_id": "cell-9b759497eb1b7bef",
     "locked": false,
     "schema_version": 3,
     "solution": true,
     "task": false
    }
   },
   "outputs": [],
   "source": [
    "# your code here\n",
    "fail() # No Answer - remove if you provide an answer\n",
    "sample_1_dist"
   ]
  },
  {
   "cell_type": "code",
   "execution_count": null,
   "metadata": {
    "deletable": false,
    "editable": false,
    "nbgrader": {
     "cell_type": "code",
     "checksum": "0139d2bade7c2af3d9d49bcb8bd7d273",
     "grade": true,
     "grade_id": "cell-029a8b40c27703a3",
     "locked": true,
     "points": 1,
     "schema_version": 3,
     "solution": false,
     "task": false
    }
   },
   "outputs": [],
   "source": [
    "test_2.4()"
   ]
  },
  {
   "cell_type": "markdown",
   "metadata": {
    "deletable": false,
    "editable": false,
    "nbgrader": {
     "cell_type": "markdown",
     "checksum": "2fb29de4acd971be6d7e1f816a21c98e",
     "grade": false,
     "grade_id": "cell-3c4b35ed554cb337",
     "locked": true,
     "schema_version": 3,
     "solution": false,
     "task": false
    }
   },
   "source": [
    "**Question 2.5** \n",
    "<br> {points: 1}\n",
    "\n",
    "Recall that our population parameter of interest is the population's mean assessed value. Using the sample you just took (`sample_1`), calculate a point estimate for the population mean using `summarise`. The resulting data frame should have a single column named `sample_1_mean`.\n",
    "\n",
    "_Assign your data frame to an object called `sample_1_mean`._"
   ]
  },
  {
   "cell_type": "code",
   "execution_count": null,
   "metadata": {
    "deletable": false,
    "nbgrader": {
     "cell_type": "code",
     "checksum": "d9b57b26c96ef1f50d68e0752e339b55",
     "grade": false,
     "grade_id": "cell-66a0061d96d6e200",
     "locked": false,
     "schema_version": 3,
     "solution": true,
     "task": false
    }
   },
   "outputs": [],
   "source": [
    "# sample_1_mean <- ... %>% \n",
    "#     ...(sample_1_mean = ...(...)) %>% \n",
    "#     select(-replicate)\n",
    "\n",
    "# your code here\n",
    "fail() # No Answer - remove if you provide an answer\n",
    "sample_1_mean"
   ]
  },
  {
   "cell_type": "code",
   "execution_count": null,
   "metadata": {
    "deletable": false,
    "editable": false,
    "nbgrader": {
     "cell_type": "code",
     "checksum": "79cf0a8f9f98f38975b2f12fa0a3a56e",
     "grade": true,
     "grade_id": "cell-ee2a0a06a44ea114",
     "locked": true,
     "points": 1,
     "schema_version": 3,
     "solution": false,
     "task": false
    }
   },
   "outputs": [],
   "source": [
    "test_2.5()"
   ]
  },
  {
   "cell_type": "markdown",
   "metadata": {
    "deletable": false,
    "editable": false,
    "nbgrader": {
     "cell_type": "markdown",
     "checksum": "4a68682a12ca0fb77addf33f1d6e2b4b",
     "grade": false,
     "grade_id": "cell-21b6178f8e9bdffb",
     "locked": true,
     "schema_version": 3,
     "solution": false,
     "task": false
    }
   },
   "source": [
    "Now, let's compare our random sample to the population from where it was drawn.\n",
    "\n",
    "**Note**: a small number of the members of our population and sample are not visible because we set an upper bound on the x-axis so you can see a majority of the distribution easier (this causes some of the warnings you see below)."
   ]
  },
  {
   "cell_type": "code",
   "execution_count": null,
   "metadata": {
    "deletable": false,
    "editable": false,
    "nbgrader": {
     "cell_type": "code",
     "checksum": "2f84d3a92b771bf0bbc4571aa6fb32b3",
     "grade": false,
     "grade_id": "cell-154ba1653638eb0b",
     "locked": true,
     "schema_version": 3,
     "solution": false,
     "task": false
    }
   },
   "outputs": [],
   "source": [
    "# Run this cell before continuing.\n",
    "options(repr.plot.height = 5, repr.plot.width = 4)\n",
    "plot_grid(pop_dist +\n",
    "                 scale_x_continuous(limits = c(0, 3000000),\n",
    "                                    labels = scales::dollar_format()),\n",
    "          sample_1_dist +\n",
    "                 scale_x_continuous(limits = c(0, 3000000),\n",
    "                                    labels = scales::dollar_format()) +\n",
    "                 scale_y_continuous(breaks = seq(0, 10, 2)),\n",
    "          align = \"v\",\n",
    "          axis = \"lr\",\n",
    "          ncol = 1)"
   ]
  },
  {
   "cell_type": "markdown",
   "metadata": {
    "deletable": false,
    "editable": false,
    "nbgrader": {
     "cell_type": "markdown",
     "checksum": "200ca7803aae43c7fdcd5c11b6f23ed0",
     "grade": false,
     "grade_id": "cell-eb2c62ea4906de98",
     "locked": true,
     "schema_version": 3,
     "solution": false,
     "task": false
    }
   },
   "source": [
    "And now let's compare our point estimate with the true population parameter we were trying to estimate:"
   ]
  },
  {
   "cell_type": "code",
   "execution_count": null,
   "metadata": {
    "deletable": false,
    "editable": false,
    "nbgrader": {
     "cell_type": "code",
     "checksum": "f2af69c97270786dfed16a5277ba71a0",
     "grade": false,
     "grade_id": "cell-be2a0262a31de71f",
     "locked": true,
     "schema_version": 3,
     "solution": false,
     "task": false
    }
   },
   "outputs": [],
   "source": [
    "# Run this cell before continuing.\n",
    "pop_mean\n",
    "sample_1_mean"
   ]
  },
  {
   "cell_type": "markdown",
   "metadata": {
    "deletable": false,
    "editable": false,
    "nbgrader": {
     "cell_type": "markdown",
     "checksum": "e17f0c0ec3924ebf8e0932b043c22fb6",
     "grade": false,
     "grade_id": "cell-8659c3d519a6c08c",
     "locked": true,
     "schema_version": 3,
     "solution": false,
     "task": false
    }
   },
   "source": [
    "**Question 2.6**\n",
    "<br> {points: 1}\n",
    "\n",
    "After comparing the population and sample distributions above, and the true population parameter and the sample point estimate, which statement below **is not** correct:\n",
    "\n",
    "A. The sample point estimate is close to the value of the true population parameter we are trying to estimate.\n",
    "\n",
    "B. The sample distribution is of a similar shape to the population distribution.\n",
    "\n",
    "C. The sample point estimate is identical to the value of the true population parameter we are trying to estimate.\n",
    "\n",
    "_Assign your answer to an object called `answer2.6`. Your answer should be a single character surrounded by quotes._"
   ]
  },
  {
   "cell_type": "code",
   "execution_count": null,
   "metadata": {
    "deletable": false,
    "lines_to_next_cell": 2,
    "nbgrader": {
     "cell_type": "code",
     "checksum": "b9c2200ce49ef7de76cff40d16184a7d",
     "grade": false,
     "grade_id": "cell-b8b05f3e0f161221",
     "locked": false,
     "schema_version": 3,
     "solution": true,
     "task": false
    }
   },
   "outputs": [],
   "source": [
    "# answer2.6 <- ...\n",
    "\n",
    "# your code here\n",
    "fail() # No Answer - remove if you provide an answer"
   ]
  },
  {
   "cell_type": "code",
   "execution_count": null,
   "metadata": {
    "deletable": false,
    "editable": false,
    "nbgrader": {
     "cell_type": "code",
     "checksum": "74e014ca333f080afd3d0b1f4f835c55",
     "grade": true,
     "grade_id": "cell-be6afdaf764b33d4",
     "locked": true,
     "points": 1,
     "schema_version": 3,
     "solution": false,
     "task": false
    }
   },
   "outputs": [],
   "source": [
    "test_2.6()"
   ]
  },
  {
   "cell_type": "markdown",
   "metadata": {
    "deletable": false,
    "editable": false,
    "nbgrader": {
     "cell_type": "markdown",
     "checksum": "57777e6bce0367fd7328536cf8b6ab55",
     "grade": false,
     "grade_id": "cell-76f60ee97027b734",
     "locked": true,
     "schema_version": 3,
     "solution": false,
     "task": false
    }
   },
   "source": [
    "**Question 2.7** \n",
    "<br> {points: 1}\n",
    "\n",
    "What if we took another sample? What would we expect? Let's try! Take another random sample from the population using the seed `9999`, visualize its distribution, and then calculate the point estimate (sample mean). To do this, copy and paste the code below and then rearrange the lines so that the code runs properly.\n",
    "\n",
    "```{r}\n",
    "summarise(sample_2_mean = mean(current_land_value))\n",
    "xlab(\"Land Value (CAD)\") +\n",
    "rep_sample_n(40)\n",
    "scale_x_continuous(labels = scales::dollar_format()) +\n",
    "theme(axis.text.x = element_text(angle = 45, hjust = 1))\n",
    "sample_2 <- multi_family_strata %>% \n",
    "ggtitle(\"Sample 2 distribution\") +\n",
    "geom_histogram(bins = 50) +\n",
    "sample_2_mean <- sample_2 %>% \n",
    "sample_2_dist <- ggplot(sample_2, aes(x = current_land_value)) + \n",
    "```\n",
    "\n",
    "_You should end up with three objects: `sample_2` (your random sample), `sample_2_dist` (your plot), and `sample_2_mean` (your point estimate)._"
   ]
  },
  {
   "cell_type": "code",
   "execution_count": null,
   "metadata": {
    "deletable": false,
    "nbgrader": {
     "cell_type": "code",
     "checksum": "ee89637f7255d520b4d4750b2f35e0d1",
     "grade": false,
     "grade_id": "cell-2a682041fddd28e7",
     "locked": false,
     "schema_version": 3,
     "solution": true,
     "task": false
    }
   },
   "outputs": [],
   "source": [
    "set.seed(9999) # DO NOT CHANGE!\n",
    "options(repr.plot.width = 4, repr.plot.height = 3)\n",
    "\n",
    "# your code here\n",
    "fail() # No Answer - remove if you provide an answer\n",
    "sample_2_dist\n",
    "sample_2_mean"
   ]
  },
  {
   "cell_type": "code",
   "execution_count": null,
   "metadata": {
    "deletable": false,
    "editable": false,
    "nbgrader": {
     "cell_type": "code",
     "checksum": "022d2d8252e3862fd6f7855ff0941780",
     "grade": true,
     "grade_id": "cell-1db5a1e7c5ad9e78",
     "locked": true,
     "points": 1,
     "schema_version": 3,
     "solution": false,
     "task": false
    }
   },
   "outputs": [],
   "source": [
    "test_2.7()"
   ]
  },
  {
   "cell_type": "markdown",
   "metadata": {
    "deletable": false,
    "editable": false,
    "nbgrader": {
     "cell_type": "markdown",
     "checksum": "135aadaac06746f213269eb69103454a",
     "grade": false,
     "grade_id": "cell-b6efdf4350e942fd",
     "locked": true,
     "schema_version": 3,
     "solution": false,
     "task": false
    }
   },
   "source": [
    "Use the distributions and point estimates printed below to answer the **next question**. Some of the code may be confusing, but you do not need to understand the code to answer the question.\n",
    "\n",
    "**Note**: a small number of the members of our population and samples are not visible because we set an upper bound on the x-axis so you can see a majority of the distribution easier."
   ]
  },
  {
   "cell_type": "code",
   "execution_count": null,
   "metadata": {
    "deletable": false,
    "editable": false,
    "nbgrader": {
     "cell_type": "code",
     "checksum": "d51a43b876add5a9919a6d4d0f10c295",
     "grade": false,
     "grade_id": "cell-15b9866aa792f76b",
     "locked": true,
     "schema_version": 3,
     "solution": false,
     "task": false
    }
   },
   "outputs": [],
   "source": [
    "# Run this cell before continuing.\n",
    "cat(\"True population mean: \", as.numeric(pop_mean$pop_mean), \"\\n\")\n",
    "cat(\"Sample 1 point estimate of mean: \", as.numeric(sample_1_mean$sample_1_mean), \"\\n\")\n",
    "cat(\"Sample 2 point estimate of mean: \", as.numeric(sample_2_mean$sample_2_mean))\n",
    "options(repr.plot.height = 4, repr.plot.width = 6)\n",
    "suppressWarnings(suppressMessages(plot_grid(pop_dist + scale_x_continuous(limits = c(0, 3000000),\n",
    "                                                                          labels = scales::dollar_format()),\n",
    "          sample_1_dist + scale_x_continuous(limits = c(0, 3000000),\n",
    "                                             labels = scales::dollar_format()),\n",
    "          sample_2_dist + scale_x_continuous(limits = c(0, 3000000),\n",
    "                                             labels = scales::dollar_format()),\n",
    "          ncol = 3)))"
   ]
  },
  {
   "cell_type": "markdown",
   "metadata": {
    "deletable": false,
    "editable": false,
    "nbgrader": {
     "cell_type": "markdown",
     "checksum": "8693fecbc6ec92c6feff6b561202f968",
     "grade": false,
     "grade_id": "cell-eb219a4fb15011de",
     "locked": true,
     "schema_version": 3,
     "solution": false,
     "task": false
    }
   },
   "source": [
    "**Question 2.8** \n",
    "<br> {points: 1}\n",
    "\n",
    "After comparing the distribution and point estimate of this second random sample from the population with that of the first random sample and the population, which statements below **is not** correct?\n",
    "\n",
    "A. The sample distributions from different random samples will vary a bit depending on which values are captured in the sample.\n",
    "\n",
    "B. The sample distributions from different random samples are of a similar shape to the population distribution.\n",
    "\n",
    "C. The point estimates from different random samples are close to the true population parameter, but they vary a bit depending which values are captured in the sample.\n",
    "\n",
    "D. Every random sample from the same population will have a point estimate equal to the population parameter that you are trying to estimate.\n",
    "\n",
    "_Assign your answer to an object called `answer2.8`. Your answer should be a single character surrounded by quotes._"
   ]
  },
  {
   "cell_type": "code",
   "execution_count": null,
   "metadata": {
    "deletable": false,
    "nbgrader": {
     "cell_type": "code",
     "checksum": "193f0285ea8ce598c693a5196a229dc2",
     "grade": false,
     "grade_id": "cell-edd6cd70c14dfcca",
     "locked": false,
     "schema_version": 3,
     "solution": true,
     "task": false
    }
   },
   "outputs": [],
   "source": [
    "# answer2.8 <- ...\n",
    "\n",
    "# your code here\n",
    "fail() # No Answer - remove if you provide an answer"
   ]
  },
  {
   "cell_type": "code",
   "execution_count": null,
   "metadata": {
    "deletable": false,
    "editable": false,
    "nbgrader": {
     "cell_type": "code",
     "checksum": "de3380699c3b5bcf45898bbca133a65d",
     "grade": true,
     "grade_id": "cell-961d5cc12c2f4ef7",
     "locked": true,
     "points": 1,
     "schema_version": 3,
     "solution": false,
     "task": false
    }
   },
   "outputs": [],
   "source": [
    "test_2.8()"
   ]
  },
  {
   "cell_type": "markdown",
   "metadata": {
    "deletable": false,
    "editable": false,
    "nbgrader": {
     "cell_type": "markdown",
     "checksum": "a2db2fe3fc47c327b430aca71ac3a895",
     "grade": false,
     "grade_id": "cell-8f85485e137d66db",
     "locked": true,
     "schema_version": 3,
     "solution": false,
     "task": false
    }
   },
   "source": [
    "## 3. Exploring the sampling distribution of an estimate\n",
    "\n",
    "Just how much should we expect the point estimates of our random samples to vary? Let's experiment a little more with our multiple-family dwelling property population to build an intuition for this. To do this, we will take 1500 random samples of size 40 and then calculate the point estimate we are interested in (let's choose the mean for this example) for each sample. Finally, we will visualize the distribution of the sample point estimates. This distribution will tell us how much we would expect the point estimates of our random samples to vary for this population for samples of size 40 (the size of our samples)."
   ]
  },
  {
   "cell_type": "markdown",
   "metadata": {
    "deletable": false,
    "editable": false,
    "nbgrader": {
     "cell_type": "markdown",
     "checksum": "5b177235289c1756a0fa7d251cd8fe64",
     "grade": false,
     "grade_id": "cell-f430927379459861",
     "locked": true,
     "schema_version": 3,
     "solution": false,
     "task": false
    }
   },
   "source": [
    "**Question 3.0** \n",
    "<br> {points: 1}\n",
    "\n",
    "Draw 1500 random samples from our population of multiple family dwelling strata properties (`multi_family_strata`). Each sample should have 40 observations. Use `4321` as your seed.\n",
    "\n",
    "_Assign your data frame to an object called `samples`._"
   ]
  },
  {
   "cell_type": "code",
   "execution_count": null,
   "metadata": {
    "deletable": false,
    "nbgrader": {
     "cell_type": "code",
     "checksum": "e3b467f49cb94ce4c4c5cb16cc6d459e",
     "grade": false,
     "grade_id": "cell-0cd0a42b7d255c17",
     "locked": false,
     "schema_version": 3,
     "solution": true,
     "task": false
    }
   },
   "outputs": [],
   "source": [
    "set.seed(4321) # DO NOT CHANGE!\n",
    "\n",
    "# samples <- ... %>% \n",
    "#     rep_sample_n(size = ..., reps = ...)\n",
    "\n",
    "# your code here\n",
    "fail() # No Answer - remove if you provide an answer\n",
    "head(samples)\n",
    "tail(samples)\n",
    "nrow(samples)"
   ]
  },
  {
   "cell_type": "code",
   "execution_count": null,
   "metadata": {
    "deletable": false,
    "editable": false,
    "nbgrader": {
     "cell_type": "code",
     "checksum": "943b549dac343d73ffc0369bfc501c25",
     "grade": true,
     "grade_id": "cell-5fb4d9288b5d06ed",
     "locked": true,
     "points": 1,
     "schema_version": 3,
     "solution": false,
     "task": false
    }
   },
   "outputs": [],
   "source": [
    "test_3.0()"
   ]
  },
  {
   "cell_type": "markdown",
   "metadata": {
    "deletable": false,
    "editable": false,
    "nbgrader": {
     "cell_type": "markdown",
     "checksum": "ce0ed9b1b2d597de6066b39a7104013f",
     "grade": false,
     "grade_id": "cell-9d0c47c5bd510ff6",
     "locked": true,
     "schema_version": 3,
     "solution": false,
     "task": false
    }
   },
   "source": [
    "**Question 3.1** \n",
    "<br> {points: 1}\n",
    "\n",
    "Using the 1500 random samples you just took, group by the sample replicate number (`replicate`), and then for each sample, calculate the mean as the point estimate. The resulting data frame should have the columns `replicate` and `sample_mean`.\n",
    "\n",
    "_Assign your data frame to an object called `sample_estimates`._"
   ]
  },
  {
   "cell_type": "code",
   "execution_count": null,
   "metadata": {
    "deletable": false,
    "nbgrader": {
     "cell_type": "code",
     "checksum": "23c02dcc215ba3768557e25a840f948c",
     "grade": false,
     "grade_id": "cell-f7a679dc1b0f3222",
     "locked": false,
     "schema_version": 3,
     "solution": true,
     "task": false
    }
   },
   "outputs": [],
   "source": [
    "# your code here\n",
    "fail() # No Answer - remove if you provide an answer\n",
    "head(sample_estimates)\n",
    "tail(sample_estimates)"
   ]
  },
  {
   "cell_type": "code",
   "execution_count": null,
   "metadata": {
    "deletable": false,
    "editable": false,
    "nbgrader": {
     "cell_type": "code",
     "checksum": "4797c5899ed21910615640778b523142",
     "grade": true,
     "grade_id": "cell-f2619e029e119d40",
     "locked": true,
     "points": 1,
     "schema_version": 3,
     "solution": false,
     "task": false
    }
   },
   "outputs": [],
   "source": [
    "test_3.1()"
   ]
  },
  {
   "cell_type": "markdown",
   "metadata": {
    "deletable": false,
    "editable": false,
    "nbgrader": {
     "cell_type": "markdown",
     "checksum": "476561a8b487616cce43fe4f4b0af745",
     "grade": false,
     "grade_id": "cell-f7c9f1334fb8632e",
     "locked": true,
     "schema_version": 3,
     "solution": false,
     "task": false
    }
   },
   "source": [
    "**Question 3.2** \n",
    "<br> {points: 1}\n",
    "\n",
    "Visualize the distribution of the sample estimates (`sample_estimates`) you just calculated by plotting a histogram using `geom_histogram` with the argument `bins = 30`. Add a title to the plot using `ggtitle` and ensure that the x-axis has a human-readable label.\n",
    "\n",
    "_Assign your plot to an object called `sampling_distribution`._"
   ]
  },
  {
   "cell_type": "code",
   "execution_count": null,
   "metadata": {
    "deletable": false,
    "nbgrader": {
     "cell_type": "code",
     "checksum": "12c992c285f57da6dc6b137332ead3bc",
     "grade": false,
     "grade_id": "cell-918edc33544fa612",
     "locked": false,
     "schema_version": 3,
     "solution": true,
     "task": false
    }
   },
   "outputs": [],
   "source": [
    "# your code here\n",
    "fail() # No Answer - remove if you provide an answer\n",
    "sampling_distribution"
   ]
  },
  {
   "cell_type": "code",
   "execution_count": null,
   "metadata": {
    "deletable": false,
    "editable": false,
    "nbgrader": {
     "cell_type": "code",
     "checksum": "a0c9beb1101642671efa22fc74d2baa5",
     "grade": true,
     "grade_id": "cell-5bea467e58589db9",
     "locked": true,
     "points": 1,
     "schema_version": 3,
     "solution": false,
     "task": false
    }
   },
   "outputs": [],
   "source": [
    "test_3.2()"
   ]
  },
  {
   "cell_type": "markdown",
   "metadata": {
    "deletable": false,
    "editable": false,
    "nbgrader": {
     "cell_type": "markdown",
     "checksum": "89bf28e32804b4a61b0080befc2b7203",
     "grade": false,
     "grade_id": "cell-cb6de75bfb66278d",
     "locked": true,
     "schema_version": 3,
     "solution": false,
     "task": false
    }
   },
   "source": [
    "**Question 3.3** \n",
    "<br> {points: 1}\n",
    "\n",
    "Let's refresh our memory; what is the mean current land value of the population (we calculated this above)?\n",
    "\n",
    "_Assign your answer to an object called `answer3.3`. Your answer should be a single number._"
   ]
  },
  {
   "cell_type": "code",
   "execution_count": null,
   "metadata": {
    "deletable": false,
    "nbgrader": {
     "cell_type": "code",
     "checksum": "24edbefbbe98e7aced39653477907b87",
     "grade": false,
     "grade_id": "cell-db4bbfe72c697682",
     "locked": false,
     "schema_version": 3,
     "solution": true,
     "task": false
    }
   },
   "outputs": [],
   "source": [
    "# answer3.3 <- ...\n",
    "\n",
    "# your code here\n",
    "fail() # No Answer - remove if you provide an answer\n",
    "answer3.3"
   ]
  },
  {
   "cell_type": "code",
   "execution_count": null,
   "metadata": {
    "deletable": false,
    "editable": false,
    "nbgrader": {
     "cell_type": "code",
     "checksum": "c27ae11c8bdbdf277d6f8436fdcc8478",
     "grade": true,
     "grade_id": "cell-b07acd6be3cc9451",
     "locked": true,
     "points": 1,
     "schema_version": 3,
     "solution": false,
     "task": false
    }
   },
   "outputs": [],
   "source": [
    "test_3.3()"
   ]
  },
  {
   "cell_type": "markdown",
   "metadata": {
    "deletable": false,
    "editable": false,
    "nbgrader": {
     "cell_type": "markdown",
     "checksum": "aa4f8cb2e7305251e6bf91f04230abdb",
     "grade": false,
     "grade_id": "cell-a8242c02db1ac403",
     "locked": true,
     "schema_version": 3,
     "solution": false,
     "task": false
    }
   },
   "source": [
    "**Question 3.4**\n",
    "<br> {points: 1}\n",
    "\n",
    "Considering the true value for the population mean, and the sampling distribution you created and visualized in Question 3.2, which statement below **is not** correct:\n",
    "\n",
    "A. The sampling distribution is centered at the true population mean.\n",
    "\n",
    "B. Most sample means are at or very near the same value as the true population mean.\n",
    "\n",
    "C. All the sample means are the same value as the true population mean.\n",
    "\n",
    "D. The sampling distribution is more concentrated around the population mean than most sample distributions would be.\n",
    "\n",
    "*Assign your answer to an object called `answer3.4`. Your answer should be a single character surrounded by quotes.*"
   ]
  },
  {
   "cell_type": "code",
   "execution_count": null,
   "metadata": {
    "deletable": false,
    "nbgrader": {
     "cell_type": "code",
     "checksum": "723db5b425f55a9325bf8f71b97894a5",
     "grade": false,
     "grade_id": "cell-b016cfdf5fb664e1",
     "locked": false,
     "schema_version": 3,
     "solution": true,
     "task": false
    }
   },
   "outputs": [],
   "source": [
    "# answer3.4 <- ...\n",
    "\n",
    "# your code here\n",
    "fail() # No Answer - remove if you provide an answer"
   ]
  },
  {
   "cell_type": "code",
   "execution_count": null,
   "metadata": {
    "deletable": false,
    "editable": false,
    "nbgrader": {
     "cell_type": "code",
     "checksum": "85abd61dadefa75ad14210bdd4ae6d88",
     "grade": true,
     "grade_id": "cell-2f8e7fb5ba342a36",
     "locked": true,
     "points": 1,
     "schema_version": 3,
     "solution": false,
     "task": false
    }
   },
   "outputs": [],
   "source": [
    "test_3.4()"
   ]
  },
  {
   "cell_type": "code",
   "execution_count": null,
   "metadata": {
    "deletable": false,
    "editable": false,
    "nbgrader": {
     "cell_type": "code",
     "checksum": "c9ef9412e2697dd62d6b8887cc43879d",
     "grade": false,
     "grade_id": "cell-c5a2718621752af7",
     "locked": true,
     "schema_version": 3,
     "solution": false,
     "task": false
    }
   },
   "outputs": [],
   "source": [
    "# Run this cell before continuing.\n",
    "sampling_distribution + scale_x_continuous(breaks = seq(500000, 1000000, 100000),\n",
    "                                           labels = scales::dollar_format())"
   ]
  },
  {
   "cell_type": "markdown",
   "metadata": {
    "deletable": false,
    "editable": false,
    "nbgrader": {
     "cell_type": "markdown",
     "checksum": "6517fd3c24463b65db5a4bcf922373fc",
     "grade": false,
     "grade_id": "cell-22a1ff67bac51f32",
     "locked": true,
     "schema_version": 3,
     "solution": false,
     "task": false
    }
   },
   "source": [
    "**Question 3.5**\n",
    "<br> {points: 1}\n",
    "\n",
    "Considering the sampling distribution you visualized in Question 3.2 (and showed again above), within which of the following range of values (in CAD) do **most** of the sample means lie? We have printed the sampling distribution again directly above this question for your convenience.\n",
    "\n",
    "A. \\\\$700,000 to \\\\$1,000,000\n",
    "\n",
    "B. \\\\$650,000 to \\\\$800,000\n",
    "\n",
    "C. \\\\$550,000 to \\\\$700,000\n",
    "\n",
    "D. \\\\$500,000 to \\\\$600,000\n",
    "\n",
    "_Assign your answer to an object called `answer3.5`. Your answer should be a single character surrounded by quotes._"
   ]
  },
  {
   "cell_type": "code",
   "execution_count": null,
   "metadata": {
    "deletable": false,
    "nbgrader": {
     "cell_type": "code",
     "checksum": "ecd3cdb0edb0343f0f44273c32a018f3",
     "grade": false,
     "grade_id": "cell-185c21a8d9bc1db6",
     "locked": false,
     "schema_version": 3,
     "solution": true,
     "task": false
    }
   },
   "outputs": [],
   "source": [
    "# answer3.5 <- ...\n",
    "\n",
    "# your code here\n",
    "fail() # No Answer - remove if you provide an answer"
   ]
  },
  {
   "cell_type": "code",
   "execution_count": null,
   "metadata": {
    "deletable": false,
    "editable": false,
    "nbgrader": {
     "cell_type": "code",
     "checksum": "4d67ba68602800d12b2d3acb189314a7",
     "grade": true,
     "grade_id": "cell-83569649ee33da44",
     "locked": true,
     "points": 1,
     "schema_version": 3,
     "solution": false,
     "task": false
    }
   },
   "outputs": [],
   "source": [
    "test_3.5()"
   ]
  },
  {
   "cell_type": "markdown",
   "metadata": {
    "deletable": false,
    "editable": false,
    "nbgrader": {
     "cell_type": "markdown",
     "checksum": "455b42c181d2d0350fad3f7f0cbda87a",
     "grade": false,
     "grade_id": "cell-2faa963145be56a4",
     "locked": true,
     "schema_version": 3,
     "solution": false,
     "task": false
    }
   },
   "source": [
    "**Question 3.6**\n",
    "<br> {points: 1}\n",
    "\n",
    "True or false?\n",
    "\n",
    "Taking a random sample and calculating a point estimate is a \"good guess\" of the unknown population parameter you are interested in. \n",
    "\n",
    "_Assign your answer to an object called `answer3.6`. Your answer should be either \"true\" or \"false\", surrounded by quotes._"
   ]
  },
  {
   "cell_type": "code",
   "execution_count": null,
   "metadata": {
    "deletable": false,
    "nbgrader": {
     "cell_type": "code",
     "checksum": "2a00b71658b8ea0c3d6bc7ea8f437b85",
     "grade": false,
     "grade_id": "cell-bc3094d5d6c32ef5",
     "locked": false,
     "schema_version": 3,
     "solution": true,
     "task": false
    }
   },
   "outputs": [],
   "source": [
    "# answer3.6 <- ...\n",
    "\n",
    "# your code here\n",
    "fail() # No Answer - remove if you provide an answer"
   ]
  },
  {
   "cell_type": "code",
   "execution_count": null,
   "metadata": {
    "deletable": false,
    "editable": false,
    "nbgrader": {
     "cell_type": "code",
     "checksum": "986e4edc62b8493cca287da7b6f048dd",
     "grade": true,
     "grade_id": "cell-6969f5fb23f7b4c9",
     "locked": true,
     "points": 1,
     "schema_version": 3,
     "solution": false,
     "task": false
    }
   },
   "outputs": [],
   "source": [
    "test_3.6()"
   ]
  },
  {
   "cell_type": "markdown",
   "metadata": {
    "deletable": false,
    "editable": false,
    "nbgrader": {
     "cell_type": "markdown",
     "checksum": "054757abeca38ef330395c54b944583a",
     "grade": false,
     "grade_id": "cell-273734adaa8bd084",
     "locked": true,
     "schema_version": 3,
     "solution": false,
     "task": false
    }
   },
   "source": [
    "**Question 3.7**\n",
    "<br> {points: 1}\n",
    "\n",
    "Suppose you work for a radio station in Vancouver, and the owner (your boss) is interested in selecting music based on the age of the audience. You are asked to gather a random sample of the audience and report an estimation of the mean age of the entire audience to your boss. Considering what you know about sampling distributions, which of the following **is true** regarding the estimation of the population parameter of interest (mean) using a single point estimate?\n",
    "\n",
    "A. A single point estimate might be inaccurate, depending on who ends up in the random sample. Perhaps you should hold off on this project until you learn more about the error associated with a point estimate and how you could report it to your boss.\n",
    "\n",
    "B. A single point estimate might be inaccurate, depending on who ends up in the random sample. However, you should ignore this and not report anything about this to your boss since there is much higher chance that the point estimate will be close to the true population parameter.\n",
    "\n",
    "C. A single point estimate from a random sample is guaranteed to be accurate. You can report the point estimate to your boss with complete confidence.\n",
    "\n",
    "_Assign your answer to an object called `answer3.7`. Your answer should be a single character surrounded by quotes._"
   ]
  },
  {
   "cell_type": "code",
   "execution_count": null,
   "metadata": {
    "deletable": false,
    "nbgrader": {
     "cell_type": "code",
     "checksum": "7f9fe9ce903cd1f20de14715f68f7e22",
     "grade": false,
     "grade_id": "cell-fb7837805cdad156",
     "locked": false,
     "schema_version": 3,
     "solution": true,
     "task": false
    }
   },
   "outputs": [],
   "source": [
    "# answer3.7 <- ...\n",
    "\n",
    "# your code here\n",
    "fail() # No Answer - remove if you provide an answer"
   ]
  },
  {
   "cell_type": "code",
   "execution_count": null,
   "metadata": {
    "deletable": false,
    "editable": false,
    "nbgrader": {
     "cell_type": "code",
     "checksum": "de6ef045e706aca977bbe745c5435bda",
     "grade": true,
     "grade_id": "cell-10d1f7d1ec842a1f",
     "locked": true,
     "points": 1,
     "schema_version": 3,
     "solution": false,
     "task": false
    }
   },
   "outputs": [],
   "source": [
    "test_3.7()"
   ]
  },
  {
   "cell_type": "markdown",
   "metadata": {
    "deletable": false,
    "editable": false,
    "nbgrader": {
     "cell_type": "markdown",
     "checksum": "8e4312bd63fb3dc95ec39a310f47a04a",
     "grade": false,
     "grade_id": "cell-e88fa2107d4d8a58",
     "locked": true,
     "schema_version": 3,
     "solution": false,
     "task": false
    }
   },
   "source": [
    "### Final thoughts\n",
    "\n",
    "Congratulations! You have completed your first STAT 201 worksheet. Before you close the tab, here are a few final remarks:\n",
    "- **First, don't forget to save your work with `File` -> `Save & Checkpoint`. You should always do this periodically _(TIP: use the keybind `Ctrl+S` or `Cmd+S` to speed up the process)._**\n",
    "- Recall that we were interested in estimating the mean assessment value (`current_land_value`) for multiple family dwellings in strata housing (`multi_family_strata`).\n",
    "- Here, we had access to data to the entire population, which would defeat the purpose of \"estimating\" in reality. Usually, this is not the case. However, we went ahead and made many estimates anyways to learn about how they behave.\n",
    "- By doing this, we now understand that point estimates can vary. This knowledge will be useful when we don't have access to the entire population, and later on, we will learn how to quantify this inherent \"uncertainty\" in our point estimates and infer about how accurate they are."
   ]
  }
 ],
 "metadata": {
  "docker": {
   "latest_image_tag": "v0.4.0"
  },
  "jupytext": {
   "encoding": "# -*- coding: utf-8 -*-"
  },
  "kernelspec": {
   "display_name": "R",
   "language": "R",
   "name": "ir"
  },
  "language_info": {
   "codemirror_mode": "r",
   "file_extension": ".r",
   "mimetype": "text/x-r-source",
   "name": "R",
   "pygments_lexer": "r",
   "version": "4.1.3"
  }
 },
 "nbformat": 4,
 "nbformat_minor": 4
}
