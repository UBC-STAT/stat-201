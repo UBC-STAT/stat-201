{
 "cells": [
  {
   "cell_type": "markdown",
   "metadata": {
    "deletable": false,
    "editable": false,
    "nbgrader": {
     "cell_type": "markdown",
     "checksum": "aff777346a0d9e44c27d51d98a1f3fb2",
     "grade": false,
     "grade_id": "cell-ccd1e2501ff21f28",
     "locked": true,
     "schema_version": 3,
     "solution": false,
     "task": false
    }
   },
   "source": [
    "# Worksheet 1: Introduction to Statistical Inference and Sampling"
   ]
  },
  {
   "cell_type": "markdown",
   "metadata": {
    "deletable": false,
    "editable": false,
    "nbgrader": {
     "cell_type": "markdown",
     "checksum": "0c67d1bbdbc2d519b4b5520b0be86f28",
     "grade": false,
     "grade_id": "cell-a3b416b82b7bac72",
     "locked": true,
     "schema_version": 3,
     "solution": false,
     "task": false
    },
    "tags": []
   },
   "source": [
    "### Welcome to STAT 201: Statistical Inference for Data Science\n",
    "\n",
    "Each week, you will complete a lecture assignment like this one. Before we get started, there are some administrative details.\n",
    "\n",
    "You can only learn technical subjects with hands-on practice. The weekly lecture worksheets and tutorials are crucial in the course; you should complete them with utmost dedication. Collaborating with fellow students during these sessions is highly encouraged, as it can aid in a better understanding of concepts. If you ever get stuck while attempting a question in the lecture or tutorial worksheets, don't hesitate to seek help from your peers, TAs, or instructors. In fact, explaining concepts to others helps solidify your own understanding of them. However, please refrain from sharing answers, as we expect everyone to submit their own work, and just getting the answer jeopardizes one's learning. \n",
    "\n",
    "Cases of plagiarism will receive 0 in the entire assignment, and we will report the student to UBC's Faculty of Science for academic misconduct. \n",
    "\n",
    "You can read more about course policies on the course website."
   ]
  },
  {
   "cell_type": "markdown",
   "metadata": {
    "deletable": false,
    "editable": false,
    "nbgrader": {
     "cell_type": "markdown",
     "checksum": "c11ff6089074d2325a076345b2e7f610",
     "grade": false,
     "grade_id": "cell-b3e882daf16912d9",
     "locked": true,
     "schema_version": 3,
     "solution": false,
     "task": false
    }
   },
   "source": [
    "Since DSCI 100 is a prerequisite for this course, we expect students to be comfortable with the tutorial and worksheet style and structure. Students should also be familiar with answering questions in a Jupyter notebook and assessing if their answers are correct before submission. However, if you're having trouble, contact the teaching team for support - we're glad to help. \n"
   ]
  },
  {
   "cell_type": "markdown",
   "metadata": {
    "deletable": false,
    "editable": false,
    "nbgrader": {
     "cell_type": "markdown",
     "checksum": "344563b3e0f733a3e43a646883288f3a",
     "grade": false,
     "grade_id": "cell-7f137055c244e8bb",
     "locked": true,
     "schema_version": 3,
     "solution": false,
     "task": false
    }
   },
   "source": [
    "#### Lecture and Tutorial Learning Goals:\n",
    "After completing this module, you will be able to:\n",
    "\n",
    "1. Describe real-world examples of questions that can be answered with the statistical inference methods presented in this course (e.g., estimation, hypothesis testing).\n",
    "\n",
    "2. Name common population parameters (mean, median, proportion) often estimated using sample data and write computer scripts to calculate estimates of these parameters.\n",
    "\n",
    "3. Define the following terms concerning statistical inference: population, sample, population parameters, estimate, sampling distribution, and sample distribution.\n",
    "\n",
    "4. Write an R script to draw random samples from a finite population (e.g., census data).\n",
    "\n",
    "5. Write an R script to estimate a sampling distribution for a given statistic and population.\n",
    "\n",
    "6. Define random variables and explain how they relate to sampling.\n",
    "\n",
    "7. Explain random and representative sampling and how this can influence estimation.\n",
    "\n",
    "8. Explain what a sampling distribution is and its purpose in statistical inference.\n"
   ]
  },
  {
   "cell_type": "markdown",
   "metadata": {
    "deletable": false,
    "editable": false,
    "nbgrader": {
     "cell_type": "markdown",
     "checksum": "a6dc19cc05c5d6cecc309624102b0cf2",
     "grade": false,
     "grade_id": "cell-82dfbe5a9829fa67",
     "locked": true,
     "schema_version": 3,
     "solution": false,
     "task": false
    }
   },
   "source": [
    "This worksheet covers [Chapter 7 - 7.3 of the Modern Dive Textbook](https://moderndive.com/7-sampling.html) of the online textbook. You should read this chapter before attempting this worksheet.\n",
    "\n",
    "#### General instructions\n",
    "\n",
    "Any place you see `...`, you must fill in the function, variable, or data to complete the code. Replace `fail()` with your completed code and run the cell!"
   ]
  },
  {
   "cell_type": "code",
   "execution_count": null,
   "metadata": {
    "deletable": false,
    "editable": false,
    "nbgrader": {
     "cell_type": "code",
     "checksum": "5b65abadd9a0e1585a988d1b4e97e09e",
     "grade": false,
     "grade_id": "cell-ddd97f3228533f17",
     "locked": true,
     "schema_version": 3,
     "solution": false,
     "task": false
    }
   },
   "outputs": [],
   "source": [
    "# Run this cell before continuing.\n",
    "library(tidyverse)\n",
    "library(cowplot)\n",
    "library(gridExtra)\n",
    "library(digest)\n",
    "library(repr)\n",
    "library(infer)\n",
    "library(taxyvr)\n",
    "\n",
    "source(\"tests_worksheet_01.R\")"
   ]
  },
  {
   "cell_type": "markdown",
   "metadata": {
    "deletable": false,
    "editable": false,
    "nbgrader": {
     "cell_type": "markdown",
     "checksum": "94282cecf4cef69a3fab2fa703b7dc6f",
     "grade": false,
     "grade_id": "cell-4f02f27ed4ce78da",
     "locked": true,
     "schema_version": 3,
     "solution": false,
     "task": false
    }
   },
   "source": [
    "## 1. Warm Up Questions\n",
    "\n",
    "In DSCI 100, we learned about [six different types of data analysis questions we can ask and answer](https://datasciencebook.ca/intro.html#asking-a-question). Let's start this worksheet by reminding us what an inferential question is."
   ]
  },
  {
   "cell_type": "markdown",
   "metadata": {
    "deletable": false,
    "editable": false,
    "nbgrader": {
     "cell_type": "markdown",
     "checksum": "3641417e911723170a15c41324c205cf",
     "grade": false,
     "grade_id": "cell-2a0842175d90ec51",
     "locked": true,
     "schema_version": 3,
     "solution": false,
     "task": false
    }
   },
   "source": [
    "**Question 1.0**\n",
    "<br>{points: 1}\n",
    "\n",
    "Which of the following is an example of an inferential question:\n",
    "\n",
    "A. How many candy stores are there in Kitsilano?   \n",
    "    \n",
    "B. Does the average sleep duration of individuals who consume melatonin 30 minutes before bed differ from those who do not?     \n",
    "     \n",
    "C. If I study for 28 hours, what score will I obtain on this exam?     \n",
    "     \n",
    "D. Does owning a houseplant lead to the adoption of a puppy?     \n",
    " \n",
    "_Assign your answer to an object called `answer1.0`. Your answer should be a single character surrounded by quotes._"
   ]
  },
  {
   "cell_type": "code",
   "execution_count": null,
   "metadata": {
    "deletable": false,
    "nbgrader": {
     "cell_type": "code",
     "checksum": "516163d7bef1470c5ec4ea043ec2af78",
     "grade": false,
     "grade_id": "cell-7f45af42ce3654c9",
     "locked": false,
     "schema_version": 3,
     "solution": true,
     "task": false
    }
   },
   "outputs": [],
   "source": [
    "# answer1.0 <- ...\n",
    "\n",
    "# your code here\n",
    "fail() # No Answer - remove if you provide an answer"
   ]
  },
  {
   "cell_type": "code",
   "execution_count": null,
   "metadata": {
    "deletable": false,
    "editable": false,
    "nbgrader": {
     "cell_type": "code",
     "checksum": "69ec74474282cd4c36a5d7affb9cd793",
     "grade": true,
     "grade_id": "cell-370ef28ef4d2afef",
     "locked": true,
     "points": 1,
     "schema_version": 3,
     "solution": false,
     "task": false
    }
   },
   "outputs": [],
   "source": [
    "test_1.0()"
   ]
  },
  {
   "cell_type": "markdown",
   "metadata": {
    "deletable": false,
    "editable": false,
    "nbgrader": {
     "cell_type": "markdown",
     "checksum": "72ad847f1cdd59f20d778cc3e88fb90f",
     "grade": false,
     "grade_id": "cell-2ade049ef0bdae06",
     "locked": true,
     "schema_version": 3,
     "solution": false,
     "task": false
    }
   },
   "source": [
    "**Question 1.1**\n",
    "<br>{points: 1}\n",
    "\n",
    "True or false?\n",
    "\n",
    "\"How does taking the new experimental drug result in lower blood pressure?\" is an example of an inferential question.\n",
    "\n",
    "_Assign your answer to an object called `answer1.1`. Your answer should be either \"true\" or \"false\", surrounded by quotes._"
   ]
  },
  {
   "cell_type": "code",
   "execution_count": null,
   "metadata": {
    "deletable": false,
    "nbgrader": {
     "cell_type": "code",
     "checksum": "81b6de776f2d5f171840db410e13d350",
     "grade": false,
     "grade_id": "cell-a59dd67fdf2b5b14",
     "locked": false,
     "schema_version": 3,
     "solution": true,
     "task": false
    }
   },
   "outputs": [],
   "source": [
    "# answer1.1 <- ...\n",
    "\n",
    "# your code here\n",
    "fail() # No Answer - remove if you provide an answer"
   ]
  },
  {
   "cell_type": "code",
   "execution_count": null,
   "metadata": {
    "deletable": false,
    "editable": false,
    "nbgrader": {
     "cell_type": "code",
     "checksum": "c5b914036234bc708ab3c08d09e80336",
     "grade": true,
     "grade_id": "cell-24f6f39cbad38803",
     "locked": true,
     "points": 1,
     "schema_version": 3,
     "solution": false,
     "task": false
    }
   },
   "outputs": [],
   "source": [
    "test_1.1()"
   ]
  },
  {
   "cell_type": "markdown",
   "metadata": {
    "deletable": false,
    "editable": false,
    "nbgrader": {
     "cell_type": "markdown",
     "checksum": "2dec3ae6281d44a7914861370a4ab3c6",
     "grade": false,
     "grade_id": "cell-f05dc7047d85b2cf",
     "locked": true,
     "schema_version": 3,
     "solution": false,
     "task": false
    }
   },
   "source": [
    "**Question 1.2**\n",
    "<br>{points: 1}\n",
    "\n",
    "Which one of these R packages can be used for virtual sampling?\n",
    "\n",
    "A. `dbplyr`\n",
    "\n",
    "B. `rep_sample_n`\n",
    "\n",
    "C. `broom`\n",
    "\n",
    "D. `infer`\n",
    "        \n",
    "_Assign your answer to an object called `answer1.2`. Your answer should be a single character surrounded by quotes._"
   ]
  },
  {
   "cell_type": "code",
   "execution_count": null,
   "metadata": {
    "deletable": false,
    "nbgrader": {
     "cell_type": "code",
     "checksum": "bf635edbd2f56a0e2d2c078fe0b5497f",
     "grade": false,
     "grade_id": "cell-6fe8a5c60f5088fe",
     "locked": false,
     "schema_version": 3,
     "solution": true,
     "task": false
    }
   },
   "outputs": [],
   "source": [
    "# answer1.2 <- ...\n",
    "\n",
    "# your code here\n",
    "fail() # No Answer - remove if you provide an answer"
   ]
  },
  {
   "cell_type": "code",
   "execution_count": null,
   "metadata": {
    "deletable": false,
    "editable": false,
    "nbgrader": {
     "cell_type": "code",
     "checksum": "7b94cd150aa25d6a0e71168b6aa190a9",
     "grade": true,
     "grade_id": "cell-ca46f7274bbb8e82",
     "locked": true,
     "points": 1,
     "schema_version": 3,
     "solution": false,
     "task": false
    }
   },
   "outputs": [],
   "source": [
    "test_1.2()"
   ]
  },
  {
   "cell_type": "markdown",
   "metadata": {
    "deletable": false,
    "editable": false,
    "nbgrader": {
     "cell_type": "markdown",
     "checksum": "72524a878535b4c1af4266cb83d1db6b",
     "grade": false,
     "grade_id": "cell-082896050f56b83a",
     "locked": true,
     "schema_version": 3,
     "solution": false,
     "task": false
    }
   },
   "source": [
    "**Question 1.3**\n",
    "<br> {points: 1}\n",
    "\n",
    "In the mixed-up table below, we have many quantities that are common parameters of interest. In this course, we will use all of them. Assign each object in the code cell below (e.g., `mean`) the integer associated with the correct definition.\n",
    "\n",
    "> **Note:** some of these terms may have different meanings in other fields, but these are the definitions that we will be using in this course.\n",
    "\n",
    "|  Term | <p align=\"left\"> Definition |\n",
    "|:----------------|:------------|\n",
    "| mean               | 1. The number of entities/objects with a specific characteristic divided by the total number of entities/objects. |\n",
    "| proportion         | 2. The mean of the sum of the squared distances of each observation from the mean value of all observations.|\n",
    "| median             | 3. The middle observation of a sorted variable’s data.|\n",
    "| quantile           | 4. The sum of all of the data observations divided by how many observations there are.|\n",
    "| standard deviation | 5. The square root of the variance.|\n",
    "| variance           | 6. A number such that a given percentage of the data is lower than that number. \n",
    "\n",
    "    \n",
    "_Assign your answers to the objects below, namely, `mean`, `proportion`, `median`, `variance`, and `standard_deviation`. Your answers should each be a single integer._"
   ]
  },
  {
   "cell_type": "code",
   "execution_count": null,
   "metadata": {
    "deletable": false,
    "nbgrader": {
     "cell_type": "code",
     "checksum": "d99357d24dc9ede2c34b2c9dfef3e623",
     "grade": false,
     "grade_id": "cell-32e8a32bc1e8e019",
     "locked": false,
     "schema_version": 3,
     "solution": true,
     "task": false
    }
   },
   "outputs": [],
   "source": [
    "# mean <- ...\n",
    "# proportion <- ...\n",
    "# median <- ...\n",
    "# variance <- ...\n",
    "# standard_deviation <- ...\n",
    "# quantile <- ...\n",
    "\n",
    "# your code here\n",
    "fail() # No Answer - remove if you provide an answer"
   ]
  },
  {
   "cell_type": "code",
   "execution_count": null,
   "metadata": {
    "deletable": false,
    "editable": false,
    "nbgrader": {
     "cell_type": "code",
     "checksum": "c39e2938e8b0d33b4065f4a1abc43cc3",
     "grade": true,
     "grade_id": "cell-80a34af1e398fc32",
     "locked": true,
     "points": 1,
     "schema_version": 3,
     "solution": false,
     "task": false
    }
   },
   "outputs": [],
   "source": [
    "test_1.3()"
   ]
  },
  {
   "cell_type": "markdown",
   "metadata": {
    "deletable": false,
    "editable": false,
    "nbgrader": {
     "cell_type": "markdown",
     "checksum": "e8b7858a025ec212ee78d5afc0a6c519",
     "grade": false,
     "grade_id": "cell-9b7cbd596e8db154",
     "locked": true,
     "schema_version": 3,
     "solution": false,
     "task": false
    }
   },
   "source": [
    "**Question 1.4**\n",
    "<br> {points: 1}\n",
    "\n",
    "Read the mixed-up table below and assign each object in the code cell below the integer associated with its correct definition. \n",
    "\n",
    ">**Note:** Some of these terms may have different meanings in other fields, but these are the definitions that we will use in this course.\n",
    "\n",
    "| Terms |  Definitions |\n",
    "|----------------|------------|\n",
    "| <p align=\"left\">point estimate | <p align=\"left\">1. the entire set of entities/objects of interest |\n",
    "| <p align=\"left\">population | <p align=\"left\">2. a numerical summary value about the population|\n",
    "| <p align=\"left\">population parameter | <p align=\"left\">3. a subset of entities/objects in the population |\n",
    "| <p align=\"left\">sample |  <p align=\"left\">4. a single number calculated from a sample that estimates an unknown population parameter of interest |\n",
    "| <p align=\"left\">observation | <p align=\"left\"> 5. a distribution of point estimates, where each point estimate was calculated from a different random sample from the same population |\n",
    "| <p align=\"left\">sampling distribution | <p align=\"left\">6. a quantity or quality (or a set of these) from a single member of a population |\n",
    "    \n",
    "_Assign your answers to the objects below, namely, `point_estimate`, `population`, `population_parameter`, `sample`, `observation`, and `sampling_distribution`. Your answers should each be a single integer._"
   ]
  },
  {
   "cell_type": "code",
   "execution_count": null,
   "metadata": {
    "deletable": false,
    "lines_to_next_cell": 2,
    "nbgrader": {
     "cell_type": "code",
     "checksum": "c2327e70643e9e46472e9dd66dc99f4c",
     "grade": false,
     "grade_id": "cell-a1c8c8030496cf62",
     "locked": false,
     "schema_version": 3,
     "solution": true,
     "task": false
    }
   },
   "outputs": [],
   "source": [
    "# point_estimate <- ...\n",
    "# population <- ...\n",
    "# population_parameter <- ...\n",
    "# sample <- ...\n",
    "# observation <- ...\n",
    "# sampling_distribution <- ...\n",
    "\n",
    "# your code here\n",
    "fail() # No Answer - remove if you provide an answer"
   ]
  },
  {
   "cell_type": "code",
   "execution_count": null,
   "metadata": {
    "deletable": false,
    "editable": false,
    "nbgrader": {
     "cell_type": "code",
     "checksum": "97d3733e6ffdcf132d3e74add4f265a6",
     "grade": true,
     "grade_id": "cell-4a24ccad4eac3a5b",
     "locked": true,
     "points": 1,
     "schema_version": 3,
     "solution": false,
     "task": false
    }
   },
   "outputs": [],
   "source": [
    "test_1.4()"
   ]
  },
  {
   "cell_type": "markdown",
   "metadata": {
    "deletable": false,
    "editable": false,
    "nbgrader": {
     "cell_type": "markdown",
     "checksum": "e5fe649ff6c50eccf4ffdb4166f31add",
     "grade": false,
     "grade_id": "cell-0214e5bdd912ce9f",
     "locked": true,
     "schema_version": 3,
     "solution": false,
     "task": false
    }
   },
   "source": [
    "**Question 1.5**\n",
    "<br> {points: 1}\n",
    "\n",
    "True or false?\n",
    "\n",
    "A distribution shows a variable's possible values and how often they occur.\n",
    "\n",
    "_Assign your answer to an object called answer1.5. Your answer should be either \"true\" or \"false\", surrounded by quotes._"
   ]
  },
  {
   "cell_type": "code",
   "execution_count": null,
   "metadata": {
    "deletable": false,
    "nbgrader": {
     "cell_type": "code",
     "checksum": "e78cac59aa1d84ca20ac7cf8b9f794f0",
     "grade": false,
     "grade_id": "cell-58619a3b699b4eb8",
     "locked": false,
     "schema_version": 3,
     "solution": true,
     "task": false
    }
   },
   "outputs": [],
   "source": [
    "# answer1.5 <- ...\n",
    "\n",
    "# your code here\n",
    "fail() # No Answer - remove if you provide an answer"
   ]
  },
  {
   "cell_type": "code",
   "execution_count": null,
   "metadata": {
    "deletable": false,
    "editable": false,
    "nbgrader": {
     "cell_type": "code",
     "checksum": "9db2124d74fbdfb9f8664365b40f4d08",
     "grade": true,
     "grade_id": "cell-f3553853de48de4f",
     "locked": true,
     "points": 1,
     "schema_version": 3,
     "solution": false,
     "task": false
    }
   },
   "outputs": [],
   "source": [
    "test_1.5()"
   ]
  },
  {
   "cell_type": "markdown",
   "metadata": {
    "deletable": false,
    "editable": false,
    "nbgrader": {
     "cell_type": "markdown",
     "checksum": "856c9a4200cc9cc8b78912e9f38f3fb6",
     "grade": false,
     "grade_id": "cell-13a54771fe022451",
     "locked": true,
     "schema_version": 3,
     "solution": false,
     "task": false
    }
   },
   "source": [
    "**Question 1.6**\n",
    "<br> {points: 1}\n",
    "\n",
    "Tiffany got ten packages of Skittles for Halloween. Every time she opened a new package, she recorded the number of red Skittles that it contained. The table below describes the distribution of the number of red Skittles after she opened all ten packages.\n",
    "\n",
    "| # Red Skittles | Frequency |\n",
    "|----------------|-----------|\n",
    "| 0              | 0         |\n",
    "| 1              | 1         |\n",
    "| 2              | 3         |\n",
    "| 3              | 3         |\n",
    "| 4              | 2         |\n",
    "| 5              | 1         |\n",
    "| > 5            | 0         |\n",
    "\n",
    "Which histogram below describes the distribution of the number of red Skittles?\n",
    "\n",
    "_Assign your answer to an object called `answer1.6`. Your answer should be a single character surrounded by quotes._"
   ]
  },
  {
   "cell_type": "code",
   "execution_count": null,
   "metadata": {
    "deletable": false,
    "editable": false,
    "nbgrader": {
     "cell_type": "code",
     "checksum": "0850713fb5bfca5f7c9f58c3fbbc46c9",
     "grade": false,
     "grade_id": "cell-be8a82d56273d53e",
     "locked": true,
     "schema_version": 3,
     "solution": false,
     "task": false
    }
   },
   "outputs": [],
   "source": [
    "# Run this cell before continuing.\n",
    "source(\"skittles.R\")\n",
    "\n",
    "# In case you are curious -- when you call source(\"my_file.R\"), \n",
    "# R executes the code in the file my_file.R"
   ]
  },
  {
   "cell_type": "code",
   "execution_count": null,
   "metadata": {
    "deletable": false,
    "nbgrader": {
     "cell_type": "code",
     "checksum": "12fc8a36a4c6e34f6a751d7ac48880c3",
     "grade": false,
     "grade_id": "cell-eae0ae97905ad1e3",
     "locked": false,
     "schema_version": 3,
     "solution": true,
     "task": false
    }
   },
   "outputs": [],
   "source": [
    "# answer1.6 <- ...\n",
    "\n",
    "# your code here\n",
    "fail() # No Answer - remove if you provide an answer"
   ]
  },
  {
   "cell_type": "code",
   "execution_count": null,
   "metadata": {
    "deletable": false,
    "editable": false,
    "nbgrader": {
     "cell_type": "code",
     "checksum": "6075017c98fd706e11d15b8448a778dc",
     "grade": true,
     "grade_id": "cell-d2292a2dede39897",
     "locked": true,
     "points": 1,
     "schema_version": 3,
     "solution": false,
     "task": false
    }
   },
   "outputs": [],
   "source": [
    "test_1.6()"
   ]
  },
  {
   "cell_type": "markdown",
   "metadata": {
    "deletable": false,
    "editable": false,
    "nbgrader": {
     "cell_type": "markdown",
     "checksum": "1e0a98e6bfca83572a5ae2bb0452a635",
     "grade": false,
     "grade_id": "cell-1319bf8e4602d44d",
     "locked": true,
     "schema_version": 3,
     "solution": false,
     "task": false
    }
   },
   "source": [
    "Use the histogram below to answer the following **two** questions. It was produced using the `mpg` variable from the `mtcars` dataset. Note that it is not necessary to understand the code used to produce the histogram to answer the questions."
   ]
  },
  {
   "cell_type": "code",
   "execution_count": null,
   "metadata": {
    "deletable": false,
    "editable": false,
    "nbgrader": {
     "cell_type": "code",
     "checksum": "e4feb5e829245cba971b58b57e3ef42c",
     "grade": false,
     "grade_id": "cell-68be4905e01e2179",
     "locked": true,
     "schema_version": 3,
     "solution": false,
     "task": false
    }
   },
   "outputs": [],
   "source": [
    "# Run this cell before continuing.\n",
    "options(repr.plot.width = 4, repr.plot.height = 3)\n",
    "\n",
    "mtcars %>%\n",
    "    ggplot(aes(x = mpg)) +\n",
    "    scale_y_continuous(breaks = seq(0, 8, 1)) +\n",
    "    geom_histogram(boundary = 10, binwidth = 2, colour = \"white\") +\n",
    "    scale_x_continuous(breaks = seq(10, 34, 2)) +\n",
    "    xlab(\"Miles per gallon (mpg)\") +\n",
    "    ylab(\"Frequency\") +\n",
    "    ggtitle(\"Distribution of miles per gallon \\nrating for all cars in the mtcars dataset\")"
   ]
  },
  {
   "cell_type": "markdown",
   "metadata": {
    "deletable": false,
    "editable": false,
    "nbgrader": {
     "cell_type": "markdown",
     "checksum": "8f50328c89d0d96c98576cf3a7ae4cbb",
     "grade": false,
     "grade_id": "cell-951363965048a8c7",
     "locked": true,
     "schema_version": 3,
     "solution": false,
     "task": false
    }
   },
   "source": [
    "**Question 1.7**\n",
    "<br>{points: 1}\n",
    "\n",
    "How many cars are in the `mtcars` dataset with a `mpg` rating of less than 12?\n",
    "\n",
    "_Assign your answer to an object called `answer1.7`. Your answer should be a single integer._"
   ]
  },
  {
   "cell_type": "code",
   "execution_count": null,
   "metadata": {
    "deletable": false,
    "nbgrader": {
     "cell_type": "code",
     "checksum": "36e7975da4eb6d5dc8ade1b6f0e50be6",
     "grade": false,
     "grade_id": "cell-1fd2456f311a850a",
     "locked": false,
     "schema_version": 3,
     "solution": true,
     "task": false
    }
   },
   "outputs": [],
   "source": [
    "# answer1.7 <- ...\n",
    "\n",
    "# your code here\n",
    "fail() # No Answer - remove if you provide an answer"
   ]
  },
  {
   "cell_type": "code",
   "execution_count": null,
   "metadata": {
    "deletable": false,
    "editable": false,
    "nbgrader": {
     "cell_type": "code",
     "checksum": "eba8151f34bd7deabde03c435843fc84",
     "grade": true,
     "grade_id": "cell-d9493c9861f1a5a8",
     "locked": true,
     "points": 1,
     "schema_version": 3,
     "solution": false,
     "task": false
    }
   },
   "outputs": [],
   "source": [
    "test_1.7()"
   ]
  },
  {
   "cell_type": "markdown",
   "metadata": {
    "deletable": false,
    "editable": false,
    "nbgrader": {
     "cell_type": "markdown",
     "checksum": "cd261ba27dbeaec51c87f993cb06e9e2",
     "grade": false,
     "grade_id": "cell-9966fe7c15c32e34",
     "locked": true,
     "schema_version": 3,
     "solution": false,
     "task": false
    }
   },
   "source": [
    "**Question 1.8**\n",
    "<br>{points: 1}\n",
    "\n",
    "How many more cars are in the `mtcars` dataset with a `mpg` rating between 16 and 22 than those with a `mpg` rating between 22 and 28?\n",
    "\n",
    "_Assign your answer to an object called `answer1.8`. Your answer should be a single integer._"
   ]
  },
  {
   "cell_type": "code",
   "execution_count": null,
   "metadata": {
    "deletable": false,
    "nbgrader": {
     "cell_type": "code",
     "checksum": "255a1fefa8a96218f5686d348438f477",
     "grade": false,
     "grade_id": "cell-ac4ffeb74fafd7ac",
     "locked": false,
     "schema_version": 3,
     "solution": true,
     "task": false
    }
   },
   "outputs": [],
   "source": [
    "# answer1.8 <- ...\n",
    "\n",
    "# your code here\n",
    "fail() # No Answer - remove if you provide an answer"
   ]
  },
  {
   "cell_type": "code",
   "execution_count": null,
   "metadata": {
    "deletable": false,
    "editable": false,
    "nbgrader": {
     "cell_type": "code",
     "checksum": "56c7c1083e17bf86dab5151a67e187f0",
     "grade": true,
     "grade_id": "cell-2e69ac12dd07b62b",
     "locked": true,
     "points": 1,
     "schema_version": 3,
     "solution": false,
     "task": false
    }
   },
   "outputs": [],
   "source": [
    "test_1.8()"
   ]
  },
  {
   "cell_type": "markdown",
   "metadata": {
    "deletable": false,
    "editable": false,
    "lines_to_next_cell": 2,
    "nbgrader": {
     "cell_type": "markdown",
     "checksum": "58a253cdc77092634e8c39bfb8a7bb4f",
     "grade": false,
     "grade_id": "cell-c49b636f4737765f",
     "locked": true,
     "schema_version": 3,
     "solution": false,
     "task": false
    },
    "slideshow": {
     "slide_type": ""
    },
    "tags": []
   },
   "source": [
    "Now, we will start working with an actual population to explore the concepts of population distributions, sampling, and sampling distributions more in-depth. We will compute a single point estimate of a population parameter, compare it to the true value, and then take many samples to explore the distribution of the point estimates. The distribution of the point estimates is referred to the *sampling distribution*. We'll also compare the sampling distribution to the population distribution and its parameters. \n",
    "\n",
    "The real sampling distribution would contain all possible values of the point estimate for a given sample size. However, calculating all possible point estimates would be computationally expensive (it would take too much time to run). As a quick approximation, we will calculate a relatively large, but not complete, set of possible point estimates."
   ]
  },
  {
   "cell_type": "markdown",
   "metadata": {
    "deletable": false,
    "editable": false,
    "nbgrader": {
     "cell_type": "markdown",
     "checksum": "74fe5b26d5af592bce690ec8234c39e2",
     "grade": false,
     "grade_id": "cell-1a705931653de4e8",
     "locked": true,
     "schema_version": 3,
     "solution": false,
     "task": false
    },
    "slideshow": {
     "slide_type": ""
    },
    "tags": []
   },
   "source": [
    "## 2. Vancouver Property Tax\n",
    "\n",
    "> _\"In this world, nothing is certain except death and taxes.\"_\n",
    "<br>\n",
    "> [Benjamin Franklin](https://constitutioncenter.org/blog/benjamin-franklins-last-great-quote-and-the-constitution)\n",
    "        \n",
    "Homeowners in Vancouver can certainly agree with this statement. Every year, Vancouverites have their properties assessed for their value, and based on that, they are charged a certain amount as tax for owning the property. For several years, the City of Vancouver has been collecting assessment and levy data for every property in Vancouver. This data has been made publicly available on their [Data Portal](https://opendata.vancouver.ca/), and we have compiled it into an R package called `taxyvr`. Let's load that package now."
   ]
  },
  {
   "cell_type": "code",
   "execution_count": null,
   "metadata": {
    "deletable": false,
    "editable": false,
    "nbgrader": {
     "cell_type": "code",
     "checksum": "4f057ba6866781c663a29384e0119b2d",
     "grade": false,
     "grade_id": "cell-1e28f10ad2685f3c",
     "locked": true,
     "schema_version": 3,
     "solution": false,
     "task": false
    },
    "slideshow": {
     "slide_type": ""
    },
    "tags": []
   },
   "outputs": [],
   "source": [
    "# Run this cell before continuing.\n",
    "library(taxyvr)"
   ]
  },
  {
   "cell_type": "markdown",
   "metadata": {
    "deletable": false,
    "editable": false,
    "nbgrader": {
     "cell_type": "markdown",
     "checksum": "5667f4ddc4e1210e645178207363032c",
     "grade": false,
     "grade_id": "cell-b9f303065910237c",
     "locked": true,
     "schema_version": 3,
     "solution": false,
     "task": false
    },
    "slideshow": {
     "slide_type": ""
    },
    "tags": []
   },
   "source": [
    "`taxyvr` contains property tax assessment data for all properties from 2014 to 2019, with one data frame for each year, named `tax_2014`, `tax_2015`, and so on. It also contains data frames with more recent information about some properties, but the city is still updating them. We will use data from the `taxyvr` package throughout the course.\n",
    "\n",
    "For this worksheet, we will look at the data from 2019, `tax_2019`. This dataset represents all the properties in Vancouver for 2019 and can be considered a census.\n",
    "\n",
    "<br>\n",
    "\n",
    "<div style=\"text-align: center\">\n",
    "    <img src=\"https://media.giphy.com/media/28jeqp9apQJM6pClEo/giphy.gif\"><br>\n",
    "    <i>Image from <a href=\"https://media.giphy.com/media/28jeqp9apQJM6pClEo/giphy.gif\">giphy.com</i></a>\n",
    "    <br><br>\n",
    "</div>\n",
    "\n",
    "\n",
    "In Vancouver, there are many different types of properties with various purposes. The City of Vancouver has classified each property into nine categories: \n",
    "1. Commercial\n",
    "1. Comprehensive Development\n",
    "1. Historic Area\n",
    "1. Industrial\n",
    "1. Light Industrial\n",
    "1. Limited Agricultural\n",
    "1. Multiple Family Dwelling\n",
    "1. One Family Dwelling\n",
    "1. Two Family Dwelling\n",
    "\n",
    "We are interested in understanding the assessment values of one of Vancouver's most common types of residential homes: multiple-family dwellings in strata housing (e.g., condos, townhouses, duplexes). Specifically, we are interested in estimating the mean assessment value for multiple-family dwellings in strata housing.\n",
    "\n",
    "<font style='color: darkred'>As mentioned above, the City of Vancouver collects this data for all properties in the entire city. Thus, we have data for the whole population of interest. Usually, this is not the case, and when we **do** have access to the entire population as we do here, <u>this defeats the purpose of estimating since we can easily calculate the mean directly</u>. However, we will still estimate here (in fact, we will be making hundreds of estimates!) to understand how our estimations behave.</font>\n",
    "\n",
    "Our population of interest is a subset of all Vancouver properties, so we need to select only the rows for this property type. Before that, let's look at the first few rows of our `tax_2019` data set."
   ]
  },
  {
   "cell_type": "code",
   "execution_count": null,
   "metadata": {
    "deletable": false,
    "editable": false,
    "nbgrader": {
     "cell_type": "code",
     "checksum": "9ea4237d4c6008edde1c8c0f2f084711",
     "grade": false,
     "grade_id": "cell-fc176c52f0481b55",
     "locked": true,
     "schema_version": 3,
     "solution": false,
     "task": false
    },
    "slideshow": {
     "slide_type": ""
    },
    "tags": []
   },
   "outputs": [],
   "source": [
    "# Run this cell before continuing.\n",
    "head(tax_2019)"
   ]
  },
  {
   "cell_type": "markdown",
   "metadata": {
    "deletable": false,
    "editable": false,
    "nbgrader": {
     "cell_type": "markdown",
     "checksum": "250d1c1fc7f7ffb72d87e12258e2ab5f",
     "grade": false,
     "grade_id": "cell-843ea3d942861b83",
     "locked": true,
     "schema_version": 3,
     "solution": false,
     "task": false
    },
    "slideshow": {
     "slide_type": ""
    },
    "tags": []
   },
   "source": [
    "Some of the column names are a bit confusing. We can use `?tax_2019` to display more information about the data, including a description of the meaning of each column:"
   ]
  },
  {
   "cell_type": "code",
   "execution_count": null,
   "metadata": {
    "deletable": false,
    "editable": false,
    "nbgrader": {
     "cell_type": "code",
     "checksum": "87a648d400793d8ffce301ccd4c0f750",
     "grade": false,
     "grade_id": "cell-faf3c0dec4508a51",
     "locked": true,
     "schema_version": 3,
     "solution": false,
     "task": false
    },
    "slideshow": {
     "slide_type": ""
    },
    "tags": []
   },
   "outputs": [],
   "source": [
    "# Run this cell before continuing.\n",
    "?tax_2019"
   ]
  },
  {
   "cell_type": "markdown",
   "metadata": {
    "deletable": false,
    "editable": false,
    "nbgrader": {
     "cell_type": "markdown",
     "checksum": "9eedb13ef08b3113daa4de7b909bf104",
     "grade": false,
     "grade_id": "cell-87d1179527cc6179",
     "locked": true,
     "schema_version": 3,
     "solution": false,
     "task": false
    },
    "slideshow": {
     "slide_type": ""
    },
    "tags": []
   },
   "source": [
    "As mentioned above, we are only interested in the population corresponding to multiple-family dwellings in strata housing. In this data set, the properties that correspond to that meet the following criteria:  \n",
    "- **Have a land value greater than \\$1:**  Some properties undergoing extensive renovations are assigned a value of `NA`, \\\\$0 or \\\\$1. These values are amended after the renovations and reflected in the following year's assessment.\n",
    "- **Are of legal type land `STRATA`**\n",
    "- **Are of zone category `Multiple Family Dwelling`** "
   ]
  },
  {
   "cell_type": "markdown",
   "metadata": {
    "deletable": false,
    "editable": false,
    "nbgrader": {
     "cell_type": "markdown",
     "checksum": "9739fec7db102f077eefebe40e0d3793",
     "grade": false,
     "grade_id": "cell-e7b0e675810d24b4",
     "locked": true,
     "schema_version": 3,
     "solution": false,
     "task": false
    },
    "slideshow": {
     "slide_type": ""
    },
    "tags": []
   },
   "source": [
    "**Question 2.0** \n",
    "<br> {points: 1}\n",
    "\n",
    "Let's filter our dataset `tax_2019` to get a subset with the above criteria, which we will define as our population. Since we will concentrate on the `current_land_value` column, ensure that your final data frame has only this column.\n",
    "\n",
    "_Assign your data frame to an object called `multi_family_strata`._"
   ]
  },
  {
   "cell_type": "code",
   "execution_count": null,
   "metadata": {
    "deletable": false,
    "nbgrader": {
     "cell_type": "code",
     "checksum": "fd64679ad0b17e78ae94bd8b1c658256",
     "grade": false,
     "grade_id": "cell-a5780df8ff3ee2af",
     "locked": false,
     "schema_version": 3,
     "solution": true,
     "task": false
    }
   },
   "outputs": [],
   "source": [
    "# multi_family_strata <- tax_2019 %>%  \n",
    "#     filter(!is.na(...),\n",
    "#            ...,\n",
    "#            ...,\n",
    "#            ...) %>% \n",
    "#     select(...)\n",
    "\n",
    "# your code here\n",
    "fail() # No Answer - remove if you provide an answer\n",
    "head(multi_family_strata)"
   ]
  },
  {
   "cell_type": "code",
   "execution_count": null,
   "metadata": {
    "deletable": false,
    "editable": false,
    "nbgrader": {
     "cell_type": "code",
     "checksum": "c39323ab8f55471c232b0511ec417475",
     "grade": true,
     "grade_id": "cell-d0d01d8617427f65",
     "locked": true,
     "points": 1,
     "schema_version": 3,
     "solution": false,
     "task": false
    }
   },
   "outputs": [],
   "source": [
    "test_2.0()"
   ]
  },
  {
   "cell_type": "markdown",
   "metadata": {
    "deletable": false,
    "editable": false,
    "nbgrader": {
     "cell_type": "markdown",
     "checksum": "a47b1798f3cd808c84c3ac9f6ef39715",
     "grade": false,
     "grade_id": "cell-f30ea04eea40b9dd",
     "locked": true,
     "schema_version": 3,
     "solution": false,
     "task": false
    }
   },
   "source": [
    "**Question 2.1** \n",
    "<br> {points: 1}\n",
    "\n",
    "Visualize the distribution of `current_land_value` for the population `multi_family_strata` we obtained in the previous question by plotting a histogram using `geom_histogram` with the argument `bins = 50`. Ensure that your axes are human-readable. Use the code skeleton below, which changes the format of the x-axis scale using `scale_x_continuous` and rotated it to make it more readable.\n",
    "\n",
    "_Assign your plot to an object called `pop_dist`._"
   ]
  },
  {
   "cell_type": "code",
   "execution_count": null,
   "metadata": {
    "deletable": false,
    "nbgrader": {
     "cell_type": "code",
     "checksum": "c581096fea1056f7aab328788294a1bf",
     "grade": false,
     "grade_id": "cell-f5534e6c9cd14c66",
     "locked": false,
     "schema_version": 3,
     "solution": true,
     "task": false
    }
   },
   "outputs": [],
   "source": [
    "options(repr.plot.width = 4, repr.plot.height = 3)\n",
    "\n",
    "# pop_dist <- ... %>% \n",
    "#     ggplot(...) + \n",
    "#     geom_...(...) +\n",
    "#     ... +\n",
    "#     ggtitle(\"Land Value Distribution\") +\n",
    "#     scale_x_continuous(labels = scales::dollar_format()) +\n",
    "#     theme(axis.text.x = element_text(angle = 45, hjust = 1))\n",
    "\n",
    "# your code here\n",
    "fail() # No Answer - remove if you provide an answer\n",
    "pop_dist"
   ]
  },
  {
   "cell_type": "code",
   "execution_count": null,
   "metadata": {
    "deletable": false,
    "editable": false,
    "nbgrader": {
     "cell_type": "code",
     "checksum": "bc5f00f1959d25fb834a5c2d1c59a6cd",
     "grade": true,
     "grade_id": "cell-456cbebb3f4f32b4",
     "locked": true,
     "points": 1,
     "schema_version": 3,
     "solution": false,
     "task": false
    }
   },
   "outputs": [],
   "source": [
    "test_2.1()"
   ]
  },
  {
   "cell_type": "markdown",
   "metadata": {
    "deletable": false,
    "editable": false,
    "nbgrader": {
     "cell_type": "markdown",
     "checksum": "01c029d300499e67e41b2e601c933044",
     "grade": false,
     "grade_id": "cell-62b684a63ec96f31",
     "locked": true,
     "schema_version": 3,
     "solution": false,
     "task": false
    }
   },
   "source": [
    "**Question 2.2** \n",
    "<br> {points: 1}\n",
    "\n",
    "We are interested in the population's mean assessed value for multiple-family dwellings in strata housing. We can calculate the population parameter of interest with `summarise` because we have data for the entire population (`multi_family_strata`). (Note: in practice, when we use inferential statistics to estimate a population parameter, we do not have access to the entire population.)\n",
    "\n",
    "\n",
    "_Assign your data frame to an object called `pop_mean`. The resulting data frame should have a single column named `pop_mean`._"
   ]
  },
  {
   "cell_type": "code",
   "execution_count": null,
   "metadata": {
    "deletable": false,
    "nbgrader": {
     "cell_type": "code",
     "checksum": "59482c5e4a1357488f3c17657e6f5256",
     "grade": false,
     "grade_id": "cell-fb1b348c31d1d836",
     "locked": false,
     "schema_version": 3,
     "solution": true,
     "task": false
    }
   },
   "outputs": [],
   "source": [
    "# pop_mean <- ... %>% \n",
    "#     ...(pop_mean = ...(...))\n",
    "\n",
    "# your code here\n",
    "fail() # No Answer - remove if you provide an answer\n",
    "pop_mean"
   ]
  },
  {
   "cell_type": "code",
   "execution_count": null,
   "metadata": {
    "deletable": false,
    "editable": false,
    "nbgrader": {
     "cell_type": "code",
     "checksum": "637d7381fa7ba8df4b602edf716d2b9d",
     "grade": true,
     "grade_id": "cell-dc386e49215841fd",
     "locked": true,
     "points": 1,
     "schema_version": 3,
     "solution": false,
     "task": false
    }
   },
   "outputs": [],
   "source": [
    "test_2.2()"
   ]
  },
  {
   "cell_type": "markdown",
   "metadata": {
    "deletable": false,
    "editable": false,
    "nbgrader": {
     "cell_type": "markdown",
     "checksum": "6cbd51544b9e530652aa543b13330323",
     "grade": false,
     "grade_id": "cell-035b54d76e73d9c0",
     "locked": true,
     "schema_version": 3,
     "solution": false,
     "task": false
    }
   },
   "source": [
    "**Question 2.3** \n",
    "<br> {points: 1}\n",
    "\n",
    "In most cases, we rarely have the resources to record every observation in the population, so instead, we collect a single sample from the population. We use that single sample to estimate a population parameter (as well as infer how accurate our estimate is, but more on that later).\n",
    "\n",
    "Let's pretend we are in such a situation where we can only take a sample of 40 observations without replacement from our population. Use `rep_sample_n` to take your sample, and set the seed to `4321`.\n",
    "\n",
    "_Assign your data frame to an object called `sample_1`._"
   ]
  },
  {
   "cell_type": "code",
   "execution_count": null,
   "metadata": {
    "deletable": false,
    "nbgrader": {
     "cell_type": "code",
     "checksum": "201150415a6629519ab9605b526d5efc",
     "grade": false,
     "grade_id": "cell-6127051155e5b696",
     "locked": false,
     "schema_version": 3,
     "solution": true,
     "task": false
    }
   },
   "outputs": [],
   "source": [
    "set.seed(4321) # DO NOT CHANGE!\n",
    "\n",
    "# sample_1 <- ... %>% \n",
    "#     rep_sample_n(...)\n",
    "\n",
    "# your code here\n",
    "fail() # No Answer - remove if you provide an answer\n",
    "\n",
    "head(sample_1)"
   ]
  },
  {
   "cell_type": "code",
   "execution_count": null,
   "metadata": {
    "deletable": false,
    "editable": false,
    "nbgrader": {
     "cell_type": "code",
     "checksum": "747235c988c10e9490cfd5a128eb49fb",
     "grade": true,
     "grade_id": "cell-d9d2029104a018db",
     "locked": true,
     "points": 1,
     "schema_version": 3,
     "solution": false,
     "task": false
    }
   },
   "outputs": [],
   "source": [
    "test_2.3()"
   ]
  },
  {
   "cell_type": "markdown",
   "metadata": {
    "deletable": false,
    "editable": false,
    "nbgrader": {
     "cell_type": "markdown",
     "checksum": "958f76ca00e269a4c9e7ff37c9efbeb5",
     "grade": false,
     "grade_id": "cell-8fc6b0362a3e2415",
     "locked": true,
     "schema_version": 3,
     "solution": false,
     "task": false
    }
   },
   "source": [
    "**Question 2.4** \n",
    "<br> {points: 1}\n",
    "\n",
    "Visualize the distribution of the random sample you just took (`sample_1`) by plotting a histogram using `geom_histogram` with the argument `bins = 50`. Add a title to the plot using `ggtitle` and ensure the x-axis has a human-readable label.\n",
    "\n",
    "_Assign your plot to an object called `sample_1_dist`._"
   ]
  },
  {
   "cell_type": "code",
   "execution_count": null,
   "metadata": {
    "deletable": false,
    "nbgrader": {
     "cell_type": "code",
     "checksum": "d6e982c270cfc35344b7b52ed7f128d5",
     "grade": false,
     "grade_id": "cell-9b759497eb1b7bef",
     "locked": false,
     "schema_version": 3,
     "solution": true,
     "task": false
    }
   },
   "outputs": [],
   "source": [
    "# your code here\n",
    "fail() # No Answer - remove if you provide an answer\n",
    "sample_1_dist"
   ]
  },
  {
   "cell_type": "code",
   "execution_count": null,
   "metadata": {
    "deletable": false,
    "editable": false,
    "nbgrader": {
     "cell_type": "code",
     "checksum": "0139d2bade7c2af3d9d49bcb8bd7d273",
     "grade": true,
     "grade_id": "cell-029a8b40c27703a3",
     "locked": true,
     "points": 1,
     "schema_version": 3,
     "solution": false,
     "task": false
    }
   },
   "outputs": [],
   "source": [
    "test_2.4()"
   ]
  },
  {
   "cell_type": "markdown",
   "metadata": {
    "deletable": false,
    "editable": false,
    "nbgrader": {
     "cell_type": "markdown",
     "checksum": "2fb29de4acd971be6d7e1f816a21c98e",
     "grade": false,
     "grade_id": "cell-3c4b35ed554cb337",
     "locked": true,
     "schema_version": 3,
     "solution": false,
     "task": false
    }
   },
   "source": [
    "**Question 2.5** \n",
    "<br> {points: 1}\n",
    "\n",
    "Recall that our population parameter of interest is the population's mean assessed value. Using the sample you just took (`sample_1`), calculate a point estimate for the population mean using `summarise`. The resulting data frame should have a single column named `sample_1_mean`.\n",
    "\n",
    "_Assign your data frame to an object called `sample_1_mean`._"
   ]
  },
  {
   "cell_type": "code",
   "execution_count": null,
   "metadata": {
    "deletable": false,
    "nbgrader": {
     "cell_type": "code",
     "checksum": "d9b57b26c96ef1f50d68e0752e339b55",
     "grade": false,
     "grade_id": "cell-66a0061d96d6e200",
     "locked": false,
     "schema_version": 3,
     "solution": true,
     "task": false
    }
   },
   "outputs": [],
   "source": [
    "# sample_1_mean <- ... %>% \n",
    "#     ...(sample_1_mean = ...(...)) %>% \n",
    "#     select(-replicate)\n",
    "\n",
    "# your code here\n",
    "fail() # No Answer - remove if you provide an answer\n",
    "sample_1_mean"
   ]
  },
  {
   "cell_type": "code",
   "execution_count": null,
   "metadata": {
    "deletable": false,
    "editable": false,
    "nbgrader": {
     "cell_type": "code",
     "checksum": "79cf0a8f9f98f38975b2f12fa0a3a56e",
     "grade": true,
     "grade_id": "cell-ee2a0a06a44ea114",
     "locked": true,
     "points": 1,
     "schema_version": 3,
     "solution": false,
     "task": false
    }
   },
   "outputs": [],
   "source": [
    "test_2.5()"
   ]
  },
  {
   "cell_type": "markdown",
   "metadata": {
    "deletable": false,
    "editable": false,
    "nbgrader": {
     "cell_type": "markdown",
     "checksum": "ec56bdfbf26965bddecc03671726450b",
     "grade": false,
     "grade_id": "cell-21b6178f8e9bdffb",
     "locked": true,
     "schema_version": 3,
     "solution": false,
     "task": false
    }
   },
   "source": [
    "Now, let's compare our random sample to the population from where it was drawn.\n",
    "\n",
    "**Note**: A small number of our population and sample members are not visible because we set an upper bound on the x-axis so you can see a majority of the distribution more easily (this causes some of the warnings you see below)."
   ]
  },
  {
   "cell_type": "code",
   "execution_count": null,
   "metadata": {
    "deletable": false,
    "editable": false,
    "nbgrader": {
     "cell_type": "code",
     "checksum": "2f84d3a92b771bf0bbc4571aa6fb32b3",
     "grade": false,
     "grade_id": "cell-154ba1653638eb0b",
     "locked": true,
     "schema_version": 3,
     "solution": false,
     "task": false
    }
   },
   "outputs": [],
   "source": [
    "# Run this cell before continuing.\n",
    "options(repr.plot.height = 5, repr.plot.width = 4)\n",
    "plot_grid(pop_dist +\n",
    "                 scale_x_continuous(limits = c(0, 3000000),\n",
    "                                    labels = scales::dollar_format()),\n",
    "          sample_1_dist +\n",
    "                 scale_x_continuous(limits = c(0, 3000000),\n",
    "                                    labels = scales::dollar_format()) +\n",
    "                 scale_y_continuous(breaks = seq(0, 10, 2)),\n",
    "          align = \"v\",\n",
    "          axis = \"lr\",\n",
    "          ncol = 1)"
   ]
  },
  {
   "cell_type": "markdown",
   "metadata": {
    "deletable": false,
    "editable": false,
    "nbgrader": {
     "cell_type": "markdown",
     "checksum": "1db5bdcf42a857d37f17e593e652479c",
     "grade": false,
     "grade_id": "cell-eb2c62ea4906de98",
     "locked": true,
     "schema_version": 3,
     "solution": false,
     "task": false
    }
   },
   "source": [
    "Now, let's compare our point estimate with the true population parameter we were trying to estimate:"
   ]
  },
  {
   "cell_type": "code",
   "execution_count": null,
   "metadata": {
    "deletable": false,
    "editable": false,
    "nbgrader": {
     "cell_type": "code",
     "checksum": "f2af69c97270786dfed16a5277ba71a0",
     "grade": false,
     "grade_id": "cell-be2a0262a31de71f",
     "locked": true,
     "schema_version": 3,
     "solution": false,
     "task": false
    }
   },
   "outputs": [],
   "source": [
    "# Run this cell before continuing.\n",
    "pop_mean\n",
    "sample_1_mean"
   ]
  },
  {
   "cell_type": "markdown",
   "metadata": {
    "deletable": false,
    "editable": false,
    "nbgrader": {
     "cell_type": "markdown",
     "checksum": "e17f0c0ec3924ebf8e0932b043c22fb6",
     "grade": false,
     "grade_id": "cell-8659c3d519a6c08c",
     "locked": true,
     "schema_version": 3,
     "solution": false,
     "task": false
    }
   },
   "source": [
    "**Question 2.6**\n",
    "<br> {points: 1}\n",
    "\n",
    "After comparing the population and sample distributions above, and the true population parameter and the sample point estimate, which statement below **is not** correct:\n",
    "\n",
    "A. The sample point estimate is close to the value of the true population parameter we are trying to estimate.\n",
    "\n",
    "B. The sample distribution is of a similar shape to the population distribution.\n",
    "\n",
    "C. The sample point estimate is identical to the value of the true population parameter we are trying to estimate.\n",
    "\n",
    "_Assign your answer to an object called `answer2.6`. Your answer should be a single character surrounded by quotes._"
   ]
  },
  {
   "cell_type": "code",
   "execution_count": null,
   "metadata": {
    "deletable": false,
    "lines_to_next_cell": 2,
    "nbgrader": {
     "cell_type": "code",
     "checksum": "b9c2200ce49ef7de76cff40d16184a7d",
     "grade": false,
     "grade_id": "cell-b8b05f3e0f161221",
     "locked": false,
     "schema_version": 3,
     "solution": true,
     "task": false
    }
   },
   "outputs": [],
   "source": [
    "# answer2.6 <- ...\n",
    "\n",
    "# your code here\n",
    "fail() # No Answer - remove if you provide an answer"
   ]
  },
  {
   "cell_type": "code",
   "execution_count": null,
   "metadata": {
    "deletable": false,
    "editable": false,
    "nbgrader": {
     "cell_type": "code",
     "checksum": "74e014ca333f080afd3d0b1f4f835c55",
     "grade": true,
     "grade_id": "cell-be6afdaf764b33d4",
     "locked": true,
     "points": 1,
     "schema_version": 3,
     "solution": false,
     "task": false
    }
   },
   "outputs": [],
   "source": [
    "test_2.6()"
   ]
  },
  {
   "cell_type": "markdown",
   "metadata": {
    "deletable": false,
    "editable": false,
    "nbgrader": {
     "cell_type": "markdown",
     "checksum": "57777e6bce0367fd7328536cf8b6ab55",
     "grade": false,
     "grade_id": "cell-76f60ee97027b734",
     "locked": true,
     "schema_version": 3,
     "solution": false,
     "task": false
    }
   },
   "source": [
    "**Question 2.7** \n",
    "<br> {points: 1}\n",
    "\n",
    "What if we took another sample? What would we expect? Let's try! Take another random sample from the population using the seed `9999`, visualize its distribution, and then calculate the point estimate (sample mean). To do this, copy and paste the code below and then rearrange the lines so that the code runs properly.\n",
    "\n",
    "```{r}\n",
    "summarise(sample_2_mean = mean(current_land_value))\n",
    "xlab(\"Land Value (CAD)\") +\n",
    "rep_sample_n(40)\n",
    "scale_x_continuous(labels = scales::dollar_format()) +\n",
    "theme(axis.text.x = element_text(angle = 45, hjust = 1))\n",
    "sample_2 <- multi_family_strata %>% \n",
    "ggtitle(\"Sample 2 distribution\") +\n",
    "geom_histogram(bins = 50) +\n",
    "sample_2_mean <- sample_2 %>% \n",
    "sample_2_dist <- ggplot(sample_2, aes(x = current_land_value)) + \n",
    "```\n",
    "\n",
    "_You should end up with three objects: `sample_2` (your random sample), `sample_2_dist` (your plot), and `sample_2_mean` (your point estimate)._"
   ]
  },
  {
   "cell_type": "code",
   "execution_count": null,
   "metadata": {
    "deletable": false,
    "nbgrader": {
     "cell_type": "code",
     "checksum": "ee89637f7255d520b4d4750b2f35e0d1",
     "grade": false,
     "grade_id": "cell-2a682041fddd28e7",
     "locked": false,
     "schema_version": 3,
     "solution": true,
     "task": false
    }
   },
   "outputs": [],
   "source": [
    "set.seed(9999) # DO NOT CHANGE!\n",
    "options(repr.plot.width = 4, repr.plot.height = 3)\n",
    "\n",
    "# your code here\n",
    "fail() # No Answer - remove if you provide an answer\n",
    "sample_2_dist\n",
    "sample_2_mean"
   ]
  },
  {
   "cell_type": "code",
   "execution_count": null,
   "metadata": {
    "deletable": false,
    "editable": false,
    "nbgrader": {
     "cell_type": "code",
     "checksum": "022d2d8252e3862fd6f7855ff0941780",
     "grade": true,
     "grade_id": "cell-1db5a1e7c5ad9e78",
     "locked": true,
     "points": 1,
     "schema_version": 3,
     "solution": false,
     "task": false
    }
   },
   "outputs": [],
   "source": [
    "test_2.7()"
   ]
  },
  {
   "cell_type": "markdown",
   "metadata": {
    "deletable": false,
    "editable": false,
    "nbgrader": {
     "cell_type": "markdown",
     "checksum": "229d7e38abbe38223d106c4335fc388d",
     "grade": false,
     "grade_id": "cell-b6efdf4350e942fd",
     "locked": true,
     "schema_version": 3,
     "solution": false,
     "task": false
    }
   },
   "source": [
    "Use the distributions and point estimates below to answer the **next question**. Some of the code may be confusing, but you do not need to understand the code to answer the question.\n",
    "\n",
    "**Note**: A small number of the members of our population and samples are not visible because we set an upper bound on the x-axis so you can see most of the distribution more easily."
   ]
  },
  {
   "cell_type": "code",
   "execution_count": null,
   "metadata": {
    "deletable": false,
    "editable": false,
    "nbgrader": {
     "cell_type": "code",
     "checksum": "d51a43b876add5a9919a6d4d0f10c295",
     "grade": false,
     "grade_id": "cell-15b9866aa792f76b",
     "locked": true,
     "schema_version": 3,
     "solution": false,
     "task": false
    }
   },
   "outputs": [],
   "source": [
    "# Run this cell before continuing.\n",
    "cat(\"True population mean: \", as.numeric(pop_mean$pop_mean), \"\\n\")\n",
    "cat(\"Sample 1 point estimate of mean: \", as.numeric(sample_1_mean$sample_1_mean), \"\\n\")\n",
    "cat(\"Sample 2 point estimate of mean: \", as.numeric(sample_2_mean$sample_2_mean))\n",
    "options(repr.plot.height = 4, repr.plot.width = 6)\n",
    "suppressWarnings(suppressMessages(plot_grid(pop_dist + scale_x_continuous(limits = c(0, 3000000),\n",
    "                                                                          labels = scales::dollar_format()),\n",
    "          sample_1_dist + scale_x_continuous(limits = c(0, 3000000),\n",
    "                                             labels = scales::dollar_format()),\n",
    "          sample_2_dist + scale_x_continuous(limits = c(0, 3000000),\n",
    "                                             labels = scales::dollar_format()),\n",
    "          ncol = 3)))"
   ]
  },
  {
   "cell_type": "markdown",
   "metadata": {
    "deletable": false,
    "editable": false,
    "nbgrader": {
     "cell_type": "markdown",
     "checksum": "59fcb6f75dccfb5205d27800b6873daf",
     "grade": false,
     "grade_id": "cell-eb219a4fb15011de",
     "locked": true,
     "schema_version": 3,
     "solution": false,
     "task": false
    }
   },
   "source": [
    "**Question 2.8** \n",
    "<br> {points: 1}\n",
    "\n",
    "After comparing the distribution and point estimate of this second random sample from the population with that of the first random sample and the population, which of the statements below is **not** correct?\n",
    "\n",
    "A. The distributions of different random samples will vary a bit depending on which values are captured in the sample.\n",
    "\n",
    "B. The sample distributions from different random samples are of a similar shape to the population distribution.\n",
    "\n",
    "C. The point estimates from different random samples are close to the true population parameter, but they vary a bit depending on which values are captured in the sample.\n",
    "\n",
    "D. Every random sample from the same population will have a point estimate equal to the population parameter you are trying to estimate.\n",
    "\n",
    "_Assign your answer to an object called `answer2.8`. Your answer should be a single character surrounded by quotes._"
   ]
  },
  {
   "cell_type": "code",
   "execution_count": null,
   "metadata": {
    "deletable": false,
    "nbgrader": {
     "cell_type": "code",
     "checksum": "193f0285ea8ce598c693a5196a229dc2",
     "grade": false,
     "grade_id": "cell-edd6cd70c14dfcca",
     "locked": false,
     "schema_version": 3,
     "solution": true,
     "task": false
    }
   },
   "outputs": [],
   "source": [
    "# answer2.8 <- ...\n",
    "\n",
    "# your code here\n",
    "fail() # No Answer - remove if you provide an answer"
   ]
  },
  {
   "cell_type": "code",
   "execution_count": null,
   "metadata": {
    "deletable": false,
    "editable": false,
    "nbgrader": {
     "cell_type": "code",
     "checksum": "de3380699c3b5bcf45898bbca133a65d",
     "grade": true,
     "grade_id": "cell-961d5cc12c2f4ef7",
     "locked": true,
     "points": 1,
     "schema_version": 3,
     "solution": false,
     "task": false
    }
   },
   "outputs": [],
   "source": [
    "test_2.8()"
   ]
  },
  {
   "cell_type": "markdown",
   "metadata": {
    "deletable": false,
    "editable": false,
    "nbgrader": {
     "cell_type": "markdown",
     "checksum": "7cfde7a42bdb4904e81387a5f1f8c200",
     "grade": false,
     "grade_id": "cell-8f85485e137d66db",
     "locked": true,
     "schema_version": 3,
     "solution": false,
     "task": false
    }
   },
   "source": [
    "## 3. Exploring the sampling distribution of an estimate\n",
    "\n",
    "How much should we expect the point estimates of our random samples to vary? Let's experiment more with our multiple-family dwelling property population to build an intuition. To do this, we will take 1500 random samples of size 40 and then calculate the point estimate we are interested in (let's choose the mean for this example) for each sample. Finally, we will visualize the distribution of the sample point estimates. This distribution will tell us how much we would expect the point estimates of our random samples to vary for this population for samples of size 40 (the size of our samples).\n",
    "\n",
    "As mentioned above, the real sampling distribution of the mean would contain all possible sample mean values for a given sample size (here 40), but since getting all possible values would take too long to run, we will approximate this sampling distribution by taking 1500 random samples from the population."
   ]
  },
  {
   "cell_type": "markdown",
   "metadata": {
    "deletable": false,
    "editable": false,
    "nbgrader": {
     "cell_type": "markdown",
     "checksum": "5b177235289c1756a0fa7d251cd8fe64",
     "grade": false,
     "grade_id": "cell-f430927379459861",
     "locked": true,
     "schema_version": 3,
     "solution": false,
     "task": false
    }
   },
   "source": [
    "**Question 3.0** \n",
    "<br> {points: 1}\n",
    "\n",
    "Draw 1500 random samples from our population of multiple family dwelling strata properties (`multi_family_strata`). Each sample should have 40 observations. Use `4321` as your seed.\n",
    "\n",
    "_Assign your data frame to an object called `samples`._"
   ]
  },
  {
   "cell_type": "code",
   "execution_count": null,
   "metadata": {
    "deletable": false,
    "nbgrader": {
     "cell_type": "code",
     "checksum": "e3b467f49cb94ce4c4c5cb16cc6d459e",
     "grade": false,
     "grade_id": "cell-0cd0a42b7d255c17",
     "locked": false,
     "schema_version": 3,
     "solution": true,
     "task": false
    }
   },
   "outputs": [],
   "source": [
    "set.seed(4321) # DO NOT CHANGE!\n",
    "\n",
    "# samples <- ... %>% \n",
    "#     rep_sample_n(size = ..., reps = ...)\n",
    "\n",
    "# your code here\n",
    "fail() # No Answer - remove if you provide an answer\n",
    "head(samples)\n",
    "tail(samples)\n",
    "nrow(samples)"
   ]
  },
  {
   "cell_type": "code",
   "execution_count": null,
   "metadata": {
    "deletable": false,
    "editable": false,
    "nbgrader": {
     "cell_type": "code",
     "checksum": "943b549dac343d73ffc0369bfc501c25",
     "grade": true,
     "grade_id": "cell-5fb4d9288b5d06ed",
     "locked": true,
     "points": 1,
     "schema_version": 3,
     "solution": false,
     "task": false
    }
   },
   "outputs": [],
   "source": [
    "test_3.0()"
   ]
  },
  {
   "cell_type": "markdown",
   "metadata": {
    "deletable": false,
    "editable": false,
    "nbgrader": {
     "cell_type": "markdown",
     "checksum": "05b9186a8dc5719f6bdb18f57bf58d5b",
     "grade": false,
     "grade_id": "cell-9d0c47c5bd510ff6",
     "locked": true,
     "schema_version": 3,
     "solution": false,
     "task": false
    }
   },
   "source": [
    "**Question 3.1** \n",
    "<br> {points: 1}\n",
    "\n",
    "Using the 1500 random samples you just took, group them by the sample replicate number (`replicate`), and then, for each sample, calculate the mean as the point estimate. The resulting data frame should have the columns `replicate` and `sample_mean`.\n",
    "\n",
    "_Assign your data frame to an object called `sample_estimates`._"
   ]
  },
  {
   "cell_type": "code",
   "execution_count": null,
   "metadata": {
    "deletable": false,
    "nbgrader": {
     "cell_type": "code",
     "checksum": "23c02dcc215ba3768557e25a840f948c",
     "grade": false,
     "grade_id": "cell-f7a679dc1b0f3222",
     "locked": false,
     "schema_version": 3,
     "solution": true,
     "task": false
    }
   },
   "outputs": [],
   "source": [
    "# your code here\n",
    "fail() # No Answer - remove if you provide an answer\n",
    "head(sample_estimates)\n",
    "tail(sample_estimates)"
   ]
  },
  {
   "cell_type": "code",
   "execution_count": null,
   "metadata": {
    "deletable": false,
    "editable": false,
    "nbgrader": {
     "cell_type": "code",
     "checksum": "4797c5899ed21910615640778b523142",
     "grade": true,
     "grade_id": "cell-f2619e029e119d40",
     "locked": true,
     "points": 1,
     "schema_version": 3,
     "solution": false,
     "task": false
    }
   },
   "outputs": [],
   "source": [
    "test_3.1()"
   ]
  },
  {
   "cell_type": "markdown",
   "metadata": {
    "deletable": false,
    "editable": false,
    "nbgrader": {
     "cell_type": "markdown",
     "checksum": "55306e0899a5c2bec00e77bad5e252bb",
     "grade": false,
     "grade_id": "cell-f7c9f1334fb8632e",
     "locked": true,
     "schema_version": 3,
     "solution": false,
     "task": false
    }
   },
   "source": [
    "**Question 3.2** \n",
    "<br> {points: 1}\n",
    "\n",
    "Visualize the distribution of the sample estimates (`sample_estimates`) you just calculated by plotting a histogram using `geom_histogram` with the argument `bins = 30`. Add a title to the plot using `ggtitle` and ensure the x-axis has a human-readable label.\n",
    "\n",
    "_Assign your plot to an object called `sampling_distribution`._"
   ]
  },
  {
   "cell_type": "code",
   "execution_count": null,
   "metadata": {
    "deletable": false,
    "nbgrader": {
     "cell_type": "code",
     "checksum": "12c992c285f57da6dc6b137332ead3bc",
     "grade": false,
     "grade_id": "cell-918edc33544fa612",
     "locked": false,
     "schema_version": 3,
     "solution": true,
     "task": false
    }
   },
   "outputs": [],
   "source": [
    "# your code here\n",
    "fail() # No Answer - remove if you provide an answer\n",
    "sampling_distribution"
   ]
  },
  {
   "cell_type": "code",
   "execution_count": null,
   "metadata": {
    "deletable": false,
    "editable": false,
    "nbgrader": {
     "cell_type": "code",
     "checksum": "a0c9beb1101642671efa22fc74d2baa5",
     "grade": true,
     "grade_id": "cell-5bea467e58589db9",
     "locked": true,
     "points": 1,
     "schema_version": 3,
     "solution": false,
     "task": false
    }
   },
   "outputs": [],
   "source": [
    "test_3.2()"
   ]
  },
  {
   "cell_type": "markdown",
   "metadata": {
    "deletable": false,
    "editable": false,
    "nbgrader": {
     "cell_type": "markdown",
     "checksum": "f04c3ca09c9547b912386d2fa825efca",
     "grade": false,
     "grade_id": "cell-cb6de75bfb66278d",
     "locked": true,
     "schema_version": 3,
     "solution": false,
     "task": false
    }
   },
   "source": [
    "**Question 3.3** \n",
    "<br> {points: 1}\n",
    "\n",
    "Let's refresh our memory: what is the mean current land value of the population (we calculated this above)?\n",
    "\n",
    "_Assign your answer to an object called `answer3.3`. Your answer should be a single number._"
   ]
  },
  {
   "cell_type": "code",
   "execution_count": null,
   "metadata": {
    "deletable": false,
    "nbgrader": {
     "cell_type": "code",
     "checksum": "24edbefbbe98e7aced39653477907b87",
     "grade": false,
     "grade_id": "cell-db4bbfe72c697682",
     "locked": false,
     "schema_version": 3,
     "solution": true,
     "task": false
    }
   },
   "outputs": [],
   "source": [
    "# answer3.3 <- ...\n",
    "\n",
    "# your code here\n",
    "fail() # No Answer - remove if you provide an answer\n",
    "answer3.3"
   ]
  },
  {
   "cell_type": "code",
   "execution_count": null,
   "metadata": {
    "deletable": false,
    "editable": false,
    "nbgrader": {
     "cell_type": "code",
     "checksum": "c27ae11c8bdbdf277d6f8436fdcc8478",
     "grade": true,
     "grade_id": "cell-b07acd6be3cc9451",
     "locked": true,
     "points": 1,
     "schema_version": 3,
     "solution": false,
     "task": false
    }
   },
   "outputs": [],
   "source": [
    "test_3.3()"
   ]
  },
  {
   "cell_type": "markdown",
   "metadata": {
    "deletable": false,
    "editable": false,
    "nbgrader": {
     "cell_type": "markdown",
     "checksum": "9ccd1806cf15d08ed4ae837a777d56c3",
     "grade": false,
     "grade_id": "cell-a8242c02db1ac403",
     "locked": true,
     "schema_version": 3,
     "solution": false,
     "task": false
    }
   },
   "source": [
    "**Question 3.4**\n",
    "<br> {points: 1}\n",
    "\n",
    "Considering the true value for the population mean and the sampling distribution you created and visualized in Question 3.2, which statement below is **not** correct:\n",
    "\n",
    "A. The sampling distribution is centred at the true population mean.\n",
    "\n",
    "B. Most sample means are at or very near the same value as the true population mean.\n",
    "\n",
    "C. All the sample means are the same value as the true population mean.\n",
    "\n",
    "D. The sampling distribution is more concentrated around the population mean than most sample distributions would be.\n",
    "\n",
    "*Assign your answer to an object called `answer3.4`. Your answer should be a single character surrounded by quotes.*"
   ]
  },
  {
   "cell_type": "code",
   "execution_count": null,
   "metadata": {
    "deletable": false,
    "nbgrader": {
     "cell_type": "code",
     "checksum": "723db5b425f55a9325bf8f71b97894a5",
     "grade": false,
     "grade_id": "cell-b016cfdf5fb664e1",
     "locked": false,
     "schema_version": 3,
     "solution": true,
     "task": false
    }
   },
   "outputs": [],
   "source": [
    "# answer3.4 <- ...\n",
    "\n",
    "# your code here\n",
    "fail() # No Answer - remove if you provide an answer"
   ]
  },
  {
   "cell_type": "code",
   "execution_count": null,
   "metadata": {
    "deletable": false,
    "editable": false,
    "nbgrader": {
     "cell_type": "code",
     "checksum": "85abd61dadefa75ad14210bdd4ae6d88",
     "grade": true,
     "grade_id": "cell-2f8e7fb5ba342a36",
     "locked": true,
     "points": 1,
     "schema_version": 3,
     "solution": false,
     "task": false
    }
   },
   "outputs": [],
   "source": [
    "test_3.4()"
   ]
  },
  {
   "cell_type": "code",
   "execution_count": null,
   "metadata": {
    "deletable": false,
    "editable": false,
    "nbgrader": {
     "cell_type": "code",
     "checksum": "772031e9aec1136d2353b4b07c8caea8",
     "grade": false,
     "grade_id": "cell-c5a2718621752af7",
     "locked": true,
     "schema_version": 3,
     "solution": false,
     "task": false
    }
   },
   "outputs": [],
   "source": [
    "# Run this cell before continuing.\n",
    "sampling_distribution + \n",
    "    scale_x_continuous(breaks = seq(500000, 1000000, 100000),\n",
    "                       labels = scales::dollar_format())"
   ]
  },
  {
   "cell_type": "markdown",
   "metadata": {
    "deletable": false,
    "editable": false,
    "nbgrader": {
     "cell_type": "markdown",
     "checksum": "6517fd3c24463b65db5a4bcf922373fc",
     "grade": false,
     "grade_id": "cell-22a1ff67bac51f32",
     "locked": true,
     "schema_version": 3,
     "solution": false,
     "task": false
    }
   },
   "source": [
    "**Question 3.5**\n",
    "<br> {points: 1}\n",
    "\n",
    "Considering the sampling distribution you visualized in Question 3.2 (and showed again above), within which of the following range of values (in CAD) do **most** of the sample means lie? We have printed the sampling distribution again directly above this question for your convenience.\n",
    "\n",
    "A. \\\\$700,000 to \\\\$1,000,000\n",
    "\n",
    "B. \\\\$650,000 to \\\\$800,000\n",
    "\n",
    "C. \\\\$550,000 to \\\\$700,000\n",
    "\n",
    "D. \\\\$500,000 to \\\\$600,000\n",
    "\n",
    "_Assign your answer to an object called `answer3.5`. Your answer should be a single character surrounded by quotes._"
   ]
  },
  {
   "cell_type": "code",
   "execution_count": null,
   "metadata": {
    "deletable": false,
    "nbgrader": {
     "cell_type": "code",
     "checksum": "ecd3cdb0edb0343f0f44273c32a018f3",
     "grade": false,
     "grade_id": "cell-185c21a8d9bc1db6",
     "locked": false,
     "schema_version": 3,
     "solution": true,
     "task": false
    }
   },
   "outputs": [],
   "source": [
    "# answer3.5 <- ...\n",
    "\n",
    "# your code here\n",
    "fail() # No Answer - remove if you provide an answer"
   ]
  },
  {
   "cell_type": "code",
   "execution_count": null,
   "metadata": {
    "deletable": false,
    "editable": false,
    "nbgrader": {
     "cell_type": "code",
     "checksum": "4d67ba68602800d12b2d3acb189314a7",
     "grade": true,
     "grade_id": "cell-83569649ee33da44",
     "locked": true,
     "points": 1,
     "schema_version": 3,
     "solution": false,
     "task": false
    }
   },
   "outputs": [],
   "source": [
    "test_3.5()"
   ]
  },
  {
   "cell_type": "markdown",
   "metadata": {
    "deletable": false,
    "editable": false,
    "nbgrader": {
     "cell_type": "markdown",
     "checksum": "455b42c181d2d0350fad3f7f0cbda87a",
     "grade": false,
     "grade_id": "cell-2faa963145be56a4",
     "locked": true,
     "schema_version": 3,
     "solution": false,
     "task": false
    }
   },
   "source": [
    "**Question 3.6**\n",
    "<br> {points: 1}\n",
    "\n",
    "True or false?\n",
    "\n",
    "Taking a random sample and calculating a point estimate is a \"good guess\" of the unknown population parameter you are interested in. \n",
    "\n",
    "_Assign your answer to an object called `answer3.6`. Your answer should be either \"true\" or \"false\", surrounded by quotes._"
   ]
  },
  {
   "cell_type": "code",
   "execution_count": null,
   "metadata": {
    "deletable": false,
    "nbgrader": {
     "cell_type": "code",
     "checksum": "2a00b71658b8ea0c3d6bc7ea8f437b85",
     "grade": false,
     "grade_id": "cell-bc3094d5d6c32ef5",
     "locked": false,
     "schema_version": 3,
     "solution": true,
     "task": false
    }
   },
   "outputs": [],
   "source": [
    "# answer3.6 <- ...\n",
    "\n",
    "# your code here\n",
    "fail() # No Answer - remove if you provide an answer"
   ]
  },
  {
   "cell_type": "code",
   "execution_count": null,
   "metadata": {
    "deletable": false,
    "editable": false,
    "nbgrader": {
     "cell_type": "code",
     "checksum": "986e4edc62b8493cca287da7b6f048dd",
     "grade": true,
     "grade_id": "cell-6969f5fb23f7b4c9",
     "locked": true,
     "points": 1,
     "schema_version": 3,
     "solution": false,
     "task": false
    }
   },
   "outputs": [],
   "source": [
    "test_3.6()"
   ]
  },
  {
   "cell_type": "markdown",
   "metadata": {
    "deletable": false,
    "editable": false,
    "nbgrader": {
     "cell_type": "markdown",
     "checksum": "2811397e791df434de1628fbfd2970be",
     "grade": false,
     "grade_id": "cell-273734adaa8bd084",
     "locked": true,
     "schema_version": 3,
     "solution": false,
     "task": false
    }
   },
   "source": [
    "**Question 3.7**\n",
    "<br> {points: 1}\n",
    "\n",
    "Suppose you work for a radio station in Vancouver, and the owner (your boss) is interested in selecting music based on the age of the audience. You are asked to gather a random sample of the audience and report an estimation of the mean age of the entire audience to your boss. Considering what you know about sampling distributions, which of the following **is true** regarding the estimation of the population parameter of interest (mean) using a point estimate?\n",
    "\n",
    "A. A point estimate might be inaccurate, depending on who ends up in the random sample. Perhaps you should hold off on this project until you learn more about the error associated with a point estimate and how you could report it to your boss.\n",
    "\n",
    "B. A point estimate might be inaccurate, depending on who ends up in the random sample. However, you should ignore this and not report anything about this to your boss since there is a much higher chance that the point estimate will be close to the true population parameter.\n",
    "\n",
    "C. A point estimate from a random sample is guaranteed to be accurate. You can report the point estimate to your boss with complete confidence.\n",
    "\n",
    "_Assign your answer to an object called `answer3.7`. Your answer should be a single character surrounded by quotes._"
   ]
  },
  {
   "cell_type": "code",
   "execution_count": null,
   "metadata": {
    "deletable": false,
    "nbgrader": {
     "cell_type": "code",
     "checksum": "7f9fe9ce903cd1f20de14715f68f7e22",
     "grade": false,
     "grade_id": "cell-fb7837805cdad156",
     "locked": false,
     "schema_version": 3,
     "solution": true,
     "task": false
    }
   },
   "outputs": [],
   "source": [
    "# answer3.7 <- ...\n",
    "\n",
    "# your code here\n",
    "fail() # No Answer - remove if you provide an answer"
   ]
  },
  {
   "cell_type": "code",
   "execution_count": null,
   "metadata": {
    "deletable": false,
    "editable": false,
    "nbgrader": {
     "cell_type": "code",
     "checksum": "de6ef045e706aca977bbe745c5435bda",
     "grade": true,
     "grade_id": "cell-10d1f7d1ec842a1f",
     "locked": true,
     "points": 1,
     "schema_version": 3,
     "solution": false,
     "task": false
    }
   },
   "outputs": [],
   "source": [
    "test_3.7()"
   ]
  },
  {
   "cell_type": "markdown",
   "metadata": {
    "deletable": false,
    "editable": false,
    "nbgrader": {
     "cell_type": "markdown",
     "checksum": "e9fdf2661ae243a2b305ab65fe22bbf3",
     "grade": false,
     "grade_id": "cell-69c9234f72a8306d",
     "locked": true,
     "schema_version": 3,
     "solution": false,
     "task": false
    }
   },
   "source": [
    "## 4. Random and Representative Sampling\n",
    "\n",
    "Imagine you are at an outdoor Taylor Swift concert at the Coachella Valley Music and Arts Festival along with over 125,000 others in attendance, and you are interested in the proportion of the audience that has the entire Taylor Swift discography. Clearly, it would take far too many resources to check whether each audience member has the discography. So, how would you answer your question?\n",
    "\n",
    "This situation, which is analogous to scenarios commonly faced in reality, would force you to estimate the population parameter rather than calculate it directly. As we have learned, one method of doing so is by **sampling**.\n",
    "\n",
    "\n",
    "<div style=\"text-align: center\">\n",
    "    <img src=\"https://media.giphy.com/media/fxTqfhCjfQC03qBVch/giphy.gif\"><br>\n",
    "    <i>Image from <a href=\"https://media.giphy.com/media/fxTqfhCjfQC03qBVch/giphy.gif\">giphy.com</i></a>\n",
    "    <br><br>\n",
    "</div>\n",
    "\n",
    "So far, we have been using the `rep_sample_n` function to take virtual samples from data that we have acquired for entire populations, which guarantees that our samples are as **random** as possible and gives us a high chance that they are **representative**. However, how do we take a sample in reality when we don't have a function to do it for us?\n",
    "\n",
    "In the scenario above, suppose you took a sample from the population by asking the 40 people closest to the stage if they have Taylor Swift's entire discography. Would this sample be representative of the population? Likely not. Perhaps the individuals near the front are diehard Taylor Swift fans and are more likely to have bought the entire discography. This approach may result in an estimate that is much higher than the true parameter. But is the sample random, at least? Not necessarily. Perhaps you had to line up early at the entrance to have a chance at being near the front, which means that those who are not diehard Taylor Swift fans and came in later had a significantly lower chance of being selected, making the sample biased.\n",
    "\n",
    "The following questions will focus on your understanding of random and representative sampling and how it can affect your estimations."
   ]
  },
  {
   "cell_type": "markdown",
   "metadata": {
    "deletable": false,
    "editable": false,
    "nbgrader": {
     "cell_type": "markdown",
     "checksum": "0ef9b14c9a29c6a18a68036cd471d14f",
     "grade": false,
     "grade_id": "cell-311927371ad9b510",
     "locked": true,
     "schema_version": 3,
     "solution": false,
     "task": false
    }
   },
   "source": [
    "**Question 4.0**\n",
    "<br>{points: 1}\n",
    "\n",
    "You are interested in determining the proportion of students at UBC that own an iPhone, but you do not have the resources to perform a census. Which sampling method would you expect to be the **least** biased?\n",
    "\n",
    "A. From a list of all registered UBC students, you randomly select 30 students and ask them if they own an iPhone.\n",
    "\n",
    "B. You randomly select 30 different people at the Starbucks in the Life Building ask them if they own an iPhone.\n",
    "\n",
    "C. From a list of all students registered in your STAT 201 lecture, you randomly select 30 students and ask them if they own an iPhone.\n",
    "\n",
    "D. You stand near an entrance to the West Parkade and randomly select 30 different people entering the parkade and ask them if they own an iPhone.\n",
    "\n",
    "_Assign your answer to an object called `answer4.0`. Your answer should be a single character surrounded by quotes._\n"
   ]
  },
  {
   "cell_type": "code",
   "execution_count": null,
   "metadata": {
    "deletable": false,
    "nbgrader": {
     "cell_type": "code",
     "checksum": "1e7b3dea448281c398be355bd4948a5c",
     "grade": false,
     "grade_id": "cell-fb164ff3a982da47",
     "locked": false,
     "schema_version": 3,
     "solution": true,
     "task": false
    }
   },
   "outputs": [],
   "source": [
    "# answer4.0 <- ...\n",
    "\n",
    "# your code here\n",
    "fail() # No Answer - remove if you provide an answer"
   ]
  },
  {
   "cell_type": "code",
   "execution_count": null,
   "metadata": {
    "deletable": false,
    "editable": false,
    "nbgrader": {
     "cell_type": "code",
     "checksum": "ebd1651858dfc90675797bd47e614c6e",
     "grade": true,
     "grade_id": "cell-466a9a2fdbce063c",
     "locked": true,
     "points": 1,
     "schema_version": 3,
     "solution": false,
     "task": false
    }
   },
   "outputs": [],
   "source": [
    "test_4.0()"
   ]
  },
  {
   "cell_type": "markdown",
   "metadata": {
    "deletable": false,
    "editable": false,
    "nbgrader": {
     "cell_type": "markdown",
     "checksum": "ef3a3103feb8bfcd5eb54fd9ee4fb39e",
     "grade": false,
     "grade_id": "cell-a6334c4cd5edf2c3",
     "locked": true,
     "schema_version": 3,
     "solution": false,
     "task": false
    }
   },
   "source": [
    "**Question 4.1**\n",
    "<br>{points: 1}\n",
    "\n",
    "You are interested in the proportion of UBC students who are satisfied with UBC's policy on the use of Generative AI tools (e.g., chatGPT). To estimate the population parameter, you take a sample from the population by conducting several online polls through UBC's social media platforms, compiling the results, and using them to calculate a point estimate.\n",
    "\n",
    "True or false?\n",
    "\n",
    "The sampling method used in the scenario above is an example of random sampling. \n",
    "\n",
    "_Assign your answer to an object called `answer4.1`. Your answer should be either \"true\" or \"false\", surrounded by quotes._"
   ]
  },
  {
   "cell_type": "code",
   "execution_count": null,
   "metadata": {
    "deletable": false,
    "nbgrader": {
     "cell_type": "code",
     "checksum": "104b5641cc311e068261b7ad5feccf96",
     "grade": false,
     "grade_id": "cell-aba39381e7e6baeb",
     "locked": false,
     "schema_version": 3,
     "solution": true,
     "task": false
    }
   },
   "outputs": [],
   "source": [
    "# answer4.1 <- ...\n",
    "\n",
    "# your code here\n",
    "fail() # No Answer - remove if you provide an answer"
   ]
  },
  {
   "cell_type": "code",
   "execution_count": null,
   "metadata": {
    "deletable": false,
    "editable": false,
    "nbgrader": {
     "cell_type": "code",
     "checksum": "a2cf07a0600101cb4a92fe9b3dac3dd2",
     "grade": true,
     "grade_id": "cell-f4de769ac0e33888",
     "locked": true,
     "points": 1,
     "schema_version": 3,
     "solution": false,
     "task": false
    }
   },
   "outputs": [],
   "source": [
    "test_4.1()"
   ]
  },
  {
   "cell_type": "markdown",
   "metadata": {
    "deletable": false,
    "editable": false,
    "nbgrader": {
     "cell_type": "markdown",
     "checksum": "af9d48cef4e8c5a4c9c494c5dbcf17fe",
     "grade": false,
     "grade_id": "cell-00b674f337bcf912",
     "locked": true,
     "schema_version": 3,
     "solution": false,
     "task": false
    }
   },
   "source": [
    "**Question 4.2**\n",
    "<br>{points: 1}\n",
    "\n",
    "You are interested in determining the mean age of all teaching staff at UBC (including professors, lecturers, TAs, etc.). Suppose you randomly choose 50 undergraduate TAs at UBC and calculate the mean of their ages to use as a point estimate. Would you expect the point estimate to be accurate? Why or why not?\n",
    "\n",
    "A. Your estimate is accurate because your sample size is large enough and the sample is representative of the population.\n",
    "\n",
    "B. Your estimate is inaccurate. It would likely be too low because of sample bias; your sample is not representative of the population.\n",
    "\n",
    "C. Your estimate is inaccurate. It would likely be too high because of sample bias; your sample is not representative of the population.\n",
    "\n",
    "D. Your estimate is inaccurate. There's a high chance it would be either too high or too low because the sample size is quite small.\n",
    "\n",
    "_Assign your answer to an object called `answer4.2`. Your answer should be a single character surrounded by quotes._"
   ]
  },
  {
   "cell_type": "code",
   "execution_count": null,
   "metadata": {
    "deletable": false,
    "nbgrader": {
     "cell_type": "code",
     "checksum": "ceccf42bd71e2e097ea96756c5ffff1b",
     "grade": false,
     "grade_id": "cell-5a69ac93d72c1728",
     "locked": false,
     "schema_version": 3,
     "solution": true,
     "task": false
    }
   },
   "outputs": [],
   "source": [
    "# answer4.2 <- ...\n",
    "\n",
    "# your code here\n",
    "fail() # No Answer - remove if you provide an answer"
   ]
  },
  {
   "cell_type": "code",
   "execution_count": null,
   "metadata": {
    "deletable": false,
    "editable": false,
    "nbgrader": {
     "cell_type": "code",
     "checksum": "cc5f5f8bc5404fa54f42fd0c631db4ad",
     "grade": true,
     "grade_id": "cell-e54410201eeca588",
     "locked": true,
     "points": 1,
     "schema_version": 3,
     "solution": false,
     "task": false
    }
   },
   "outputs": [],
   "source": [
    "test_4.2()"
   ]
  },
  {
   "cell_type": "markdown",
   "metadata": {
    "deletable": false,
    "editable": false,
    "nbgrader": {
     "cell_type": "markdown",
     "checksum": "bd9064cec4101bfd7870791143e57d12",
     "grade": false,
     "grade_id": "cell-cad7a83f4d9cc503",
     "locked": true,
     "schema_version": 3,
     "solution": false,
     "task": false
    }
   },
   "source": [
    "**Question 4.3**\n",
    "<br>{points: 1}\n",
    "\n",
    "Suppose you are hired by a fast-food restaurant company to survey its workers about working conditions. You are told that there are 25 restaurants in total, and that there is approximately 1 manager, 6 supervisors, and 34 other workers for each restaurant. You manage to randomly select 200 individuals from all 25 restaurants: 4 managers, 25 supervisors, and 171 workers.\n",
    "\n",
    "True or false?\n",
    "\n",
    "Your sample is representative of the population.\n",
    "\n",
    "_Assign your answer to an object called `answer4.3`. Your answer should be either \"true\" or \"false\", surrounded by quotes._"
   ]
  },
  {
   "cell_type": "code",
   "execution_count": null,
   "metadata": {
    "deletable": false,
    "nbgrader": {
     "cell_type": "code",
     "checksum": "cc196e8ba051aa0215204eb36b5aa84e",
     "grade": false,
     "grade_id": "cell-5ca24a2128416ce1",
     "locked": false,
     "schema_version": 3,
     "solution": true,
     "task": false
    }
   },
   "outputs": [],
   "source": [
    "# answer4.3 <- ...\n",
    "\n",
    "# your code here\n",
    "fail() # No Answer - remove if you provide an answer"
   ]
  },
  {
   "cell_type": "code",
   "execution_count": null,
   "metadata": {
    "deletable": false,
    "editable": false,
    "nbgrader": {
     "cell_type": "code",
     "checksum": "0fc0a3d60a63f02bffd1e6165b97d6c4",
     "grade": true,
     "grade_id": "cell-0e8328f3e91bbcd0",
     "locked": true,
     "points": 1,
     "schema_version": 3,
     "solution": false,
     "task": false
    }
   },
   "outputs": [],
   "source": [
    "test_4.3()"
   ]
  },
  {
   "cell_type": "markdown",
   "metadata": {
    "deletable": false,
    "editable": false,
    "nbgrader": {
     "cell_type": "markdown",
     "checksum": "e3d2b09172eda75304fb38ada62d96b6",
     "grade": false,
     "grade_id": "cell-e88fa2107d4d8a58",
     "locked": true,
     "schema_version": 3,
     "solution": false,
     "task": false
    }
   },
   "source": [
    "### Final thoughts\n",
    "\n",
    "Congratulations! You have completed your first STAT 201 worksheet. Before you close the tab, here are a few final remarks:\n",
    "- **First, don't forget to save your work with `File` -> `Save Notebook`. You should always do this periodically _(TIP: use the keybind `Ctrl+S` or `Cmd+S` to speed up the process)._**\n",
    "- **Before you leave the page, check that the autograder returns the results you are expecting by clicking `Kernel` -> `Restart Kernel and Run All`.**\n",
    "- Never rename a file or folder.\n",
    "\n",
    "\n",
    "- Recall that we were interested in estimating the mean assessment value (`current_land_value`) for multiple-family dwellings in strata housing (`multi_family_strata`).\n",
    "- Here, we had access to data on the entire population, which would defeat the purpose of \"estimating\" in reality. Usually, this is not the case. However, we went ahead and made many estimates anyway to learn about how they behave.\n",
    "- By doing this, we now understand that point estimates can vary. This knowledge will be helpful when we don't have access to the entire population, and later on, we will learn how to quantify this inherent \"uncertainty\" in our point estimates and infer how accurate they are."
   ]
  }
 ],
 "metadata": {
  "docker": {
   "latest_image_tag": "v0.4.0"
  },
  "jupytext": {
   "encoding": "# -*- coding: utf-8 -*-"
  },
  "kernelspec": {
   "display_name": "R",
   "language": "R",
   "name": "ir"
  },
  "language_info": {
   "codemirror_mode": "r",
   "file_extension": ".r",
   "mimetype": "text/x-r-source",
   "name": "R",
   "pygments_lexer": "r",
   "version": "4.3.3"
  }
 },
 "nbformat": 4,
 "nbformat_minor": 4
}
