{
 "cells": [
  {
   "cell_type": "markdown",
   "metadata": {
    "deletable": false,
    "editable": false,
    "nbgrader": {
     "cell_type": "markdown",
     "checksum": "d90b7f63bcb6c27dcb2ea7a328a2bb29",
     "grade": false,
     "grade_id": "cell-f1e1d845873036f4",
     "locked": true,
     "schema_version": 3,
     "solution": false,
     "task": false
    }
   },
   "source": [
    "# Worksheet 10: Errors in Inference"
   ]
  },
  {
   "cell_type": "markdown",
   "metadata": {
    "deletable": false,
    "editable": false,
    "nbgrader": {
     "cell_type": "markdown",
     "checksum": "2bfa45469a04588964f7c32b7b7f038b",
     "grade": false,
     "grade_id": "cell-82d9926086d47a80",
     "locked": true,
     "schema_version": 3,
     "solution": false,
     "task": false
    }
   },
   "source": [
    "#### Lecture and Tutorial Learning Goals:\n",
    "After completing this week's lecture and tutorial work, you will be able to:\n",
    "\n",
    "1. Define type I & II errors.\n",
    "2. Describe responsible use and reporting of p-values from hypothesis tests.\n",
    "3. Discuss how these errors are linked to a \"reproducibility crisis\".\n",
    "4. Measure how these errors amplify when performing multiple hypothesis testing, in the context of multiple comparisons."
   ]
  },
  {
   "cell_type": "code",
   "execution_count": null,
   "metadata": {
    "deletable": false,
    "editable": false,
    "nbgrader": {
     "cell_type": "code",
     "checksum": "6dbb5eaa30b276d56b35885d939d1bed",
     "grade": false,
     "grade_id": "cell-a2a153352bc44a68",
     "locked": true,
     "schema_version": 3,
     "solution": false,
     "task": false
    }
   },
   "outputs": [],
   "source": [
    "# Run this cell before continuing.\n",
    "library(tidyverse)\n",
    "library(datateachr)\n",
    "library(repr)\n",
    "library(digest)\n",
    "library(infer)\n",
    "library(grid)\n",
    "library(gridExtra)\n",
    "penguins <- read.csv(\"https://raw.githubusercontent.com/allisonhorst/palmerpenguins/master/inst/extdata/penguins.csv\")\n",
    "source(\"tests_worksheet_10.r\")"
   ]
  },
  {
   "cell_type": "markdown",
   "metadata": {
    "deletable": false,
    "editable": false,
    "nbgrader": {
     "cell_type": "markdown",
     "checksum": "8c6e67d613166cea4ae6c5af76c41295",
     "grade": false,
     "grade_id": "cell-17574186dfb7dbd7",
     "locked": true,
     "schema_version": 3,
     "solution": false,
     "task": false
    }
   },
   "source": [
    "## 1. Short Recap & Warm-Up\n",
    "\n",
    "Before we start exploring the new material for this week, let's remind ourselves of some of the most important points covered in the previous week."
   ]
  },
  {
   "cell_type": "markdown",
   "metadata": {
    "deletable": false,
    "editable": false,
    "nbgrader": {
     "cell_type": "markdown",
     "checksum": "cba662ad26b5a6ef33355a4ce9c929cc",
     "grade": false,
     "grade_id": "cell-84a6cc7c7fdd18d6",
     "locked": true,
     "schema_version": 3,
     "solution": false,
     "task": false
    }
   },
   "source": [
    "**Question 1.1**\n",
    "<br>{points: 1}\n",
    "\n",
    "You wanted to test $H_0: \\mu = 10$ vs $H_1: \\mu\\neq 10$. You collected a sample of size 40, and obtained $\\bar{x} = 11$ and $s = 1.7$. What is the correct test statistic and 95% confidence interval for the mean?\n",
    "\n",
    "A. $T = 0.5882$  and $CI(\\mu, 0.95) = [10.4563; 11.5437]$\n",
    "\n",
    "B. $T = 0.5882$  and $CI(\\mu, 0.95) = [9.4563; 10.5437]$\n",
    "\n",
    "C. $T = 0.5882$  and $CI(\\mu, 0.95) = [6.5614; 13.4386]$\n",
    "\n",
    "D. $T = 3.7203$  and $CI(\\mu, 0.95) = [10.4563; 11.5437]$\n",
    "\n",
    "E. $T = 3.7203$  and $CI(\\mu, 0.95) = [9.4563; 10.5437]$\n",
    "\n",
    "F. $T = 3.7203$  and $CI(\\mu, 0.95) = [6.5614; 13.4386]$\n",
    "\n",
    "_Assign your answer to an object called `answer1.1`. Your answer should be a single character surrounded by quotes._"
   ]
  },
  {
   "cell_type": "code",
   "execution_count": null,
   "metadata": {
    "deletable": false,
    "nbgrader": {
     "cell_type": "code",
     "checksum": "ac11595eba196f176bdb9768d0651c17",
     "grade": false,
     "grade_id": "cell-69104760a0710b5c",
     "locked": false,
     "schema_version": 3,
     "solution": true,
     "task": false
    }
   },
   "outputs": [],
   "source": [
    "# answer1.1 <- ...\n",
    "\n",
    "# your code here\n",
    "fail() # No Answer - remove if you provide an answer"
   ]
  },
  {
   "cell_type": "code",
   "execution_count": null,
   "metadata": {
    "deletable": false,
    "editable": false,
    "nbgrader": {
     "cell_type": "code",
     "checksum": "76d64dc6e0399969600170c97c92cdb7",
     "grade": true,
     "grade_id": "cell-d9b70b410653e16a",
     "locked": true,
     "points": 1,
     "schema_version": 3,
     "solution": false,
     "task": false
    }
   },
   "outputs": [],
   "source": [
    "test_1.1()"
   ]
  },
  {
   "cell_type": "markdown",
   "metadata": {
    "deletable": false,
    "editable": false,
    "nbgrader": {
     "cell_type": "markdown",
     "checksum": "57ddbaa8ba4ee9dff235a9eb3aeb78d8",
     "grade": false,
     "grade_id": "cell-8e3bb96309767450",
     "locked": true,
     "schema_version": 3,
     "solution": false,
     "task": false
    }
   },
   "source": [
    "**Question 1.2**\n",
    "<br>{points: 1}\n",
    "\n",
    "True or false?\n",
    "\n",
    "You want to test $H_0: \\mu = \\mu_0$ vs $H_1: \\mu \\neq \\mu_0$. You apply the CLT to approximate the null model. Using the null model, you can do both, test the hypothesis and obtain the confidence interval for the mean $\\mu$. \n",
    "\n",
    "\n",
    "_Assign your answer to an object called `answer1.2`. Your answer should be either \"true\" or \"false\", surrounded by quotes._"
   ]
  },
  {
   "cell_type": "code",
   "execution_count": null,
   "metadata": {
    "deletable": false,
    "nbgrader": {
     "cell_type": "code",
     "checksum": "d270c2261a5018e838e63d120e5addf0",
     "grade": false,
     "grade_id": "cell-5f6fd83b6e021723",
     "locked": false,
     "schema_version": 3,
     "solution": true,
     "task": false
    }
   },
   "outputs": [],
   "source": [
    "# answer1.2 <- ...\n",
    "\n",
    "# your code here\n",
    "fail() # No Answer - remove if you provide an answer"
   ]
  },
  {
   "cell_type": "code",
   "execution_count": null,
   "metadata": {
    "deletable": false,
    "editable": false,
    "nbgrader": {
     "cell_type": "code",
     "checksum": "78fb66007bab1594ad9cedf11ac707e5",
     "grade": true,
     "grade_id": "cell-db6373504b088422",
     "locked": true,
     "points": 1,
     "schema_version": 3,
     "solution": false,
     "task": false
    }
   },
   "outputs": [],
   "source": [
    "test_1.2()"
   ]
  },
  {
   "cell_type": "markdown",
   "metadata": {
    "deletable": false,
    "editable": false,
    "nbgrader": {
     "cell_type": "markdown",
     "checksum": "ba587816358c632846bb28b6e4eb5142",
     "grade": false,
     "grade_id": "cell-703f63dff2e5ed25",
     "locked": true,
     "schema_version": 3,
     "solution": false,
     "task": false
    }
   },
   "source": [
    "**Question 1.3**\n",
    "<br>{points: 1}\n",
    "\n",
    "If the condition of the CLT hold, what would be distribution of the following quantity:\n",
    "$$\n",
    "\\frac{\\bar{X}-\\mu }{s\\left/\\sqrt{n}\\right.}\n",
    "$$\n",
    "\n",
    "A. $N\\left(\\mu, \\sigma\\left/\\sqrt{n}\\right.\\right)$\n",
    "\n",
    "B. $N(0, 1)$\n",
    "\n",
    "C. $t_n$\n",
    "\n",
    "D. $t_{n-1}$\n",
    "\n",
    "_Assign your answer to an object called `answer1.3`. Your answer should be a single character surrounded by quotes._"
   ]
  },
  {
   "cell_type": "code",
   "execution_count": null,
   "metadata": {
    "deletable": false,
    "nbgrader": {
     "cell_type": "code",
     "checksum": "5d71efbbe24a7ffe434bc7e8cd0aaefe",
     "grade": false,
     "grade_id": "cell-65b2982ee95f5655",
     "locked": false,
     "schema_version": 3,
     "solution": true,
     "task": false
    }
   },
   "outputs": [],
   "source": [
    "# answer1.3 <- ...\n",
    "\n",
    "# your code here\n",
    "fail() # No Answer - remove if you provide an answer"
   ]
  },
  {
   "cell_type": "code",
   "execution_count": null,
   "metadata": {
    "deletable": false,
    "editable": false,
    "nbgrader": {
     "cell_type": "code",
     "checksum": "431de8af7a2d899ccf3f5569e7ecfda0",
     "grade": true,
     "grade_id": "cell-3163989433adeb3e",
     "locked": true,
     "points": 1,
     "schema_version": 3,
     "solution": false,
     "task": false
    }
   },
   "outputs": [],
   "source": [
    "test_1.3()"
   ]
  },
  {
   "cell_type": "markdown",
   "metadata": {
    "deletable": false,
    "editable": false,
    "nbgrader": {
     "cell_type": "markdown",
     "checksum": "0e127a6afdd89feec8e3859161a2e0e3",
     "grade": false,
     "grade_id": "cell-9a5ac38f8b45a314",
     "locked": true,
     "schema_version": 3,
     "solution": false,
     "task": false
    }
   },
   "source": [
    "## 2. Errors in Hypothesis Testing\n"
   ]
  },
  {
   "cell_type": "markdown",
   "metadata": {
    "deletable": false,
    "editable": false,
    "nbgrader": {
     "cell_type": "markdown",
     "checksum": "22626bfb4d8a6efd3a1693a0809a1580",
     "grade": false,
     "grade_id": "cell-8133714e0bb93ea5",
     "locked": true,
     "schema_version": 3,
     "solution": false,
     "task": false
    }
   },
   "source": [
    "To discuss the error types, we will work on scenarios for which we know the truth. Since we never know, with certainty, which of the two hypotheses is true in real cases, we will simulate our data. Let us generate the data of three different populations. "
   ]
  },
  {
   "cell_type": "code",
   "execution_count": null,
   "metadata": {
    "deletable": false,
    "editable": false,
    "nbgrader": {
     "cell_type": "code",
     "checksum": "5486cbcd340b3675939cccc48d2d8091",
     "grade": false,
     "grade_id": "cell-2d5be5d6201280b4",
     "locked": true,
     "schema_version": 3,
     "solution": false,
     "task": false
    }
   },
   "outputs": [],
   "source": [
    "# Run this cell before continuing.....\n",
    "\n",
    "set.seed(20210322) # Do not change this.\n",
    "\n",
    "pop1_mu = 10\n",
    "pop1_sigma = 2\n",
    "pop2_mu = 0.5\n",
    "pop3_prop = 0.8\n",
    "\n",
    "N <- 10000 #population size\n",
    "pops <- # Generate three different populations\n",
    "    tibble(pop1 = rnorm(N, pop1_mu, pop1_sigma),\n",
    "           pop2 = rexp(N, 1/pop2_mu),\n",
    "           pop3 = sample(c(0, 1), size = N, prob = c(1-pop3_prop, pop3_prop), replace = TRUE)) %>% \n",
    "    pivot_longer(starts_with(\"pop\"), names_to = \"population\", values_to = \"variable\")\n",
    "\n",
    "pop_plots <- list() # list to store plots\n",
    "pop_plots[[1]] <- # plot of the quantitative populations;\n",
    "    pops %>% \n",
    "    filter(population %in% c(\"pop1\", \"pop2\")) %>% \n",
    "    ggplot() + \n",
    "    geom_histogram(aes(x = variable), color = 'white', bins = 16) +\n",
    "    facet_wrap(~population, scales = \"free\") +\n",
    "    theme(text = element_text(size = 22))\n",
    "\n",
    "pop_plots[[2]] <- # plot of the categorical population\n",
    "    pops %>% \n",
    "    filter(population == 'pop3') %>%\n",
    "    mutate(variable = factor(variable)) %>% \n",
    "    ggplot() +\n",
    "    geom_bar(aes(x = variable, y = ..count../sum(..count..)), width = 0.4) + \n",
    "    theme(text = element_text(size = 22)) + \n",
    "    ggtitle(\"pop3\") +\n",
    "    ylab(\"Proportion\")\n",
    "\n",
    "# show a piece of the populations\n",
    "head(pops)\n",
    "\n",
    "# plot the quantitative population in row 1 and categorical population in row 2\n",
    "grid.arrange(pop_plots[[1]], pop_plots[[2]], nrow = 2) \n",
    "\n"
   ]
  },
  {
   "cell_type": "markdown",
   "metadata": {
    "deletable": false,
    "editable": false,
    "nbgrader": {
     "cell_type": "markdown",
     "checksum": "4c224941ec90c769bccabb06f381603b",
     "grade": false,
     "grade_id": "cell-49f72885a391b91f",
     "locked": true,
     "schema_version": 3,
     "solution": false,
     "task": false
    }
   },
   "source": [
    "Since we have the populations stored in the object `pops`, we can calculate the population parameters."
   ]
  },
  {
   "cell_type": "code",
   "execution_count": null,
   "metadata": {
    "deletable": false,
    "editable": false,
    "nbgrader": {
     "cell_type": "code",
     "checksum": "05524063c281755bdab8b964b303b1d1",
     "grade": false,
     "grade_id": "cell-0fc79be1a8b94186",
     "locked": true,
     "schema_version": 3,
     "solution": false,
     "task": false
    }
   },
   "outputs": [],
   "source": [
    "# show you the parameters of the population\n",
    "(pops_params <-\n",
    "    pops %>% \n",
    "    group_by(population) %>%\n",
    "    summarise(pop_mean = mean(variable), pop_sd = sd(variable), .groups = 'drop'))"
   ]
  },
  {
   "cell_type": "markdown",
   "metadata": {
    "deletable": false,
    "editable": false,
    "nbgrader": {
     "cell_type": "markdown",
     "checksum": "21b37b1402adca63b9df5e33fdd78b66",
     "grade": false,
     "grade_id": "cell-62f7a66db1a3b9d4",
     "locked": true,
     "schema_version": 3,
     "solution": false,
     "task": false
    }
   },
   "source": [
    "### 2.1 Type I Error\n",
    "\n",
    "The Type I Error is the probability of rejecting $H_0$ when $H_0$ is true. This probability is what we call significance level (or, $\\alpha$-level). When we are testing hypotheses, we define a significance level that we are comfortable with. Different problems have different \"costs\" of Type I Error, making this a problem-dependent specification. For example,\n",
    "\n",
    "1. Finding an innocent person guilty is a serious error. We should send people to prison only if there is evidence beyond \"reasonable doubt\" they are guilty. Rejecting the hypothesis that somebody is not guilty when they are indeed not guilty should never happen (ideally). But, this might be impossible. So we desire a very low significance level to commit this error with very low probability. \n",
    "\n",
    "2. An oil company is trying to decide if it should start a new digging site to find oil. They will only do that if there is evidence that there is oil in that region. However, creating a digging site is relatively cheap for the company, especially compared with the gains of finding oil. Therefore, the company might be willing to accept a high probability of mistakenly digging a new site when there is no oil in that region. In this situation, the company could use a much higher $\\alpha$ (e.g., 0.5) than the usual 0.9, 0.95, or 0.99. "
   ]
  },
  {
   "cell_type": "markdown",
   "metadata": {
    "deletable": false,
    "editable": false,
    "nbgrader": {
     "cell_type": "markdown",
     "checksum": "82b4175a724bf14eab8f97de3da3d937",
     "grade": false,
     "grade_id": "cell-3843162d653c858d",
     "locked": true,
     "schema_version": 3,
     "solution": false,
     "task": false
    }
   },
   "source": [
    "**Question 2.1.1**\n",
    "<br>{points: 1}\n",
    "\n",
    "If we take a sample of size 50 of population one, what is the sampling distribution of test statistic $\\frac{\\bar{X}-10.0271932}{1.9991559\\left/\\sqrt{50}\\right.}$?\n",
    "\n",
    "A. $N(10.0271932, 1.9992)$\n",
    "\n",
    "B. $N(10.0271932, 0.2827)$\n",
    "\n",
    "C. $N(0, 1)$\n",
    "\n",
    "D. $t_{59}$\n",
    "\n",
    "E. $t_{60}$\n",
    "\n",
    "_Assign your answer to an object called `answer2.1.1`. Your answer should be a single character surrounded by quotes._"
   ]
  },
  {
   "cell_type": "code",
   "execution_count": null,
   "metadata": {
    "deletable": false,
    "nbgrader": {
     "cell_type": "code",
     "checksum": "d5b9d3bb935ff08c791bdb2cf56702c0",
     "grade": false,
     "grade_id": "cell-f1719a5f6b2e81d7",
     "locked": false,
     "schema_version": 3,
     "solution": true,
     "task": false
    }
   },
   "outputs": [],
   "source": [
    "# answer2.1.1 <- ...\n",
    "\n",
    "# your code here\n",
    "fail() # No Answer - remove if you provide an answer"
   ]
  },
  {
   "cell_type": "code",
   "execution_count": null,
   "metadata": {
    "deletable": false,
    "editable": false,
    "nbgrader": {
     "cell_type": "code",
     "checksum": "d5f0c761f98b32487ef47903fe522a3c",
     "grade": true,
     "grade_id": "cell-2c1304dbdd25bb7f",
     "locked": true,
     "points": 1,
     "schema_version": 3,
     "solution": false,
     "task": false
    }
   },
   "outputs": [],
   "source": [
    "test_2.1.1()"
   ]
  },
  {
   "cell_type": "markdown",
   "metadata": {
    "deletable": false,
    "editable": false,
    "nbgrader": {
     "cell_type": "markdown",
     "checksum": "f5ddbb6f4829ef7e99615775082e809e",
     "grade": false,
     "grade_id": "cell-716f56529221621a",
     "locked": true,
     "schema_version": 3,
     "solution": false,
     "task": false
    }
   },
   "source": [
    "**Question 2.1.2**\n",
    "<br>{points: 1}\n",
    "\n",
    "Suppose we want to test $H_0: \\mu_1 = 10.0271932$ vs $H_1: \\mu_1 \\neq 10.0271932$, where $\\mu_1$ is the mean of population one. Which of the hypotheses is true?\n",
    "\n",
    "A. $H_0$ is true.\n",
    "\n",
    "B. $H_A$ is true.\n",
    "\n",
    "_Assign your answer to an object called `answer2.1.2`. Your answer should be a single character surrounded by quotes._"
   ]
  },
  {
   "cell_type": "code",
   "execution_count": null,
   "metadata": {
    "deletable": false,
    "nbgrader": {
     "cell_type": "code",
     "checksum": "ee779d3b0bd8f0d8405adb7f44f6ba5e",
     "grade": false,
     "grade_id": "cell-6e3571e8080522a6",
     "locked": false,
     "schema_version": 3,
     "solution": true,
     "task": false
    }
   },
   "outputs": [],
   "source": [
    "# answer2.1.2 <- ...\n",
    "\n",
    "# your code here\n",
    "fail() # No Answer - remove if you provide an answer"
   ]
  },
  {
   "cell_type": "code",
   "execution_count": null,
   "metadata": {
    "deletable": false,
    "editable": false,
    "nbgrader": {
     "cell_type": "code",
     "checksum": "5b0e2c2eb491683dc12c02abb39a6bf8",
     "grade": true,
     "grade_id": "cell-15e7a8381a304461",
     "locked": true,
     "points": 1,
     "schema_version": 3,
     "solution": false,
     "task": false
    }
   },
   "outputs": [],
   "source": [
    "test_2.1.2()"
   ]
  },
  {
   "cell_type": "markdown",
   "metadata": {
    "deletable": false,
    "editable": false,
    "nbgrader": {
     "cell_type": "markdown",
     "checksum": "8421c8d3f3059211680e3a78685f0b01",
     "grade": false,
     "grade_id": "cell-9dce4a4cafcb5886",
     "locked": true,
     "schema_version": 3,
     "solution": false,
     "task": false
    }
   },
   "source": [
    "**Question 2.1.3**\n",
    "<br>{points: 1}\n",
    "\n",
    "If we take a sample of size 50 of population one, what is the null model of the test statistic $\\frac{\\bar{X}-10.0271932}{1.9991559\\left/\\sqrt{50}\\right.}$?\n",
    "\n",
    "A. $N(10.0271932, 1.9992)$\n",
    "\n",
    "B. $N(10.0271932, 0.2827)$\n",
    "\n",
    "C. $N(0, 1)$\n",
    "\n",
    "D. $t_{59}$\n",
    "\n",
    "E. $t_{60}$\n",
    "\n",
    "_Assign your answer to an object called `answer2.1.3`. Your answer should be a single character surrounded by quotes._"
   ]
  },
  {
   "cell_type": "code",
   "execution_count": null,
   "metadata": {
    "deletable": false,
    "nbgrader": {
     "cell_type": "code",
     "checksum": "e9674735a4dba19ac3f61f123b139940",
     "grade": false,
     "grade_id": "cell-2fd4d07158a332fc",
     "locked": false,
     "schema_version": 3,
     "solution": true,
     "task": false
    }
   },
   "outputs": [],
   "source": [
    "# answer2.1.3 <- ...\n",
    "\n",
    "# your code here\n",
    "fail() # No Answer - remove if you provide an answer"
   ]
  },
  {
   "cell_type": "code",
   "execution_count": null,
   "metadata": {
    "deletable": false,
    "editable": false,
    "nbgrader": {
     "cell_type": "code",
     "checksum": "e3fe5f3b678468eca752466d43003f5d",
     "grade": true,
     "grade_id": "cell-62ad0a208edd651e",
     "locked": true,
     "points": 1,
     "schema_version": 3,
     "solution": false,
     "task": false
    }
   },
   "outputs": [],
   "source": [
    "test_2.1.3()"
   ]
  },
  {
   "cell_type": "markdown",
   "metadata": {
    "deletable": false,
    "editable": false,
    "nbgrader": {
     "cell_type": "markdown",
     "checksum": "0ecee20b7566749fd9d645ae2004940e",
     "grade": false,
     "grade_id": "cell-2ef8370b04fa09bc",
     "locked": true,
     "schema_version": 3,
     "solution": false,
     "task": false
    }
   },
   "source": [
    "**Question 2.1.4**\n",
    "<br>{points: 1}\n",
    "\n",
    "True or false?\n",
    "\n",
    "The `null model` and the actual sampling distribution of $\\frac{\\bar{X}-10.0271932}{1.9991559\\left/\\sqrt{50}\\right.}$ are the same.\n",
    "\n",
    "_Assign your answer to an object called `answer2.1.4`. Your answer should be either \"true\" or \"false\", surrounded by quotes._"
   ]
  },
  {
   "cell_type": "code",
   "execution_count": null,
   "metadata": {
    "deletable": false,
    "nbgrader": {
     "cell_type": "code",
     "checksum": "6df627e2d5b043ca0b4676d33e94a537",
     "grade": false,
     "grade_id": "cell-2dc4b28b2e91db02",
     "locked": false,
     "schema_version": 3,
     "solution": true,
     "task": false
    }
   },
   "outputs": [],
   "source": [
    "# answer2.1.4 <- ...\n",
    "\n",
    "# your code here\n",
    "fail() # No Answer - remove if you provide an answer"
   ]
  },
  {
   "cell_type": "code",
   "execution_count": null,
   "metadata": {
    "deletable": false,
    "editable": false,
    "lines_to_next_cell": 0,
    "nbgrader": {
     "cell_type": "code",
     "checksum": "c5ad183386943aa1824c1e3bc5cd9138",
     "grade": true,
     "grade_id": "cell-236c73263171f329",
     "locked": true,
     "points": 1,
     "schema_version": 3,
     "solution": false,
     "task": false
    }
   },
   "outputs": [],
   "source": [
    "test_2.1.4()"
   ]
  },
  {
   "cell_type": "markdown",
   "metadata": {
    "deletable": false,
    "editable": false,
    "nbgrader": {
     "cell_type": "markdown",
     "checksum": "3bfc0e25103fb0486ec8aac1a7e42652",
     "grade": false,
     "grade_id": "cell-1c749efad9f1c362",
     "locked": true,
     "schema_version": 3,
     "solution": false,
     "task": false
    }
   },
   "source": [
    "**Question 2.1.5** \n",
    "<br> {points: 1}\n",
    "\n",
    "Now that we know that $H_0$ is true let's measure the chance of rejecting $H_0$. \n",
    "Your job is to:\n",
    "\n",
    "1. Take multiple samples, say 5000, of size $n=50$ from each population;\n",
    "2. Calculate the sample mean for each sample (in this exercise, we are going to assume we know $\\sigma$);\n",
    "3. Calculate the test statistic;\n",
    "4. For each significance level $\\alpha = (1\\%, 5\\%, 10\\%)$ and each sample, decide if you would reject or not $H_0$ (`TRUE` or `FALSE`).\n",
    "5. Calculate the proportion of samples that led to the rejection of $H_0$ for each $\\alpha$ in each population.\n",
    "\n",
    "---------------------\n",
    "```r\n",
    "set.seed(20210322) # Do not change this.\n",
    "n <- 50 # Do not change this.\n",
    "\n",
    "answer2.1.5 <- \n",
    "    pops_params$population %>% \n",
    "    map_df(~pops %>% \n",
    "            filter(population == .x) %>% \n",
    "            rep_sample_n(size = n, reps = 5000)) %>% \n",
    "    group_by(..., ...) %>% \n",
    "    summarise(sample_mean = ..., \n",
    "              .groups = 'drop') %>% \n",
    "    left_join(pops_params) %>% \n",
    "    mutate(test_statistic = ...) %>% \n",
    "    crossing(tibble(alpha = c(0.01, 0.05, 0.1))) %>% \n",
    "    mutate(reject_h0 = ...) %>% \n",
    "    group_by(..., ...) %>% \n",
    "    summarise(proportion_rejection = ...)\n",
    "``` \n",
    "\n",
    "Now, compare $\\alpha$ with the `proportion_rejection`. What do you see? You do not need to write it down.\n",
    "\n",
    "_Assign your data frame to an object called `answer2.1.5`._"
   ]
  },
  {
   "cell_type": "code",
   "execution_count": null,
   "metadata": {
    "deletable": false,
    "nbgrader": {
     "cell_type": "code",
     "checksum": "9b8e4008629f78854dd803f2cd6b0063",
     "grade": false,
     "grade_id": "cell-bd2a6ffaf709a0d2",
     "locked": false,
     "schema_version": 3,
     "solution": true,
     "task": false
    }
   },
   "outputs": [],
   "source": [
    "set.seed(20210322) # Do not change this.\n",
    "n <- 50 # Do not change this.\n",
    "\n",
    "# your code here\n",
    "fail() # No Answer - remove if you provide an answer\n",
    "\n",
    "answer2.1.5"
   ]
  },
  {
   "cell_type": "code",
   "execution_count": null,
   "metadata": {
    "deletable": false,
    "editable": false,
    "nbgrader": {
     "cell_type": "code",
     "checksum": "a525d46f30d2d5d644561cd1875243b8",
     "grade": true,
     "grade_id": "cell-d6b67105c5d1a3e3",
     "locked": true,
     "points": 1,
     "schema_version": 3,
     "solution": false,
     "task": false
    }
   },
   "outputs": [],
   "source": [
    "test_2.1.5()"
   ]
  },
  {
   "cell_type": "markdown",
   "metadata": {
    "deletable": false,
    "editable": false,
    "nbgrader": {
     "cell_type": "markdown",
     "checksum": "3346bfb1c42b1ba21decbfa5eb3bb30c",
     "grade": false,
     "grade_id": "cell-2da9cd1701acb98a",
     "locked": true,
     "schema_version": 3,
     "solution": false,
     "task": false
    }
   },
   "source": [
    "### 2.2 Type II Error\n",
    "\n",
    "The Type II error occurs when the null hypothesis is false, but we do not reject it. In our trial example, the type II error equivalent is to find a guilty person innocent, while in the oil company example, the type II error equivalent is not digging an oil-rich region. \n",
    "\n",
    "We always control the Type I Error by specifying the significance level. However, we do not have much control over the Type II Error. The probability of Type II Error will depend on:\n",
    "\n",
    "1. Effect size (i.e., the difference between the null hypothesis and reality);\n",
    "2. the sample size;\n",
    "3. the probability of Type I Error;\n",
    "\n",
    "We shall now investigate each one of these aspects using the three populations we have. "
   ]
  },
  {
   "cell_type": "markdown",
   "metadata": {
    "deletable": false,
    "editable": false,
    "nbgrader": {
     "cell_type": "markdown",
     "checksum": "f471d64d371127af8192a4907050b4d5",
     "grade": false,
     "grade_id": "cell-9adea541827d5f6f",
     "locked": true,
     "schema_version": 3,
     "solution": false,
     "task": false
    }
   },
   "source": [
    "### 2.2.1 Effect size\n",
    "\n",
    "For each of the populations, we are going to test four different null hypotheses, all of which knowingly false. \n",
    "\n",
    "- Population 1 (true mean: 10.0271932): \n",
    "    1. $H_0: \\mu=10.2271932$ vs\t$H_1: \\mu \\neq 10.2271932$ -- effect size (0.2)\n",
    "    2. $H_0: \\mu=10.5271932$ vs\t$H_1: \\mu \\neq 10.5271932$ -- effect size (0.5)\n",
    "    3. $H_0: \\mu=11.0271932$ vs\t$H_1: \\mu \\neq 11.0271932$ -- effect size (1.0)\n",
    "    4. $H_0: \\mu=12.0271932$ vs\t$H_1: \\mu \\neq 12.0271932$ -- effect size (2.0)\n",
    "    \n",
    "    \n",
    "- Population 2 (true mean: 0.4995928): \n",
    "    1. $H_0: \\mu = 0.5995928$ vs $H_1: \\mu \\neq 0.5995928$ -- effect size (0.1)\n",
    "    2. $H_0: \\mu = 0.6995928$ vs $H_1: \\mu \\neq 0.6995928$ -- effect size (0.2)\n",
    "    3. $H_0: \\mu = 0.9995928$ vs $H_1: \\mu \\neq 0.9995928$ -- effect size (0.5)\n",
    "    4. $H_0: \\mu = 1.4995928$ vs $H_1: \\mu \\neq 1.4995928$ -- effect size (1.0)\n",
    "    \n",
    "    \n",
    "- Population 3 (true proportion: 0.8063): \n",
    "    1. $H_0: \\mu = 0.7563$ vs $H_1: \\mu \\neq 0.7563$ -- effect size (-0.05)\n",
    "    2. $H_0: \\mu = 0.7063$ vs $H_1: \\mu \\neq 0.7063$ -- effect size (-0.1)\n",
    "    3. $H_0: \\mu = 0.6063$ vs $H_1: \\mu \\neq 0.6063$ -- effect size (-0.2)\n",
    "    4. $H_0: \\mu = 0.5063$ vs $H_1: \\mu \\neq 0.5063$ -- effect size (-0.3)\n",
    "    \n",
    "We have prepared the data frame for you in the cell below. The data frame is stored in the `section2.2` object. The null hypothesis is specified in the column `mu0`. "
   ]
  },
  {
   "cell_type": "code",
   "execution_count": null,
   "metadata": {
    "deletable": false,
    "editable": false,
    "nbgrader": {
     "cell_type": "code",
     "checksum": "90ead13d2614aa14c3c95e812df844b0",
     "grade": false,
     "grade_id": "cell-34736d135cc30911",
     "locked": true,
     "schema_version": 3,
     "solution": false,
     "task": false
    }
   },
   "outputs": [],
   "source": [
    "# Run this cell before continuing ...\n",
    "\n",
    "set.seed(20210322) # Do not change this\n",
    "\n",
    "effect_sizes <-\n",
    "    tibble(\n",
    "        population = pops_params$population,\n",
    "        data = list(\n",
    "            tibble(effect_size = c(0.2, 0.5, 1, 2)),\n",
    "            tibble(effect_size = c(0.1, 0.2, .5, 1)),\n",
    "            tibble(effect_size = c(-0.05, -0.1, -.2, -.3))\n",
    "    )) %>% \n",
    "    unnest(data)\n",
    "\n",
    "section2.2 <- \n",
    "    pops_params$population %>% \n",
    "    map_df(~pops %>% filter(population == .x) %>% rep_sample_n(size = n, reps = 5000)) %>% \n",
    "    group_by(population, replicate) %>% \n",
    "    summarise(sample_mean = mean(variable),\n",
    "              .groups = 'drop') %>% \n",
    "    left_join(pops_params) %>% \n",
    "    left_join(effect_sizes) %>% \n",
    "    mutate(mu0 = pop_mean + effect_size)\n",
    "\n",
    "\n",
    "head(section2.2 %>% arrange(replicate), n = 12)"
   ]
  },
  {
   "cell_type": "markdown",
   "metadata": {
    "deletable": false,
    "editable": false,
    "nbgrader": {
     "cell_type": "markdown",
     "checksum": "8dab0ac76848f0b09075142177939851",
     "grade": false,
     "grade_id": "cell-ffbc995a93d3ef4d",
     "locked": true,
     "schema_version": 3,
     "solution": false,
     "task": false
    }
   },
   "source": [
    "**Question 2.2.1** \n",
    "<br> {points: 1}\n",
    "\n",
    "Now that we have all the scenarios captured in the data frame `section2.2`, we can count the proportion of samples that would lead to a (correct!) rejection of $H_0$ (remember, all $H_0$ are false here) at a 5% significance level.\n",
    "\n",
    "-----------------------------------\n",
    "\n",
    "```r\n",
    "answer2.2.1 <- \n",
    "    section2.2 %>% \n",
    "    mutate(test_statistic = ...) %>% \n",
    "    mutate(reject_h0 = ...) %>% \n",
    "    group_by(population, effect_size, mu0, pop_mean) %>% \n",
    "    summarise(proportion_rejection = ...) %>% \n",
    "    arrange(population, abs(effect_size))\n",
    "```\n",
    "\n",
    "_Assign your data frame to an object called `answer2.2.1`._"
   ]
  },
  {
   "cell_type": "code",
   "execution_count": null,
   "metadata": {
    "deletable": false,
    "nbgrader": {
     "cell_type": "code",
     "checksum": "93ae80fa12fef3aa4638557a104a4f29",
     "grade": false,
     "grade_id": "cell-fb25334e7ed86fc5",
     "locked": false,
     "schema_version": 3,
     "solution": true,
     "task": false
    }
   },
   "outputs": [],
   "source": [
    "# your code here\n",
    "fail() # No Answer - remove if you provide an answer\n",
    "\n",
    "answer2.2.1"
   ]
  },
  {
   "cell_type": "code",
   "execution_count": null,
   "metadata": {
    "deletable": false,
    "editable": false,
    "nbgrader": {
     "cell_type": "code",
     "checksum": "9e02178001fe038d942988a97f749cec",
     "grade": true,
     "grade_id": "cell-960a540875a290cf",
     "locked": true,
     "points": 1,
     "schema_version": 3,
     "solution": false,
     "task": false
    }
   },
   "outputs": [],
   "source": [
    "test_2.2.1()"
   ]
  },
  {
   "cell_type": "markdown",
   "metadata": {
    "deletable": false,
    "editable": false,
    "nbgrader": {
     "cell_type": "markdown",
     "checksum": "fbfd4afd5af84fa7c21f08eb9aecdd3f",
     "grade": false,
     "grade_id": "cell-6d9e96dfd2d27feb",
     "locked": true,
     "schema_version": 3,
     "solution": false,
     "task": false
    }
   },
   "source": [
    "**Question 2.2.2**\n",
    "<br>{points: 1}\n",
    "\n",
    "As the difference between $H_0$ and the true value of the parameter increases, with everything else kept the same, ...\n",
    "\n",
    "A. the probability of correctly rejecting $H_0$ increases. \n",
    "\n",
    "B. the probability of correctly rejecting $H_0$ decreases. \n",
    "\n",
    "C. the probability of correctly rejecting $H_0$ doesn't really change. \n",
    "\n",
    "\n",
    "_Assign your answer to an object called `answer2.2.2`. Your answer should be a single character surrounded by quotes._"
   ]
  },
  {
   "cell_type": "code",
   "execution_count": null,
   "metadata": {
    "deletable": false,
    "nbgrader": {
     "cell_type": "code",
     "checksum": "e4621ec8517c0223243affb57c1609a9",
     "grade": false,
     "grade_id": "cell-6477c705fce95b29",
     "locked": false,
     "schema_version": 3,
     "solution": true,
     "task": false
    }
   },
   "outputs": [],
   "source": [
    "# answer2.2.2 <- ...\n",
    "\n",
    "# your code here\n",
    "fail() # No Answer - remove if you provide an answer"
   ]
  },
  {
   "cell_type": "code",
   "execution_count": null,
   "metadata": {
    "deletable": false,
    "editable": false,
    "nbgrader": {
     "cell_type": "code",
     "checksum": "53aa21d6b733c1a3a0b67bc71b65530b",
     "grade": true,
     "grade_id": "cell-0be218d2336faaec",
     "locked": true,
     "points": 1,
     "schema_version": 3,
     "solution": false,
     "task": false
    }
   },
   "outputs": [],
   "source": [
    "test_2.2.2()"
   ]
  },
  {
   "cell_type": "markdown",
   "metadata": {
    "deletable": false,
    "editable": false,
    "nbgrader": {
     "cell_type": "markdown",
     "checksum": "d19aec4bfc2cbe39c25d217356c8df1a",
     "grade": false,
     "grade_id": "cell-6a0b64718186a638",
     "locked": true,
     "schema_version": 3,
     "solution": false,
     "task": false
    }
   },
   "source": [
    "The cell below plots the sampling distribution of $\\bar{X}$ and the null model,  for each population, across different effect sizes, and shows the region that results in the correct rejection of $H_0$ and the wrong non-rejection of $H_0$. "
   ]
  },
  {
   "cell_type": "code",
   "execution_count": null,
   "metadata": {},
   "outputs": [],
   "source": [
    "options(repr.plot.width = 20, repr.plot.height = 11)\n",
    "\n",
    "areas_effect_size <- answer2.2.1 %>% \n",
    "    left_join(pops_params) %>% \n",
    "    mutate(dist = list(tibble(\n",
    "        xbar = seq(min(pop_mean, mu0) - 4 * pop_sd/sqrt(n), max(pop_mean, mu0) + 4 * pop_sd/sqrt(n), 0.001),\n",
    "        true_model = dnorm(xbar, pop_mean, pop_sd/sqrt(n)),\n",
    "        null_model = dnorm(xbar, mu0, pop_sd/sqrt(n))) %>% \n",
    "                      pivot_longer(c(true_model, null_model), names_to = \"model\", values_to = \"density\"))) \n",
    "plots <- list()\n",
    "plots <- pops_params$population %>% \n",
    "    map(~areas_effect_size %>% \n",
    "            unnest(dist) %>% \n",
    "            filter(population == .x) %>% \n",
    "            ggplot() + \n",
    "            geom_line(aes(xbar, density, color = model), lwd = 1.5) + \n",
    "            theme(text = element_text(size = 22)) +\n",
    "            facet_grid(population~effect_size, scales = \"free\", labeller = label_both)+\n",
    "            geom_ribbon(data = . %>% filter(model == \"true_model\", if_else(mu0 > pop_mean, xbar <= qnorm(0.025, mu0, pop_sd/sqrt(n)), xbar >= qnorm(0.975, mu0, pop_sd/sqrt(n)))),\n",
    "                        aes(x = xbar, ymin = 0, ymax = density), fill = 'steelblue', alpha=.3) +\n",
    "geom_ribbon(data = . %>% filter(model == \"true_model\", if_else(mu0 > pop_mean, xbar > qnorm(0.025, mu0, pop_sd/sqrt(n)), xbar < qnorm(0.975, mu0, pop_sd/sqrt(n)))),\n",
    "                        aes(x = xbar, ymin = 0, ymax = density), fill = 'red', alpha=.15))\n",
    "\n",
    "plots[[1]] <- plots[[1]] + ggtitle(\"True Sampling distribution vs Null model (n = 50)\",\n",
    "                                  subtitle = \"Blue shaded area correct rejection of H0 and red shaded area wrong non-rejection of H0\")\n",
    "plots[[3]] <- plots[[3]] + xlab(\"phat\")\n",
    "\n",
    "grid.arrange(grobs = plots)"
   ]
  },
  {
   "cell_type": "markdown",
   "metadata": {
    "deletable": false,
    "editable": false,
    "nbgrader": {
     "cell_type": "markdown",
     "checksum": "a14290ae2dc0b1dc7f07c0198b3689e9",
     "grade": false,
     "grade_id": "cell-fa3b3de27c6103d8",
     "locked": true,
     "schema_version": 3,
     "solution": false,
     "task": false
    }
   },
   "source": [
    "### 2.2.2 Sample Size\n",
    "\n",
    "Now, let's focus on the effect of sample size on the probability of Type II Error. For now, consider Population 1 and `effect_size = 0.5` (first row and second column of the plot above). What do you think would happen to both, blue and red curves, if we increase the sample size? Think about this for a second."
   ]
  },
  {
   "cell_type": "markdown",
   "metadata": {
    "deletable": false,
    "editable": false,
    "nbgrader": {
     "cell_type": "markdown",
     "checksum": "69f6a9ddabe1636b9d6888012658bc55",
     "grade": false,
     "grade_id": "cell-e0d1d2ed0f3d1a83",
     "locked": true,
     "schema_version": 3,
     "solution": false,
     "task": false
    }
   },
   "source": [
    "**Question 2.2.3**\n",
    "<br>{points: 1}\n",
    "\n",
    "Increasing the sample size while keeping everything else the same will result in\n",
    "\n",
    "A. an increase in the effect size.\n",
    "\n",
    "B. a decrease in the effect size.\n",
    "\n",
    "C. a lower overlap between the sampling distribution and the null model if $H_0$ is true.\n",
    "\n",
    "D. a higher overlap between the sampling distribution and the null model if $H_0$ is true.\n",
    "\n",
    "E. a higher overlap between the sampling distribution and the null model if $H_0$ is false.\n",
    "\n",
    "F. a lower overlap between the sampling distribution and the null model if $H_0$ is false.\n",
    "\n",
    "_Assign your answer to an object called `answer2.2.3`. Your answer should be a single character surrounded by quotes._"
   ]
  },
  {
   "cell_type": "code",
   "execution_count": null,
   "metadata": {
    "deletable": false,
    "nbgrader": {
     "cell_type": "code",
     "checksum": "964562aca2eb0dc34fcdcf9a31da8251",
     "grade": false,
     "grade_id": "cell-c596e84105b91e0e",
     "locked": false,
     "schema_version": 3,
     "solution": true,
     "task": false
    }
   },
   "outputs": [],
   "source": [
    "# answer2.2.3 <- ...\n",
    "\n",
    "# your code here\n",
    "fail() # No Answer - remove if you provide an answer"
   ]
  },
  {
   "cell_type": "code",
   "execution_count": null,
   "metadata": {
    "deletable": false,
    "editable": false,
    "nbgrader": {
     "cell_type": "code",
     "checksum": "402d1d79754d30230cb7ddc8bf0057a1",
     "grade": true,
     "grade_id": "cell-85e85f61cfcbb234",
     "locked": true,
     "points": 1,
     "schema_version": 3,
     "solution": false,
     "task": false
    }
   },
   "outputs": [],
   "source": [
    "test_2.2.3()"
   ]
  },
  {
   "cell_type": "markdown",
   "metadata": {
    "deletable": false,
    "editable": false,
    "nbgrader": {
     "cell_type": "markdown",
     "checksum": "90ecfaa2911c9a0663e343913c08840b",
     "grade": false,
     "grade_id": "cell-6cc187ac63ef1f2b",
     "locked": true,
     "schema_version": 3,
     "solution": false,
     "task": false
    }
   },
   "source": [
    "The cell below plots the sampling distribution of $\\bar{X}$ and the null model, for each population, and a fixed effect size, across different sample sizes, and shows the region of correct rejection of $H_0$ and wrong non-rejection of $H_0$. "
   ]
  },
  {
   "cell_type": "code",
   "execution_count": null,
   "metadata": {},
   "outputs": [],
   "source": [
    "options(repr.plot.width = 20, repr.plot.height = 14)\n",
    "\n",
    "sample_size_area <- \n",
    "    section2.2 %>% \n",
    "    select(population, pop_mean, pop_sd, mu0, effect_size) %>% \n",
    "    unique() %>%\n",
    "    filter(population != \"pop1\" | effect_size == 0.5) %>% \n",
    "    filter(population != \"pop2\" | effect_size == 0.2) %>% \n",
    "    filter(population != \"pop3\" | effect_size == -0.2)  %>% \n",
    "    crossing(tibble(n = c(10, 30, 50, 200)))%>% \n",
    "    rowwise() %>% \n",
    "    mutate(dist = list(tibble(\n",
    "        xbar = seq(min(pop_mean, mu0) - 4 * pop_sd/sqrt(n), max(pop_mean, mu0) + 4 * pop_sd/sqrt(n), 0.001),\n",
    "        true_model = dnorm(xbar, pop_mean, pop_sd/sqrt(n)),\n",
    "        null_model = dnorm(xbar, mu0, pop_sd/sqrt(n))) %>% \n",
    "                      pivot_longer(c(true_model, null_model), names_to = \"model\", values_to = \"density\"))) \n",
    "\n",
    "plots <- list()\n",
    "plots <- pops_params$population %>% \n",
    "    map(~sample_size_area %>% \n",
    "            unnest(dist) %>% \n",
    "            filter(population == .x) %>% \n",
    "            ggplot() + \n",
    "            geom_line(aes(xbar, density, color = model), lwd = 1.5) + \n",
    "            theme(text = element_text(size = 22)) +\n",
    "            facet_grid(population~n, scales = \"free\", labeller = label_both)+\n",
    "            geom_ribbon(data = . %>% filter(model == \"true_model\", if_else(mu0 > pop_mean, xbar <= qnorm(0.025, mu0, pop_sd/sqrt(n)), xbar >= qnorm(0.975, mu0, pop_sd/sqrt(n)))),\n",
    "                        aes(x = xbar, ymin = 0, ymax = density), fill = 'steelblue', alpha=.3) +\n",
    "geom_ribbon(data = . %>% filter(model == \"true_model\", if_else(mu0 > pop_mean, xbar > qnorm(0.025, mu0, pop_sd/sqrt(n)), xbar < qnorm(0.975, mu0, pop_sd/sqrt(n)))),\n",
    "                        aes(x = xbar, ymin = 0, ymax = density), fill = 'red', alpha=.15))\n",
    "\n",
    "plots[[1]] <- plots[[1]] + ggtitle(\"True Sampling distribution vs Null model\",\n",
    "                                  subtitle = \"Blue shaded area correct rejection of H0 and red shaded area wrong non-rejection of H0\\n\\n Effect size: 0.5    significance level: 0.05\")\n",
    "plots[[2]] <- plots[[2]] + ggtitle(\"\", subtitle = \"Effect size: 0.2    significance level: 0.05\")\n",
    "plots[[3]] <- plots[[3]] + xlab(\"phat\") + ggtitle(\"\", subtitle = \"Effect size: -0.2    significance level: 0.05\")\n",
    "\n",
    "grid.arrange(grobs = plots)"
   ]
  },
  {
   "cell_type": "markdown",
   "metadata": {
    "deletable": false,
    "editable": false,
    "nbgrader": {
     "cell_type": "markdown",
     "checksum": "e4b881a48cb829ecd570743217806a55",
     "grade": false,
     "grade_id": "cell-438c2afb3b5f60d3",
     "locked": true,
     "schema_version": 3,
     "solution": false,
     "task": false
    }
   },
   "source": [
    "### 2.2.3 Significance level\n",
    "\n"
   ]
  },
  {
   "cell_type": "markdown",
   "metadata": {
    "deletable": false,
    "editable": false,
    "nbgrader": {
     "cell_type": "markdown",
     "checksum": "60b5858cf3f72da0441e8e2d60709573",
     "grade": false,
     "grade_id": "cell-7f56cd1a38d73149",
     "locked": true,
     "schema_version": 3,
     "solution": false,
     "task": false
    }
   },
   "source": [
    "**Question 2.2.4**\n",
    "<br>{points: 1}\n",
    "\n",
    "What would happen in the plot above if we changed the significance level while keeping everything else the same?\n",
    "\n",
    "A. the effect size will change;\n",
    "\n",
    "B. the overlap between the sampling distribution and the null model will either increase or decrease;\n",
    "\n",
    "C. the location of the border separating the red shaded region and the blue shaded region will change. \n",
    "\n",
    "_Assign your answer to an object called `answer2.2.4`. Your answer should be a single character surrounded by quotes._"
   ]
  },
  {
   "cell_type": "code",
   "execution_count": null,
   "metadata": {
    "deletable": false,
    "nbgrader": {
     "cell_type": "code",
     "checksum": "fcf197afddacd7aa4f284e72c228edca",
     "grade": false,
     "grade_id": "cell-284f10040da7db52",
     "locked": false,
     "schema_version": 3,
     "solution": true,
     "task": false
    }
   },
   "outputs": [],
   "source": [
    "# answer2.2.4 <- ...\n",
    "\n",
    "# your code here\n",
    "fail() # No Answer - remove if you provide an answer"
   ]
  },
  {
   "cell_type": "code",
   "execution_count": null,
   "metadata": {
    "deletable": false,
    "editable": false,
    "nbgrader": {
     "cell_type": "code",
     "checksum": "6b0bb025473e2d319e0f84418ac4693c",
     "grade": true,
     "grade_id": "cell-707f6b9f5c8ef561",
     "locked": true,
     "points": 1,
     "schema_version": 3,
     "solution": false,
     "task": false
    }
   },
   "outputs": [],
   "source": [
    "test_2.2.4()"
   ]
  },
  {
   "cell_type": "markdown",
   "metadata": {
    "deletable": false,
    "editable": false,
    "nbgrader": {
     "cell_type": "markdown",
     "checksum": "eec65d0b7ae520c537fe75ec17f7075c",
     "grade": false,
     "grade_id": "cell-5ac6335e3f7bea8a",
     "locked": true,
     "schema_version": 3,
     "solution": false,
     "task": false
    }
   },
   "source": [
    "The cell below plots the sampling distribution of $\\bar{X}$ and the null model, for each population, a fixed effect size and sample size, across different significance level $\\alpha$, and shows the region of correct rejection of $H_0$ and wrong non-rejection of $H_0$. "
   ]
  },
  {
   "cell_type": "code",
   "execution_count": null,
   "metadata": {},
   "outputs": [],
   "source": [
    "alpha_area <- \n",
    "    section2.2 %>% \n",
    "    select(population, pop_mean, pop_sd, mu0, effect_size) %>% \n",
    "    unique() %>%\n",
    "    filter(population != \"pop1\" | effect_size == 0.5) %>% \n",
    "    filter(population != \"pop2\" | effect_size == 0.2) %>% \n",
    "    filter(population != \"pop3\" | effect_size == -0.2)  %>% \n",
    "    crossing(tibble(alpha = c(0.01, 0.05, 0.1, 0.3)))%>% \n",
    "    rowwise() %>% \n",
    "    mutate(dist = list(tibble(\n",
    "        xbar = seq(min(pop_mean, mu0) - 4 * pop_sd/sqrt(n), max(pop_mean, mu0) + 4 * pop_sd/sqrt(n), 0.001),\n",
    "        true_model = dnorm(xbar, pop_mean, pop_sd/sqrt(n)),\n",
    "        null_model = dnorm(xbar, mu0, pop_sd/sqrt(n))) %>% \n",
    "                      pivot_longer(c(true_model, null_model), names_to = \"model\", values_to = \"density\"))) \n",
    "\n",
    "plots <- list()\n",
    "plots <- pops_params$population %>% \n",
    "    map(~alpha_area %>% \n",
    "            unnest(dist) %>% \n",
    "            filter(population == .x) %>% \n",
    "            ggplot() + \n",
    "            geom_line(aes(xbar, density, color = model), lwd = 1.5) + \n",
    "            theme(text = element_text(size = 22)) +\n",
    "            facet_grid(population~alpha, scales = \"free\", labeller = label_both)+\n",
    "            geom_ribbon(data = . %>% filter(model == \"true_model\", if_else(mu0 > pop_mean, xbar <= qnorm(alpha/2, mu0, pop_sd/sqrt(n)), xbar >= qnorm(1-alpha/2, mu0, pop_sd/sqrt(n)))),\n",
    "                        aes(x = xbar, ymin = 0, ymax = density), fill = 'steelblue', alpha=.3) +\n",
    "geom_ribbon(data = . %>% filter(model == \"true_model\", if_else(mu0 > pop_mean, xbar > qnorm(alpha/2, mu0, pop_sd/sqrt(n)), xbar < qnorm(1-alpha/2, mu0, pop_sd/sqrt(n)))),\n",
    "                        aes(x = xbar, ymin = 0, ymax = density), fill = 'red', alpha=.15))\n",
    "\n",
    "plots[[1]] <- plots[[1]] + ggtitle(\"True Sampling distribution vs Null model\",\n",
    "                                  subtitle = \"Blue shaded area correct rejection of H0 and red shaded area wrong non-rejection of H0\\n\\n Effect size: 0.5    sample size: 50\")\n",
    "plots[[2]] <- plots[[2]] + ggtitle(\"\", subtitle = \"Effect size: 0.2    sample size: 50\")\n",
    "plots[[3]] <- plots[[3]] + xlab(\"phat\") + ggtitle(\"\", subtitle = \"Effect size: -0.2    sample size: 50\")\n",
    "\n",
    "grid.arrange(grobs = plots)"
   ]
  },
  {
   "cell_type": "markdown",
   "metadata": {
    "deletable": false,
    "editable": false,
    "nbgrader": {
     "cell_type": "markdown",
     "checksum": "ba53f5381046703be9dbd90ff924d5b6",
     "grade": false,
     "grade_id": "cell-b1fe973f684edbd2",
     "locked": true,
     "schema_version": 3,
     "solution": false,
     "task": false
    }
   },
   "source": [
    "**Question 2.2.5**\n",
    "<br>{points: 1}\n",
    "\n",
    "Select all true statements.\n",
    "\n",
    "A. If you increase the sample size, you reduce the probability of Type I Error.\n",
    "\n",
    "B. If you increase the sample size, you reduce the probability of Type II Error.\n",
    "\n",
    "C. A reduction of the significance level reduces the chance of Type I Error.\n",
    "\n",
    "D. A reduction of the significance level increases the chance of Type I Error.\n",
    "\n",
    "E. A reduction of the significance level reduces the chance of Type II Error.\n",
    "\n",
    "F. A reduction of the significance level increases the chance of Type II Error.\n",
    "\n",
    "_Assign your answer to an object called `answer2.2.5`. Your answer should be a single character surrounded by quotes._"
   ]
  },
  {
   "cell_type": "code",
   "execution_count": null,
   "metadata": {
    "deletable": false,
    "nbgrader": {
     "cell_type": "code",
     "checksum": "b8dc2b7611ce9a033657d5a62339468e",
     "grade": false,
     "grade_id": "cell-e0342ca1bbc77f82",
     "locked": false,
     "schema_version": 3,
     "solution": true,
     "task": false
    }
   },
   "outputs": [],
   "source": [
    "# answer2.2.5 <- ...\n",
    "\n",
    "# your code here\n",
    "fail() # No Answer - remove if you provide an answer"
   ]
  },
  {
   "cell_type": "code",
   "execution_count": null,
   "metadata": {
    "deletable": false,
    "editable": false,
    "nbgrader": {
     "cell_type": "code",
     "checksum": "8d3acb5f937551cb00985f3f09de9fee",
     "grade": true,
     "grade_id": "cell-114605a359d4e1c0",
     "locked": true,
     "points": 1,
     "schema_version": 3,
     "solution": false,
     "task": false
    }
   },
   "outputs": [],
   "source": [
    "test_2.2.5()"
   ]
  },
  {
   "cell_type": "markdown",
   "metadata": {
    "deletable": false,
    "editable": false,
    "nbgrader": {
     "cell_type": "markdown",
     "checksum": "90af23cf3652221f2af54d5245527c29",
     "grade": false,
     "grade_id": "cell-c9bc4ce95db3b255",
     "locked": true,
     "schema_version": 3,
     "solution": false,
     "task": false
    }
   },
   "source": [
    "### 2.3 Power of the test\n",
    "\n",
    "The power of the test is the probability of rejecting $H_0$ when $H_0$ is false. It is represented by the blue area in the plots above. The red area, on the other hand, is the probability of Type II Error. Therefore, the power of the test is 1 - P(\"Type II Error\").\n",
    "\n",
    "So far in the course we have been defining $H_1: \\mu > \\mu_0$, $H_1: \\mu < \\mu_0$, or $H_1: \\mu \\neq \\mu_0$. So, there is an infinite number of possible values for $\\mu$ in the alternative hypothesis. The problem is that the probability of Type II Error depends on the value of the parameter $\\mu$."
   ]
  },
  {
   "cell_type": "markdown",
   "metadata": {
    "deletable": false,
    "editable": false,
    "nbgrader": {
     "cell_type": "markdown",
     "checksum": "baf5a69922f1b1713ad4a33d8fafa7ef",
     "grade": false,
     "grade_id": "cell-ddcbed918c4b13bc",
     "locked": true,
     "schema_version": 3,
     "solution": false,
     "task": false
    }
   },
   "source": [
    "**Question 2.2.6** \n",
    "<br> {points: 1}\n",
    "\n",
    "Consider our population 1. Suppose we want to test $H_0: \\mu_1 = 10.2271932$ vs $H_1: \\mu_1 \\neq 10.2271932$. What is the probability of Type II Error knowing that $\\mu_1 = 10.0271932$? From your `answer2.2.1` obtain the proportion of rejections.\n",
    "\n",
    "--------------------------\n",
    "```r\n",
    "answer2.2.6 <- \n",
    "    answer2.2.1 %>% \n",
    "    filter(... & ...) %>% \n",
    "    pull(...)\n",
    "``` \n",
    "\n",
    "_Assign your answer to an object called `answer2.2.6`. Your answer should be a single number._"
   ]
  },
  {
   "cell_type": "code",
   "execution_count": null,
   "metadata": {
    "deletable": false,
    "nbgrader": {
     "cell_type": "code",
     "checksum": "0ccf378892fd4b3df708c4a93e5cb27b",
     "grade": false,
     "grade_id": "cell-535d1681c8aada1a",
     "locked": false,
     "schema_version": 3,
     "solution": true,
     "task": false
    }
   },
   "outputs": [],
   "source": [
    "# answer2.2.6 <- ...\n",
    "\n",
    "# your code here\n",
    "fail() # No Answer - remove if you provide an answer\n",
    "\n",
    "answer2.2.6"
   ]
  },
  {
   "cell_type": "code",
   "execution_count": null,
   "metadata": {
    "deletable": false,
    "editable": false,
    "nbgrader": {
     "cell_type": "code",
     "checksum": "c93ef3d661e35fb97c1d624eefd8cad9",
     "grade": true,
     "grade_id": "cell-26977c5ea8309b34",
     "locked": true,
     "points": 1,
     "schema_version": 3,
     "solution": false,
     "task": false
    }
   },
   "outputs": [],
   "source": [
    "test_2.2.6()"
   ]
  },
  {
   "cell_type": "markdown",
   "metadata": {
    "deletable": false,
    "editable": false,
    "nbgrader": {
     "cell_type": "markdown",
     "checksum": "5886325b1d85ce02fb695944a8d8f8e7",
     "grade": false,
     "grade_id": "cell-d56d3e064dbbbc23",
     "locked": true,
     "schema_version": 3,
     "solution": false,
     "task": false
    }
   },
   "source": [
    "**Question 2.2.7** \n",
    "<br> {points: 1}\n",
    "\n",
    "Consider our population 1. Suppose we want to test $H_0: \\mu_1 = 10.5$ vs $H_1: \\mu_1 \\neq 10.5$. Now, if you did not know the true mean to be $\\mu_1 = 10.0271932$, what is the probability of Type II Error? \n",
    "\n",
    "In this case, we would need to look at each possible $\\mu$ in $H_1$, and the test would have a different Type II Error for each $\\mu$. Therefore, we would be talking about a power function (as a function of what the true mean $\\mu$ is), as opposed to just the test's power. \n",
    "\n",
    "Let us investigate how this works. We want to see the probability of rejecting $H_0$ for several of the possible values of $\\mu$ in $H_1$. To be able to estimate these proportions, let's modify the population mean by adding a constant to all elements of the population. Here is what we are going to do:\n",
    "\n",
    "1. Let's change our population mean by adding a constant to all values in `pop1`. We will modify the mean to be $9.0, 9.1, 9.2, 9.3, ..., 13$. These will be store in the column `possible_mu`. (We want to do this to check how often the test will reject $H_0$ if the mean were these values.)\n",
    "\n",
    "2. For each one of the populations with new means, we are going to take 2000 samples of size 50, then calculate the sample mean for each sample. \n",
    "\n",
    "The cell below performs Steps 1 and 2. \n",
    "\n",
    "3. Next, you need to calculate the p-value of the test. Remember, the null model is:\n",
    "    $$\n",
    "    \\bar{X} \\sim N\\left(\\mu_0, \\sigma\\left/\\sqrt{n}\\right.\\right)\n",
    "    $$\n",
    "\n",
    "\n",
    "\n",
    "_Assign your answer to an object called `power_function_2.2.7`. Your answer should be a single number._"
   ]
  },
  {
   "cell_type": "code",
   "execution_count": null,
   "metadata": {
    "deletable": false,
    "editable": false,
    "nbgrader": {
     "cell_type": "code",
     "checksum": "5083ec8e33c5855aec6ed79481bf8519",
     "grade": false,
     "grade_id": "cell-ebd9d18764e3d75d",
     "locked": true,
     "schema_version": 3,
     "solution": false,
     "task": false
    }
   },
   "outputs": [],
   "source": [
    "## Run this cell before continuing\n",
    "\n",
    "set.seed(20210322) # Do not chance this\n",
    "\n",
    "pop1 <- pops %>%    # Select population 1\n",
    "    filter(population == \"pop1\") %>% \n",
    "    select(variable) \n",
    "\n",
    "possible_mu <- # Creates an array with some possible values for the unknown population mean.\n",
    "    seq(9.0, 13, 0.1) \n",
    "\n",
    "multiple_pop <-     \n",
    "    tibble(possible_mu) %>% \n",
    "    mutate(new_pop = list(pop1)) %>% # Creates one population for each value of mu\n",
    "    mutate(new_pop = map2(possible_mu, new_pop, # making the mean of the population to be mu\n",
    "                          ~ .y %>% \n",
    "                            mutate(new_variable = variable + .x - mean(pop1$variable)))\n",
    "                     ) %>% \n",
    "    mutate(samples = map(new_pop, ~ \n",
    "                         .x %>% \n",
    "                         rep_sample_n(reps = 2000, size = 50) %>%  # Takes a sample for each population\n",
    "                         group_by(replicate) %>% # Calculates the mean for each sample\n",
    "                         summarise(sample_mean = mean(new_variable), `.groups` = \"drop\"))) %>%  \n",
    "    select(-new_pop) %>% # Discard the modified populations\n",
    "    unnest(samples) %>% \n",
    "    mutate(pop_sigma = pops_params$pop_sd[1]) # Add the population standard deviation to the data frame\n",
    "\n",
    "head(multiple_pop)"
   ]
  },
  {
   "cell_type": "code",
   "execution_count": null,
   "metadata": {
    "deletable": false,
    "nbgrader": {
     "cell_type": "code",
     "checksum": "5f5de1d1a71d60ad80c43394f40613f7",
     "grade": false,
     "grade_id": "cell-13d1b7b0eebea1d7",
     "locked": false,
     "schema_version": 3,
     "solution": true,
     "task": false
    }
   },
   "outputs": [],
   "source": [
    "mu0 <- 10.5\n",
    "n <- 50\n",
    "\n",
    "# your code here\n",
    "fail() # No Answer - remove if you provide an answer\n",
    "\n",
    "power_function_2.2.7"
   ]
  },
  {
   "cell_type": "code",
   "execution_count": null,
   "metadata": {
    "deletable": false,
    "editable": false,
    "nbgrader": {
     "cell_type": "code",
     "checksum": "6e9069100143c5d1e80eab89c511a959",
     "grade": true,
     "grade_id": "cell-d4899b1bb9c39dda",
     "locked": true,
     "points": 1,
     "schema_version": 3,
     "solution": false,
     "task": false
    }
   },
   "outputs": [],
   "source": [
    "test_2.2.7()"
   ]
  },
  {
   "cell_type": "markdown",
   "metadata": {
    "deletable": false,
    "editable": false,
    "nbgrader": {
     "cell_type": "markdown",
     "checksum": "3490d2bd4084dc1ae94cc62100332b1b",
     "grade": false,
     "grade_id": "cell-a80a7fe2e96bf480",
     "locked": true,
     "schema_version": 3,
     "solution": false,
     "task": false
    }
   },
   "source": [
    "**Question 2.2.8**\n",
    "<br> {points: 1}\n",
    "\n",
    "Since the power of the test depends on $\\mu$, let's plot the power function you obtained in the previous question using `geom_line`. Fill in the scaffolding below:\n",
    "\n",
    "```r\n",
    "power_function_plot_2.2.8 <- \n",
    "    power_function_2.2.7 %>% \n",
    "    ggplot() +\n",
    "    geom_line(aes(..., ...)) + \n",
    "    theme(text = element_text(size = 22)) + \n",
    "    xlab(expression(mu)) + \n",
    "    ylab(expression(paste(\"Probability of rejecting \", H[0]))) + \n",
    "    ggtitle(\"Power function\", subtitle = expression(paste(H[0], \": \", mu==10.5, \" vs \", H[1], \": \", mu!=10.5))) +\n",
    "    geom_vline(xintercept = mu0, color = \"red\")\n",
    "```\n",
    "\n",
    "_Assign your plot to an object called `power_function_plot_2.2.8`._"
   ]
  },
  {
   "cell_type": "code",
   "execution_count": null,
   "metadata": {
    "deletable": false,
    "nbgrader": {
     "cell_type": "code",
     "checksum": "d1407deebef2ef912e961032e93fb44b",
     "grade": false,
     "grade_id": "cell-732b16337dac53ac",
     "locked": false,
     "schema_version": 3,
     "solution": true,
     "task": false
    }
   },
   "outputs": [],
   "source": [
    "options(repr.plot.width = 15, repr.plot.height = 8)\n",
    "\n",
    "# your code here\n",
    "fail() # No Answer - remove if you provide an answer\n",
    "\n",
    "power_function_plot_2.2.8"
   ]
  },
  {
   "cell_type": "code",
   "execution_count": null,
   "metadata": {
    "deletable": false,
    "editable": false,
    "nbgrader": {
     "cell_type": "code",
     "checksum": "4ad7cac578d1629e15f32c68d6a7e35c",
     "grade": true,
     "grade_id": "cell-50a7ab81423f7587",
     "locked": true,
     "points": 1,
     "schema_version": 3,
     "solution": false,
     "task": false
    }
   },
   "outputs": [],
   "source": [
    "test_2.2.8()"
   ]
  },
  {
   "cell_type": "markdown",
   "metadata": {
    "deletable": false,
    "editable": false,
    "nbgrader": {
     "cell_type": "markdown",
     "checksum": "33eb653d30bd4f443410e984c8f2c2a7",
     "grade": false,
     "grade_id": "cell-c5095286a7373142",
     "locked": true,
     "schema_version": 3,
     "solution": false,
     "task": false
    }
   },
   "source": [
    "## 3. Revisiting Confidence intervals"
   ]
  },
  {
   "cell_type": "markdown",
   "metadata": {
    "deletable": false,
    "editable": false,
    "nbgrader": {
     "cell_type": "markdown",
     "checksum": "c8322d67eb4e75838f3d090de74b7d04",
     "grade": false,
     "grade_id": "cell-3a513f3ba9da9ab2",
     "locked": true,
     "schema_version": 3,
     "solution": false,
     "task": false
    }
   },
   "source": [
    "### 3.1 The link between confidence intervals and two-tail hypothesis tests\n",
    "\n",
    "A $100(1-\\alpha)\\%$ confidence interval for the mean, $\\mu$, or proportion, $p$, contains \"plausible\" values for the respective parameter for the sample we have, with a confidence level $100(1-\\alpha)\\%$. \n",
    "\n",
    "On the other hand, if we were to test hypotheses of the type $H_0: \\mu=\\mu_0$ vs $H_1: \\mu\\neq \\mu_0$ (or $H_0: p = p_0$ vs $H_1: p \\neq p_0$)  with significance level $\\alpha$, we want reject $H_0$ if we have strong evidence that $\\mu_0$ is not a \"plausible\" value for the parameter. \n",
    "\n",
    "In fact, it is possible to show that we would reject $H_0$ at $\\alpha$ significance level, if and only if $\\mu_0$ does not belong to the $100(1-\\alpha)\\%$ confidence interval. \n",
    "\n",
    "Try going over your Worksheet/Tutorial 8 and checking the confidence intervals outputted with the hypothesis tests you did there, and observe that every time you rejected the null hypothesis, the hypothesized value of the parameter didn't belong to the corresponding confidence interval."
   ]
  },
  {
   "cell_type": "markdown",
   "metadata": {
    "deletable": false,
    "editable": false,
    "nbgrader": {
     "cell_type": "markdown",
     "checksum": "b01de365bc903802cc914e3d7563480b",
     "grade": false,
     "grade_id": "cell-6f6c76dc2c8bbc5f",
     "locked": true,
     "schema_version": 3,
     "solution": false,
     "task": false
    }
   },
   "source": [
    "###  3.2 Improving the coverage of confidence interval for the mean \n",
    "\n",
    "In Week 7, we discussed how to obtain a confidence interval for the mean based on the central limit theorem or the assumption of Gaussian population. Let's refresh our memory. We learned that as a consequence of the CLT we have that:\n",
    "\n",
    "$$\n",
    "\\bar{X}\\sim N\\left(\\mu, \\sigma\\left/\\sqrt{n}\\right.\\right)\n",
    "$$\n",
    "\n",
    "Therefore, \n",
    "$$\n",
    "\\frac{\\bar{X}-\\mu}{\\sigma\\left/\\sqrt{n}\\right.}\\sim N\\left(0, 1\\right)\n",
    "$$\n",
    "\n",
    "We used this result to obtain the $100(1-\\alpha)\\%$ confidence interval for the mean, given by:\n",
    "$$\n",
    " \\bar{X}\\pm z^*_{1-\\alpha/2}\\frac{\\sigma}{\\sqrt{n}}\n",
    "$$\n",
    "\n",
    "Unfortunately, the formula above has limited applicability since $\\sigma$ is rarely known. When $\\sigma$ is unknown, we replace $\\sigma$ with its estimator, $s$ (the sample standard deviation). However, although for large values of $n$ the interval above is still valid, we can do better. In fact, we learned in Week 8 that the extra uncertainty brought by replacing $\\sigma$ with its estimator $s$ changed the distribution underlying distribution:\n",
    "\n",
    "$$\n",
    "\\frac{\\bar{X}-\\mu}{s\\left/\\sqrt{n}\\right.}\\sim t_{n-1}\n",
    "$$\n",
    "\n",
    "We should then adapt our confidence interval accordingly. A more accurate confidence interval is:\n",
    "\n",
    "$$\n",
    " \\bar{X}\\pm t^*_{n-1, 1-\\alpha/2}\\frac{s}{\\sqrt{n}}\n",
    "$$\n",
    "where $t^*_{n-1, 1-\\alpha/2}$ is the $(1-\\alpha/2)$-quantile of $t$-distribution with $n-1$ degrees of freedom "
   ]
  },
  {
   "cell_type": "markdown",
   "metadata": {
    "deletable": false,
    "editable": false,
    "nbgrader": {
     "cell_type": "markdown",
     "checksum": "8af90988eb4f7b69fb9d3eaba6aa1957",
     "grade": false,
     "grade_id": "cell-79df2e5770c71136",
     "locked": true,
     "schema_version": 3,
     "solution": false,
     "task": false
    }
   },
   "source": [
    "**Question 3.1** \n",
    "<br> {points: 1}\n",
    "\n",
    "In Question 3.4 of Worksheet 7, you calculated the 99% confidence interval for the mean of `body_mass_g` of the `Chinstrap` specie using the interval $\\bar{X}\\pm z^*_{1-\\alpha/2}\\frac{\\sigma}{\\sqrt{n}}$, which resulted in $[3718.53; 3747.647]$. This time, use the $t$-distribution to obtain the 99% confidence interval for the mean of `body_mass_g` of the `Chinstrap` species.\n",
    " \n",
    "_Assign your data frame to an object called `mean_body_mass_chinstrap_ci`. The data frame should contain two columns only: `lower_ci` and `upper_ci`._"
   ]
  },
  {
   "cell_type": "code",
   "execution_count": null,
   "metadata": {
    "deletable": false,
    "nbgrader": {
     "cell_type": "code",
     "checksum": "c7883609bb536e66e8d282b9c65afd45",
     "grade": false,
     "grade_id": "cell-5e9d125db29cb401",
     "locked": false,
     "schema_version": 3,
     "solution": true,
     "task": false
    }
   },
   "outputs": [],
   "source": [
    "# your code here\n",
    "fail() # No Answer - remove if you provide an answer\n",
    "\n",
    "head(mean_body_mass_chinstrap_ci)"
   ]
  },
  {
   "cell_type": "code",
   "execution_count": null,
   "metadata": {
    "deletable": false,
    "editable": false,
    "nbgrader": {
     "cell_type": "code",
     "checksum": "243f285dd922f56260f412559531c87b",
     "grade": true,
     "grade_id": "cell-a7f7ff6adde3cf60",
     "locked": true,
     "points": 1,
     "schema_version": 3,
     "solution": false,
     "task": false
    }
   },
   "outputs": [],
   "source": [
    "test_3.1()"
   ]
  },
  {
   "cell_type": "markdown",
   "metadata": {
    "deletable": false,
    "editable": false,
    "nbgrader": {
     "cell_type": "markdown",
     "checksum": "071b5b5db2b297e785dce35f12b6a39d",
     "grade": false,
     "grade_id": "cell-d47bc67c2dfd12af",
     "locked": true,
     "schema_version": 3,
     "solution": false,
     "task": false
    }
   },
   "source": [
    "As you can see, the results you obtained using the $t$-distribution are similar to those obtained using the normal distribution. This happened because $n$ is relatively large. If you were dealing with a smaller $n$, say $n = 20$, the difference would be more relevant."
   ]
  },
  {
   "cell_type": "markdown",
   "metadata": {
    "deletable": false,
    "editable": false,
    "nbgrader": {
     "cell_type": "markdown",
     "checksum": "1ddf54ffd40502ead9ee5bfaba9c3b40",
     "grade": false,
     "grade_id": "cell-d2a4d99945610e93",
     "locked": true,
     "schema_version": 3,
     "solution": false,
     "task": false
    }
   },
   "source": [
    "## 4. Inference on Multiple Parameters\n",
    "\n",
    "So far, we have been discussing inference for one parameter in an isolated form. However, in many cases, you might be interested in more than one parameter. For example:\n",
    "\n",
    "1. you could be interested in two different variables, say `height` and `weight`, and want to learn about the mean height and mean weight; \n",
    "2. you could be interested in comparing the mean across different groups. What is the average total mileage until the first defect for Toyota, Honda, Ford, and General Motors cars?\n",
    "\n",
    "Could we just do multiple single-parameter analyses that we have learned so far? Like calculating multiple individual confidence intervals? or conduct multiple hypothesis tests? \n",
    "\n",
    "In this section, we are going to investigate what happens in these situations. "
   ]
  },
  {
   "cell_type": "markdown",
   "metadata": {
    "deletable": false,
    "editable": false,
    "nbgrader": {
     "cell_type": "markdown",
     "checksum": "389b2e21668b2abecf4a7865084af7b4",
     "grade": false,
     "grade_id": "cell-70fed9a6c686ac79",
     "locked": true,
     "schema_version": 3,
     "solution": false,
     "task": false
    }
   },
   "source": [
    "### 4.1 Multiple confidence interval\n",
    "\n",
    "Suppose we have a population of cars, and we are interested in the following variables:\n",
    "\n",
    "1. `km_per_litre`: how many km the car drives per litre of fuel;\n",
    "2. `mileage_till_first_defect`: how many km the car drove until the first defect happened;\n",
    "3. `horse_power`: the engine power of the car.\n",
    "4. `price`: the price of the car, as new;\n",
    "5. `brand`: the brand of the car;\n",
    "\n",
    "Let's take a sample of 100 cars."
   ]
  },
  {
   "cell_type": "code",
   "execution_count": null,
   "metadata": {
    "deletable": false,
    "editable": false,
    "nbgrader": {
     "cell_type": "code",
     "checksum": "b399f870cfb340fd606ddb525d39f2f1",
     "grade": false,
     "grade_id": "cell-0e0057a191f91fd7",
     "locked": true,
     "schema_version": 3,
     "solution": false,
     "task": false
    }
   },
   "outputs": [],
   "source": [
    "# Run this cell before continuing\n",
    "\n",
    "set.seed(20210322) # Do not change this\n",
    "true_mean = c(10, 5000, 300, 35000)\n",
    "\n",
    "cars <- as.data.frame(matrix(rnorm(400, true_mean, c(1, 500, 70, 5000)), ncol = 4, byrow=TRUE , dimnames = list(c(), c(\"km_per_litre\", \"mileage_till_first_defect\", \"horse_power\", \"price\"))))\n",
    "cars <- \n",
    "    cars %>% \n",
    "    mutate(brand = as.factor(sample(rep(x = c(\"Toyota\", \"Honda\", \"Ford\", \"GM\"), times = 25), 100)))\n",
    "\n",
    "head(cars)"
   ]
  },
  {
   "cell_type": "markdown",
   "metadata": {
    "deletable": false,
    "editable": false,
    "nbgrader": {
     "cell_type": "markdown",
     "checksum": "43aea07ef4e6ca7568e4ac3b3d6b3a9d",
     "grade": false,
     "grade_id": "cell-9bb8711dbfcf1af2",
     "locked": true,
     "schema_version": 3,
     "solution": false,
     "task": false
    }
   },
   "source": [
    "**Question 4.1** \n",
    "<br> {points: 1}\n",
    "\n",
    "Using the sample stored in `cars`, obtain an interval estimate, using 90% confidence level, for the mean of each of the variables: `km_per_litre`, `mileage_till_first_defect`, `horse_power`, and `price`. \n",
    "\n",
    "--------------------------\n",
    "\n",
    "```r\n",
    "ci_4.1 <- \n",
    "    cars %>% \n",
    "    select(-brand) %>% \n",
    "    summarise_all(list(mean = ..., sd = ...)) %>% \n",
    "    pivot_longer(everything(), \n",
    "                 names_to = c(\"variable\", 'statistic'), \n",
    "                 names_pattern = \"(.+)_([a-z]+)\", \n",
    "                 values_to = \"value\") %>% \n",
    "    pivot_wider(names_from = statistic) %>% \n",
    "    mutate(lower_ci = ...,\n",
    "           upper_ci = ...)\n",
    "```\n",
    "\n",
    "\n",
    "_Assign your data frame to an object called `ci_4.1`. The `ci_4.1` data frame should have 5 columns: `variable`, `mean`, `sd`, `lower_ci`, and `upper_ci`._"
   ]
  },
  {
   "cell_type": "code",
   "execution_count": null,
   "metadata": {
    "deletable": false,
    "nbgrader": {
     "cell_type": "code",
     "checksum": "6012a8542f66226027ad79005cd272ee",
     "grade": false,
     "grade_id": "cell-ef2cf2f22da63cdc",
     "locked": false,
     "schema_version": 3,
     "solution": true,
     "task": false
    }
   },
   "outputs": [],
   "source": [
    "n <- nrow(cars)\n",
    "\n",
    "# your code here\n",
    "fail() # No Answer - remove if you provide an answer\n",
    "\n",
    "ci_4.1"
   ]
  },
  {
   "cell_type": "code",
   "execution_count": null,
   "metadata": {
    "deletable": false,
    "editable": false,
    "nbgrader": {
     "cell_type": "code",
     "checksum": "bda8eb153dcf7a942d8c8ec068f7c08e",
     "grade": true,
     "grade_id": "cell-2256e17234c0a45d",
     "locked": true,
     "points": 1,
     "schema_version": 3,
     "solution": false,
     "task": false
    }
   },
   "outputs": [],
   "source": [
    "test_4.1()"
   ]
  },
  {
   "cell_type": "markdown",
   "metadata": {
    "deletable": false,
    "editable": false,
    "nbgrader": {
     "cell_type": "markdown",
     "checksum": "a1dbd5e73c2df8b665fb7c994557e760",
     "grade": false,
     "grade_id": "cell-a0573483dc0ff606",
     "locked": true,
     "schema_version": 3,
     "solution": false,
     "task": false
    }
   },
   "source": [
    "**Question 4.2** \n",
    "<br> {points: 1}\n",
    "\n",
    "Since the `cars` dataset was simulated, we know the true value of the parameters. For each variable, check if the confidence interval you calculated in the previous question contains the parameters' true values. Add two columns, `true_mean` and `captured`, to the data frame which should be `TRUE` or `FALSE`.\n",
    "\n",
    "variable | true mean \n",
    "---------|---------\n",
    "`km_per_litre` | 10\n",
    "`mileage_till_first_defect`| 5000\n",
    "`horse_power` | 300\n",
    "`price` | 35000\n",
    "\n",
    "\n",
    "---------------------------------\n",
    "\n",
    "```r\n",
    "ci_4.1 <- \n",
    "    ci_4.1 %>% \n",
    "    mutate(true_mean = true_mean,\n",
    "           captured = ...)\n",
    "```"
   ]
  },
  {
   "cell_type": "code",
   "execution_count": null,
   "metadata": {
    "deletable": false,
    "nbgrader": {
     "cell_type": "code",
     "checksum": "88632a622a01845a70b6b8c537554d12",
     "grade": false,
     "grade_id": "cell-14bad2b919524f76",
     "locked": false,
     "schema_version": 3,
     "solution": true,
     "task": false
    }
   },
   "outputs": [],
   "source": [
    "\n",
    "# your code here\n",
    "fail() # No Answer - remove if you provide an answer\n",
    "\n",
    "ci_4.1"
   ]
  },
  {
   "cell_type": "code",
   "execution_count": null,
   "metadata": {
    "deletable": false,
    "editable": false,
    "nbgrader": {
     "cell_type": "code",
     "checksum": "ca8e5cf9feb645f457f9118234388fdd",
     "grade": true,
     "grade_id": "cell-ffb4097a0f15fe25",
     "locked": true,
     "points": 1,
     "schema_version": 3,
     "solution": false,
     "task": false
    }
   },
   "outputs": [],
   "source": [
    "test_4.2()"
   ]
  },
  {
   "cell_type": "markdown",
   "metadata": {
    "deletable": false,
    "editable": false,
    "nbgrader": {
     "cell_type": "markdown",
     "checksum": "8eaff46289d28fb45987f506353e3188",
     "grade": false,
     "grade_id": "cell-bbab7d8b40769225",
     "locked": true,
     "schema_version": 3,
     "solution": false,
     "task": false
    }
   },
   "source": [
    "**Question 4.3** \n",
    "<br> {points: 1}\n",
    "\n",
    "Individually, we expect that 90% of our confidence intervals will capture the true mean of each given variable. However, how are these intervals doing collectively? In other words, what is the probability of taking a sample that will result in all four intervals containing the true mean? Let's check it out. In the cell below, we take 1000 samples of size 100 cars and stored them in an object called `multiple_cars`. Your job is:\n",
    "\n",
    "1. For each sample, calculate the mean and standard deviation of each of the variables;\n",
    "2. Calculate the 90% confidence interval for the mean in each sample;\n",
    "3. Create a `captured` column that flags if the true mean of each variable was captured;\n",
    "4. For each sample, check if the confidence intervals for all four parameters captured the true value of the parameter.\n",
    "5. Calculate the proportion of samples that provides confidence intervals that captured all four true mean of each variable.\n",
    "\n",
    "--------------------------------------------\n",
    "\n",
    "```r\n",
    "prob_collectively_capturing <- \n",
    "    multiple_cars %>%\n",
    "    select(-brand) %>%\n",
    "    group_by(...) %>% \n",
    "    summarise_all(list(mean = ..., sd = ...)) %>% \n",
    "    pivot_longer(ends_with(c(\"_mean\", \"_sd\")), \n",
    "                 names_to = c(\"variable\", 'statistic'), \n",
    "                 names_pattern = \"(.+)_([a-z]+)\", \n",
    "                 values_to = \"value\") %>% \n",
    "    pivot_wider(names_from = statistic) %>% \n",
    "    mutate(lower_ci = ...,\n",
    "           upper_ci = ...) %>% \n",
    "    left_join(tibble(\n",
    "                true_mean = true_mean, \n",
    "                variable = c(\"km_per_liter\", \"mileage_till_first_defect\", \"horse_power\", \"price\")\n",
    "              )) %>% \n",
    "    mutate(captured = ...) %>% \n",
    "    group_by(...) %>% \n",
    "    summarise(n_param_captured = ...) %>% \n",
    "    summarise(prob = ...)\n",
    "```\n",
    "\n",
    "\n",
    "_Assign your data frame to an object called `prob_collectively_capturing`. This data frame should have only one row and one column `prob`._"
   ]
  },
  {
   "cell_type": "code",
   "execution_count": null,
   "metadata": {
    "deletable": false,
    "editable": false,
    "nbgrader": {
     "cell_type": "code",
     "checksum": "08866ee9392b847440a86f712c7b1055",
     "grade": false,
     "grade_id": "cell-9935f1358e3aab34",
     "locked": true,
     "schema_version": 3,
     "solution": false,
     "task": false
    }
   },
   "outputs": [],
   "source": [
    "# Run this cell before continuing....\n",
    "\n",
    "set.seed(20210321) # Do not change this\n",
    "\n",
    "multiple_cars <- # Draw 1000 samples of size 100 cars.\n",
    "    seq(1, 1000) %>% \n",
    "    map_df(~as.data.frame(matrix(rnorm(400, true_mean, c(1, 500, 70, 5000)), ncol = 4, byrow=TRUE , dimnames = list(c(), c(\"km_per_liter\", \"mileage_till_first_defect\", \"horse_power\", \"price\")))) %>% \n",
    "            mutate(brand = as.factor(sample(rep(x = c(\"Toyota\", \"Honda\", \"Ford\", \"GM\"), times = 25), 100))) %>% \n",
    "            mutate(replicate = .x))\n",
    "\n",
    "head(multiple_cars)"
   ]
  },
  {
   "cell_type": "code",
   "execution_count": null,
   "metadata": {
    "deletable": false,
    "nbgrader": {
     "cell_type": "code",
     "checksum": "224b027de09a80ddc9a195ed142b36b5",
     "grade": false,
     "grade_id": "cell-ee84739f6a604ff8",
     "locked": false,
     "schema_version": 3,
     "solution": true,
     "task": false
    }
   },
   "outputs": [],
   "source": [
    "# your code here\n",
    "fail() # No Answer - remove if you provide an answer\n",
    "\n",
    "\n",
    "prob_collectively_capturing"
   ]
  },
  {
   "cell_type": "code",
   "execution_count": null,
   "metadata": {
    "deletable": false,
    "editable": false,
    "nbgrader": {
     "cell_type": "code",
     "checksum": "1465d726352f64f5285a99b18249b7e9",
     "grade": true,
     "grade_id": "cell-75012fa972c187a8",
     "locked": true,
     "points": 1,
     "schema_version": 3,
     "solution": false,
     "task": false
    }
   },
   "outputs": [],
   "source": [
    "test_4.3()"
   ]
  },
  {
   "cell_type": "markdown",
   "metadata": {
    "deletable": false,
    "editable": false,
    "nbgrader": {
     "cell_type": "markdown",
     "checksum": "6d69847b46c336d1a94e0f9313bc1d8c",
     "grade": false,
     "grade_id": "cell-4c565c7ae910b3cf",
     "locked": true,
     "schema_version": 3,
     "solution": false,
     "task": false
    }
   },
   "source": [
    "As you can see, even though each individual interval has a probability of 90% of capturing the true mean, if we consider the probability that all four intervals simultaneously capture all four parameters, we are dealing with a much lower probability. In fact, we can calculate this mathematically. Since, in this case, the variables are independent, we can use the product rule:\n",
    "\n",
    "$$\n",
    "P(\\text{All four intervals capture the true mean}) = 0.9^4 = 0.6561\n",
    "$$"
   ]
  },
  {
   "cell_type": "markdown",
   "metadata": {
    "deletable": false,
    "editable": false,
    "nbgrader": {
     "cell_type": "markdown",
     "checksum": "50fe8178fc341c1a6b37dca1cede1660",
     "grade": false,
     "grade_id": "cell-7ec0f96f5ad592e8",
     "locked": true,
     "schema_version": 3,
     "solution": false,
     "task": false
    }
   },
   "source": [
    "### 4.2 Multiple Hypothesis Tests\n",
    "\n",
    "Similarly to the confidence intervals, when conducting multiple hypothesis tests, the probability of errors quickly increases.  \n",
    "\n",
    "Suppose you want to test if there is a difference in reliability between the car brands. To do that, you decided to test if there is a difference in means of `mileage_till_first_defect` between the brands. A possible way to do this, is making pairwise comparison between the brands. Since we have 4 brands, it will be necessary to perform ${4 \\choose 2} = 6$ hypothesis tests: \n",
    "\n",
    "1. $H_0: \\mu_{Toyota} = \\mu_{Honda}$ vs $H_1: \\mu_{Toyota} \\neq \\mu_{Honda}$ \n",
    "2. $H_0: \\mu_{Toyota} = \\mu_{GM}$  vs $H_1: \\mu_{Toyota} \\neq \\mu_{GM}$ \n",
    "3. $H_0: \\mu_{Toyota} = \\mu_{Ford}$ vs $H_1: \\mu_{Toyota} \\neq \\mu_{Ford}$ \n",
    "4. $H_0: \\mu_{Honda} = \\mu_{GM}$ vs $H_1: \\mu_{Honda} \\neq \\mu_{GM}$ \n",
    "5. $H_0: \\mu_{Honda} = \\mu_{Ford}$ vs $H_1: \\mu_{Honda} \\neq \\mu_{Ford}$ \n",
    "6. $H_0: \\mu_{GM} = \\mu_{Ford}$ vs $H_1: \\mu_{GM} \\neq \\mu_{Ford}$ \n",
    "\n",
    "In our simulated data set, we know that there is no difference. We used the same mean for all the brands. Therefore, to make the right decision that there is no difference in reliability among the brands, we need to not reject $H_0$ in all 6 hypothesis tests."
   ]
  },
  {
   "cell_type": "markdown",
   "metadata": {
    "deletable": false,
    "editable": false,
    "nbgrader": {
     "cell_type": "markdown",
     "checksum": "6ef9b94771ab85be9730882efb90328a",
     "grade": false,
     "grade_id": "cell-22b437a0cc182b29",
     "locked": true,
     "schema_version": 3,
     "solution": false,
     "task": false
    }
   },
   "source": [
    "**Question 4.4**\n",
    "<br>{points: 1}\n",
    "\n",
    "If we end up rejecting $H_0$ in one or more of the 6 hypothesis tests, what type of error would we be making?\n",
    "\n",
    "A. Type I Error.\n",
    " \n",
    "B. Type II Error.\n",
    "\n",
    "C. Both.\n",
    "\n",
    "D. None.\n",
    "\n",
    "E. It depends.\n",
    "\n",
    "_Assign your answer to an object called `answer4.4`. Your answer should be a single character surrounded by quotes._"
   ]
  },
  {
   "cell_type": "code",
   "execution_count": null,
   "metadata": {
    "deletable": false,
    "nbgrader": {
     "cell_type": "code",
     "checksum": "062b13e657725b092f0b4f31afe27a73",
     "grade": false,
     "grade_id": "cell-40002b3c7c1efef4",
     "locked": false,
     "schema_version": 3,
     "solution": true,
     "task": false
    }
   },
   "outputs": [],
   "source": [
    "# answer4.4 <- ...\n",
    "\n",
    "# your code here\n",
    "fail() # No Answer - remove if you provide an answer"
   ]
  },
  {
   "cell_type": "code",
   "execution_count": null,
   "metadata": {
    "deletable": false,
    "editable": false,
    "nbgrader": {
     "cell_type": "code",
     "checksum": "a8ca69fc1b9b4c114c53ea7772290e2a",
     "grade": true,
     "grade_id": "cell-825239882a5a32e7",
     "locked": true,
     "points": 1,
     "schema_version": 3,
     "solution": false,
     "task": false
    }
   },
   "outputs": [],
   "source": [
    "test_4.4()"
   ]
  },
  {
   "cell_type": "markdown",
   "metadata": {
    "deletable": false,
    "editable": false,
    "nbgrader": {
     "cell_type": "markdown",
     "checksum": "a6a288ed09590ba7c3d0091c8e7c525b",
     "grade": false,
     "grade_id": "cell-b94bce7a6807700e",
     "locked": true,
     "schema_version": 3,
     "solution": false,
     "task": false
    }
   },
   "source": [
    "**Question 4.5** \n",
    "<br> {points: 1}\n",
    "\n",
    "Note that, at this stage, we are trying to answer only one question: \"is there a difference in reliability between the four brands?\". To answer this single question, we are going to perform 6 hypothesis tests. In this exercise, we are going to measure the probability of reaching the wrong conclusion, that there is a difference in reliability. Here's what we are going to do:\n",
    "\n",
    "Using the multiple samples stored in the `multiple_cars` object,\n",
    "1. conduct all six hypothesis tests in each sample. \n",
    "2. calculate the proportion of samples for which $H_0$ was rejected in at least one of the six tests.\n",
    "\n",
    "-------------------------------------\n",
    "```r\n",
    "n_groups <- 25\n",
    "\n",
    "prob_multiple_tests <- \n",
    "    multiple_cars %>% \n",
    "    select(..., ..., ...) %>% \n",
    "    group_by(..., ...) %>% \n",
    "    summarise(mean = ..., sd = ...) %>% \n",
    "    inner_join(x = ., y = ., by = c(\"replicate\")) %>% \n",
    "    filter(brand.x != brand.y) %>% \n",
    "    mutate(test_statistic = ...,\n",
    "           df = (sd.x^2 / n_groups + sd.y^2 / n_groups)^2 / (sd.x^4 / (n_groups^2 * (n_groups - 1)) + sd.y^4 / (n_groups^2 * (n_groups - 1))),\n",
    "           p_value = ...) %>% \n",
    "    mutate(reject = ...) %>% \n",
    "    group_by(...) %>% \n",
    "    summarise(n_reject = ..., `.groups` = \"drop\") %>% \n",
    "    summarise(prop_error_type_1 = ...)  \n",
    "```\n",
    "\n",
    "_Assign your data frame to an object called `prob_multiple_tests`._"
   ]
  },
  {
   "cell_type": "code",
   "execution_count": null,
   "metadata": {
    "deletable": false,
    "nbgrader": {
     "cell_type": "code",
     "checksum": "37c4c0ced178059203b953a86f0d5bf6",
     "grade": false,
     "grade_id": "cell-b8280de1f1cce8e8",
     "locked": false,
     "schema_version": 3,
     "solution": true,
     "task": false
    }
   },
   "outputs": [],
   "source": [
    "n_groups <- 25\n",
    "\n",
    "# your code here\n",
    "fail() # No Answer - remove if you provide an answer\n",
    "\n",
    "head(prob_multiple_tests)"
   ]
  },
  {
   "cell_type": "code",
   "execution_count": null,
   "metadata": {
    "deletable": false,
    "editable": false,
    "nbgrader": {
     "cell_type": "code",
     "checksum": "7b995d6e0df0284e3e6e4731fb5e24ad",
     "grade": true,
     "grade_id": "cell-9ba737657d3cefc0",
     "locked": true,
     "points": 1,
     "schema_version": 3,
     "solution": false,
     "task": false
    }
   },
   "outputs": [],
   "source": [
    "test_4.5()"
   ]
  }
 ],
 "metadata": {
  "jupytext": {
   "formats": "ipynb,Rmd"
  },
  "kernelspec": {
   "display_name": "R",
   "language": "R",
   "name": "ir"
  },
  "language_info": {
   "codemirror_mode": "r",
   "file_extension": ".r",
   "mimetype": "text/x-r-source",
   "name": "R",
   "pygments_lexer": "r",
   "version": "4.0.0"
  }
 },
 "nbformat": 4,
 "nbformat_minor": 4
}
