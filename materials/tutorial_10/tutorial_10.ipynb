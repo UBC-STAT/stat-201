{
 "cells": [
  {
   "cell_type": "markdown",
   "metadata": {
    "deletable": false,
    "editable": false,
    "nbgrader": {
     "cell_type": "markdown",
     "checksum": "f8bab09388f3c120ffcfd2ec2e43a9e4",
     "grade": false,
     "grade_id": "cell-f1e1d845873036f4",
     "locked": true,
     "schema_version": 3,
     "solution": false,
     "task": false
    }
   },
   "source": [
    "# Tutorial 10: A/B Testing and principled peeking"
   ]
  },
  {
   "cell_type": "markdown",
   "metadata": {
    "deletable": false,
    "editable": false,
    "nbgrader": {
     "cell_type": "markdown",
     "checksum": "36d9409669eff94174e7ffc429b3d6d2",
     "grade": false,
     "grade_id": "cell-82d9926086d47a80",
     "locked": true,
     "schema_version": 3,
     "solution": false,
     "task": false
    }
   },
   "source": [
    "## Learning Objectives\n",
    "\n",
    "After completing this week's worksheet and tutorial work, you will be able to:\n",
    "\n",
    "1. Explain sequential testing and principled peeking and how it can be used for early stopping of an experiment (e.g., A/B testing).\n",
    "2. Write a computer script to perform A/B testing optimization with and without using principled peeking.\n",
    "3. Discuss the tradeoff between stopping earlier and certainty of significance, and their real-world implications.\n",
    "4. List methods used to correct for inflated error rates."
   ]
  },
  {
   "cell_type": "code",
   "execution_count": null,
   "metadata": {
    "deletable": false,
    "editable": false,
    "nbgrader": {
     "cell_type": "code",
     "checksum": "482ba0c3b8ffee97845689db12d93ce2",
     "grade": false,
     "grade_id": "cell-a2a153352bc44a68",
     "locked": true,
     "schema_version": 3,
     "solution": false,
     "task": false
    },
    "tags": []
   },
   "outputs": [],
   "source": [
    "# Run this cell before continuing.\n",
    "library(tidyverse)\n",
    "library(gsDesign)\n",
    "\n",
    "source(\"tests_tutorial_10.R\")"
   ]
  },
  {
   "cell_type": "markdown",
   "metadata": {
    "deletable": false,
    "editable": false,
    "nbgrader": {
     "cell_type": "markdown",
     "checksum": "47147eb690a367cac56f019736b247a0",
     "grade": false,
     "grade_id": "cell-0647a289e8c93c6e",
     "locked": true,
     "schema_version": 3,
     "solution": false,
     "task": false
    }
   },
   "source": [
    "## 1. Warm up questions"
   ]
  },
  {
   "cell_type": "markdown",
   "metadata": {
    "deletable": false,
    "editable": false,
    "nbgrader": {
     "cell_type": "markdown",
     "checksum": "adf399b3f11fa00a28d222e3c397d93f",
     "grade": false,
     "grade_id": "cell-016e99af9ac357da",
     "locked": true,
     "schema_version": 3,
     "solution": false,
     "task": false
    }
   },
   "source": [
    "**Question 1.0**\n",
    "<br>{points: 1}\n",
    "\n",
    "Sequential A/B testing is used to analyze only continuous variables. **True or False?**\n",
    "\n",
    "*Assign your answer to an object called answer1.0. Your answer should be either \"true\" or \"false\", surrounded by quotes.*"
   ]
  },
  {
   "cell_type": "code",
   "execution_count": null,
   "metadata": {
    "deletable": false,
    "nbgrader": {
     "cell_type": "code",
     "checksum": "9ff78776eec3c949085483c7225bec0a",
     "grade": false,
     "grade_id": "cell-4f765b97eddc4200",
     "locked": false,
     "schema_version": 3,
     "solution": true,
     "task": false
    },
    "tags": []
   },
   "outputs": [],
   "source": [
    "#answer1.0 <- \n",
    "\n",
    "# your code here\n",
    "fail() # No Answer - remove if you provide an answer"
   ]
  },
  {
   "cell_type": "code",
   "execution_count": null,
   "metadata": {
    "deletable": false,
    "editable": false,
    "nbgrader": {
     "cell_type": "code",
     "checksum": "52fd489a854726c1b416ba6f9b73eb37",
     "grade": true,
     "grade_id": "cell-444b4babc585c9ff",
     "locked": true,
     "points": 1,
     "schema_version": 3,
     "solution": false,
     "task": false
    },
    "tags": []
   },
   "outputs": [],
   "source": [
    "test_1.0()"
   ]
  },
  {
   "cell_type": "markdown",
   "metadata": {
    "deletable": false,
    "editable": false,
    "nbgrader": {
     "cell_type": "markdown",
     "checksum": "4f97dc724788d1af20ea05c1eb559e30",
     "grade": false,
     "grade_id": "cell-ade4b5a0e3e3478d",
     "locked": true,
     "schema_version": 3,
     "solution": false,
     "task": false
    }
   },
   "source": [
    "**Question 1.1**\n",
    "<br>{points: 1}\n",
    "\n",
    "When performing sequential A/B testing, a power analysis is not required since the analyst will check the data before collecting all data. **True or False?**\n",
    "\n",
    "*Assign your answer to an object called answer1.1. Your answer should be either \"true\" or \"false\", surrounded by quotes.*"
   ]
  },
  {
   "cell_type": "code",
   "execution_count": null,
   "metadata": {
    "deletable": false,
    "nbgrader": {
     "cell_type": "code",
     "checksum": "f82b6b57c12aee4d084e0ae48c6d14f9",
     "grade": false,
     "grade_id": "cell-734fae2ecfda4719",
     "locked": false,
     "schema_version": 3,
     "solution": true,
     "task": false
    },
    "tags": []
   },
   "outputs": [],
   "source": [
    "#answer1.1 <- \n",
    "\n",
    "# your code here\n",
    "fail() # No Answer - remove if you provide an answer"
   ]
  },
  {
   "cell_type": "code",
   "execution_count": null,
   "metadata": {
    "deletable": false,
    "editable": false,
    "nbgrader": {
     "cell_type": "code",
     "checksum": "299f29f594738c9608d92c55aa7a7462",
     "grade": true,
     "grade_id": "cell-3a3f763f43ee517a",
     "locked": true,
     "points": 1,
     "schema_version": 3,
     "solution": false,
     "task": false
    },
    "tags": []
   },
   "outputs": [],
   "source": [
    "test_1.1()"
   ]
  },
  {
   "cell_type": "markdown",
   "metadata": {
    "deletable": false,
    "editable": false,
    "nbgrader": {
     "cell_type": "markdown",
     "checksum": "a8ccb439a0e634459258622734989622",
     "grade": false,
     "grade_id": "cell-ca338da0504ad817",
     "locked": true,
     "schema_version": 3,
     "solution": false,
     "task": false
    }
   },
   "source": [
    "**Question 1.2**\n",
    "<br>{points: 3}\n",
    "\n",
    "In **full sequential designs**, the analyst performs an analysis after every new observation, sequentially. Would you recommend using a Bonferroni correction for **full sequential designs** of large experiments so that it can be stopped as soon as possible?\n",
    "\n",
    "*Briefly, justify your recommendation. Think of pros and cons of the correction for the experiment described.*"
   ]
  },
  {
   "cell_type": "markdown",
   "metadata": {
    "deletable": false,
    "nbgrader": {
     "cell_type": "markdown",
     "checksum": "9bd206c174848ad83e26e1579e67eab3",
     "grade": true,
     "grade_id": "cell-d52f0c41674cca3b",
     "locked": false,
     "points": 3,
     "schema_version": 3,
     "solution": true,
     "task": false
    }
   },
   "source": [
    "DOUBLE CLICK TO EDIT **THIS CELL** AND REPLACE THIS TEXT WITH YOUR ANSWER."
   ]
  },
  {
   "cell_type": "markdown",
   "metadata": {
    "deletable": false,
    "editable": false,
    "nbgrader": {
     "cell_type": "markdown",
     "checksum": "cd7948ff8e0fec1ecf1dd6cacdbd8c28",
     "grade": false,
     "grade_id": "cell-ad493deab495ffd1",
     "locked": true,
     "schema_version": 3,
     "solution": false,
     "task": false
    }
   },
   "source": [
    "## 2. Early peeking in A/B testing\n",
    "\n",
    "In worksheet_10, we studied by means of an A/A testing (i.e., the case where we know that there's no difference in the distributions from the groups) how peeking can inflate the probability of Type I Error. \n",
    "\n",
    "In addition, we used different methods to implement principled peeking and early stopping rules in sequential A/B testing.\n",
    "\n",
    "- **Bonferroni's method** provides an adjustment to classical $p$-values (or equivalently the significance level or critical values) to control the type I error rate. \n",
    "\n",
    "- **Pocock's method**, available in `gsDesign` offers a less conservative way of controlling the type I error rate in sequential testing with early stops.\n",
    "\n",
    "- These 2 methods used uniform boundaries (common critical values) for all interim tests.\n",
    "\n",
    "In this section, you will examine how the number of interim tests may affect the results and the boundary used. "
   ]
  },
  {
   "cell_type": "markdown",
   "metadata": {
    "deletable": false,
    "editable": false,
    "nbgrader": {
     "cell_type": "markdown",
     "checksum": "2c5192ce406b0b42cbea35c28a91a7ad",
     "grade": false,
     "grade_id": "cell-6fbbd797464475f3",
     "locked": true,
     "schema_version": 3,
     "solution": false,
     "task": false
    }
   },
   "source": [
    "**Question 2.0**\n",
    "<br>{points: 1}\n",
    "\n",
    "Use the package `gsDesign` to get critical values for the **Pocock's method** for the following experimental design:\n",
    "\n",
    "- one-sided test to compare two population means (recall that the package will implement $z$-tests which are similar to $t$-tests when sample size is large)\n",
    "\n",
    "- 20 sequential (interim) tests\n",
    "\n",
    "- A/A testing design, i.e., effect size = 0 \n",
    "\n",
    "- a significance level of $5\\%$ \n",
    "\n",
    "- a power of $80\\%$\n",
    "\n",
    "*Assign your final answer to an object called `crit_pocock_20`. Your solution should be a vector with 20 equal values.*"
   ]
  },
  {
   "cell_type": "code",
   "execution_count": null,
   "metadata": {
    "deletable": false,
    "nbgrader": {
     "cell_type": "code",
     "checksum": "4f892212b54ee0a85ee42a67d23dc94f",
     "grade": false,
     "grade_id": "cell-291025e2bc8a15fe",
     "locked": false,
     "schema_version": 3,
     "solution": true,
     "task": false
    },
    "tags": []
   },
   "outputs": [],
   "source": [
    "# design_pocock <- gsDesign(k = ..., #number of interim analyses planned\n",
    "#                          test.type = 1, # for one-sided tests\n",
    "#                          delta = ... , # default effect size\n",
    "#                          alpha = ..., #type I error rate\n",
    "#                          beta = ..., # type II error rate\n",
    "#                          sfu = 'Pocock')\n",
    "\n",
    "# crit_pocock_20 <- design_pocock$upper$bound\n",
    "\n",
    "# your code here\n",
    "fail() # No Answer - remove if you provide an answer\n",
    "\n",
    "crit_pocock_20"
   ]
  },
  {
   "cell_type": "code",
   "execution_count": null,
   "metadata": {
    "deletable": false,
    "editable": false,
    "nbgrader": {
     "cell_type": "code",
     "checksum": "4eb42c8db1b71fe4b5fa51bb70d84290",
     "grade": true,
     "grade_id": "cell-fadc6b4fa788f892",
     "locked": true,
     "points": 1,
     "schema_version": 3,
     "solution": false,
     "task": false
    },
    "tags": []
   },
   "outputs": [],
   "source": [
    "test_2.0()"
   ]
  },
  {
   "cell_type": "markdown",
   "metadata": {
    "deletable": false,
    "editable": false,
    "nbgrader": {
     "cell_type": "markdown",
     "checksum": "8fd62f3b7cb192116ece3f4fbd1469cd",
     "grade": false,
     "grade_id": "cell-a52d0000faa9a48e",
     "locked": true,
     "schema_version": 3,
     "solution": false,
     "task": false
    }
   },
   "source": [
    "**Question 2.1**\n",
    "<br>{points: 1}\n",
    "\n",
    "Repeat **Question 2.0** but this time get Pocock's critical values for an experimental design that will peek at the data 10 times (i.e., 10 sequential (interim) tests).\n",
    "\n",
    "*Write the appropriate code and assign your answer to an object called `crit_pocock_10`. Your solution should be a vector with 10 equal values.*"
   ]
  },
  {
   "cell_type": "code",
   "execution_count": null,
   "metadata": {
    "deletable": false,
    "nbgrader": {
     "cell_type": "code",
     "checksum": "b95cc6c181bccc1b45157b5f0e407011",
     "grade": false,
     "grade_id": "cell-092b0878bb03c233",
     "locked": false,
     "schema_version": 3,
     "solution": true,
     "task": false
    },
    "tags": []
   },
   "outputs": [],
   "source": [
    "# Your code goes here. No skeleton code is provided; see the previous question.\n",
    "\n",
    "# your code here\n",
    "fail() # No Answer - remove if you provide an answer\n",
    "\n",
    "crit_pocock_10"
   ]
  },
  {
   "cell_type": "code",
   "execution_count": null,
   "metadata": {
    "deletable": false,
    "editable": false,
    "nbgrader": {
     "cell_type": "code",
     "checksum": "122e8fc9681252987e5c0bbc5c4686a4",
     "grade": true,
     "grade_id": "cell-8212cb6ebfa0c18c",
     "locked": true,
     "points": 1,
     "schema_version": 3,
     "solution": false,
     "task": false
    },
    "tags": []
   },
   "outputs": [],
   "source": [
    "test_2.1()"
   ]
  },
  {
   "cell_type": "markdown",
   "metadata": {
    "deletable": false,
    "editable": false,
    "nbgrader": {
     "cell_type": "markdown",
     "checksum": "0c6869505ee252167415e10393e6ad35",
     "grade": false,
     "grade_id": "cell-e44e65eabc8fb77e",
     "locked": true,
     "schema_version": 3,
     "solution": false,
     "task": false
    }
   },
   "source": [
    "**Question 2.2**\n",
    "<br>{points: 3}\n",
    "\n",
    "The Pocock's critical values obtained in **Question 2.0** and **Question 2.1** show that as the number of peeks (interim tests) increases, the critical values also increase. \n",
    "\n",
    "Briefly, explain why."
   ]
  },
  {
   "cell_type": "markdown",
   "metadata": {
    "deletable": false,
    "nbgrader": {
     "cell_type": "markdown",
     "checksum": "c6245d4eccfee7ed239427f072e1a452",
     "grade": true,
     "grade_id": "cell-43cb68384dc3a6a4",
     "locked": false,
     "points": 3,
     "schema_version": 3,
     "solution": true,
     "task": false
    }
   },
   "source": [
    "DOUBLE CLICK TO EDIT **THIS CELL** AND REPLACE THIS TEXT WITH YOUR ANSWER."
   ]
  },
  {
   "cell_type": "markdown",
   "metadata": {
    "deletable": false,
    "editable": false,
    "nbgrader": {
     "cell_type": "markdown",
     "checksum": "6ed5030c36828ba7e4cceeb9dfdae211",
     "grade": false,
     "grade_id": "cell-d3c3fad9bdace6b7",
     "locked": true,
     "schema_version": 3,
     "solution": false,
     "task": false
    }
   },
   "source": [
    "**Question 2.3**\n",
    "<br>{points: 1}\n",
    "\n",
    "Suppose that another company decides to use the same test, the same significance level and also to peek 10 times. If the new company wants to increase the probability of finding a significance result when $H_0$ is false (i.e., have more power) and still control the type I error rate, which of the following strategies would you recommend:\n",
    "\n",
    "**A** Use the same Pocock's critical value as in **Question 2.1** to control the type I error and plan for a larger experiment (i.e., larger sample size)\n",
    "\n",
    "**B** Don't use the Pocock's method since it's too conservative. Just use raw $p$-values from the CLT sampling distribution.\n",
    "\n",
    "**C** Use a Bonferroni's correction\n",
    "\n",
    "**D** There is no way to increase the power of the test\n",
    "\n",
    "*Hint*: you can use code to design this new experiment\n",
    "\n",
    "*Assign your answer to an object called answer2.3. Your answer should be one of `\"A\"`, `\"B\"`, `\"C\"`, or `\"D\"` surrounded by quotes.*"
   ]
  },
  {
   "cell_type": "code",
   "execution_count": null,
   "metadata": {
    "deletable": false,
    "nbgrader": {
     "cell_type": "code",
     "checksum": "677a843ff55b9b0479db413cbfcfae33",
     "grade": false,
     "grade_id": "cell-523621d2299f5a90",
     "locked": false,
     "schema_version": 3,
     "solution": true,
     "task": false
    },
    "tags": []
   },
   "outputs": [],
   "source": [
    "# answer2.3 <- \n",
    "\n",
    "# your code here\n",
    "fail() # No Answer - remove if you provide an answer"
   ]
  },
  {
   "cell_type": "code",
   "execution_count": null,
   "metadata": {
    "deletable": false,
    "editable": false,
    "nbgrader": {
     "cell_type": "code",
     "checksum": "b0ecd99816a0d18161fede6ffe170358",
     "grade": true,
     "grade_id": "cell-b2a0e2c82435b7b0",
     "locked": true,
     "points": 1,
     "schema_version": 3,
     "solution": false,
     "task": false
    },
    "tags": []
   },
   "outputs": [],
   "source": [
    "test_2.3()"
   ]
  },
  {
   "cell_type": "markdown",
   "metadata": {
    "deletable": false,
    "editable": false,
    "nbgrader": {
     "cell_type": "markdown",
     "checksum": "ab64779af21b27f8922f01a8cd25ec9a",
     "grade": false,
     "grade_id": "cell-793479bb1437c485",
     "locked": true,
     "schema_version": 3,
     "solution": false,
     "task": false
    }
   },
   "source": [
    "## 3. Principled peeking: O’Brien-Fleming method\n",
    "\n",
    "In this section, we will implement and examine another method, also available in `gsDesign`: the **O’Brien-Fleming method**\n",
    "\n",
    "Unlike previous methods covered in worksheet_10, the O’Brien-Fleming method uses *non-uniform* boundaries, which has conservative critical values for earlier interim analyses and less conservative values (closer to the unadjusted critical values) as more data are collected. \n",
    "\n",
    "As in **Question 3.2.1 of worksheet_10** we will use the function `incremental_t_test` to generate and sequentially analyze data.\n",
    "\n",
    "In the next few exercises, we will plot the statistics of the sequential tests and add 4 type of boundaries:\n",
    "\n",
    "- the unadjusted critical values (black line)\n",
    "\n",
    "- the Bonferroni's adjusted critical values (blue line)\n",
    "\n",
    "- the Pocock critical values (red line)\n",
    "\n",
    "- the O'Brien-Fleming critical values (green line)\n",
    "\n",
    "*Run the following cell to get the function to simulate and analyze data of sequential A/B testing*"
   ]
  },
  {
   "cell_type": "code",
   "execution_count": null,
   "metadata": {
    "deletable": false,
    "editable": false,
    "nbgrader": {
     "cell_type": "code",
     "checksum": "a7c929affeed65d04438d7bde654f39c",
     "grade": false,
     "grade_id": "cell-10f6fb3783a7c482",
     "locked": true,
     "schema_version": 3,
     "solution": false,
     "task": false
    },
    "tags": []
   },
   "outputs": [],
   "source": [
    "# Two-sample t-test with tracking sequential statistic and p-values by incremental sample sizes until getting to n.\n",
    "\n",
    "# @param n (numeric): Initially planned sample size for each group (for simplicity, n needs to be a multiple of sample_increase_step).\n",
    "# @param d_0 (numeric): effect size.\n",
    "# @param mean_current (numeric): Population mean for control variation.\n",
    "# @param sd_current (numeric): Population standard deviation for current variation.\n",
    "# @param sd_new (numeric): Population standard deviation for new variation.\n",
    "# @param sample_increase_step (numeric): Sample size increment.\n",
    "\n",
    "# @return p.value.df: A tibble that has 3 columns:\n",
    "# inc_sample_size, statistic, and p_value \n",
    "\n",
    "incremental_t_test <- function(n, d_0, mean_current, sd_current, sd_new, sample_increase_step) {\n",
    "  sample_current <- rnorm(n, mean = mean_current, sd = sd_current)\n",
    "  sample_new <- rnorm(n, mean = mean_current + d_0, sd = sd_new)\n",
    "\n",
    "  p.value.df <- tibble(\n",
    "    inc_sample_size = rep(0, n / sample_increase_step),\n",
    "    statistic = rep(0, n / sample_increase_step),\n",
    "    p_value = rep(0, n / sample_increase_step)\n",
    "  )\n",
    "\n",
    "  current_sample_size <- sample_increase_step\n",
    "  \n",
    "  for (i in 1:nrow(p.value.df))\n",
    "  {\n",
    "    t_test_results <- t.test(sample_new[1:current_sample_size], sample_current[1:current_sample_size],\n",
    "      var.equal = TRUE,\n",
    "      alternative = \"greater\"                      \n",
    "    )\n",
    "    p.value.df[i, \"statistic\"] <- as_tibble(t_test_results$statistic)\n",
    "    p.value.df[i, \"p_value\"] <- as_tibble(t_test_results$p.value)\n",
    "    p.value.df[i, \"inc_sample_size\"] <- current_sample_size\n",
    "    current_sample_size <- current_sample_size + sample_increase_step\n",
    "  }\n",
    "\n",
    "  return(p.value.df)\n",
    "}"
   ]
  },
  {
   "cell_type": "markdown",
   "metadata": {
    "deletable": false,
    "editable": false,
    "nbgrader": {
     "cell_type": "markdown",
     "checksum": "bd6715f0ba31e112ac9af3f90bb66415",
     "grade": false,
     "grade_id": "cell-948ee1a9d21f3c52",
     "locked": true,
     "schema_version": 3,
     "solution": false,
     "task": false
    }
   },
   "source": [
    "**Question 3.0**\n",
    "{points: 1}\n",
    "\n",
    "**A/A testing**: as in worksheet_10, let's simulate data that reflects no difference in the population means (i.e., $H_0$ is true).\n",
    "\n",
    "In this question, analyze the data in batches of 100 experimental units per group until a total of $n = 1000$ per group is collected (i.e., plan for 10 sequential tests).\n",
    "  \n",
    "We will assume again that data of both groups is generated from a Normal distribution with a mean equal to \\\\$200 and a standard deviation equal to \\\\$50.\n",
    "\n",
    "Use the `incremental_t_test` function to conduct this experiment.\n",
    "\n",
    "_Save the result in an object called answer3.0. Your answer should be a tibble with three columns: `inc_sample_size`, `statistic`, and `p_value`._"
   ]
  },
  {
   "cell_type": "code",
   "execution_count": null,
   "metadata": {
    "deletable": false,
    "nbgrader": {
     "cell_type": "code",
     "checksum": "f52c7a1c79c15d06fe3b0262a8caf497",
     "grade": false,
     "grade_id": "cell-efd291d0304d92e1",
     "locked": false,
     "schema_version": 3,
     "solution": true,
     "task": false
    },
    "tags": []
   },
   "outputs": [],
   "source": [
    "set.seed(25) # do not change this.\n",
    "\n",
    "# answer3.0 <- \n",
    "#    incremental_t_test(n = ..., d_0 = ..., sample_increase_step = ..., mean_current = ..., sd_current = ..., sd_new = ...)\n",
    "\n",
    "# your code here\n",
    "fail() # No Answer - remove if you provide an answer\n",
    "\n",
    "answer3.0"
   ]
  },
  {
   "cell_type": "code",
   "execution_count": null,
   "metadata": {
    "deletable": false,
    "editable": false,
    "nbgrader": {
     "cell_type": "code",
     "checksum": "ecd1815ef2ec38c26519835b766321ca",
     "grade": true,
     "grade_id": "cell-0c7efb1f62225434",
     "locked": true,
     "points": 1,
     "schema_version": 3,
     "solution": false,
     "task": false
    },
    "tags": []
   },
   "outputs": [],
   "source": [
    "test_3.0()"
   ]
  },
  {
   "cell_type": "markdown",
   "metadata": {
    "deletable": false,
    "editable": false,
    "nbgrader": {
     "cell_type": "markdown",
     "checksum": "fc7680fb7e90bc96e2444298108efda7",
     "grade": false,
     "grade_id": "cell-de29a136e111ae85",
     "locked": true,
     "schema_version": 3,
     "solution": false,
     "task": false
    }
   },
   "source": [
    "**Question 3.1**\n",
    "<br>{points: 3}\n",
    "\n",
    "Repeat **Question 2.0** but this time get O'Brien-Fleming's critical values for an experimental design that will peek at the data 10 times (i.e., 10 sequential (interim) tests).\n",
    "\n",
    "*Write the appropriate code and assign your answer to an object called `crit_of_10`. Your solution should be a vector with 10 numeric values.*"
   ]
  },
  {
   "cell_type": "code",
   "execution_count": null,
   "metadata": {
    "deletable": false,
    "nbgrader": {
     "cell_type": "code",
     "checksum": "aef8d7fb8c919ba45f79555cd34dbe34",
     "grade": false,
     "grade_id": "cell-da06b64c53195124",
     "locked": false,
     "schema_version": 3,
     "solution": true,
     "task": false
    },
    "tags": []
   },
   "outputs": [],
   "source": [
    "# Get critical values of the O'Brien-Fleming design!\n",
    "\n",
    "# Your code goes here. No skeleton code is provided; see question 2.0.\n",
    "\n",
    "# your code here\n",
    "fail() # No Answer - remove if you provide an answer\n",
    "\n",
    "crit_of_10"
   ]
  },
  {
   "cell_type": "code",
   "execution_count": null,
   "metadata": {
    "deletable": false,
    "editable": false,
    "nbgrader": {
     "cell_type": "code",
     "checksum": "4aa6b042eaa5608a070899744a100030",
     "grade": true,
     "grade_id": "cell-7577b94a1406d9b2",
     "locked": true,
     "points": 3,
     "schema_version": 3,
     "solution": false,
     "task": false
    }
   },
   "outputs": [],
   "source": [
    "# Here we check to see if you have given your answer the correct object name\n",
    "# and if your answer is plausible. However, all other tests have been hidden\n",
    "# so you can practice deciding when you have the correct answer.\n",
    "\n",
    "test_that('Did not assign answer to an object called \"crit_of_10\"', {\n",
    "    expect_true(exists(\"crit_of_10\"))\n",
    "})\n",
    "\n",
    "test_that(\"Solution should be a vector of length 10\", {\n",
    "    expect_equal(digest(length(crit_of_10)), \"71db8a6cad03244e6e50f0ad8bc95a65\")\n",
    "})\n"
   ]
  },
  {
   "cell_type": "markdown",
   "metadata": {
    "deletable": false,
    "editable": false,
    "nbgrader": {
     "cell_type": "markdown",
     "checksum": "ba9f5bd38670e527581cb16364c2696f",
     "grade": false,
     "grade_id": "cell-2f896d20a801d8e7",
     "locked": true,
     "schema_version": 3,
     "solution": false,
     "task": false
    }
   },
   "source": [
    "**Question 3.2**\n",
    "<br>{points: 1}\n",
    "\n",
    "Using the data stored in `answer3.0`, plot the sequence of observed statistics for each interim analysis as a **line** with the incremental sample size on the $x$-axis and the value of the observed statistic on the $y$-axis. \n",
    "\n",
    "Add 4 dashed lines that indicate the following 4 boundaries (critical values): \n",
    "\n",
    "- a green line for the OF's critical values\n",
    "\n",
    "- a red line for the Pocock's critical values\n",
    "\n",
    "- a blue line for the Bonferroni's critical values\n",
    "\n",
    "- a black line for the unadjusted critical values\n",
    "\n",
    "The `ggplot()` object's name will be `sequential_stat`.\n",
    "\n",
    "*Fill out those parts indicated with `...`, uncomment the corresponding code in the cell below, and run it.*"
   ]
  },
  {
   "cell_type": "code",
   "execution_count": null,
   "metadata": {
    "deletable": false,
    "lines_to_next_cell": 0,
    "nbgrader": {
     "cell_type": "code",
     "checksum": "e102fcbf9704f5b5c73c4e03758de5fa",
     "grade": false,
     "grade_id": "cell-92328169e3d31d90",
     "locked": false,
     "schema_version": 3,
     "solution": true,
     "task": false
    },
    "tags": []
   },
   "outputs": [],
   "source": [
    "options(repr.plot.width = 15, repr.plot.height = 9) # Adjust these numbers so the plot looks good in your desktop.\n",
    "\n",
    "#crit_unadj <- qt(1 - ..., ...)\n",
    "#crit_bonferroni <- ...(1 - ..., ...)\n",
    "\n",
    "#sequential_stat <- \n",
    "#  answer3.0 %>%\n",
    "#  ggplot() +\n",
    "#  geom_line(aes(x = inc_sample_size, y = statistic)) +\n",
    "#  geom_point(aes(x = ..., y = ...)) +\n",
    "#  geom_line(aes(x = inc_sample_size, y = crit_of_10),colour = 3, linetype = \"twodash\")+\n",
    "#  geom_point(aes(x = inc_sample_size, y = ...), colour = 3) +\n",
    "#  geom_text(x=150, y=crit_of_10[1] + 0.15, size=6, label=\"O'Brien-Fleming\",colour = 3) +\n",
    "#  geom_hline(yintercept = ..., colour = \"red\", linetype = \"twodash\") +\n",
    "#  geom_point(aes(x = inc_sample_size, y = ...), colour = \"red\") +\n",
    "#  geom_text(x=150, y=crit_pocock_10 + 0.15, size=6, label=\"Pocock\",colour = \"red\") +\n",
    "#  geom_hline(yintercept = ..., colour = \"blue\", linetype = \"twodash\") +\n",
    "#  geom_point(aes(x = inc_sample_size, y = rep(crit_Bonferroni, ...)), colour = \"blue\") +\n",
    "#  geom_text(x=150, y=crit_bonferroni + 0.15, size=6, label=\"Bonferroni\",colour = \"blue\") +\n",
    "#  geom_hline(yintercept = ..., linetype = \"twodash\") +\n",
    "#  geom_point(aes(x = inc_sample_size, y = rep(..., ...))) +\n",
    "#  geom_text(x=150, y=crit_unadj + 0.15, size=6, label=\"Unadjusted\") +\n",
    "#  theme(\n",
    "#    text = element_text(size = 18),\n",
    "#    plot.title = element_text(face = \"bold\"),\n",
    "#    axis.title = element_text(face = \"bold\")\n",
    "#  ) +\n",
    "#  ggtitle(\"Critical values in Sequential Designs\") +\n",
    "#  ylab(\"Statistic\") +\n",
    "#  xlab(\"Sample Size\") +\n",
    "#  coord_cartesian(ylim = c(-1, 6)) +\n",
    "#  scale_y_continuous(breaks = seq(-1, 6, by = 0.5))\n",
    "\n",
    "# your code here\n",
    "fail() # No Answer - remove if you provide an answer\n",
    "\n",
    "sequential_stat"
   ]
  },
  {
   "cell_type": "code",
   "execution_count": null,
   "metadata": {
    "deletable": false,
    "editable": false,
    "nbgrader": {
     "cell_type": "code",
     "checksum": "43f96d155dfba9089e2ced87c7442d4e",
     "grade": true,
     "grade_id": "cell-c4ec82e4b947c36a",
     "locked": true,
     "points": 1,
     "schema_version": 3,
     "solution": false,
     "task": false
    }
   },
   "outputs": [],
   "source": [
    "test_3.2()"
   ]
  },
  {
   "cell_type": "markdown",
   "metadata": {
    "deletable": false,
    "editable": false,
    "nbgrader": {
     "cell_type": "markdown",
     "checksum": "074ad71870ff7d8a005edbb0823ea0c8",
     "grade": false,
     "grade_id": "cell-d1f712563b8b6a85",
     "locked": true,
     "schema_version": 3,
     "solution": false,
     "task": false
    }
   },
   "source": [
    "**Question 3.3**\n",
    "<br>{points: 3}\n",
    "\n",
    "Suppose that the generated data correspond to the political campaign experiment and that the organizers have decided to monitor the data every 100 visitors per website and stop the experiment earlier if there's evidence of a difference between the group means. \n",
    "\n",
    "According to the data plotted in **Question 3.2**, is the following statement **True or False?**\n",
    "\n",
    "> The campaign organizers will not erroneously stop the experiment if they compare the observed statistics with any of the boundaries that control the type I error rate\n",
    "\n",
    "*Assign your answer to an object called `answer3.3`. Your answer should be either `\"true\"` or `\"false\"`, surrounded by quotes.*"
   ]
  },
  {
   "cell_type": "code",
   "execution_count": null,
   "metadata": {
    "deletable": false,
    "nbgrader": {
     "cell_type": "code",
     "checksum": "1773fcca9f2574e4683a56f43ed30091",
     "grade": false,
     "grade_id": "cell-cbdb916890270418",
     "locked": false,
     "schema_version": 3,
     "solution": true,
     "task": false
    },
    "tags": []
   },
   "outputs": [],
   "source": [
    "# answer3.3 <- \n",
    "\n",
    "# your code here\n",
    "fail() # No Answer - remove if you provide an answer"
   ]
  },
  {
   "cell_type": "code",
   "execution_count": null,
   "metadata": {
    "deletable": false,
    "editable": false,
    "nbgrader": {
     "cell_type": "code",
     "checksum": "c6cb9ea8fe209e270f0bfbb5bf900b7a",
     "grade": true,
     "grade_id": "cell-c68fa6f64391c4e2",
     "locked": true,
     "points": 3,
     "schema_version": 3,
     "solution": false,
     "task": false
    },
    "tags": []
   },
   "outputs": [],
   "source": [
    "# Here we check to see if you have given your answer the correct object name\n",
    "# and if your answer is plausible. However, all other tests have been hidden\n",
    "# so you can practice deciding when you have the correct answer.\n",
    "\n",
    "test_that('Did not assign answer to an object called \"answer3.3\"', {\n",
    "    expect_true(exists(\"answer3.3\"))\n",
    "})\n",
    "\n",
    "test_that('Solution should be \"true\" or \"false\"', {\n",
    "    expect_match(answer3.3, \"true|false\", ignore.case = TRUE)\n",
    "})\n",
    "  \n"
   ]
  },
  {
   "cell_type": "markdown",
   "metadata": {
    "deletable": false,
    "editable": false,
    "nbgrader": {
     "cell_type": "markdown",
     "checksum": "d340ded4d32f8f4e780acd964e109f2e",
     "grade": false,
     "grade_id": "cell-df816ff9bb116e3f",
     "locked": true,
     "schema_version": 3,
     "solution": false,
     "task": false
    }
   },
   "source": [
    "**Question 3.4**\n",
    "<br>{points: 1}\n",
    "\n",
    "To examine how the O'Brien-Fleming (OF) controls the type I error rate, the campaign organizers decided to: \n",
    "\n",
    "- perform the **A/A testing** experiment 100 times \n",
    "\n",
    "- count how many times they would wrongly reject $H_0$ with their strategy, and\n",
    "\n",
    "- compare it with the expected number of rejections given the significance level $\\alpha = 0.05$\n",
    "\n",
    "Use the code below to run 100 experiments and then estimate the type I error rate for the OF method.\n",
    "\n",
    "Your answer will be a tibble with three columns: `n_rejections_OF`, `n_rejections_unadj`, and `expected_n_rejections`.\n",
    "\n",
    "These columns should contain: the number of wrong rejections among the 100 experiments for the OF and the classical methods (unadjusted), respectively, compared to the expected number of wrong rejections given the design.\n",
    "\n",
    "*Fill out those parts indicated with `...`, uncomment the corresponding code in the cell below, and run it.*"
   ]
  },
  {
   "cell_type": "code",
   "execution_count": null,
   "metadata": {
    "deletable": false,
    "editable": false,
    "nbgrader": {
     "cell_type": "code",
     "checksum": "c2b2accd22b5ef863b62cd5e4bda74bc",
     "grade": false,
     "grade_id": "cell-80ce1a82c6388796",
     "locked": true,
     "schema_version": 3,
     "solution": false,
     "task": false
    },
    "tags": []
   },
   "outputs": [],
   "source": [
    "set.seed(120)\n",
    "\n",
    "### Run this before continuing\n",
    "multiple_times_sequential_tests <- \n",
    "    tibble(experiment = 1:100) %>% \n",
    "    mutate(seq_test = map(.x = experiment, \n",
    "                          .f = function(x) incremental_t_test(n = 1000, d_0 = 0, sample_increase_step = 100, \n",
    "                              mean_current = 200, sd_current = 50, sd_new = 50)))"
   ]
  },
  {
   "cell_type": "code",
   "execution_count": null,
   "metadata": {
    "deletable": false,
    "nbgrader": {
     "cell_type": "code",
     "checksum": "a074b2f1c8d97f27cf479995b395d19c",
     "grade": false,
     "grade_id": "cell-7e6502a2334285d4",
     "locked": false,
     "schema_version": 3,
     "solution": true,
     "task": false
    },
    "tags": []
   },
   "outputs": [],
   "source": [
    "#answer3.4 <- multiple_times_sequential_tests %>% \n",
    "#    mutate(reject_of = map_dbl(.x = seq_test, .f = function(x) sum(... ... ...) > 0),\n",
    "#           reject_unadj = map_dbl(.x = seq_test, .f = function(x) sum(... ... ...) >0)) %>%  \n",
    "#    summarise(n_rejections_OF = ...(reject_of),\n",
    "#              n_rejections_unadj = ...(reject_unadj),\n",
    "#              expected_n_rejections = ...)\n",
    "\n",
    "# your code here\n",
    "fail() # No Answer - remove if you provide an answer\n",
    "                            \n",
    "answer3.4"
   ]
  },
  {
   "cell_type": "code",
   "execution_count": null,
   "metadata": {
    "deletable": false,
    "editable": false,
    "nbgrader": {
     "cell_type": "code",
     "checksum": "9775ac1cfd45aa58410f6384414a1a47",
     "grade": true,
     "grade_id": "cell-065f7cddd3d93051",
     "locked": true,
     "points": 1,
     "schema_version": 3,
     "solution": false,
     "task": false
    },
    "tags": []
   },
   "outputs": [],
   "source": [
    "test_3.4()"
   ]
  },
  {
   "cell_type": "markdown",
   "metadata": {
    "deletable": false,
    "editable": false,
    "nbgrader": {
     "cell_type": "markdown",
     "checksum": "21ccaf653c8067ee9574130634533a1b",
     "grade": false,
     "grade_id": "cell-027ecb0d6c9f11ac",
     "locked": true,
     "schema_version": 3,
     "solution": false,
     "task": false
    }
   },
   "source": [
    "**Question 3.5**\n",
    "<br>{points: 3}\n",
    "\n",
    "Explain briefly the results obtained in **Question 3.4**.\n"
   ]
  },
  {
   "cell_type": "markdown",
   "metadata": {
    "deletable": false,
    "nbgrader": {
     "cell_type": "markdown",
     "checksum": "0fe2bc5d0c803671d070799ce49727cb",
     "grade": true,
     "grade_id": "cell-b9d8c96418c97fb1",
     "locked": false,
     "points": 3,
     "schema_version": 3,
     "solution": true,
     "task": false
    }
   },
   "source": [
    "DOUBLE CLICK TO EDIT **THIS CELL** AND REPLACE THIS TEXT WITH YOUR ANSWER."
   ]
  }
 ],
 "metadata": {
  "jupytext": {
   "formats": "ipynb,Rmd"
  },
  "kernelspec": {
   "display_name": "R",
   "language": "R",
   "name": "ir"
  },
  "language_info": {
   "codemirror_mode": "r",
   "file_extension": ".r",
   "mimetype": "text/x-r-source",
   "name": "R",
   "pygments_lexer": "r",
   "version": "4.3.3"
  }
 },
 "nbformat": 4,
 "nbformat_minor": 4
}
