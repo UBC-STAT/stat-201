{
 "cells": [
  {
   "cell_type": "markdown",
   "metadata": {
    "nbgrader": {
     "grade": false,
     "grade_id": "cell-e883b594bd088087",
     "locked": true,
     "schema_version": 3,
     "solution": false,
     "task": false
    }
   },
   "source": [
    "# Coding demo 4: Confidence Intervals via Bootstrapping"
   ]
  },
  {
   "cell_type": "markdown",
   "metadata": {},
   "source": [
    "### Code for multiple CIs (to use at the end of demo)\n",
    "\n",
    "```r\n",
    "\n",
    "set.seed(6655)\n",
    "many_samples <- commute_t_student %>%\n",
    "  rep_sample_n(size = 20, reps = 100, replace = FALSE) %>%\n",
    "  nest()\n",
    "\n",
    "bootstrap_means <- many_samples %>%\n",
    "  ungroup() %>% \n",
    "  rename(sample = data) %>%\n",
    "  rename(sample_id = replicate) %>% \n",
    "  mutate(bootstrap_samples = map(sample, \n",
    "                                   function(sample) {\n",
    "                                     sample %>% \n",
    "                                       rep_sample_n(reps = 1000, size = nrow(sample), replace = TRUE) %>% \n",
    "                                       ungroup()\n",
    "                                   })) %>%\n",
    "  mutate(bootstrap_means = map(bootstrap_samples, \n",
    "                               function(bootstrap_sample) {\n",
    "                                 bootstrap_sample %>%\n",
    "                                   group_by(replicate) %>%\n",
    "                                   summarize(bootstrap_mean = mean(time_h), .groups = \"drop\")\n",
    "                               })) %>% \n",
    "  select(sample_id, bootstrap_means) %>% \n",
    "  unnest(bootstrap_means)\n",
    "\n",
    "head(bootstrap_means)\n",
    "tail(bootstrap_means)\n",
    "\n",
    "\n",
    "```\n"
   ]
  }
 ],
 "metadata": {
  "celltoolbar": "Create Assignment",
  "docker": {
   "latest_image_tag": "v0.4.0"
  },
  "jupytext": {
   "formats": "ipynb,Rmd"
  },
  "kernelspec": {
   "display_name": "R",
   "language": "R",
   "name": "ir"
  },
  "language_info": {
   "codemirror_mode": "r",
   "file_extension": ".r",
   "mimetype": "text/x-r-source",
   "name": "R",
   "pygments_lexer": "r",
   "version": "4.3.3"
  }
 },
 "nbformat": 4,
 "nbformat_minor": 4
}
