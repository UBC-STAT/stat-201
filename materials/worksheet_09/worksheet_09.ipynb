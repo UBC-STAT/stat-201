{
 "cells": [
  {
   "cell_type": "markdown",
   "id": "laughing-oregon",
   "metadata": {
    "deletable": false,
    "editable": false,
    "nbgrader": {
     "cell_type": "markdown",
     "checksum": "1960e3a1ff6ba6c4486e31fa2375dde0",
     "grade": false,
     "grade_id": "cell-a285fa9a5c8bfcea",
     "locked": true,
     "schema_version": 3,
     "solution": false,
     "task": false
    }
   },
   "source": [
    "# Worksheet 09: Beyond two-group comparisons"
   ]
  },
  {
   "cell_type": "markdown",
   "id": "9758997d-4d4a-48aa-8cfa-23fce0424d71",
   "metadata": {
    "deletable": false,
    "editable": false,
    "nbgrader": {
     "cell_type": "markdown",
     "checksum": "75ec631f0a9f7d89f8c8d2fcbd559433",
     "grade": false,
     "grade_id": "cell-73043794ed62490f",
     "locked": true,
     "schema_version": 3,
     "solution": false,
     "task": false
    }
   },
   "source": [
    "#### Lecture and Tutorial Learning Goals:\n",
    "After completing this week's lecture and tutorial work, you will be able to:\n",
    "\n",
    "1. Run a simple one-way ANOVA and understand the general concepts behind an ANOVA\n",
    "2. Apply False Detection Rate or Bonferroni correction to control the errors when performing multiple hypothesis testing\n",
    "3. Understand the value of presenting an entire distribution as a prediction\n",
    "4. Calculate and interpret prediction intervals"
   ]
  },
  {
   "cell_type": "code",
   "execution_count": null,
   "id": "atlantic-ability",
   "metadata": {
    "deletable": false,
    "editable": false,
    "lines_to_next_cell": 2,
    "message": false,
    "nbgrader": {
     "cell_type": "code",
     "checksum": "dc66d84af8a85a47c1591f7cc64e367f",
     "grade": false,
     "grade_id": "cell-30f56caec5c2231a",
     "locked": true,
     "schema_version": 3,
     "solution": false,
     "task": false
    },
    "warning": false
   },
   "outputs": [],
   "source": [
    "library(tidyverse)\n",
    "library(infer)\n",
    "library(datateachr)\n",
    "library(testthat)\n",
    "library(digest)\n",
    "library(broom)\n",
    "source(\"tests_worksheet_09.r\")"
   ]
  },
  {
   "cell_type": "markdown",
   "id": "intimate-desperate",
   "metadata": {
    "deletable": false,
    "editable": false,
    "nbgrader": {
     "cell_type": "markdown",
     "checksum": "64f67c0032c997045b02e9f03338d141",
     "grade": false,
     "grade_id": "cell-03120628ad8c51eb",
     "locked": true,
     "schema_version": 3,
     "solution": false,
     "task": false
    }
   },
   "source": [
    "## Exercise 1: Recap Exercises\n",
    "\n",
    "**Question 1.1**\n",
    "<br>{points: 1}\n",
    "\n",
    "After how many hypotheses would we expect to make one Type I error, if each hypothesis is tested at a 0.05 significance level? Assuming the data from these tests are independent, that is. Put the number in a variable named `recap1`."
   ]
  },
  {
   "cell_type": "code",
   "execution_count": null,
   "id": "applied-shame",
   "metadata": {
    "deletable": false,
    "nbgrader": {
     "cell_type": "code",
     "checksum": "53448270984c524171630c50f00c8aeb",
     "grade": false,
     "grade_id": "cell-a9b66c6f231ce5f7",
     "locked": false,
     "schema_version": 3,
     "solution": true,
     "task": false
    }
   },
   "outputs": [],
   "source": [
    "# recap1 <- ...\n",
    "\n",
    "# your code here\n",
    "fail() # No Answer - remove if you provide an answer\n",
    "\n",
    "print(recap1)"
   ]
  },
  {
   "cell_type": "code",
   "execution_count": null,
   "id": "amended-board",
   "metadata": {
    "deletable": false,
    "editable": false,
    "nbgrader": {
     "cell_type": "code",
     "checksum": "0f17a1434073b7f6dc93e89876354982",
     "grade": true,
     "grade_id": "cell-ef5fd2da92bda890",
     "locked": true,
     "points": 1,
     "schema_version": 3,
     "solution": false,
     "task": false
    }
   },
   "outputs": [],
   "source": [
    "test_1.1()"
   ]
  },
  {
   "cell_type": "markdown",
   "id": "moderate-combining",
   "metadata": {
    "deletable": false,
    "editable": false,
    "nbgrader": {
     "cell_type": "markdown",
     "checksum": "780624e2304ca06ca0506096050bb823",
     "grade": false,
     "grade_id": "cell-4cd9f26b1e63ec57",
     "locked": true,
     "schema_version": 3,
     "solution": false,
     "task": false
    }
   },
   "source": [
    "**Question 1.2**\n",
    "<br>{points: 1}\n",
    "\n",
    "You decide to get some practice with data analysis, so you analyse a different data set each week. For each analysis, you produce a single 90% confidence interval for a parameter. After how many projects would you expect to have made a confidence interval that _does not_ contain the true parameter? Put your answer in a variable named `recap2`."
   ]
  },
  {
   "cell_type": "code",
   "execution_count": null,
   "id": "amateur-example",
   "metadata": {
    "deletable": false,
    "nbgrader": {
     "cell_type": "code",
     "checksum": "b19cc19a38d873c77a4d0fcb32631ea5",
     "grade": false,
     "grade_id": "cell-062f255249a8cf9d",
     "locked": false,
     "schema_version": 3,
     "solution": true,
     "task": false
    }
   },
   "outputs": [],
   "source": [
    "# recap2 <- ...\n",
    "\n",
    "# your code here\n",
    "fail() # No Answer - remove if you provide an answer\n",
    "\n",
    "print(recap2)"
   ]
  },
  {
   "cell_type": "code",
   "execution_count": null,
   "id": "pointed-blackjack",
   "metadata": {
    "deletable": false,
    "editable": false,
    "lines_to_next_cell": 2,
    "nbgrader": {
     "cell_type": "code",
     "checksum": "07b4d26c638b781fefa14eb43a74a474",
     "grade": true,
     "grade_id": "cell-fcf35b0222506bc2",
     "locked": true,
     "points": 1,
     "schema_version": 3,
     "solution": false,
     "task": false
    }
   },
   "outputs": [],
   "source": [
    "test_1.2()"
   ]
  },
  {
   "cell_type": "markdown",
   "id": "mental-learning",
   "metadata": {
    "deletable": false,
    "editable": false,
    "nbgrader": {
     "cell_type": "markdown",
     "checksum": "8f6e8a21b127e1eeba0e970c8bdecd26",
     "grade": false,
     "grade_id": "cell-4cd1cdee8339b6b0",
     "locked": true,
     "schema_version": 3,
     "solution": false,
     "task": false
    }
   },
   "source": [
    "## Exercise 2: One-Way ANOVA\n",
    "\n",
    "Consider the `attitude` dataset in the datasets R package, which provides the survey scores of six questions (along with an overall score) given to employees of an organization. A tidy version of the data without the overall score is stored below in the `attitudes_tidy` variable."
   ]
  },
  {
   "cell_type": "code",
   "execution_count": null,
   "id": "automatic-gregory",
   "metadata": {
    "deletable": false,
    "editable": false,
    "nbgrader": {
     "cell_type": "code",
     "checksum": "74bdaf5bef5e14eaf82a7fbad52b46da",
     "grade": false,
     "grade_id": "cell-08bda415cb782a17",
     "locked": true,
     "schema_version": 3,
     "solution": false,
     "task": false
    }
   },
   "outputs": [],
   "source": [
    "attitude_tidy <- \n",
    "    attitude %>% \n",
    "    select(-rating) %>% \n",
    "    pivot_longer(everything(), names_to = \"question\", values_to = \"score\")\n",
    "\n",
    "head(attitude_tidy)"
   ]
  },
  {
   "cell_type": "markdown",
   "id": "dramatic-bulgarian",
   "metadata": {
    "deletable": false,
    "editable": false,
    "nbgrader": {
     "cell_type": "markdown",
     "checksum": "4d9e3eb73ed389cc3c7b7ae59492e088",
     "grade": false,
     "grade_id": "cell-bb5794f87538efeb",
     "locked": true,
     "schema_version": 3,
     "solution": false,
     "task": false
    }
   },
   "source": [
    "A jitterplot + boxplot of the data is shown below:"
   ]
  },
  {
   "cell_type": "code",
   "execution_count": null,
   "id": "active-phenomenon",
   "metadata": {
    "deletable": false,
    "editable": false,
    "fig.align": "center",
    "fig.height": 3,
    "fig.width": 5,
    "nbgrader": {
     "cell_type": "code",
     "checksum": "b8648083bf208705043f990808686147",
     "grade": false,
     "grade_id": "cell-9cf9b2f149373847",
     "locked": true,
     "schema_version": 3,
     "solution": false,
     "task": false
    }
   },
   "outputs": [],
   "source": [
    "attitude_tidy %>% \n",
    "    mutate(question = question %>% \n",
    "                         as_factor() %>% \n",
    "                         fct_reorder(score)) %>% \n",
    "    ggplot(aes(question, score)) +\n",
    "    geom_boxplot(width = 0.4, outlier.shape = NA) +\n",
    "    geom_jitter(width = 0.2, alpha = 1 / 3) +\n",
    "    theme_minimal()"
   ]
  },
  {
   "cell_type": "markdown",
   "id": "social-audit",
   "metadata": {
    "deletable": false,
    "editable": false,
    "nbgrader": {
     "cell_type": "markdown",
     "checksum": "8d70f5a307e3b80657fe21caed574abc",
     "grade": false,
     "grade_id": "cell-6a2869d508878e41",
     "locked": true,
     "schema_version": 3,
     "solution": false,
     "task": false
    }
   },
   "source": [
    "Although there are visual differences between the groups, perhaps these differences are due to randomness.\n",
    "\n",
    "For this exercise, denote $\\mu_1, \\mu_2, \\ldots, \\mu_6$ the means of each group (ordered as in the above plot).\n",
    "\n",
    "**Question 2.1**\n",
    "<br>{points: 1}\n",
    "\n",
    "Maybe the mean scores are actually the same for each question. How can we write this as a null hypothesis, using symbols? Place the letter to your answer in a variable named `null_hypothesis`.\n",
    "\n",
    "**a**\\. $\\mu_1 = \\mu_2 = \\cdots = \\mu_6$    \n",
    "**b**\\. There are actually 15 null hypotheses, one for each pair of means: $\\mu_1 = \\mu_2$, $\\mu_1 = \\mu_3$, $\\mu_2 = \\mu_3$, etc.     \n",
    "**c**\\. There is an upward trend in score across question type.\n",
    "\n",
    "Assign your answer to an object called `null_hypothesis`. Your answer should be a single character surrounded by quotes."
   ]
  },
  {
   "cell_type": "code",
   "execution_count": null,
   "id": "located-rocket",
   "metadata": {
    "deletable": false,
    "nbgrader": {
     "cell_type": "code",
     "checksum": "a0c02241caaa9faed770d55943bdceac",
     "grade": false,
     "grade_id": "cell-0c013cc9509debf9",
     "locked": false,
     "schema_version": 3,
     "solution": true,
     "task": false
    }
   },
   "outputs": [],
   "source": [
    "# null_hypothesis <- ...\n",
    "\n",
    "# your code here\n",
    "fail() # No Answer - remove if you provide an answer"
   ]
  },
  {
   "cell_type": "code",
   "execution_count": null,
   "id": "arbitrary-heading",
   "metadata": {
    "deletable": false,
    "editable": false,
    "nbgrader": {
     "cell_type": "code",
     "checksum": "0c96a290876544f1b17756aebda3e588",
     "grade": true,
     "grade_id": "cell-6a3a9cd39a8d21b0",
     "locked": true,
     "points": 1,
     "schema_version": 3,
     "solution": false,
     "task": false
    }
   },
   "outputs": [],
   "source": [
    "test_2.1()"
   ]
  },
  {
   "cell_type": "markdown",
   "id": "divided-english",
   "metadata": {
    "deletable": false,
    "editable": false,
    "nbgrader": {
     "cell_type": "markdown",
     "checksum": "2afa8cc3b926cbfb8e4a1ede35a2ee7c",
     "grade": false,
     "grade_id": "cell-a892af3ec11ba1dc",
     "locked": true,
     "schema_version": 3,
     "solution": false,
     "task": false
    }
   },
   "source": [
    "**Question 2.2**\n",
    "<br>{points: 1}\n",
    "\n",
    "Make a tibble containing the variances for each question. Your tibble should have columns named `\"question\"`, containing the question, and `\"variance\"`, containing the variance calculated using the `var()`. There should be six rows -- one for each question. Store the tibble in a variable called `attitude_variances`."
   ]
  },
  {
   "cell_type": "code",
   "execution_count": null,
   "id": "labeled-abuse",
   "metadata": {
    "deletable": false,
    "nbgrader": {
     "cell_type": "code",
     "checksum": "7cc646bf65893e8839adc0973dcaf55e",
     "grade": false,
     "grade_id": "cell-cd7d55fce539aa7c",
     "locked": false,
     "schema_version": 3,
     "solution": true,
     "task": false
    }
   },
   "outputs": [],
   "source": [
    "# attitude_variances <- \n",
    "#    attitude_tidy %>%\n",
    "#    ... %>%\n",
    "#    ...\n",
    "\n",
    "# your code here\n",
    "fail() # No Answer - remove if you provide an answer\n",
    "\n",
    "attitude_variances"
   ]
  },
  {
   "cell_type": "code",
   "execution_count": null,
   "id": "introductory-reception",
   "metadata": {
    "deletable": false,
    "editable": false,
    "lines_to_next_cell": 2,
    "nbgrader": {
     "cell_type": "code",
     "checksum": "80f761448376d794d58cfe8bab4450f8",
     "grade": true,
     "grade_id": "cell-84949f8e7463ec43",
     "locked": true,
     "points": 1,
     "schema_version": 3,
     "solution": false,
     "task": false
    }
   },
   "outputs": [],
   "source": [
    "test_2.2()"
   ]
  },
  {
   "cell_type": "markdown",
   "id": "pending-dispatch",
   "metadata": {
    "deletable": false,
    "editable": false,
    "nbgrader": {
     "cell_type": "markdown",
     "checksum": "5f4be5a949493c8280d5cb57d6e6cc38",
     "grade": false,
     "grade_id": "cell-271b865277e55db4",
     "locked": true,
     "schema_version": 3,
     "solution": false,
     "task": false
    }
   },
   "source": [
    "**Question 2.3**\n",
    "<br>{points: 1}\n",
    "\n",
    "ANOVA performs more accurately if the variances within each group are the same. Judging by the observed variances, does this look like a decent approximation? Some resources say that, as long as the group with the highest variance isn't many multiples bigger than the smallest group variance, then the specified significance level will be roughly equal to the true significance level. Store either `\"a\"`, `\"b\"`, or `\"c\"` with the variable `variance_call` to indicate your response.\n",
    "\n",
    "**a**\\.  We can assume that the variances are equal.   \n",
    "**b**\\.  The difference in variances between groups is concerning.   \n",
    "**c**\\.  Each group having the same variance appears to be a decent approximation.\n",
    "\n",
    "Assign your answer to an object called `variance_call`. Your answer should be a single character surrounded by quotes."
   ]
  },
  {
   "cell_type": "code",
   "execution_count": null,
   "id": "level-principal",
   "metadata": {
    "deletable": false,
    "lines_to_next_cell": 2,
    "nbgrader": {
     "cell_type": "code",
     "checksum": "99ea26bbf2919af621720010e7738758",
     "grade": false,
     "grade_id": "cell-d06411780d61ebf0",
     "locked": false,
     "schema_version": 3,
     "solution": true,
     "task": false
    }
   },
   "outputs": [],
   "source": [
    "# variance_call <- ...\n",
    "\n",
    "# your code here\n",
    "fail() # No Answer - remove if you provide an answer"
   ]
  },
  {
   "cell_type": "code",
   "execution_count": null,
   "id": "compact-springfield",
   "metadata": {
    "deletable": false,
    "editable": false,
    "lines_to_next_cell": 2,
    "nbgrader": {
     "cell_type": "code",
     "checksum": "1161bdb0c32d885a78da352206b9d078",
     "grade": true,
     "grade_id": "cell-eb3eb8016185f490",
     "locked": true,
     "points": 1,
     "schema_version": 3,
     "solution": false,
     "task": false
    }
   },
   "outputs": [],
   "source": [
    "test_2.3()"
   ]
  },
  {
   "cell_type": "markdown",
   "id": "sealed-province",
   "metadata": {
    "deletable": false,
    "editable": false,
    "nbgrader": {
     "cell_type": "markdown",
     "checksum": "e5460fb97cbf94c3beaa8621e1e80268",
     "grade": false,
     "grade_id": "cell-e802fc25001340c6",
     "locked": true,
     "schema_version": 3,
     "solution": false,
     "task": false
    }
   },
   "source": [
    "**Question 2.4**\n",
    "<br>{points: 1}\n",
    "\n",
    "If the null hypothesis is true, then the overall variance could be calculated in two ways:\n",
    "\n",
    "- The overall variance, as if the grouping variable was absent. Calculate this quantity, and store it in a variable named `variance_overall`\n",
    "- The average group variance. Calculate this value by averaging the variances within each group. Store this number in a variable named `variance_group_avg`.\n",
    "\n",
    "Note that there are other ANOVA methods that weigh group variances a different ways, to account for situations where groups have quite different variances.\n",
    "\n",
    "A test statistic, then, would measure the discrepancy between these two values. Instead of calculating the difference, it works out better to calculate the _ratio_ of the overall variance to the average group variance. A big number (away from 1) is evidence that the null hypothesis may not be true. Store this ratio in a variable named `variance_ratio`.\n",
    "\n",
    "Framework:\n",
    "\n",
    "```r\n",
    "variance_overall <- \n",
    "    attitude_tidy %>% \n",
    "    summarise(... = ...) %>% \n",
    "    pull(...)\n",
    "    \n",
    "variance_group_avg <- attitude_variances %>% \n",
    "    summarise(... = ...) %>% \n",
    "    pull(...)\n",
    "\n",
    "variance_ratio <- .../...\n",
    "```"
   ]
  },
  {
   "cell_type": "code",
   "execution_count": null,
   "id": "center-bruce",
   "metadata": {
    "deletable": false,
    "lines_to_next_cell": 2,
    "nbgrader": {
     "cell_type": "code",
     "checksum": "eb6fcfe4e8aadbfc625c2bf595c479cd",
     "grade": false,
     "grade_id": "cell-07a587e9222fe286",
     "locked": false,
     "schema_version": 3,
     "solution": true,
     "task": false
    }
   },
   "outputs": [],
   "source": [
    "# your code here\n",
    "fail() # No Answer - remove if you provide an answer\n",
    "\n",
    "print(variance_overall)\n",
    "print(variance_group_avg)\n",
    "print(variance_ratio)"
   ]
  },
  {
   "cell_type": "code",
   "execution_count": null,
   "id": "virgin-despite",
   "metadata": {
    "deletable": false,
    "editable": false,
    "nbgrader": {
     "cell_type": "code",
     "checksum": "7df24c6a73dc01c93f6ef90f2a04926c",
     "grade": true,
     "grade_id": "cell-7206307d327d032a",
     "locked": true,
     "points": 1,
     "schema_version": 3,
     "solution": false,
     "task": false
    }
   },
   "outputs": [],
   "source": [
    "test_2.4()"
   ]
  },
  {
   "cell_type": "markdown",
   "id": "lesbian-focus",
   "metadata": {
    "deletable": false,
    "editable": false,
    "nbgrader": {
     "cell_type": "markdown",
     "checksum": "f166ad3d7e076938e0e4ea6bc0ee2dcc",
     "grade": false,
     "grade_id": "cell-b01d59b1129f3456",
     "locked": true,
     "schema_version": 3,
     "solution": false,
     "task": false
    }
   },
   "source": [
    "**Question 2.5**\n",
    "<br>{points: 1}\n",
    "\n",
    "The _actual_ test statistic -- called the ANOVA F-test statistic -- is a little different from the one we calculated. Its scale is adjusted, and is shifted so that its base is at 0. The interpretation is as a ratio of _treatment variance_ (variability of group means around the overall mean) to the within-group variance. Also, it turns out that this test statistic is well approximated by an _F_-distribution if the null hypothesis is true -- and is exactly true if each group's population is Normally distributed, and the group variances are exactly equal.\n",
    "\n",
    "Use the `aov()` function to test the hypothesis. The relevant arguments are:\n",
    "\n",
    "- First argument (`formula`): Takes the form `numeric_column_name ~ group_column_name`.\n",
    "- `data`: Takes a data frame in tidy format (grouping column and numeric column).\n",
    "\n",
    "Use the broom package's `tidy()` function to obtain the F-statistic and p-value. Store these values in the variables `f_stat` and `anova_pval`, respectively.\n",
    "\n",
    "Fill in the scaffolding below:\n",
    "\n",
    "```r\n",
    "anova_results <- \n",
    "    aov(... ~ ..., data = attitude_tidy) %>% \n",
    "    tidy()\n",
    "    \n",
    "f_stat <- ...\n",
    "\n",
    "anova_pval <- ...\n",
    "\n",
    "```"
   ]
  },
  {
   "cell_type": "code",
   "execution_count": null,
   "id": "painful-treaty",
   "metadata": {
    "deletable": false,
    "nbgrader": {
     "cell_type": "code",
     "checksum": "9d033079c57c12a8369ea371ccc980ce",
     "grade": false,
     "grade_id": "cell-e4f6f14c0c38ae6c",
     "locked": false,
     "schema_version": 3,
     "solution": true,
     "task": false
    }
   },
   "outputs": [],
   "source": [
    "# your code here\n",
    "fail() # No Answer - remove if you provide an answer\n",
    "\n",
    "print(anova_results)\n",
    "print(f_stat)\n",
    "print(anova_pval)"
   ]
  },
  {
   "cell_type": "code",
   "execution_count": null,
   "id": "governing-documentation",
   "metadata": {
    "deletable": false,
    "editable": false,
    "lines_to_next_cell": 2,
    "nbgrader": {
     "cell_type": "code",
     "checksum": "6cb78759c9fa61b53dbf2e59bb135b4a",
     "grade": true,
     "grade_id": "cell-8401214a49d0e3de",
     "locked": true,
     "points": 1,
     "schema_version": 3,
     "solution": false,
     "task": false
    }
   },
   "outputs": [],
   "source": [
    "test_2.5()"
   ]
  },
  {
   "cell_type": "markdown",
   "id": "liberal-operation",
   "metadata": {
    "deletable": false,
    "editable": false,
    "nbgrader": {
     "cell_type": "markdown",
     "checksum": "7e6290cd9db321d414513004423f9256",
     "grade": false,
     "grade_id": "cell-d766af941418a67b",
     "locked": true,
     "schema_version": 3,
     "solution": false,
     "task": false
    }
   },
   "source": [
    "_Note_: You can also run an ANOVA by fitting linear models first, with `lm()`. But, this is a topic for STAT 301! \n",
    "\n",
    "**Question 2.6**\n",
    "<br>{points: 1}\n",
    "\n",
    "What is our conclusion under a 0.01 significance level?\n",
    "\n",
    "**a**\\. Each group has a different / unique mean.   \n",
    "**b**\\. There's not enough evidence to suggest that the group means are different.   \n",
    "**c**\\. The group means are all equal.     \n",
    "**d**\\. At least one group has a mean that is significantly different from the others.   \n",
    "**e**\\. There is a positive linear relationship between score and question.\n",
    "\n",
    "Assign your answer to an object called `anova_conclusion`. Your answer should be a single character surrounded by quotes."
   ]
  },
  {
   "cell_type": "code",
   "execution_count": null,
   "id": "heard-initial",
   "metadata": {
    "deletable": false,
    "nbgrader": {
     "cell_type": "code",
     "checksum": "4a59049e529211c03c9015b043c7c615",
     "grade": false,
     "grade_id": "cell-f243d8d103397740",
     "locked": false,
     "schema_version": 3,
     "solution": true,
     "task": false
    }
   },
   "outputs": [],
   "source": [
    "# anova_conclusion <- ...\n",
    "# your code here\n",
    "fail() # No Answer - remove if you provide an answer"
   ]
  },
  {
   "cell_type": "code",
   "execution_count": null,
   "id": "tired-jurisdiction",
   "metadata": {
    "deletable": false,
    "editable": false,
    "lines_to_next_cell": 0,
    "nbgrader": {
     "cell_type": "code",
     "checksum": "b959e3e4562bdf8a2789ea139c2d0c80",
     "grade": true,
     "grade_id": "cell-7a84b72472c0f947",
     "locked": true,
     "points": 1,
     "schema_version": 3,
     "solution": false,
     "task": false
    }
   },
   "outputs": [],
   "source": [
    "test_2.6()"
   ]
  },
  {
   "cell_type": "markdown",
   "id": "distant-definition",
   "metadata": {
    "deletable": false,
    "editable": false,
    "nbgrader": {
     "cell_type": "markdown",
     "checksum": "29f3c5810eb38749e6999bdccfb8cf70",
     "grade": false,
     "grade_id": "cell-57c3cb6d60ccea8c",
     "locked": true,
     "schema_version": 3,
     "solution": false,
     "task": false
    }
   },
   "source": [
    "## Exercise 3: Prediction Intervals\n",
    "\n",
    "Until now, we've been making inference on _population parameters_, such as means, quantiles, variances, etc. As we've seen, this inference allows us to present both (1) our best guess as to what the parameter is (an estimate), along with (2) a description of uncertainty (such as confidence intervals and hypothesis tests). But, \n",
    "how can we go about making inference on a _new observation_? \n",
    "\n",
    "In the tutorial, you'll explore predictions themselves. In this worksheet, we'll explore the inference part of predictions: _prediction intervals_.\n",
    "\n",
    "To form a prediction interval, instead of using quantiles of the _(estimated) sampl<u>ing</u> distribution_, use the _population distribution_. \n",
    "\n",
    "Unlike sampling distributions, using the _true_ population distribution to form prediction intervals actually gives us prediction intervals with the specified probability. Using _true_ sampling distributions, on the other hand, is not useful for forming confidence intervals, because we know the true mean is in the center of the sampling distribution, so no interval at all is needed.\n",
    "\n",
    "Since it's unusual to have access to the population distribution in practice, a common approach is to use the _sampl<u>e</u> distribution_ when forming prediction intervals. Doing so usually results in the true coverage probability to veer from the specified probability -- something we'll explore a little more in this exercise. \n",
    "\n",
    "**Question 3.1**\n",
    "<br>{points: 1}\n",
    "\n",
    "Recall the City of Vancouver building permits dataset `building_permits` in the datateachr R package, which has building permit info on all buildings since 2017. Here is a tibble of the project values of all One-Family Dwellings (having non-zero value):"
   ]
  },
  {
   "cell_type": "code",
   "execution_count": null,
   "id": "metric-journalism",
   "metadata": {
    "deletable": false,
    "editable": false,
    "lines_to_next_cell": 2,
    "nbgrader": {
     "cell_type": "code",
     "checksum": "4c111b41edd6c2107755344d440363d1",
     "grade": false,
     "grade_id": "cell-ffb2f8b1e51fbc7f",
     "locked": true,
     "schema_version": 3,
     "solution": false,
     "task": false
    }
   },
   "outputs": [],
   "source": [
    "project_values <- \n",
    "    building_permits %>% \n",
    "    filter(specific_use_category == \"One-Family Dwelling\") %>% \n",
    "    select(project_value) %>% \n",
    "    filter(project_value > 0)\n",
    "\n",
    "head(project_values)"
   ]
  },
  {
   "cell_type": "markdown",
   "id": "filled-potential",
   "metadata": {
    "deletable": false,
    "editable": false,
    "nbgrader": {
     "cell_type": "markdown",
     "checksum": "9b14b31ba42a6e815ea0efce0bb7bc76",
     "grade": false,
     "grade_id": "cell-b815d929182a1b66",
     "locked": true,
     "schema_version": 3,
     "solution": false,
     "task": false
    }
   },
   "source": [
    "<!-- For your own reference, here is a 95% *confidence* interval for the mean (Here, we'll take the population to be infinite: the value in today's dollars of all one-family dwellings since 2017, going on into the future. (Also assuming society remains similar to today's society.) -->\n",
    "<!-- ) -->\n",
    "\n",
    "<!-- ```{r} -->\n",
    "<!-- project_values %>%  -->\n",
    "<!--   rep_sample_n(size = nrow(.), replace = TRUE, reps = 1000) %>%  -->\n",
    "<!--   group_by(replicate) %>%  -->\n",
    "<!--   summarise(mean_value = mean(project_value), .groups = \"drop\") %>%  -->\n",
    "<!--   pull(mean_value) %>%  -->\n",
    "<!--   quantile(c(0.025, 0.975)) %>%  -->\n",
    "<!--   unname() -->\n",
    "<!-- ``` -->\n",
    "\n",
    "If a new one-family dwelling is going to be built, what is a 90% prediction interval for this property's value (given that it's above 0)? Store this interval as a vector of length two (lower first, upper second), as a variable named `dwelling_pi`. \n",
    "\n",
    "Technicalities:\n",
    "\n",
    "- Use the `quantile()` function (and its default `type = 7` argument).\n",
    "- Ensure equal probability on both sides of the distribution.\n",
    "- The function `reframe()` is very similar to `summarize()`, but allows to return multiple rows per group. "
   ]
  },
  {
   "cell_type": "code",
   "execution_count": null,
   "id": "royal-biotechnology",
   "metadata": {
    "deletable": false,
    "nbgrader": {
     "cell_type": "code",
     "checksum": "6ae82415ea7095f6839b3474984cf5f1",
     "grade": false,
     "grade_id": "cell-0a236b691b187a60",
     "locked": false,
     "schema_version": 3,
     "solution": true,
     "task": false
    }
   },
   "outputs": [],
   "source": [
    "# dwelling_pi <-     \n",
    "#    project_values %>%\n",
    "#    reframe(dwelling_pi = ...(..., c(..., ...), type = 7)) %>%\n",
    "#    pull(dwelling_pi) \n",
    "\n",
    "# your code here\n",
    "fail() # No Answer - remove if you provide an answer\n",
    "\n",
    "print(dwelling_pi)"
   ]
  },
  {
   "cell_type": "code",
   "execution_count": null,
   "id": "material-physics",
   "metadata": {
    "deletable": false,
    "editable": false,
    "nbgrader": {
     "cell_type": "code",
     "checksum": "ac60b94945f69957671aae387f8535e1",
     "grade": true,
     "grade_id": "cell-959598381c47c70d",
     "locked": true,
     "points": 1,
     "schema_version": 3,
     "solution": false,
     "task": false
    }
   },
   "outputs": [],
   "source": [
    "test_3.1()"
   ]
  },
  {
   "cell_type": "markdown",
   "id": "forty-understanding",
   "metadata": {
    "deletable": false,
    "editable": false,
    "nbgrader": {
     "cell_type": "markdown",
     "checksum": "81ab752fb1a879bfa63c6b1e0b32a47a",
     "grade": false,
     "grade_id": "cell-ae52142007c0c214",
     "locked": true,
     "schema_version": 3,
     "solution": false,
     "task": false
    }
   },
   "source": [
    "**Question 3.2**\n",
    "<br>{points: 1}\n",
    "\n",
    "Based on the definitions of prediction interval and confidence interval, what happens to these intervals as the sample size increases?\n",
    "\n",
    "**a**\\. Confidence intervals remain roughly the same width, because the confidence level remains the same.    \n",
    "**b**\\. Confidence intervals get narrower as we zero in on the true parameter.    \n",
    "**c**\\. Confidence intervals expand as we gain more and more confidence with larger sample sizes.   \n",
    "**d**\\. Prediction intervals remain roughly the same width -- after all, we're just getting better and better at estimating the true quantiles making up the boundaries of the prediction interval.   \n",
    "**e**\\. Prediction intervals get narrower as we zero in on the true future value.    \n",
    "**f**\\. Prediction intervals expand as we gain more and more confidence with larger sample sizes. \n",
    "\n",
    "Place the letters of your response in alphabetical order as a string, in a variable named `interval_trends`. Your answer should be one or multiple characters surrounded by quotes."
   ]
  },
  {
   "cell_type": "code",
   "execution_count": null,
   "id": "hundred-juvenile",
   "metadata": {
    "deletable": false,
    "nbgrader": {
     "cell_type": "code",
     "checksum": "24e3f20a97ff6850bf400a4a39a36e6b",
     "grade": false,
     "grade_id": "cell-a11587ed58b8c74b",
     "locked": false,
     "schema_version": 3,
     "solution": true,
     "task": false
    }
   },
   "outputs": [],
   "source": [
    "# interval_trends <- ...\n",
    "\n",
    "# your code here\n",
    "fail() # No Answer - remove if you provide an answer"
   ]
  },
  {
   "cell_type": "code",
   "execution_count": null,
   "id": "flexible-bulgarian",
   "metadata": {
    "deletable": false,
    "editable": false,
    "nbgrader": {
     "cell_type": "code",
     "checksum": "af9d69c6d92d686aa71dcd1ad381709c",
     "grade": true,
     "grade_id": "cell-4415ae970aef0c2b",
     "locked": true,
     "points": 1,
     "schema_version": 3,
     "solution": false,
     "task": false
    }
   },
   "outputs": [],
   "source": [
    "test_3.2()"
   ]
  },
  {
   "cell_type": "markdown",
   "id": "supreme-italic",
   "metadata": {
    "deletable": false,
    "editable": false,
    "nbgrader": {
     "cell_type": "markdown",
     "checksum": "07a8da45d88bb1eab843ee8a9ad48c34",
     "grade": false,
     "grade_id": "cell-bfbf84f298285d2d",
     "locked": true,
     "schema_version": 3,
     "solution": false,
     "task": false
    }
   },
   "source": [
    "**Question 3.3**\n",
    "<br>{points: 1}\n",
    "\n",
    "To build concepts, let's interpret our sample as being the entire population. What proportion of this population's property values fall in the prediction interval? This is called the _true coverage probability_, because it's the proportion of the population that truly falls in the interval. Take the interval to be inclusive of both endpoints. Store the proportion in a variable named `dwellings_in_pi`. \n",
    "\n",
    "(By the way: the reason you don't get 90% exactly is because the population is finite. This means that changing one of the endpoints of your prediction interval to the next higher or lower value will cause the confidence level to also make a discrete jump to another value. This is especially characteristic of discrete data.)"
   ]
  },
  {
   "cell_type": "code",
   "execution_count": null,
   "id": "collaborative-password",
   "metadata": {
    "deletable": false,
    "nbgrader": {
     "cell_type": "code",
     "checksum": "b6e72b43b4a3f83d83845a4104aa824a",
     "grade": false,
     "grade_id": "cell-289c421bd1a11c64",
     "locked": false,
     "schema_version": 3,
     "solution": true,
     "task": false
    }
   },
   "outputs": [],
   "source": [
    "# dwellings_in_pi <- \n",
    "#     project_values %>% \n",
    "#     summarise(prop = mean(\n",
    "#         between( ..., ..., ...)\n",
    "#     )) %>% \n",
    "#     pull(...)\n",
    "\n",
    "# your code here\n",
    "fail() # No Answer - remove if you provide an answer\n",
    "\n",
    "print(dwellings_in_pi)"
   ]
  },
  {
   "cell_type": "code",
   "execution_count": null,
   "id": "exclusive-module",
   "metadata": {
    "deletable": false,
    "editable": false,
    "lines_to_next_cell": 2,
    "nbgrader": {
     "cell_type": "code",
     "checksum": "f9a71ead3449b654e6bcb7bd368c0875",
     "grade": true,
     "grade_id": "cell-fc4227d65b91295d",
     "locked": true,
     "points": 1,
     "schema_version": 3,
     "solution": false,
     "task": false
    }
   },
   "outputs": [],
   "source": [
    "test_3.3()"
   ]
  },
  {
   "cell_type": "markdown",
   "id": "solved-incident",
   "metadata": {
    "deletable": false,
    "editable": false,
    "nbgrader": {
     "cell_type": "markdown",
     "checksum": "a44ca2edfa13ad661448bf8409837af0",
     "grade": false,
     "grade_id": "cell-a2d18322d817b4c0",
     "locked": true,
     "schema_version": 3,
     "solution": false,
     "task": false
    }
   },
   "source": [
    "**Question 3.4**\n",
    "<br>{points: 1}\n",
    "\n",
    "Let's still interpret our sample as being the population, so that we can see an example of the specified coverage probability veering off from the true coverage probability. \n",
    "\n",
    "To see how the true coverage probabilities vary depending on the sample, let's take multiple (1000) samples of size 100, and calculate the true coverage probability for each of them. Remember, since our original sample is the entire population, it wouldn't make sense to sample with replacement, because we could potentially duplicate members of our population. Use a seed of `123`, and store your final vector of 1000 coverage probabilities in a vector named `coverage`. \n",
    "\n",
    "Scaffolding:\n",
    "\n",
    "```r\n",
    "set.seed(123)\n",
    "\n",
    "## Draw 1000 samples of size 100:\n",
    "sample_pi <- \n",
    "    project_values %>% \n",
    "    rep_sample_n(..., replace = ..., reps = ...) %>% \n",
    "    group_by(replicate) %>% \n",
    "    summarise(lower = quantile(..., ...),\n",
    "              upper = quantile(..., ...))\n",
    "\n",
    "## Get vector of project values:\n",
    "project_values_vec <- project_values$project_value\n",
    "\n",
    "## Calculate coverage probabilities:\n",
    "coverage <- \n",
    "    sample_pi %>% \n",
    "    group_by(replicate) %>% \n",
    "    summarise(coverage = ...(\n",
    "        between( ..., ..., ...)\n",
    "    )) %>% \n",
    "    pull(coverage)\n",
    "```\n"
   ]
  },
  {
   "cell_type": "code",
   "execution_count": null,
   "id": "tested-pleasure",
   "metadata": {
    "deletable": false,
    "lines_to_next_cell": 2,
    "nbgrader": {
     "cell_type": "code",
     "checksum": "e4fec833d94fc964fc5dfc72fcf58951",
     "grade": false,
     "grade_id": "cell-a0c46e43e511731a",
     "locked": false,
     "schema_version": 3,
     "solution": true,
     "task": false
    }
   },
   "outputs": [],
   "source": [
    "set.seed(123)\n",
    "\n",
    "# your code here\n",
    "fail() # No Answer - remove if you provide an answer\n",
    "\n",
    "head(coverage)"
   ]
  },
  {
   "cell_type": "code",
   "execution_count": null,
   "id": "internal-bathroom",
   "metadata": {
    "deletable": false,
    "editable": false,
    "nbgrader": {
     "cell_type": "code",
     "checksum": "6c019c34ffc1486312290543022cde59",
     "grade": true,
     "grade_id": "cell-93e1e1def662ebb3",
     "locked": true,
     "points": 1,
     "schema_version": 3,
     "solution": false,
     "task": false
    }
   },
   "outputs": [],
   "source": [
    "test_3.4()"
   ]
  },
  {
   "cell_type": "markdown",
   "id": "ideal-plenty",
   "metadata": {
    "deletable": false,
    "editable": false,
    "nbgrader": {
     "cell_type": "markdown",
     "checksum": "8b54fdbde122b7192fee1bd1ac6605ca",
     "grade": false,
     "grade_id": "cell-4e4a9c9ae77b0c96",
     "locked": true,
     "schema_version": 3,
     "solution": false,
     "task": false
    }
   },
   "source": [
    "**Question 3.5**\n",
    "<br>{points: 1}\n",
    "\n",
    "Here is a histogram of the coverage probabilities you produced, with a vertical line representing the intended coverage probability:"
   ]
  },
  {
   "cell_type": "code",
   "execution_count": null,
   "id": "impressive-playback",
   "metadata": {
    "deletable": false,
    "editable": false,
    "nbgrader": {
     "cell_type": "code",
     "checksum": "16456e11ca493832fa50a86dc9f5c066",
     "grade": false,
     "grade_id": "cell-1d9ba5fd90529702",
     "locked": true,
     "schema_version": 3,
     "solution": false,
     "task": false
    }
   },
   "outputs": [],
   "source": [
    "ggplot(data.frame(coverage)) +\n",
    "    geom_histogram(aes(x=coverage), bins = 30) +\n",
    "    theme_minimal() +\n",
    "    xlab(\"Coverage probability\") +\n",
    "    ylab(\"Count\") +\n",
    "    geom_vline(xintercept = 0.9)"
   ]
  },
  {
   "cell_type": "markdown",
   "id": "postal-programming",
   "metadata": {
    "deletable": false,
    "editable": false,
    "nbgrader": {
     "cell_type": "markdown",
     "checksum": "bf6022c04f147e41b1804dbee257913a",
     "grade": false,
     "grade_id": "cell-23dc35d1b89130d2",
     "locked": true,
     "schema_version": 3,
     "solution": false,
     "task": false
    }
   },
   "source": [
    "As you can see, the true coverage probability depends on the sample drawn. This histogram shape is typical, with more mass on the left, suggesting that smaller coverage probabilities are more likely.\n",
    "\n",
    "Based on your simulation, just how likely are you to get a coverage probability less than the specified coverage probability of 0.9? Put this probability in a variable named `prob_smaller`."
   ]
  },
  {
   "cell_type": "code",
   "execution_count": null,
   "id": "conceptual-brook",
   "metadata": {
    "deletable": false,
    "nbgrader": {
     "cell_type": "code",
     "checksum": "f007b2d172d47dc21d74c4ffedb44667",
     "grade": false,
     "grade_id": "cell-746dd958bb0ffa9e",
     "locked": false,
     "schema_version": 3,
     "solution": true,
     "task": false
    }
   },
   "outputs": [],
   "source": [
    "# prob_smaller <- ...\n",
    "# your code here\n",
    "fail() # No Answer - remove if you provide an answer\n",
    "print(prob_smaller)"
   ]
  },
  {
   "cell_type": "code",
   "execution_count": null,
   "id": "fd23b64f-6633-4b0d-9db9-726da1604674",
   "metadata": {},
   "outputs": [],
   "source": []
  },
  {
   "cell_type": "code",
   "execution_count": null,
   "id": "aggregate-gender",
   "metadata": {
    "deletable": false,
    "editable": false,
    "lines_to_next_cell": 2,
    "nbgrader": {
     "cell_type": "code",
     "checksum": "cb8644122c3886fbd0b6966baceb1372",
     "grade": true,
     "grade_id": "cell-4d12051f167e577a",
     "locked": true,
     "points": 1,
     "schema_version": 3,
     "solution": false,
     "task": false
    }
   },
   "outputs": [],
   "source": [
    "test_3.5()"
   ]
  },
  {
   "cell_type": "markdown",
   "id": "preliminary-lancaster",
   "metadata": {
    "deletable": false,
    "editable": false,
    "nbgrader": {
     "cell_type": "markdown",
     "checksum": "a21f0f4e4e3c492312ea8cb05ff34807",
     "grade": false,
     "grade_id": "cell-0f9b4a388d2e5685",
     "locked": true,
     "schema_version": 3,
     "solution": false,
     "task": false
    }
   },
   "source": [
    "**Question 3.6**\n",
    "<br>{points: 1}\n",
    "\n",
    "Now, consider our original population of one-family dwellings now and in the future. If it turns out that the true coverage probability of our prediction interval is smaller than the specified probability of 90%, what does this mean? Keep in mind that we can't know how the true coverage probability will compare.\n",
    "\n",
    "**a**\\. More one-family dwellings being built will have property values outside of our interval than we think.   \n",
    "**b**\\. Less one-family dwellings being built will have property values outside of our interval than we think.   \n",
    "**c**\\. In order to capture the true coverage probability, we would need to expand our prediction interval.   \n",
    "**d**\\. In order to capture the true coverage probability, we would need to shrink our prediction interval.   \n",
    "\n",
    "Place your selection(s) in alphabetical order in one string in a variable named `realities`. The answer should be one or multiple letters surrounded by quotes."
   ]
  },
  {
   "cell_type": "code",
   "execution_count": null,
   "id": "proved-sister",
   "metadata": {
    "deletable": false,
    "nbgrader": {
     "cell_type": "code",
     "checksum": "d6edcc1ac66fe32fd7c7f1eff59e7bd2",
     "grade": false,
     "grade_id": "cell-0b8fd530909e8105",
     "locked": false,
     "schema_version": 3,
     "solution": true,
     "task": false
    }
   },
   "outputs": [],
   "source": [
    "# realities <- ...\n",
    "\n",
    "# your code here\n",
    "fail() # No Answer - remove if you provide an answer"
   ]
  },
  {
   "cell_type": "code",
   "execution_count": null,
   "id": "breeding-penguin",
   "metadata": {
    "deletable": false,
    "editable": false,
    "nbgrader": {
     "cell_type": "code",
     "checksum": "e3379fd0d04804d36f79f8bfd03ab88f",
     "grade": true,
     "grade_id": "cell-41b20de3cf33f39b",
     "locked": true,
     "points": 1,
     "schema_version": 3,
     "solution": false,
     "task": false
    }
   },
   "outputs": [],
   "source": [
    "test_3.6()"
   ]
  },
  {
   "cell_type": "markdown",
   "id": "f606dbfa-5519-481c-806a-a5f37483f180",
   "metadata": {
    "deletable": false,
    "editable": false,
    "nbgrader": {
     "cell_type": "markdown",
     "checksum": "7defa1eb3051f6d9700aac6928fc8b4c",
     "grade": false,
     "grade_id": "cell-f6d2f3d9ac317e23",
     "locked": true,
     "schema_version": 3,
     "solution": false,
     "task": false
    }
   },
   "source": [
    "Before we end this section, it's worth saying that there's still merit in using a sample-based prediction interval, even though the true coverage probability might be different from the specified one. Just as we have to accept error when estimating a parameter like the mean, we have to accept some level of error here, too. That being said, there *are* ways of adjusting prediction intervals to more closely match the true coverage probability. A famous one is when the population distribution is Gaussian (just google \"prediction interval\", and many resources will show a formula based on a Normal population). But, we won't cover these methods in this course. \n"
   ]
  }
 ],
 "metadata": {
  "docker": {
   "latest_image_tag": "v0.6.0"
  },
  "jupytext": {
   "cell_metadata_filter": "warning,message,-all",
   "formats": "ipynb,Rmd",
   "notebook_metadata_filter": "-all"
  },
  "kernelspec": {
   "display_name": "R",
   "language": "R",
   "name": "ir"
  },
  "language_info": {
   "codemirror_mode": "r",
   "file_extension": ".r",
   "mimetype": "text/x-r-source",
   "name": "R",
   "pygments_lexer": "r",
   "version": "4.3.3"
  }
 },
 "nbformat": 4,
 "nbformat_minor": 5
}
