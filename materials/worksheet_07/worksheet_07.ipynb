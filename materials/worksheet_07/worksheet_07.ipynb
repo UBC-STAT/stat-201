{
 "cells": [
  {
   "cell_type": "markdown",
   "metadata": {
    "deletable": false,
    "editable": false,
    "nbgrader": {
     "cell_type": "markdown",
     "checksum": "bda61243e2a05f37b34f67a905255ce4",
     "grade": false,
     "grade_id": "cell-edca88dd0fad0da0",
     "locked": true,
     "schema_version": 3,
     "solution": false,
     "task": false
    }
   },
   "source": [
    "# Worksheet 7: Classical Tests Based on Normal and t-Distributions\n",
    "\n"
   ]
  },
  {
   "cell_type": "markdown",
   "metadata": {
    "deletable": false,
    "editable": false,
    "nbgrader": {
     "cell_type": "markdown",
     "checksum": "23ef5294305fb58a8427afe76bbd445b",
     "grade": false,
     "grade_id": "cell-dfdf9bb167981881",
     "locked": true,
     "schema_version": 3,
     "solution": false,
     "task": false
    }
   },
   "source": [
    "#### Lecture and Tutorial Learning Goals:\n",
    "After completing this week's lecture and tutorial work, you will be able to:\n",
    "\n",
    "\n",
    "1.\tUse results from the assumption of normality or the Central Limit Theorem to perform hypothesis testing.\n",
    "2.\tCompare and contrast the parts of estimation and hypothesis testing that differ between simulation- and resampling-based approaches with the assumption of normality or the Central Limit Theorem-based approaches.\n",
    "3.\tWrite a computer script to perform hypothesis testing based on results from the assumption of normality or the Central Limit Theorem.\n",
    "4.\tDiscuss the potential limitations of these methods."
   ]
  },
  {
   "cell_type": "code",
   "execution_count": null,
   "metadata": {
    "deletable": false,
    "editable": false,
    "nbgrader": {
     "cell_type": "code",
     "checksum": "639afcc07893ddd144675898a36e3e19",
     "grade": false,
     "grade_id": "cell-1f4710caa4111248",
     "locked": true,
     "schema_version": 3,
     "solution": false,
     "task": false
    }
   },
   "outputs": [],
   "source": [
    "# Run this cell before continuing.\n",
    "library(tidyverse)\n",
    "library(broom)\n",
    "library(repr)\n",
    "library(digest)\n",
    "library(infer)\n",
    "library(gridExtra)\n",
    "penguins <- read.csv(\"https://raw.githubusercontent.com/allisonhorst/palmerpenguins/master/inst/extdata/penguins.csv\")\n",
    "source(\"tests_worksheet_07.r\")"
   ]
  },
  {
   "cell_type": "markdown",
   "metadata": {
    "deletable": false,
    "editable": false,
    "nbgrader": {
     "cell_type": "markdown",
     "checksum": "5aabb9c0eae41c276bdc1b0573a05088",
     "grade": false,
     "grade_id": "cell-b8e4a8453b8cb1df",
     "locked": true,
     "schema_version": 3,
     "solution": false,
     "task": false
    }
   },
   "source": [
    "## 1. Short Recap & Warm-Up\n",
    "\n",
    "This week, we will use the Normal distribution and Central Limit Theorem you learned in module 3 to test hypotheses. Before we start exploring the new material for this week, let's remind ourselves of some of the most important points covered in the previous modules."
   ]
  },
  {
   "cell_type": "markdown",
   "metadata": {
    "deletable": false,
    "editable": false,
    "nbgrader": {
     "cell_type": "markdown",
     "checksum": "4fb2045a0ac818862bba9a250a0b6425",
     "grade": false,
     "grade_id": "cell-5353805662ccc269",
     "locked": true,
     "schema_version": 3,
     "solution": false,
     "task": false
    }
   },
   "source": [
    "**Question 1.1**\n",
    "<br>{points: 1}\n",
    "\n",
    "Regarding hypothesis tests, which of the statements below is correct?\n",
    "\n",
    "A. In a hypothesis test, there are two or more hypotheses that are tested against each other. \n",
    "\n",
    "B. In a hypothesis test, we reject $H_0$ when the probability that $H_0$ is true is lower than the probability that $H_1$ is true.\n",
    "\n",
    "C. In a hypothesis test, the lower the p-value is, the higher is the probability that $H_0$ is false. \n",
    "\n",
    "D. All the above statements are correct.\n",
    "\n",
    "E. None of the above statements are correct. \n",
    "\n",
    "\n",
    "_Assign your answer to an object called `answer1.1`. Your answer should be a single character surrounded by quotes._"
   ]
  },
  {
   "cell_type": "code",
   "execution_count": null,
   "metadata": {
    "deletable": false,
    "nbgrader": {
     "cell_type": "code",
     "checksum": "e6a4a0fa00c46c047982b52f36fcb7f9",
     "grade": false,
     "grade_id": "cell-f5eaab2dd8503018",
     "locked": false,
     "schema_version": 3,
     "solution": true,
     "task": false
    }
   },
   "outputs": [],
   "source": [
    "# answer1.1 <- ...\n",
    "\n",
    "# your code here\n",
    "fail() # No Answer - remove if you provide an answer"
   ]
  },
  {
   "cell_type": "code",
   "execution_count": null,
   "metadata": {
    "deletable": false,
    "editable": false,
    "nbgrader": {
     "cell_type": "code",
     "checksum": "289ce9181e5d3112ec4308e08a38f9c7",
     "grade": true,
     "grade_id": "cell-8e91e52d58d06290",
     "locked": true,
     "points": 1,
     "schema_version": 3,
     "solution": false,
     "task": false
    }
   },
   "outputs": [],
   "source": [
    "test_1.1()"
   ]
  },
  {
   "cell_type": "markdown",
   "metadata": {
    "deletable": false,
    "editable": false,
    "nbgrader": {
     "cell_type": "markdown",
     "checksum": "32837100be91c7bd3fde485aff81db6c",
     "grade": false,
     "grade_id": "cell-88680ad53dbe1033",
     "locked": true,
     "schema_version": 3,
     "solution": false,
     "task": false
    }
   },
   "source": [
    "**Question 1.2**\n",
    "<br>{points: 1}\n",
    "\n",
    "John and Marie decided to test $H_0: \\mu=0$ vs $H_1: \\mu\\neq 0$. They used the same data and obtained the same test statistic. John did not reject $H_0$, while Marie did reject $H_0$. \n",
    "\n",
    "Select all of the correct items below: \n",
    "\n",
    "A. After conducting hypothesis testing, John did not reject $H_0$. Given this decision, John is subject to Type I error.  \n",
    "\n",
    "B. After conducting hypothesis testing, John did not reject $H_0$. Given this decision, John is subject to Type II error.  \n",
    "\n",
    "C. After conducting hypothesis testing, Marie rejected $H_0$. Given this decision, Marie is subject to Type I error.\n",
    "\n",
    "D. After conducting hypothesis testing, Marie rejected $H_0$. Given this decision, Marie is subject to Type II error.\n",
    "\n",
    "E. John is using a lower significance level than Marie.\n",
    "\n",
    "F. John is using a larger significance level than Marie.\n",
    "\n",
    "G. John has a lower chance to commit the Type I error than Marie.\n",
    "\n",
    "H. John has a higher chance to commit the Type I error than Marie.\n",
    "\n",
    "I. Marie has a lower chance to commit the Type II error than John.\n",
    "\n",
    "J. Marie has a higher chance to commit the Type II error than John.\n",
    "\n",
    "K. The p-value obtained by John and Marie is very small; in fact, it is smaller than both significance levels used by John and Marie.\n",
    "\n",
    "L. The p-value obtained by John and Marie is relatively large; in fact, it is larger than both significance levels used by John and Marie.\n",
    "\n",
    "\n",
    "_Assign your answer to an object called `answer1.2`. Your answer should all selected letters above surrounded by quotes (e.g., a possible solution is `\"ABCD\"`)._"
   ]
  },
  {
   "cell_type": "code",
   "execution_count": null,
   "metadata": {
    "deletable": false,
    "nbgrader": {
     "cell_type": "code",
     "checksum": "e3db3a9e21cbe6ce63d74e4c69060ba8",
     "grade": false,
     "grade_id": "cell-6e0dc977b67746db",
     "locked": false,
     "schema_version": 3,
     "solution": true,
     "task": false
    }
   },
   "outputs": [],
   "source": [
    "# answer1.2 <- ...\n",
    "\n",
    "# your code here\n",
    "fail() # No Answer - remove if you provide an answer"
   ]
  },
  {
   "cell_type": "code",
   "execution_count": null,
   "metadata": {
    "deletable": false,
    "editable": false,
    "nbgrader": {
     "cell_type": "code",
     "checksum": "86bc8141aa6c79f5c490d5d32bf43f58",
     "grade": true,
     "grade_id": "cell-a36076c32c6f3a35",
     "locked": true,
     "points": 1,
     "schema_version": 3,
     "solution": false,
     "task": false
    }
   },
   "outputs": [],
   "source": [
    "test_1.2()"
   ]
  },
  {
   "cell_type": "markdown",
   "metadata": {
    "deletable": false,
    "editable": false,
    "nbgrader": {
     "cell_type": "markdown",
     "checksum": "81722c39697f61dd287bacaaa1ae7774",
     "grade": false,
     "grade_id": "cell-9bc26fa075f38bce",
     "locked": true,
     "schema_version": 3,
     "solution": false,
     "task": false
    }
   },
   "source": [
    "**Question 1.3**\n",
    "<br>{points: 1}\n",
    "\n",
    "True or false?\n",
    "\n",
    "Given the sample size is large enough, we can use the CLT to obtain an estimator's sampling distribution.\n",
    "\n",
    "_Assign your answer to an object called `answer1.3`. Your answer should be either \"true\" or \"false\", surrounded by quotes._"
   ]
  },
  {
   "cell_type": "code",
   "execution_count": null,
   "metadata": {
    "deletable": false,
    "nbgrader": {
     "cell_type": "code",
     "checksum": "3f79452df1b5c63090afd120763158af",
     "grade": false,
     "grade_id": "cell-22fea57a87dbcff8",
     "locked": false,
     "schema_version": 3,
     "solution": true,
     "task": false
    }
   },
   "outputs": [],
   "source": [
    "# answer1.3 <- ...\n",
    "\n",
    "# your code here\n",
    "fail() # No Answer - remove if you provide an answer"
   ]
  },
  {
   "cell_type": "code",
   "execution_count": null,
   "metadata": {
    "deletable": false,
    "editable": false,
    "nbgrader": {
     "cell_type": "code",
     "checksum": "bb1502451124b4e64a223e2edd05a318",
     "grade": true,
     "grade_id": "cell-41af9a6ba1a4c7c2",
     "locked": true,
     "points": 1,
     "schema_version": 3,
     "solution": false,
     "task": false
    }
   },
   "outputs": [],
   "source": [
    "test_1.3()"
   ]
  },
  {
   "cell_type": "markdown",
   "metadata": {
    "deletable": false,
    "editable": false,
    "nbgrader": {
     "cell_type": "markdown",
     "checksum": "dfae883abee6c2b7547a70e3b45b675c",
     "grade": false,
     "grade_id": "cell-b63018f49eca47f1",
     "locked": true,
     "schema_version": 3,
     "solution": false,
     "task": false
    }
   },
   "source": [
    "**Question 1.4**\n",
    "<br>{points: 1}\n",
    "\n",
    "Suppose the sampling distribution of an unbiased estimator can be reasonably approximated by a $N(\\mu=110, \\sigma = 4)$. What of the following intervals is a valid 92% confidence interval for the parameter? \n",
    "\n",
    "A. $[98.129; 121.871]$\n",
    "\n",
    "B. $[102.1601; 117.8399]$\n",
    "\n",
    "C. $[102.9973; 117.0027]$\n",
    "\n",
    "D. $[103.4206; 116.5794]$\n",
    "\n",
    "_Assign your answer to an object called `answer1.4`. Your answer should be a single character surrounded by quotes._"
   ]
  },
  {
   "cell_type": "code",
   "execution_count": null,
   "metadata": {
    "deletable": false,
    "nbgrader": {
     "cell_type": "code",
     "checksum": "2ab1a0b4e982459615e13a69735d61d6",
     "grade": false,
     "grade_id": "cell-5038f6f2306eb925",
     "locked": false,
     "schema_version": 3,
     "solution": true,
     "task": false
    }
   },
   "outputs": [],
   "source": [
    "# answer1.4 <- ...\n",
    "\n",
    "# your code here\n",
    "fail() # No Answer - remove if you provide an answer"
   ]
  },
  {
   "cell_type": "code",
   "execution_count": null,
   "metadata": {
    "deletable": false,
    "editable": false,
    "nbgrader": {
     "cell_type": "code",
     "checksum": "b7ff78d2aca2cdc70211eed32d35a4a3",
     "grade": true,
     "grade_id": "cell-bf196b06500887d5",
     "locked": true,
     "points": 1,
     "schema_version": 3,
     "solution": false,
     "task": false
    }
   },
   "outputs": [],
   "source": [
    "test_1.4()"
   ]
  },
  {
   "cell_type": "markdown",
   "metadata": {
    "deletable": false,
    "editable": false,
    "nbgrader": {
     "cell_type": "markdown",
     "checksum": "ec0a82fd3b104f29b65cf0b0bf922eee",
     "grade": false,
     "grade_id": "cell-8b6d7c95443ea4e1",
     "locked": true,
     "schema_version": 3,
     "solution": false,
     "task": false
    }
   },
   "source": [
    "**Question 1.5**\n",
    "<br>{points: 1}\n",
    "\n",
    "To estimate the heart rate of patients with a given cardiac disease, you took a sample of 500 patients out of a population of 1300 patients. The average heart rate while resting in your sample was 95 bpm, and the standard deviation 10 bpm. Which of the following options is right?  \n",
    "\n",
    "\n",
    "A. Although our sample size is large, the estimator is not a sum of random components. Therefore, we should not apply the CLT.\n",
    "\n",
    "B. The sample size is too large compared to the population's size, causing a strong violation of the assumption of sample independence. Therefore, we should not apply the CLT.\n",
    "\n",
    "C. Given the large sample size, it is realistic to apply CLT and obtain a 95% confidence interval given by $[75.4004; 114.5996]$;\n",
    "\n",
    "D. Given the large sample size, it is realistic to apply CLT and obtain a 99.7% confidence interval given by $[65.3226; 124.6774]$;\n",
    "\n",
    "E. Both A and B are correct;\n",
    "\n",
    "F. Both C and D are correct;\n",
    "\n",
    "_Assign your answer to an object called `answer1.5`. Your answer should be a single character surrounded by quotes._"
   ]
  },
  {
   "cell_type": "code",
   "execution_count": null,
   "metadata": {
    "deletable": false,
    "nbgrader": {
     "cell_type": "code",
     "checksum": "d3732cd54f73a8e1ea5d890f0ff9d5c3",
     "grade": false,
     "grade_id": "cell-496b3df45d3fbda5",
     "locked": false,
     "schema_version": 3,
     "solution": true,
     "task": false
    }
   },
   "outputs": [],
   "source": [
    "# answer1.5 <- ...\n",
    "\n",
    "# your code here\n",
    "fail() # No Answer - remove if you provide an answer"
   ]
  },
  {
   "cell_type": "code",
   "execution_count": null,
   "metadata": {
    "deletable": false,
    "editable": false,
    "lines_to_next_cell": 0,
    "nbgrader": {
     "cell_type": "code",
     "checksum": "7ab59a0695b16be9d7a479bfbb86990e",
     "grade": true,
     "grade_id": "cell-1650f0ebc5f3a664",
     "locked": true,
     "points": 1,
     "schema_version": 3,
     "solution": false,
     "task": false
    }
   },
   "outputs": [],
   "source": [
    "test_1.5()"
   ]
  },
  {
   "cell_type": "markdown",
   "metadata": {
    "deletable": false,
    "editable": false,
    "nbgrader": {
     "cell_type": "markdown",
     "checksum": "6f4c2d9619c1f582dea866625ccac5d4",
     "grade": false,
     "grade_id": "cell-20c3b031b431fd93",
     "locked": true,
     "schema_version": 3,
     "solution": false,
     "task": false
    }
   },
   "source": [
    "## 2. Hypothesis Testing"
   ]
  },
  {
   "cell_type": "markdown",
   "metadata": {
    "deletable": false,
    "editable": false,
    "nbgrader": {
     "cell_type": "markdown",
     "checksum": "f209ffa587f91a45084fb26f53b46dd3",
     "grade": false,
     "grade_id": "cell-8da811d25b8cc73a",
     "locked": true,
     "schema_version": 3,
     "solution": false,
     "task": false
    }
   },
   "source": [
    "### 2.1 Testing the Mean of One Population:  `one-sample t-test`\n",
    "\n",
    "In this section, we will use a mathematical approximation to test the population mean. The cases to be considered will be: \n",
    "\n",
    "- $H_0: \\mu = \\mu_0$ vs $H_1: \\mu < \\mu_0$\n",
    "\n",
    "- $H_0: \\mu = \\mu_0$ vs $H_1: \\mu > \\mu_0$\n",
    "\n",
    "- $H_0: \\mu = \\mu_0$ vs $H_1: \\mu \\neq \\mu_0$\n",
    "\n",
    "To test $H_0$, we use the following test statistic:\n",
    "\n",
    "$$\n",
    "T = \\frac{\\bar{x} - \\mu_0}{s/\\sqrt{n}}\n",
    "$$\n",
    "\n",
    "where $\\bar{x}$ is the sample mean, $s$ is the sample standard deviation, $n$ is the sample size, and $\\mu_0$ is the value of $\\mu$ under $H_0$. \n",
    "\n",
    "To test the hypotheses, we need to know the sampling distribution of $T$ under the assumption that $H_0$ is true. There are two cases to consider:\n",
    "\n",
    "<br>\n",
    "<dl>\n",
    "<dt> Case 1: The population is normally distributed\n",
    "<dd> In this case, under $H_0$ (i.e., if $H_0$ were true), $T$ will follow a t-distribution with $n-1$ degrees of freedom, denoted by $t_{n-1}$. This is true for any sample size. We do not need to use the CLT in this case.\n",
    "<br>\n",
    "<br>\n",
    "<dt> Case 2: The population is NOT normally distributed\n",
    "<dd> In this case, we need to rely on the CLT. According to the CLT, the sampling distribution of the sample average $\\bar{X}$ will converge to a Normal distribution. Therefore, given that $n$ is large enough, the distribution of $T$ will also converge to a $t_{n-1}$ under $H_0$. But in this case, you need to rely that $n$ is big enough.\n",
    "</dl>\n",
    "\n",
    "Knowing the distribution of our test statistic $T$ allows us to check if the observed test statistic would be a plausible value if $H_0$ were true. If the observed test statistics fall in the red region in the plots below, we will reject $H_0$. The significance level specifies the size of the red region. "
   ]
  },
  {
   "cell_type": "code",
   "execution_count": null,
   "metadata": {
    "deletable": false,
    "editable": false,
    "nbgrader": {
     "cell_type": "code",
     "checksum": "645222ff40f4510b4f47133335b80042",
     "grade": false,
     "grade_id": "cell-ddde570668b633a4",
     "locked": true,
     "schema_version": 3,
     "solution": false,
     "task": false
    }
   },
   "outputs": [],
   "source": [
    "# Run this cell to see the plots\n",
    "\n",
    "options(repr.plot.width = 20, repr.plot.height = 12)\n",
    "\n",
    "q <- map_dbl(c(0.05, 0.025, 0.975, 0.95), qt, df = 25)\n",
    "t <- tibble(T = seq(-4, 4, 0.01), density = dt(T, 25))\n",
    "    \n",
    "\n",
    "base_plot <-\n",
    "    ggplot(t) + \n",
    "    geom_line(aes(T, density)) + \n",
    "    theme(text = element_text(size=26)) +\n",
    "    ylab(\"Density of the test statistic T\")\n",
    "\n",
    "plots <- list()\n",
    "plots[[1]] <-    \n",
    "    base_plot + \n",
    "    geom_ribbon(t %>% filter(T < qt(0.1, 25)),\n",
    "                mapping = aes(x = T, ymax = density, ymin = 0), alpha = 0.5, fill = \"red\") + \n",
    "    ggtitle(expression(paste(H[0], \": \", mu == mu[0], \" vs \", H[1], \": \", mu < mu[0],))) + \n",
    "    scale_x_continuous(labels = expression(q[alpha]), breaks = c(qt(0.1, 25)) ) + \n",
    "    geom_segment(aes(x = qt(0.1, 25), xend= qt(0.1, 25), y = 0, yend=dt(qt(0.1, 25), 25)), colour=\"black\", linetype = 'dashed')\n",
    "\n",
    "\n",
    "\n",
    "plots[[2]] <-    \n",
    "    base_plot + \n",
    "    geom_ribbon(t %>% filter(T < qt(0.05, 25)),\n",
    "                mapping = aes(x = T, ymax = density, ymin = 0), alpha = 0.5, fill = \"red\") +\n",
    "    geom_ribbon(t %>% filter(T > qt(0.95, 25)),\n",
    "                mapping = aes(x = T, ymax = density, ymin = 0), alpha = 0.5, fill = \"red\") + \n",
    "    ggtitle(expression(paste(H[0], \": \", mu == mu[0], \" vs \", H[1], \": \", mu != mu[0],))) + \n",
    "    scale_x_continuous(labels = c(expression(q[alpha/2]), expression(q[1-alpha/2])), breaks = c(qt(0.05, 25), qt(0.95, 25)) ) +\n",
    "    geom_segment(aes(x = qt(0.05, 25), xend= qt(0.05, 25), y = 0, yend=dt(qt(0.05, 25), 25)), colour=\"black\", linetype = 'dashed') +\n",
    "    geom_segment(aes(x = qt(0.95, 25), xend= qt(0.95, 25), y = 0, yend=dt(qt(0.95, 25), 25)), colour=\"black\", linetype = 'dashed')\n",
    "\n",
    "plots[[3]] <-    \n",
    "    base_plot + \n",
    "    geom_ribbon(t %>% filter(T > qt(0.9, 25)),\n",
    "                mapping = aes(x = T, ymax = density, ymin = 0), alpha = 0.5, fill = \"red\") + \n",
    "    ggtitle(expression(paste(H[0], \": \", mu == mu[0], \" vs \", H[1], \": \", mu > mu[0],))) + \n",
    "    scale_x_continuous(labels = expression(q[1-alpha]), breaks = c(qt(0.9, 25)) ) +\n",
    "    geom_segment(aes(x = qt(0.9, 25), xend= qt(0.9, 25), y = 0, yend=dt(qt(0.9, 25), 25)), colour=\"black\", linetype = 'dashed')\n",
    "\n",
    "grid.arrange(grobs = plots, ncol = 2)"
   ]
  },
  {
   "cell_type": "markdown",
   "metadata": {
    "deletable": false,
    "editable": false,
    "nbgrader": {
     "cell_type": "markdown",
     "checksum": "4f9807a5cfd97a67abc67f784316eafb",
     "grade": false,
     "grade_id": "cell-e9c1f30bb7d68318",
     "locked": true,
     "schema_version": 3,
     "solution": false,
     "task": false
    }
   },
   "source": [
    "Now it is your turn! \n",
    "\n",
    "The medical community has long declared the average temperature of healthy human bodies to be 98.2 degrees Fahrenheit. Let us check such a claim. We have body temperature measurements of 130 people ([ref 1](http://jse.amstat.org/datasets/normtemp.txt)). The data set has three columns:\n",
    "\n",
    "1. the body temperature (in degree Fahrenheit);\n",
    "2. the sex;\n",
    "3. heart rate (beats per minute) \n",
    "\n",
    "Run the cell below to load the data set."
   ]
  },
  {
   "cell_type": "code",
   "execution_count": null,
   "metadata": {
    "deletable": false,
    "editable": false,
    "nbgrader": {
     "cell_type": "code",
     "checksum": "20ca684a9564fe591ca30fe80d458739",
     "grade": false,
     "grade_id": "cell-b806bcbe926a67b6",
     "locked": true,
     "schema_version": 3,
     "solution": false,
     "task": false
    }
   },
   "outputs": [],
   "source": [
    "options(repr.plot.width = 16, repr.plot.height = 8)\n",
    "# Run this cell before continuing\n",
    "body_temp <-\n",
    "    read.table(\"http://jse.amstat.org/datasets/normtemp.dat.txt\",\n",
    "                col.names = c(\"body_temp\", \"sex\", \"heart_rate\"), header = FALSE) %>% \n",
    "    mutate(sex = if_else(sex == 1, \"male\", \"female\")) %>% \n",
    "    mutate(sex = as_factor(sex))\n",
    "    \n",
    "\n",
    "head(body_temp)"
   ]
  },
  {
   "cell_type": "markdown",
   "metadata": {
    "deletable": false,
    "editable": false,
    "nbgrader": {
     "cell_type": "markdown",
     "checksum": "11f998383b888257426c3c3fdcef9963",
     "grade": false,
     "grade_id": "cell-7196b2d4a8f1697b",
     "locked": true,
     "schema_version": 3,
     "solution": false,
     "task": false
    }
   },
   "source": [
    "**Question 2.1.0**\n",
    "<br>{points: 1}\n",
    "\n",
    "Which of the options below has the appropriate hypotheses?\n",
    "\n",
    "A. $H_0: \\mu = \\mu_0$ vs $H_1: \\mu < \\mu_0$\n",
    "\n",
    "B. $H_0: \\mu = \\mu_0$ vs $H_1: \\mu > \\mu_0$\n",
    "\n",
    "C. $H_0: \\mu = \\mu_0$ vs $H_1: \\mu \\neq \\mu_0$\n",
    "\n",
    "D. $H_0: \\mu \\neq \\mu_0$ vs $H_1: \\mu = \\mu_0$\n",
    "\n",
    "E. $H_0: \\mu < \\mu_0$ vs $H_1: \\mu = \\mu_0$\n",
    "\n",
    "F. $H_0: \\mu > \\mu_0$ vs $H_1: \\mu = \\mu_0$\n",
    "\n",
    "G. $H_0: \\mu \\geq \\mu_0$ vs $H_1: \\mu < \\mu_0$\n",
    "\n",
    "H. $H_0: \\mu \\leq \\mu_0$ vs $H_1: \\mu > \\mu_0$\n",
    "\n",
    "_Assign your answer to an object called `answer2.1.0`. Your answer should be a single character surrounded by quotes._"
   ]
  },
  {
   "cell_type": "code",
   "execution_count": null,
   "metadata": {
    "deletable": false,
    "nbgrader": {
     "cell_type": "code",
     "checksum": "4923f64dc90d9e603cec52d9c319f1b0",
     "grade": false,
     "grade_id": "cell-a3fc05cfbc39db81",
     "locked": false,
     "schema_version": 3,
     "solution": true,
     "task": false
    }
   },
   "outputs": [],
   "source": [
    "# answer2.1.0 <- ...\n",
    "\n",
    "# your code here\n",
    "fail() # No Answer - remove if you provide an answer"
   ]
  },
  {
   "cell_type": "code",
   "execution_count": null,
   "metadata": {
    "deletable": false,
    "editable": false,
    "nbgrader": {
     "cell_type": "code",
     "checksum": "5efd446d8ca7c7a8c054ec4670527d1b",
     "grade": true,
     "grade_id": "cell-67dd7e786505470d",
     "locked": true,
     "points": 1,
     "schema_version": 3,
     "solution": false,
     "task": false
    }
   },
   "outputs": [],
   "source": [
    "test_2.1.0()"
   ]
  },
  {
   "cell_type": "markdown",
   "metadata": {
    "deletable": false,
    "editable": false,
    "nbgrader": {
     "cell_type": "markdown",
     "checksum": "3a610037b54403ca620b6f66137779df",
     "grade": false,
     "grade_id": "cell-2f57b29daf7d061b",
     "locked": true,
     "schema_version": 3,
     "solution": false,
     "task": false
    }
   },
   "source": [
    "**Question 2.1.1**\n",
    "<br> {points: 1}\n",
    "\n",
    "To begin our study, we need to take a look at the sample distribution to understand if we are dealing with a roughly Normal distribution or a super weird distribution (or anything in between). Plot the sample histogram of `body_temp`. Use `bindwith` equals 0.2.\n",
    "\n",
    "_Assign your plot to an object called `answer2.1.1`._"
   ]
  },
  {
   "cell_type": "code",
   "execution_count": null,
   "metadata": {
    "deletable": false,
    "nbgrader": {
     "cell_type": "code",
     "checksum": "e662bce6333829d2d62a010cccef0999",
     "grade": false,
     "grade_id": "cell-d60586b2c5888300",
     "locked": false,
     "schema_version": 3,
     "solution": true,
     "task": false
    }
   },
   "outputs": [],
   "source": [
    "# answer2.1.1 <-\n",
    "#    ... %>% \n",
    "#    ...\n",
    "\n",
    "# your code here\n",
    "fail() # No Answer - remove if you provide an answer\n",
    "\n",
    "answer2.1.1"
   ]
  },
  {
   "cell_type": "code",
   "execution_count": null,
   "metadata": {
    "deletable": false,
    "editable": false,
    "nbgrader": {
     "cell_type": "code",
     "checksum": "de30d454bee73a8951188abec0b8dbdb",
     "grade": true,
     "grade_id": "cell-5002856142358a5b",
     "locked": true,
     "points": 1,
     "schema_version": 3,
     "solution": false,
     "task": false
    }
   },
   "outputs": [],
   "source": [
    "test_2.1.1()"
   ]
  },
  {
   "cell_type": "markdown",
   "metadata": {
    "deletable": false,
    "editable": false,
    "nbgrader": {
     "cell_type": "markdown",
     "checksum": "8115a687d3c2388635f462ab5c6450f7",
     "grade": false,
     "grade_id": "cell-7db7f5f3693ec831",
     "locked": true,
     "schema_version": 3,
     "solution": false,
     "task": false
    }
   },
   "source": [
    "**Question 2.1.2**\n",
    "<br>{points: 1}\n",
    "\n",
    "True or false?\n",
    "\n",
    "The sample distribution of body temperature is roughly symmetrical and unimodal. It does not seem to be too far from the Normal distribution. At the very least, it indicates that it should be ok to rely on the CLT here. \n",
    "\n",
    "\n",
    "_Assign your answer to an object called `answer2.1.2`. Your answer should be either \"true\" or \"false\", surrounded by quotes._"
   ]
  },
  {
   "cell_type": "code",
   "execution_count": null,
   "metadata": {
    "deletable": false,
    "nbgrader": {
     "cell_type": "code",
     "checksum": "ccf2335e2b64882bc5e203795a837fcd",
     "grade": false,
     "grade_id": "cell-976b4dff7cfabc01",
     "locked": false,
     "schema_version": 3,
     "solution": true,
     "task": false
    }
   },
   "outputs": [],
   "source": [
    "# answer2.1.2 <- ...\n",
    "\n",
    "# your code here\n",
    "fail() # No Answer - remove if you provide an answer"
   ]
  },
  {
   "cell_type": "code",
   "execution_count": null,
   "metadata": {
    "deletable": false,
    "editable": false,
    "nbgrader": {
     "cell_type": "code",
     "checksum": "994eef4d864c6fc43e7c2806f4333ba7",
     "grade": true,
     "grade_id": "cell-551f0511b3e6ccc6",
     "locked": true,
     "points": 1,
     "schema_version": 3,
     "solution": false,
     "task": false
    }
   },
   "outputs": [],
   "source": [
    "test_2.1.2()"
   ]
  },
  {
   "cell_type": "markdown",
   "metadata": {
    "deletable": false,
    "editable": false,
    "nbgrader": {
     "cell_type": "markdown",
     "checksum": "437d974f5ade4f7cfcaf64e3978dd6b9",
     "grade": false,
     "grade_id": "cell-b7b88433d8f46dca",
     "locked": true,
     "schema_version": 3,
     "solution": false,
     "task": false
    }
   },
   "source": [
    "**Question 2.1.3** \n",
    "<br> {points: 1}\n",
    "\n",
    "Calculate the test statistic, $T$.\n",
    "\n",
    "_Assign your answer to an object called `observed_test_statistic2.1.3`. Your answer should be a single number._"
   ]
  },
  {
   "cell_type": "code",
   "execution_count": null,
   "metadata": {
    "deletable": false,
    "nbgrader": {
     "cell_type": "code",
     "checksum": "592ec6359b12eac5b803a558c273445a",
     "grade": false,
     "grade_id": "cell-cf8cd526c00c5e2f",
     "locked": false,
     "schema_version": 3,
     "solution": true,
     "task": false
    }
   },
   "outputs": [],
   "source": [
    "# observed_test_statistic2.1.3 <- \n",
    "#    (mean(body_temp$...) - ...) / ( ... / ...(nrow(...)))\n",
    "\n",
    "# your code here\n",
    "fail() # No Answer - remove if you provide an answer\n",
    "\n",
    "observed_test_statistic2.1.3"
   ]
  },
  {
   "cell_type": "code",
   "execution_count": null,
   "metadata": {
    "deletable": false,
    "editable": false,
    "nbgrader": {
     "cell_type": "code",
     "checksum": "a1de98578c0f7e39eabb348636e5d96a",
     "grade": true,
     "grade_id": "cell-1465a919270fa49d",
     "locked": true,
     "points": 1,
     "schema_version": 3,
     "solution": false,
     "task": false
    }
   },
   "outputs": [],
   "source": [
    "test_2.1.3()"
   ]
  },
  {
   "cell_type": "markdown",
   "metadata": {
    "deletable": false,
    "editable": false,
    "nbgrader": {
     "cell_type": "markdown",
     "checksum": "1b8d2ebdfc15209e24492d20fd4c6828",
     "grade": false,
     "grade_id": "cell-b2db52846c7b90f6",
     "locked": true,
     "schema_version": 3,
     "solution": false,
     "task": false
    }
   },
   "source": [
    "**Question 2.1.4**\n",
    "<br> {points: 1}\n",
    "\n",
    "Complete the scaffolding below to plot the null model, i.e., the sampling distribution of $T$ under $H_0$, the observed $T$ value and a ten percent critical region. \n",
    "\n",
    "```r\n",
    "null_model2.1.4 <-\n",
    "    tibble(t = seq(-4, 4, 0.01), density = dt(t, df = ...)) %>% \n",
    "    ggplot() + geom_line(aes(t, density)) +\n",
    "    geom_segment(aes(x = observed_test_statistic2.1.3, \n",
    "                     y = 0, \n",
    "                     xend= observed_test_statistic2.1.3,\n",
    "                     yend = dt(observed_test_statistic2.1.3, ...)),\n",
    "                 colour=\"blue\", linetype = 'dashed') + \n",
    "    geom_ribbon(. %>% filter(t > qt(0.95, ...)),\n",
    "                mapping = aes(x = t, ymax = density, ymin = 0), alpha = 0.5, fill = \"red\") + \n",
    "    geom_ribbon(. %>% filter(t < qt(0.05, ...)),\n",
    "                mapping = aes(x = t, ymax = density, ymin = 0), alpha = 0.5, fill = \"red\") +\n",
    "    theme(text = element_text(size=22)) + \n",
    "    xlab(\"...\") +\n",
    "    ggtitle(\"...\")\n",
    "    \n",
    "```\n",
    "\n",
    "_Assign your plot to an object called `null_model2.1.4`._"
   ]
  },
  {
   "cell_type": "code",
   "execution_count": null,
   "metadata": {
    "deletable": false,
    "nbgrader": {
     "cell_type": "code",
     "checksum": "53500d67dc64fcaef5ebc8316613f367",
     "grade": false,
     "grade_id": "cell-47aa9fe3cbf19d3a",
     "locked": false,
     "schema_version": 3,
     "solution": true,
     "task": false
    }
   },
   "outputs": [],
   "source": [
    "# your code here\n",
    "fail() # No Answer - remove if you provide an answer\n",
    "\n",
    "null_model2.1.4"
   ]
  },
  {
   "cell_type": "code",
   "execution_count": null,
   "metadata": {
    "deletable": false,
    "editable": false,
    "nbgrader": {
     "cell_type": "code",
     "checksum": "94982ea2f2d76745a5bf45555e85d899",
     "grade": true,
     "grade_id": "cell-d5bad26634cc80c6",
     "locked": true,
     "points": 1,
     "schema_version": 3,
     "solution": false,
     "task": false
    }
   },
   "outputs": [],
   "source": [
    "test_2.1.4()"
   ]
  },
  {
   "cell_type": "markdown",
   "metadata": {
    "deletable": false,
    "editable": false,
    "nbgrader": {
     "cell_type": "markdown",
     "checksum": "36159b74e908c43f256556e837c4f39e",
     "grade": false,
     "grade_id": "cell-02078e47ed39c199",
     "locked": true,
     "schema_version": 3,
     "solution": false,
     "task": false
    }
   },
   "source": [
    "**Question 2.1.5** \n",
    "<br> {points: 1}\n",
    "\n",
    "Using the test statistic you obtained in Question 2.1.3, calculate the p-value. \n",
    "\n",
    "_Hint: `pt()` gives the area to the left of a specified value for the t-distribution._\n",
    "\n",
    "_Assign your answer to an object called `answer2.1.5`. Your answer should be a single number._"
   ]
  },
  {
   "cell_type": "code",
   "execution_count": null,
   "metadata": {
    "deletable": false,
    "nbgrader": {
     "cell_type": "code",
     "checksum": "47acb48534a7bbde6774e4f2f71fdf9f",
     "grade": false,
     "grade_id": "cell-7d8b5464efba1d7a",
     "locked": false,
     "schema_version": 3,
     "solution": true,
     "task": false
    }
   },
   "outputs": [],
   "source": [
    "# answer2.1.5 <- 2 * pt(..., \n",
    "#                  df = nrow(...) - 1, \n",
    "#                  lower.tail = ... )\n",
    "\n",
    "# your code here\n",
    "fail() # No Answer - remove if you provide an answer\n",
    "\n",
    "answer2.1.5"
   ]
  },
  {
   "cell_type": "code",
   "execution_count": null,
   "metadata": {
    "deletable": false,
    "editable": false,
    "nbgrader": {
     "cell_type": "code",
     "checksum": "a483943a6cdbae37abddae652e749706",
     "grade": true,
     "grade_id": "cell-e289db893f5c2fe8",
     "locked": true,
     "points": 1,
     "schema_version": 3,
     "solution": false,
     "task": false
    }
   },
   "outputs": [],
   "source": [
    "test_2.1.5()"
   ]
  },
  {
   "cell_type": "markdown",
   "metadata": {
    "deletable": false,
    "editable": false,
    "nbgrader": {
     "cell_type": "markdown",
     "checksum": "160c890910f18dc8505159b34c20270d",
     "grade": false,
     "grade_id": "cell-cea4a7fb4ea5e08e",
     "locked": true,
     "schema_version": 3,
     "solution": false,
     "task": false
    }
   },
   "source": [
    "**Question 2.1.6**\n",
    "<br>{points: 1}\n",
    "\n",
    "What is your decision at 10% significance level?\n",
    "\n",
    "A. Since the p-value is higher than 0.10, we should not reject $H_0$.\n",
    "\n",
    "B. Since the p-value is higher than 0.10, we should reject $H_0$.\n",
    "\n",
    "_Assign your answer to an object called `answer2.1.6`. Your answer should be a single character surrounded by quotes._"
   ]
  },
  {
   "cell_type": "code",
   "execution_count": null,
   "metadata": {
    "deletable": false,
    "nbgrader": {
     "cell_type": "code",
     "checksum": "0cbcebc866701e200535c7047c8db574",
     "grade": false,
     "grade_id": "cell-3f47a937f310685b",
     "locked": false,
     "schema_version": 3,
     "solution": true,
     "task": false
    }
   },
   "outputs": [],
   "source": [
    "# answer2.1.6 <- ...\n",
    "\n",
    "# your code here\n",
    "fail() # No Answer - remove if you provide an answer\n",
    "\n",
    "answer2.1.6"
   ]
  },
  {
   "cell_type": "code",
   "execution_count": null,
   "metadata": {
    "deletable": false,
    "editable": false,
    "nbgrader": {
     "cell_type": "code",
     "checksum": "e08b85d9634ddc0c33299617dfd9ab1f",
     "grade": true,
     "grade_id": "cell-2162cdc57ef038fa",
     "locked": true,
     "points": 1,
     "schema_version": 3,
     "solution": false,
     "task": false
    }
   },
   "outputs": [],
   "source": [
    "test_2.1.6()"
   ]
  },
  {
   "cell_type": "markdown",
   "metadata": {
    "deletable": false,
    "editable": false,
    "nbgrader": {
     "cell_type": "markdown",
     "checksum": "723f478b7ee3cd9bc2ba010b647bb35d",
     "grade": false,
     "grade_id": "cell-ae6a8ac2051ba981",
     "locked": true,
     "schema_version": 3,
     "solution": false,
     "task": false
    }
   },
   "source": [
    "**Question 2.1.7**\n",
    "<br>{points: 1}\n",
    "\n",
    "In the previous exercises, you went through the whole process of hypothesis testing. However, luckily for us, R already has the t-test implemented: the `t.test` function. At this point, it would be good for you to start practicing with reading the documentation. So try it out! Check `?t.test` and test the hypotheses using `t.test`. Make sure to use `broom::tidy()` to get a more organized result.\n",
    "\n",
    "_Assign your answer (the output of `t.test`) to an object called `answer2.1.7`._"
   ]
  },
  {
   "cell_type": "code",
   "execution_count": null,
   "metadata": {
    "deletable": false,
    "nbgrader": {
     "cell_type": "code",
     "checksum": "b74a34e97871de6814f0c6e256b5c7b4",
     "grade": false,
     "grade_id": "cell-d81f62d9220b1b07",
     "locked": false,
     "schema_version": 3,
     "solution": true,
     "task": false
    }
   },
   "outputs": [],
   "source": [
    "# answer2.1.7 <- \n",
    "#     tidy(\n",
    "#         t.test(....)\n",
    "#     )\n",
    "\n",
    "# your code here\n",
    "fail() # No Answer - remove if you provide an answer\n",
    "\n",
    "answer2.1.7"
   ]
  },
  {
   "cell_type": "code",
   "execution_count": null,
   "metadata": {
    "deletable": false,
    "editable": false,
    "nbgrader": {
     "cell_type": "code",
     "checksum": "ad824856fe41c49544653d729075d0f9",
     "grade": true,
     "grade_id": "cell-b9545f2ca90cf8e4",
     "locked": true,
     "points": 1,
     "schema_version": 3,
     "solution": false,
     "task": false
    }
   },
   "outputs": [],
   "source": [
    "test_2.1.7()"
   ]
  },
  {
   "cell_type": "markdown",
   "metadata": {
    "deletable": false,
    "editable": false,
    "nbgrader": {
     "cell_type": "markdown",
     "checksum": "20a62d2da2736f47ab53145530676a7f",
     "grade": false,
     "grade_id": "cell-a841362361219a53",
     "locked": true,
     "schema_version": 3,
     "solution": false,
     "task": false
    }
   },
   "source": [
    "### 2.2 Testing the Proportion of One Population: `one-sample z-test`\n",
    "\n",
    "For this section, we are going to study the case where we want to test a proportion. As a matter of fact, this is just a particular case of the previous section (testing the mean); after all, the proportion is nothing else than the mean of a 0-1 random variable.\n",
    "\n",
    "The cases to be considered are: \n",
    "\n",
    "- $H_0: p = p_0$ vs $H_1: p < p_0$\n",
    "\n",
    "- $H_0: p = p_0$ vs $H_1: p > p_0$\n",
    "\n",
    "- $H_0: p = p_0$ vs $H_1: p \\neq p_0$\n",
    "\n",
    "To test $H_0$, we use the following test statistic:\n",
    "\n",
    "$$\n",
    "Z = \\frac{\\hat{p} - p_0}{\\sqrt{p_0(1-p_0)/n}}\n",
    "$$\n",
    "\n",
    "where $\\hat{p}$ is the sample proportion, $n$ is the sample size, and $p_0$ is the value of $p$ under $H_0$. Since, in this case, the population distribution is clearly not Normal (the random variable is a 0-1 variable), we need to rely on the CLT.\n",
    "\n",
    "Given that the sample size is large enough, the null model (i.e., the sampling distribution under $H_0$) of the test statistic $Z$ is approximately $N(0, 1)$. Roughly speaking, if the sample size is such that $n p_0 \\geq 10$ and $n(1-p_0)\\geq 10$, the approximation of the null-model by the standard Gaussian is fairly good."
   ]
  },
  {
   "cell_type": "markdown",
   "metadata": {
    "deletable": false,
    "editable": false,
    "nbgrader": {
     "cell_type": "markdown",
     "checksum": "e57238efa3ec12e69e7f7475e3ce87c7",
     "grade": false,
     "grade_id": "cell-ba7214dc55526850",
     "locked": true,
     "schema_version": 3,
     "solution": false,
     "task": false
    }
   },
   "source": [
    "Your turn!\n",
    "\n",
    "In this section, we will use a subset of the 1987 National Indonesia Contraceptive Prevalence Survey, available [here](https://archive.ics.uci.edu/ml/datasets/Contraceptive+Method+Choice). Let's start by reading the data. "
   ]
  },
  {
   "cell_type": "code",
   "execution_count": null,
   "metadata": {
    "deletable": false,
    "editable": false,
    "nbgrader": {
     "cell_type": "code",
     "checksum": "867609d78f1a7d941c577bac2515a30d",
     "grade": false,
     "grade_id": "cell-9d1c5309d5b6bfa8",
     "locked": true,
     "schema_version": 3,
     "solution": false,
     "task": false
    }
   },
   "outputs": [],
   "source": [
    "# Run this cell before continuing.\n",
    "\n",
    "contraceptive_survey_data <-\n",
    "    read_csv(\"https://archive.ics.uci.edu/ml/machine-learning-databases/cmc/cmc.data\", \n",
    "         col_names = FALSE) %>% \n",
    "    select(X2, X10) %>% \n",
    "    mutate(X2 = as_factor(X2), X10 = as_factor(X10)) %>% \n",
    "    rename(education_level = X2, contraceptive = X10) %>% \n",
    "    mutate(education_level = fct_recode(education_level,\n",
    "                                        \"high\" = \"4\",\n",
    "                                        \"high\" = \"3\", \n",
    "                                        \"low\" = \"2\",\n",
    "                                        \"low\" = \"1\"),\n",
    "           contraceptive = fct_recode(contraceptive,\n",
    "                                     \"No\" = \"1\",\n",
    "                                     \"Yes\" = \"2\",\n",
    "                                     \"Yes\" = \"3\"))\n",
    "\n",
    "contraceptive_survey_data %>%\n",
    "    sample_n(10) %>% \n",
    "    head()"
   ]
  },
  {
   "cell_type": "markdown",
   "metadata": {
    "deletable": false,
    "editable": false,
    "nbgrader": {
     "cell_type": "markdown",
     "checksum": "7dc779a0a5b36b805fa179a852051a3f",
     "grade": false,
     "grade_id": "cell-48a936af9446f974",
     "locked": true,
     "schema_version": 3,
     "solution": false,
     "task": false
    }
   },
   "source": [
    "**Question 2.2.1**\n",
    "<br>{points: 1}\n",
    "\n",
    "We want to check if most married Indonesian women were using a contraceptive at the time of the survey at a 15% significance level. \n",
    "\n",
    "What are the hypotheses in question?\n",
    "\n",
    "A. $H_0: p > 0.5$ vs $H_1: p=0.5$\n",
    "\n",
    "B. $H_0: p = 0.5$ vs $H_1: p < 0.5$\n",
    "\n",
    "C. $H_0: p = 0.5$ vs $H_1: p > 0.5$\n",
    "\n",
    "D. $H_0: p < 0.5$ vs $H_1: p = 0.5$\n",
    "\n",
    "_Assign your answer to an object called `answer2.2.1`. Your answer should be a single character surrounded by quotes._\n",
    "\n"
   ]
  },
  {
   "cell_type": "code",
   "execution_count": null,
   "metadata": {
    "deletable": false,
    "nbgrader": {
     "cell_type": "code",
     "checksum": "17a394b5abb1c92415f99b8d7a7de355",
     "grade": false,
     "grade_id": "cell-9048bdb032b1de2e",
     "locked": false,
     "schema_version": 3,
     "solution": true,
     "task": false
    }
   },
   "outputs": [],
   "source": [
    "# answer2.2.1 <- ...\n",
    "\n",
    "# your code here\n",
    "fail() # No Answer - remove if you provide an answer"
   ]
  },
  {
   "cell_type": "code",
   "execution_count": null,
   "metadata": {
    "deletable": false,
    "editable": false,
    "nbgrader": {
     "cell_type": "code",
     "checksum": "8238025413a6767217ca161cca69d764",
     "grade": true,
     "grade_id": "cell-221c30f9a48b92d4",
     "locked": true,
     "points": 1,
     "schema_version": 3,
     "solution": false,
     "task": false
    }
   },
   "outputs": [],
   "source": [
    "test_2.2.1()"
   ]
  },
  {
   "cell_type": "markdown",
   "metadata": {
    "deletable": false,
    "editable": false,
    "nbgrader": {
     "cell_type": "markdown",
     "checksum": "79a1302d23dfceb719c79b73a74d20cb",
     "grade": false,
     "grade_id": "cell-da20189784a23172",
     "locked": true,
     "schema_version": 3,
     "solution": false,
     "task": false
    }
   },
   "source": [
    "**Question 2.2.2** \n",
    "<br> {points: 1}\n",
    "\n",
    "Obtain the proportion of women using contraceptive methods.\n",
    "\n",
    "_Assign your answer to an object called `answer2.2.2_phat`. Your answer should be a single number._"
   ]
  },
  {
   "cell_type": "code",
   "execution_count": null,
   "metadata": {
    "deletable": false,
    "nbgrader": {
     "cell_type": "code",
     "checksum": "e51c6b439d420c3adfe30add015f2ad0",
     "grade": false,
     "grade_id": "cell-c506876d108d2dca",
     "locked": false,
     "schema_version": 3,
     "solution": true,
     "task": false
    }
   },
   "outputs": [],
   "source": [
    "# answer2.2.2 <- mean(...)\n",
    "\n",
    "# your code here\n",
    "fail() # No Answer - remove if you provide an answer\n",
    "\n",
    "answer2.2.2_phat"
   ]
  },
  {
   "cell_type": "code",
   "execution_count": null,
   "metadata": {
    "deletable": false,
    "editable": false,
    "nbgrader": {
     "cell_type": "code",
     "checksum": "0caca4f10fa8ac7fcc8e840c01b5aa1e",
     "grade": true,
     "grade_id": "cell-0a7b3b41ff9fd55a",
     "locked": true,
     "points": 1,
     "schema_version": 3,
     "solution": false,
     "task": false
    }
   },
   "outputs": [],
   "source": [
    "test_2.2.2()"
   ]
  },
  {
   "cell_type": "markdown",
   "metadata": {
    "deletable": false,
    "editable": false,
    "nbgrader": {
     "cell_type": "markdown",
     "checksum": "e77de58bc411e7b7b67c6e6c4b5fc96f",
     "grade": false,
     "grade_id": "cell-9745b4e6e6df308a",
     "locked": true,
     "schema_version": 3,
     "solution": false,
     "task": false
    }
   },
   "source": [
    "**Question 2.2.3** \n",
    "<br> {points: 1}\n",
    "\n",
    "We can see that the sample proportion is slightly higher than 0.5. But is it enough for us to confidently claim that true proportion is higher than 0.5? To answer this question, calculate the test statistic, Z. \n",
    "\n",
    "_Assign your answer to an object called `answer2.2.3_test_statistic`. Your answer should be a single number._"
   ]
  },
  {
   "cell_type": "code",
   "execution_count": null,
   "metadata": {
    "deletable": false,
    "nbgrader": {
     "cell_type": "code",
     "checksum": "108f95516174e42180e023b54b04f0aa",
     "grade": false,
     "grade_id": "cell-f02bced166e0bae5",
     "locked": false,
     "schema_version": 3,
     "solution": true,
     "task": false
    }
   },
   "outputs": [],
   "source": [
    "# answer2.2.3_test_statistic <- ...\n",
    "\n",
    "# your code here\n",
    "fail() # No Answer - remove if you provide an answer\n",
    "\n",
    "answer2.2.3_test_statistic"
   ]
  },
  {
   "cell_type": "code",
   "execution_count": null,
   "metadata": {
    "deletable": false,
    "editable": false,
    "nbgrader": {
     "cell_type": "code",
     "checksum": "59abefeeb0a7cd824e86dd08a60906b2",
     "grade": true,
     "grade_id": "cell-7bc7af50915fa1d3",
     "locked": true,
     "points": 1,
     "schema_version": 3,
     "solution": false,
     "task": false
    }
   },
   "outputs": [],
   "source": [
    "test_2.2.3()"
   ]
  },
  {
   "cell_type": "markdown",
   "metadata": {
    "deletable": false,
    "editable": false,
    "nbgrader": {
     "cell_type": "markdown",
     "checksum": "e29dfa70fe1a83580cc47a88b865f334",
     "grade": false,
     "grade_id": "cell-35fdcb78b0c8a2ed",
     "locked": true,
     "schema_version": 3,
     "solution": false,
     "task": false
    }
   },
   "source": [
    "**Question 2.2.4** \n",
    "<br> {points: 1}\n",
    "\n",
    "Calculate the p-value of the test. \n",
    "\n",
    "_Assign your answer to an object called `answer2.2.4_pvalue`. Your answer should be a single number._"
   ]
  },
  {
   "cell_type": "code",
   "execution_count": null,
   "metadata": {
    "deletable": false,
    "nbgrader": {
     "cell_type": "code",
     "checksum": "b11b020dd81d2f892ebf1297442b0a25",
     "grade": false,
     "grade_id": "cell-52d69df2c2853241",
     "locked": false,
     "schema_version": 3,
     "solution": true,
     "task": false
    }
   },
   "outputs": [],
   "source": [
    "# answer2.2.4_pvalue <- pnorm(...)\n",
    "\n",
    "# your code here\n",
    "fail() # No Answer - remove if you provide an answer\n",
    "\n",
    "answer2.2.4_pvalue"
   ]
  },
  {
   "cell_type": "code",
   "execution_count": null,
   "metadata": {
    "deletable": false,
    "editable": false,
    "nbgrader": {
     "cell_type": "code",
     "checksum": "35d464a35474659e9a255a687e95c454",
     "grade": true,
     "grade_id": "cell-59dec011b2a5b4f1",
     "locked": true,
     "points": 1,
     "schema_version": 3,
     "solution": false,
     "task": false
    }
   },
   "outputs": [],
   "source": [
    "test_2.2.4()"
   ]
  },
  {
   "cell_type": "markdown",
   "metadata": {
    "deletable": false,
    "editable": false,
    "nbgrader": {
     "cell_type": "markdown",
     "checksum": "71b62ea3363477e76394ff456ff647c4",
     "grade": false,
     "grade_id": "cell-6e5ff3ce2ca2352e",
     "locked": true,
     "schema_version": 3,
     "solution": false,
     "task": false
    }
   },
   "source": [
    "**Question 2.2.5**\n",
    "<br>{points: 1}\n",
    "\n",
    "What is your conclusion at a 15% significance level?\n",
    "\n",
    "A. We do not have enough evidence at a 15% significance level to conclude that most Indonesian women were using contraceptives in 1987. \n",
    "\n",
    "B. At a 15% significance level, we can conclude that most Indonesian women were using contraceptives in 1987.\n",
    "\n",
    "_Assign your answer to an object called `answer2.2.5`. Your answer should be a single character surrounded by quotes._"
   ]
  },
  {
   "cell_type": "code",
   "execution_count": null,
   "metadata": {
    "deletable": false,
    "nbgrader": {
     "cell_type": "code",
     "checksum": "a22c68c3d26ffe3edf1f5700535649b9",
     "grade": false,
     "grade_id": "cell-1bfce476c3f405e4",
     "locked": false,
     "schema_version": 3,
     "solution": true,
     "task": false
    }
   },
   "outputs": [],
   "source": [
    "# answer2.2.5 <- ...\n",
    "\n",
    "# your code here\n",
    "fail() # No Answer - remove if you provide an answer\n",
    "\n",
    "answer2.2.5"
   ]
  },
  {
   "cell_type": "code",
   "execution_count": null,
   "metadata": {
    "deletable": false,
    "editable": false,
    "nbgrader": {
     "cell_type": "code",
     "checksum": "b5f58095d577d53a85a0a06cbc080491",
     "grade": true,
     "grade_id": "cell-b3d8ec2ae9e18cd3",
     "locked": true,
     "points": 1,
     "schema_version": 3,
     "solution": false,
     "task": false
    }
   },
   "outputs": [],
   "source": [
    "test_2.2.5()"
   ]
  },
  {
   "cell_type": "markdown",
   "metadata": {
    "deletable": false,
    "editable": false,
    "nbgrader": {
     "cell_type": "markdown",
     "checksum": "1009085e5072b40ac07c7b76e98c1877",
     "grade": false,
     "grade_id": "cell-19fcf37888effc82",
     "locked": true,
     "schema_version": 3,
     "solution": false,
     "task": false
    }
   },
   "source": [
    "**Question 2.2.6** \n",
    "<br> {points: 1}\n",
    "\n",
    "Again, R can take care of all this work for us. The function `prop.test` will return detailed information about the hypothesis test. Use the scaffolding below to run the test with R. Make sure to use `broom::tidy()` to get a more organized result.\n",
    "\n",
    "```r\n",
    "answer2.2.6 <- \n",
    "    tidy(\n",
    "        prop.test(\n",
    "        x = # the number of successes,\n",
    "        n = # the number of trials, \n",
    "        p = # p0 (i.e., the value of p under H0),\n",
    "        alternative = # alternative hypothesis: \"less\", \"greater\", \"two.sided\"\n",
    "        conf.level = # the desired confidence level,\n",
    "        correct = FALSE))\n",
    "        \n",
    "```\n",
    "\n",
    "\n",
    "_Assign your answer to an object called `answer2.2.6`._"
   ]
  },
  {
   "cell_type": "code",
   "execution_count": null,
   "metadata": {
    "deletable": false,
    "nbgrader": {
     "cell_type": "code",
     "checksum": "2090e4377c6f4726461a508446c81eaf",
     "grade": false,
     "grade_id": "cell-d9cd53d0823a9372",
     "locked": false,
     "schema_version": 3,
     "solution": true,
     "task": false
    }
   },
   "outputs": [],
   "source": [
    "# your code here\n",
    "fail() # No Answer - remove if you provide an answer\n",
    "\n",
    "answer2.2.6"
   ]
  },
  {
   "cell_type": "code",
   "execution_count": null,
   "metadata": {
    "deletable": false,
    "editable": false,
    "nbgrader": {
     "cell_type": "code",
     "checksum": "518bb308e4ff758ba1ad00d5cf5fe321",
     "grade": true,
     "grade_id": "cell-dfaea56c58dca8ea",
     "locked": true,
     "points": 1,
     "schema_version": 3,
     "solution": false,
     "task": false
    }
   },
   "outputs": [],
   "source": [
    "test_2.2.6()"
   ]
  },
  {
   "cell_type": "markdown",
   "metadata": {
    "deletable": false,
    "editable": false,
    "nbgrader": {
     "cell_type": "markdown",
     "checksum": "3876e691ebb8b4298dff15c0621fe3c4",
     "grade": false,
     "grade_id": "cell-1e94912dc4dbd739",
     "locked": true,
     "schema_version": 3,
     "solution": false,
     "task": false
    }
   },
   "source": [
    "### 2.3 Comparing the Means of Two Independent Populations: `two-sample t-test`\n",
    "\n",
    "This section will introduce a mathematical approximation to test the difference between two **independent** populations' means.\n",
    "\n",
    "The scenarios to be considered:\n",
    "\n",
    "- $H_0: \\mu_1 - \\mu_2 = d_0$ vs $H_1: \\mu_1 - \\mu_2 \\neq d_0$\n",
    "- $H_0: \\mu_1 - \\mu_2 = d_0$ vs $H_1: \\mu_1 - \\mu_2 > d_0$\n",
    "- $H_0: \\mu_1 - \\mu_2 = d_0$ vs $H_1: \\mu_1 - \\mu_2 < d_0$\n",
    "\n",
    "To carry out this hypothesis test, we take two independent samples, one from each population. By independent samples, we mean that the individuals are selected independently in each population.\n",
    "\n",
    "Let $x_1, x_2, \\ldots, x_{n_1}$ be a random sample of size $n_1$ from population A, with mean $\\mu_1$ and standard deviation $\\sigma_1$. Let $y_1, y_2, \\ldots, y_{n_2}$ be a random sample of size $n_2$ from population B, with mean $\\mu_2$ and standard deviation $\\sigma_2$. \n",
    "\n",
    "<img src=\"imgs/two-sample-t-test.png\" width=700px/>\n",
    "\n",
    "\n",
    "Test statistic: \n",
    "$$\n",
    "T = \\frac{\\bar{x}-\\bar{y} - d_0}{\\sqrt{\\frac{s_1^2}{n_1} + \\frac{s_2^2}{n_2}} }\n",
    "$$\n",
    "\n",
    "Null model: $t$-distribution with approximately $\\nu$ degrees of freedom, where \n",
    "$$\n",
    "\\nu = \\frac{\n",
    "    \\left(\\frac{s_1^2}{n_1}+\\frac{s_2^2}{n_2}\\right)^2\n",
    "}\n",
    "{\n",
    "\\frac{s_1^4}{n_1^2(n_1-1)}+\\frac{s_2^4}{n_2^2(n_2-1)}\n",
    "}\n",
    "$$\n",
    "If both populations are normally distributed, the null model is valid for all sample sizes. However, if the populations are not normally distributed, we need to rely on the CLT, i.e., we need large sample sizes. "
   ]
  },
  {
   "cell_type": "markdown",
   "metadata": {
    "deletable": false,
    "editable": false,
    "nbgrader": {
     "cell_type": "markdown",
     "checksum": "429ff9b73ec48b09418e535caec879b3",
     "grade": false,
     "grade_id": "cell-f56d75efa6490292",
     "locked": true,
     "schema_version": 3,
     "solution": false,
     "task": false
    }
   },
   "source": [
    "Your turn!\n",
    "\n",
    "Let us try to answer the following question: do the flippers of Adelie penguins differ in length from the flippers of Chinstrap penguins? "
   ]
  },
  {
   "cell_type": "markdown",
   "metadata": {
    "deletable": false,
    "editable": false,
    "nbgrader": {
     "cell_type": "markdown",
     "checksum": "cd6d9cd4ffaed0a0012a4d6d6de3685e",
     "grade": false,
     "grade_id": "cell-813f31ee50247b75",
     "locked": true,
     "schema_version": 3,
     "solution": false,
     "task": false
    }
   },
   "source": [
    "**Question 2.3.1**\n",
    "<br> {points: 1}\n",
    "\n",
    "Boxplot is a very nice way to compare distributions. Let's start by taking a look at the boxplot of the flippers' length of both species, `Adelie` and `Chinstrap`.\n",
    "\n",
    "```r\n",
    "flipper_length_boxplots <-\n",
    "    adelie_chin %>% \n",
    "    ggplot() +\n",
    "    geom_boxplot(aes(..., ..., fill = ...)) +\n",
    "    theme(text = element_text(size = 22)) +\n",
    "    ggtitle(...) + \n",
    "    xlab(...) + \n",
    "    ylab(...) + \n",
    "    guides(fill = \"none\")\n",
    "    \n",
    "```\n",
    "\n",
    "\n",
    "_Assign your plot to an object called `flipper_length_boxplots`._"
   ]
  },
  {
   "cell_type": "code",
   "execution_count": null,
   "metadata": {
    "deletable": false,
    "nbgrader": {
     "cell_type": "code",
     "checksum": "ba22b8351d026b3d2ff7ff46c23a287b",
     "grade": false,
     "grade_id": "cell-494d0911b07bb8b5",
     "locked": false,
     "schema_version": 3,
     "solution": true,
     "task": false
    }
   },
   "outputs": [],
   "source": [
    "adelie_chin <- \n",
    "    penguins %>% \n",
    "    filter(species %in% c(\"Adelie\", \"Chinstrap\")) # Do not delete this\n",
    "\n",
    "# your code here\n",
    "fail() # No Answer - remove if you provide an answer\n",
    "\n",
    "flipper_length_boxplots"
   ]
  },
  {
   "cell_type": "code",
   "execution_count": null,
   "metadata": {
    "deletable": false,
    "editable": false,
    "nbgrader": {
     "cell_type": "code",
     "checksum": "760c682cbfb85e438f594bff41b60798",
     "grade": true,
     "grade_id": "cell-6d1f75e108c3ba61",
     "locked": true,
     "points": 1,
     "schema_version": 3,
     "solution": false,
     "task": false
    }
   },
   "outputs": [],
   "source": [
    "test_2.3.1()"
   ]
  },
  {
   "cell_type": "markdown",
   "metadata": {
    "deletable": false,
    "editable": false,
    "nbgrader": {
     "cell_type": "markdown",
     "checksum": "774bc925c06cf58e00a0a7ca9b32e96d",
     "grade": false,
     "grade_id": "cell-fad30940d81b20bc",
     "locked": true,
     "schema_version": 3,
     "solution": false,
     "task": false
    }
   },
   "source": [
    "**Question 2.3.2** \n",
    "<br> {points: 1}\n",
    "\n",
    "The boxplot indicates that the Chinstrap penguins have slightly longer flippers. But we have to always keep in mind that we only have a sample of the penguins and not all existing Adelie and Chinstrap penguins. \n",
    "\n",
    "Let us keep up our investigation. This time obtain the sample mean, sample standard deviation, and the number of penguins, for both species and store them in the columns `sample_mean`, `sample_var`, and `n`, respectively. (Hint: remember to filter out the NAs). \n",
    "\n",
    "_Assign your data frame to an object called `adelie_chin_summary`. Your data frame should have four columns: `species`, `sample_mean`, `sample_var`, and `n`._"
   ]
  },
  {
   "cell_type": "code",
   "execution_count": null,
   "metadata": {
    "deletable": false,
    "nbgrader": {
     "cell_type": "code",
     "checksum": "a1125066e25f1b17c334b8bb30378e12",
     "grade": false,
     "grade_id": "cell-d5d56c712fad5cbc",
     "locked": false,
     "schema_version": 3,
     "solution": true,
     "task": false
    }
   },
   "outputs": [],
   "source": [
    "# adelie_chin_summary <- \n",
    "#     adelie_chin %>% \n",
    "#     ...(!is.na(flipper_length_mm)) %>% \n",
    "#     group_by(species) %>% \n",
    "#     summarise(sample_mean = ..., \n",
    "#               sample_var = ..., \n",
    "#               n = ...)\n",
    "\n",
    "# your code here\n",
    "fail() # No Answer - remove if you provide an answer\n",
    "\n",
    "head(adelie_chin_summary)"
   ]
  },
  {
   "cell_type": "code",
   "execution_count": null,
   "metadata": {
    "deletable": false,
    "editable": false,
    "nbgrader": {
     "cell_type": "code",
     "checksum": "ddb1929410631c762b02f8c686b0b4f9",
     "grade": true,
     "grade_id": "cell-745a1ba8b24214a5",
     "locked": true,
     "points": 1,
     "schema_version": 3,
     "solution": false,
     "task": false
    }
   },
   "outputs": [],
   "source": [
    "test_2.3.2()"
   ]
  },
  {
   "cell_type": "markdown",
   "metadata": {
    "deletable": false,
    "editable": false,
    "nbgrader": {
     "cell_type": "markdown",
     "checksum": "60a91d02f4715f616950deb57ff4ad93",
     "grade": false,
     "grade_id": "cell-6f6edf9801ee51a1",
     "locked": true,
     "schema_version": 3,
     "solution": false,
     "task": false
    }
   },
   "source": [
    "**Question 2.3.3** \n",
    "<br> {points: 1}\n",
    "\n",
    "As expected, the Chinstrap species has a higher sample average flipper length than the Adelie species. But given the variation of flipper length for each species, how likely would it be for us to see a sample difference at least as extreme as the observed one? In other words, is the observed difference statistically significant? \n",
    "\n",
    "Remember the question we were trying to answer from the beginning: _do the flippers of Adelie penguins differ in length from the flippers of Chinstrap penguins?_\n",
    "\n",
    "To answer this question, we will test the following hypotheses:\n",
    "$$H_0: \\mu_{\\text{Chinstrap}} - \\mu_{\\text{Adelie}} = 0$$ $$H_1: \\mu_{\\text{Chinstrap}} - \\mu_{\\text{Adelie}} \\neq 0$$\n",
    "using the following test statistic:\n",
    "$$\n",
    "T = \\frac{\\bar{x}_{\\text{Chinstrap}} - \\bar{x}_{\\text{Adelie}}}{\\sqrt{\\frac{s^2_{\\text{Chinstrap}}}{n_1}+\\frac{s^2_{\\text{Adelie}}}{n_2}}}\n",
    "$$\n",
    "where $\\bar{x}_{\\text{Chinstrap}}$ and $\\bar{x}_{\\text{Adelie}}$ are the sample means of flipper length for Chinstrap and Adelie species, respectively; $s^2_{\\text{Chinstrap}}$ and $s^2_{\\text{Adelie}}$ are the sample variances for the Chinstrap and Adelie species, respectively; and $n_1$ and $n_2$ are the sample size for Chinstrap and Adelie species, respectively. \n",
    "\n",
    "Your job is to calculate this test statistic.\n",
    "\n",
    "_Assign your answer to an object called `answer2.3.3`. Your answer should be a single number._"
   ]
  },
  {
   "cell_type": "code",
   "execution_count": null,
   "metadata": {
    "deletable": false,
    "nbgrader": {
     "cell_type": "code",
     "checksum": "c5ae535783c670b64c03101dbef473c3",
     "grade": false,
     "grade_id": "cell-4f157730a23ae1f1",
     "locked": false,
     "schema_version": 3,
     "solution": true,
     "task": false
    }
   },
   "outputs": [],
   "source": [
    "# answer2.3.3 <- \n",
    "#   (...$sample_mean[2] - adelie_chin_summary$...[1]) / ...\n",
    "\n",
    "# your code here\n",
    "fail() # No Answer - remove if you provide an answer\n",
    "answer2.3.3"
   ]
  },
  {
   "cell_type": "code",
   "execution_count": null,
   "metadata": {
    "deletable": false,
    "editable": false,
    "nbgrader": {
     "cell_type": "code",
     "checksum": "ce57a9673a9c31d1f4e63ef6cf34294e",
     "grade": true,
     "grade_id": "cell-26dd57f2181f92dd",
     "locked": true,
     "points": 1,
     "schema_version": 3,
     "solution": false,
     "task": false
    }
   },
   "outputs": [],
   "source": [
    "test_2.3.3()"
   ]
  },
  {
   "cell_type": "markdown",
   "metadata": {
    "deletable": false,
    "editable": false,
    "nbgrader": {
     "cell_type": "markdown",
     "checksum": "3a15fe59f4e53916f7c73bc577418d06",
     "grade": false,
     "grade_id": "cell-34aa231d66f75dec",
     "locked": true,
     "schema_version": 3,
     "solution": false,
     "task": false
    }
   },
   "source": [
    "**Question 2.3.4** \n",
    "<br> {points: 1}\n",
    "\n",
    "Now, if $H_0$ is true, i.e., if $\\mu_{\\text{Chinstrap}} = \\mu_{\\text{Adelie}}$, the $T$ statistic from the previous exercise follows a $t$ distribution with approximately\n",
    "$$\n",
    "\\nu = \\frac{\n",
    "    \\left(\\frac{s_{Chinstrap}^2}{n_1}+\\frac{s_{Adelie}^2}{n_2}\\right)^2\n",
    "}\n",
    "{\n",
    "\\frac{s_{Chinstrap}^4}{n_1^2(n_1-1)}+\\frac{s_{Adelie}^2}{n_2^2(n_2-1)}\n",
    "}\n",
    "$$\n",
    "degrees of freedom. This is a peculiar formula, indeed. But don't worry, we presented it here for completeness only. R already knows how to calculate this (you'll see it soon).\n",
    "\n",
    "In our case: $\\nu \\approx 120$. Your job is to obtain the p-value for this hypothesis test using this approximate value of $\\nu$.\n",
    "\n",
    "_Assign your answer to an object called `answer2.3.4`. Your answer should be a single number._"
   ]
  },
  {
   "cell_type": "code",
   "execution_count": null,
   "metadata": {
    "deletable": false,
    "nbgrader": {
     "cell_type": "code",
     "checksum": "4ead5c5033d04f6ef09ad78b81a6a5f9",
     "grade": false,
     "grade_id": "cell-9dbe8f09ccf1177f",
     "locked": false,
     "schema_version": 3,
     "solution": true,
     "task": false
    }
   },
   "outputs": [],
   "source": [
    "# answer2.3.4 <- ...\n",
    "\n",
    "# your code here\n",
    "fail() # No Answer - remove if you provide an answer\n",
    "answer2.3.4"
   ]
  },
  {
   "cell_type": "code",
   "execution_count": null,
   "metadata": {
    "deletable": false,
    "editable": false,
    "nbgrader": {
     "cell_type": "code",
     "checksum": "c91f17cca4dac85f28647b127c88daaf",
     "grade": true,
     "grade_id": "cell-066ec24205699f42",
     "locked": true,
     "points": 1,
     "schema_version": 3,
     "solution": false,
     "task": false
    }
   },
   "outputs": [],
   "source": [
    "test_2.3.4()"
   ]
  },
  {
   "cell_type": "markdown",
   "metadata": {
    "deletable": false,
    "editable": false,
    "nbgrader": {
     "cell_type": "markdown",
     "checksum": "06a63afd289ff891569ea1da75d1724c",
     "grade": false,
     "grade_id": "cell-ed4ea784a970f840",
     "locked": true,
     "schema_version": 3,
     "solution": false,
     "task": false
    }
   },
   "source": [
    "**Question 2.3.5**\n",
    "<br>{points: 1}\n",
    "\n",
    "True or false?\n",
    "\n",
    "Since the `p-value` is less than 0.07, we do not reject at a 7% significance level. \n",
    "\n",
    "_Assign your answer to an object called `answer2.3.5`. Your answer should be either \"true\" or \"false\", surrounded by quotes._"
   ]
  },
  {
   "cell_type": "code",
   "execution_count": null,
   "metadata": {
    "deletable": false,
    "nbgrader": {
     "cell_type": "code",
     "checksum": "68fd02053c18fbedac281c4d46f5c038",
     "grade": false,
     "grade_id": "cell-d6e081dbe02d4d51",
     "locked": false,
     "schema_version": 3,
     "solution": true,
     "task": false
    }
   },
   "outputs": [],
   "source": [
    "# answer2.3.5 <- ...\n",
    "\n",
    "# your code here\n",
    "fail() # No Answer - remove if you provide an answer"
   ]
  },
  {
   "cell_type": "code",
   "execution_count": null,
   "metadata": {
    "deletable": false,
    "editable": false,
    "nbgrader": {
     "cell_type": "code",
     "checksum": "d4dc005f0d8847c7624d74c2267c6fac",
     "grade": true,
     "grade_id": "cell-f2140351339a537b",
     "locked": true,
     "points": 1,
     "schema_version": 3,
     "solution": false,
     "task": false
    }
   },
   "outputs": [],
   "source": [
    "test_2.3.5()"
   ]
  },
  {
   "cell_type": "markdown",
   "metadata": {
    "deletable": false,
    "editable": false,
    "nbgrader": {
     "cell_type": "markdown",
     "checksum": "dc31e6ade77a83c8a3de3081a1325b90",
     "grade": false,
     "grade_id": "cell-ff12b8050fd1f94c",
     "locked": true,
     "schema_version": 3,
     "solution": false,
     "task": false
    }
   },
   "source": [
    "**Question 2.3.6**\n",
    "<br>{points: 1}\n",
    "\n",
    "You can use the function `t.test` (yes, the same function as before!) in R to make these calculations for you. Make sure to use `broom::tidy()` to get a more organized result.\n",
    "\n",
    "```r\n",
    "answer2.3.6 <- \n",
    "    tidy(\n",
    "        t.test(x = ...,\n",
    "               y = ...,\n",
    "               alternative = ...))\n",
    "               \n",
    "```\n",
    "_Assign your answer to an object called `answer2.3.6`._"
   ]
  },
  {
   "cell_type": "code",
   "execution_count": null,
   "metadata": {
    "deletable": false,
    "nbgrader": {
     "cell_type": "code",
     "checksum": "e6b24d0984777545f08878b0cfd68208",
     "grade": false,
     "grade_id": "cell-ce729e52876e79d1",
     "locked": false,
     "schema_version": 3,
     "solution": true,
     "task": false
    }
   },
   "outputs": [],
   "source": [
    "# your code here\n",
    "fail() # No Answer - remove if you provide an answer\n",
    "\n",
    "answer2.3.6"
   ]
  },
  {
   "cell_type": "code",
   "execution_count": null,
   "metadata": {
    "deletable": false,
    "editable": false,
    "nbgrader": {
     "cell_type": "code",
     "checksum": "7854a5c6daff0d62586fbbcc9693eca7",
     "grade": true,
     "grade_id": "cell-f02c02de0ab2d53e",
     "locked": true,
     "points": 1,
     "schema_version": 3,
     "solution": false,
     "task": false
    }
   },
   "outputs": [],
   "source": [
    "test_2.3.6()"
   ]
  },
  {
   "cell_type": "markdown",
   "metadata": {
    "deletable": false,
    "editable": false,
    "nbgrader": {
     "cell_type": "markdown",
     "checksum": "9f90a0475e99c7cbb300baa070071c0b",
     "grade": false,
     "grade_id": "cell-00df6b3135132dd0",
     "locked": true,
     "schema_version": 3,
     "solution": false,
     "task": false
    }
   },
   "source": [
    "### 2.4 Comparing the Proportions of Two Independent Populations: `two-sample z-test`"
   ]
  },
  {
   "cell_type": "markdown",
   "metadata": {
    "deletable": false,
    "editable": false,
    "nbgrader": {
     "cell_type": "markdown",
     "checksum": "bf61fb01d3fd20cb3ee1c0c5a98e746b",
     "grade": false,
     "grade_id": "cell-01f1232f2b39c96c",
     "locked": true,
     "schema_version": 3,
     "solution": false,
     "task": false
    }
   },
   "source": [
    "In this section, we are going to study the case where we want to compare two proportions. Again, we are going to assume we have two independent random samples, one from each population. \n",
    "\n",
    "The case to be considered here is: \n",
    "\n",
    "- $H_0: p_1 - p_2 = 0$ vs $H_1: p_1 - p_2 \\neq 0$\n",
    "- $H_0: p_1 - p_2 = 0$ vs $H_1: p_1 - p_2 > 0$\n",
    "- $H_0: p_1 - p_2 = 0$ vs $H_1: p_1 - p_2 < 0$\n",
    "\n",
    "\n",
    "To test $H_0$, we use the following test statistic:\n",
    "\n",
    "$$\n",
    "Z = \\frac{\\hat{p}_1 - \\hat{p}_2}{\\sqrt{\\hat{p}(1-\\hat{p})\\left(\\frac{1}{n_1} + \\frac{1}{n_2}\\right)}}\n",
    "$$\n",
    "where $\\hat{p}_1$ and $\\hat{p}_2$ are the sample proportions in samples 1 and 2, respectively; $n$ is the sample size; and $\\hat{p}$ is the pooled proportion, given by: \n",
    "\n",
    "$$\\hat{p} = \\frac{n_1\\hat{p}_1+n_2\\hat{p}_2}{n_1+n_2}$$\n",
    "\n",
    "Since, in this case, the population distribution is clearly not Normal (the random variable is a 0-1 variable), we need to rely on the CLT.\n",
    "\n",
    "Given that the sample size is large enough, the null model (i.e., the sampling distribution under $H_0$) of the test statistic $Z$ is approximately $N(0, 1)$. Roughly speaking, if your sample size is such that $n \\hat{p} \\geq 10$ and $n(1-\\hat{p})\\geq 10$, the approximation of the null-model by the standard Gaussian is fairly good."
   ]
  },
  {
   "cell_type": "markdown",
   "metadata": {
    "deletable": false,
    "editable": false,
    "nbgrader": {
     "cell_type": "markdown",
     "checksum": "9480ebe94c92ad72c35abe5e5f928725",
     "grade": false,
     "grade_id": "cell-ee5f6b91a7065443",
     "locked": true,
     "schema_version": 3,
     "solution": false,
     "task": false
    }
   },
   "source": [
    "Your turn!\n",
    "\n",
    "Let us go back to the `contraceptive_survey_data`. We want to check if the proportions of Indonesian women that use contraceptives are different between women with a high education level and women with a low education level. "
   ]
  },
  {
   "cell_type": "markdown",
   "metadata": {
    "deletable": false,
    "editable": false,
    "nbgrader": {
     "cell_type": "markdown",
     "checksum": "ce5bb34b60d960a65e3a41e99768c297",
     "grade": false,
     "grade_id": "cell-288c924e6fd2a646",
     "locked": true,
     "schema_version": 3,
     "solution": false,
     "task": false
    }
   },
   "source": [
    "**Question 2.4.1** \n",
    "<br> {points: 1}\n",
    "\n",
    "Calculate the test statistic. Consider the women with a high education level as sample 1. \n",
    "\n",
    "_Assign your answer to an object called `answer2.4.1`. Your answer should be a single number._"
   ]
  },
  {
   "cell_type": "code",
   "execution_count": null,
   "metadata": {
    "deletable": false,
    "nbgrader": {
     "cell_type": "code",
     "checksum": "c6e99e7f17c2a9add51a9685d12470d1",
     "grade": false,
     "grade_id": "cell-229ec39890fc1e86",
     "locked": false,
     "schema_version": 3,
     "solution": true,
     "task": false
    }
   },
   "outputs": [],
   "source": [
    "# answer2.4.1 <- ...\n",
    "\n",
    "# your code here\n",
    "fail() # No Answer - remove if you provide an answer\n",
    "\n",
    "answer2.4.1"
   ]
  },
  {
   "cell_type": "code",
   "execution_count": null,
   "metadata": {
    "deletable": false,
    "editable": false,
    "nbgrader": {
     "cell_type": "code",
     "checksum": "506aa66fce4ed6d48de79d0487ab011a",
     "grade": true,
     "grade_id": "cell-9312af24408e21be",
     "locked": true,
     "points": 1,
     "schema_version": 3,
     "solution": false,
     "task": false
    }
   },
   "outputs": [],
   "source": [
    "test_2.4.1()"
   ]
  },
  {
   "cell_type": "markdown",
   "metadata": {
    "deletable": false,
    "editable": false,
    "nbgrader": {
     "cell_type": "markdown",
     "checksum": "0df7a55f15a2c3aab2598a62987fc284",
     "grade": false,
     "grade_id": "cell-81d138baf571041f",
     "locked": true,
     "schema_version": 3,
     "solution": false,
     "task": false
    }
   },
   "source": [
    "**Question 2.4.2** \n",
    "<br> {points: 1}\n",
    "\n",
    "Calculate the p-value.\n",
    "\n",
    "_Assign your answer to an object called `answer2.4.2`. Your answer should be a single number._"
   ]
  },
  {
   "cell_type": "code",
   "execution_count": null,
   "metadata": {
    "deletable": false,
    "nbgrader": {
     "cell_type": "code",
     "checksum": "8bd1a6a3f7f763b7e6c53f12bdceeeb8",
     "grade": false,
     "grade_id": "cell-e760bfb6b562fc00",
     "locked": false,
     "schema_version": 3,
     "solution": true,
     "task": false
    }
   },
   "outputs": [],
   "source": [
    "# answer2.4.2 <- ...\n",
    "\n",
    "# your code here\n",
    "fail() # No Answer - remove if you provide an answer\n",
    "\n",
    "answer2.4.2"
   ]
  },
  {
   "cell_type": "code",
   "execution_count": null,
   "metadata": {
    "deletable": false,
    "editable": false,
    "nbgrader": {
     "cell_type": "code",
     "checksum": "e5d3347f08d88d4fa48fb3d510f80f5b",
     "grade": true,
     "grade_id": "cell-6402149b0ab4eb56",
     "locked": true,
     "points": 1,
     "schema_version": 3,
     "solution": false,
     "task": false
    }
   },
   "outputs": [],
   "source": [
    "test_2.4.2()"
   ]
  },
  {
   "cell_type": "markdown",
   "metadata": {
    "deletable": false,
    "editable": false,
    "nbgrader": {
     "cell_type": "markdown",
     "checksum": "806e119a92f1ba8fb7912f36587aae99",
     "grade": false,
     "grade_id": "cell-14d4c79fa709f3c7",
     "locked": true,
     "schema_version": 3,
     "solution": false,
     "task": false
    }
   },
   "source": [
    "**Question 2.4.3**\n",
    "<br>{points: 1}\n",
    "\n",
    "What is your conclusion at 10% significance?\n",
    "\n",
    "A. At a 10% significance level, we reject the null hypothesis that the education level did not affect contraceptive use in Indonesian women in 1987.\n",
    "\n",
    "B. At a 10% significance level, we do not reject the null hypothesis that the education level did not affect contraceptive use in Indonesian women in 1987.\n",
    "\n",
    "_Assign your answer to an object called `answer2.4.3`. Your answer should be a single character surrounded by quotes._"
   ]
  },
  {
   "cell_type": "code",
   "execution_count": null,
   "metadata": {
    "deletable": false,
    "nbgrader": {
     "cell_type": "code",
     "checksum": "933defaf68b055274c79b4e05ceb089e",
     "grade": false,
     "grade_id": "cell-36182fc401ae859b",
     "locked": false,
     "schema_version": 3,
     "solution": true,
     "task": false
    }
   },
   "outputs": [],
   "source": [
    "# answer2.4.3 <- ...\n",
    "\n",
    "# your code here\n",
    "fail() # No Answer - remove if you provide an answer\n",
    "\n",
    "answer2.4.3"
   ]
  },
  {
   "cell_type": "code",
   "execution_count": null,
   "metadata": {
    "deletable": false,
    "editable": false,
    "nbgrader": {
     "cell_type": "code",
     "checksum": "cdac629d759231bb5120bacd600eeaff",
     "grade": true,
     "grade_id": "cell-4c7ccf738b8eb956",
     "locked": true,
     "points": 1,
     "schema_version": 3,
     "solution": false,
     "task": false
    }
   },
   "outputs": [],
   "source": [
    "test_2.4.3()"
   ]
  },
  {
   "cell_type": "markdown",
   "metadata": {
    "deletable": false,
    "editable": false,
    "nbgrader": {
     "cell_type": "markdown",
     "checksum": "f8e58cc159326cea7af1cf44d8baf51c",
     "grade": false,
     "grade_id": "cell-e8502334ab8fc933",
     "locked": true,
     "schema_version": 3,
     "solution": false,
     "task": false
    }
   },
   "source": [
    "**Question 2.4.4**\n",
    "<br>{points: 1}\n",
    "\n",
    "Let R do the work for you! \n",
    "You can use the function `prop.test` in R to make these calculations for you. Make sure to use `broom::tidy()` to get a more organized result.\n",
    "\n",
    "```r\n",
    "answer2.4.4 <- tidy(\n",
    "        prop.test(x = ..., # an array with the number of successes in each sample\n",
    "                  n = ..., # an array with the size of each sample\n",
    "                  correct = FALSE))   \n",
    "                  \n",
    "```\n",
    "_Assign your answer to an object called `answer2.4.4`._"
   ]
  },
  {
   "cell_type": "code",
   "execution_count": null,
   "metadata": {
    "deletable": false,
    "nbgrader": {
     "cell_type": "code",
     "checksum": "0631cd91a179133cd899c27fea70d3bc",
     "grade": false,
     "grade_id": "cell-b5e09ae5307a332a",
     "locked": false,
     "schema_version": 3,
     "solution": true,
     "task": false
    }
   },
   "outputs": [],
   "source": [
    "\n",
    "# your code here\n",
    "fail() # No Answer - remove if you provide an answer\n",
    "\n",
    "answer2.4.4"
   ]
  },
  {
   "cell_type": "code",
   "execution_count": null,
   "metadata": {
    "deletable": false,
    "editable": false,
    "nbgrader": {
     "cell_type": "code",
     "checksum": "167c501c2ded00b06f3b86d39a548ca4",
     "grade": true,
     "grade_id": "cell-76645a4c2b8a2732",
     "locked": true,
     "points": 1,
     "schema_version": 3,
     "solution": false,
     "task": false
    }
   },
   "outputs": [],
   "source": [
    "test_2.4.4()"
   ]
  },
  {
   "cell_type": "markdown",
   "metadata": {
    "deletable": false,
    "editable": false,
    "nbgrader": {
     "cell_type": "markdown",
     "checksum": "a53649e52604b8b722d1d955c20ba4a4",
     "grade": false,
     "grade_id": "cell-a2e9bb0aebb6ec90",
     "locked": true,
     "schema_version": 3,
     "solution": false,
     "task": false
    }
   },
   "source": [
    "### 2.5 Comparing the Means of Two Dependent Populations: `paired t-test`"
   ]
  },
  {
   "cell_type": "markdown",
   "metadata": {
    "deletable": false,
    "editable": false,
    "nbgrader": {
     "cell_type": "markdown",
     "checksum": "8dcc72319728465d1ccdf80cc662da06",
     "grade": false,
     "grade_id": "cell-0ce1f402b24b1020",
     "locked": true,
     "schema_version": 3,
     "solution": false,
     "task": false
    }
   },
   "source": [
    "The paired t-test compares two population means, like the two-sample t-test. However, the paired t-test deals with dependent samples. Consider the situation where the elements in Population A are paired with elements in Population B. In this case, if you choose an element in Population A, you automatically choose an element in Population B. In this sense, the samples from the two populations are not independent. However, the sample pairs must be chosen independently. Compare the diagram below with the one of two-sample t-test.\n",
    "\n",
    "<img src=\"imgs/paired-t-test.png\" width=700px/>\n",
    "\n",
    "For example, suppose we want to check if the training provided by a personal trainer increases endurance. To measure this effect, we ask 50 people to go over the entire training. Before the training starts, we measure how long (in seconds) each of the 50 participants can keep up running at their maximum speed. After training for one month, we measure how long the participants can keep up running at their maximum speed.\n",
    "Note how the first and second measurements are paired, and therefore are not independent. We cannot use the two-sample t-test in this case because it assumes that the samples are independent. What should we do?\n",
    "\n",
    "We start by taking the difference of measurements: $d_i = y_i - x_i$. Then, we can apply the one-sample t-test to the differences. Cool, right? But remember from the one-sample t-test: \n",
    " - if the distribution of $d$ is Normal, we should be fine with the one-sample t-test even for small sample sizes;\n",
    " - if the distribution of $d$ is far from Normal, then a larger sample size is needed before the CLT \"kicks in\" and the one-sample t-test becomes appropriate. Usually, a sample of size 30 tends to be sufficient."
   ]
  },
  {
   "cell_type": "markdown",
   "metadata": {
    "deletable": false,
    "editable": false,
    "nbgrader": {
     "cell_type": "markdown",
     "checksum": "78fd365a643efd22af19dc339b6cd4b2",
     "grade": false,
     "grade_id": "cell-6046940eb96d95b0",
     "locked": true,
     "schema_version": 3,
     "solution": false,
     "task": false
    }
   },
   "source": [
    "Your turn!\n",
    "\n",
    "Consider the two endurance measurements in the example above. Run the cell below to load the data set. "
   ]
  },
  {
   "cell_type": "code",
   "execution_count": null,
   "metadata": {
    "deletable": false,
    "editable": false,
    "nbgrader": {
     "cell_type": "code",
     "checksum": "ff7059dae0db9e4a1ae1e28dc9b69157",
     "grade": false,
     "grade_id": "cell-577d39f23b70e2f2",
     "locked": true,
     "schema_version": 3,
     "solution": false,
     "task": false
    }
   },
   "outputs": [],
   "source": [
    "# Run this cell before continuing\n",
    "training_data <- read_csv(\"training_data\")\n",
    "head(training_data)"
   ]
  },
  {
   "cell_type": "markdown",
   "metadata": {
    "deletable": false,
    "editable": false,
    "nbgrader": {
     "cell_type": "markdown",
     "checksum": "459e65ddf40c38f80b5d7ca09867b838",
     "grade": false,
     "grade_id": "cell-5214178812368b9c",
     "locked": true,
     "schema_version": 3,
     "solution": false,
     "task": false
    }
   },
   "source": [
    "Now, suppose we want to test whether the participants can keep up running at their maximum speed for a longer period after `after_training`, i.e., we want to test\n",
    "\n",
    "$$\n",
    "H_0: \\mu_{\\text{before}} = \\mu_{\\text{after}}\\\\\n",
    "H_1: \\mu_{\\text{before}} < \\mu_{\\text{after}}\n",
    "$$\n",
    "\n",
    "The next exercises will walk you through how to conduct this test. "
   ]
  },
  {
   "cell_type": "markdown",
   "metadata": {
    "deletable": false,
    "editable": false,
    "nbgrader": {
     "cell_type": "markdown",
     "checksum": "9e00c883ab2c97ac923ff2bcb2dbf7b6",
     "grade": false,
     "grade_id": "cell-5f65dab9e7dea619",
     "locked": true,
     "schema_version": 3,
     "solution": false,
     "task": false
    }
   },
   "source": [
    "**Question 2.5.1** \n",
    "<br> {points: 1}\n",
    "\n",
    "Add a column with the difference between the after training and before training measurements. Name this column `d`.\n",
    "\n",
    "_Assign your data frame to an object called `training`._"
   ]
  },
  {
   "cell_type": "code",
   "execution_count": null,
   "metadata": {
    "deletable": false,
    "nbgrader": {
     "cell_type": "code",
     "checksum": "41c568499a940bc101f0d124a7d6b4d9",
     "grade": false,
     "grade_id": "cell-da833b0dcc16ae42",
     "locked": false,
     "schema_version": 3,
     "solution": true,
     "task": false
    }
   },
   "outputs": [],
   "source": [
    "# your code here\n",
    "fail() # No Answer - remove if you provide an answer\n",
    "\n",
    "head(training)"
   ]
  },
  {
   "cell_type": "code",
   "execution_count": null,
   "metadata": {
    "deletable": false,
    "editable": false,
    "nbgrader": {
     "cell_type": "code",
     "checksum": "1751c4756b84a402c89286459a39debd",
     "grade": true,
     "grade_id": "cell-10ac6565843a02cd",
     "locked": true,
     "points": 1,
     "schema_version": 3,
     "solution": false,
     "task": false
    }
   },
   "outputs": [],
   "source": [
    "test_2.5.1()"
   ]
  },
  {
   "cell_type": "markdown",
   "metadata": {
    "deletable": false,
    "editable": false,
    "nbgrader": {
     "cell_type": "markdown",
     "checksum": "b9118e7f031fbb001c8428175ba93255",
     "grade": false,
     "grade_id": "cell-b405ed5a9f60194a",
     "locked": true,
     "schema_version": 3,
     "solution": false,
     "task": false
    }
   },
   "source": [
    "**Question 2.5.2**\n",
    "<br> {points: 1}\n",
    "\n",
    "Check the sample distribution of $d$ by plotting the histogram. Use `binwidth` equals 5.\n",
    "\n",
    "_Assign your plot to an object called `diff_histogram`._"
   ]
  },
  {
   "cell_type": "code",
   "execution_count": null,
   "metadata": {
    "deletable": false,
    "nbgrader": {
     "cell_type": "code",
     "checksum": "c973425b00736ea3ec5da6e7b1067ab1",
     "grade": false,
     "grade_id": "cell-f28a1398dedc7a7f",
     "locked": false,
     "schema_version": 3,
     "solution": true,
     "task": false
    }
   },
   "outputs": [],
   "source": [
    "# your code here\n",
    "fail() # No Answer - remove if you provide an answer\n",
    "diff_histogram"
   ]
  },
  {
   "cell_type": "code",
   "execution_count": null,
   "metadata": {
    "deletable": false,
    "editable": false,
    "nbgrader": {
     "cell_type": "code",
     "checksum": "1d1fbc5c8192efd3c0eb3c8d6096661d",
     "grade": true,
     "grade_id": "cell-5d32fb5bbbda7813",
     "locked": true,
     "points": 1,
     "schema_version": 3,
     "solution": false,
     "task": false
    }
   },
   "outputs": [],
   "source": [
    "test_2.5.2()"
   ]
  },
  {
   "cell_type": "markdown",
   "metadata": {
    "deletable": false,
    "editable": false,
    "nbgrader": {
     "cell_type": "markdown",
     "checksum": "bdc84ba0aeed3fa1841388eb2f3173e2",
     "grade": false,
     "grade_id": "cell-6ace6d1f8283cd33",
     "locked": true,
     "schema_version": 3,
     "solution": false,
     "task": false
    }
   },
   "source": [
    "**Question 2.5.3**\n",
    "<br>{points: 1}\n",
    "\n",
    "Based on the histogram from the previous question, how would you classify the population distribution of the differences?\n",
    "\n",
    "A. symmetric and unimodal;\n",
    "\n",
    "B. asymmetric and unimodal;\n",
    "\n",
    "C. symmetric and multimodal;\n",
    "\n",
    "D. asymmetric and multimodal;\n",
    "\n",
    "_Assign your answer to an object called `answer2.5.3`. Your answer should be a single character surrounded by quotes._"
   ]
  },
  {
   "cell_type": "code",
   "execution_count": null,
   "metadata": {
    "deletable": false,
    "nbgrader": {
     "cell_type": "code",
     "checksum": "aa17e9b3ccd433d35a3e2c16fb7c6b99",
     "grade": false,
     "grade_id": "cell-246caf74d7c26b69",
     "locked": false,
     "schema_version": 3,
     "solution": true,
     "task": false
    }
   },
   "outputs": [],
   "source": [
    "# answer2.5.3 <- ...\n",
    "\n",
    "# your code here\n",
    "fail() # No Answer - remove if you provide an answer\n",
    "\n",
    "answer2.5.3"
   ]
  },
  {
   "cell_type": "code",
   "execution_count": null,
   "metadata": {
    "deletable": false,
    "editable": false,
    "nbgrader": {
     "cell_type": "code",
     "checksum": "ca527a8d92080967c800c842b2f6009f",
     "grade": true,
     "grade_id": "cell-02758dce5f9e38ce",
     "locked": true,
     "points": 1,
     "schema_version": 3,
     "solution": false,
     "task": false
    }
   },
   "outputs": [],
   "source": [
    "test_2.5.3()"
   ]
  },
  {
   "cell_type": "markdown",
   "metadata": {
    "deletable": false,
    "editable": false,
    "nbgrader": {
     "cell_type": "markdown",
     "checksum": "bf2db0c3028d7bd78994ae5f84dafe0f",
     "grade": false,
     "grade_id": "cell-b8e693e0d5b95df0",
     "locked": true,
     "schema_version": 3,
     "solution": false,
     "task": false
    }
   },
   "source": [
    "You can see that the sample distribution is clearly not Normal. However, given that our sample size is fairly large, $n=50$, we should be fine using the CLT. \n",
    "\n",
    "You should always check if there are strong violations of the assumptions made by a given test. If you suspect that there is a violation, you can always perform a simulation based hypothesis test. "
   ]
  },
  {
   "cell_type": "markdown",
   "metadata": {
    "deletable": false,
    "editable": false,
    "nbgrader": {
     "cell_type": "markdown",
     "checksum": "e10df4c89359035e9ef0ff2f3c2c58c9",
     "grade": false,
     "grade_id": "cell-8641b67ae0adae58",
     "locked": true,
     "schema_version": 3,
     "solution": false,
     "task": false
    }
   },
   "source": [
    "**Question 2.5.4** \n",
    "<br> {points: 1}\n",
    "\n",
    "Calculate the test statistic, $T$.\n",
    "\n",
    "_Assign your answer to an object called `answer2.5.4`. Your answer should be a single number._"
   ]
  },
  {
   "cell_type": "code",
   "execution_count": null,
   "metadata": {
    "deletable": false,
    "nbgrader": {
     "cell_type": "code",
     "checksum": "2e7bfb3e9bc076951b78d48cca16a927",
     "grade": false,
     "grade_id": "cell-59271fe0fdc7a8e9",
     "locked": false,
     "schema_version": 3,
     "solution": true,
     "task": false
    }
   },
   "outputs": [],
   "source": [
    "# answer2.5.4 <- ...\n",
    "\n",
    "# your code here\n",
    "fail() # No Answer - remove if you provide an answer\n",
    "answer2.5.4"
   ]
  },
  {
   "cell_type": "code",
   "execution_count": null,
   "metadata": {
    "deletable": false,
    "editable": false,
    "nbgrader": {
     "cell_type": "code",
     "checksum": "ba3b5bdd577bce001600b8d519133082",
     "grade": true,
     "grade_id": "cell-a4bb3206af73a310",
     "locked": true,
     "points": 1,
     "schema_version": 3,
     "solution": false,
     "task": false
    }
   },
   "outputs": [],
   "source": [
    "test_2.5.4()"
   ]
  },
  {
   "cell_type": "markdown",
   "metadata": {
    "deletable": false,
    "editable": false,
    "nbgrader": {
     "cell_type": "markdown",
     "checksum": "3cfeefa03379a30a9cc7cf9c00826a08",
     "grade": false,
     "grade_id": "cell-d4f88d87d1bc5630",
     "locked": true,
     "schema_version": 3,
     "solution": false,
     "task": false
    }
   },
   "source": [
    "**Question 2.5.5** \n",
    "<br> {points: 1}\n",
    "\n",
    "Obtain the p-value of the test.\n",
    "\n",
    "_Assign your answer to an object called `answer2.5.5`. Your answer should be a single number._"
   ]
  },
  {
   "cell_type": "code",
   "execution_count": null,
   "metadata": {
    "deletable": false,
    "nbgrader": {
     "cell_type": "code",
     "checksum": "5c99e533042f050fdbe11d8f918dcae7",
     "grade": false,
     "grade_id": "cell-a4356aeb514c98a7",
     "locked": false,
     "schema_version": 3,
     "solution": true,
     "task": false
    }
   },
   "outputs": [],
   "source": [
    "# answer2.5.5 <- ...\n",
    "\n",
    "# your code here\n",
    "fail() # No Answer - remove if you provide an answer\n",
    "answer2.5.5"
   ]
  },
  {
   "cell_type": "code",
   "execution_count": null,
   "metadata": {
    "deletable": false,
    "editable": false,
    "nbgrader": {
     "cell_type": "code",
     "checksum": "2731185a3bfe70927248fb997e1ac210",
     "grade": true,
     "grade_id": "cell-25c18d474d808d78",
     "locked": true,
     "points": 1,
     "schema_version": 3,
     "solution": false,
     "task": false
    }
   },
   "outputs": [],
   "source": [
    "test_2.5.5()"
   ]
  },
  {
   "cell_type": "markdown",
   "metadata": {
    "deletable": false,
    "editable": false,
    "nbgrader": {
     "cell_type": "markdown",
     "checksum": "471b417b18337200f72944c5d0ae4c0d",
     "grade": false,
     "grade_id": "cell-1aefb83420a4bee0",
     "locked": true,
     "schema_version": 3,
     "solution": false,
     "task": false
    }
   },
   "source": [
    "**Question 2.5.6**\n",
    "<br>{points: 1}\n",
    "\n",
    "What is your conclusion at 1% significance?\n",
    "\n",
    "A. At a 1% significance level, we conclude that training was effective, and the participants showed a significant improvement in stamina. \n",
    "\n",
    "B. At a 1% significance level, we conclude that training was ineffective, and the participants' improved stamina was not statistically significant. \n",
    "\n",
    "_Assign your answer to an object called `answer2.5.6`. Your answer should be a single character surrounded by quotes._"
   ]
  },
  {
   "cell_type": "code",
   "execution_count": null,
   "metadata": {
    "deletable": false,
    "nbgrader": {
     "cell_type": "code",
     "checksum": "127316ed7c963099cb95f1bb941d81cc",
     "grade": false,
     "grade_id": "cell-534565b063ee0e1b",
     "locked": false,
     "schema_version": 3,
     "solution": true,
     "task": false
    }
   },
   "outputs": [],
   "source": [
    "# answer2.5.6 <- ...\n",
    "\n",
    "# your code here\n",
    "fail() # No Answer - remove if you provide an answer"
   ]
  },
  {
   "cell_type": "code",
   "execution_count": null,
   "metadata": {
    "deletable": false,
    "editable": false,
    "nbgrader": {
     "cell_type": "code",
     "checksum": "27de24d463d3f7f0fe651447a72ac6cd",
     "grade": true,
     "grade_id": "cell-85f6f14a24669440",
     "locked": true,
     "points": 1,
     "schema_version": 3,
     "solution": false,
     "task": false
    }
   },
   "outputs": [],
   "source": [
    "test_2.5.6()"
   ]
  },
  {
   "cell_type": "markdown",
   "metadata": {
    "deletable": false,
    "editable": false,
    "nbgrader": {
     "cell_type": "markdown",
     "checksum": "5fa4872aa03f4f707a57b9676da0127c",
     "grade": false,
     "grade_id": "cell-85969d30b24e3956",
     "locked": true,
     "schema_version": 3,
     "solution": false,
     "task": false
    }
   },
   "source": [
    "**Question 2.5.7**\n",
    "<br>{points: 1}\n",
    "\n",
    "Let R do the work for you. The function `t.test` that you used earlier can also calculate the `paired t.test`. Check the documentation and perform the `paired t.test` using the R's `t.test` function. Make sure to use `broom::tidy()` to get a more organized result.\n",
    " \n",
    "\n",
    "_Assign your answer (the output of `t.test`) to an object called `answer2.5.7`._"
   ]
  },
  {
   "cell_type": "code",
   "execution_count": null,
   "metadata": {
    "deletable": false,
    "nbgrader": {
     "cell_type": "code",
     "checksum": "cc2b09cf5d0665797944b7f248a4205e",
     "grade": false,
     "grade_id": "cell-a640bd2feb4c42d5",
     "locked": false,
     "schema_version": 3,
     "solution": true,
     "task": false
    }
   },
   "outputs": [],
   "source": [
    "# answer2.5.7 <- ...\n",
    "\n",
    "# your code here\n",
    "fail() # No Answer - remove if you provide an answer\n",
    "\n",
    "answer2.5.7"
   ]
  },
  {
   "cell_type": "code",
   "execution_count": null,
   "metadata": {
    "deletable": false,
    "editable": false,
    "nbgrader": {
     "cell_type": "code",
     "checksum": "18ecddff4d96ded6e84ee3c5dbc440a8",
     "grade": true,
     "grade_id": "cell-a233df1fd2085a5b",
     "locked": true,
     "points": 1,
     "schema_version": 3,
     "solution": false,
     "task": false
    }
   },
   "outputs": [],
   "source": [
    "test_2.5.7()"
   ]
  }
 ],
 "metadata": {
  "jupytext": {
   "formats": "ipynb,Rmd"
  },
  "kernelspec": {
   "display_name": "R",
   "language": "R",
   "name": "ir"
  },
  "language_info": {
   "codemirror_mode": "r",
   "file_extension": ".r",
   "mimetype": "text/x-r-source",
   "name": "R",
   "pygments_lexer": "r",
   "version": "4.3.3"
  }
 },
 "nbformat": 4,
 "nbformat_minor": 4
}
