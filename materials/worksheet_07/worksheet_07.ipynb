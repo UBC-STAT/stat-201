{
 "cells": [
  {
   "cell_type": "markdown",
   "metadata": {
    "deletable": false,
    "editable": false,
    "nbgrader": {
     "cell_type": "markdown",
     "checksum": "96a61e6a2f969713fe8d449e79ba8903",
     "grade": false,
     "grade_id": "cell-f25302677986d7e9",
     "locked": true,
     "schema_version": 3,
     "solution": false,
     "task": false
    }
   },
   "source": [
    "# Worksheet 7: Confidence Intervals Based on the Central Limit Theorem\n",
    "\n"
   ]
  },
  {
   "cell_type": "markdown",
   "metadata": {
    "deletable": false,
    "editable": false,
    "nbgrader": {
     "cell_type": "markdown",
     "checksum": "b3a5d1f529d8289981245682bccbab05",
     "grade": false,
     "grade_id": "cell-e9bf9d37265bf582",
     "locked": true,
     "schema_version": 3,
     "solution": false,
     "task": false
    }
   },
   "source": [
    "#### Lecture and Tutorial Learning Goals:\n",
    "From this section, students are expected to be able to:\n",
    "\n",
    "1. Describe the Law of Large Numbers.\n",
    "2. Describe a normal distribution.\n",
    "3. Explain the Central Limit Theorem and other general asymptotic results (such as for quantiles), and their role in constructing confidence intervals.\n",
    "4. Write a computer script to calculate confidence intervals based on the assumption of normality or the Central Limit Theorem.\n",
    "5. Discuss the potential limitations of these methods.\n",
    "6. Decide whether to use asymptotic theory or bootstrapping to compute estimator uncertainty."
   ]
  },
  {
   "cell_type": "code",
   "execution_count": null,
   "metadata": {
    "deletable": false,
    "editable": false,
    "nbgrader": {
     "cell_type": "code",
     "checksum": "6b11e1d30a3c40ea9c59b44f966ff5be",
     "grade": false,
     "grade_id": "cell-e285d20b2c0dc818",
     "locked": true,
     "schema_version": 3,
     "solution": false,
     "task": false
    }
   },
   "outputs": [],
   "source": [
    "library(tidyverse)\n",
    "library(repr)\n",
    "library(datateachr)\n",
    "library(digest)\n",
    "library(infer)\n",
    "library(gridExtra)\n",
    "library(cowplot)\n",
    "penguins <- read.csv(\"https://raw.githubusercontent.com/allisonhorst/palmerpenguins/master/inst/extdata/penguins.csv\")\n",
    "source(\"tests_worksheet_07.r\")"
   ]
  },
  {
   "cell_type": "markdown",
   "metadata": {
    "deletable": false,
    "editable": false,
    "nbgrader": {
     "cell_type": "markdown",
     "checksum": "f16115ce4ea943e2feadfabdcf21d72c",
     "grade": false,
     "grade_id": "cell-5af6102ed3b34159",
     "locked": true,
     "schema_version": 3,
     "solution": false,
     "task": false
    }
   },
   "source": [
    "## 1. Short Recap & Warm-Up\n",
    "\n",
    "Before we start exploring the new material for this week, let's remind ourselves of some of the most important points that we covered in the previous week by answering a couple of questions."
   ]
  },
  {
   "cell_type": "markdown",
   "metadata": {
    "deletable": false,
    "editable": false,
    "nbgrader": {
     "cell_type": "markdown",
     "checksum": "6e855ce22b7a3a966f850c00b34d4ba3",
     "grade": false,
     "grade_id": "cell-5353805662ccc269",
     "locked": true,
     "schema_version": 3,
     "solution": false,
     "task": false
    }
   },
   "source": [
    "**Question 1.1**\n",
    "<br>{points: 1}\n",
    "\n",
    "About hypothesis tests, which of the alternative below is correct?\n",
    "\n",
    "A. In a hypothesis test, there are two or more hypotheses that are tested against each other. \n",
    "\n",
    "B. In a hypothesis test, we reject $H_0$ when the probability that $H_0$ is true is lower than the probability that $H_1$ is true.\n",
    "\n",
    "C. In a hypothesis test, the lower the p-value is, the higher is the probability that $H_0$ is false. \n",
    "\n",
    "D. All the above alternatives are correct.\n",
    "\n",
    "E. None of the above alternatives are correct. \n",
    "\n",
    "\n",
    "_Assign your answer to an object called `answer1.1`. Your answer should be a single character surrounded by quotes._"
   ]
  },
  {
   "cell_type": "code",
   "execution_count": null,
   "metadata": {
    "deletable": false,
    "nbgrader": {
     "cell_type": "code",
     "checksum": "e6a4a0fa00c46c047982b52f36fcb7f9",
     "grade": false,
     "grade_id": "cell-f5eaab2dd8503018",
     "locked": false,
     "schema_version": 3,
     "solution": true,
     "task": false
    }
   },
   "outputs": [],
   "source": [
    "# answer1.1 <- ...\n",
    "\n",
    "# your code here\n",
    "fail() # No Answer - remove if you provide an answer"
   ]
  },
  {
   "cell_type": "code",
   "execution_count": null,
   "metadata": {
    "deletable": false,
    "editable": false,
    "nbgrader": {
     "cell_type": "code",
     "checksum": "289ce9181e5d3112ec4308e08a38f9c7",
     "grade": true,
     "grade_id": "cell-8e91e52d58d06290",
     "locked": true,
     "points": 1,
     "schema_version": 3,
     "solution": false,
     "task": false
    }
   },
   "outputs": [],
   "source": [
    "test_1.1()"
   ]
  },
  {
   "cell_type": "markdown",
   "metadata": {
    "deletable": false,
    "editable": false,
    "nbgrader": {
     "cell_type": "markdown",
     "checksum": "32837100be91c7bd3fde485aff81db6c",
     "grade": false,
     "grade_id": "cell-88680ad53dbe1033",
     "locked": true,
     "schema_version": 3,
     "solution": false,
     "task": false
    }
   },
   "source": [
    "**Question 1.2**\n",
    "<br>{points: 1}\n",
    "\n",
    "John and Marie decided to test $H_0: \\mu=0$ vs $H_1: \\mu\\neq 0$. They used the same data and obtained the same test statistic. John did not reject $H_0$, while Marie did reject $H_0$. \n",
    "\n",
    "Select all of the correct items below: \n",
    "\n",
    "A. After conducting hypothesis testing, John did not reject $H_0$. Given this decision, John is subject to Type I error.  \n",
    "\n",
    "B. After conducting hypothesis testing, John did not reject $H_0$. Given this decision, John is subject to Type II error.  \n",
    "\n",
    "C. After conducting hypothesis testing, Marie rejected $H_0$. Given this decision, Marie is subject to Type I error.\n",
    "\n",
    "D. After conducting hypothesis testing, Marie rejected $H_0$. Given this decision, Marie is subject to Type II error.\n",
    "\n",
    "E. John is using a lower significance level than Marie.\n",
    "\n",
    "F. John is using a larger significance level than Marie.\n",
    "\n",
    "G. John has a lower chance to commit the Type I error than Marie.\n",
    "\n",
    "H. John has a higher chance to commit the Type I error than Marie.\n",
    "\n",
    "I. Marie has a lower chance to commit the Type II error than John.\n",
    "\n",
    "J. Marie has a higher chance to commit the Type II error than John.\n",
    "\n",
    "K. The p-value obtained by John and Marie is very small; in fact, it is smaller than both significance levels used by John and Marie.\n",
    "\n",
    "L. The p-value obtained by John and Marie is relatively large; in fact, it is larger than both significance levels used by John and Marie.\n",
    "\n",
    "\n",
    "_Assign your answer to an object called `answer1.2`. Your answer should all selected letters above surrounded by quotes (e.g., a possible solution is `\"ABCD\"`)._"
   ]
  },
  {
   "cell_type": "code",
   "execution_count": null,
   "metadata": {
    "deletable": false,
    "nbgrader": {
     "cell_type": "code",
     "checksum": "e3db3a9e21cbe6ce63d74e4c69060ba8",
     "grade": false,
     "grade_id": "cell-6e0dc977b67746db",
     "locked": false,
     "schema_version": 3,
     "solution": true,
     "task": false
    }
   },
   "outputs": [],
   "source": [
    "# answer1.2 <- ...\n",
    "\n",
    "# your code here\n",
    "fail() # No Answer - remove if you provide an answer"
   ]
  },
  {
   "cell_type": "code",
   "execution_count": null,
   "metadata": {
    "deletable": false,
    "editable": false,
    "nbgrader": {
     "cell_type": "code",
     "checksum": "86bc8141aa6c79f5c490d5d32bf43f58",
     "grade": true,
     "grade_id": "cell-a36076c32c6f3a35",
     "locked": true,
     "points": 1,
     "schema_version": 3,
     "solution": false,
     "task": false
    }
   },
   "outputs": [],
   "source": [
    "test_1.2()"
   ]
  },
  {
   "cell_type": "markdown",
   "metadata": {
    "deletable": false,
    "editable": false,
    "nbgrader": {
     "cell_type": "markdown",
     "checksum": "05a2689c2a474fe746e8630b852fd255",
     "grade": false,
     "grade_id": "cell-7851c9b637f7df2f",
     "locked": true,
     "schema_version": 3,
     "solution": false,
     "task": false
    }
   },
   "source": [
    "**Question 1.3**\n",
    "<br>{points: 1}\n",
    "\n",
    "In Week 4, you calculated confidence interval based on a simulation method: bootstrapping. What is one use of bootstrapping? \n",
    "\n",
    "A. Since Bootstrapping resamples from our sample many times, it helps reduce the variability of our statistic, which allows us to obtain narrower confidence intervals.  \n",
    "\n",
    "B. Bootstrapping does not improve the quality of our estimate. Bootstrapping just allows us to study the sampling distribution of our statistic, which would be otherwise unknown.\n",
    "\n",
    "C. Bootstrapping allows us to estimate the center as well as the variability of the sampling distribution of our statistic.\n",
    "\n",
    "D. Bootstraping estimates the populational parameter.\n",
    "\n",
    "_Assign your answer to an object called `answer1.3`. Your answer should be a single character surrounded by quotes._"
   ]
  },
  {
   "cell_type": "code",
   "execution_count": null,
   "metadata": {
    "deletable": false,
    "nbgrader": {
     "cell_type": "code",
     "checksum": "57280b034067d0b9b1ffcc05dec66867",
     "grade": false,
     "grade_id": "cell-5bd2ecd6c9b3b46e",
     "locked": false,
     "schema_version": 3,
     "solution": true,
     "task": false
    }
   },
   "outputs": [],
   "source": [
    "# answer1.3 <- ...\n",
    "\n",
    "# your code here\n",
    "fail() # No Answer - remove if you provide an answer"
   ]
  },
  {
   "cell_type": "code",
   "execution_count": null,
   "metadata": {
    "deletable": false,
    "editable": false,
    "nbgrader": {
     "cell_type": "code",
     "checksum": "188d7202726559896450ef9ab334e922",
     "grade": true,
     "grade_id": "cell-4a12caec5d6c5346",
     "locked": true,
     "points": 1,
     "schema_version": 3,
     "solution": false,
     "task": false
    }
   },
   "outputs": [],
   "source": [
    "test_1.3()"
   ]
  },
  {
   "cell_type": "markdown",
   "metadata": {
    "deletable": false,
    "editable": false,
    "nbgrader": {
     "cell_type": "markdown",
     "checksum": "12c32f5bbe82a5339f8976715c503366",
     "grade": false,
     "grade_id": "cell-6a821d5a140ea1cf",
     "locked": true,
     "schema_version": 3,
     "solution": false,
     "task": false
    }
   },
   "source": [
    "## 2. Mathematical models and approximations\n",
    "\n",
    "As it turns out, in many situations, there are alternative ways to bootstrapping to study the sampling distributions. These methods rely on mathematical models and approximations. In this section, we are going to study two very important results in probability and a very important probability distribution.\n"
   ]
  },
  {
   "cell_type": "markdown",
   "metadata": {
    "deletable": false,
    "editable": false,
    "nbgrader": {
     "cell_type": "markdown",
     "checksum": "9a60c57c448b4457bc458baf489bb314",
     "grade": false,
     "grade_id": "cell-36e90cb3decead6d",
     "locked": true,
     "schema_version": 3,
     "solution": false,
     "task": false
    }
   },
   "source": [
    "### 2.1 Law of Large Numbers\n",
    "\n",
    "What happens with the sample average when the sample size increases? In this section, we will try to answer this question."
   ]
  },
  {
   "cell_type": "markdown",
   "metadata": {
    "deletable": false,
    "editable": false,
    "nbgrader": {
     "cell_type": "markdown",
     "checksum": "0496795fed24ddccdbc294198e5c2c89",
     "grade": false,
     "grade_id": "cell-f0e36df95cc1ef6d",
     "locked": true,
     "schema_version": 3,
     "solution": false,
     "task": false
    }
   },
   "source": [
    "**Question 2.1.1**\n",
    "<br> {points: 1}\n",
    "\n",
    "In this exercise, you will study what happens with the sample mean when the sample size increases. We will consider three populations with very different distributions, namely, `pop1`, `pop2`, and `pop3`. Their histogram are plotted by the cell below. "
   ]
  },
  {
   "cell_type": "code",
   "execution_count": null,
   "metadata": {
    "deletable": false,
    "editable": false,
    "nbgrader": {
     "cell_type": "code",
     "checksum": "55978f603077ff25fd19d4e47ce7f635",
     "grade": false,
     "grade_id": "cell-035afb3aa80a1380",
     "locked": true,
     "schema_version": 3,
     "solution": false,
     "task": false
    }
   },
   "outputs": [],
   "source": [
    "# Run this cell before continuing.\n",
    "options(repr.plot.width = 20, repr.plot.height = 8)\n",
    "\n",
    "N <- 10e5 # pop size\n",
    "pops <- \n",
    "    tibble(pop1 = rnorm(N, 5, 4),\n",
    "           pop2 = rexp(N, 1/3),\n",
    "           pop3 = rnorm(N, rbernoulli(N,0.7)*15, 3)) %>% \n",
    "    pivot_longer(cols = starts_with('pop'), names_to = 'pop')\n",
    "\n",
    "pops_plot <- \n",
    "    pops %>% \n",
    "    ggplot() + \n",
    "    geom_histogram(aes(value, fill=pop), color='white') + \n",
    "    facet_wrap(~pop, scales = \"free\") +\n",
    "    theme(text = element_text(size=25)) \n",
    "\n",
    "pops_plot"
   ]
  },
  {
   "cell_type": "markdown",
   "metadata": {
    "deletable": false,
    "editable": false,
    "nbgrader": {
     "cell_type": "markdown",
     "checksum": "8a43df19dad74f320b3a5c7d587032f2",
     "grade": false,
     "grade_id": "cell-ea0420915cd98524",
     "locked": true,
     "schema_version": 3,
     "solution": false,
     "task": false
    }
   },
   "source": [
    "To check how the sample mean changes as the sample size increases, we are going to take a sample of size 15 and calculate the sample mean, then include another random element from the population and calculate the sample mean, and so on, all the way up to a sample size of 5000. We are going to do this process five times for each of the population. The code has already been written for you in the cell below."
   ]
  },
  {
   "cell_type": "code",
   "execution_count": null,
   "metadata": {
    "deletable": false,
    "editable": false,
    "nbgrader": {
     "cell_type": "code",
     "checksum": "95f4e3246948058d9e160883c6dbc352",
     "grade": false,
     "grade_id": "cell-89e4f303b3e47159",
     "locked": true,
     "schema_version": 3,
     "solution": false,
     "task": false
    }
   },
   "outputs": [],
   "source": [
    "set.seed(7812653)\n",
    "law_large_numbers <- \n",
    "    pops %>% \n",
    "    group_by(pop)  %>% \n",
    "    group_modify(~rep_sample_n(.x, size = 5000, reps = 5)) %>%\n",
    "    group_by(pop, replicate) %>% \n",
    "    mutate(sample_size = row_number(), mean = cummean(value),replicate = as_factor(replicate)) %>% \n",
    "    filter(sample_size > 5)\n",
    "\n",
    "# Let's take a peek in a few of the rows\n",
    "law_large_numbers %>% slice_sample(n = 1)"
   ]
  },
  {
   "cell_type": "markdown",
   "metadata": {
    "deletable": false,
    "editable": false,
    "nbgrader": {
     "cell_type": "markdown",
     "checksum": "5752ba294d8a6adc3a5939a9c7da6025",
     "grade": false,
     "grade_id": "cell-9c3f390a8d9c1b60",
     "locked": true,
     "schema_version": 3,
     "solution": false,
     "task": false
    }
   },
   "source": [
    "We now have all the data that we need, but we cannot make sense of it in a data frame. Your job is to plot this data using `geom_line`, for each population and each replication, how the mean is changing as the sample size increase. The scaffolding below was written to assist you. \n",
    "```r\n",
    "law_large_numbers_plot <- \n",
    "    law_large_numbers %>% \n",
    "    ggplot() + \n",
    "    geom_line(aes(x = ..., y = ..., color = replicate), alpha=.75) +\n",
    "    xlab(...) + # What is the xlab?\n",
    "    ylab(...) + # What is the ylab?\n",
    "    geom_hline(data = tibble(pop=c(\"pop1\", 'pop2', 'pop3'), true_mean=c(5, 3, 0.7*15)),\n",
    "               aes(yintercept = true_mean)) +                \n",
    "    facet_wrap(~pop, scales=\"free\", nrow = 1) +\n",
    "    ggtitle(\"Sample mean for different sample sizes and population distribution (black line is the population mean)\") + \n",
    "    theme(text = element_text(size=20))\n",
    "```\n",
    "\n",
    "\n",
    "_Assign your plot to an object called `law_large_numbers_plot`._"
   ]
  },
  {
   "cell_type": "code",
   "execution_count": null,
   "metadata": {
    "deletable": false,
    "nbgrader": {
     "cell_type": "code",
     "checksum": "fb96632101c73ff0ed1c84276d430d73",
     "grade": false,
     "grade_id": "cell-ec680fc8f270ccc0",
     "locked": false,
     "schema_version": 3,
     "solution": true,
     "task": false
    }
   },
   "outputs": [],
   "source": [
    "set.seed(54652) # Do not change this.\n",
    "\n",
    "# your code here\n",
    "fail() # No Answer - remove if you provide an answer\n",
    "\n",
    "law_large_numbers_plot"
   ]
  },
  {
   "cell_type": "code",
   "execution_count": null,
   "metadata": {
    "deletable": false,
    "editable": false,
    "nbgrader": {
     "cell_type": "code",
     "checksum": "3f0b17c5aa9d9218d66c1f0f66a8fc37",
     "grade": true,
     "grade_id": "cell-d5fe1eb294e778be",
     "locked": true,
     "points": 1,
     "schema_version": 3,
     "solution": false,
     "task": false
    }
   },
   "outputs": [],
   "source": [
    "test_2.1.1()"
   ]
  },
  {
   "cell_type": "markdown",
   "metadata": {
    "deletable": false,
    "editable": false,
    "nbgrader": {
     "cell_type": "markdown",
     "checksum": "7f6a12b1973cc4d7fbe11a6c4214ff6b",
     "grade": false,
     "grade_id": "cell-a24a263cf963057d",
     "locked": true,
     "schema_version": 3,
     "solution": false,
     "task": false
    }
   },
   "source": [
    "**Question 2.1.2**\n",
    "<br>{points: 1}\n",
    "\n",
    "Considering the effects of increasing the sample size has on the sample mean, which of the statements below is **not** true:\n",
    "\n",
    "A. By increasing the sample size, the sampling distribution becomes narrower.\n",
    "\n",
    "B. By sufficiently increasing the sample size, it is possible to <em><u>guarantee</u></em> (with probability 1!) that the sample mean is as close as we want from the populational mean, regardless of the population distribution. \n",
    "\n",
    "C. By increasing the sample size, the centre of the sampling distribution becomes closer and closer to the true mean.\n",
    "\n",
    "D. For any given sample size, the population distribution affects how much the sample mean varies.\n",
    "\n",
    "_Assign your answer to an object called `answer2.1.2`. Your answer should be a single character surrounded by quotes._"
   ]
  },
  {
   "cell_type": "code",
   "execution_count": null,
   "metadata": {
    "deletable": false,
    "nbgrader": {
     "cell_type": "code",
     "checksum": "c503a99b1066fecd5687c207a3793017",
     "grade": false,
     "grade_id": "cell-3c42bc3a34d43f7a",
     "locked": false,
     "schema_version": 3,
     "solution": true,
     "task": false
    }
   },
   "outputs": [],
   "source": [
    "# answer2.1.2 <- ...\n",
    "\n",
    "# your code here\n",
    "fail() # No Answer - remove if you provide an answer"
   ]
  },
  {
   "cell_type": "code",
   "execution_count": null,
   "metadata": {
    "deletable": false,
    "editable": false,
    "nbgrader": {
     "cell_type": "code",
     "checksum": "7c5c4e57429091f10c9af1e1974116ad",
     "grade": true,
     "grade_id": "cell-848733e0f2a32869",
     "locked": true,
     "points": 1,
     "schema_version": 3,
     "solution": false,
     "task": false
    }
   },
   "outputs": [],
   "source": [
    "test_2.1.2()"
   ]
  },
  {
   "cell_type": "markdown",
   "metadata": {
    "deletable": false,
    "editable": false,
    "nbgrader": {
     "cell_type": "markdown",
     "checksum": "7c38386bf9d4d20175c5382de89b7801",
     "grade": false,
     "grade_id": "cell-c81e15eeb16e483d",
     "locked": true,
     "schema_version": 3,
     "solution": false,
     "task": false
    }
   },
   "source": [
    "## 2.2 Normal (also known as Gaussian) distribution\n",
    "\n",
    "By plotting the histogram of a population, we can check the population distribution. The population distribution is a key part of statistical inference, mainly because it affects the estimator's sampling distribution. So far in the course, we haven't made any assumptions about the population distribution. Instead, to study the sampling distribution, we used bootstrap. \n",
    "\n",
    "In many situations, however, it is reasonable to approximate the exact population distribution, which is unknown, by a theoretical probability distribution. You can think of it as having the formula to approximate the histogram of the population distribution. In fact, you might see people referring to probability distributions as a population.\n",
    "\n",
    "There is one probability distribution that is especially important: the Normal distribution. Besides being very common in practice (i.e., it is a good model to be applied in a broad range of problems), the Central Limit Theorem (you will study next section) makes the Normal distribution a fundamental part of Statistics.\n",
    "\n",
    "In this section, you are going to study the Normal distribution.\n"
   ]
  },
  {
   "cell_type": "markdown",
   "metadata": {
    "deletable": false,
    "editable": false,
    "nbgrader": {
     "cell_type": "markdown",
     "checksum": "61c9b07473f5f705b5cd55fb6c32a131",
     "grade": false,
     "grade_id": "cell-0ca57062cfdbf5e3",
     "locked": true,
     "schema_version": 3,
     "solution": false,
     "task": false
    }
   },
   "source": [
    "**Question 2.2.1**\n",
    "<br> {points: 1}\n",
    "\n",
    "For this exercise, we are going to use the wings' length of houseflies (made available by [Seattle Central](https://seattlecentral.edu/qelp/sets/057/s057.pdf) from [this paper](https://academic-oup-com.ezproxy.library.ubc.ca/aesa/article-abstract/48/6/499/26366?redirectedFrom=fulltext) -- we have the code to download it for you in the cell below). Naturally, this is not the population; however, let us consider this as our population for the sake of discussion. Your job is to fill in the scaffolding below to plot the population distribution. Make sure you don't change the binwidth.\n",
    "\n",
    "```r\n",
    "pop_dist_flies <- \n",
    "    houseflies %>% \n",
    "    ...() + \n",
    "    ...(aes(x = ..., y = ..density..), color = 'white', binwidth = 0.198)+\n",
    "    theme(text = element_text(size=25)) +\n",
    "    xlab(...) +\n",
    "    ylab(...) + \n",
    "    ggtitle(...)\n",
    "```\n",
    "\n",
    "_Assign your plot to an object called `pop_dist_flies`._"
   ]
  },
  {
   "cell_type": "code",
   "execution_count": null,
   "metadata": {
    "deletable": false,
    "editable": false,
    "nbgrader": {
     "cell_type": "code",
     "checksum": "a0899ba2d45479b601642ed2efac3ecc",
     "grade": false,
     "grade_id": "cell-25bba1571e6909c7",
     "locked": true,
     "schema_version": 3,
     "solution": false,
     "task": false
    }
   },
   "outputs": [],
   "source": [
    "# Run this cell before continuing.\n",
    "houseflies <- \n",
    "    read_table(\"https://seattlecentral.edu/qelp/sets/057/s057.txt\", col_names = 'wings_length') %>% \n",
    "    mutate(wings_length = wings_length/10)\n",
    "\n",
    "pop_mu = 4.55  # Ignore this for now.\n",
    "pop_sd = 0.391964747951093 # Ignore this for now."
   ]
  },
  {
   "cell_type": "code",
   "execution_count": null,
   "metadata": {
    "deletable": false,
    "nbgrader": {
     "cell_type": "code",
     "checksum": "132c477427f3b8af011ff1fd92cd18e1",
     "grade": false,
     "grade_id": "cell-faf6d109f0c7530e",
     "locked": false,
     "schema_version": 3,
     "solution": true,
     "task": false
    }
   },
   "outputs": [],
   "source": [
    "# your code here\n",
    "fail() # No Answer - remove if you provide an answer\n",
    "\n",
    "pop_dist_flies"
   ]
  },
  {
   "cell_type": "code",
   "execution_count": null,
   "metadata": {
    "deletable": false,
    "editable": false,
    "nbgrader": {
     "cell_type": "code",
     "checksum": "75b009fcaf7b255e87475ddf840bff99",
     "grade": true,
     "grade_id": "cell-a6716b58caa6fbb7",
     "locked": true,
     "points": 1,
     "schema_version": 3,
     "solution": false,
     "task": false
    }
   },
   "outputs": [],
   "source": [
    "test_2.2.1()"
   ]
  },
  {
   "cell_type": "markdown",
   "metadata": {
    "deletable": false,
    "editable": false,
    "nbgrader": {
     "cell_type": "markdown",
     "checksum": "7223bda17f8af9a67f6ffec4f898ea8e",
     "grade": false,
     "grade_id": "cell-edda07aa4aba1779",
     "locked": true,
     "schema_version": 3,
     "solution": false,
     "task": false
    }
   },
   "source": [
    "**Question 2.2.2**\n",
    "<br> {points: 1}\n",
    "\n",
    "In this exercise, you will check the shape of the Normal distribution and compare it with the histogram of the population distribution. In the cell below, we prepared a `tibble` for you with the values of the Normal density (i.e., the formula that will approximate the population distribution). Your job is to fill in the scaffolding below to add the  Normal density to the population histogram you obtained in the previous exercise.\n",
    "\n",
    "```r\n",
    "pop_dist_normal <- \n",
    "    pop_dist_flies + \n",
    "    geom_line(data = ..., aes(..., ...), color=\"red\", lwd = 2)\n",
    "\n",
    "```\n",
    "\n",
    "What do you think? Is the Normal distribution a good approximation for the population distribution?\n",
    "\n",
    "_Assign your plot to an object called `pop_dist_normal`._"
   ]
  },
  {
   "cell_type": "code",
   "execution_count": null,
   "metadata": {
    "deletable": false,
    "editable": false,
    "nbgrader": {
     "cell_type": "code",
     "checksum": "8705442f478e203573326b9d469cd30d",
     "grade": false,
     "grade_id": "cell-f74729124cb0c797",
     "locked": true,
     "schema_version": 3,
     "solution": false,
     "task": false
    }
   },
   "outputs": [],
   "source": [
    "# Run this cell before continuing\n",
    "data_normal <- tibble(wings_length=seq(min(houseflies$wings_length), \n",
    "                                             max(houseflies$wings_length),0.01), density = dnorm(wings_length, pop_mu, pop_sd))\n",
    "head(data_normal)"
   ]
  },
  {
   "cell_type": "code",
   "execution_count": null,
   "metadata": {
    "deletable": false,
    "nbgrader": {
     "cell_type": "code",
     "checksum": "7bfa2b5f0608cc130a097296f5242d9f",
     "grade": false,
     "grade_id": "cell-c649964ee96a698d",
     "locked": false,
     "schema_version": 3,
     "solution": true,
     "task": false
    }
   },
   "outputs": [],
   "source": [
    "# your code here\n",
    "fail() # No Answer - remove if you provide an answer\n",
    "\n",
    "pop_dist_normal"
   ]
  },
  {
   "cell_type": "code",
   "execution_count": null,
   "metadata": {
    "deletable": false,
    "editable": false,
    "nbgrader": {
     "cell_type": "code",
     "checksum": "8b227c5f5f286cf0876e80c328969c4b",
     "grade": true,
     "grade_id": "cell-f4f517593800f9c2",
     "locked": true,
     "points": 1,
     "schema_version": 3,
     "solution": false,
     "task": false
    }
   },
   "outputs": [],
   "source": [
    "test_2.2.2()"
   ]
  },
  {
   "cell_type": "markdown",
   "metadata": {
    "deletable": false,
    "editable": false,
    "nbgrader": {
     "cell_type": "markdown",
     "checksum": "39f2ff0efe451a88ed3dc640cb406ca8",
     "grade": false,
     "grade_id": "cell-431f2a7f161d4a64",
     "locked": true,
     "schema_version": 3,
     "solution": false,
     "task": false
    }
   },
   "source": [
    "**Question 2.2.3**\n",
    "<br>{points: 1}\n",
    "\n",
    "The Normal distribution family is indexed by two parameters $\\mu$ (read *mu*) and $\\sigma$ (read *sigma*). In this exercise, your job is to investigate how changing $\\mu$, and $\\sigma$ affects the Normal density. To help you investigate the role of the parameters, we prepared a function that will return the `data_normal` tibble with the parameters you specified. Then, you can plot the new curve. The scaffolding below will also include the Normal curve with parameter *mu* = 0 and *sigma* = 1, which is called the Standard Normal curve. Try different values for $mu$ and $sigma$ (note: $\\sigma$ must be a positive number, but $\\mu$ can be anything). \n",
    "\n",
    "After you investigate the role of the parameters, select the statements below that are true (select all that apply): \n",
    "\n",
    "A. The parameter $\\mu$ controls how wide the curve is, while the parameter $\\sigma$ controls its location.\n",
    "\n",
    "B. The parameter $\\mu$ controls the location of the curve, while the parameter $\\sigma$ controls its spread.\n",
    "\n",
    "C. As $\\mu$ increases, the Normal curve becomes narrower. \n",
    "\n",
    "D. As $\\sigma$ increases, the Normal curve becomes wider. \n",
    "\n",
    "_Assign your answer to an object called `answer2.2.3`. Your answer should all selected letters above surrounded by quotes (e.g., a possible solution is `\"ABCD\"`)._"
   ]
  },
  {
   "cell_type": "code",
   "execution_count": null,
   "metadata": {
    "deletable": false,
    "editable": false,
    "nbgrader": {
     "cell_type": "code",
     "checksum": "58e7f6a67374c7e93dc660c5879f670d",
     "grade": false,
     "grade_id": "cell-9f4d01f957bb90f0",
     "locked": true,
     "schema_version": 3,
     "solution": false,
     "task": false
    }
   },
   "outputs": [],
   "source": [
    "# Run this before continuing\n",
    "\n",
    "#' Generate the data_normal tibble for a given mu and sigma of your choice\n",
    "#'\n",
    "#' @param mu The desired mu value you want (it can be anything).\n",
    "#' @param sigma The desired sigma value you want (it must be higher than 0)\n",
    "#' @return Returns the data_normal tibble with two columns: wings_length and density.\n",
    "create_data_normal <- function(mu, sigma){\n",
    "    return(tibble(x = seq(mu - 4 * sigma, mu + 4 * sigma, 0.01), \n",
    "                  density = dnorm(x, mu, sigma)))\n",
    "}"
   ]
  },
  {
   "cell_type": "code",
   "execution_count": null,
   "metadata": {},
   "outputs": [],
   "source": [
    "# Use this cell for your experiments (uncomment the lines below)\n",
    "\n",
    "#    ggplot() + \n",
    "#    geom_line(data = create_data_normal(mu = 0, sigma = 1), aes(x, density), color = \"black\", lwd = 2) + \n",
    "#    geom_line(data = create_data_normal(mu = ..., sigma = ...), aes(x, density), color = \"red\", lwd = 2) + \n"
   ]
  },
  {
   "cell_type": "code",
   "execution_count": null,
   "metadata": {
    "deletable": false,
    "nbgrader": {
     "cell_type": "code",
     "checksum": "1217e077214a8949d29ad28977d6610a",
     "grade": false,
     "grade_id": "cell-545f94b657a2964a",
     "locked": false,
     "schema_version": 3,
     "solution": true,
     "task": false
    }
   },
   "outputs": [],
   "source": [
    "# Your solution here:\n",
    "# answer2.2.3 <- ...\n",
    "\n",
    "# your code here\n",
    "fail() # No Answer - remove if you provide an answer"
   ]
  },
  {
   "cell_type": "code",
   "execution_count": null,
   "metadata": {
    "deletable": false,
    "editable": false,
    "nbgrader": {
     "cell_type": "code",
     "checksum": "e71c6ade4a49a3cb8cc891bbfedce0ee",
     "grade": true,
     "grade_id": "cell-f1bd84df4a2af0ba",
     "locked": true,
     "points": 1,
     "schema_version": 3,
     "solution": false,
     "task": false
    }
   },
   "outputs": [],
   "source": [
    "test_2.2.3()"
   ]
  },
  {
   "cell_type": "markdown",
   "metadata": {
    "deletable": false,
    "editable": false,
    "nbgrader": {
     "cell_type": "markdown",
     "checksum": "19e1f37e72c028a3cd1ea120229477ef",
     "grade": false,
     "grade_id": "cell-a37c0264a89c9f22",
     "locked": true,
     "schema_version": 3,
     "solution": false,
     "task": false
    }
   },
   "source": [
    "**Question 2.2.4** \n",
    "<br> {points: 1}\n",
    "\n",
    "The Normal distribution has an interesting property: regardless of the values of $\\mu$ and $\\sigma$, we have that:\n",
    "\n",
    "- Approximately 68% of the observations are between $[\\mu -\\sigma; \\mu+\\sigma]$.\n",
    "- Approximately 95.5% of the observations are between $[\\mu -2\\sigma; \\mu+2\\sigma]$.\n",
    "- Approximately 99.7% of the observations are between $[\\mu -3\\sigma; \\mu+3\\sigma]$.\n",
    "\n",
    "The cell below illustrate that for you.\n",
    "Again, these are valid for any value of $\\mu$ and $\\sigma$. \n",
    "\n",
    "In this exercise, you will calculate the proportion of houseflies that have wings between:\n",
    "\n",
    "- A. $[4.55 - 0.392; 4.55 + 0.392]$\n",
    "- B. $[4.55 - 2\\times0.392; 4.55 + 2\\times0.392]$\n",
    "- C. $[4.55 - 3\\times0.392; 4.55 + 3\\times0.392]$\n",
    "\n",
    "\n",
    "What do you think? Are these values similar to the theoretical values?\n",
    "\n",
    "_Assign your answers to objects called `answer2.2.4_partA`, `answer2.2.4_partB`, and `answer2.2.4_partC`. Your answer should be a single number._"
   ]
  },
  {
   "cell_type": "code",
   "execution_count": null,
   "metadata": {
    "deletable": false,
    "editable": false,
    "nbgrader": {
     "cell_type": "code",
     "checksum": "cc4b71d8dcdbee2befecb63e604cf038",
     "grade": false,
     "grade_id": "cell-880739d62c8d68b8",
     "locked": true,
     "schema_version": 3,
     "solution": false,
     "task": false
    }
   },
   "outputs": [],
   "source": [
    "# Run this cell to see the plots\n",
    "\n",
    "data_normal <- tibble(x = seq(-4, 4, 0.01), density = dnorm(x, 0, 1)) \n",
    "plots_normal <- list()\n",
    "pecentages <- c(\"68%\", \"95.5%\", \"99.7%\")\n",
    "for (i in 1:3){\n",
    "plots_normal[[i]] <- \n",
    "    data_normal %>% \n",
    "    ggplot() + \n",
    "    geom_line(aes(x, density), lwd=2) + \n",
    "    geom_ribbon(data=subset(data_normal, x>-i & x<i), \n",
    "                aes(x = x, ymax = density), ymin = 0, alpha = 0.3, fill = \"blue\") + \n",
    "    annotate(\"text\", x = 0, 0.18, label = pecentages[i], size = 15) +\n",
    "    scale_x_continuous(breaks = c(-3, -2, -1, 0, 1, 2, 3), labels = c(expression(paste(mu, \" - 3\", sigma)), expression(paste(mu, \" - 2\", sigma)), expression(paste(mu, \" - 1\", sigma)),\n",
    "                                                                      expression(mu),\n",
    "                                                                      expression(paste(mu, \" + 1\", sigma)), expression(paste(mu, \" + 2\", sigma)), expression(paste(mu, \" + 3\", sigma)))) +\n",
    "    theme(text = element_text(size=25))\n",
    "}\n",
    "do.call(\"grid.arrange\", c(plots_normal, ncol=1))"
   ]
  },
  {
   "cell_type": "code",
   "execution_count": null,
   "metadata": {
    "deletable": false,
    "nbgrader": {
     "cell_type": "code",
     "checksum": "ff931339351939b361d097de42920dfa",
     "grade": false,
     "grade_id": "cell-7dd21ec3041464b4",
     "locked": false,
     "schema_version": 3,
     "solution": true,
     "task": false
    }
   },
   "outputs": [],
   "source": [
    "# (answer2.2.4_partA <- ... )\n",
    "# (answer2.2.4_partB <- ... )\n",
    "# (answer2.2.4_partC <- ... )\n",
    "\n",
    "# your code here\n",
    "fail() # No Answer - remove if you provide an answer"
   ]
  },
  {
   "cell_type": "code",
   "execution_count": null,
   "metadata": {
    "deletable": false,
    "editable": false,
    "nbgrader": {
     "cell_type": "code",
     "checksum": "bbb7800fe1db727aa4e8bbad9ed4f990",
     "grade": true,
     "grade_id": "cell-40a36a7faa6f08e2",
     "locked": true,
     "points": 1,
     "schema_version": 3,
     "solution": false,
     "task": false
    }
   },
   "outputs": [],
   "source": [
    "test_2.2.4()"
   ]
  },
  {
   "cell_type": "markdown",
   "metadata": {
    "deletable": false,
    "editable": false,
    "nbgrader": {
     "cell_type": "markdown",
     "checksum": "76e444512241391f82749e28e8dbe2b4",
     "grade": false,
     "grade_id": "cell-61a1f0b2ffb30a62",
     "locked": true,
     "schema_version": 3,
     "solution": false,
     "task": false
    }
   },
   "source": [
    "**Question 2.2.5** \n",
    "<br> {points: 1}\n",
    "\n",
    "Knowing that the population approximately follows a Normal distribution allows us to find the formula for the sampling distribution of the sample mean. For example, for samples of size $16$ houseflies, we claim that the sampling distribution of the sample mean will follow a Normal distribution with parameters $\\mu=4.55$ and $\\sigma = \\frac{0.392}{4}.$ In this and the next  exercise, you are going to verify if this is (approximately) accurate. \n",
    "\n",
    "For this exercise, take 10000 samples of size 16, with replacement, from the `houseflies` data set.\n",
    "\n",
    "_Assign your data frame to an object called `samples_houseflies`. This data frame should have two columns: `replicate` and `wings_length`._\n"
   ]
  },
  {
   "cell_type": "code",
   "execution_count": null,
   "metadata": {
    "deletable": false,
    "nbgrader": {
     "cell_type": "code",
     "checksum": "e2b0455ad7880a0f597b1f5b8034be8b",
     "grade": false,
     "grade_id": "cell-70d8758d4a65e077",
     "locked": false,
     "schema_version": 3,
     "solution": true,
     "task": false
    }
   },
   "outputs": [],
   "source": [
    "set.seed(1)\n",
    "\n",
    "# your code here\n",
    "fail() # No Answer - remove if you provide an answer\n",
    "\n",
    "head(samples_houseflies)"
   ]
  },
  {
   "cell_type": "code",
   "execution_count": null,
   "metadata": {
    "deletable": false,
    "editable": false,
    "nbgrader": {
     "cell_type": "code",
     "checksum": "6b848e91a0af7f364f0f20d22b788c84",
     "grade": true,
     "grade_id": "cell-4187fd505b0eab90",
     "locked": true,
     "points": 1,
     "schema_version": 3,
     "solution": false,
     "task": false
    }
   },
   "outputs": [],
   "source": [
    "test_2.2.5()"
   ]
  },
  {
   "cell_type": "markdown",
   "metadata": {
    "deletable": false,
    "editable": false,
    "nbgrader": {
     "cell_type": "markdown",
     "checksum": "dc1b8e28c1cf9971b7902c40a8d55f83",
     "grade": false,
     "grade_id": "cell-ced4368f9c784908",
     "locked": true,
     "schema_version": 3,
     "solution": false,
     "task": false
    }
   },
   "source": [
    "**Question 2.2.6**\n",
    "<br> {points: 1}\n",
    "\n",
    "For each of the samples, you obtained in the previous exercise, calculate the sample mean. Then, plot the histogram of all sample means you obtained and the line for the Normal density. You can use the scaffolding below. \n",
    "\n",
    "\n",
    "```r\n",
    "sampling_dist_mean_houseflies <-\n",
    "    samples_houseflies %>% \n",
    "    group_by(...) %>% \n",
    "    summarise(sample_mean = ...) %>% \n",
    "    ggplot() + \n",
    "    geom_histogram(aes(..., y = ..density..), color='white', binwidth=.05) + \n",
    "    theme(text = element_text(size=25)) +\n",
    "    xlab(...) + \n",
    "    geom_line(data = tibble(sample_mean = seq(3.5, 5.8, 0.01), \n",
    "              density = dnorm(sample_mean, mean = ..., ...)), \n",
    "              aes(..., ...), color = \"red\", lwd = 2)\n",
    "```\n",
    "\n",
    "Take a look at the plot and think about if you would consider this a good approximation. Also, keep in mind that we got the approximation without any simulation, just using the fact that the population was approximately Normally distributed. \n",
    "\n",
    "_Assign your plot to an object called `sampling_dist_mean_houseflies`._"
   ]
  },
  {
   "cell_type": "code",
   "execution_count": null,
   "metadata": {
    "deletable": false,
    "nbgrader": {
     "cell_type": "code",
     "checksum": "0b78501e923675f380d1172dc46c82c5",
     "grade": false,
     "grade_id": "cell-fc87ed09ff8189f7",
     "locked": false,
     "schema_version": 3,
     "solution": true,
     "task": false
    }
   },
   "outputs": [],
   "source": [
    "# your code here\n",
    "fail() # No Answer - remove if you provide an answer\n",
    "\n",
    "sampling_dist_mean_houseflies"
   ]
  },
  {
   "cell_type": "code",
   "execution_count": null,
   "metadata": {
    "deletable": false,
    "editable": false,
    "nbgrader": {
     "cell_type": "code",
     "checksum": "5f6f9feeb60d2071842e35de8d6e692c",
     "grade": true,
     "grade_id": "cell-5167819fb2a3ed68",
     "locked": true,
     "points": 1,
     "schema_version": 3,
     "solution": false,
     "task": false
    }
   },
   "outputs": [],
   "source": [
    "test_2.2.6()"
   ]
  },
  {
   "cell_type": "markdown",
   "metadata": {
    "deletable": false,
    "editable": false,
    "nbgrader": {
     "cell_type": "markdown",
     "checksum": "fbe4ecc298632a55be15f925d81ea8bb",
     "grade": false,
     "grade_id": "cell-884f6d530d5122a0",
     "locked": true,
     "schema_version": 3,
     "solution": false,
     "task": false
    }
   },
   "source": [
    "## 2.3 Central Limit Theorem (CLT)\n",
    "\n",
    "In many cases, the Normal distribution will not be a good approximation for the population distribution. So why are we studying the Normal distribution specifically? Because, luckily for us, there is a very strong result in probability, called the Central Limit Theorem, that allows us to approximate the sampling distribution of many estimators by a Normal distribution, even when the population distribution is not Normal. \n",
    "\n",
    "<img src=\"https://media.tenor.com/images/99cff34bdcb675975b2b0cc661f2e4ce/tenor.gif\"> \n",
    "\n",
    "\n",
    "The Central Limit Theorem roughly states that if you are summing up a very large number of random terms, the distribution of this sum is approximately Normal. For example, when you calculate the sample mean, you are summing the elements of your sample; therefore, if your sample size is large, then the sampling distribution of the sample will be approximately Normal, *regardless of the population distribution*. \n",
    "\n",
    "Let us see the Central Limit Theorem in action. In the following exercises, we will study the sampling distribution of the sample mean, using different sample sizes from a peculiar population distribution, which is definitely not Gaussian. The cell below creates said population, stores it in an object named `weird_pop`, and plots its histogram (you do not need to worry about the code in the cell, you just need to run the cell).\n"
   ]
  },
  {
   "cell_type": "code",
   "execution_count": null,
   "metadata": {
    "deletable": false,
    "editable": false,
    "nbgrader": {
     "cell_type": "code",
     "checksum": "5fed27a266fd497ffc5c1083cbbe087c",
     "grade": false,
     "grade_id": "cell-ac717af5b8987ca1",
     "locked": true,
     "schema_version": 3,
     "solution": false,
     "task": false
    }
   },
   "outputs": [],
   "source": [
    "# Run this cell before continuing\n",
    "\n",
    "set.seed(1)\n",
    "N <- 10e5 # Pop size\n",
    "w <- rbernoulli(N, 0.2) # Mixture weights\n",
    "\n",
    "# Creates the pop\n",
    "weird_pop <- \n",
    "    tibble(value = w*rnorm(N, rbernoulli(N,0.7)*15+5, 3) + (1-w)*rexp(N, 1) )\n",
    "\n",
    "# Creates the histogram of the weird_pop\n",
    "weird_pop_plot <-\n",
    "    weird_pop %>% \n",
    "    ggplot() + \n",
    "    geom_histogram(aes(x=value, y = ..density..), bins=70, color = \"white\") +\n",
    "    theme(text = element_text(size=25)) +\n",
    "    ggtitle(\"Weird population distribution - definitely not Gaussian\")\n",
    "\n",
    "# Obtain the density for different values of n.\n",
    "mu <- mean(weird_pop$value)\n",
    "sigma <- sd(weird_pop$value)\n",
    "me <- 4*sigma\n",
    "\n",
    "gaussian_densities <- \n",
    "    tibble(sample_size = c(10, 30, 500), \n",
    "           grid = map(.x = sample_size, \n",
    "                      .f = ~tibble(value = seq(mu-me/sqrt(.x), mu+me/sqrt(.x), 0.01), \n",
    "                                   density = dnorm(value, mu, sigma/sqrt(.x))))) %>% \n",
    "    unnest(grid)\n",
    "\n",
    "# Plot the population distribution\n",
    "weird_pop_plot"
   ]
  },
  {
   "cell_type": "markdown",
   "metadata": {
    "deletable": false,
    "editable": false,
    "nbgrader": {
     "cell_type": "markdown",
     "checksum": "dd92081d5aa1862c9901af900ab4cb91",
     "grade": false,
     "grade_id": "cell-49956123d3cbe3eb",
     "locked": true,
     "schema_version": 3,
     "solution": false,
     "task": false
    }
   },
   "source": [
    "**Question 2.3.1** \n",
    "<br> {points: 1}\n",
    "\n",
    "For this exercise, your job is to take multiple samples, say 3000, of size 10. The samples should be taken without replacement.\n",
    "\n",
    "_Assign your data frame to an object called `samples_size10`. The data frame should have two columns: `replicate` and `value`_"
   ]
  },
  {
   "cell_type": "code",
   "execution_count": null,
   "metadata": {
    "deletable": false,
    "nbgrader": {
     "cell_type": "code",
     "checksum": "ab0e184618f95ac94205af7ffbcaf5c4",
     "grade": false,
     "grade_id": "cell-eb22f151f85ef1a5",
     "locked": false,
     "schema_version": 3,
     "solution": true,
     "task": false
    }
   },
   "outputs": [],
   "source": [
    "set.seed(1) # do not change this\n",
    "\n",
    "# your code here\n",
    "fail() # No Answer - remove if you provide an answer\n",
    "\n",
    "head(samples_size10)"
   ]
  },
  {
   "cell_type": "code",
   "execution_count": null,
   "metadata": {
    "deletable": false,
    "editable": false,
    "nbgrader": {
     "cell_type": "code",
     "checksum": "d46cf3dd288d675684668cb1040266ce",
     "grade": true,
     "grade_id": "cell-f8e223339c8abc89",
     "locked": true,
     "points": 1,
     "schema_version": 3,
     "solution": false,
     "task": false
    }
   },
   "outputs": [],
   "source": [
    "test_2.3.1()"
   ]
  },
  {
   "cell_type": "markdown",
   "metadata": {},
   "source": [
    "**Question 2.3.2**\n",
    "<br> {points: 1}\n",
    "\n",
    "Fill in the scaffolding below to plot the sampling distribution of the sample mean versus the sampling distribution given by the CLT. Check how good the approximation is. \n",
    "\n",
    "```r\n",
    "sampling_dist_size10 <-\n",
    "    samples_size10 %>% \n",
    "    group_by(...) %>% \n",
    "    summarise(sample_mean = ..., `.groups` = \"drop\") %>% \n",
    "    ggplot() + \n",
    "    geom_histogram(aes(x = ..., y = ..density..), color=\"white\") +\n",
    "    theme(text = element_text(size = 25))+\n",
    "    xlab(...) +\n",
    "    ggtitle(\"Sampling distribution of the sample mean for samples of size 10 from Weird Population.\") + \n",
    "    geom_line(data = gaussian_densities %>% filter(sample_size == 10), aes(value, density), color = \"red\", lwd = 2)\n",
    "```\n",
    "\n",
    "\n",
    "_Assign your plot to an object called `sampling_dist_size10`._"
   ]
  },
  {
   "cell_type": "code",
   "execution_count": null,
   "metadata": {
    "deletable": false,
    "nbgrader": {
     "cell_type": "code",
     "checksum": "b045331f8444ad09692b40c087a48d52",
     "grade": false,
     "grade_id": "cell-9aaea132e348653f",
     "locked": false,
     "schema_version": 3,
     "solution": true,
     "task": false
    }
   },
   "outputs": [],
   "source": [
    "# your code here\n",
    "fail() # No Answer - remove if you provide an answer\n",
    "\n",
    "sampling_dist_size10"
   ]
  },
  {
   "cell_type": "code",
   "execution_count": null,
   "metadata": {
    "deletable": false,
    "editable": false,
    "nbgrader": {
     "cell_type": "code",
     "checksum": "b74e70f797990a3d95e7f5756eb62bee",
     "grade": true,
     "grade_id": "cell-b559474135832cf4",
     "locked": true,
     "points": 1,
     "schema_version": 3,
     "solution": false,
     "task": false
    }
   },
   "outputs": [],
   "source": [
    "test_2.3.2()"
   ]
  },
  {
   "cell_type": "markdown",
   "metadata": {
    "deletable": false,
    "editable": false,
    "nbgrader": {
     "cell_type": "markdown",
     "checksum": "4968149da74c656f70f19bd1e8dc1757",
     "grade": false,
     "grade_id": "cell-108c6e45ee91f66b",
     "locked": true,
     "schema_version": 3,
     "solution": false,
     "task": false
    }
   },
   "source": [
    "**Question 2.3.3** \n",
    "<br> {points: 1}\n",
    "\n",
    "Let us repeat Question 3.2.1, but this time using a much larger sample size. Take 3,000 samples of size 500 from weird_pop. The samples should be taken without replacement.\n",
    "\n",
    "_Assign your data frame to an object called `samples_size500`. The data frame should have two columns: `replicate` and `value`_"
   ]
  },
  {
   "cell_type": "code",
   "execution_count": null,
   "metadata": {
    "deletable": false,
    "nbgrader": {
     "cell_type": "code",
     "checksum": "27efc09300f579a19d794ef4fa45bbc8",
     "grade": false,
     "grade_id": "cell-3c2eee73a532a3f6",
     "locked": false,
     "schema_version": 3,
     "solution": true,
     "task": false
    }
   },
   "outputs": [],
   "source": [
    "set.seed(2) # Do not change this\n",
    "# your code here\n",
    "fail() # No Answer - remove if you provide an answer\n",
    "\n",
    "head(samples_size500)"
   ]
  },
  {
   "cell_type": "code",
   "execution_count": null,
   "metadata": {
    "deletable": false,
    "editable": false,
    "nbgrader": {
     "cell_type": "code",
     "checksum": "bf07e4ac3533503cf9bbe025a6e12d9c",
     "grade": true,
     "grade_id": "cell-c520439e66efb478",
     "locked": true,
     "points": 1,
     "schema_version": 3,
     "solution": false,
     "task": false
    }
   },
   "outputs": [],
   "source": [
    "test_2.3.3()"
   ]
  },
  {
   "cell_type": "markdown",
   "metadata": {
    "deletable": false,
    "editable": false,
    "nbgrader": {
     "cell_type": "markdown",
     "checksum": "440ccc4e75a3527a016ae28e66cabe38",
     "grade": false,
     "grade_id": "cell-d724cfdbddaeff76",
     "locked": true,
     "schema_version": 3,
     "solution": false,
     "task": false
    }
   },
   "source": [
    "**Question 2.3.4**\n",
    "<br> {points: 1}\n",
    "\n",
    "Let's take a look at how the CLT approximate the sampling distribution of the sample mean when the sample size is 500. Fill in the scaffolding below to plot the sampling distribution of the sample mean versus the sampling distribution given by the CLT. Check how good the approximation is. \n",
    "\n",
    "```r\n",
    "sampling_dist_size500 <-\n",
    "    samples_size500 %>% \n",
    "    group_by(...) %>% \n",
    "    summarise(sample_mean = ..., `.groups` = \"drop\") %>% \n",
    "    ggplot() + \n",
    "    geom_histogram(aes(x = ..., y = ..density..), color=\"white\") +\n",
    "    theme(text = element_text(size = 25))+\n",
    "    xlab(...) +\n",
    "    ggtitle(\"Sampling distribution of the sample mean for samples of size 500 from Weird Population.\") + \n",
    "    geom_line(data = gaussian_densities %>% filter(sample_size == 500), aes(value, density), color = \"red\", lwd = 2)\n",
    "```\n",
    "\n",
    "_Assign your plot to an object called `sampling_dist_size500`._"
   ]
  },
  {
   "cell_type": "code",
   "execution_count": null,
   "metadata": {
    "deletable": false,
    "nbgrader": {
     "cell_type": "code",
     "checksum": "0e99f5071e57b5f0fac639100710eaaf",
     "grade": false,
     "grade_id": "cell-e642a588fc464317",
     "locked": false,
     "schema_version": 3,
     "solution": true,
     "task": false
    }
   },
   "outputs": [],
   "source": [
    "# your code here\n",
    "fail() # No Answer - remove if you provide an answer\n",
    "\n",
    "sampling_dist_size500"
   ]
  },
  {
   "cell_type": "code",
   "execution_count": null,
   "metadata": {
    "deletable": false,
    "editable": false,
    "nbgrader": {
     "cell_type": "code",
     "checksum": "ca8ba48af7bc349cf39dee7be9dc90e4",
     "grade": true,
     "grade_id": "cell-681e18ef367913e8",
     "locked": true,
     "points": 1,
     "schema_version": 3,
     "solution": false,
     "task": false
    }
   },
   "outputs": [],
   "source": [
    "test_2.3.4()"
   ]
  },
  {
   "cell_type": "markdown",
   "metadata": {
    "deletable": false,
    "editable": false,
    "nbgrader": {
     "cell_type": "markdown",
     "checksum": "cd2e34c12bbd51a0942ccb60ab9efdd7",
     "grade": false,
     "grade_id": "cell-3e855ef129740e00",
     "locked": true,
     "schema_version": 3,
     "solution": false,
     "task": false
    }
   },
   "source": [
    "The cell below plots the two figures you created in the exercises above and includes the case where the sample size is 30, so you can compare how the approximation is improving as the sample size increases. "
   ]
  },
  {
   "cell_type": "code",
   "execution_count": null,
   "metadata": {
    "deletable": false,
    "editable": false,
    "nbgrader": {
     "cell_type": "code",
     "checksum": "522235b61f4105abad2e6a3792559f0a",
     "grade": false,
     "grade_id": "cell-7fcc7a6da81af6bb",
     "locked": true,
     "schema_version": 3,
     "solution": false,
     "task": false
    }
   },
   "outputs": [],
   "source": [
    "# Run this cell before continuing. \n",
    "\n",
    "set.seed(13)\n",
    "\n",
    "all_samples <- \n",
    "    bind_rows(samples_size10 %>% mutate(sample_size = 10), \n",
    "              weird_pop %>% rep_sample_n(size = 30, reps = 3000) %>% mutate(sample_size = 30), \n",
    "              samples_size500 %>% mutate(sample_size = 500))\n",
    "\n",
    "all_samples %>% \n",
    "    group_by(sample_size, replicate) %>% \n",
    "    summarise(sample_mean = mean(value)) %>% \n",
    "    select(-replicate) %>% \n",
    "    mutate(sample_size = as_factor(sample_size)) %>% \n",
    "    ggplot() +\n",
    "    facet_wrap(~sample_size, scale=\"free\") +\n",
    "    geom_histogram(aes(x = sample_mean, y = ..density.., fill = sample_size),\n",
    "                   color='white', \n",
    "                   binwidth = function(x) 2 * IQR(x) / (length(x)^(1/4)))+\n",
    "    theme(text = element_text(size=25)) +\n",
    "    ggtitle(\"Sampling distribution of the sample mean for different values of n\") +\n",
    "    geom_line(data = gaussian_densities, aes(x = value, y = density), lwd=2) + \n",
    "    xlab(\"Sample mean\")\n"
   ]
  },
  {
   "cell_type": "markdown",
   "metadata": {
    "deletable": false,
    "editable": false,
    "nbgrader": {
     "cell_type": "markdown",
     "checksum": "7e619d9470deab974037863faf2254a6",
     "grade": false,
     "grade_id": "cell-2809aa3eb5fe6627",
     "locked": true,
     "schema_version": 3,
     "solution": false,
     "task": false
    }
   },
   "source": [
    "The question that remains, but it is very hard to answer, is: <em>what sample size is big enough?</em> There is no universal answer. The problem is, although it is true that (some) sampling distributions will converge to a Gaussian distribution no matter what the population distribution looks like, the sample size required to have a good approximation will depend on the population distribution. In most cases, something between 30 or 50 should be enough. But the more different a population distribution is from the Normal distribution (e.g., having multiple peaks, being asymmetric, etc...), the larger the sample size required to have a good approximation. \n",
    "\n",
    "In the case of `weird_pop`, we can see that the approximation given by the CLT is quite poor for a sample of size 10. For a sample of size 500, the approximation is quite good. For a sample of size 30, CLT already provides a decent approximation; however, the approximation is not as good on the left tail if you look closely. "
   ]
  },
  {
   "cell_type": "markdown",
   "metadata": {
    "deletable": false,
    "editable": false,
    "nbgrader": {
     "cell_type": "markdown",
     "checksum": "7ffaf81eae4daeca97578288e845bc13",
     "grade": false,
     "grade_id": "cell-f08fb0d3ba460f03",
     "locked": true,
     "schema_version": 3,
     "solution": false,
     "task": false
    }
   },
   "source": [
    "### CLT is not always applicable\n",
    "\n",
    "It is important to notice that CLT is not magic -- you should not automatically rely on CLT. There are three main things you need to check:\n",
    "1. Is the size of your sample large enough? \n",
    "2. Was the sample taken in an independent fashion? \n",
    "3. Is the estimator being used a sum of random components? \n",
    "\n",
    "We have discussed the effects of the sample size in the previous exercises. Now, we will see an example of an estimator that is not a sum of random components, and therefore, you cannot use the CLT."
   ]
  },
  {
   "cell_type": "markdown",
   "metadata": {
    "deletable": false,
    "editable": false,
    "nbgrader": {
     "cell_type": "markdown",
     "checksum": "85a0dfedd709cd779a6cb0922ae15d3d",
     "grade": false,
     "grade_id": "cell-8fcaa9e7925f5136",
     "locked": true,
     "schema_version": 3,
     "solution": false,
     "task": false
    }
   },
   "source": [
    "**Question 2.3.5** \n",
    "<br> {points: 1}\n",
    "\n",
    "For this exercise, you are going to estimate the `minimum` of the population. To estimate the population minimum, we are going to use the sample minimum. Let us study the sampling distribution of the sample minimum. You have already drawn samples of different sizes. They are stored now in the object `all_samples`. Complete the scaffolding below to plot the sampling distribution of the sample minimum for different sample sizes. As the sample size increases, does the sampling distribution looks more like a Normal distribution?\n",
    "\n",
    "```r\n",
    "sampling_dist_min <- \n",
    "    all_samples %>% \n",
    "    group_by(..., ...) %>% \n",
    "    summarise(sample_min = ..., `.groups` = \"drop\") %>% \n",
    "    ggplot() +\n",
    "    geom_histogram(aes(x = ..., y = ..density..), color = \"white\") +\n",
    "    facet_wrap(~sample_size, scales = \"free\") +\n",
    "    theme(text = element_text(size = 25)) + \n",
    "    ggtitle(...) + \n",
    "    xlab(...)   \n",
    "```\n",
    "\n",
    "\n",
    "_Assign your plot to an object called `sampling_dist_min`._"
   ]
  },
  {
   "cell_type": "code",
   "execution_count": null,
   "metadata": {
    "deletable": false,
    "nbgrader": {
     "cell_type": "code",
     "checksum": "f6c51650e38b28b55797531daa010bfa",
     "grade": false,
     "grade_id": "cell-928f81ff98a4afae",
     "locked": false,
     "schema_version": 3,
     "solution": true,
     "task": false
    }
   },
   "outputs": [],
   "source": [
    "# your code here\n",
    "fail() # No Answer - remove if you provide an answer\n",
    "\n",
    "sampling_dist_min"
   ]
  },
  {
   "cell_type": "code",
   "execution_count": null,
   "metadata": {
    "deletable": false,
    "editable": false,
    "nbgrader": {
     "cell_type": "code",
     "checksum": "1cf8f7739a23abd9d2197b5b996dcc18",
     "grade": true,
     "grade_id": "cell-2ccfa455cfcbb93f",
     "locked": true,
     "points": 1,
     "schema_version": 3,
     "solution": false,
     "task": false
    }
   },
   "outputs": [],
   "source": [
    "test_2.3.5()"
   ]
  },
  {
   "cell_type": "markdown",
   "metadata": {
    "deletable": false,
    "editable": false,
    "nbgrader": {
     "cell_type": "markdown",
     "checksum": "57abf4717ff960c5cdeb766d1d528b05",
     "grade": false,
     "grade_id": "cell-40e6f2f40bcca5e7",
     "locked": true,
     "schema_version": 3,
     "solution": false,
     "task": false
    }
   },
   "source": [
    "### To summarise this section:\n",
    "\n",
    " - The Law of Large Numbers states that the sample mean converges (i.e., gets closer and closer) to the population mean when the sample size increases. \n",
    " - The CLT states that if we have an estimator that is a sum of random components (like the mean), then the sampling distribution of your estimator converges (i.e., gets more and more similar) to the Normal distribution.\n",
    " - The Normal distribution is very important in statistics and:\n",
    "     1. It is symmetric around the mean;\n",
    "     2. It has two parameters $\\mu$, which is the mean of the distribution (a location parameter) and $\\sigma$, which is the standard deviation of the distribution (a measure of spread)."
   ]
  },
  {
   "cell_type": "markdown",
   "metadata": {
    "deletable": false,
    "editable": false,
    "nbgrader": {
     "cell_type": "markdown",
     "checksum": "7bc9f7f4f2cec5272eb228e8f91970be",
     "grade": false,
     "grade_id": "cell-e17615d6ad9efeb4",
     "locked": true,
     "schema_version": 3,
     "solution": false,
     "task": false
    }
   },
   "source": [
    "## 3. Obtaining confidence intervals based on the CLT\n",
    "\n",
    "In this section, you will explore how to obtain the confidence interval for the mean and proportion using the Central Limit Theorem. Remember that to calculate a confidence interval for a parameter (e.g., the population mean) using bootstrap you had to:\n",
    "\n",
    "1. Take a sample;\n",
    "2. Construct the bootstrap sampling distribution. \n",
    "3. Get the quantiles from the estimated sampling distribution. \n",
    "\n",
    "The only thing that will change here is that we are going to use the CLT instead of bootstrap to estimate the sampling distribution (in some cases -- remember that CLT is not always applicable). Therefore, you get to skip Step 2 because you will approximate the sampling distribution using the Normal distribution. \n",
    "\n",
    "We will be focused on two parameters in this section: mean and proportion. "
   ]
  },
  {
   "cell_type": "markdown",
   "metadata": {
    "deletable": false,
    "editable": false,
    "nbgrader": {
     "cell_type": "markdown",
     "checksum": "12cea94084f496b46c8c41b0ae0deda2",
     "grade": false,
     "grade_id": "cell-ada4e5b7b77d206a",
     "locked": true,
     "schema_version": 3,
     "solution": false,
     "task": false
    }
   },
   "source": [
    "**Question 3.1 - Estimating the mean using CLT**\n",
    "<br>{points: 1}\n",
    "\n",
    "To estimate the mean, we use the sample average, $\\bar{X}$. The CLT roughly says that $\\bar{X}$ follows a Normal distribution with parameters $\\mu$ and $\\sigma/\\sqrt{n}$:\n",
    "$$\n",
    "\\bar{X} \\sim N\\left(\\mu, \\sigma/\\sqrt{n}\\right)\n",
    "$$\n",
    "Since we do not know $\\mu$ and $\\sigma$ we replace them with their estimates $\\bar{x}$ and $s=\\sqrt{\\frac{1}{n-1}\\sum_{i=1}^{n}(X_i-\\bar{X})^2}$ (you can calculate $s$ with the `sd` function in R).\n",
    "\n",
    "\n",
    "For this question, consider the `penguins` dataset. We want to estimate the mean `body_mass_g` of the `Adelie` species. What would you use as the mean and standard deviation of the sampling distribution of $\\bar{X}$? \n",
    "\n",
    "_Assign the mean to an object called `answer3.1_mean` and the standard deviation to an object called `answer3.1_std_error`. These values should be numbers, not data frames._"
   ]
  },
  {
   "cell_type": "code",
   "execution_count": null,
   "metadata": {
    "deletable": false,
    "nbgrader": {
     "cell_type": "code",
     "checksum": "6a35e57e4cf7adc6ed582906d0f2bd18",
     "grade": false,
     "grade_id": "cell-c271d6b73d562521",
     "locked": false,
     "schema_version": 3,
     "solution": true,
     "task": false
    }
   },
   "outputs": [],
   "source": [
    "body_mass_g_adelie <- \n",
    "    penguins %>% \n",
    "    filter(species == 'Adelie' & !is.na(body_mass_g)) %>% \n",
    "    pull(body_mass_g)\n",
    "\n",
    "#answer3.1_mean <- \n",
    "#    mean(..., na.rm = TRUE)\n",
    "\n",
    "#answer3.1_std_error <-\n",
    "#    sd(..., na.rm = TRUE) / ...\n",
    "\n",
    "# your code here\n",
    "fail() # No Answer - remove if you provide an answer\n",
    "\n",
    "cat(\"The mean estimate is\", round(answer3.1_mean,4), \"\\nThe std. error estimate is\", round(answer3.1_std_error, 4))"
   ]
  },
  {
   "cell_type": "code",
   "execution_count": null,
   "metadata": {
    "deletable": false,
    "editable": false,
    "nbgrader": {
     "cell_type": "code",
     "checksum": "7f7650a23156962d367b774a4b3ca187",
     "grade": true,
     "grade_id": "cell-817e982e570fe86e",
     "locked": true,
     "points": 1,
     "schema_version": 3,
     "solution": false,
     "task": false
    }
   },
   "outputs": [],
   "source": [
    "test_3.1()"
   ]
  },
  {
   "cell_type": "markdown",
   "metadata": {
    "deletable": false,
    "editable": false,
    "nbgrader": {
     "cell_type": "markdown",
     "checksum": "3bbce41016d320604f21b6c3f467fbf2",
     "grade": false,
     "grade_id": "cell-512429054f09c03b",
     "locked": true,
     "schema_version": 3,
     "solution": false,
     "task": false
    }
   },
   "source": [
    "**Question 3.2** \n",
    "<br> {points: 1}\n",
    "\n",
    "Using the sampling distribution you specified in the previous question, obtain a 95\\%  confidence interval for the mean. Use the scaffolding below:\n",
    "\n",
    "```r\n",
    "body_mass_ci <- tibble(\n",
    "    lower_ci = ...\n",
    "    upper_ci = ...\n",
    ")\n",
    "```\n",
    "(Hint: the function `qnorm` can help you).\n",
    "\n",
    "_Assign your data frame to an object called `mean_body_mass_adelie_ci`. The data frame should contain two columns only: `lower_ci` and `upper_ci`._"
   ]
  },
  {
   "cell_type": "code",
   "execution_count": null,
   "metadata": {
    "deletable": false,
    "nbgrader": {
     "cell_type": "code",
     "checksum": "4a5ef2e55be1dc6daa7b3dc6539b8e39",
     "grade": false,
     "grade_id": "cell-45aa3ef0abf1831c",
     "locked": false,
     "schema_version": 3,
     "solution": true,
     "task": false
    }
   },
   "outputs": [],
   "source": [
    "# mean_body_mass_adelie_ci <-\n",
    "#     tibble(\n",
    "#         lower_ci = qnorm(0.025, ..., ...),\n",
    "#         upper_ci = qnorm(..., ..., ...)\n",
    "#     )\n",
    "\n",
    "# your code here\n",
    "fail() # No Answer - remove if you provide an answer\n",
    "\n",
    "mean_body_mass_adelie_ci"
   ]
  },
  {
   "cell_type": "code",
   "execution_count": null,
   "metadata": {
    "deletable": false,
    "editable": false,
    "nbgrader": {
     "cell_type": "code",
     "checksum": "e2c03b6b96a54962653d3f54823d9f6c",
     "grade": true,
     "grade_id": "cell-075ecde878f0fad0",
     "locked": true,
     "points": 1,
     "schema_version": 3,
     "solution": false,
     "task": false
    }
   },
   "outputs": [],
   "source": [
    "test_3.2()"
   ]
  },
  {
   "cell_type": "markdown",
   "metadata": {
    "deletable": false,
    "editable": false,
    "nbgrader": {
     "cell_type": "markdown",
     "checksum": "548924ee1d7f0600cc1671e7270a0d2d",
     "grade": false,
     "grade_id": "cell-f7cee08f7346b6be",
     "locked": true,
     "schema_version": 3,
     "solution": false,
     "task": false
    }
   },
   "source": [
    "**Question 3.3**\n",
    "<br> {points: 1}\n",
    "\n",
    "For the sake of comparison, obtain a 95% confidence interval for the mean `body_mass_g` of `Adelie` specie using bootstrap with 3000 replicates. You can use the scaffolding below to help you:\n",
    "\n",
    "```r\n",
    "bootstrap_ci <- \n",
    "    penguins %>% \n",
    "    filter(...) %>% \n",
    "    specify(...) %>% \n",
    "    generate(...) %>% \n",
    "    calculate(...) %>% \n",
    "    get_ci()\n",
    "```\n",
    "\n",
    "_Assign your data frame to an object called `bootstrap_ci`. The data frame should contain two columns only: `lower_ci` and `upper_ci`._"
   ]
  },
  {
   "cell_type": "code",
   "execution_count": null,
   "metadata": {
    "deletable": false,
    "nbgrader": {
     "cell_type": "code",
     "checksum": "9e757e9079abe9ccd23ce75cc30879dc",
     "grade": false,
     "grade_id": "cell-9c99694899d1f5ba",
     "locked": false,
     "schema_version": 3,
     "solution": true,
     "task": false
    }
   },
   "outputs": [],
   "source": [
    "set.seed(54612) # Do not change this.\n",
    "\n",
    "# your code here\n",
    "fail() # No Answer - remove if you provide an answer\n",
    "\n",
    "bootstrap_ci"
   ]
  },
  {
   "cell_type": "code",
   "execution_count": null,
   "metadata": {
    "deletable": false,
    "editable": false,
    "nbgrader": {
     "cell_type": "code",
     "checksum": "42a5de4a7003640f07937e58846b11f4",
     "grade": true,
     "grade_id": "cell-dd345adb6ddbbf71",
     "locked": true,
     "points": 1,
     "schema_version": 3,
     "solution": false,
     "task": false
    }
   },
   "outputs": [],
   "source": [
    "test_3.3()"
   ]
  },
  {
   "cell_type": "markdown",
   "metadata": {
    "deletable": false,
    "editable": false,
    "nbgrader": {
     "cell_type": "markdown",
     "checksum": "3b17f47511ff996309f99e11b88c5908",
     "grade": false,
     "grade_id": "cell-fde89b8f83269cb5",
     "locked": true,
     "schema_version": 3,
     "solution": false,
     "task": false
    }
   },
   "source": [
    "**Question 3.4** \n",
    "<br> {points: 1}\n",
    "\n",
    "Obtain the 99% confidence interval for the mean of `body_mass_g` of the `Chinstrap` specie. Use the central limit theorem.\n",
    "\n",
    "_Assign your data frame to an object called `mean_body_mass_chinstrap_ci`. The data frame should contain two columns only: `lower_ci` and `upper_ci`._"
   ]
  },
  {
   "cell_type": "code",
   "execution_count": null,
   "metadata": {
    "deletable": false,
    "nbgrader": {
     "cell_type": "code",
     "checksum": "ecd452cb7bca7e46eb186b2242f119b2",
     "grade": false,
     "grade_id": "cell-e1250a54da96e890",
     "locked": false,
     "schema_version": 3,
     "solution": true,
     "task": false
    }
   },
   "outputs": [],
   "source": [
    "# estimates <- \n",
    "#     penguins %>% \n",
    "#     filter(species == ... & !is.na(body_mass_g)) %>% \n",
    "#     summarise(sample_average = ...,\n",
    "#               sample_std_error = ...)\n",
    "\n",
    "# mean_body_mass_chinstrap_ci <- tibble(\n",
    "#     lower_ci = qnorm(..., estimates$..., estimates$...),\n",
    "#     upper_ci = qnorm(..., estimates$..., estimates$...)\n",
    "# )\n",
    "\n",
    "# your code here\n",
    "fail() # No Answer - remove if you provide an answer\n",
    "\n",
    "head(mean_body_mass_chinstrap_ci)"
   ]
  },
  {
   "cell_type": "code",
   "execution_count": null,
   "metadata": {
    "deletable": false,
    "editable": false,
    "nbgrader": {
     "cell_type": "code",
     "checksum": "2062431cd2ae2e85e64c62ff840c1659",
     "grade": true,
     "grade_id": "cell-698b506c2fd15640",
     "locked": true,
     "points": 1,
     "schema_version": 3,
     "solution": false,
     "task": false
    }
   },
   "outputs": [],
   "source": [
    "test_3.4()"
   ]
  },
  {
   "cell_type": "markdown",
   "metadata": {
    "deletable": false,
    "editable": false,
    "nbgrader": {
     "cell_type": "markdown",
     "checksum": "b70ad79d100e10e4e5ba7b78c05b9fd0",
     "grade": false,
     "grade_id": "cell-6d12a522b751be1e",
     "locked": true,
     "schema_version": 3,
     "solution": false,
     "task": false
    }
   },
   "source": [
    "_Note: The bootstrap and CLT confidence intervals are quite close in this case, but the bootstrap interval is a little bit wider than the interval based on the CLT. One of the reasons is that we do not know $\\sigma$, and we are using the sample variance, $S$, to estimate it. Therefore, there is more uncertainty around our estimator $\\bar{X}$ than we are accounting for. By underestimating our uncertainty, we are making our interval narrower than it should be and, consequently, the coverage can be lower than the specified. Although in this case the difference is small, in cases of smaller sample sizes, say $n<30$ or $n<20$, the difference can be notable. In Week 10, you will learn how to improve the confidence interval based on the CLT by properly accounting for the extra uncertainty of using $S$ in place of $\\sigma$._"
   ]
  },
  {
   "cell_type": "markdown",
   "metadata": {
    "deletable": false,
    "editable": false,
    "nbgrader": {
     "cell_type": "markdown",
     "checksum": "8ec8ea1dfc0dcabd00f2807fb65fc334",
     "grade": false,
     "grade_id": "cell-792a2542da99d1ab",
     "locked": true,
     "schema_version": 3,
     "solution": false,
     "task": false
    }
   },
   "source": [
    "**Question 3.5 - Estimating the proportion using CLT**\n",
    "<br>{points: 1}\n",
    "\n",
    "Next, you are going to apply the CLT to obtain the confidence interval for the proportion. A proportion is the average of a random variable that can only assume either 0 or 1. Therefore, by calculating proportions, you are summing up random terms, and we can apply the CLT. The CLT for proportions states that the sample proportion follows a Normal distribution with mean equals to $p$, the population proportion, and standard deviation $\\sqrt{p(1-p)/n}$:\n",
    "$$\n",
    "\\hat{p}\\sim N\\left(p, \\sqrt{\\frac{p(1-p)}{n}}\\right)\n",
    "$$\n",
    "\n",
    "Since, we do not know $p$, the best we can do is to use $\\hat{p}$ instead of $p$. For the case of proportions, the CLT provides a fairly good approximation for values of $n$ such that $n\\hat{p}\\geq 10$ and $n(1-\\hat{p})\\geq 10$. Again, the larger $n$ is, the more accurate is the approximation. \n",
    "\n",
    "\n",
    "For this question, we want to estimate the proportion of `Adelie` penguins with `body_mass_g` over 4000g. What would you use as the mean and standard deviation of the sampling distribution of $\\hat{p}$? \n",
    "\n",
    "_Assign the mean to an object called `answer3.5_mean` and the standard deviation to an object called `answer3.5_std_error`. These objects should be numbers, not data frames._"
   ]
  },
  {
   "cell_type": "code",
   "execution_count": null,
   "metadata": {
    "deletable": false,
    "nbgrader": {
     "cell_type": "code",
     "checksum": "c217f2c681c3b8e255b1b490ad441658",
     "grade": false,
     "grade_id": "cell-bb4eb112247eaf06",
     "locked": false,
     "schema_version": 3,
     "solution": true,
     "task": false
    }
   },
   "outputs": [],
   "source": [
    "#phat <- mean(...)\n",
    "#answer3.5_mean <- ... \n",
    "#answer3.5_std_error <- ...\n",
    "\n",
    "# your code here\n",
    "fail() # No Answer - remove if you provide an answer\n",
    "cat(\"The phat estimate is\", round(phat,4), \"\\nThe std. error estimate is\", round(answer3.5_std_error,4))"
   ]
  },
  {
   "cell_type": "code",
   "execution_count": null,
   "metadata": {
    "deletable": false,
    "editable": false,
    "nbgrader": {
     "cell_type": "code",
     "checksum": "e9abd0eb140034d913bd322997dc92e2",
     "grade": true,
     "grade_id": "cell-e5ae1dc9ef00b7e8",
     "locked": true,
     "points": 1,
     "schema_version": 3,
     "solution": false,
     "task": false
    }
   },
   "outputs": [],
   "source": [
    "test_3.5()"
   ]
  },
  {
   "cell_type": "markdown",
   "metadata": {
    "deletable": false,
    "editable": false,
    "nbgrader": {
     "cell_type": "markdown",
     "checksum": "ee712732cd60410e320587c6c36910a4",
     "grade": false,
     "grade_id": "cell-34cf808878a5a645",
     "locked": true,
     "schema_version": 3,
     "solution": false,
     "task": false
    }
   },
   "source": [
    "**Question 3.6** \n",
    "<br> {points: 1}\n",
    "\n",
    "Using the sampling distribution you specified in the previous question, obtain a 90\\%  confidence interval for the proportion of `Adelie` penguins with `body_mass_g` over 4000g. Use the scaffolding below:\n",
    "\n",
    "```r\n",
    "body_mass_ci <- tibble(\n",
    "    lower_ci = ...\n",
    "    upper_ci = ...\n",
    ")\n",
    "```\n",
    "(Hint: the function `qnorm` can help you).\n",
    "\n",
    "_Assign your data frame to an object called `prop_adelie_ci`. The data frame should contain two columns only: `lower_ci` and `upper_ci`._"
   ]
  },
  {
   "cell_type": "code",
   "execution_count": null,
   "metadata": {
    "deletable": false,
    "nbgrader": {
     "cell_type": "code",
     "checksum": "0ead6058fabacb18b4e3ffc95ba2288f",
     "grade": false,
     "grade_id": "cell-010a58d81b219cd3",
     "locked": false,
     "schema_version": 3,
     "solution": true,
     "task": false
    }
   },
   "outputs": [],
   "source": [
    "# your code here\n",
    "fail() # No Answer - remove if you provide an answer\n",
    "head(prop_adelie_ci)"
   ]
  },
  {
   "cell_type": "code",
   "execution_count": null,
   "metadata": {
    "deletable": false,
    "editable": false,
    "nbgrader": {
     "cell_type": "code",
     "checksum": "cd7a5e5bb2ad4b6c9fcd83f1e5ce90e9",
     "grade": true,
     "grade_id": "cell-d120a19aedf198fc",
     "locked": true,
     "points": 1,
     "schema_version": 3,
     "solution": false,
     "task": false
    }
   },
   "outputs": [],
   "source": [
    "test_3.6()"
   ]
  },
  {
   "cell_type": "markdown",
   "metadata": {
    "deletable": false,
    "editable": false,
    "nbgrader": {
     "cell_type": "markdown",
     "checksum": "e36cc64a78c1c9f9a886f939c8d12dd4",
     "grade": false,
     "grade_id": "cell-32fa6561e361c5d7",
     "locked": true,
     "schema_version": 3,
     "solution": false,
     "task": false
    }
   },
   "source": [
    "**Question 3.7 - Estimating the difference in means using CLT**\n",
    "<br>{points: 1}\n",
    "\n",
    "Let's return to the penguins data set. Are `Adelie` penguins heavier than `Chinstrap` penguins? To answer this question, \n",
    "we will estimate the difference in the weights between the two species. Let's refer to the `Adelie` penguins as population 1 and `Chinstrap` penguins as population 2. \n",
    "\n",
    "Assuming the sample size is large enough, we can approximate the sampling distribution of $\\bar{X}_1-\\bar{X}_2$ by\n",
    "$$\n",
    "\\bar{X}_1-\\bar{X}_2\\sim N\\left(\\mu_1 - \\mu_2, \\sqrt{\\frac{s^2_1}{n_1}+\\frac{s^2_2}{n_2}}\\right)\n",
    "$$\n",
    "\n",
    "Therefore, you can obtain the confidence interval as\n",
    "\n",
    "$$\n",
    "CI\\left(\\mu_1 - \\mu_2\\right) = \\left(\\bar{X}_1-\\bar{X}_2\\right) \\pm z^*\\sqrt{\\frac{s^2_1}{n_1}+\\frac{s^2_2}{n_2}}\n",
    "$$\n",
    "where $z^*$ is the quantile of a standard Normal.\n",
    "\n",
    "_(Note: we could get an even better approximation of the sampling distribution using the $t$-distribution. We are going to talk about $t$-distribution next week. However, for large $n$, say $n>30$, the $t$-distribution is quite close to the normal distribution. For $n>50$ they are virtually the same.)_\n",
    "\n",
    "Obtain the 95% confidence interval for the difference in means of Adelie penguins' weight and Chinstrap penguins' weight. The sample is stored in the object `adelie_chinstrap_sample`.\n",
    "\n",
    "_Assign your data frame to an object called `penguins_diff_means_ci`. The data frame should have two columns: `lower_ci` and `upper_ci`._"
   ]
  },
  {
   "cell_type": "code",
   "execution_count": null,
   "metadata": {
    "deletable": false,
    "editable": false,
    "nbgrader": {
     "cell_type": "code",
     "checksum": "f0fca10fc2357ef1ebaf213b08798570",
     "grade": false,
     "grade_id": "cell-614ccc9d5bd7a966",
     "locked": true,
     "schema_version": 3,
     "solution": false,
     "task": false
    }
   },
   "outputs": [],
   "source": [
    "# Run this cell before continuing\n",
    "adelie_chinstrap_sample <- \n",
    "    penguins %>%\n",
    "    filter(species %in% c(\"Adelie\", \"Chinstrap\") & !is.na(body_mass_g)) %>% \n",
    "    select(species, body_mass_g)"
   ]
  },
  {
   "cell_type": "code",
   "execution_count": null,
   "metadata": {
    "deletable": false,
    "nbgrader": {
     "cell_type": "code",
     "checksum": "ab97286a815e3e8878b62338c9621323",
     "grade": false,
     "grade_id": "cell-ece0ac6f18c7df78",
     "locked": false,
     "schema_version": 3,
     "solution": true,
     "task": false
    }
   },
   "outputs": [],
   "source": [
    "adelie <- \n",
    "    adelie_chinstrap_sample %>% \n",
    "    filter(species == 'Adelie') %>% \n",
    "    pull(body_mass_g)\n",
    "\n",
    "chinstrap <- \n",
    "    adelie_chinstrap_sample %>% \n",
    "    filter(species == 'Chinstrap') %>% \n",
    "    pull(body_mass_g)\n",
    "\n",
    "# penguins_diff_means_ci <- \n",
    "#     tibble(\n",
    "#         lower_ci = mean(...) - mean(...) - qnorm(...) * sqrt(var(...)/length(...) + var(...)/length(...)),\n",
    "#         upper_ci = ...\n",
    "#     )\n",
    "\n",
    "# your code here\n",
    "fail() # No Answer - remove if you provide an answer\n",
    "\n",
    "penguins_diff_means_ci"
   ]
  },
  {
   "cell_type": "code",
   "execution_count": null,
   "metadata": {
    "deletable": false,
    "editable": false,
    "nbgrader": {
     "cell_type": "code",
     "checksum": "70cae322b6a46faf0bd684d071116df0",
     "grade": true,
     "grade_id": "cell-62b6d949bba6d942",
     "locked": true,
     "points": 1,
     "schema_version": 3,
     "solution": false,
     "task": false
    }
   },
   "outputs": [],
   "source": [
    "test_3.7()"
   ]
  }
 ],
 "metadata": {
  "docker": {
   "latest_iamge_tag": "TAG_HERE"
  },
  "jupytext": {
   "formats": "ipynb,Rmd"
  },
  "kernelspec": {
   "display_name": "R",
   "language": "R",
   "name": "ir"
  },
  "language_info": {
   "codemirror_mode": "r",
   "file_extension": ".r",
   "mimetype": "text/x-r-source",
   "name": "R",
   "pygments_lexer": "r",
   "version": "4.0.0"
  }
 },
 "nbformat": 4,
 "nbformat_minor": 4
}
