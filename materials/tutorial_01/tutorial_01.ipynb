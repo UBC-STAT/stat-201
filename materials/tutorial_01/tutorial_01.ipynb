{
 "cells": [
  {
   "cell_type": "markdown",
   "metadata": {
    "deletable": false,
    "editable": false,
    "nbgrader": {
     "cell_type": "markdown",
     "checksum": "ee6251ece7ddb10a9e99ca05383e0a29",
     "grade": false,
     "grade_id": "cell-908015dfa63adcb4",
     "locked": true,
     "schema_version": 3,
     "solution": false,
     "task": false
    }
   },
   "source": [
    "## Tutorial 1:  Introduction to Statistical Inference and Sampling"
   ]
  },
  {
   "cell_type": "markdown",
   "metadata": {
    "deletable": false,
    "editable": false,
    "nbgrader": {
     "cell_type": "markdown",
     "checksum": "4fae47eab910358da7c96f4c245edee3",
     "grade": false,
     "grade_id": "cell-b1b21626a440327a",
     "locked": true,
     "schema_version": 3,
     "solution": false,
     "task": false
    }
   },
   "source": [
    "#### Lecture and Tutorial Learning Goals:\n",
    "After completing this module, you will be able to:\n",
    "\n",
    "1. Describe real-world examples of questions that can be answered with the statistical inference methods presented in this course (e.g., estimation, hypothesis testing).\n",
    "\n",
    "2. Name common population parameters (mean, median, proportion) often estimated using sample data and write computer scripts to calculate estimates of these parameters.\n",
    "\n",
    "3. Define the following terms concerning statistical inference: population, sample, population parameters, estimate, sampling distribution, and sample distribution.\n",
    "\n",
    "4. Write an R script to draw random samples from a finite population (e.g., census data).\n",
    "\n",
    "5. Write an R script to estimate a sampling distribution for a given statistic and population.\n",
    "\n",
    "6. Define random variables and explain how they relate to sampling.\n",
    "\n",
    "7. Explain random and representative sampling and how this can influence estimation."
   ]
  },
  {
   "cell_type": "markdown",
   "metadata": {
    "deletable": false,
    "editable": false,
    "nbgrader": {
     "cell_type": "markdown",
     "checksum": "5fc7c4b8982f3aa73e63fb01391a89cf",
     "grade": false,
     "grade_id": "cell-e89baca94304416d",
     "locked": true,
     "schema_version": 3,
     "solution": false,
     "task": false
    }
   },
   "source": [
    "#### General instructions\n",
    "\n",
    "Any place you see `...`, you must fill in the function, variable, or data to complete the code. Replace `fail()` with your completed code and run the cell!\n",
    "\n",
    "All visible auto-graded questions (i.e., questions with visible tests) are worth 1 point, and all hidden auto-graded and manually graded questions are worth 3 points."
   ]
  },
  {
   "cell_type": "markdown",
   "metadata": {
    "deletable": false,
    "editable": false,
    "nbgrader": {
     "cell_type": "markdown",
     "checksum": "f6ef6b16d7cda5083352393f02b2cc6c",
     "grade": false,
     "grade_id": "cell-55edba8c34fc8bf3",
     "locked": true,
     "schema_version": 3,
     "solution": false,
     "task": false
    }
   },
   "source": [
    "### Loading some packages"
   ]
  },
  {
   "cell_type": "code",
   "execution_count": null,
   "metadata": {
    "deletable": false,
    "editable": false,
    "nbgrader": {
     "cell_type": "code",
     "checksum": "fd0449c1473e80f17d1d97c51ac3b9e0",
     "grade": false,
     "grade_id": "cell-e38de85c42aa15da",
     "locked": true,
     "schema_version": 3,
     "solution": false,
     "task": false
    }
   },
   "outputs": [],
   "source": [
    "# Run this cell before continuing. \n",
    "library(cowplot)\n",
    "library(dplyr)\n",
    "library(gridExtra)\n",
    "library(tidyverse)\n",
    "library(repr)\n",
    "library(infer)\n",
    "library(repr)\n",
    "source(\"tests_tutorial_01.R\")"
   ]
  },
  {
   "cell_type": "markdown",
   "metadata": {
    "deletable": false,
    "editable": false,
    "nbgrader": {
     "cell_type": "markdown",
     "checksum": "8e6ca3541c3562a46b56c20bf0128b4b",
     "grade": false,
     "grade_id": "cell-02477be7ea6ada9c",
     "locked": true,
     "schema_version": 3,
     "solution": false,
     "task": false
    }
   },
   "source": [
    "### Vancouver Street Trees\n",
    "\n",
    "In this tutorial, we will explore the population and sampling distributions of three different populations of trees planted in Vancouver. Specifically, we are interested in the diameters of three different sub-groups of trees planted along boulevards in the city. We will obtain these populations by filtering a single data set.\n",
    "\n",
    "<br>\n",
    "\n",
    "<div style=\"text-align: center\">\n",
    "    <img src='https://media2.giphy.com/media/kiu8isFXsj1yqVBAOv/giphy.gif?cid=ecf05e4755256f4e6c94108bd7031859932bed37b115ca3a&rid=giphy.gif'/>\n",
    "    <br>\n",
    "    <i>Image from <a href=\"https://media2.giphy.com/media/kiu8isFXsj1yqVBAOv/giphy.gif?cid=ecf05e4755256f4e6c94108bd7031859932bed37b115ca3a&rid=giphy.gif\">giphy.com</i></a>\n",
    "</div>\n",
    "\n",
    "<br>\n",
    "\n",
    "To do this, we will use the `vancouver_trees` data set, which includes information about public trees planted along boulevards in Vancouver, such as their approximate height, diameter, family and species name, and other information describing where and when they were planted. This data is originally from the [City of Vancouver's Open Data Portal](https://opendata.vancouver.ca/explore/dataset/street-trees/information/?disjunctive.species_name&disjunctive.common_name&disjunctive.height_range_id), but we have included it in an R package called `datateachr`. The `datateachr` package contains several open-source data sets compiled from various sources to make them easily accessible. We will be using data from this package regularly throughout the term. Let's now load the `datateachr` package and take a look at the first few rows of the `vancouver_trees` data set."
   ]
  },
  {
   "cell_type": "code",
   "execution_count": null,
   "metadata": {
    "deletable": false,
    "editable": false,
    "nbgrader": {
     "cell_type": "code",
     "checksum": "f4ea5349d11d5b7c98e121c682c72bc1",
     "grade": false,
     "grade_id": "cell-54952796e66e195d",
     "locked": true,
     "schema_version": 3,
     "solution": false,
     "task": false
    }
   },
   "outputs": [],
   "source": [
    "library(datateachr)\n",
    "head(vancouver_trees)"
   ]
  },
  {
   "cell_type": "markdown",
   "metadata": {
    "deletable": false,
    "editable": false,
    "nbgrader": {
     "cell_type": "markdown",
     "checksum": "27ff62dd7e07b2f467c451eb9a2d9693",
     "grade": false,
     "grade_id": "cell-0d5f2ba3ad8aa891",
     "locked": true,
     "schema_version": 3,
     "solution": false,
     "task": false
    }
   },
   "source": [
    "## 1. Warm Up\n",
    "\n",
    "\n",
    "Before we get started, let's remind ourselves of a few important concepts and definitions."
   ]
  },
  {
   "cell_type": "markdown",
   "metadata": {
    "deletable": false,
    "editable": false,
    "nbgrader": {
     "cell_type": "markdown",
     "checksum": "25515d9be25fef14e63041a8214da8b7",
     "grade": false,
     "grade_id": "cell-941e7154315399bf",
     "locked": true,
     "schema_version": 3,
     "solution": false,
     "task": false
    }
   },
   "source": [
    "**Question 1.1**\n",
    "<br>{points: 3}\n",
    "\n",
    "In one or two sentences, explain in your own words what the sampling distribution of the sample mean is. Do not use the word \"distribution\" in your explanation."
   ]
  },
  {
   "cell_type": "markdown",
   "metadata": {
    "deletable": false,
    "nbgrader": {
     "cell_type": "markdown",
     "checksum": "17bbb5478f83575614c495047bc45abf",
     "grade": true,
     "grade_id": "cell-ec788aa80f383f85",
     "locked": false,
     "points": 3,
     "schema_version": 3,
     "solution": true,
     "task": false
    }
   },
   "source": [
    "DOUBLE CLICK TO EDIT **THIS CELL** AND REPLACE THIS TEXT WITH YOUR ANSWER."
   ]
  },
  {
   "cell_type": "markdown",
   "metadata": {
    "deletable": false,
    "editable": false,
    "nbgrader": {
     "cell_type": "markdown",
     "checksum": "6492af9a1fc9c42a37f70d5d7a347268",
     "grade": false,
     "grade_id": "cell-93d5cf7bf1e8be7d",
     "locked": true,
     "schema_version": 3,
     "solution": false,
     "task": false
    }
   },
   "source": [
    "**Question 1.2**\n",
    "<br>{points: 1}\n",
    "\n",
    "True or false?\n",
    "\n",
    "In reality, we most often have access to data for the entire population that we are interested in studying.\n",
    "\n",
    "_Assign your answer to an object called `answer1.2`. Your answer should be either \"true\" or \"false\", surrounded by quotes._"
   ]
  },
  {
   "cell_type": "code",
   "execution_count": null,
   "metadata": {
    "deletable": false,
    "nbgrader": {
     "cell_type": "code",
     "checksum": "c18b4a9fb683510c568c159a11899820",
     "grade": false,
     "grade_id": "cell-9dc33e4b16fbecff",
     "locked": false,
     "schema_version": 3,
     "solution": true,
     "task": false
    }
   },
   "outputs": [],
   "source": [
    "# answer1.2 <- ...\n",
    "\n",
    "# your code here\n",
    "fail() # No Answer - remove if you provide an answer"
   ]
  },
  {
   "cell_type": "code",
   "execution_count": null,
   "metadata": {
    "deletable": false,
    "editable": false,
    "nbgrader": {
     "cell_type": "code",
     "checksum": "9a801ac8d36ee59ea14f0541523586c7",
     "grade": true,
     "grade_id": "cell-b75038fb29c9f50c",
     "locked": true,
     "points": 1,
     "schema_version": 3,
     "solution": false,
     "task": false
    }
   },
   "outputs": [],
   "source": [
    "test_1.2()"
   ]
  },
  {
   "cell_type": "markdown",
   "metadata": {
    "deletable": false,
    "editable": false,
    "nbgrader": {
     "cell_type": "markdown",
     "checksum": "fb45a8972697e7151c77213da4d69375",
     "grade": false,
     "grade_id": "cell-5a8d97c351173c12",
     "locked": true,
     "schema_version": 3,
     "solution": false,
     "task": false
    }
   },
   "source": [
    "**Question 1.3**\n",
    "<br>{points: 1}\n",
    "\n",
    "Consider this unordered, numbered list of tasks related to populations, sampling, and sampling distributions: \n",
    "\n",
    "1. Calculate the mean of the point estimates to use as your estimate.\n",
    "2. Take a random sample from the population.\n",
    "3. Plot the distribution of the sample(s).\n",
    "4. Calculate point estimate(s) for the sample(s).\n",
    "5. Describe the uncertainty related to your estimate.\n",
    "6. Plot the distribution of the point estimates.\n",
    "7. Calculate the population parameter.\n",
    "8. Take many random samples from the population.\n",
    "\n",
    "Choose the order of tasks that **best** describes the process of estimating a population parameter when we do not have access to the population.\n",
    "\n",
    "A. 8, 3, 7\n",
    "\n",
    "B. 2, 4, 5\n",
    "\n",
    "C. 8, 4, 1\n",
    "\n",
    "D. 2, 7, 5\n",
    "\n",
    "E. 8, 4, 6, 1\n",
    "\n",
    "F. 2, 3, 7, 5\n",
    "\n",
    "_Assign your answer to an object called `answer1.3`. Your answer should be a single character surrounded by quotes._"
   ]
  },
  {
   "cell_type": "code",
   "execution_count": null,
   "metadata": {
    "deletable": false,
    "nbgrader": {
     "cell_type": "code",
     "checksum": "182b1db270c4423926923d94a4d5f53d",
     "grade": false,
     "grade_id": "cell-756aef05e9370e86",
     "locked": false,
     "schema_version": 3,
     "solution": true,
     "task": false
    }
   },
   "outputs": [],
   "source": [
    "# answer1.3 <- ...\n",
    "\n",
    "# your code here\n",
    "fail() # No Answer - remove if you provide an answer"
   ]
  },
  {
   "cell_type": "code",
   "execution_count": null,
   "metadata": {
    "deletable": false,
    "editable": false,
    "nbgrader": {
     "cell_type": "code",
     "checksum": "955f01dbe2c05759e9148b678d465ea0",
     "grade": true,
     "grade_id": "cell-59868bdd46196233",
     "locked": true,
     "points": 1,
     "schema_version": 3,
     "solution": false,
     "task": false
    }
   },
   "outputs": [],
   "source": [
    "test_1.3()"
   ]
  },
  {
   "cell_type": "markdown",
   "metadata": {
    "deletable": false,
    "editable": false,
    "nbgrader": {
     "cell_type": "markdown",
     "checksum": "51ebc81fdaf8468d709d9333408f7907",
     "grade": false,
     "grade_id": "cell-438d8cbf29c6d31c",
     "locked": true,
     "schema_version": 3,
     "solution": false,
     "task": false
    }
   },
   "source": [
    "**Question 1.4**\n",
    "<br>{points: 1}\n",
    "\n",
    "Throughout this tutorial, we will use the `diameter` column of the `vancouver_trees` data set. The documentation for the `vancouver_trees` data set (which can be accessed using `?vancouver_trees`) states that the diameter column is\n",
    "\n",
    "> DBH in _**inches**_ (DBH stands for \"diameter of tree at breast height\").\n",
    "\n",
    "Let's convert this to metric units (centimetres) before we get started. Use the fact that $1 \\text{ in} = 2.54 \\text{ cm}$ to convert the `diameter` column to centimetres by overwriting it with the `mutate` function.\n",
    "\n",
    "_Assign your data frame to an object called `metric_trees`._"
   ]
  },
  {
   "cell_type": "code",
   "execution_count": null,
   "metadata": {
    "deletable": false,
    "nbgrader": {
     "cell_type": "code",
     "checksum": "d45a878588f6cfba819abcc7002262d0",
     "grade": false,
     "grade_id": "cell-2fe17cd445c4529b",
     "locked": false,
     "schema_version": 3,
     "solution": true,
     "task": false
    }
   },
   "outputs": [],
   "source": [
    "# metric_trees <- \n",
    "#   vancouver_trees %>% \n",
    "#   ...(...)\n",
    "    \n",
    "# your code here\n",
    "fail() # No Answer - remove if you provide an answer\n",
    "\n",
    "head(metric_trees)"
   ]
  },
  {
   "cell_type": "code",
   "execution_count": null,
   "metadata": {
    "deletable": false,
    "editable": false,
    "nbgrader": {
     "cell_type": "code",
     "checksum": "7f0283bb01aa4fe160f37cb362f81c6d",
     "grade": true,
     "grade_id": "cell-3a2ddc8b634c2813",
     "locked": true,
     "points": 1,
     "schema_version": 3,
     "solution": false,
     "task": false
    }
   },
   "outputs": [],
   "source": [
    "test_1.4()"
   ]
  },
  {
   "cell_type": "markdown",
   "metadata": {
    "deletable": false,
    "editable": false,
    "nbgrader": {
     "cell_type": "markdown",
     "checksum": "aeea5be3434ce97acfd33dca7fc4b545",
     "grade": false,
     "grade_id": "cell-b49ca4759a087710",
     "locked": true,
     "schema_version": 3,
     "solution": false,
     "task": false
    }
   },
   "source": [
    "## 2. Acer (Maple) Trees\n",
    "\n",
    "First, we will look at the population of `ACER` trees planted along the streets in Vancouver. The `ACER` genus (or family) of trees are commonly referred to as maple trees, and there are 31 different species currently planted throughout the city. Maple trees are pretty popular along streets in Vancouver, making up around 25% of the entire population. They are well known for their bright shades of red, orange, and yellow during the fall and for the appearance of a maple leaf on the Canadian flag.\n",
    "\n",
    "<br> \n",
    "\n",
    "<div style=\"text-align: center;\">\n",
    "    <img src='https://images.unsplash.com/photo-1568219273311-8616c622bc44?ixlib=rb-1.2.1&ixid=eyJhcHBfaWQiOjEyMDd9&auto=format&fit=crop&w=1650&q=80' width=500/>\n",
    "    <br>\n",
    "    <i>Photo by <a href=\"https://media2.giphy.com/media/kiu8isFXsj1yqVBAOv/giphy.gif?cid=ecf05e4755256f4e6c94108bd7031859932bed37b115ca3a&rid=giphy.gif\">Cindy Martin</a> on <a href=\"https://unsplash.com/?utm_source=unsplash&utm_medium=referral&utm_content=creditCopyText\">Unsplash</a></i>\n",
    "</div>\n",
    "\n",
    "<br>\n",
    "\n",
    "For this section, we are interested in exploring the distribution and sampling distribution of **sample means** for the `diameter` of the trees in our population of street maple trees. Recall that the **mean** is the sum of all observations of a variable divided by the total number of observations. It measures the centre of a distribution and is an example of a population parameter."
   ]
  },
  {
   "cell_type": "markdown",
   "metadata": {
    "deletable": false,
    "editable": false,
    "nbgrader": {
     "cell_type": "markdown",
     "checksum": "654e770d4ab64073dd57ab15e94a0e4c",
     "grade": false,
     "grade_id": "cell-a3d7f015bc5221f0",
     "locked": true,
     "schema_version": 3,
     "solution": false,
     "task": false
    }
   },
   "source": [
    "**Question 2.0** \n",
    "<br> {points: 1}\n",
    "\n",
    "Filter the `metric_trees` data set for the population of interest (`ACER` genus of street trees) and select the characteristic we will work with (`diameter`). Your resulting data frame should have a single column.\n",
    "\n",
    "_Assign your data frame to an object called `acer_pop`._"
   ]
  },
  {
   "cell_type": "code",
   "execution_count": null,
   "metadata": {
    "deletable": false,
    "nbgrader": {
     "cell_type": "code",
     "checksum": "6d091370acc5bc37302d58c752e63bda",
     "grade": false,
     "grade_id": "cell-7476bada5c340ebd",
     "locked": false,
     "schema_version": 3,
     "solution": true,
     "task": false
    }
   },
   "outputs": [],
   "source": [
    "# acer_pop <- \n",
    "#    ... %>% \n",
    "#    ...(genus_name == ...) %>% \n",
    "#    select(...)\n",
    "\n",
    "# your code here\n",
    "fail() # No Answer - remove if you provide an answer\n",
    "\n",
    "head(acer_pop)"
   ]
  },
  {
   "cell_type": "code",
   "execution_count": null,
   "metadata": {
    "deletable": false,
    "editable": false,
    "nbgrader": {
     "cell_type": "code",
     "checksum": "8dd2de1a9b4fca27d0d662e145a9380f",
     "grade": true,
     "grade_id": "cell-f2420a005fdbb5e5",
     "locked": true,
     "points": 1,
     "schema_version": 3,
     "solution": false,
     "task": false
    }
   },
   "outputs": [],
   "source": [
    "test_2.0()"
   ]
  },
  {
   "cell_type": "markdown",
   "metadata": {
    "deletable": false,
    "editable": false,
    "nbgrader": {
     "cell_type": "markdown",
     "checksum": "e855df30fbcde3fe560763de8aa10686",
     "grade": false,
     "grade_id": "cell-2fd3f213e3257905",
     "locked": true,
     "schema_version": 3,
     "solution": false,
     "task": false
    }
   },
   "source": [
    "**Question 2.1**\n",
    "<br> {points: 1}\n",
    "\n",
    "Visualize the distribution of the population of interest (`acer_pop`) by plotting a histogram of `diameter` with bin widths of 16 using `geom_histogram`. Add a title to the plot using `ggtitle` and ensure your axes' labels are descriptive and human-readable.\n",
    "\n",
    "_Assign your plot to an object called `acer_pop_dist`._"
   ]
  },
  {
   "cell_type": "code",
   "execution_count": null,
   "metadata": {
    "deletable": false,
    "nbgrader": {
     "cell_type": "code",
     "checksum": "c008f8174aec190e0624e591501d1df4",
     "grade": false,
     "grade_id": "cell-f6a48f1161bf902f",
     "locked": false,
     "schema_version": 3,
     "solution": true,
     "task": false
    }
   },
   "outputs": [],
   "source": [
    "# acer_pop_dist <- \n",
    "#    ... %>% \n",
    "#    ggplot(aes(x = ...)) +\n",
    "#    ...(... = ..., color='white') +\n",
    "#    ...(\"Distribution of Acer Tree Diameters\") +\n",
    "#    xlab(...)\n",
    "\n",
    "# your code here\n",
    "fail() # No Answer - remove if you provide an answer\n",
    "\n",
    "acer_pop_dist"
   ]
  },
  {
   "cell_type": "code",
   "execution_count": null,
   "metadata": {
    "deletable": false,
    "editable": false,
    "nbgrader": {
     "cell_type": "code",
     "checksum": "0f8f7b7bfe52b340d7dc6657b8707e77",
     "grade": true,
     "grade_id": "cell-16cc219cc886014d",
     "locked": true,
     "points": 1,
     "schema_version": 3,
     "solution": false,
     "task": false
    }
   },
   "outputs": [],
   "source": [
    "test_2.1()"
   ]
  },
  {
   "cell_type": "markdown",
   "metadata": {
    "deletable": false,
    "editable": false,
    "nbgrader": {
     "cell_type": "markdown",
     "checksum": "368c761ac71338e650beffb4b055e6e2",
     "grade": false,
     "grade_id": "cell-2e0e29d3619802cc",
     "locked": true,
     "schema_version": 3,
     "solution": false,
     "task": false
    }
   },
   "source": [
    "**Question 2.2**\n",
    "<br>{points: 1}\n",
    "\n",
    "True or false?\n",
    "\n",
    "The population distribution is approximately bell-shaped.\n",
    "\n",
    "_Assign your answer to an object called `answer2.2`. Your answer should be either \"true\" or \"false\", surrounded by quotes._"
   ]
  },
  {
   "cell_type": "code",
   "execution_count": null,
   "metadata": {
    "deletable": false,
    "nbgrader": {
     "cell_type": "code",
     "checksum": "1b04402366964e5614ab52f82924a20b",
     "grade": false,
     "grade_id": "cell-1801a022e149d67e",
     "locked": false,
     "schema_version": 3,
     "solution": true,
     "task": false
    }
   },
   "outputs": [],
   "source": [
    "# answer2.2 <- ...\n",
    "\n",
    "# your code here\n",
    "fail() # No Answer - remove if you provide an answer"
   ]
  },
  {
   "cell_type": "code",
   "execution_count": null,
   "metadata": {
    "deletable": false,
    "editable": false,
    "nbgrader": {
     "cell_type": "code",
     "checksum": "bb5f573d4e3ec49dbc1a2e940f55464c",
     "grade": true,
     "grade_id": "cell-de09eb8a780565d8",
     "locked": true,
     "points": 1,
     "schema_version": 3,
     "solution": false,
     "task": false
    }
   },
   "outputs": [],
   "source": [
    "test_2.2()"
   ]
  },
  {
   "cell_type": "markdown",
   "metadata": {
    "deletable": false,
    "editable": false,
    "nbgrader": {
     "cell_type": "markdown",
     "checksum": "ae7540cba4d5c2e5ccbeb86131e0dd7d",
     "grade": false,
     "grade_id": "cell-236d6d86fdc60662",
     "locked": true,
     "schema_version": 3,
     "solution": false,
     "task": false
    }
   },
   "source": [
    "**Question 2.3** \n",
    "<br> {points: 1}\n",
    "\n",
    "Take `1500` samples of size `70` from the population `acer_pop` using `rep_sample_n()` and a seed of `9558`. Then, calculate each sample's mean diameter (labelled by the `replicate` column). Your final data frame should have the columns `replicate` and `sample_mean`.\n",
    "\n",
    "_Assign your data frame to an object called `acer_estimates`._"
   ]
  },
  {
   "cell_type": "code",
   "execution_count": null,
   "metadata": {
    "deletable": false,
    "nbgrader": {
     "cell_type": "code",
     "checksum": "5e1f158e2d8893d314c640094ed8d6f5",
     "grade": false,
     "grade_id": "cell-21dc622dbfa804fb",
     "locked": false,
     "schema_version": 3,
     "solution": true,
     "task": false
    }
   },
   "outputs": [],
   "source": [
    "set.seed(9558) # DO NOT CHANGE!\n",
    "\n",
    "# acer_estimates <- \n",
    "#    ... %>% \n",
    "#    ...(... = 70, reps = ...) %>% \n",
    "#    ...(replicate) %>% \n",
    "#    summarize(sample_mean = ...)\n",
    "\n",
    "# your code here\n",
    "fail() # No Answer - remove if you provide an answer\n",
    "\n",
    "head(acer_estimates)"
   ]
  },
  {
   "cell_type": "code",
   "execution_count": null,
   "metadata": {
    "deletable": false,
    "editable": false,
    "nbgrader": {
     "cell_type": "code",
     "checksum": "7f392659b7308d67ec857b259ed4712b",
     "grade": true,
     "grade_id": "cell-908e2a05d48668e0",
     "locked": true,
     "points": 1,
     "schema_version": 3,
     "solution": false,
     "task": false
    }
   },
   "outputs": [],
   "source": [
    "test_2.3()"
   ]
  },
  {
   "cell_type": "markdown",
   "metadata": {
    "deletable": false,
    "editable": false,
    "nbgrader": {
     "cell_type": "markdown",
     "checksum": "92072388fbee3e35aba4286408cb71f1",
     "grade": false,
     "grade_id": "cell-6e317a18e89adfa1",
     "locked": true,
     "schema_version": 3,
     "solution": false,
     "task": false
    }
   },
   "source": [
    "**Question 2.4**\n",
    "<br> {points: 1}\n",
    "\n",
    "Visualize the distribution of the sample means (`acer_estimates`) by plotting a histogram with bin widths of 1 using `geom_histogram`. Add a title to the plot using `ggtitle` and ensure the x-axis has a descriptive and human-readable label.\n",
    "\n",
    "_Assign your plot to an object called `acer_sampling_dist`._"
   ]
  },
  {
   "cell_type": "code",
   "execution_count": null,
   "metadata": {
    "deletable": false,
    "nbgrader": {
     "cell_type": "code",
     "checksum": "c6980afe08158191206e9d2eaaa955a4",
     "grade": false,
     "grade_id": "cell-2c04c0bca3ee66b9",
     "locked": false,
     "schema_version": 3,
     "solution": true,
     "task": false
    }
   },
   "outputs": [],
   "source": [
    "# acer_sampling_dist <- \n",
    "#    ... %>% \n",
    "#    ggplot(aes(x = ...)) + \n",
    "#    ...(... = ..., color='white') +\n",
    "#    ...(\"Sampling Distribution of Sample Means\") +\n",
    "#    xlab(\"...\")\n",
    "\n",
    "# your code here\n",
    "fail() # No Answer - remove if you provide an answer\n",
    "\n",
    "acer_sampling_dist"
   ]
  },
  {
   "cell_type": "code",
   "execution_count": null,
   "metadata": {
    "deletable": false,
    "editable": false,
    "nbgrader": {
     "cell_type": "code",
     "checksum": "04b5be61bfa89b797683c8195b18f2b4",
     "grade": true,
     "grade_id": "cell-00594abf7caee154",
     "locked": true,
     "points": 1,
     "schema_version": 3,
     "solution": false,
     "task": false
    }
   },
   "outputs": [],
   "source": [
    "test_2.4()"
   ]
  },
  {
   "cell_type": "markdown",
   "metadata": {
    "deletable": false,
    "editable": false,
    "nbgrader": {
     "cell_type": "markdown",
     "checksum": "b7e3133e1ea3c3487cf308a8b0b845c4",
     "grade": false,
     "grade_id": "cell-3dc3a35a1df90d16",
     "locked": true,
     "schema_version": 3,
     "solution": false,
     "task": false
    }
   },
   "source": [
    "**Question 2.5**\n",
    "<br>{points: 1}\n",
    "\n",
    "Which of the following statements about the sampling distribution above is true?\n",
    "\n",
    "A. We would normally estimate the mean of a population by using the mean of the sampling distribution.\n",
    "\n",
    "B. The median of the population is very close to the median of the sampling distribution.\n",
    "\n",
    "C. The population's mean is very close to the mean of the sampling distribution.\n",
    "\n",
    "D. The sampling distribution is of a similar shape to the population distribution.\n",
    "\n",
    "_Assign your answer to an object called `answer2.5`. Your answer should be a single character surrounded by quotes._"
   ]
  },
  {
   "cell_type": "code",
   "execution_count": null,
   "metadata": {
    "deletable": false,
    "nbgrader": {
     "cell_type": "code",
     "checksum": "744d96a59c46f7b545459fd658f6244f",
     "grade": false,
     "grade_id": "cell-ae0bd451eaea77d5",
     "locked": false,
     "schema_version": 3,
     "solution": true,
     "task": false
    }
   },
   "outputs": [],
   "source": [
    "# answer2.5 <- ...\n",
    "\n",
    "# your code here\n",
    "fail() # No Answer - remove if you provide an answer"
   ]
  },
  {
   "cell_type": "code",
   "execution_count": null,
   "metadata": {
    "deletable": false,
    "editable": false,
    "nbgrader": {
     "cell_type": "code",
     "checksum": "9cafb58a2229086d6ef0086076e052b1",
     "grade": true,
     "grade_id": "cell-148ad5e2ea3d650c",
     "locked": true,
     "points": 1,
     "schema_version": 3,
     "solution": false,
     "task": false
    }
   },
   "outputs": [],
   "source": [
    "test_2.5()"
   ]
  },
  {
   "cell_type": "markdown",
   "metadata": {
    "deletable": false,
    "editable": false,
    "nbgrader": {
     "cell_type": "markdown",
     "checksum": "7c3491ff09ee066fe55965544c654705",
     "grade": false,
     "grade_id": "cell-60ac18111e102ca2",
     "locked": true,
     "schema_version": 3,
     "solution": false,
     "task": false
    }
   },
   "source": [
    "## 3. Pissard Plum Trees\n",
    "\n",
    "Next, we will explore the population of Vancouver street trees with the common name `PISSARD PLUM`. These trees are a plum tree family member, often confused with cherry trees while flowering. Unlike the last part, here we are looking at a particular cultivar (cultivated variety) of trees rather than an entire family. The `PISSARD PLUM` cultivar is the second most popular cultivar along boulevards in Vancouver, making up around 6% of the total population.\n",
    "\n",
    "<br>\n",
    "<div style=\"text-align: center\">\n",
    "    <img src=\"https://landscapeplants.oregonstate.edu/sites/plantid7/files/plantimage/prcea2847.jpg\" width=500>\n",
    "    <br>\n",
    "    <i>Image courtesy of <a href=\"https://landscapeplants.oregonstate.edu/plants/prunus-cerasifera-atropurpurea\">OSU, College of Agricultural Sciences - Department of Horticulture</i></a>\n",
    "</div>\n",
    "<br>\n",
    "\n",
    "For this section, we are interested in the sampling distribution of the **sample medians** for the `diameter` of these trees. Recall that the **median** is the middle observation of a sorted variable's data. Like the mean, it measures the centre of a distribution and is another example of a population parameter."
   ]
  },
  {
   "cell_type": "markdown",
   "metadata": {
    "deletable": false,
    "editable": false,
    "nbgrader": {
     "cell_type": "markdown",
     "checksum": "c556e2a190e5179528abd3e8c078445c",
     "grade": false,
     "grade_id": "cell-187988a9986e81c6",
     "locked": true,
     "schema_version": 3,
     "solution": false,
     "task": false
    }
   },
   "source": [
    "**Question 3.0** \n",
    "<br> {points: 1}\n",
    "\n",
    "Filter the `metric_trees` data set for the population of interest (trees with a common name of `PISSARD PLUM`) and select the characteristic we will work with (`diameter`). Your resulting data frame should have a single column.\n",
    "\n",
    "_Assign your data frame to an object called `plum_pop`._"
   ]
  },
  {
   "cell_type": "code",
   "execution_count": null,
   "metadata": {
    "deletable": false,
    "nbgrader": {
     "cell_type": "code",
     "checksum": "48062ec67d09ed3a641ee46d89a3f09e",
     "grade": false,
     "grade_id": "cell-68262760c9425c19",
     "locked": false,
     "schema_version": 3,
     "solution": true,
     "task": false
    }
   },
   "outputs": [],
   "source": [
    "# your code here\n",
    "fail() # No Answer - remove if you provide an answer\n",
    "\n",
    "head(plum_pop)"
   ]
  },
  {
   "cell_type": "code",
   "execution_count": null,
   "metadata": {
    "deletable": false,
    "editable": false,
    "nbgrader": {
     "cell_type": "code",
     "checksum": "5cc073aaf99cabe367b6569ae2db79e6",
     "grade": true,
     "grade_id": "cell-aebc3cae40aa17db",
     "locked": true,
     "points": 1,
     "schema_version": 3,
     "solution": false,
     "task": false
    }
   },
   "outputs": [],
   "source": [
    "test_3.0()"
   ]
  },
  {
   "cell_type": "markdown",
   "metadata": {
    "deletable": false,
    "editable": false,
    "nbgrader": {
     "cell_type": "markdown",
     "checksum": "0647771ed68e092f43a8f1a017e15004",
     "grade": false,
     "grade_id": "cell-3d0bc0c9dcb36fc5",
     "locked": true,
     "schema_version": 3,
     "solution": false,
     "task": false
    }
   },
   "source": [
    "**Question 3.1**\n",
    "<br> {points: 1}\n",
    "\n",
    "Visualize the distribution of `diameter` of the population `plum_pop` by plotting a histogram with bin widths of 8 using `geom_histogram`. Add a title to the plot using `ggtitle` and ensure your axes' labels are descriptive and human-readable.\n",
    "\n",
    "_Assign your plot to an object called `plum_pop_dist`._"
   ]
  },
  {
   "cell_type": "code",
   "execution_count": null,
   "metadata": {
    "deletable": false,
    "nbgrader": {
     "cell_type": "code",
     "checksum": "1a24f54cbeb8c5c0b3f9daaa7601d5b2",
     "grade": false,
     "grade_id": "cell-9e5c9136e312f856",
     "locked": false,
     "schema_version": 3,
     "solution": true,
     "task": false
    }
   },
   "outputs": [],
   "source": [
    "# your code here\n",
    "fail() # No Answer - remove if you provide an answer\n",
    "\n",
    "plum_pop_dist"
   ]
  },
  {
   "cell_type": "code",
   "execution_count": null,
   "metadata": {
    "deletable": false,
    "editable": false,
    "nbgrader": {
     "cell_type": "code",
     "checksum": "a44636d68100db686fdfde9a403748de",
     "grade": true,
     "grade_id": "cell-fc39d9461d6d86e3",
     "locked": true,
     "points": 1,
     "schema_version": 3,
     "solution": false,
     "task": false
    }
   },
   "outputs": [],
   "source": [
    "test_3.1()"
   ]
  },
  {
   "cell_type": "markdown",
   "metadata": {
    "deletable": false,
    "editable": false,
    "nbgrader": {
     "cell_type": "markdown",
     "checksum": "aac25cd52fdefb41088797db7fdc9174",
     "grade": false,
     "grade_id": "cell-98f3a2b6ee894a1d",
     "locked": true,
     "schema_version": 3,
     "solution": false,
     "task": false
    }
   },
   "source": [
    "**Question 3.2**\n",
    "<br> {points: 3}\n",
    "\n",
    "Given the population distribution you visualized in the previous question, what can we say about the distribution's shape and the population's median?"
   ]
  },
  {
   "cell_type": "markdown",
   "metadata": {
    "deletable": false,
    "nbgrader": {
     "cell_type": "markdown",
     "checksum": "5a803d0c1d46a72869bc97b1ec21e70a",
     "grade": true,
     "grade_id": "cell-04d61df14296700a",
     "locked": false,
     "points": 3,
     "schema_version": 3,
     "solution": true,
     "task": false
    }
   },
   "source": [
    "DOUBLE CLICK TO EDIT **THIS CELL** AND REPLACE THIS TEXT WITH YOUR ANSWER."
   ]
  },
  {
   "cell_type": "markdown",
   "metadata": {
    "deletable": false,
    "editable": false,
    "nbgrader": {
     "cell_type": "markdown",
     "checksum": "854ba2bb701c00a6fb1c34656ea9235e",
     "grade": false,
     "grade_id": "cell-4f2eaedddf57c496",
     "locked": true,
     "schema_version": 3,
     "solution": false,
     "task": false
    }
   },
   "source": [
    "**Question 3.3**\n",
    "<br> {points: 1}\n",
    "\n",
    "Take `1500` samples of size `50` from the population `plum_pop` using `rep_sample_n()` and a seed of `8905`. Then, calculate each sample's median (labelled by the `replicate` column). Your final data frame should have the columns `replicate` and `sample_median`.\n",
    "\n",
    "_Assign your data frame to an object called `plum_estimates`._"
   ]
  },
  {
   "cell_type": "code",
   "execution_count": null,
   "metadata": {
    "deletable": false,
    "nbgrader": {
     "cell_type": "code",
     "checksum": "826e8fe9819d3001d97ffd4ad0fb8a32",
     "grade": false,
     "grade_id": "cell-1c4e2cb0a1fd320b",
     "locked": false,
     "schema_version": 3,
     "solution": true,
     "task": false
    }
   },
   "outputs": [],
   "source": [
    "set.seed(8905) # DO NOT CHANGE!\n",
    "# your code here\n",
    "fail() # No Answer - remove if you provide an answer\n",
    "\n",
    "head(plum_estimates)"
   ]
  },
  {
   "cell_type": "code",
   "execution_count": null,
   "metadata": {
    "deletable": false,
    "editable": false,
    "nbgrader": {
     "cell_type": "code",
     "checksum": "145552ace3a3328346acf98202c71de5",
     "grade": true,
     "grade_id": "cell-6f3c51616064e661",
     "locked": true,
     "points": 1,
     "schema_version": 3,
     "solution": false,
     "task": false
    }
   },
   "outputs": [],
   "source": [
    "test_3.3()"
   ]
  },
  {
   "cell_type": "markdown",
   "metadata": {
    "deletable": false,
    "editable": false,
    "nbgrader": {
     "cell_type": "markdown",
     "checksum": "86fc0a7ce7ae4d50c40a4aff93f68b92",
     "grade": false,
     "grade_id": "cell-e8a263f0dfd8f3e0",
     "locked": true,
     "schema_version": 3,
     "solution": false,
     "task": false
    }
   },
   "source": [
    "**Question 3.4** \n",
    "<br> {points: 1}\n",
    "\n",
    "Visualize the distribution of the sample medians (`plum_estimates`) by plotting a histogram with bin widths of 1 using `geom_histogram`. Add a title to the plot using `ggtitle` and ensure the x-axis has a descriptive and human-readable label.\n",
    "\n",
    "_Assign your plot to an object called `plum_sampling_dist`._"
   ]
  },
  {
   "cell_type": "code",
   "execution_count": null,
   "metadata": {
    "deletable": false,
    "nbgrader": {
     "cell_type": "code",
     "checksum": "59c1380be4d1c8752aeaa06cbe333db5",
     "grade": false,
     "grade_id": "cell-7492c512df8dbcb0",
     "locked": false,
     "schema_version": 3,
     "solution": true,
     "task": false
    }
   },
   "outputs": [],
   "source": [
    "# your code here\n",
    "fail() # No Answer - remove if you provide an answer\n",
    "\n",
    "plum_sampling_dist"
   ]
  },
  {
   "cell_type": "code",
   "execution_count": null,
   "metadata": {
    "deletable": false,
    "editable": false,
    "nbgrader": {
     "cell_type": "code",
     "checksum": "11217e4dc4923875fb02363a375c2622",
     "grade": true,
     "grade_id": "cell-e59510fa876db9df",
     "locked": true,
     "points": 1,
     "schema_version": 3,
     "solution": false,
     "task": false
    }
   },
   "outputs": [],
   "source": [
    "test_3.4()"
   ]
  },
  {
   "cell_type": "markdown",
   "metadata": {
    "deletable": false,
    "editable": false,
    "nbgrader": {
     "cell_type": "markdown",
     "checksum": "b5471b400975d9bec8e66e83c49ff4fb",
     "grade": false,
     "grade_id": "cell-d2b43c7f4f2b7742",
     "locked": true,
     "schema_version": 3,
     "solution": false,
     "task": false
    }
   },
   "source": [
    "**Question 3.5**\n",
    "<br> {points: 3}\n",
    "\n",
    "Suppose you took a single random sample of the diameter of 50 Pissard Plum trees from public streets in Vancouver and calculated the sample's median as a point estimate. What values would you realistically obtain: between 10 and 60 cm, or between 30 and 40 cm? Justify your response in 1-2 brief sentences."
   ]
  },
  {
   "cell_type": "markdown",
   "metadata": {
    "deletable": false,
    "nbgrader": {
     "cell_type": "markdown",
     "checksum": "dc34e2e7ac0a655b41b34a9cd0dc7ab2",
     "grade": true,
     "grade_id": "cell-ddb2e5de686983dd",
     "locked": false,
     "points": 3,
     "schema_version": 3,
     "solution": true,
     "task": false
    }
   },
   "source": [
    "DOUBLE CLICK TO EDIT **THIS CELL** AND REPLACE THIS TEXT WITH YOUR ANSWER."
   ]
  },
  {
   "cell_type": "markdown",
   "metadata": {
    "deletable": false,
    "editable": false,
    "nbgrader": {
     "cell_type": "markdown",
     "checksum": "030ea8e4a70079b051b944c65d93c7b2",
     "grade": false,
     "grade_id": "cell-69d004581c02fb35",
     "locked": true,
     "schema_version": 3,
     "solution": false,
     "task": false
    }
   },
   "source": [
    "## 4. Random Variables\n",
    "\n",
    "Since we are going to be working with populations and sampling quite extensively throughout this course, we are now going to introduce the concept of a random variable so we can describe them a bit more formally. First, let's answer a few general questions relating to random variables, and then we will connect them to our understanding of populations and sampling."
   ]
  },
  {
   "cell_type": "markdown",
   "metadata": {
    "deletable": false,
    "editable": false,
    "nbgrader": {
     "cell_type": "markdown",
     "checksum": "170f05b6634450fce30d11e7182d8f7a",
     "grade": false,
     "grade_id": "cell-96870acb43f4e8b9",
     "locked": true,
     "schema_version": 3,
     "solution": false,
     "task": false
    }
   },
   "source": [
    "**Question 4.0**\n",
    "<br>{points: 1}\n",
    "\n",
    "Which of the following examples could **not** be described as a random variable?\n",
    "\n",
    "A. The number of windows in the Earth Sciences Building (ESB).\n",
    "\n",
    "B. The number of students in the Earth Sciences Building (ESB) in an hour from now.\n",
    "\n",
    "C. The result of rolling a 6-sided die.\n",
    "\n",
    "D. The result of a coin flip.\n",
    "\n",
    "_Assign your answer to an object called `answer4.0`. Your answer should be a single character surrounded by quotes._"
   ]
  },
  {
   "cell_type": "code",
   "execution_count": null,
   "metadata": {
    "deletable": false,
    "nbgrader": {
     "cell_type": "code",
     "checksum": "46416b5d6cdbd9853bbbac2476740c2e",
     "grade": false,
     "grade_id": "cell-caca1ca1f51bdc6b",
     "locked": false,
     "schema_version": 3,
     "solution": true,
     "task": false
    }
   },
   "outputs": [],
   "source": [
    "# answer4.0 <- ...\n",
    "\n",
    "# your code here\n",
    "fail() # No Answer - remove if you provide an answer"
   ]
  },
  {
   "cell_type": "code",
   "execution_count": null,
   "metadata": {
    "deletable": false,
    "editable": false,
    "nbgrader": {
     "cell_type": "code",
     "checksum": "18220a2b2476636de3749c9a313e2df0",
     "grade": true,
     "grade_id": "cell-2975f3b1cd2eb6c4",
     "locked": true,
     "points": 0,
     "schema_version": 3,
     "solution": false,
     "task": false
    }
   },
   "outputs": [],
   "source": [
    "test_4.0()"
   ]
  },
  {
   "cell_type": "markdown",
   "metadata": {
    "deletable": false,
    "editable": false,
    "nbgrader": {
     "cell_type": "markdown",
     "checksum": "a3d05d5355d3bd5247056c510e9f180c",
     "grade": false,
     "grade_id": "cell-52669c282a889350",
     "locked": true,
     "schema_version": 3,
     "solution": false,
     "task": false
    }
   },
   "source": [
    "_Use the following information to answer the **next 2 questions**._\n",
    "\n",
    "Consider the population of cars owned by UBC students and assume there are exactly $3000$ of these cars. Suppose we had access to up-to-date data for the age (in years, rounded down to the nearest integer), horsepower (HP), and the number of doors for each of the $3000$ cars (we have access to data for the entire population). The first few rows of the data frame representing the population might look something like this\n",
    "\n",
    "\n",
    "| age | horsepower | doors |\n",
    "|-----|------------|-------|\n",
    "| 7   | 127        | 4     |\n",
    "| 9   | 310        | 4     |\n",
    "| 5   | 140        | 2     |\n",
    "| 5   | 132        | 2     |\n",
    "| ... | ...        | ...   |\n",
    "\n",
    "with $2996$ more rows."
   ]
  },
  {
   "cell_type": "markdown",
   "metadata": {
    "deletable": false,
    "editable": false,
    "nbgrader": {
     "cell_type": "markdown",
     "checksum": "25c00f444bc9664d85bb3e326f29a076",
     "grade": false,
     "grade_id": "cell-4a62cb59552694c2",
     "locked": true,
     "schema_version": 3,
     "solution": false,
     "task": false
    }
   },
   "source": [
    "**Question 4.1**\n",
    "<br>{points: 1}\n",
    "\n",
    "Convince yourself that the age of a single UBC student's car is a random variable (the distribution of the random variable can be visualized as a histogram of all of the car ages in the population). Call it $X$. Which of the following statements best describes the meaning of the `age` column of the data frame in relation to the random variable $X$?\n",
    "\n",
    "A. The `age` column is an outcome of $X$.\n",
    "\n",
    "B. The `age` column is a sample of $3000$ different outcomes of $X$.\n",
    "\n",
    "C. The `age` column is the collection of all possible outcomes of $X$.\n",
    "\n",
    "_Assign your answer to an object called `answer4.1`. Your answer should be a single character surrounded by quotes._"
   ]
  },
  {
   "cell_type": "code",
   "execution_count": null,
   "metadata": {
    "deletable": false,
    "nbgrader": {
     "cell_type": "code",
     "checksum": "182de00741cd8acd850e73e465d1ad5f",
     "grade": false,
     "grade_id": "cell-9881d6f54de83c12",
     "locked": false,
     "schema_version": 3,
     "solution": true,
     "task": false
    }
   },
   "outputs": [],
   "source": [
    "# answer4.1 <- ...\n",
    "\n",
    "# your code here\n",
    "fail() # No Answer - remove if you provide an answer"
   ]
  },
  {
   "cell_type": "code",
   "execution_count": null,
   "metadata": {
    "deletable": false,
    "editable": false,
    "nbgrader": {
     "cell_type": "code",
     "checksum": "e60957a65308b61c27f877af7fa1600d",
     "grade": true,
     "grade_id": "cell-8d8fbbbba420afb9",
     "locked": true,
     "points": 1,
     "schema_version": 3,
     "solution": false,
     "task": false
    }
   },
   "outputs": [],
   "source": [
    "test_4.1()"
   ]
  },
  {
   "cell_type": "markdown",
   "metadata": {
    "deletable": false,
    "editable": false,
    "nbgrader": {
     "cell_type": "markdown",
     "checksum": "201677855b0bac4875065aae8debb595",
     "grade": false,
     "grade_id": "cell-af84de35225c6a0d",
     "locked": true,
     "schema_version": 3,
     "solution": false,
     "task": false
    }
   },
   "source": [
    "**Question 4.2**\n",
    "<br>{points: 1}\n",
    "\n",
    "Suppose we choose a single car from the population (the data frame above) using `rep_sample_n(size = 1)` and it has the following characteristics:\n",
    "\n",
    "| age | horsepower | doors |\n",
    "|-----|------------|-------|\n",
    "| 2   | 156        | 2     |\n",
    "\n",
    "True or false?\n",
    "\n",
    "The number of doors on this car (2) can be considered an outcome of a random variable.\n",
    "\n",
    "_Assign your answer to an object called `answer4.2`. Your answer should be either \"true\" or \"false\", surrounded by quotes._"
   ]
  },
  {
   "cell_type": "code",
   "execution_count": null,
   "metadata": {
    "deletable": false,
    "nbgrader": {
     "cell_type": "code",
     "checksum": "25c0c20a794a581ddd7c7c1817fd9cdf",
     "grade": false,
     "grade_id": "cell-601a51d473b0d8ef",
     "locked": false,
     "schema_version": 3,
     "solution": true,
     "task": false
    }
   },
   "outputs": [],
   "source": [
    "# answer4.2 <- ...\n",
    "\n",
    "# your code here\n",
    "fail() # No Answer - remove if you provide an answer"
   ]
  },
  {
   "cell_type": "code",
   "execution_count": null,
   "metadata": {
    "deletable": false,
    "editable": false,
    "nbgrader": {
     "cell_type": "code",
     "checksum": "f1beb47c3aa8185edcaadc755ebe935b",
     "grade": true,
     "grade_id": "cell-a0d53a43b9baa31e",
     "locked": true,
     "points": 1,
     "schema_version": 3,
     "solution": false,
     "task": false
    }
   },
   "outputs": [],
   "source": [
    "test_4.2()"
   ]
  },
  {
   "cell_type": "markdown",
   "metadata": {
    "deletable": false,
    "editable": false,
    "nbgrader": {
     "cell_type": "markdown",
     "checksum": "eec887a1a45352acecd25b210df715c2",
     "grade": false,
     "grade_id": "cell-ec6e5b3b0d856c6a",
     "locked": true,
     "schema_version": 3,
     "solution": false,
     "task": false
    }
   },
   "source": [
    "**Question 4.3**\n",
    "<br>{points: 3}\n",
    "\n",
    "Which of the following variables related to populations and sampling is an example of a random variable?\n",
    "\n",
    "A. The mean of a population.\n",
    "\n",
    "B. The mean of a random sample from a population.\n",
    "\n",
    "C. The number of individuals in a population.\n",
    "\n",
    "D. The number of individuals in a random sample from a population.\n",
    "\n",
    "_Assign your answer to an object called `answer4.3`. Your answer should be a single character surrounded by quotes._"
   ]
  },
  {
   "cell_type": "code",
   "execution_count": null,
   "metadata": {
    "deletable": false,
    "nbgrader": {
     "cell_type": "code",
     "checksum": "f0dcc2d750531cb873a2390dd90ce723",
     "grade": false,
     "grade_id": "cell-851832733516e7f8",
     "locked": false,
     "schema_version": 3,
     "solution": true,
     "task": false
    }
   },
   "outputs": [],
   "source": [
    "# answer4.3 <- ...\n",
    "\n",
    "# your code here\n",
    "fail() # No Answer - remove if you provide an answer"
   ]
  },
  {
   "cell_type": "code",
   "execution_count": null,
   "metadata": {
    "deletable": false,
    "editable": false,
    "nbgrader": {
     "cell_type": "code",
     "checksum": "ae1a2292163ec3fd54639a67bcac9237",
     "grade": true,
     "grade_id": "cell-6f972ad56f889117",
     "locked": true,
     "points": 3,
     "schema_version": 3,
     "solution": false,
     "task": false
    }
   },
   "outputs": [],
   "source": [
    "# Here we check to see if you have given your answer the correct object name\n",
    "# and if your answer is plausible. However, all other tests have been hidden\n",
    "# so you can practice deciding when you have the correct answer.\n",
    "test_that('Did not assign answer to an object called \"answer4.3\"', {\n",
    "    expect_true(exists(\"answer4.3\"))\n",
    "})\n",
    "  \n",
    "test_that('Solution should be a single character (\"A\", \"B\", \"C\", or \"D\")', {\n",
    "    expect_match(answer4.3, \"a|b|c|d\", ignore.case = TRUE)\n",
    "})\n",
    "\n"
   ]
  },
  {
   "cell_type": "markdown",
   "metadata": {
    "deletable": false,
    "editable": false,
    "nbgrader": {
     "cell_type": "markdown",
     "checksum": "3e5fcdc0e0cea2abaa5b01962d070485",
     "grade": false,
     "grade_id": "cell-b571aa4b21fd46d0",
     "locked": true,
     "schema_version": 3,
     "solution": false,
     "task": false
    }
   },
   "source": [
    "**Question 4.4**\n",
    "<br>{points: 3}\n",
    "\n",
    "True or false?\n",
    "\n",
    "Given that an \"estimator\" is a random variable whose distribution is the sampling distribution for a population paramater, a point estimate is an observation of a random variable.\n",
    "\n",
    "_Assign your answer to an object called `answer4.4`. Your answer should be either `\"true\"` or `\"false\"`._"
   ]
  },
  {
   "cell_type": "code",
   "execution_count": null,
   "metadata": {
    "deletable": false,
    "nbgrader": {
     "cell_type": "code",
     "checksum": "7f89b2fd92af41574fc9a76ad819bcc4",
     "grade": false,
     "grade_id": "cell-f25e9214a2023843",
     "locked": false,
     "schema_version": 3,
     "solution": true,
     "task": false
    }
   },
   "outputs": [],
   "source": [
    "# answer4.4 <- ...\n",
    "\n",
    "# your code here\n",
    "fail() # No Answer - remove if you provide an answer"
   ]
  },
  {
   "cell_type": "code",
   "execution_count": null,
   "metadata": {
    "deletable": false,
    "editable": false,
    "nbgrader": {
     "cell_type": "code",
     "checksum": "ede1cfe0ac8703f59c450cdb00de6165",
     "grade": true,
     "grade_id": "cell-dfa044b49cb963b1",
     "locked": true,
     "points": 3,
     "schema_version": 3,
     "solution": false,
     "task": false
    }
   },
   "outputs": [],
   "source": [
    "# Here we check to see if you have given your answer the correct object name\n",
    "# and if your answer is plausible. However, all other tests have been hidden\n",
    "# so you can practice deciding when you have the correct answer.\n",
    "test_that('Did not assign answer to an object called \"answer4.4\"', {\n",
    "    expect_true(exists(\"answer4.4\"))\n",
    "  })\n",
    "  \n",
    "test_that('Solution should be \"true\" or \"false\"', {\n",
    "    expect_match(answer4.4, \"true|false\", ignore.case = TRUE)\n",
    "})\n"
   ]
  }
 ],
 "metadata": {
  "docker": {
   "latest_image_tag": "v0.4.0"
  },
  "jupytext": {
   "formats": "ipynb,Rmd"
  },
  "kernelspec": {
   "display_name": "R",
   "language": "R",
   "name": "ir"
  },
  "language_info": {
   "codemirror_mode": "r",
   "file_extension": ".r",
   "mimetype": "text/x-r-source",
   "name": "R",
   "pygments_lexer": "r",
   "version": "4.3.3"
  }
 },
 "nbformat": 4,
 "nbformat_minor": 4
}
