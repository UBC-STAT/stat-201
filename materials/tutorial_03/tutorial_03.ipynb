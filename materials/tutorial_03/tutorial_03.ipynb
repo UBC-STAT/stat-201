{
 "cells": [
  {
   "cell_type": "markdown",
   "metadata": {
    "deletable": false,
    "editable": false,
    "nbgrader": {
     "cell_type": "markdown",
     "checksum": "6eea065d8c8f6b8b0bc017149d326bbb",
     "grade": false,
     "grade_id": "cell-e878cedd195c223b",
     "locked": true,
     "schema_version": 3,
     "solution": false,
     "task": false
    }
   },
   "source": [
    "### Tutorial 3: The central limit theorem and mathematical approximation of the sampling distribution"
   ]
  },
  {
   "cell_type": "markdown",
   "metadata": {
    "deletable": false,
    "editable": false,
    "nbgrader": {
     "cell_type": "markdown",
     "checksum": "1d8af5805e8a1849875400ea12c504ac",
     "grade": false,
     "grade_id": "cell-54a529ad4f75126b",
     "locked": true,
     "schema_version": 3,
     "solution": false,
     "task": false
    }
   },
   "source": [
    "### Lecture and Tutorial Learning Goals\n",
    "After completing this week's lecture and tutorial work, you will be able to:\n",
    "\n",
    "1. Describe the Law of Large Numbers.\n",
    "2. Describe a normal distribution.\n",
    "3. Explain the Central Limit Theorem and other general asymptotic results.\n",
    "4. List the properties of the sampling distribution.\n",
    "5. Decide whether to use asymptotic theory or bootstrapping to compute estimator uncertainty."
   ]
  },
  {
   "cell_type": "code",
   "execution_count": null,
   "metadata": {
    "deletable": false,
    "editable": false,
    "nbgrader": {
     "cell_type": "code",
     "checksum": "ef7f8b63ac7978b4b353487d33779e0c",
     "grade": false,
     "grade_id": "cell-072bbedad529ead5",
     "locked": true,
     "schema_version": 3,
     "solution": false,
     "task": false
    }
   },
   "outputs": [],
   "source": [
    "# Run this cell before continuing.\n",
    "library(cowplot)\n",
    "library(datateachr)\n",
    "library(digest)\n",
    "library(infer)\n",
    "library(lubridate)\n",
    "library(repr)\n",
    "library(tidyverse)\n",
    "library(taxyvr)\n",
    "source(\"tests_tutorial_03.R\")"
   ]
  },
  {
   "cell_type": "markdown",
   "metadata": {
    "deletable": false,
    "editable": false,
    "nbgrader": {
     "cell_type": "markdown",
     "checksum": "5a5ba760ff3ee529a055303e939d8b94",
     "grade": false,
     "grade_id": "cell-814a3bbf621b941f",
     "locked": true,
     "schema_version": 3,
     "solution": false,
     "task": false
    }
   },
   "source": [
    "## 1. Warm-Up Questions\n",
    "\n",
    "Here are a few questions to get you warmed up before we dive into the tutorial."
   ]
  },
  {
   "cell_type": "markdown",
   "metadata": {
    "deletable": false,
    "editable": false,
    "nbgrader": {
     "cell_type": "markdown",
     "checksum": "2e98fe1e3fc6114ff8298a1aa5572a48",
     "grade": false,
     "grade_id": "cell-ab94b4d1c4911d17",
     "locked": true,
     "schema_version": 3,
     "solution": false,
     "task": false
    }
   },
   "source": [
    "**Question 1.0**\n",
    "<br>{points: 1}\n",
    "\n",
    "Suppose you are given a random sample of the heights of 100 different trees planted in Vancouver. You are asked to calculate the variance of the sample, which will be used as a point estimate of the variance of the height of all trees in Vancouver.\n",
    "\n",
    "True or false?\n",
    "\n",
    "Your point estimate could be considered the outcome of a random variable.\n",
    "\n",
    "_Assign your answer to an object called `answer1.0`. Your answer should be either \"true\" or \"false\", surrounded by quotes._"
   ]
  },
  {
   "cell_type": "code",
   "execution_count": null,
   "metadata": {
    "deletable": false,
    "nbgrader": {
     "cell_type": "code",
     "checksum": "4e1a3938bb9d7a6e65037cf380a03bc9",
     "grade": false,
     "grade_id": "cell-ee3221cfa9364516",
     "locked": false,
     "schema_version": 3,
     "solution": true,
     "task": false
    }
   },
   "outputs": [],
   "source": [
    "# answer1.0 <- ...\n",
    "\n",
    "# your code here\n",
    "fail() # No Answer - remove if you provide an answer"
   ]
  },
  {
   "cell_type": "code",
   "execution_count": null,
   "metadata": {
    "deletable": false,
    "editable": false,
    "nbgrader": {
     "cell_type": "code",
     "checksum": "b043ea0332e2a0ce534a1fb1adbbfc10",
     "grade": true,
     "grade_id": "cell-19ddcc9b045f5837",
     "locked": true,
     "points": 1,
     "schema_version": 3,
     "solution": false,
     "task": false
    }
   },
   "outputs": [],
   "source": [
    "test_1.0()"
   ]
  },
  {
   "cell_type": "markdown",
   "metadata": {
    "deletable": false,
    "editable": false,
    "nbgrader": {
     "cell_type": "markdown",
     "checksum": "4ef0e9a4a73cecf7ae5730e6c1ef2ac3",
     "grade": false,
     "grade_id": "cell-ee9f65d2aca14d1e",
     "locked": true,
     "schema_version": 3,
     "solution": false,
     "task": false
    }
   },
   "source": [
    "**Question 1.1**\n",
    "<br>{points: 1}\n",
    "\n",
    "Consider the following 20 values:\n",
    "\n",
    "```\n",
    "-2\t 7\t-7\t-10\t 0\n",
    " 4\t-7\t 5\t 10\t 9\n",
    " 9\t 6\t-3\t  2\t 1\n",
    " 4\t 1\t 2\t  7\t-9\n",
    "```\n",
    "\n",
    "What is the proportion of the values that are **less than or equal to 0**?\n",
    "\n",
    "_Assign your answer to an object called `answer1.1`. Your answer should be a single number._"
   ]
  },
  {
   "cell_type": "code",
   "execution_count": null,
   "metadata": {
    "deletable": false,
    "nbgrader": {
     "cell_type": "code",
     "checksum": "b1748b0d697aee2b867d9b117b8f2da6",
     "grade": false,
     "grade_id": "cell-140d960e0aeccec8",
     "locked": false,
     "schema_version": 3,
     "solution": true,
     "task": false
    }
   },
   "outputs": [],
   "source": [
    "# answer1.1 <- ...\n",
    "\n",
    "# your code here\n",
    "fail() # No Answer - remove if you provide an answer\n",
    "\n",
    "answer1.1"
   ]
  },
  {
   "cell_type": "code",
   "execution_count": null,
   "metadata": {
    "deletable": false,
    "editable": false,
    "nbgrader": {
     "cell_type": "code",
     "checksum": "811bf4ede80abd9615441d88d1f4c595",
     "grade": true,
     "grade_id": "cell-7334b04965794762",
     "locked": true,
     "points": 1,
     "schema_version": 3,
     "solution": false,
     "task": false
    }
   },
   "outputs": [],
   "source": [
    "test_1.1()"
   ]
  },
  {
   "cell_type": "markdown",
   "metadata": {
    "deletable": false,
    "editable": false,
    "nbgrader": {
     "cell_type": "markdown",
     "checksum": "1c56a503c75f298368fad3c082287f1f",
     "grade": false,
     "grade_id": "cell-e7edc23c85367d7a",
     "locked": true,
     "schema_version": 3,
     "solution": false,
     "task": false
    }
   },
   "source": [
    "**Question 1.2**\n",
    "<br>{points: 1}\n",
    "\n",
    "In which scenario(s) would it **not** be logical to calculate the mean of the data collected?\n",
    "\n",
    "A. You record the length of each word on a single page in a book.\n",
    "\n",
    "B. You record the colour of each vehicle parked along one side of a block in downtown Vancouver.\n",
    "\n",
    "C. You record the time that it takes for you sprint 100m on 10 different days.\n",
    "\n",
    "D. You record the number of students using laptops during each of the first 5 days of your math class.\n",
    "\n",
    "E. None of the above\n",
    "\n",
    "_Assign your answer to an object called `answer1.2`. Your answer should be a single character surrounded by quotes._"
   ]
  },
  {
   "cell_type": "code",
   "execution_count": null,
   "metadata": {
    "deletable": false,
    "nbgrader": {
     "cell_type": "code",
     "checksum": "924d1df1b7908a0db47f8b3e1a0c5ab7",
     "grade": false,
     "grade_id": "cell-f0edb2a029003f3a",
     "locked": false,
     "schema_version": 3,
     "solution": true,
     "task": false
    }
   },
   "outputs": [],
   "source": [
    "# answer1.2 <- ...\n",
    "\n",
    "# your code here\n",
    "fail() # No Answer - remove if you provide an answer"
   ]
  },
  {
   "cell_type": "code",
   "execution_count": null,
   "metadata": {
    "deletable": false,
    "editable": false,
    "nbgrader": {
     "cell_type": "code",
     "checksum": "1e1ebfd2789096405440d795d8ed19e0",
     "grade": true,
     "grade_id": "cell-3467ef68544c6ec2",
     "locked": true,
     "points": 1,
     "schema_version": 3,
     "solution": false,
     "task": false
    }
   },
   "outputs": [],
   "source": [
    "test_1.2()"
   ]
  },
  {
   "cell_type": "markdown",
   "metadata": {
    "deletable": false,
    "editable": false,
    "nbgrader": {
     "cell_type": "markdown",
     "checksum": "b5f173f4b9dbcda4db0157707c5c3648",
     "grade": false,
     "grade_id": "cell-eff6d292442e9f82",
     "locked": true,
     "schema_version": 3,
     "solution": false,
     "task": false
    }
   },
   "source": [
    "## 2. Influence of Sample Size\n",
    "\n",
    "Recall that in the last worksheet, we took a look at how the size of our virtual samples can affect the shape of the sampling distributions that they produce. In this tutorial, we are going to continue looking at these trends in a bit more depth.\n",
    "\n",
    "To do this, we will be using the `apt_buildings` dataset from the `datateachr` package. Unlike the other dataset that we have worked with from this package, `vancouver_trees`, this dataset originates from Toronto. Here is a bit more information about it from the documentation (which you can access yourself using `?apt_buildings`):\n",
    "> This dataset contains Toronto apartment building information for buildings that are registered in the Apartment Building Standard (ABS) program. The information was collected from building owners/managers during the initial registration process. \n",
    "\n",
    "![](https://media.giphy.com/media/Ru86ce44TU4A8/giphy.gif)\n",
    "<div style=\"text-align: center\"><i>Image from <a href=\"https://media.giphy.com/media/Ru86ce44TU4A8/giphy.gif\">giphy.com</i></a></div>\n",
    "\n",
    "As this dataset contains information about all apartments registered in the ABS program, we can consider it as a finite population. Hence, to solidify our understanding of the influence of sampling size on sampling distributions, we will take a look at the **sampling distribution of sample variance** for the **age (in years)** of our population apartment buildings in Toronto that are registered in the ABS program."
   ]
  },
  {
   "cell_type": "code",
   "execution_count": null,
   "metadata": {
    "deletable": false,
    "editable": false,
    "nbgrader": {
     "cell_type": "code",
     "checksum": "a6fa89ccea3ddbf4c0c38d94a26444d8",
     "grade": false,
     "grade_id": "cell-26183e350a81edc6",
     "locked": true,
     "schema_version": 3,
     "solution": false,
     "task": false
    }
   },
   "outputs": [],
   "source": [
    "# Run this cell before continuing.\n",
    "colnames(apt_buildings)"
   ]
  },
  {
   "cell_type": "markdown",
   "metadata": {
    "deletable": false,
    "editable": false,
    "nbgrader": {
     "cell_type": "markdown",
     "checksum": "f151e6eaeabecac43129a7d891836f3b",
     "grade": false,
     "grade_id": "cell-748bb43889baf70e",
     "locked": true,
     "schema_version": 3,
     "solution": false,
     "task": false
    }
   },
   "source": [
    "Taking a look at the list of columns in the `apt_buildings` dataset that has been printed above, it appears there is no column describing age; we must create one ourselves."
   ]
  },
  {
   "cell_type": "markdown",
   "metadata": {
    "deletable": false,
    "editable": false,
    "nbgrader": {
     "cell_type": "markdown",
     "checksum": "506321b36bac795761552cc5ffa9a8bc",
     "grade": false,
     "grade_id": "cell-d022c2280f3cad60",
     "locked": true,
     "schema_version": 3,
     "solution": false,
     "task": false
    }
   },
   "source": [
    "**Question 2.0** \n",
    "<br> {points: 1}\n",
    "\n",
    "Use the scaffolding in the code cell below to add a new `age_yrs` column (which should describe be the age in **years** of each building) to `apt_buildings`, and then select only that new column. Afterwards, filter out rows that contain `NA` values.\n",
    "\n",
    "_**Note:** `Sys.Date()` is a function that returns a `date-time` object describing the current time, and `year()` is a function that gets the year from a `date-time` object. Hence, `year(Sys.Date())` is the current year._\n",
    "\n",
    "_**Hint:** check the list of column names above to see which column you need to use to calculate `age_yrs`._\n",
    "\n",
    "_Assign your data frame to an object called `apt_ages`._"
   ]
  },
  {
   "cell_type": "code",
   "execution_count": null,
   "metadata": {
    "deletable": false,
    "nbgrader": {
     "cell_type": "code",
     "checksum": "e107946f5ba7220c7b5c69f0be35cffe",
     "grade": false,
     "grade_id": "cell-72431e625a28bea3",
     "locked": false,
     "schema_version": 3,
     "solution": true,
     "task": false
    }
   },
   "outputs": [],
   "source": [
    "# apt_ages <- \n",
    "#    apt_buildings %>% \n",
    "#    ...(... = year(Sys.Date()) - ...) %>%    \n",
    "#    select(...) %>% \n",
    "#    ...(...)\n",
    "\n",
    "# your code here\n",
    "fail() # No Answer - remove if you provide an answer\n",
    "\n",
    "head(apt_ages)"
   ]
  },
  {
   "cell_type": "code",
   "execution_count": null,
   "metadata": {
    "deletable": false,
    "editable": false,
    "nbgrader": {
     "cell_type": "code",
     "checksum": "c95260f1d2f06506e801c8d0f9b532f2",
     "grade": true,
     "grade_id": "cell-06cb18bbf067eafe",
     "locked": true,
     "points": 1,
     "schema_version": 3,
     "solution": false,
     "task": false
    }
   },
   "outputs": [],
   "source": [
    "test_2.0()"
   ]
  },
  {
   "cell_type": "markdown",
   "metadata": {
    "deletable": false,
    "editable": false,
    "nbgrader": {
     "cell_type": "markdown",
     "checksum": "bf2622a92f09512607130f9c583b5087",
     "grade": false,
     "grade_id": "cell-6d372aa6ac776323",
     "locked": true,
     "schema_version": 3,
     "solution": false,
     "task": false
    }
   },
   "source": [
    "**Question 2.1**\n",
    "<br> {points: 1}\n",
    "\n",
    "Visualize the population distribution by creating a histogram with bin widths of 10 using `geom_histogram`. Add a title to the plot using `ggtitle` and ensure that the x-axis has a descriptive and human-readable label.\n",
    "\n",
    "_Assign your plot to an object called `apt_age_dist`._"
   ]
  },
  {
   "cell_type": "code",
   "execution_count": null,
   "metadata": {
    "deletable": false,
    "nbgrader": {
     "cell_type": "code",
     "checksum": "99d4ccfd911f86335c879d76206369bc",
     "grade": false,
     "grade_id": "cell-5ffde2ae0d0f6fb1",
     "locked": false,
     "schema_version": 3,
     "solution": true,
     "task": false
    }
   },
   "outputs": [],
   "source": [
    "# apt_age_dist <- \n",
    "#    apt_ages %>% \n",
    "#    ggplot(aes(x = ...)) +\n",
    "#    ...(... = ..., boundary = 0, color = 'white') +\n",
    "#    ...(\"Ages of Toronto ABS Apartment Buildings\") +\n",
    "#    ...(\"...\")\n",
    "\n",
    "# your code here\n",
    "fail() # No Answer - remove if you provide an answer\n",
    "\n",
    "apt_age_dist"
   ]
  },
  {
   "cell_type": "code",
   "execution_count": null,
   "metadata": {
    "deletable": false,
    "editable": false,
    "nbgrader": {
     "cell_type": "code",
     "checksum": "f66de30fb139478ee4ab4547a65862aa",
     "grade": true,
     "grade_id": "cell-260bb0b7736e6db1",
     "locked": true,
     "points": 1,
     "schema_version": 3,
     "solution": false,
     "task": false
    }
   },
   "outputs": [],
   "source": [
    "test_2.1()"
   ]
  },
  {
   "cell_type": "markdown",
   "metadata": {
    "deletable": false,
    "editable": false,
    "nbgrader": {
     "cell_type": "markdown",
     "checksum": "ccbd1b23ad86a91ff4b39c5143e1bac0",
     "grade": false,
     "grade_id": "cell-b4a218c8fc742180",
     "locked": true,
     "schema_version": 3,
     "solution": false,
     "task": false
    }
   },
   "source": [
    "**Question 2.2**\n",
    "<br> {points: 3}\n",
    "\n",
    "Let the $X$ be the age (in years) of a randomly selected apartment from the population of interest (all apartments in Toronto that are registered in the ABS program). Is it more likely that $X \\leq 25$ or $X \\geq 75$? Justify your answer in 1-2 sentences."
   ]
  },
  {
   "cell_type": "markdown",
   "metadata": {
    "deletable": false,
    "nbgrader": {
     "cell_type": "markdown",
     "checksum": "9ba56a6582da0b494c2fb24facc4014c",
     "grade": true,
     "grade_id": "cell-a28bcc5868a1fae7",
     "locked": false,
     "points": 3,
     "schema_version": 3,
     "solution": true,
     "task": false
    }
   },
   "source": [
    "DOUBLE CLICK TO EDIT **THIS CELL** AND REPLACE THIS TEXT WITH YOUR ANSWER."
   ]
  },
  {
   "cell_type": "markdown",
   "metadata": {
    "deletable": false,
    "editable": false,
    "nbgrader": {
     "cell_type": "markdown",
     "checksum": "a4a306d9b7c3a519c09d62b0e63e95a8",
     "grade": false,
     "grade_id": "cell-ba00d3dc68131c58",
     "locked": true,
     "schema_version": 3,
     "solution": false,
     "task": false
    }
   },
   "source": [
    "**Question 2.3**\n",
    "<br> {points: 1}\n",
    "\n",
    "Use the `rep_sample_n` function to take 2000 samples of size 10 from the population `apt_ages`. Use the seed `3735`. Then, calculate the variance of each sample; name the column containing the sample variances `sample_var`. Your final data frame should have two columns: `replicate` and `sample_var`.\n",
    "\n",
    "_Assign your data frame to an object called `sample_vars_10x2000`._"
   ]
  },
  {
   "cell_type": "code",
   "execution_count": null,
   "metadata": {
    "deletable": false,
    "nbgrader": {
     "cell_type": "code",
     "checksum": "d5e35d215ce2f5fc96ebda4fe282e1ac",
     "grade": false,
     "grade_id": "cell-bfd696f40df627bb",
     "locked": false,
     "schema_version": 3,
     "solution": true,
     "task": false
    }
   },
   "outputs": [],
   "source": [
    "set.seed(3735) # DO NOT CHANGE!\n",
    "\n",
    "# your code here\n",
    "fail() # No Answer - remove if you provide an answer\n",
    "\n",
    "head(sample_vars_10x2000)"
   ]
  },
  {
   "cell_type": "code",
   "execution_count": null,
   "metadata": {
    "deletable": false,
    "editable": false,
    "nbgrader": {
     "cell_type": "code",
     "checksum": "eeb223f3a411e23f219f67ccd8260d01",
     "grade": true,
     "grade_id": "cell-0a2c436fa5a27f7b",
     "locked": true,
     "points": 1,
     "schema_version": 3,
     "solution": false,
     "task": false
    }
   },
   "outputs": [],
   "source": [
    "test_2.3()"
   ]
  },
  {
   "cell_type": "markdown",
   "metadata": {
    "deletable": false,
    "editable": false,
    "nbgrader": {
     "cell_type": "markdown",
     "checksum": "c244342c0a4d3eb423b25e24df46e0bd",
     "grade": false,
     "grade_id": "cell-61b2eff1ffabc9c8",
     "locked": true,
     "schema_version": 3,
     "solution": false,
     "task": false
    }
   },
   "source": [
    "**Question 2.4**\n",
    "<br> {points: 1}\n",
    "\n",
    "Visualize the distribution of the sample variances that you calculated in the previous question by plotting a histogram with bin widths of 80 using `geom_histogram`. Add a title of \"size = 10, 2000 reps\" to the plot using `ggtitle` and ensure that the x-axis has a descriptive and human-readable label.\n",
    "\n",
    "_Assign your plot to an object called `sampling_dist_10x2000`._"
   ]
  },
  {
   "cell_type": "code",
   "execution_count": null,
   "metadata": {
    "deletable": false,
    "nbgrader": {
     "cell_type": "code",
     "checksum": "1ad8d9cecfd78d49d17b2bf74d3ac056",
     "grade": false,
     "grade_id": "cell-57d34a3685eadabf",
     "locked": false,
     "schema_version": 3,
     "solution": true,
     "task": false
    }
   },
   "outputs": [],
   "source": [
    "# sampling_dist_10x2000 <- \n",
    "#     ... %>% \n",
    "#     ggplot(aes(x = ...)) +\n",
    "#     geom_histogram(binwidth = 80, color = 'white') +\n",
    "#     ggtitle(\"size = 10, 2000 reps\") +\n",
    "#     xlab(\"Sample Variance\")\n",
    "\n",
    "# your code here\n",
    "fail() # No Answer - remove if you provide an answer\n",
    "\n",
    "sampling_dist_10x2000"
   ]
  },
  {
   "cell_type": "code",
   "execution_count": null,
   "metadata": {
    "deletable": false,
    "editable": false,
    "nbgrader": {
     "cell_type": "code",
     "checksum": "16225369a8c8b4326cc71a1980dd732e",
     "grade": true,
     "grade_id": "cell-91d26a4811796629",
     "locked": true,
     "points": 1,
     "schema_version": 3,
     "solution": false,
     "task": false
    }
   },
   "outputs": [],
   "source": [
    "test_2.4()"
   ]
  },
  {
   "cell_type": "markdown",
   "metadata": {
    "deletable": false,
    "editable": false,
    "nbgrader": {
     "cell_type": "markdown",
     "checksum": "a59800ec35f20fb214746de9f3aac657",
     "grade": false,
     "grade_id": "cell-a9196bcc6cfa8834",
     "locked": true,
     "schema_version": 3,
     "solution": false,
     "task": false
    }
   },
   "source": [
    "**Question 2.5**\n",
    "<br> {points: 1}\n",
    "\n",
    "Using the same strategy as you did in **question 2.2**, draw 2000 random samples of size 50 from the population `apt_ages`. Use the seed `4623`. Then, for each sample, calculate the sample variance. Finally, visualize the distribution of the sample variances you just calculated by plotting a histogram.\n",
    "\n",
    "_Assign your plot to an object called `sampling_dist_50x2000`._"
   ]
  },
  {
   "cell_type": "code",
   "execution_count": null,
   "metadata": {
    "deletable": false,
    "nbgrader": {
     "cell_type": "code",
     "checksum": "4d12558e7a8c9d3468d002dbaef31f92",
     "grade": false,
     "grade_id": "cell-5f6ff68722771bb2",
     "locked": false,
     "schema_version": 3,
     "solution": true,
     "task": false
    }
   },
   "outputs": [],
   "source": [
    "set.seed(4623) # DO NOT CHANGE!\n",
    "\n",
    "# sampling_dist_50x2000 <- \n",
    "#     ... %>% # this is a multiline command\n",
    "#     ggplot(aes(x = sample_var)) + \n",
    "#     geom_histogram(binwidth = 60, color = 'white') +\n",
    "#     ggtitle(\"size = 50, 2000 reps\") +\n",
    "#     xlab(\"Sample Variance\")\n",
    "\n",
    "# your code here\n",
    "fail() # No Answer - remove if you provide an answer\n",
    "\n",
    "sampling_dist_50x2000"
   ]
  },
  {
   "cell_type": "code",
   "execution_count": null,
   "metadata": {
    "deletable": false,
    "editable": false,
    "nbgrader": {
     "cell_type": "code",
     "checksum": "6c809009b1ff0f807f738302636d9f7f",
     "grade": true,
     "grade_id": "cell-4654ab9a460d94c4",
     "locked": true,
     "points": 1,
     "schema_version": 3,
     "solution": false,
     "task": false
    }
   },
   "outputs": [],
   "source": [
    "test_2.5()"
   ]
  },
  {
   "cell_type": "markdown",
   "metadata": {
    "deletable": false,
    "editable": false,
    "nbgrader": {
     "cell_type": "markdown",
     "checksum": "88644f144c1c8f769d5e1261be70236c",
     "grade": false,
     "grade_id": "cell-c5bb4004eb9087f2",
     "locked": true,
     "schema_version": 3,
     "solution": false,
     "task": false
    }
   },
   "source": [
    "**Question 2.6**\n",
    "<br> {points: 1}\n",
    "\n",
    "Using the same strategy as you did in **question 2.2**, draw 2000 random samples of size 150 from the population `apt_ages`. Use the seed `8614`. Then, for each sample, calculate the sample variance. Finally, visualize the distribution of the sample variances you just calculated by plotting a histogram.\n",
    "\n",
    "_Assign your plot to an object called `sampling_dist_150x2000`._"
   ]
  },
  {
   "cell_type": "code",
   "execution_count": null,
   "metadata": {
    "deletable": false,
    "nbgrader": {
     "cell_type": "code",
     "checksum": "b9aca582f9034109ba1aa55051110f32",
     "grade": false,
     "grade_id": "cell-dba2e1cf0450de35",
     "locked": false,
     "schema_version": 3,
     "solution": true,
     "task": false
    }
   },
   "outputs": [],
   "source": [
    "set.seed(8614)\n",
    "\n",
    "# sampling_dist_150x2000 <- apt_ages %>% \n",
    "#     ... %>% # this is a multiline command\n",
    "#     ggplot(aes(x = sample_var)) + \n",
    "#     geom_histogram(binwidth = 30, color = 'white') +\n",
    "#     ggtitle(\"size = 150, 2000 reps\") +\n",
    "#     xlab(\"Sample Variance\")\n",
    "\n",
    "# your code here\n",
    "fail() # No Answer - remove if you provide an answer\n",
    "\n",
    "sampling_dist_150x2000"
   ]
  },
  {
   "cell_type": "code",
   "execution_count": null,
   "metadata": {
    "deletable": false,
    "editable": false,
    "nbgrader": {
     "cell_type": "code",
     "checksum": "cb30605de876968a120402cb9df2bdfb",
     "grade": true,
     "grade_id": "cell-4799dd561a0d61c7",
     "locked": true,
     "points": 1,
     "schema_version": 3,
     "solution": false,
     "task": false
    }
   },
   "outputs": [],
   "source": [
    "test_2.6()"
   ]
  },
  {
   "cell_type": "markdown",
   "metadata": {
    "deletable": false,
    "editable": false,
    "nbgrader": {
     "cell_type": "markdown",
     "checksum": "00529be55f11d8bc2c8500e8bf4dade0",
     "grade": false,
     "grade_id": "cell-c2fce07e86a7fc10",
     "locked": true,
     "schema_version": 3,
     "solution": false,
     "task": false
    }
   },
   "source": [
    "_Use the set of plots below to answer the **next 2 questions**. Some of the code may be confusing, but you do not need to understand the code to answer the questions._\n",
    "\n",
    "In the code cell below, we have used `plot_grid` to plot the three sampling distributions side-by-side. We have sorted the plots by increasing order of sample size from left to right.\n",
    "\n",
    "**Note**: a small number of the sample variances are not visible because we manually set bounds on the x-axis so you can compare the distributions more easily (this causes the warnings you observe below)."
   ]
  },
  {
   "cell_type": "code",
   "execution_count": null,
   "metadata": {
    "deletable": false,
    "editable": false,
    "nbgrader": {
     "cell_type": "code",
     "checksum": "b0b576dd092dacdd4c5d50ea42749e3a",
     "grade": false,
     "grade_id": "cell-256a9d20bf3efb5a",
     "locked": true,
     "schema_version": 3,
     "solution": false,
     "task": false
    }
   },
   "outputs": [],
   "source": [
    "# Run this cell before continuing.\n",
    "options(repr.plot.width = 20) # temp\n",
    "\n",
    "var_plot_row <- plot_grid(sampling_dist_10x2000  + xlim(0, 1250) + ylim(0, 500)+ ylim(0, 500) + theme(text = element_text(size=25)),\n",
    "                           sampling_dist_50x2000  + xlim(0, 1250) + ylim(0, 500) + ylim(0, 500) + theme(text = element_text(size=25)),\n",
    "                           sampling_dist_150x2000 + xlim(0, 1250) + ylim(0, 500) + ylim(0, 500) + theme(text = element_text(size=25)),\n",
    "                           ncol = 3)\n",
    "title <- ggdraw() + \n",
    "  draw_label(\"Comparison of distributions of sample variances\",\n",
    "             fontface = 'bold',\n",
    "             x = 0,\n",
    "             hjust = 0) +\n",
    "  theme(plot.margin = margin(0, 0, 0, 7))\n",
    "\n",
    "vars_grid <- plot_grid(title,\n",
    "                       var_plot_row,\n",
    "                       ncol = 1,\n",
    "                       rel_heights = c(0.1, 1))\n",
    "\n",
    "vars_grid"
   ]
  },
  {
   "cell_type": "markdown",
   "metadata": {
    "deletable": false,
    "editable": false,
    "nbgrader": {
     "cell_type": "markdown",
     "checksum": "6785910f8e796b658eaf937d163d9217",
     "grade": false,
     "grade_id": "cell-b81a69a258c5c9e2",
     "locked": true,
     "schema_version": 3,
     "solution": false,
     "task": false
    }
   },
   "source": [
    "**Question 2.7**\n",
    "<br> {points: 3}\n",
    "\n",
    "Given the three distributions of sample variances printed above, what can you say about the relationship(s) between sample size and the resulting distribution of sample variances (i.e. as the sample size changes, how does the distribution change)? Answer in 2-3 sentences in your own words."
   ]
  },
  {
   "cell_type": "markdown",
   "metadata": {
    "deletable": false,
    "nbgrader": {
     "cell_type": "markdown",
     "checksum": "b7a34ca9d33d2941cdaa29c5742fb032",
     "grade": true,
     "grade_id": "cell-6247a09f38047bd5",
     "locked": false,
     "points": 3,
     "schema_version": 3,
     "solution": true,
     "task": false
    }
   },
   "source": [
    "DOUBLE CLICK TO EDIT **THIS CELL** AND REPLACE THIS TEXT WITH YOUR ANSWER."
   ]
  },
  {
   "cell_type": "markdown",
   "metadata": {
    "deletable": false,
    "editable": false,
    "nbgrader": {
     "cell_type": "markdown",
     "checksum": "0ac8ebd9e5b551e9e0ba4d5da9120754",
     "grade": false,
     "grade_id": "cell-bf217720327aedca",
     "locked": true,
     "schema_version": 3,
     "solution": false,
     "task": false
    }
   },
   "source": [
    "In the cell below, we have printed the true variance of the population. Use this value AND the sampling distribution printed above to answer the **next question**."
   ]
  },
  {
   "cell_type": "code",
   "execution_count": null,
   "metadata": {
    "deletable": false,
    "editable": false,
    "nbgrader": {
     "cell_type": "code",
     "checksum": "0804f04c813bc863a6d2cc9f15af07bf",
     "grade": false,
     "grade_id": "cell-9b62bb9684a965cc",
     "locked": true,
     "schema_version": 3,
     "solution": false,
     "task": false
    }
   },
   "outputs": [],
   "source": [
    "# Run this cell before continuing.\n",
    "print(var(apt_ages$age_yrs))"
   ]
  },
  {
   "cell_type": "markdown",
   "metadata": {
    "deletable": false,
    "editable": false,
    "nbgrader": {
     "cell_type": "markdown",
     "checksum": "ce7f22dfd2b7e969316e427aedb1158d",
     "grade": false,
     "grade_id": "cell-cf251c85ca4d4756",
     "locked": true,
     "schema_version": 3,
     "solution": false,
     "task": false
    }
   },
   "source": [
    "**Question 2.8**\n",
    "<br> {points: 3}\n",
    "\n",
    "What is similar between the three sampling distributions above? Answer in 1-2 sentences in your own words."
   ]
  },
  {
   "cell_type": "markdown",
   "metadata": {
    "deletable": false,
    "nbgrader": {
     "cell_type": "markdown",
     "checksum": "42135af70a71627c1c3b40acd705622f",
     "grade": true,
     "grade_id": "cell-487509bbc8ae46a2",
     "locked": false,
     "points": 3,
     "schema_version": 3,
     "solution": true,
     "task": false
    }
   },
   "source": [
    "DOUBLE CLICK TO EDIT **THIS CELL** AND REPLACE THIS TEXT WITH YOUR ANSWER."
   ]
  },
  {
   "cell_type": "markdown",
   "metadata": {
    "deletable": false,
    "editable": false,
    "nbgrader": {
     "cell_type": "markdown",
     "checksum": "de6ab668406306615107a9965b76138c",
     "grade": false,
     "grade_id": "cell-70a043b6daa5e7e2",
     "locked": true,
     "schema_version": 3,
     "solution": false,
     "task": false
    }
   },
   "source": [
    "## 3. Influence of Sample Repetitions (the `reps` argument)\n",
    "\n",
    "At this point, you should have a deep understanding of how sample size influences the sampling distributions of point estimates. However, as we hinted in the previous section, there is one more argument that we haven't tinkered with: the `reps` argument in `rep_sample_n`.\n",
    "\n",
    "> To be clear, the `reps` argument describes the _number of samples_ that we take when calling `rep_sample_n`. The `replicate` column of the data frame returned by `rep_sample_n` describes which sample that observation is a member of. For example, if `reps = 10` and `size = 5`, then we will have $5 \\times 10 = 50$ rows in the data frame produced by `rep_sample_n`, with `replicate` numbers ranging from 1 to 10, inclusive.\n",
    "\n",
    "In this section, we are going to explore the relationship between the number of samples we take (sample repetitions) and the sampling distribution produced, while holding the sample size constant. To do this, we are going to use the same population as the last section (`apt_ages`: the age in years of apartments in Toronto that are registered in the Apartment Building Standard program)."
   ]
  },
  {
   "cell_type": "markdown",
   "metadata": {
    "deletable": false,
    "editable": false,
    "nbgrader": {
     "cell_type": "markdown",
     "checksum": "e2e89e936d1fe2aad38e2a76242e4ffb",
     "grade": false,
     "grade_id": "cell-fae274cdbc0d7baf",
     "locked": true,
     "schema_version": 3,
     "solution": false,
     "task": false
    }
   },
   "source": [
    "**Question 3.0**\n",
    "<br> {points: 1}\n",
    "\n",
    "Consider the following code that takes a number of samples from `apt_ages`:\n",
    "```r\n",
    "samples <- apt_ages %>% \n",
    "    rep_sample_n(size = 15, reps = 2000)\n",
    "    \n",
    "```\n",
    "\n",
    "And, suppose one row of the resulting `samples` data frame appears as follows:\n",
    "\n",
    "| replicate | age_yrs |\n",
    "| --------- | ------- |\n",
    "| 201       | 15      |\n",
    "\n",
    "Given the code above, which of the following statements is true about this individual row taken from `samples`?\n",
    "\n",
    "A. This is the 201st observation sampled from `apt_ages`.\n",
    "\n",
    "B. This is the 15th observation sampled from `apt_ages`.\n",
    "\n",
    "C. This observation is a member of the 201st sample taken from `apt_ages`.\n",
    "\n",
    "D. This observation is a member of the 15th sample taken from `apt_ages`.\n",
    "\n",
    "_Assign your answer to an object called `answer3.0`. Your answer should be a single character surrounded by quotes._"
   ]
  },
  {
   "cell_type": "code",
   "execution_count": null,
   "metadata": {
    "deletable": false,
    "nbgrader": {
     "cell_type": "code",
     "checksum": "073c73d1cc1cc14cd1acf3642fbe97c9",
     "grade": false,
     "grade_id": "cell-ddb2f18952910742",
     "locked": false,
     "schema_version": 3,
     "solution": true,
     "task": false
    }
   },
   "outputs": [],
   "source": [
    "# answer3.0 <- ...\n",
    "\n",
    "# your code here\n",
    "fail() # No Answer - remove if you provide an answer"
   ]
  },
  {
   "cell_type": "code",
   "execution_count": null,
   "metadata": {
    "deletable": false,
    "editable": false,
    "nbgrader": {
     "cell_type": "code",
     "checksum": "7d340e17277988f6530009123f8aa745",
     "grade": true,
     "grade_id": "cell-9e3d30aca1aa9bbc",
     "locked": true,
     "points": 3,
     "schema_version": 3,
     "solution": false,
     "task": false
    }
   },
   "outputs": [],
   "source": [
    "# Here we check to see whether you have given your answer the correct\n",
    "# object name. However, all other tests have been hidden so you can\n",
    "# practice deciding when you have the correct answer.\n",
    "test_that('Did not assign answer to an object called \"answer3.0\"', {\n",
    "  expect_true(exists(\"answer3.0\"))\n",
    "})\n",
    "\n",
    "test_that('Solution should be a single character (\"A\", \"B\", \"C\", or \"D\")', {\n",
    "  expect_match(answer3.0, \"a|b|c|d\", ignore.case = TRUE)\n",
    "})"
   ]
  },
  {
   "cell_type": "markdown",
   "metadata": {
    "deletable": false,
    "editable": false,
    "nbgrader": {
     "cell_type": "markdown",
     "checksum": "5135b1144056bdb1cb97e81d718c302c",
     "grade": false,
     "grade_id": "cell-5de3743af956a013",
     "locked": true,
     "schema_version": 3,
     "solution": false,
     "task": false
    }
   },
   "source": [
    "**Question 3.1**\n",
    "<br> {points: 1}\n",
    "\n",
    "Use the `rep_sample_n` function to take 1000 samples of size 20 from the population `apt_ages`. Use the seed `3448`. Then, calculate the variance of each sample; name the column containing the sample variances `sample_var`.\n",
    "\n",
    "_Assign your data frame to an object called `sample_vars_20x1000`._"
   ]
  },
  {
   "cell_type": "code",
   "execution_count": null,
   "metadata": {
    "deletable": false,
    "nbgrader": {
     "cell_type": "code",
     "checksum": "1a71e56bb459e327953082bf0e49be17",
     "grade": false,
     "grade_id": "cell-df551ee1f1ae6b8b",
     "locked": false,
     "schema_version": 3,
     "solution": true,
     "task": false
    }
   },
   "outputs": [],
   "source": [
    "set.seed(3448) # DO NOT CHANGE!\n",
    "\n",
    "# your code here\n",
    "fail() # No Answer - remove if you provide an answer\n",
    "\n",
    "head(sample_vars_20x1000)"
   ]
  },
  {
   "cell_type": "code",
   "execution_count": null,
   "metadata": {
    "deletable": false,
    "editable": false,
    "nbgrader": {
     "cell_type": "code",
     "checksum": "f560b89572e4141a267e7abd21b04cca",
     "grade": true,
     "grade_id": "cell-ea6886a8fb5a6a12",
     "locked": true,
     "points": 1,
     "schema_version": 3,
     "solution": false,
     "task": false
    }
   },
   "outputs": [],
   "source": [
    "test_3.1()"
   ]
  },
  {
   "cell_type": "markdown",
   "metadata": {
    "deletable": false,
    "editable": false,
    "nbgrader": {
     "cell_type": "markdown",
     "checksum": "834ed60c21ca138ca4332980ae283ad2",
     "grade": false,
     "grade_id": "cell-058fc2d9edb254c0",
     "locked": true,
     "schema_version": 3,
     "solution": false,
     "task": false
    }
   },
   "source": [
    "Let's visualize the distribution of the sample variances that you calculated in the previous question by plotting a histogram with bin widths of 5 using `geom_histogram`. "
   ]
  },
  {
   "cell_type": "code",
   "execution_count": null,
   "metadata": {
    "deletable": false,
    "nbgrader": {
     "cell_type": "code",
     "checksum": "22c7ec5b1389134919b9748c2ed863a3",
     "grade": false,
     "grade_id": "cell-56d1cad13827cb57",
     "locked": false,
     "schema_version": 3,
     "solution": true,
     "task": false
    }
   },
   "outputs": [],
   "source": [
    "# your code here\n",
    "fail() # No Answer - remove if you provide an answer"
   ]
  },
  {
   "cell_type": "markdown",
   "metadata": {
    "deletable": false,
    "editable": false,
    "nbgrader": {
     "cell_type": "markdown",
     "checksum": "e79301c640403186547a287cc292935e",
     "grade": false,
     "grade_id": "cell-6482fbb01eedb37f",
     "locked": true,
     "schema_version": 3,
     "solution": false,
     "task": false
    }
   },
   "source": [
    "**Question 3.2**\n",
    "<br> {points: 1}\n",
    "\n",
    "Using the same strategy as you did in **question 3.1**, draw 5000 random samples of size 20 from the population `apt_ages`. Use the seed `7631`. Then, for each sample, calculate the variance. Finally, visualize the distribution of the sample variances you just calculated by plotting a histogram with bin widths of 5.\n",
    "\n",
    "_**Hint:** you can use the code from the previous section as a framework for your code here!_\n",
    "\n",
    "_Assign your plot to an object called `sampling_dist_20x5000`._"
   ]
  },
  {
   "cell_type": "code",
   "execution_count": null,
   "metadata": {
    "deletable": false,
    "nbgrader": {
     "cell_type": "code",
     "checksum": "19505bdc0d1244b81e549065a8a85e8e",
     "grade": false,
     "grade_id": "cell-e164db48f429b609",
     "locked": false,
     "schema_version": 3,
     "solution": true,
     "task": false
    }
   },
   "outputs": [],
   "source": [
    "set.seed(7631)\n",
    "\n",
    "# sampling_dist_20x5000 <- \n",
    "#     apt_ages %>% \n",
    "#     ... %>% # this is a multiline command\n",
    "#     ggplot(aes(x = sample_var)) + \n",
    "#     geom_histogram(binwidth = 5) +\n",
    "#     ggtitle(\"size = 20, 5000 reps\") +\n",
    "#     xlab(\"Sample Variance\")\n",
    "\n",
    "# your code here\n",
    "fail() # No Answer - remove if you provide an answer\n",
    "\n",
    "sampling_dist_20x5000"
   ]
  },
  {
   "cell_type": "code",
   "execution_count": null,
   "metadata": {
    "deletable": false,
    "editable": false,
    "nbgrader": {
     "cell_type": "code",
     "checksum": "09ee10320c2421019b63ef9111daaad8",
     "grade": true,
     "grade_id": "cell-9e1d0fb5432536fb",
     "locked": true,
     "points": 1,
     "schema_version": 3,
     "solution": false,
     "task": false
    }
   },
   "outputs": [],
   "source": [
    "test_3.2()"
   ]
  },
  {
   "cell_type": "markdown",
   "metadata": {
    "deletable": false,
    "editable": false,
    "nbgrader": {
     "cell_type": "markdown",
     "checksum": "6e5001624bca5f5f379e2886f66386ce",
     "grade": false,
     "grade_id": "cell-9ce06ef61e845054",
     "locked": true,
     "schema_version": 3,
     "solution": false,
     "task": false
    }
   },
   "source": [
    "**Question 3.3**\n",
    "<br> {points: 1}\n",
    "\n",
    "Using the same strategy as you did in **Question 3.1**, draw 20000 random samples of size 20 from the population `apt_ages`. Use the seed `3695`. Then, for each sample, calculate the variance. Finally, visualize the distribution of the sample variances you just calculated by plotting a histogram with bin widths of 5 using `geom_histogram`. Add a title of \"size = 20, 20000 reps\" to the plot using `ggtitle` and ensure that the x-axis has a descriptive and human-readable label.\n",
    "\n",
    "_**Hint:** you can use the code from the previous section as a framework for your code here!_\n",
    "\n",
    "_Assign your plot to an object called `sampling_dist_20x20000`._"
   ]
  },
  {
   "cell_type": "code",
   "execution_count": null,
   "metadata": {
    "deletable": false,
    "nbgrader": {
     "cell_type": "code",
     "checksum": "d3dfb3208a51210d22c43cc60127847b",
     "grade": false,
     "grade_id": "cell-a98f148673d4e2d7",
     "locked": false,
     "schema_version": 3,
     "solution": true,
     "task": false
    }
   },
   "outputs": [],
   "source": [
    "set.seed(3695)\n",
    "\n",
    "# sampling_dist_20x20000 <- \n",
    "#     apt_ages %>% \n",
    "#     rep_sample_n(size = 20, reps = ...) %>% \n",
    "#     group_by(replicate) %>% \n",
    "#     summarise(sample_var = var(age_yrs)) %>% \n",
    "#     ggplot(aes(x = sample_var)) + \n",
    "#     geom_histogram(binwidth = 5) +\n",
    "#     ggtitle(\"size = 20, 20000 reps\") +\n",
    "#     xlab(\"Sample Variance\")\n",
    "\n",
    "# your code here\n",
    "fail() # No Answer - remove if you provide an answer\n",
    "\n",
    "sampling_dist_20x20000"
   ]
  },
  {
   "cell_type": "code",
   "execution_count": null,
   "metadata": {
    "deletable": false,
    "editable": false,
    "nbgrader": {
     "cell_type": "code",
     "checksum": "09fc922da2d7a62502b7e88e04e251fe",
     "grade": true,
     "grade_id": "cell-b43ba8b35a85ddee",
     "locked": true,
     "points": 1,
     "schema_version": 3,
     "solution": false,
     "task": false
    }
   },
   "outputs": [],
   "source": [
    "test_3.3()"
   ]
  },
  {
   "cell_type": "markdown",
   "metadata": {
    "deletable": false,
    "editable": false,
    "nbgrader": {
     "cell_type": "markdown",
     "checksum": "dba14ceaaca05ac6e91cdd880e8b48ab",
     "grade": false,
     "grade_id": "cell-2c5f079c329e35a4",
     "locked": true,
     "schema_version": 3,
     "solution": false,
     "task": false
    }
   },
   "source": [
    "_Use the set of plots below to answer the **next question**. Some of the code may be confusing, but you do not need to understand the code to answer the question._\n",
    "\n",
    "In the code cell below, we have used `plot_grid` to plot the three sampling distributions side-by-side. We have sorted the plots by increasing order of sample repetitions from top to bottom.\n",
    "\n",
    "**Note**: a small number of the sample variances are not visible because we manually set bounds on the x-axis so you can compare the distributions more easily (this causes the warnings you observe below)."
   ]
  },
  {
   "cell_type": "code",
   "execution_count": null,
   "metadata": {
    "deletable": false,
    "editable": false,
    "nbgrader": {
     "cell_type": "code",
     "checksum": "db4aa9d7a2ceb68f2a3eeb57d3aff2cd",
     "grade": false,
     "grade_id": "cell-a4bc2c031eabf499",
     "locked": true,
     "schema_version": 3,
     "solution": false,
     "task": false
    }
   },
   "outputs": [],
   "source": [
    "# Run this cell before continuing.\n",
    "options(repr.plot.width = 10, repr.plot.height = 8) # temp\n",
    "\n",
    "var_plot_col <- plot_grid(sampling_dist_20x1000  + xlim(0, 1500),\n",
    "                          sampling_dist_20x5000  + xlim(0, 1500),\n",
    "                          sampling_dist_20x20000 + xlim(0, 1500),\n",
    "                          ncol = 1)\n",
    "title <- ggdraw() + \n",
    "  draw_label(\"Comparison of distributions of sample variances, varying sample repetitions\",\n",
    "             fontface = 'bold',\n",
    "             x = 0,\n",
    "             hjust = 0) +\n",
    "  theme(plot.margin = margin(0, 0, 0, 7))\n",
    "\n",
    "vars_grid <- plot_grid(title,\n",
    "                       var_plot_col,\n",
    "                       ncol = 1,\n",
    "                       rel_heights = c(0.1, 1))\n",
    "\n",
    "vars_grid"
   ]
  },
  {
   "cell_type": "markdown",
   "metadata": {
    "deletable": false,
    "editable": false,
    "nbgrader": {
     "cell_type": "markdown",
     "checksum": "93fae78f92de7a4fa387c4b8e2b31730",
     "grade": false,
     "grade_id": "cell-6f255566d10e17eb",
     "locked": true,
     "schema_version": 3,
     "solution": false,
     "task": false
    }
   },
   "source": [
    "**Question 3.4**\n",
    "<br> {points: 3}\n",
    "\n",
    "**Note:** the bin widths for the histograms above are _significantly_ smaller than the bin widths for the histograms produced in section 2 so we can see the effects of number of sampling repetitions clearly.\n",
    "\n",
    "How does the sampling distribution change as we increase the number of sampling repititions?"
   ]
  },
  {
   "cell_type": "markdown",
   "metadata": {
    "deletable": false,
    "nbgrader": {
     "cell_type": "markdown",
     "checksum": "731cb671d770263495b720b44f8e1093",
     "grade": true,
     "grade_id": "cell-643cde902b49aeb1",
     "locked": false,
     "points": 3,
     "schema_version": 3,
     "solution": true,
     "task": false
    }
   },
   "source": [
    "DOUBLE CLICK TO EDIT **THIS CELL** AND REPLACE THIS TEXT WITH YOUR ANSWER."
   ]
  },
  {
   "cell_type": "markdown",
   "metadata": {
    "deletable": false,
    "editable": false,
    "nbgrader": {
     "cell_type": "markdown",
     "checksum": "d70f006dbf6d6534b3000ce034d316f8",
     "grade": false,
     "grade_id": "cell-1e3d8991a08a1e75",
     "locked": true,
     "schema_version": 3,
     "solution": false,
     "task": false
    }
   },
   "source": [
    "_Use the plot below to answer the **next 2 questions**._\n",
    "\n",
    "Below is a picture of a sampling distribution (displayed a histogram with **bin widths of 2**) that was produced by taking **20 million samples** of size 20 from `apt_ages` using `rep_sample_n`. This is an extreme example to further demonstrate the effects of the number of sample repetitions on the resulting sample distribution:\n",
    "\n",
    "<img src=\"smooth_plot.png\" style=\"width: 500px;\"/>\n",
    "\n",
    "> <font color='red'><font size = 3>**WARNING!**</font>: Do **NOT** attempt to take this many samples on your own inside this notebook **OR ANY OTHER NOTEBOOK** located on the JupyterHub that we use for STAT 201."
   ]
  },
  {
   "cell_type": "markdown",
   "metadata": {
    "deletable": false,
    "editable": false,
    "nbgrader": {
     "cell_type": "markdown",
     "checksum": "1b61422f166e9bf09ac92fa900f7912f",
     "grade": false,
     "grade_id": "cell-074c6d2ab15ba4e2",
     "locked": true,
     "schema_version": 3,
     "solution": false,
     "task": false
    }
   },
   "source": [
    "**Question 3.5**\n",
    "<br> {points: 3}\n",
    "\n",
    "Why don't we always take a large number of samples when exploring sampling distributions so we can get a nice, smooth distribution like the one shown above?\n",
    "\n",
    "A. Taking a large number of samples is computationally expensive.\n",
    "\n",
    "B. We may not always have enough data to draw such a large number of samples.\n",
    "\n",
    "C. We can get a good approximation of the \"smoother\" sampling distribution by using less sample repetitions, but larger bin widths in our histogram.\n",
    "\n",
    "D. All of the above.\n",
    "\n",
    "E. A and B only.\n",
    "\n",
    "F. A and C only.\n",
    "\n",
    "G. B and C only.\n",
    "\n",
    "H. None of the above.\n",
    "\n",
    "_Assign your answer to an object called `answer3.5`. Your answer should be a single character surrounded by quotes._"
   ]
  },
  {
   "cell_type": "code",
   "execution_count": null,
   "metadata": {
    "deletable": false,
    "nbgrader": {
     "cell_type": "code",
     "checksum": "703b5da7e075a197b43c468aef8c355f",
     "grade": false,
     "grade_id": "cell-e13587503fbb792d",
     "locked": false,
     "schema_version": 3,
     "solution": true,
     "task": false
    }
   },
   "outputs": [],
   "source": [
    "# answer3.5 <- ...\n",
    "\n",
    "# your code here\n",
    "fail() # No Answer - remove if you provide an answer"
   ]
  },
  {
   "cell_type": "code",
   "execution_count": null,
   "metadata": {
    "deletable": false,
    "editable": false,
    "nbgrader": {
     "cell_type": "code",
     "checksum": "dfdbab8af07a51d1cd56ff0edfe5faca",
     "grade": true,
     "grade_id": "cell-b121ddf9b7f0c895",
     "locked": true,
     "points": 1,
     "schema_version": 3,
     "solution": false,
     "task": false
    }
   },
   "outputs": [],
   "source": [
    "test_3.5()"
   ]
  },
  {
   "cell_type": "markdown",
   "metadata": {
    "deletable": false,
    "editable": false,
    "nbgrader": {
     "cell_type": "markdown",
     "checksum": "494721e0baeb79d3813355fce72b5e99",
     "grade": false,
     "grade_id": "cell-0955b59c0b3419f0",
     "locked": true,
     "schema_version": 3,
     "solution": false,
     "task": false
    }
   },
   "source": [
    "**Question 3.6**\n",
    "<br> {points: 3}\n",
    "\n",
    "True or false?\n",
    "\n",
    "The sampling distribution displayed below is a good approximation of the smooth sampling distribution pictured above.\n",
    "\n",
    "**Note:** the sampling distribution below was generated using 2000 samples of size 20 and bin widths of 45.\n",
    "\n",
    "_Assign your answer to an object called `answer3.7`. Your answer should be either \"true\" or \"false\", surrounded by quotes._"
   ]
  },
  {
   "cell_type": "code",
   "execution_count": null,
   "metadata": {
    "deletable": false,
    "editable": false,
    "nbgrader": {
     "cell_type": "code",
     "checksum": "d65e4fb7145e35b3abf1848f26398cf1",
     "grade": false,
     "grade_id": "cell-ad4f0cac123403fd",
     "locked": true,
     "schema_version": 3,
     "solution": false,
     "task": false
    }
   },
   "outputs": [],
   "source": [
    "# NOTE: perhaps convert this plot to a picture to hide the code?\n",
    "options(repr.plot.width = 9, repr.plot.height = 4) # temp\n",
    "set.seed(4746)\n",
    "\n",
    "apt_ages %>% \n",
    "    rep_sample_n(size = 20, reps = 2000) %>% \n",
    "    group_by(replicate) %>% \n",
    "    summarise(sample_var = var(age_yrs)) %>% \n",
    "    ggplot(aes(x = sample_var)) + \n",
    "    geom_histogram(binwidth = 45, color = 'white') +\n",
    "    ggtitle(\"size = 20, 2000 reps\") +\n",
    "    xlab(\"Sample Variance\")"
   ]
  },
  {
   "cell_type": "code",
   "execution_count": null,
   "metadata": {
    "deletable": false,
    "nbgrader": {
     "cell_type": "code",
     "checksum": "4eb1b323e41716b85111c9b1624629a9",
     "grade": false,
     "grade_id": "cell-35cda83f1d9208f9",
     "locked": false,
     "schema_version": 3,
     "solution": true,
     "task": false
    }
   },
   "outputs": [],
   "source": [
    "# answer3.6 <- ...\n",
    "\n",
    "# your code here\n",
    "fail() # No Answer - remove if you provide an answer"
   ]
  },
  {
   "cell_type": "code",
   "execution_count": null,
   "metadata": {
    "deletable": false,
    "editable": false,
    "nbgrader": {
     "cell_type": "code",
     "checksum": "807486c1cdc83088c3de33d3484452e4",
     "grade": true,
     "grade_id": "cell-a776642bf4dae7b9",
     "locked": true,
     "points": 1,
     "schema_version": 3,
     "solution": false,
     "task": false
    }
   },
   "outputs": [],
   "source": [
    "test_3.6()"
   ]
  },
  {
   "cell_type": "markdown",
   "metadata": {
    "deletable": false,
    "editable": false,
    "nbgrader": {
     "cell_type": "markdown",
     "checksum": "2a00645fc8a50d2c1f1514cc24f90dc6",
     "grade": false,
     "grade_id": "cell-2a19d7a7bc919855",
     "locked": true,
     "schema_version": 3,
     "solution": false,
     "task": false
    }
   },
   "source": [
    "## 4. Distributions\n",
    "\n",
    "So far, in this course, we have looked at many different distributions, each of which falls into one of three different categories:\n",
    "\n",
    "1. Population distributions\n",
    "2. Sample distributions\n",
    "3. Sampl**_ing_** distributions (of an estimator)\n",
    "\n",
    "In this section, we are going to revisit the definitions of each distribution and explore the relationships between them using `apt_buildings` dataset that we introduced at the start of this tutorial. However, this time we will look at the `no_of_storeys` variable and parameters relating to the centre of the population; the median and the mean.\n",
    "\n",
    "In the code cell below, we have selected only the `no_of_storeys` column and saved the result to a data frame named `apt_storeys` for your convenience; we will define this as our population for this section."
   ]
  },
  {
   "cell_type": "code",
   "execution_count": null,
   "metadata": {
    "deletable": false,
    "editable": false,
    "nbgrader": {
     "cell_type": "code",
     "checksum": "c7961cb6dead582826c2043d68742c32",
     "grade": false,
     "grade_id": "cell-6a610402ab257f46",
     "locked": true,
     "schema_version": 3,
     "solution": false,
     "task": false
    }
   },
   "outputs": [],
   "source": [
    "apt_storeys <- apt_buildings %>% \n",
    "    select(no_of_storeys)"
   ]
  },
  {
   "cell_type": "markdown",
   "metadata": {
    "deletable": false,
    "editable": false,
    "nbgrader": {
     "cell_type": "markdown",
     "checksum": "a151b03658e3deabc2125fb45e471b19",
     "grade": false,
     "grade_id": "cell-93214766c0edcabb",
     "locked": true,
     "schema_version": 3,
     "solution": false,
     "task": false
    }
   },
   "source": [
    "To visualize the population distribution, we created a histogram."
   ]
  },
  {
   "cell_type": "code",
   "execution_count": null,
   "metadata": {
    "deletable": false,
    "editable": false,
    "nbgrader": {
     "cell_type": "code",
     "checksum": "f27f8d4ac7ff5e587726d4aa4665a486",
     "grade": false,
     "grade_id": "cell-0221ce4a6d88c79e",
     "locked": true,
     "schema_version": 3,
     "solution": false,
     "task": false
    }
   },
   "outputs": [],
   "source": [
    "apt_storeys_dist <- apt_storeys %>% \n",
    "    ggplot(aes(x = no_of_storeys)) +\n",
    "    geom_histogram(binwidth = 2, boundary = 1, color = 'white') +\n",
    "    ggtitle(\"# Storeys In Toronto ABS Apartment Buildings\") +\n",
    "    xlab(\"# Storeys\")\n",
    "\n",
    "apt_storeys_dist"
   ]
  },
  {
   "cell_type": "markdown",
   "metadata": {
    "deletable": false,
    "editable": false,
    "nbgrader": {
     "cell_type": "markdown",
     "checksum": "2cd4e6687a8749ac8e5da6c57b9989dd",
     "grade": false,
     "grade_id": "cell-d0409ad1e1b9e058",
     "locked": true,
     "schema_version": 3,
     "solution": false,
     "task": false
    }
   },
   "source": [
    "**Question 4.1**\n",
    "<br> {points: 3}\n",
    "\n",
    "Considering the population `apt_storeys` and the population distribution you created above, which pair of distributions from the following list would you expect to have the **most** similar characteristics?\n",
    "\n",
    "1. Population distribution of `apt_storeys`\n",
    "2. Sample distribution generated using a sample of size 15 from `apt_storeys`\n",
    "3. Sample distribution generated using a sample of size 283 from `apt_storeys`\n",
    "4. Sampling distribution of sample medians generated using samples of size 9 and 200,000 sample repetitions from `apt_storeys`\n",
    "5. Sampling distribution of sample means (generated using samples of size 175 and 200,000 sample repetitions from `apt_storeys`\n",
    "\n",
    "A. 1 & 2\n",
    "\n",
    "B. 1 & 3\n",
    "\n",
    "C. 1 & 4\n",
    "\n",
    "D. 1 & 5\n",
    "\n",
    "E. 2 & 3\n",
    "\n",
    "F. 4 & 5\n",
    "\n",
    "G. There is not enough information to answer the question.\n",
    "\n",
    "_Assign your answer to an object called `answer4.1`. Your answer should be a single character surrounded by quotes._"
   ]
  },
  {
   "cell_type": "code",
   "execution_count": null,
   "metadata": {
    "deletable": false,
    "nbgrader": {
     "cell_type": "code",
     "checksum": "abbfbb77b85eb75881c595ea5e4eb552",
     "grade": false,
     "grade_id": "cell-b37888aa62cb71ee",
     "locked": false,
     "schema_version": 3,
     "solution": true,
     "task": false
    }
   },
   "outputs": [],
   "source": [
    "# answer4.1 <- ...\n",
    "\n",
    "# your code here\n",
    "fail() # No Answer - remove if you provide an answer"
   ]
  },
  {
   "cell_type": "code",
   "execution_count": null,
   "metadata": {
    "deletable": false,
    "editable": false,
    "nbgrader": {
     "cell_type": "code",
     "checksum": "789830c105dfa6e72a46f32b6971241a",
     "grade": true,
     "grade_id": "cell-415f912ba3f6516c",
     "locked": true,
     "points": 3,
     "schema_version": 3,
     "solution": false,
     "task": false
    }
   },
   "outputs": [],
   "source": [
    "# Here we check to see whether you have given your answer the correct\n",
    "# object name. However, all other tests have been hidden so you can\n",
    "# practice deciding when you have the correct answer.\n",
    "test_that('Did not assign answer to an object called \"answer4.1\"', {\n",
    "  expect_true(exists(\"answer4.1\"))\n",
    "})\n",
    "\n",
    "test_that('Solution should be a single character (\"A\", \"B\", \"C\", \"D\", \"E\", \"F\", or \"G\")', {\n",
    "  expect_match(answer4.1, \"a|b|c|d|e|f|g\", ignore.case = TRUE)\n",
    "})"
   ]
  },
  {
   "cell_type": "markdown",
   "metadata": {
    "deletable": false,
    "editable": false,
    "nbgrader": {
     "cell_type": "markdown",
     "checksum": "80ea183f155be027c4b0321dec21de5f",
     "grade": false,
     "grade_id": "cell-a7274b64a2787415",
     "locked": true,
     "schema_version": 3,
     "solution": false,
     "task": false
    }
   },
   "source": [
    "**Question 4.2**\n",
    "<br> {points: 3}\n",
    "\n",
    "True or false?\n",
    "\n",
    "As you increase the sample size used to generate a sample distribution, the variance of the distribution will decrease.\n",
    "\n",
    "_Assign your answer to an object called `answer4.2`. Your answer should be either \"true\" or \"false\", surrounded by quotes._"
   ]
  },
  {
   "cell_type": "code",
   "execution_count": null,
   "metadata": {
    "deletable": false,
    "nbgrader": {
     "cell_type": "code",
     "checksum": "c6fba2f1e8cb1cb8c9c3a6d7cc9c7053",
     "grade": false,
     "grade_id": "cell-997d8932340fa6c7",
     "locked": false,
     "schema_version": 3,
     "solution": true,
     "task": false
    }
   },
   "outputs": [],
   "source": [
    "# answer4.2 <- ...\n",
    "\n",
    "# your code here\n",
    "fail() # No Answer - remove if you provide an answer"
   ]
  },
  {
   "cell_type": "code",
   "execution_count": null,
   "metadata": {
    "deletable": false,
    "editable": false,
    "nbgrader": {
     "cell_type": "code",
     "checksum": "4acb10e628ff2762bec2ea471fb023c5",
     "grade": true,
     "grade_id": "cell-592172c7a16ff792",
     "locked": true,
     "points": 3,
     "schema_version": 3,
     "solution": false,
     "task": false
    }
   },
   "outputs": [],
   "source": [
    "# Here we check to see whether you have given your answer the correct\n",
    "# object name. However, all other tests have been hidden so you can\n",
    "# practice deciding when you have the correct answer.\n",
    "test_that('Did not assign answer to an object called \"answer4.2\"', {\n",
    "  expect_true(exists(\"answer4.2\"))\n",
    "})\n",
    "\n",
    "test_that('Answer should be \"true\" or \"false\"', {\n",
    "  expect_match(answer4.2, \"true|false\", ignore.case = TRUE)\n",
    "})"
   ]
  },
  {
   "cell_type": "markdown",
   "metadata": {
    "deletable": false,
    "editable": false,
    "nbgrader": {
     "cell_type": "markdown",
     "checksum": "295ef23de1c4651c6af4b5788725f226",
     "grade": false,
     "grade_id": "cell-3693c9a1d65aa0d5",
     "locked": true,
     "schema_version": 3,
     "solution": false,
     "task": false
    }
   },
   "source": [
    "**Question 4.3**\n",
    "<br> {points: 3}\n",
    "\n",
    "**Note:** this question has two parts!\n",
    "\n",
    "a) Take a single sample from `apt_storeys` of size 100 using the `rep_sample_n` function and a seed of 4524.\n",
    "\n",
    "_Assign your data frame to an object called `sample`._\n",
    "\n",
    "<br>\n",
    "\n",
    "b) Afterwards, visualize the distribution of the sample by creating a histogram with bin widths of 2 using `geom_histogram`. Additionally, add the argument `boundary = 0` to `geom_histogram` to force the histogram bars to start at 0 on the x-axis. Finally, add a title to the plot using `ggtitle` and ensure that the x-axis has a descriptive and human-readable label.\n",
    "\n",
    "_Assign your plot to an object called `sample_dist`._"
   ]
  },
  {
   "cell_type": "code",
   "execution_count": null,
   "metadata": {
    "deletable": false,
    "nbgrader": {
     "cell_type": "code",
     "checksum": "92b8294adc2ba0c66284284132d4f79e",
     "grade": false,
     "grade_id": "cell-0096b4d2dcdb1e76",
     "locked": false,
     "schema_version": 3,
     "solution": true,
     "task": false
    }
   },
   "outputs": [],
   "source": [
    "set.seed(4524)\n",
    "\n",
    "# your code here\n",
    "fail() # No Answer - remove if you provide an answer\n",
    "\n",
    "head(sample)\n",
    "sample_dist"
   ]
  },
  {
   "cell_type": "code",
   "execution_count": null,
   "metadata": {
    "deletable": false,
    "editable": false,
    "nbgrader": {
     "cell_type": "code",
     "checksum": "1b852f0e6c33d5e4d5702828fd2e361e",
     "grade": true,
     "grade_id": "cell-30c5d7cb7339ff00",
     "locked": true,
     "points": 3,
     "schema_version": 3,
     "solution": false,
     "task": false
    }
   },
   "outputs": [],
   "source": [
    "# Here we check to see whether you have given your answer the correct\n",
    "# object name. However, all other tests have been hidden so you can\n",
    "# practice deciding when you have the correct answer.\n",
    "test_that('Did not assign answer to an object called \"sample\"', {\n",
    "  expect_true(exists(\"sample\"))\n",
    "})\n",
    "\n",
    "test_that('Did not assign answer to an object called \"sample_dist\"', {\n",
    "  expect_true(exists(\"sample_dist\"))\n",
    "})"
   ]
  },
  {
   "cell_type": "markdown",
   "metadata": {
    "deletable": false,
    "editable": false,
    "nbgrader": {
     "cell_type": "markdown",
     "checksum": "43b0134f7f0087a817d8d62ae6c4a9e6",
     "grade": false,
     "grade_id": "cell-2c2a90f042653be6",
     "locked": true,
     "schema_version": 3,
     "solution": false,
     "task": false
    }
   },
   "source": [
    "**Question 4.4**\n",
    "<br> {points: 3}\n",
    "\n",
    "In the code below we calculate the **mean** and the **median** of the sample you took in **question 4.3** (`sample`).\n"
   ]
  },
  {
   "cell_type": "code",
   "execution_count": null,
   "metadata": {
    "deletable": false,
    "editable": false,
    "nbgrader": {
     "cell_type": "code",
     "checksum": "bc61f7caadc06a39fb7f61ba6c29c167",
     "grade": false,
     "grade_id": "cell-d7ab7f6fe8350cb7",
     "locked": true,
     "schema_version": 3,
     "solution": false,
     "task": false
    }
   },
   "outputs": [],
   "source": [
    "sample_mean <- mean(sample$no_of_storeys)\n",
    "sample_median <- median(sample$no_of_storeys)\n",
    "\n",
    "sample_mean\n",
    "sample_median"
   ]
  },
  {
   "cell_type": "markdown",
   "metadata": {
    "deletable": false,
    "editable": false,
    "nbgrader": {
     "cell_type": "markdown",
     "checksum": "35a811f4a519e6712437aa6d1cfb93a9",
     "grade": false,
     "grade_id": "cell-1d7870dee996de61",
     "locked": true,
     "schema_version": 3,
     "solution": false,
     "task": false
    }
   },
   "source": [
    "_Use the value of `sample_mean` and `sample_median` to answer the **question**._"
   ]
  },
  {
   "cell_type": "markdown",
   "metadata": {
    "deletable": false,
    "editable": false,
    "nbgrader": {
     "cell_type": "markdown",
     "checksum": "0ca1685ac548e16a415fbf82be3a4a25",
     "grade": false,
     "grade_id": "cell-d65a150c5fae03d6",
     "locked": true,
     "schema_version": 3,
     "solution": false,
     "task": false
    }
   },
   "source": [
    "Consider the following two distributions:\n",
    "1. Sampling distribution of sample means of `apt_storeys`, generated using 50,000 samples of size 250\n",
    "2. Sampling distribution of sample medians of `apt_storeys`, generated using 50,000 samples of size 250\n",
    "\n",
    "Given the values of `sample_mean` and `sample_median`, what should you expect about the position of the mean of distribution 2 in comparison to the mean of distribution 1?"
   ]
  },
  {
   "cell_type": "markdown",
   "metadata": {
    "deletable": false,
    "nbgrader": {
     "cell_type": "markdown",
     "checksum": "108568f274a3ebd8063a7becde1dc396",
     "grade": true,
     "grade_id": "cell-e1caed95e00109dc",
     "locked": false,
     "points": 3,
     "schema_version": 3,
     "solution": true,
     "task": false
    }
   },
   "source": [
    "DOUBLE CLICK TO EDIT **THIS CELL** AND REPLACE THIS TEXT WITH YOUR ANSWER."
   ]
  },
  {
   "cell_type": "markdown",
   "metadata": {
    "deletable": false,
    "editable": false,
    "nbgrader": {
     "cell_type": "markdown",
     "checksum": "9b9ea2eb6eecb025a19fe46c8264b2e7",
     "grade": false,
     "grade_id": "cell-cc0545fe782efe45",
     "locked": true,
     "schema_version": 3,
     "solution": false,
     "task": false
    }
   },
   "source": [
    "## 5. Sample size"
   ]
  },
  {
   "cell_type": "markdown",
   "metadata": {
    "deletable": false,
    "editable": false,
    "nbgrader": {
     "cell_type": "markdown",
     "checksum": "67a5469f67d7f05173d162e522344554",
     "grade": false,
     "grade_id": "cell-24d83e70f27a6c55",
     "locked": true,
     "schema_version": 3,
     "solution": false,
     "task": false
    }
   },
   "source": [
    "_Use the following scenario to answer the next **2 questions**._\n",
    "\n",
    "Suppose you are interested in determining the median height of all students at UBC. You do not have the resources to perform a census or take a large number of samples. You end up gathering two different samples and compute a point estimate of the median for each sample. The details of each point estimate are as follows:\n",
    "\n",
    "1. Using a sample size of 42, you calculate a sample median of 175.3cm (or around 5' 9\"). You are certain that the sample is unbiased and representative of the population.\n",
    "2. Using a sample size of 7, you calculate a sample median of 167.6cm (or around 5' 6\"). You are certain that the sample is unbiased and representative of the population."
   ]
  },
  {
   "cell_type": "markdown",
   "metadata": {
    "deletable": false,
    "editable": false,
    "nbgrader": {
     "cell_type": "markdown",
     "checksum": "8020b84bdd1cc67d04868ff56a24ed0d",
     "grade": false,
     "grade_id": "cell-dd0a789519d115f0",
     "locked": true,
     "schema_version": 3,
     "solution": false,
     "task": false
    }
   },
   "source": [
    "**Question 5.0**\n",
    "<br> {points: 1}\n",
    "\n",
    "Which point estimate has a **higher chance** of being closer to the true median of all students at UBC?\n",
    "\n",
    "A. Point estimate 1\n",
    "\n",
    "B. Point estimate 2\n",
    "\n",
    "_Assign your answer to an object called `answer5.0`. Your answer should be a single character surrounded by quotes._"
   ]
  },
  {
   "cell_type": "code",
   "execution_count": null,
   "metadata": {
    "deletable": false,
    "nbgrader": {
     "cell_type": "code",
     "checksum": "bf75700d4c3e1a12ff59ec5193d28115",
     "grade": false,
     "grade_id": "cell-c93aa63b25d2e85f",
     "locked": false,
     "schema_version": 3,
     "solution": true,
     "task": false
    }
   },
   "outputs": [],
   "source": [
    "# answer5.0 <- ...\n",
    "\n",
    "# your code here\n",
    "fail() # No Answer - remove if you provide an answer"
   ]
  },
  {
   "cell_type": "code",
   "execution_count": null,
   "metadata": {
    "deletable": false,
    "editable": false,
    "nbgrader": {
     "cell_type": "code",
     "checksum": "8b78f13b509fad0ac4328c2cf56fae4b",
     "grade": true,
     "grade_id": "cell-7508e66b22ea9921",
     "locked": true,
     "points": 1,
     "schema_version": 3,
     "solution": false,
     "task": false
    }
   },
   "outputs": [],
   "source": [
    "test_5.0()"
   ]
  },
  {
   "cell_type": "markdown",
   "metadata": {
    "deletable": false,
    "editable": false,
    "nbgrader": {
     "cell_type": "markdown",
     "checksum": "208923d264002b87f02ae7423354dbf0",
     "grade": false,
     "grade_id": "cell-95d4625fca43e5b6",
     "locked": true,
     "schema_version": 3,
     "solution": false,
     "task": false
    }
   },
   "source": [
    "**Question 5.1**\n",
    "<br> {points: 1}\n",
    "\n",
    "True or false?\n",
    "\n",
    "One potential justification for the correct answer to the previous question could be: the standard deviation of the sampling distribution containing the first point estimate is larger than the standard deviation of the sampling distribution containing the second point estimate.\n",
    "\n",
    "_Assign your answer to an object called `answer5.1`. Your answer should be either \"true\" or \"false\", surrounded by quotes._"
   ]
  },
  {
   "cell_type": "code",
   "execution_count": null,
   "metadata": {
    "deletable": false,
    "nbgrader": {
     "cell_type": "code",
     "checksum": "47a5cbd5a99527720492540cdf24f46a",
     "grade": false,
     "grade_id": "cell-8c31f7f568de20b2",
     "locked": false,
     "schema_version": 3,
     "solution": true,
     "task": false
    }
   },
   "outputs": [],
   "source": [
    "# answer5.1 <- ...\n",
    "\n",
    "# your code here\n",
    "fail() # No Answer - remove if you provide an answer"
   ]
  },
  {
   "cell_type": "code",
   "execution_count": null,
   "metadata": {
    "deletable": false,
    "editable": false,
    "nbgrader": {
     "cell_type": "code",
     "checksum": "5f711b8f3c50fa69cc139f3f3a9e6fa6",
     "grade": true,
     "grade_id": "cell-2a4e3bd34392bce5",
     "locked": true,
     "points": 1,
     "schema_version": 3,
     "solution": false,
     "task": false
    }
   },
   "outputs": [],
   "source": [
    "test_5.1()"
   ]
  },
  {
   "cell_type": "markdown",
   "metadata": {
    "deletable": false,
    "editable": false,
    "nbgrader": {
     "cell_type": "markdown",
     "checksum": "f85f505efe9acb3ef3bbba0aa826629c",
     "grade": false,
     "grade_id": "cell-0309ec6e5ac87350",
     "locked": true,
     "schema_version": 3,
     "solution": false,
     "task": false
    }
   },
   "source": [
    "## 6. CTL vs bootstrap approximation\n",
    "\n",
    "Recall from tutorial 2, we used the `tax_2019` dataset from the `taxyvr` R package to look at the **proportion of properties in Vancouver located downtown**. To so do, we looked at the `geo_local_area`, which describes the local area where the property can be found (such as Kitsilano, Downtown, or Oakridge). Specifically, we will be looking at  (have a `geo_local_area` of `\"Downtown\"`), which we can call our population parameter of interest.\n",
    "\n",
    "Just as before, don't forget about where we are in the grand scheme of things. Let's remind ourselves of the two things we should be keeping in mind as we work through this section:\n",
    "\n",
    "> First, we don't usually have access to data for the entire population that we are interested. If we did, we could always calculate the population parameter directly. Here, we are taking the opportunity of having access to these entire populations to study sampling distributions. Second, always remember the purpose of learning about sampling distributions. By learning about the properties of sampling distributions, you will be able to understand the inherent variability/error in point estimates. This \"error\" associated with a point estimate is critical, and in later weeks we will learn how to report it formally.\n",
    "\n",
    "Since you have done this previously, below we take the `tax_2019` dataset, filter out the rows that contain an NA in the geo_local_area column and select only this column. In addition, we have created an approximation of the sampling distribution for a sample size of 10 and plotted it below. To refresh your memory, please see tutorial 2.\n"
   ]
  },
  {
   "cell_type": "code",
   "execution_count": null,
   "metadata": {
    "deletable": false,
    "editable": false,
    "nbgrader": {
     "cell_type": "code",
     "checksum": "0b1316661145d04df3e083b85ad2b71b",
     "grade": false,
     "grade_id": "cell-c1f42fe962aea858",
     "locked": true,
     "schema_version": 3,
     "solution": false,
     "task": false
    }
   },
   "outputs": [],
   "source": [
    "geo_pop <- \n",
    "    tax_2019 %>%  \n",
    "    filter(!is.na(geo_local_area)) %>% \n",
    "    select(geo_local_area)\n",
    "\n",
    "head(geo_pop)\n",
    "\n",
    "set.seed(2410)\n",
    "sampling_dist_10 <- \n",
    "    geo_pop %>% \n",
    "    rep_sample_n(size = 10, reps = 2000) %>% \n",
    "    group_by(replicate) %>% \n",
    "    summarize(x = sum(geo_local_area == \"Downtown\"),\n",
    "              n = n()) %>% \n",
    "    mutate(sample_proportion = x / n) %>% \n",
    "    ggplot(aes(x = sample_proportion)) +\n",
    "    geom_histogram(binwidth = 1/10, color = 'white') +\n",
    "    xlab(\"Sample Proportion of Downtown Buildings\") +\n",
    "    ggtitle(\"n = 10\")\n",
    "\n",
    "sampling_dist_10\n"
   ]
  },
  {
   "cell_type": "markdown",
   "metadata": {
    "deletable": false,
    "editable": false,
    "nbgrader": {
     "cell_type": "markdown",
     "checksum": "adc36ab501c638446410b682c8ad95ce",
     "grade": false,
     "grade_id": "cell-ef6519fea53617bf",
     "locked": true,
     "schema_version": 3,
     "solution": false,
     "task": false
    }
   },
   "source": [
    "**Question 6.1** \n",
    "<br> {points: 1}\n",
    "\n",
    "Draw 2000 random samples of size 30 from the population `geo_pop` using the `rep_sample_n` function. Use the seed `6977`. For each sample, calculate the proportion as the point estimate. Lastly, let's visualize the distribution of the sample proportions (point estimates) you just calculated by plotting a histogram.\n",
    "\n",
    "_Assign your plot to an object called `sampling_dist_30`._"
   ]
  },
  {
   "cell_type": "code",
   "execution_count": null,
   "metadata": {
    "deletable": false,
    "nbgrader": {
     "cell_type": "code",
     "checksum": "4e2de522895d457b9be5782a1b16520f",
     "grade": false,
     "grade_id": "cell-6662981ad1c6053f",
     "locked": false,
     "schema_version": 3,
     "solution": true,
     "task": false
    }
   },
   "outputs": [],
   "source": [
    "set.seed(6977) # DO NOT CHANGE!\n",
    "\n",
    "# sampling_dist_30 <- \n",
    "#     ... %>% # This is a multiline command\n",
    "#     mutate(sample_proportion = x / n) %>% \n",
    "#     ggplot(aes(x = sample_proportion)) +\n",
    "#     geom_histogram(binwidth = 1/30, color = 'white') +\n",
    "#     xlab(\"Sample Proportion of Downtown Buildings\") +\n",
    "#     ggtitle(\"n = 30\")\n",
    "\n",
    "# your code here\n",
    "fail() # No Answer - remove if you provide an answer\n",
    "\n",
    "sampling_dist_30"
   ]
  },
  {
   "cell_type": "code",
   "execution_count": null,
   "metadata": {
    "deletable": false,
    "editable": false,
    "nbgrader": {
     "cell_type": "code",
     "checksum": "9a0388777ab47c1ae9065c4ce6b34ebd",
     "grade": true,
     "grade_id": "cell-48e1f932e6c95c2a",
     "locked": true,
     "points": 1,
     "schema_version": 3,
     "solution": false,
     "task": false
    }
   },
   "outputs": [],
   "source": [
    "test_6.0()"
   ]
  },
  {
   "cell_type": "markdown",
   "metadata": {
    "deletable": false,
    "editable": false,
    "nbgrader": {
     "cell_type": "markdown",
     "checksum": "d822d3765482009e28a2575adcf6f706",
     "grade": false,
     "grade_id": "cell-4bbb4ae8290b9415",
     "locked": true,
     "schema_version": 3,
     "solution": false,
     "task": false
    }
   },
   "source": [
    "**Question 6.1** \n",
    "<br> {points: 1}\n",
    "\n",
    "Using the same strategy as you did above, draw 2000 random samples of size 100 from the population `geo_pop` using the `rep_sample_n` function, but this time use the seed `5231`. For each sample, calculate the proportion as the point estimate. Lastly, let's visualize the distribution of the sample proportions (point estimates) you just calculated by plotting a histogram.\n",
    "\n",
    "_Assign your plot to an object called `sampling_dist_100`._"
   ]
  },
  {
   "cell_type": "code",
   "execution_count": null,
   "metadata": {
    "deletable": false,
    "nbgrader": {
     "cell_type": "code",
     "checksum": "078fd92e8672b85e7066cfc1213ea99d",
     "grade": false,
     "grade_id": "cell-92debfa4ea7c2736",
     "locked": false,
     "schema_version": 3,
     "solution": true,
     "task": false
    }
   },
   "outputs": [],
   "source": [
    "set.seed(5231) # DO NOT CHANGE!\n",
    "\n",
    "# sampling_dist_100 <- \n",
    "#     geo_pop %>% \n",
    "#     ... %>% # this is a multiline command\n",
    "#     ggplot(aes(x = sample_proportion)) +\n",
    "#     geom_histogram(binwidth = 1/100, color = 'white') +\n",
    "#     xlab(\"Sample Proportion of Downtown Buildings\") +\n",
    "#     ggtitle(\"n = 100\")\n",
    "\n",
    "# your code here\n",
    "fail() # No Answer - remove if you provide an answer\n",
    "\n",
    "sampling_dist_100"
   ]
  },
  {
   "cell_type": "code",
   "execution_count": null,
   "metadata": {
    "deletable": false,
    "editable": false,
    "nbgrader": {
     "cell_type": "code",
     "checksum": "229884332b45eb8a110e7ab2e8315918",
     "grade": true,
     "grade_id": "cell-92debfa4ea7c2733",
     "locked": true,
     "points": 1,
     "schema_version": 3,
     "solution": false,
     "task": false
    }
   },
   "outputs": [],
   "source": [
    "test_6.1()"
   ]
  },
  {
   "cell_type": "markdown",
   "metadata": {
    "deletable": false,
    "editable": false,
    "nbgrader": {
     "cell_type": "markdown",
     "checksum": "b349a65070e7d52f4264a0929ad70b0c",
     "grade": false,
     "grade_id": "cell-efc13a0e61479f1e",
     "locked": true,
     "schema_version": 3,
     "solution": false,
     "task": false
    }
   },
   "source": [
    "In the code cell below, we have used `plot_grid` to plot the three sampling distributions side-by-side. We have sorted the plots by increasing order of sample size from left to right. \n",
    "\n",
    "_Use the set of plots below to answer the **next 2 questions**. Some of the code may be confusing, but you do not need to understand the code to answer the questions._"
   ]
  },
  {
   "cell_type": "code",
   "execution_count": null,
   "metadata": {
    "deletable": false,
    "editable": false,
    "nbgrader": {
     "cell_type": "code",
     "checksum": "efeb292dccdc77f4e3ddde5038565a44",
     "grade": false,
     "grade_id": "cell-4c7f9950801bbf3a",
     "locked": true,
     "schema_version": 3,
     "solution": false,
     "task": false
    }
   },
   "outputs": [],
   "source": [
    "# Run this cell before continuing.\n",
    "options(repr.plot.width = 20)\n",
    "\n",
    "proportion_plot_row <- plot_grid(sampling_dist_10 +\n",
    "                                 scale_x_continuous(limits = c(-0.05, 0.8)),\n",
    "                                 sampling_dist_30 +\n",
    "                                 scale_x_continuous(limits = c(-0.05, 0.8)),\n",
    "                                 sampling_dist_100 +\n",
    "                                 scale_x_continuous(limits = c(-0.05, 0.8)),\n",
    "                                 ncol = 3)\n",
    "\n",
    "title <- ggdraw() + \n",
    "  draw_label(\"Comparison of sampling distributions of sample proportions\",\n",
    "             fontface = 'bold',\n",
    "             x = 0,\n",
    "             hjust = 0) +\n",
    "  theme(plot.margin = margin(0, 0, 0, 7))\n",
    "\n",
    "means_grid <- plot_grid(title,\n",
    "                        proportion_plot_row,\n",
    "                        ncol = 1,\n",
    "                        rel_heights = c(0.1, 1))\n",
    "\n",
    "means_grid"
   ]
  },
  {
   "cell_type": "markdown",
   "metadata": {
    "deletable": false,
    "editable": false,
    "nbgrader": {
     "cell_type": "markdown",
     "checksum": "061438c99269a008fc475c53e42305f5",
     "grade": false,
     "grade_id": "cell-afa0b1da40d4c5b5",
     "locked": true,
     "schema_version": 3,
     "solution": false,
     "task": false
    }
   },
   "source": [
    "**Question 6.2**\n",
    "<br> {points: 1}\n",
    "\n",
    "When considering the set of plots above, which statement below **is not** correct:\n",
    "\n",
    "A. As the sample size increases, the sampling distribution becomes narrower.\n",
    "\n",
    "B. As the sample size increases, there are more sample point estimates closer to the true population proportion.\n",
    "\n",
    "C. As the sample size increases, the sampling distribution appears more bell-shaped.\n",
    "\n",
    "D. As the sample size increases, the standard error of the estimator increases.\n",
    "\n",
    "_Assign your answer to an object called `answer6.2`. Your answer should be a single character surrounded by quotes._"
   ]
  },
  {
   "cell_type": "code",
   "execution_count": null,
   "metadata": {
    "deletable": false,
    "nbgrader": {
     "cell_type": "code",
     "checksum": "6a6f1ef18905c363be18996f5fe7d767",
     "grade": false,
     "grade_id": "cell-3a4c341f6d8a2121",
     "locked": false,
     "schema_version": 3,
     "solution": true,
     "task": false
    }
   },
   "outputs": [],
   "source": [
    "# answer6.2 <- ...\n",
    "\n",
    "# your code here\n",
    "fail() # No Answer - remove if you provide an answer"
   ]
  },
  {
   "cell_type": "code",
   "execution_count": null,
   "metadata": {
    "deletable": false,
    "editable": false,
    "nbgrader": {
     "cell_type": "code",
     "checksum": "9bf130485f754245f7793e318a69b433",
     "grade": true,
     "grade_id": "cell-43ffdd1a64bf7894",
     "locked": true,
     "points": 1,
     "schema_version": 3,
     "solution": false,
     "task": false
    }
   },
   "outputs": [],
   "source": [
    "test_6.2()"
   ]
  },
  {
   "cell_type": "markdown",
   "metadata": {
    "deletable": false,
    "editable": false,
    "nbgrader": {
     "cell_type": "markdown",
     "checksum": "cb6c07818c4fb12a3b9a38aadfb44183",
     "grade": false,
     "grade_id": "cell-932953a112eb8592",
     "locked": true,
     "schema_version": 3,
     "solution": false,
     "task": false
    }
   },
   "source": [
    "**Question 6.3**\n",
    "<br> {points: 1}\n",
    "\n",
    "True or false?\n",
    "\n",
    "When considering the set of plots above, sample size has a similar influence on the distribution of sample proportions as it does the distribution of the sample means.\n",
    "\n",
    "_Assign your answer to an object called `answer6.3`. Your answer should be either \"true\" or \"false\", surrounded by quotes._"
   ]
  },
  {
   "cell_type": "code",
   "execution_count": null,
   "metadata": {
    "deletable": false,
    "nbgrader": {
     "cell_type": "code",
     "checksum": "19c6513969778eb43ad1461817498183",
     "grade": false,
     "grade_id": "cell-6c1ae5238bf286ed",
     "locked": false,
     "schema_version": 3,
     "solution": true,
     "task": false
    }
   },
   "outputs": [],
   "source": [
    "# answer6.3 <- ...\n",
    "\n",
    "# your code here\n",
    "fail() # No Answer - remove if you provide an answer"
   ]
  },
  {
   "cell_type": "code",
   "execution_count": null,
   "metadata": {
    "deletable": false,
    "editable": false,
    "nbgrader": {
     "cell_type": "code",
     "checksum": "0ed4276e7e751f1f4423735a876dbae4",
     "grade": true,
     "grade_id": "cell-9b70f5d3f5b9d554",
     "locked": true,
     "points": 1,
     "schema_version": 3,
     "solution": false,
     "task": false
    }
   },
   "outputs": [],
   "source": [
    "test_6.3()"
   ]
  },
  {
   "cell_type": "markdown",
   "metadata": {
    "deletable": false,
    "editable": false,
    "nbgrader": {
     "cell_type": "markdown",
     "checksum": "43d96c74e9e52db904006fab9968f9f4",
     "grade": false,
     "grade_id": "cell-221f47091653ddc9",
     "locked": true,
     "schema_version": 3,
     "solution": false,
     "task": false
    }
   },
   "source": [
    "**Question 6.4**\n",
    "<br> {points: 1}\n",
    "\n",
    "In the next questions, we will compare the sampling distribution estimates we get from bootstrapping and the CLT. First, let's start by taking a single sample from the population of size 10. Use the seed `6676`. The final object should have only one column: `geo_local_area`.\n",
    "\n",
    "\n",
    "_**Hint:** don't forget to `ungroup()` before using `select(...)`._"
   ]
  },
  {
   "cell_type": "code",
   "execution_count": null,
   "metadata": {
    "deletable": false,
    "nbgrader": {
     "cell_type": "code",
     "checksum": "63bacbb41b196657defc441ad1abb881",
     "grade": false,
     "grade_id": "cell-1199cd0f88f8b545",
     "locked": false,
     "schema_version": 3,
     "solution": true,
     "task": false
    }
   },
   "outputs": [],
   "source": [
    "set.seed(6676) # DO NOT CHANGE!\n",
    "\n",
    "# your code here\n",
    "fail() # No Answer - remove if you provide an answer\n",
    "\n",
    "head(sample_10)"
   ]
  },
  {
   "cell_type": "code",
   "execution_count": null,
   "metadata": {
    "deletable": false,
    "editable": false,
    "nbgrader": {
     "cell_type": "code",
     "checksum": "103739e20be767f85ffc6986ccb5b8a7",
     "grade": true,
     "grade_id": "cell-92fe3b195b3985d8",
     "locked": true,
     "points": 1,
     "schema_version": 3,
     "solution": false,
     "task": false
    }
   },
   "outputs": [],
   "source": [
    "test_6.4()"
   ]
  },
  {
   "cell_type": "markdown",
   "metadata": {
    "deletable": false,
    "editable": false,
    "nbgrader": {
     "cell_type": "markdown",
     "checksum": "612ed6a866c06e9e438ecf88309f29f1",
     "grade": false,
     "grade_id": "cell-2caf0d5ed2ac9fdd",
     "locked": true,
     "schema_version": 3,
     "solution": false,
     "task": false
    }
   },
   "source": [
    "**Question 6.5**\n",
    "<br> {points: 1}\n",
    "\n",
    "Using this sample, create a bootstrap distribution of the proportion of properties that are downtown.  Use a see of `9287` and `2000` replicates. Name the new column containing the sample proportions `sample_proportion` and the name of the object containing the resamples from the bootstrapping `resampled_proportions_10`."
   ]
  },
  {
   "cell_type": "code",
   "execution_count": null,
   "metadata": {
    "deletable": false,
    "nbgrader": {
     "cell_type": "code",
     "checksum": "dc9521abd0573d66a6e90ad7830a054e",
     "grade": false,
     "grade_id": "cell-b9ec8a7e56009416",
     "locked": false,
     "schema_version": 3,
     "solution": true,
     "task": false
    }
   },
   "outputs": [],
   "source": [
    "set.seed(9287) # DO NOT CHANGE!\n",
    "\n",
    "# your code here\n",
    "fail() # No Answer - remove if you provide an answer\n",
    "\n",
    "head(resampled_proportions_10)"
   ]
  },
  {
   "cell_type": "code",
   "execution_count": null,
   "metadata": {
    "deletable": false,
    "editable": false,
    "nbgrader": {
     "cell_type": "code",
     "checksum": "39b32f25b433a00b831aa910dae48e93",
     "grade": true,
     "grade_id": "cell-f16883bd7699a3dc",
     "locked": true,
     "points": 1,
     "schema_version": 3,
     "solution": false,
     "task": false
    }
   },
   "outputs": [],
   "source": [
    "test_6.5()"
   ]
  },
  {
   "cell_type": "markdown",
   "metadata": {
    "deletable": false,
    "editable": false,
    "nbgrader": {
     "cell_type": "markdown",
     "checksum": "c57ccf93aa3c3a56e6455c0b5d17b43f",
     "grade": false,
     "grade_id": "cell-35401ebfa608f86d",
     "locked": true,
     "schema_version": 3,
     "solution": false,
     "task": false
    }
   },
   "source": [
    "Let's visualize the distribution of the sample proportions (the `sample_proportion` variable in `resampled_proportions_10`) by plotting a histogram."
   ]
  },
  {
   "cell_type": "code",
   "execution_count": null,
   "metadata": {
    "deletable": false,
    "editable": false,
    "nbgrader": {
     "cell_type": "code",
     "checksum": "eff392ab9f20db5115eb17492181a47c",
     "grade": false,
     "grade_id": "cell-58e613a60b79bcb0",
     "locked": true,
     "schema_version": 3,
     "solution": false,
     "task": false
    }
   },
   "outputs": [],
   "source": [
    "bootstrap_dist_10 <- resampled_proportions_10 %>% \n",
    "    ggplot(aes(x = sample_proportion)) +\n",
    "    geom_histogram(binwidth = 0.1, boundary = 0, color = 'white') +\n",
    "    xlab(\"Proportion of downtown properties\") +\n",
    "    ggtitle(\"Bootstrap, n = 10\")\n",
    "\n",
    "bootstrap_dist_10"
   ]
  },
  {
   "cell_type": "markdown",
   "metadata": {
    "deletable": false,
    "editable": false,
    "nbgrader": {
     "cell_type": "markdown",
     "checksum": "6e96305118edb5e535c4098e099694f9",
     "grade": false,
     "grade_id": "cell-0db7b322b9a39ba1",
     "locked": true,
     "schema_version": 3,
     "solution": false,
     "task": false
    }
   },
   "source": [
    "**Question 6.6**\n",
    "<br> {points: 1}\n",
    "\n",
    "Next, you are going to apply the central limit theorem (CLT) to estimate the sampling distribution. A proportion is the average of a random variable that can only assume either 0 or 1. Therefore, by calculating proportions, you are summing up random terms, and we can apply the CLT. The CLT for proportions states that the sample proportion follows a Normal distribution with mean equals to $p$, the population proportion, and standard deviation $\\sqrt{p(1-p)/n}$:\n",
    "$$\n",
    "\\hat{p}\\sim N\\left(p, \\sqrt{\\frac{p(1-p)}{n}}\\right)\n",
    "$$\n",
    "\n",
    "Since, we do not know $p$, the best we can do is to use $\\hat{p}$ instead of $p$. For the case of proportions, the CLT provides a fairly good approximation for values of $n$ such that $n\\hat{p}\\geq 10$ and $n(1-\\hat{p})\\geq 10$. Again, the larger $n$ is, the more accurate is the approximation.\n",
    "\n",
    "Using the sample of size 10 (`sample_10`), calculate $\\hat{p}$ and standard error.\n",
    "\n",
    "_Assign the mean to an object called `answer6.6_mean` and the standard deviation to an object called `answer6.6_std_error`. These objects should be numbers, not data frames._"
   ]
  },
  {
   "cell_type": "code",
   "execution_count": null,
   "metadata": {
    "deletable": false,
    "nbgrader": {
     "cell_type": "code",
     "checksum": "fdc18435bab322c079012e092324ce2b",
     "grade": false,
     "grade_id": "cell-cdc67ef30f2363e7",
     "locked": false,
     "schema_version": 3,
     "solution": true,
     "task": false
    }
   },
   "outputs": [],
   "source": [
    "#phat <- mean(...)\n",
    "#answer6.6_mean <- ... \n",
    "#answer6.6_std_error <- ...\n",
    "\n",
    "# your code here\n",
    "fail() # No Answer - remove if you provide an answer\n",
    "\n",
    "cat(\"The phat estimate is\", round(phat,4), \"\\nThe std. error estimate is\", round(answer6.6_std_error,4))"
   ]
  },
  {
   "cell_type": "code",
   "execution_count": null,
   "metadata": {
    "deletable": false,
    "editable": false,
    "nbgrader": {
     "cell_type": "code",
     "checksum": "a7be59e8d47561d063dfb2c7cfcf817d",
     "grade": true,
     "grade_id": "cell-a216c7aedbf652ac",
     "locked": true,
     "points": 1,
     "schema_version": 3,
     "solution": false,
     "task": false
    }
   },
   "outputs": [],
   "source": [
    "test_6.6()"
   ]
  },
  {
   "cell_type": "markdown",
   "metadata": {
    "deletable": false,
    "editable": false,
    "nbgrader": {
     "cell_type": "markdown",
     "checksum": "cc6f225e98c59db0c84740a9dca6909f",
     "grade": false,
     "grade_id": "cell-e712bd9f1fe73c3a",
     "locked": true,
     "schema_version": 3,
     "solution": false,
     "task": false
    }
   },
   "source": [
    "**Question 6.7**\n",
    "<br> {points: 1}\n",
    "\n",
    "Here we display the approximate sampling distribution we created when introducing section 6, an estimate of this sampling distribution created using the bootstrap distribution (see questions 6.5-6.6), and an estimate of the same sampling distribution using the Normal distribution with the mean and standard error estimated in Question 6.6.\n",
    "\n",
    "Run this code before answering the question below.  Some of the code may be confusing, but you do not need to understand the code to answer the questions._"
   ]
  },
  {
   "cell_type": "code",
   "execution_count": null,
   "metadata": {
    "deletable": false,
    "editable": false,
    "nbgrader": {
     "cell_type": "code",
     "checksum": "81dc6eee5b452af0868cbd56660056de",
     "grade": false,
     "grade_id": "cell-650bf7562e0314ae",
     "locked": true,
     "schema_version": 3,
     "solution": false,
     "task": false
    }
   },
   "outputs": [],
   "source": [
    "# Run this cell before continuing.\n",
    "options(repr.plot.width = 20)\n",
    "\n",
    "\n",
    "xmin <- -0.6\n",
    "phat <- mean(sample_10 == \"Downtown\")\n",
    "data_normal <- tibble(sample_proportion=seq(xmin, 1, 0.01), \n",
    "                      density = dnorm(sample_proportion, phat, sqrt(phat*(1-phat)/length(sample_10))))\n",
    "\n",
    "normal_10 <- ggplot() +\n",
    "    geom_line(data = data_normal, aes(sample_proportion, density), color=\"red\", lwd=2) +\n",
    "    xlab(\"Proportion of downtown properties\") +\n",
    "    ggtitle(\"CLT, n=10\")\n",
    "\n",
    "proportion_plot_row <- plot_grid(sampling_dist_10 +\n",
    "                                 scale_x_continuous(limits = c(xmin, 1)),\n",
    "                                 bootstrap_dist_10 +\n",
    "                                 scale_x_continuous(limits = c(xmin, 1)),\n",
    "                                 normal_10 +\n",
    "                                 scale_x_continuous(limits = c(xmin,1)),\n",
    "                                 ncol = 3)\n",
    "\n",
    "title <- ggdraw() + \n",
    "  draw_label(\"Comparison of estimates of the sampling distributions of sample proportions\",\n",
    "             fontface = 'bold',\n",
    "             x = 0,\n",
    "             hjust = 0) +\n",
    "  theme(plot.margin = margin(0, 0, 0, 7))\n",
    "\n",
    "means_grid <- plot_grid(title,\n",
    "                        proportion_plot_row,\n",
    "                        ncol = 1,\n",
    "                        rel_heights = c(0.1, 1))\n",
    "\n",
    "means_grid"
   ]
  },
  {
   "cell_type": "markdown",
   "metadata": {
    "deletable": false,
    "editable": false,
    "nbgrader": {
     "cell_type": "markdown",
     "checksum": "aef9802add9103710c658d0d75a92e17",
     "grade": false,
     "grade_id": "cell-f76daf46f9a69b3d",
     "locked": true,
     "schema_version": 3,
     "solution": false,
     "task": false
    }
   },
   "source": [
    "Use the plots above to answer the question.\n",
    "\n",
    "True or false?\n",
    "\n",
    "It is appropriate to use the CLT with this case study.\n",
    "\n",
    "_Assign your answer to an object called `answer6.7`. Your answer should be either \"true\" or \"false\", surrounded by quotes._"
   ]
  },
  {
   "cell_type": "code",
   "execution_count": null,
   "metadata": {
    "deletable": false,
    "nbgrader": {
     "cell_type": "code",
     "checksum": "1600cd42ba2d8a1658395127e17ca2d5",
     "grade": false,
     "grade_id": "cell-ad07c7b034bb4167",
     "locked": false,
     "schema_version": 3,
     "solution": true,
     "task": false
    }
   },
   "outputs": [],
   "source": [
    "# answer6.7 <- ...\n",
    "\n",
    "# your code here\n",
    "fail() # No Answer - remove if you provide an answer"
   ]
  },
  {
   "cell_type": "code",
   "execution_count": null,
   "metadata": {
    "deletable": false,
    "editable": false,
    "nbgrader": {
     "cell_type": "code",
     "checksum": "814a6c5dcc4d8ad393baf6b3f14a9e64",
     "grade": true,
     "grade_id": "cell-05ecad8b0d307f41",
     "locked": true,
     "points": 1,
     "schema_version": 3,
     "solution": false,
     "task": false
    }
   },
   "outputs": [],
   "source": [
    "test_6.7()"
   ]
  }
 ],
 "metadata": {
  "docker": {
   "latest_image_tag": "v0.4.0"
  },
  "jupytext": {
   "formats": "ipynb,Rmd"
  },
  "kernelspec": {
   "display_name": "R",
   "language": "R",
   "name": "ir"
  },
  "language_info": {
   "codemirror_mode": "r",
   "file_extension": ".r",
   "mimetype": "text/x-r-source",
   "name": "R",
   "pygments_lexer": "r",
   "version": "4.3.3"
  }
 },
 "nbformat": 4,
 "nbformat_minor": 4
}
