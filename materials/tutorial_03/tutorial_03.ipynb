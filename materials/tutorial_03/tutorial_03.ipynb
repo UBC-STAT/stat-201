{
 "cells": [
  {
   "cell_type": "markdown",
   "metadata": {
    "deletable": false,
    "editable": false,
    "nbgrader": {
     "cell_type": "markdown",
     "checksum": "38f531f0b13511dae6c173db3a34b41e",
     "grade": false,
     "grade_id": "cell-f3ae6db28c5041d9",
     "locked": true,
     "schema_version": 3,
     "solution": false,
     "task": false
    }
   },
   "source": [
    "# Tutorial 3: Bootstrapping and its Relationship to the Sampling Distribution"
   ]
  },
  {
   "cell_type": "markdown",
   "metadata": {
    "deletable": false,
    "editable": false,
    "nbgrader": {
     "cell_type": "markdown",
     "checksum": "db9756e7b71b8b631805409a4e335e65",
     "grade": false,
     "grade_id": "cell-712e9ac4e769eb39",
     "locked": true,
     "schema_version": 3,
     "solution": false,
     "task": false
    }
   },
   "source": [
    "### Lecture and Tutorial Learning Goals\n",
    "After completing this week's lecture and tutorial work, you will be able to:\n",
    "1. Explain why we don’t know/have a sampling distribution in practice/real life.\n",
    "2. Define bootstrapping.\n",
    "3. Write a computer script to create a bootstrap distribution to approximate a sampling distribution.\n",
    "4. Contrast a bootstrap sampling distribution with a sampling distribution obtained using multiple samples."
   ]
  },
  {
   "cell_type": "code",
   "execution_count": null,
   "metadata": {
    "deletable": false,
    "editable": false,
    "nbgrader": {
     "cell_type": "code",
     "checksum": "30515f2934452486657577710bcb6636",
     "grade": false,
     "grade_id": "cell-28cb9e52e89ace8d",
     "locked": true,
     "schema_version": 3,
     "solution": false,
     "task": false
    }
   },
   "outputs": [],
   "source": [
    "library(cowplot)\n",
    "library(datateachr)\n",
    "library(digest)\n",
    "library(gridExtra)\n",
    "library(infer)\n",
    "library(repr)\n",
    "library(taxyvr)\n",
    "library(tidyverse)\n",
    "source(\"tests_tutorial_03.R\")"
   ]
  },
  {
   "cell_type": "markdown",
   "metadata": {
    "deletable": false,
    "editable": false,
    "nbgrader": {
     "cell_type": "markdown",
     "checksum": "0044a8ce4048de32292c6153b18507d1",
     "grade": false,
     "grade_id": "cell-dc2ef0d60b4a4933",
     "locked": true,
     "schema_version": 3,
     "solution": false,
     "task": false
    }
   },
   "source": [
    "## 1. Warm-Up Questions\n",
    "\n",
    "Let's start off with a few questions about bootstrapping and sampling practices in reality."
   ]
  },
  {
   "cell_type": "markdown",
   "metadata": {
    "deletable": false,
    "editable": false,
    "nbgrader": {
     "cell_type": "markdown",
     "checksum": "4e3bfb4d5b0be3d82276cddb52b9803b",
     "grade": false,
     "grade_id": "cell-3e24b34269f128b4",
     "locked": true,
     "schema_version": 3,
     "solution": false,
     "task": false
    }
   },
   "source": [
    "**Question 1.0**\n",
    "<br>{points: 1}\n",
    "\n",
    "In 1-2 sentences, explain what bootstrapping is useful for."
   ]
  },
  {
   "cell_type": "markdown",
   "metadata": {
    "deletable": false,
    "nbgrader": {
     "cell_type": "markdown",
     "checksum": "a23919b36d994ade6b9ed4960645ddc4",
     "grade": true,
     "grade_id": "cell-8c84f203af7f48fd",
     "locked": false,
     "points": 3,
     "schema_version": 3,
     "solution": true,
     "task": false
    }
   },
   "source": [
    "DOUBLE CLICK TO EDIT **THIS CELL** AND REPLACE THIS TEXT WITH YOUR ANSWER."
   ]
  },
  {
   "cell_type": "markdown",
   "metadata": {
    "deletable": false,
    "editable": false,
    "nbgrader": {
     "cell_type": "markdown",
     "checksum": "85c80662a5bdaf88fa4396a949fd85e2",
     "grade": false,
     "grade_id": "cell-608fcde8287d2be1",
     "locked": true,
     "schema_version": 3,
     "solution": false,
     "task": false
    }
   },
   "source": [
    "**Question 1.1**\n",
    "<br>{points: 1}\n",
    "\n",
    "True or false?\n",
    "\n",
    "A bootstrap sampling distribution will **always** have a similar width as the sampling distribution it is approximating.\n",
    "\n",
    "_Assign your answer to an object called `answer1.1`. Your answer should be either \"true\" or \"false\", surrounded by quotes._"
   ]
  },
  {
   "cell_type": "code",
   "execution_count": null,
   "metadata": {
    "deletable": false,
    "nbgrader": {
     "cell_type": "code",
     "checksum": "9f5912307ae2c5fb859dd19047b8449b",
     "grade": false,
     "grade_id": "cell-3eb563d3ebcd4b3e",
     "locked": false,
     "schema_version": 3,
     "solution": true,
     "task": false
    }
   },
   "outputs": [],
   "source": [
    "# answer1.1 <- ...\n",
    "\n",
    "# your code here\n",
    "fail() # No Answer - remove if you provide an answer"
   ]
  },
  {
   "cell_type": "code",
   "execution_count": null,
   "metadata": {
    "deletable": false,
    "editable": false,
    "nbgrader": {
     "cell_type": "code",
     "checksum": "159c62cc078cc395c73a49dd100e9700",
     "grade": true,
     "grade_id": "cell-ec461d6d65200f1d",
     "locked": true,
     "points": 1,
     "schema_version": 3,
     "solution": false,
     "task": false
    }
   },
   "outputs": [],
   "source": [
    "test_1.1()"
   ]
  },
  {
   "cell_type": "markdown",
   "metadata": {
    "deletable": false,
    "editable": false,
    "nbgrader": {
     "cell_type": "markdown",
     "checksum": "e06f748b9e001c4c12d026edd1b3c0a8",
     "grade": false,
     "grade_id": "cell-45d0af92c1953424",
     "locked": true,
     "schema_version": 3,
     "solution": false,
     "task": false
    }
   },
   "source": [
    "**Question 1.2**\n",
    "<br>{points: 1}\n",
    "\n",
    "True or false?\n",
    "\n",
    "In reality, when we take a sample from the population, we are sampling with replacement.\n",
    "\n",
    "_Assign your answer to an object called `answer1.2`. Your answer should be either \"true\" or \"false\", surrounded by quotes._"
   ]
  },
  {
   "cell_type": "code",
   "execution_count": null,
   "metadata": {
    "deletable": false,
    "nbgrader": {
     "cell_type": "code",
     "checksum": "715b740d7cf5ba296e0e533c16da3b80",
     "grade": false,
     "grade_id": "cell-54bf9d55fc56bbf6",
     "locked": false,
     "schema_version": 3,
     "solution": true,
     "task": false
    }
   },
   "outputs": [],
   "source": [
    "# answer1.2 <- ...\n",
    "\n",
    "# your code here\n",
    "fail() # No Answer - remove if you provide an answer"
   ]
  },
  {
   "cell_type": "code",
   "execution_count": null,
   "metadata": {
    "deletable": false,
    "editable": false,
    "nbgrader": {
     "cell_type": "code",
     "checksum": "6f9346280e962f7a161c81946e3709e1",
     "grade": true,
     "grade_id": "cell-1b1ad2d17f5bb494",
     "locked": true,
     "points": 1,
     "schema_version": 3,
     "solution": false,
     "task": false
    }
   },
   "outputs": [],
   "source": [
    "test_1.2()"
   ]
  },
  {
   "cell_type": "markdown",
   "metadata": {
    "deletable": false,
    "editable": false,
    "nbgrader": {
     "cell_type": "markdown",
     "checksum": "7f34576a7df82c2f84f434d90fb048fb",
     "grade": false,
     "grade_id": "cell-d6c903c695f1f6a5",
     "locked": true,
     "schema_version": 3,
     "solution": false,
     "task": false
    }
   },
   "source": [
    "## 2. Bootstrap Distribution vs Sampling Distribution\n",
    "\n",
    "By now you should understand that not all sampling distributions come out as a nice symmetrical bell shape. In `worksheet_02` you saw one example of this when we were studying the distributions of point estimates for the proportion of properties that are located in downtown Vancouver, using the `tax_2019` data set. In the code cell below, we have re-created this sampling distribution so we can look at it a bit more closely.\n",
    "\n",
    "_Use the plot below to answer the **next question**._"
   ]
  },
  {
   "cell_type": "code",
   "execution_count": null,
   "metadata": {
    "deletable": false,
    "editable": false,
    "nbgrader": {
     "cell_type": "code",
     "checksum": "45078ac3d5cba761589d3ae6362d5732",
     "grade": false,
     "grade_id": "cell-0b662bd6e3054d2b",
     "locked": true,
     "schema_version": 3,
     "solution": false,
     "task": false
    }
   },
   "outputs": [],
   "source": [
    "set.seed(2410) # Use the same seed as last time to get\n",
    "               # the exact same observations in our samples.\n",
    "\n",
    "sampling_dist <- tax_2019 %>% \n",
    "    filter(!is.na(geo_local_area)) %>% \n",
    "    select(geo_local_area) %>% \n",
    "    rep_sample_n(size = 10, reps = 2000) %>% \n",
    "    group_by(replicate) %>% \n",
    "    summarize(x = sum(geo_local_area == \"Downtown\"),\n",
    "              n = n()) %>% \n",
    "    mutate(sample_proportion = x / n) %>% \n",
    "    ggplot(aes(x = sample_proportion)) +\n",
    "        geom_histogram(binwidth = 1/10, colour = \"white\") +\n",
    "        xlab(\"Sample Proportion of Downtown Buildings\") +\n",
    "        ggtitle(\"n = 10\") +\n",
    "        scale_x_continuous(breaks = seq(0, 0.9, 0.1))\n",
    "sampling_dist"
   ]
  },
  {
   "cell_type": "markdown",
   "metadata": {
    "deletable": false,
    "editable": false,
    "nbgrader": {
     "cell_type": "markdown",
     "checksum": "a27791770b11804017dfe0d6af4a4985",
     "grade": false,
     "grade_id": "cell-d41acc8f82a60bac",
     "locked": true,
     "schema_version": 3,
     "solution": false,
     "task": false
    }
   },
   "source": [
    "**Question 2.0**\n",
    "<br>{points: 1}\n",
    "\n",
    "The true proportion of buildings in Vancouver that are located downtown is 0.195. Suppose the data was adjusted such that the true proportion is now 0.5, and we created another sampling distribution with samples of size 100 using the code above. How would the symmetry of the new sampling distribution compare to the one generated above?\n",
    "\n",
    "A. The new sampling distribution would be less symmetrical.\n",
    "\n",
    "B. The symmetry of the new sampling distribution would be about the same.\n",
    "\n",
    "C. The new sampling distribution would be more symmetrical.\n",
    "\n",
    "D. It is impossible to tell how the symmetry of the new sampling distribution would compare.\n",
    "\n",
    "_Assign your answer to an object called `answer2.0`. Your answer should be a single character surrounded by quotes._"
   ]
  },
  {
   "cell_type": "code",
   "execution_count": null,
   "metadata": {
    "deletable": false,
    "nbgrader": {
     "cell_type": "code",
     "checksum": "d32a422a3e1d2411aadd5250d84d22c6",
     "grade": false,
     "grade_id": "cell-1487c5a41a521870",
     "locked": false,
     "schema_version": 3,
     "solution": true,
     "task": false
    }
   },
   "outputs": [],
   "source": [
    "# answer2.0 <- ...\n",
    "\n",
    "# your code here\n",
    "fail() # No Answer - remove if you provide an answer"
   ]
  },
  {
   "cell_type": "code",
   "execution_count": null,
   "metadata": {
    "deletable": false,
    "editable": false,
    "nbgrader": {
     "cell_type": "code",
     "checksum": "f45c1240d909b00f9b28a6f39b1b5793",
     "grade": true,
     "grade_id": "cell-79e2ecf537661b10",
     "locked": true,
     "points": 1,
     "schema_version": 3,
     "solution": false,
     "task": false
    }
   },
   "outputs": [],
   "source": [
    "test_2.0()"
   ]
  },
  {
   "cell_type": "markdown",
   "metadata": {
    "deletable": false,
    "editable": false,
    "nbgrader": {
     "cell_type": "markdown",
     "checksum": "a37e3967abd22349e9e31d730aa45ad4",
     "grade": false,
     "grade_id": "cell-f3fec4bdcd74fe8c",
     "locked": true,
     "schema_version": 3,
     "solution": false,
     "task": false
    }
   },
   "source": [
    "### Root Barriers\n",
    "\n",
    "In this section, we are going to test the limits of bootstrapping to see whether it results in reliable approximations of asymmetrical sampling distributions, such as the one shown above. To do this, we will attempt to use bootstrapping to estimate sampling distributions that we know are even less symmetrical and compare them to see if our estimates are reasonable. One population that we have at our disposal that yields some asymmetrical sampling distributions is the `vancouver_trees` data set from the `datateachr` package. One example of this is the sampling distribution of sample proportions for the `root_barrier` variable; in this section, we will be looking at the proportion of trees that **do not** have a root barrier.\n",
    "\n",
    "<img src=\"https://www.flexiblelining.co.uk/media/shared/product-images/urban-hard-landscaping/rootbarrier/170UR4170-rootbarrier-panels-1.jpg\" width=400>\n",
    "\n",
    "<div style=\"text-align: center\"><i>Image from <a href=\"https://www.flexiblelining.co.uk/green-roof-systems/roof-garden-root-barrier/ribbed-root-barrier-panels\"> Flexible Lining Products</i></a></div>\n",
    "\n",
    "Recall that the `vancouver_trees` dataset contains information about public trees planted along boulevards in Vancouver. The `root_barrier` variable in this dataset specifies whether or not a tree was planted with a root barrier or not. A root barrier is a type of underground wall that protects buildings, sidewalks, and roads from roots, which can severely damage these structures. One example of a type of root barrier is shown in the picture above."
   ]
  },
  {
   "cell_type": "markdown",
   "metadata": {
    "deletable": false,
    "editable": false,
    "nbgrader": {
     "cell_type": "markdown",
     "checksum": "351f3d626a4db26ff8712f7c9a1a135b",
     "grade": false,
     "grade_id": "cell-c719fb42fc24881f",
     "locked": true,
     "schema_version": 3,
     "solution": false,
     "task": false
    }
   },
   "source": [
    "**Question 2.1** \n",
    "<br> {points: 1}\n",
    "\n",
    "Filter `vancouver_trees` such that there are no `NA` values in the `root_barrier` column, and then select only that column. Use the scaffolding provided below as a guide:\n",
    "\n",
    "```r\n",
    "tree_pop <- vancouver_trees %>% \n",
    "    filter(...) %>% \n",
    "    ...(root_barrier)\n",
    "```\n",
    "\n",
    "_Assign your data frame to an object called `barrier_pop`._"
   ]
  },
  {
   "cell_type": "code",
   "execution_count": null,
   "metadata": {
    "deletable": false,
    "nbgrader": {
     "cell_type": "code",
     "checksum": "b8c41f19fcece75027afa5a77acfd61b",
     "grade": false,
     "grade_id": "cell-65aebf1f840a376d",
     "locked": false,
     "schema_version": 3,
     "solution": true,
     "task": false
    }
   },
   "outputs": [],
   "source": [
    "# your code here\n",
    "fail() # No Answer - remove if you provide an answer\n",
    "head(barrier_pop)"
   ]
  },
  {
   "cell_type": "code",
   "execution_count": null,
   "metadata": {
    "deletable": false,
    "editable": false,
    "nbgrader": {
     "cell_type": "code",
     "checksum": "d453b38d0b4b0438c14f6a5ce3ffc859",
     "grade": true,
     "grade_id": "cell-5be38a133d838f2f",
     "locked": true,
     "points": 1,
     "schema_version": 3,
     "solution": false,
     "task": false
    }
   },
   "outputs": [],
   "source": [
    "test_2.1()"
   ]
  },
  {
   "cell_type": "markdown",
   "metadata": {
    "deletable": false,
    "editable": false,
    "nbgrader": {
     "cell_type": "markdown",
     "checksum": "3e5c9418633f33c559fb99a2ec38e9ea",
     "grade": false,
     "grade_id": "cell-3db19654da2479d1",
     "locked": true,
     "schema_version": 3,
     "solution": false,
     "task": false
    }
   },
   "source": [
    "**Question 2.2** \n",
    "<br> {points: 1}\n",
    "\n",
    "Draw 2000 random samples of size 20 from the population `barrier_pop` using the `rep_sample_n` function and a seed of 3909. For each sample, calculate the proportion of trees that **do not** have a root barrier (i.e. where `root_barrier == \"N\"`) as the point estimate. Lastly, visualize the distribution of the sample proportions you just calculated by plotting a histogram using `geom_histogram` with bin widths of 1/20. Add a descriptive title to the plot using `ggtitle` and ensure that the x-axis has a human-readable label. Your final plot should have a variable named `p` on the x-axis. Use the scaffolding provided below as a guide:\n",
    "\n",
    "```r\n",
    "barrier_sampling_dist <- ... %>% \n",
    "    rep_sample_n(size = ..., reps = ..., replace = ...) %>% \n",
    "    ...(replicate) %>% \n",
    "    summarize(x = sum(... == \"N\"),\n",
    "              n = n()) %>% \n",
    "    mutate(p = ... / ...) %>% \n",
    "    ggplot(aes(x = p)) +\n",
    "        geom_histogram(... = ...) +\n",
    "        xlab(\"Proportion\") +\n",
    "        ggtitle(\"Sampling Distribution of Proportions (n = 20)\")\n",
    "```\n",
    "\n",
    "_Assign your plot to an object called `barrier_sampling_dist`._"
   ]
  },
  {
   "cell_type": "code",
   "execution_count": null,
   "metadata": {
    "deletable": false,
    "nbgrader": {
     "cell_type": "code",
     "checksum": "749d6e267353d126881216786837c83a",
     "grade": false,
     "grade_id": "cell-68ae3b69a08fbf94",
     "locked": false,
     "schema_version": 3,
     "solution": true,
     "task": false
    }
   },
   "outputs": [],
   "source": [
    "set.seed(3909) # DO NOT CHANGE!\n",
    "\n",
    "# your code here\n",
    "fail() # No Answer - remove if you provide an answer\n",
    "barrier_sampling_dist"
   ]
  },
  {
   "cell_type": "code",
   "execution_count": null,
   "metadata": {
    "deletable": false,
    "editable": false,
    "nbgrader": {
     "cell_type": "code",
     "checksum": "d55ad4e6a96aa5f120f32e77c85e8c38",
     "grade": true,
     "grade_id": "cell-baec19ed025dc2e9",
     "locked": true,
     "points": 1,
     "schema_version": 3,
     "solution": false,
     "task": false
    }
   },
   "outputs": [],
   "source": [
    "test_2.2()"
   ]
  },
  {
   "cell_type": "markdown",
   "metadata": {
    "deletable": false,
    "editable": false,
    "nbgrader": {
     "cell_type": "markdown",
     "checksum": "11913c8f65c17bbd77210c78dd465d74",
     "grade": false,
     "grade_id": "cell-656b90f2deb5d102",
     "locked": true,
     "schema_version": 3,
     "solution": false,
     "task": false
    }
   },
   "source": [
    "**Question 2.3** \n",
    "<br> {points: 1}\n",
    "\n",
    "Take a single random sample of size 20 from `barrier_pop` using `rep_sample_n` and a seed of 1933. Ensure your resulting data frame only has a single column: `root_barrier`.\n",
    "\n",
    "**Hint:** Remember to `ungroup()` before using `select()`!\n",
    "\n",
    "_Assign your data frame to an object called `barrier_sample`._"
   ]
  },
  {
   "cell_type": "code",
   "execution_count": null,
   "metadata": {
    "deletable": false,
    "nbgrader": {
     "cell_type": "code",
     "checksum": "4367ca632b75b5d3ae359a67a64f793f",
     "grade": false,
     "grade_id": "cell-d565a00f0fb18d3a",
     "locked": false,
     "schema_version": 3,
     "solution": true,
     "task": false
    }
   },
   "outputs": [],
   "source": [
    "set.seed(1933) # DO NOT CHANGE!\n",
    "\n",
    "# your code here\n",
    "fail() # No Answer - remove if you provide an answer\n",
    "head(barrier_sample)"
   ]
  },
  {
   "cell_type": "code",
   "execution_count": null,
   "metadata": {
    "deletable": false,
    "editable": false,
    "nbgrader": {
     "cell_type": "code",
     "checksum": "883d740dbfe5561607ee39b666e967a0",
     "grade": true,
     "grade_id": "cell-789b0060d74dbe20",
     "locked": true,
     "points": 1,
     "schema_version": 3,
     "solution": false,
     "task": false
    }
   },
   "outputs": [],
   "source": [
    "test_2.3()"
   ]
  },
  {
   "cell_type": "markdown",
   "metadata": {
    "deletable": false,
    "editable": false,
    "nbgrader": {
     "cell_type": "markdown",
     "checksum": "e8fba40dcf4610cc4c7e0188b330a453",
     "grade": false,
     "grade_id": "cell-5cc1c16691bdfe76",
     "locked": true,
     "schema_version": 3,
     "solution": false,
     "task": false
    }
   },
   "source": [
    "**Question 2.4** \n",
    "<br> {points: 1}\n",
    "\n",
    "Now we want to produce a bootstrap sampling distribution using `barrier_sample` sample we just took, which we will be able to compare to the sampling distribution we generated above. We want to use the exact same scaffolding as **question 2.2** (except the object name we are saving to) to complete the following task: \n",
    "\n",
    "> Take 2000 bootstrap samples from `barrier_sample` using `rep_sample_n` with a seed of 2767. Then, calculate the proportion of trees in each sample that does not have a root barrier (`root_barrier == \"N\"`); name the column containing the sample propotions `p`. Lastly, use `geom_histogram` with bin widths of 1/20 to visualize the bootstrap distribution. Add a descriptive title to the plot using `ggtitle` and ensure that the x-axis has a human-readable label. \n",
    "\n",
    "**Which two `...`'s in the scaffolding below _must_ be different than the code you used in question 2.2?**\n",
    "\n",
    "```R\n",
    "# LINE  1:    bootstrap_dist_20 <- ... %>% \n",
    "# LINE  2:       rep_sample_n(size = ..., reps = ..., replace = ...) %>% \n",
    "# LINE  3:       ...(replicate) %>% \n",
    "# LINE  4:       summarize(x = sum(... == \"N\"),\n",
    "# LINE  5:                 n = n()) %>% \n",
    "# LINE  6:       mutate(p = ... / ...) %>% \n",
    "# LINE  7:       ggplot(aes(x = p)) +\n",
    "# LINE  8:           geom_histogram(... = ...) +\n",
    "# LINE  9:           xlab(\"Proportion\") +\n",
    "# LINE 10:           ...(\"n = 20\")\n",
    "```\n",
    "\n",
    "A. The `...` in `LINE 1` and the third `...` from the left in `LINE 2`\n",
    "\n",
    "B. The `...` in `LINE 1` and the second `...` from the left in `LINE 8`\n",
    "\n",
    "C. The first `...` from the left in `LINE 2` and the third `...` from the left in `LINE 2`\n",
    "\n",
    "D. The first `...` from the left in `LINE 2` and the second `...` from the left in `LINE 8`\n",
    "\n",
    "E. Some other two `...`'s not listed above.\n",
    "\n",
    "F. None of the above; only one `...` must be different.\n",
    "\n",
    "G. None of the above; three or more of the `...` must be different.\n",
    "\n",
    "_Assign your answer to an object called `answer2.4`. Your answer should be a single character surrounded by quotes._"
   ]
  },
  {
   "cell_type": "code",
   "execution_count": null,
   "metadata": {
    "deletable": false,
    "nbgrader": {
     "cell_type": "code",
     "checksum": "f8bbd80dd4c4cdbeb39f6ed8ea860c06",
     "grade": false,
     "grade_id": "cell-bb6ac4a03c970908",
     "locked": false,
     "schema_version": 3,
     "solution": true,
     "task": false
    }
   },
   "outputs": [],
   "source": [
    "# answer2.4 <- ...\n",
    "\n",
    "# your code here\n",
    "fail() # No Answer - remove if you provide an answer"
   ]
  },
  {
   "cell_type": "code",
   "execution_count": null,
   "metadata": {
    "deletable": false,
    "editable": false,
    "nbgrader": {
     "cell_type": "code",
     "checksum": "fcacfde33502575ab5c58484bd216830",
     "grade": true,
     "grade_id": "cell-c108dea3f7b6b6e2",
     "locked": true,
     "points": 1,
     "schema_version": 3,
     "solution": false,
     "task": false
    }
   },
   "outputs": [],
   "source": [
    "test_2.4()"
   ]
  },
  {
   "cell_type": "markdown",
   "metadata": {
    "deletable": false,
    "editable": false,
    "nbgrader": {
     "cell_type": "markdown",
     "checksum": "a6a5b5bb19434837649ecf829ddad640",
     "grade": false,
     "grade_id": "cell-092e11d77cbda9d5",
     "locked": true,
     "schema_version": 3,
     "solution": false,
     "task": false
    }
   },
   "source": [
    "**Question 2.5** \n",
    "<br> {points: 1}\n",
    "\n",
    "Take 2000 bootstrap samples from `barrier_sample` using `rep_sample_n` with a seed of 2767. Then, calculate the proportion of trees in each sample that does not have a root barrier (`root_barrier == \"N\"`). Lastly, use `geom_histogram` with bin widths of 1/20 to visualize the bootstrap distribution. Add a descriptive title to the plot using `ggtitle` and ensure that the x-axis has a human-readable label. \n",
    "\n",
    "**Hint:** use your answer to the previous question and your code from **question 2.2**.\n",
    "\n",
    "_Assign your plot to an object called `barrier_bootstrap_dist`._"
   ]
  },
  {
   "cell_type": "code",
   "execution_count": null,
   "metadata": {
    "deletable": false,
    "nbgrader": {
     "cell_type": "code",
     "checksum": "a6e988e4e63b3365325e7d60be2e9330",
     "grade": false,
     "grade_id": "cell-49c66e4141824107",
     "locked": false,
     "schema_version": 3,
     "solution": true,
     "task": false
    }
   },
   "outputs": [],
   "source": [
    "set.seed(2767) # DO NOT CHANGE!\n",
    "\n",
    "# your code here\n",
    "fail() # No Answer - remove if you provide an answer\n",
    "barrier_bootstrap_dist"
   ]
  },
  {
   "cell_type": "code",
   "execution_count": null,
   "metadata": {
    "deletable": false,
    "editable": false,
    "nbgrader": {
     "cell_type": "code",
     "checksum": "3b2625cf78306e32c7186da8b945ea32",
     "grade": true,
     "grade_id": "cell-1e5db4cb336f35b7",
     "locked": true,
     "points": 1,
     "schema_version": 3,
     "solution": false,
     "task": false
    }
   },
   "outputs": [],
   "source": [
    "test_2.5()"
   ]
  },
  {
   "cell_type": "markdown",
   "metadata": {
    "deletable": false,
    "editable": false,
    "nbgrader": {
     "cell_type": "markdown",
     "checksum": "a5449d507c19491aa14350813efcc4d4",
     "grade": false,
     "grade_id": "cell-5b7a33251a40cd78",
     "locked": true,
     "schema_version": 3,
     "solution": false,
     "task": false
    }
   },
   "source": [
    "**Question 2.6** \n",
    "<br> {points: 1}\n",
    "\n",
    "**Note:** this question has two parts!\n",
    "\n",
    "a) Calculate the standard deviation of the sampling distribution you generated above (`barrier_sampling_dist`); this is the standard error of the corresponding estimator.\n",
    "\n",
    "_Assign your answer to an object called `standard_error`. Your answer should be a single number._\n",
    "\n",
    "<br>\n",
    "\n",
    "b) Calculate the standard deviation of the bootstrap distribution you generated above (`barrier_bootstrap_dist`).\n",
    "\n",
    "_Assign your answer to an object called `standard_deviation`. Your answer should be a single number._\n",
    "\n",
    "**Hints:**\n",
    "- You can get the data that was used to generate using a plot with `plot_name$data`, for example: `barrier_sampling_dist$data`.\n",
    "- You can convert a 1x1 data frame to a number using `as.numeric()`."
   ]
  },
  {
   "cell_type": "code",
   "execution_count": null,
   "metadata": {
    "deletable": false,
    "nbgrader": {
     "cell_type": "code",
     "checksum": "9f4b1d0a76fe148b09e2e30c3ed6d181",
     "grade": false,
     "grade_id": "cell-723febc1c6611afd",
     "locked": false,
     "schema_version": 3,
     "solution": true,
     "task": false
    }
   },
   "outputs": [],
   "source": [
    "# your code here\n",
    "fail() # No Answer - remove if you provide an answer\n",
    "standard_error\n",
    "standard_deviation"
   ]
  },
  {
   "cell_type": "code",
   "execution_count": null,
   "metadata": {
    "deletable": false,
    "editable": false,
    "nbgrader": {
     "cell_type": "code",
     "checksum": "0d66edec900a689d8254cd6926e8976d",
     "grade": true,
     "grade_id": "cell-96fbd5f460153e4d",
     "locked": true,
     "points": 1,
     "schema_version": 3,
     "solution": false,
     "task": false
    }
   },
   "outputs": [],
   "source": [
    "test_2.6()"
   ]
  },
  {
   "cell_type": "markdown",
   "metadata": {
    "deletable": false,
    "editable": false,
    "nbgrader": {
     "cell_type": "markdown",
     "checksum": "52cc1899a2724b40dae616dc80ed7e2f",
     "grade": false,
     "grade_id": "cell-872bca96dfb37d39",
     "locked": true,
     "schema_version": 3,
     "solution": false,
     "task": false
    }
   },
   "source": [
    "**Question 2.7** \n",
    "<br> {points: 1}\n",
    "\n",
    "True or false?\n",
    "\n",
    "The standard deviation of a bootstrap distribution is a \"good guess\" of the standard deviation of the corresponding sampling distribution."
   ]
  },
  {
   "cell_type": "code",
   "execution_count": null,
   "metadata": {
    "deletable": false,
    "nbgrader": {
     "cell_type": "code",
     "checksum": "a7477575e102bfb6c8f759f276c7acd5",
     "grade": false,
     "grade_id": "cell-98838fdd73e845c4",
     "locked": false,
     "schema_version": 3,
     "solution": true,
     "task": false
    }
   },
   "outputs": [],
   "source": [
    "# answer2.7 <- ...\n",
    "\n",
    "# your code here\n",
    "fail() # No Answer - remove if you provide an answer"
   ]
  },
  {
   "cell_type": "code",
   "execution_count": null,
   "metadata": {
    "deletable": false,
    "editable": false,
    "nbgrader": {
     "cell_type": "code",
     "checksum": "fca85ddd5ac1d7323ac72e1faa9c6be9",
     "grade": true,
     "grade_id": "cell-2b590d0c77cfb166",
     "locked": true,
     "points": 1,
     "schema_version": 3,
     "solution": false,
     "task": false
    }
   },
   "outputs": [],
   "source": [
    "test_2.7()"
   ]
  },
  {
   "cell_type": "markdown",
   "metadata": {
    "deletable": false,
    "editable": false,
    "nbgrader": {
     "cell_type": "markdown",
     "checksum": "8ff10ec5398dcdb8b846e04a11be84a7",
     "grade": false,
     "grade_id": "cell-c1862c7bad5b258e",
     "locked": true,
     "schema_version": 3,
     "solution": false,
     "task": false
    }
   },
   "source": [
    "**Question 2.8** \n",
    "<br> {points: 3}\n",
    "\n",
    "Will the standard deviation of a bootstrap distribution **always** be relatively close to the standard deviation of the corresponding sampling distribution?\n",
    "- If no, describe one situation related to our root barrier scenario above that would result in the `standard_deviation` object from **question 2.6** being very different than the `standard_error` object.\n",
    "- If yes, explain why no such situation exists."
   ]
  },
  {
   "cell_type": "markdown",
   "metadata": {
    "deletable": false,
    "nbgrader": {
     "cell_type": "markdown",
     "checksum": "fa4ef74f207a8af9d77c47ade5dd5548",
     "grade": true,
     "grade_id": "cell-692bb294134028ed",
     "locked": false,
     "points": 3,
     "schema_version": 3,
     "solution": true,
     "task": false
    }
   },
   "source": [
    "DOUBLE CLICK TO EDIT **THIS CELL** AND REPLACE THIS TEXT WITH YOUR ANSWER."
   ]
  },
  {
   "cell_type": "markdown",
   "metadata": {
    "deletable": false,
    "editable": false,
    "nbgrader": {
     "cell_type": "markdown",
     "checksum": "88dad7be920980f75fae98697fc803c7",
     "grade": false,
     "grade_id": "cell-09699b3910c5e22d",
     "locked": true,
     "schema_version": 3,
     "solution": false,
     "task": false
    }
   },
   "source": [
    "## 3. A Closer Look at Bootstrapping\n",
    "\n",
    "There is one \"rule\" related to bootstrapping that we have not mentioned yet:\n",
    "\n",
    "> When generating a bootstrap distribution to estimate the sampling distribution for the original sample size, the **bootstrap samples** should be the **same size** as the **original sample** to get a useful estimate.\n",
    "\n",
    "For example, we would get poor results if we took a sample of size 30 from the population, and then took many bootstrap samples (resamples from the original sample, with replacement) of size 60 to estimate a sampling distribution for samples of size 30. Why? Let's try it out ourselves to discover the answer. Afterwards, we'll also go through some other questions to continue to solidify our understanding of the various nuances related to bootstrapping."
   ]
  },
  {
   "cell_type": "markdown",
   "metadata": {
    "deletable": false,
    "editable": false,
    "nbgrader": {
     "cell_type": "markdown",
     "checksum": "29f0247abda2cf0190a6b00d05a8795e",
     "grade": false,
     "grade_id": "cell-0bd9dc7d44fd3c04",
     "locked": true,
     "schema_version": 3,
     "solution": false,
     "task": false
    }
   },
   "source": [
    "### Building Permits\n",
    "\n",
    "To explore the \"rule of thumb\" that we mentioned above, we will again use the `vancouver_trees` data set from the `datateachr` pacakge. However, this time the population we are interested in is only the trees with the common name `\"PISSARD PLUM\"`, and the parameter that we are interested in is the standard deviation of the `diameter` of these trees."
   ]
  },
  {
   "cell_type": "code",
   "execution_count": null,
   "metadata": {
    "deletable": false,
    "editable": false,
    "nbgrader": {
     "cell_type": "code",
     "checksum": "edddfed3762773a96971a5767cad4355",
     "grade": false,
     "grade_id": "cell-499c4bc56a311d6f",
     "locked": true,
     "schema_version": 3,
     "solution": false,
     "task": false
    }
   },
   "outputs": [],
   "source": [
    "head(vancouver_trees)"
   ]
  },
  {
   "cell_type": "markdown",
   "metadata": {
    "deletable": false,
    "editable": false,
    "nbgrader": {
     "cell_type": "markdown",
     "checksum": "176b2b66be79b66146f460260a3ea84b",
     "grade": false,
     "grade_id": "cell-b08c8f90c4b7f79d",
     "locked": true,
     "schema_version": 3,
     "solution": false,
     "task": false
    }
   },
   "source": [
    "**Question 3.0** \n",
    "<br> {points: 3}\n",
    "\n",
    "Filter the `vancouver_trees` dataset for the population that we are interested in and then select the variable that we are interested in (your final data frame should have a single column).\n",
    "\n",
    "_Assign your data frame to an object called `plum_pop`._"
   ]
  },
  {
   "cell_type": "code",
   "execution_count": null,
   "metadata": {
    "deletable": false,
    "nbgrader": {
     "cell_type": "code",
     "checksum": "76373c38979f404115129c5182a0c2fc",
     "grade": false,
     "grade_id": "cell-bdde492539c6004d",
     "locked": false,
     "schema_version": 3,
     "solution": true,
     "task": false
    }
   },
   "outputs": [],
   "source": [
    "# your code here\n",
    "fail() # No Answer - remove if you provide an answer\n",
    "head(plum_pop)"
   ]
  },
  {
   "cell_type": "code",
   "execution_count": null,
   "metadata": {
    "deletable": false,
    "editable": false,
    "nbgrader": {
     "cell_type": "code",
     "checksum": "a25d03df15bf8776893bdbc138012b67",
     "grade": true,
     "grade_id": "cell-ae4e3ed82fd5daf8",
     "locked": true,
     "points": 1,
     "schema_version": 3,
     "solution": false,
     "task": false
    }
   },
   "outputs": [],
   "source": [
    "test_3.0()"
   ]
  },
  {
   "cell_type": "markdown",
   "metadata": {
    "deletable": false,
    "editable": false,
    "nbgrader": {
     "cell_type": "markdown",
     "checksum": "8f1c3c40a52d7b018041b290dac44fdc",
     "grade": false,
     "grade_id": "cell-380227c9b0e5412d",
     "locked": true,
     "schema_version": 3,
     "solution": false,
     "task": false
    }
   },
   "source": [
    "**Question 3.1** \n",
    "<br> {points: 3}\n",
    "\n",
    "Take a single random sample of size 10 from `plum_pop` using the `rep_sample_n` function and a seed of 0737. Ensure your resulting data frame only has a single column: `diameter`.\n",
    "\n",
    "_Assign your data frame to an object called `plum_sample`._"
   ]
  },
  {
   "cell_type": "code",
   "execution_count": null,
   "metadata": {
    "deletable": false,
    "nbgrader": {
     "cell_type": "code",
     "checksum": "2c7107f26e57daf5c739e7f9be58d65a",
     "grade": false,
     "grade_id": "cell-75af97d43ec269ac",
     "locked": false,
     "schema_version": 3,
     "solution": true,
     "task": false
    }
   },
   "outputs": [],
   "source": [
    "set.seed(0737) # DO NOT CHANGE!\n",
    "\n",
    "# your code here\n",
    "fail() # No Answer - remove if you provide an answer\n",
    "head(plum_sample)"
   ]
  },
  {
   "cell_type": "code",
   "execution_count": null,
   "metadata": {
    "deletable": false,
    "editable": false,
    "nbgrader": {
     "cell_type": "code",
     "checksum": "b746a6c7a74cd1aa6ee9061d8867c4ed",
     "grade": true,
     "grade_id": "cell-0986f2eb2717d803",
     "locked": true,
     "points": 3,
     "schema_version": 3,
     "solution": false,
     "task": false
    }
   },
   "outputs": [],
   "source": [
    "# Here we check to see if you have given your answer the correct object name\n",
    "# and if your answer is plausible. However, all other tests have been hidden\n",
    "# so you can practice deciding when you have the correct answer.\n",
    "test_that('Did not assign answer to an object called \"plum_sample\"', {\n",
    "  expect_true(exists(\"plum_sample\"))\n",
    "})\n",
    "test_that(\"Solution should be a data frame\", {\n",
    "  expect_true(\"data.frame\" %in% class(plum_sample))\n",
    "})"
   ]
  },
  {
   "cell_type": "markdown",
   "metadata": {
    "deletable": false,
    "editable": false,
    "nbgrader": {
     "cell_type": "markdown",
     "checksum": "97c11d31d3e9f6b64a86e59f2934cc6d",
     "grade": false,
     "grade_id": "cell-997950696b0f714d",
     "locked": true,
     "schema_version": 3,
     "solution": false,
     "task": false
    }
   },
   "source": [
    "**Question 3.2** \n",
    "<br> {points: 3}\n",
    "\n",
    "Take 2500 bootstrap samples **of size 100** from the sample you took in the previous question by using the `rep_sample_n` function and a seed of 9284. \n",
    "\n",
    "_Assign your data frame to an object called `plum_resamples`._"
   ]
  },
  {
   "cell_type": "code",
   "execution_count": null,
   "metadata": {
    "deletable": false,
    "nbgrader": {
     "cell_type": "code",
     "checksum": "56d583dd611bcbbe6df83f1b791af971",
     "grade": false,
     "grade_id": "cell-b06447756aff9cd5",
     "locked": false,
     "schema_version": 3,
     "solution": true,
     "task": false
    }
   },
   "outputs": [],
   "source": [
    "set.seed(9284) # DO NOT CHANGE!\n",
    "\n",
    "# your code here\n",
    "fail() # No Answer - remove if you provide an answer\n",
    "head(plum_resamples)"
   ]
  },
  {
   "cell_type": "code",
   "execution_count": null,
   "metadata": {
    "deletable": false,
    "editable": false,
    "nbgrader": {
     "cell_type": "code",
     "checksum": "6024169a3b230b918d508557b7862530",
     "grade": true,
     "grade_id": "cell-a2e18241939fda90",
     "locked": true,
     "points": 3,
     "schema_version": 3,
     "solution": false,
     "task": false
    }
   },
   "outputs": [],
   "source": [
    "# Here we check to see if you have given your answer the correct object name\n",
    "# and if your answer is plausible. However, all other tests have been hidden\n",
    "# so you can practice deciding when you have the correct answer.\n",
    "test_that('Did not assign answer to an object called \"plum_resamples\"', {\n",
    "  expect_true(exists(\"plum_resamples\"))\n",
    "})\n",
    "test_that(\"Solution should be a data frame\", {\n",
    "  expect_true(\"data.frame\" %in% class(plum_resamples))\n",
    "})"
   ]
  },
  {
   "cell_type": "markdown",
   "metadata": {
    "deletable": false,
    "editable": false,
    "nbgrader": {
     "cell_type": "markdown",
     "checksum": "79ab6cd4efd145db521b5cbefca13a73",
     "grade": false,
     "grade_id": "cell-c8eda13872adcd19",
     "locked": true,
     "schema_version": 3,
     "solution": false,
     "task": false
    }
   },
   "source": [
    "**Question 3.3** \n",
    "<br> {points: 3}\n",
    "\n",
    "Calculate the standard deviation for each resample that you took in the previous question with `group_by()` and `summarize()`. Name the new column containing the standard deviation `sd`.\n",
    "\n",
    "_Assign your data frame to an object called `resample_estimates`._"
   ]
  },
  {
   "cell_type": "code",
   "execution_count": null,
   "metadata": {
    "deletable": false,
    "nbgrader": {
     "cell_type": "code",
     "checksum": "d8426c02e20209394824498868530160",
     "grade": false,
     "grade_id": "cell-704a430b3580ea41",
     "locked": false,
     "schema_version": 3,
     "solution": true,
     "task": false
    }
   },
   "outputs": [],
   "source": [
    "# your code here\n",
    "fail() # No Answer - remove if you provide an answer\n",
    "head(resample_estimates)"
   ]
  },
  {
   "cell_type": "code",
   "execution_count": null,
   "metadata": {
    "deletable": false,
    "editable": false,
    "nbgrader": {
     "cell_type": "code",
     "checksum": "acb1bf708fc89826d14bc2707f3eb135",
     "grade": true,
     "grade_id": "cell-caa64285e3611f8d",
     "locked": true,
     "points": 3,
     "schema_version": 3,
     "solution": false,
     "task": false
    }
   },
   "outputs": [],
   "source": [
    "# Here we check to see if you have given your answer the correct object name\n",
    "# and if your answer is plausible. However, all other tests have been hidden\n",
    "# so you can practice deciding when you have the correct answer.\n",
    "test_that('Did not assign answer to an object called \"resample_estimates\"', {\n",
    "  expect_true(exists(\"resample_estimates\"))\n",
    "})\n",
    "test_that(\"Solution should be a data frame\", {\n",
    "  expect_true(\"data.frame\" %in% class(resample_estimates))\n",
    "})"
   ]
  },
  {
   "cell_type": "markdown",
   "metadata": {
    "deletable": false,
    "editable": false,
    "nbgrader": {
     "cell_type": "markdown",
     "checksum": "58bc88c1684a60cb15e98ccb71d7de31",
     "grade": false,
     "grade_id": "cell-28a80204df4ba87d",
     "locked": true,
     "schema_version": 3,
     "solution": false,
     "task": false
    }
   },
   "source": [
    "**Question 3.3** \n",
    "<br> {points: 3}\n",
    "\n",
    "Visualize the bootstrap distribution (of `resample_estimates`) by plotting a histogram using `geom_histogram` with bin widths of 0.25. Ensure that the x-axis has a human-readable label.\n",
    "\n",
    "_Assign your plot to an object called `plum_bootstrap_dist`._"
   ]
  },
  {
   "cell_type": "code",
   "execution_count": null,
   "metadata": {
    "deletable": false,
    "nbgrader": {
     "cell_type": "code",
     "checksum": "131209bf2b21a0c29462c42caf136cf8",
     "grade": false,
     "grade_id": "cell-f4e06076985de5fe",
     "locked": false,
     "schema_version": 3,
     "solution": true,
     "task": false
    }
   },
   "outputs": [],
   "source": [
    "# your code here\n",
    "fail() # No Answer - remove if you provide an answer\n",
    "plum_bootstrap_dist"
   ]
  },
  {
   "cell_type": "code",
   "execution_count": null,
   "metadata": {
    "deletable": false,
    "editable": false,
    "nbgrader": {
     "cell_type": "code",
     "checksum": "d1871e5552d82012ff62a7c8117ec982",
     "grade": true,
     "grade_id": "cell-962d663ea98f596f",
     "locked": true,
     "points": 3,
     "schema_version": 3,
     "solution": false,
     "task": false
    }
   },
   "outputs": [],
   "source": [
    "# Here we check to see if you have given your answer the correct object name\n",
    "# and if your answer is plausible. However, all other tests have been hidden\n",
    "# so you can practice deciding when you have the correct answer.\n",
    "test_that('Did not assign answer to an object called \"plum_bootstrap_dist\"', {\n",
    "  expect_true(exists(\"plum_bootstrap_dist\"))\n",
    "})\n",
    "test_that(\"Solution should be a ggplot object\", {\n",
    "  expect_true(is.ggplot(plum_bootstrap_dist))\n",
    "})"
   ]
  },
  {
   "cell_type": "markdown",
   "metadata": {
    "deletable": false,
    "editable": false,
    "nbgrader": {
     "cell_type": "markdown",
     "checksum": "fef5fec05cefa5ac860f3952033d674f",
     "grade": false,
     "grade_id": "cell-1b4a28c6484afef9",
     "locked": true,
     "schema_version": 3,
     "solution": false,
     "task": false
    }
   },
   "source": [
    "**Question 3.4** \n",
    "<br> {points: 3}\n",
    "\n",
    "Produce a sampling distribution (**not** a bootstrap distribution) of sample standard deviations for samples of size 10 from the population `plum_pop` using a procedure similar to the previous questions and the last section; use `geom_histogram` with bin widths of 0.25. Also, use 2500 sample replicates and a seed of 2362.\n",
    "\n",
    "_Assign your plot to an object called `plum_sampling_dist`._"
   ]
  },
  {
   "cell_type": "code",
   "execution_count": null,
   "metadata": {
    "deletable": false,
    "nbgrader": {
     "cell_type": "code",
     "checksum": "5add0c837275b32c7deaeb266f9b0f9c",
     "grade": false,
     "grade_id": "cell-ad672783439467a1",
     "locked": false,
     "schema_version": 3,
     "solution": true,
     "task": false
    }
   },
   "outputs": [],
   "source": [
    "set.seed(2362) # DO NOT CHANGE!\n",
    "\n",
    "# your code here\n",
    "fail() # No Answer - remove if you provide an answer\n",
    "plum_sampling_dist"
   ]
  },
  {
   "cell_type": "code",
   "execution_count": null,
   "metadata": {
    "deletable": false,
    "editable": false,
    "nbgrader": {
     "cell_type": "code",
     "checksum": "bcc3c9bc04e09bf71c4d853c3e8dc380",
     "grade": true,
     "grade_id": "cell-6766ffaf56560b7f",
     "locked": true,
     "points": 3,
     "schema_version": 3,
     "solution": false,
     "task": false
    }
   },
   "outputs": [],
   "source": [
    "# Here we check to see if you have given your answer the correct object name\n",
    "# and if your answer is plausible. However, all other tests have been hidden\n",
    "# so you can practice deciding when you have the correct answer.\n",
    "test_that('Did not assign answer to an object called \"plum_sampling_dist\"', {\n",
    "  expect_true(exists(\"plum_sampling_dist\"))\n",
    "})\n",
    "test_that(\"Solution should be a ggplot object\", {\n",
    "  expect_true(is.ggplot(plum_sampling_dist))\n",
    "})"
   ]
  },
  {
   "cell_type": "markdown",
   "metadata": {
    "deletable": false,
    "editable": false,
    "nbgrader": {
     "cell_type": "markdown",
     "checksum": "9650703e071d3003622c3c388e8ee15a",
     "grade": false,
     "grade_id": "cell-7e8315e5d3cbc365",
     "locked": true,
     "schema_version": 3,
     "solution": false,
     "task": false
    }
   },
   "source": [
    "In the code cell below, we have used `plot_grid` to plot the sample distribution and bootstrap distribution side by side.\n",
    "\n",
    "**Note:** some of the sample standard deviations are not visible because we have manually set bounds on the x-axis so you can compare the important parts of the distributions more easily\n",
    "\n",
    "_Use the two plots below to answer the next **three questions**._"
   ]
  },
  {
   "cell_type": "code",
   "execution_count": null,
   "metadata": {
    "deletable": false,
    "editable": false,
    "nbgrader": {
     "cell_type": "code",
     "checksum": "fee2002f5ff4d0f86197d3da2c2bc03b",
     "grade": false,
     "grade_id": "cell-8fb6ead05de278cb",
     "locked": true,
     "schema_version": 3,
     "solution": false,
     "task": false
    }
   },
   "outputs": [],
   "source": [
    "options(repr.plot.width = 12, repr.plot.height = 4)\n",
    "plot_grid(plum_sampling_dist +\n",
    "              labs(title = \"Sampling Distribution\",\n",
    "                   caption = \"Generated using 2500 sample replicates of size 10.\") +\n",
    "              scale_x_continuous(limits = c(0, 10)),\n",
    "          plum_bootstrap_dist +\n",
    "              labs(title = \"Bootstrap Distribution\",\n",
    "                   caption = \"Generated using 2500 bootstrap samples of size 100 from a sample of size 10.\") + \n",
    "              scale_x_continuous(limits = c(0, 10)),\n",
    "          ncol = 2)"
   ]
  },
  {
   "cell_type": "markdown",
   "metadata": {
    "deletable": false,
    "editable": false,
    "nbgrader": {
     "cell_type": "markdown",
     "checksum": "cb65d84a6c4ab211340c07d46ab1d94b",
     "grade": false,
     "grade_id": "cell-2244b50e950e9a0c",
     "locked": true,
     "schema_version": 3,
     "solution": false,
     "task": false
    }
   },
   "source": [
    "**Question 3.5** \n",
    "<br> {points: 3}\n",
    "\n",
    "Which statement **best** describes the bootstrap distribution above?\n",
    "\n",
    "A. The distribution of many point estimates for the standard deviation of the population, which were acquired by taking many samples from the population and calculating the standard deviation of each sample.\n",
    "\n",
    "B. The distribution of many point estimates for the standard deviation of the sampling distribution (which is the standard error of the corresponding estimator), which were acquired by re-sampling from the original sample and calculating the standard deviation of each re-sample.\n",
    "\n",
    "C. The distribution of the standard deviations of many samples that were taken from the population.\n",
    "\n",
    "D. The distribution of standard deviations for many re-samples that were taken from the original sample.\n",
    "\n",
    "_Assign your answer to an object called `answer3.5`. Your answer should be a single character surrounded by quotes._"
   ]
  },
  {
   "cell_type": "code",
   "execution_count": null,
   "metadata": {
    "deletable": false,
    "nbgrader": {
     "cell_type": "code",
     "checksum": "6dfce03f274f48e431ea0ef4659a95ca",
     "grade": false,
     "grade_id": "cell-91d590e6b77000e6",
     "locked": false,
     "schema_version": 3,
     "solution": true,
     "task": false
    }
   },
   "outputs": [],
   "source": [
    "# answer3.5 <- ...\n",
    "\n",
    "# your code here\n",
    "fail() # No Answer - remove if you provide an answer"
   ]
  },
  {
   "cell_type": "code",
   "execution_count": null,
   "metadata": {
    "deletable": false,
    "editable": false,
    "nbgrader": {
     "cell_type": "code",
     "checksum": "7ac2bfde607b3bb3ff66ca641e8ef7a1",
     "grade": true,
     "grade_id": "cell-edf9b5c8e15d6131",
     "locked": true,
     "points": 3,
     "schema_version": 3,
     "solution": false,
     "task": false
    }
   },
   "outputs": [],
   "source": [
    "# Here we check to see if you have given your answer the correct object name\n",
    "# and if your answer is plausible. However, all other tests have been hidden\n",
    "# so you can practice deciding when you have the correct answer.\n",
    "test_that('Did not assign answer to an object called \"answer3.5\"', {\n",
    "  expect_true(exists(\"answer3.5\"))\n",
    "})\n",
    "test_that('Solution should be a single character (\"A\", \"B\", \"C\", or \"D\")', {\n",
    "  expect_match(answer3.5, \"a|b|c|d\", ignore.case = TRUE)\n",
    "})"
   ]
  },
  {
   "cell_type": "markdown",
   "metadata": {
    "deletable": false,
    "editable": false,
    "nbgrader": {
     "cell_type": "markdown",
     "checksum": "08e96f05c3a16af30e6b3c1ca9907d1b",
     "grade": false,
     "grade_id": "cell-a21ce58b3d2da734",
     "locked": true,
     "schema_version": 3,
     "solution": false,
     "task": false
    }
   },
   "source": [
    "**Question 3.6** \n",
    "<br> {points: 3}\n",
    "\n",
    "By referencing the plots above, explain why it's not a good idea to take bootstrap sizes of a **larger size than the original sample** to estimate the sampling distribution for the original sample size."
   ]
  },
  {
   "cell_type": "markdown",
   "metadata": {
    "deletable": false,
    "nbgrader": {
     "cell_type": "markdown",
     "checksum": "ec10052cbfc89966d146437b3686976b",
     "grade": true,
     "grade_id": "cell-ea429f75fae054cc",
     "locked": false,
     "points": 3,
     "schema_version": 3,
     "solution": true,
     "task": false
    }
   },
   "source": [
    "DOUBLE CLICK TO EDIT **THIS CELL** AND REPLACE THIS TEXT WITH YOUR ANSWER."
   ]
  },
  {
   "cell_type": "markdown",
   "metadata": {
    "deletable": false,
    "editable": false,
    "nbgrader": {
     "cell_type": "markdown",
     "checksum": "88995f4e7559480dc857d341e63eae24",
     "grade": false,
     "grade_id": "cell-5a499689a7ee1a31",
     "locked": true,
     "schema_version": 3,
     "solution": false,
     "task": false
    }
   },
   "source": [
    "**Question 3.7** \n",
    "<br> {points: 3}\n",
    "\n",
    "Suppose you took a single sample of size 164 and then took many bootstrap samples of size 10 from the first sample to produce a bootstrap distribution for the mean of the `diameter` variable in the `plum_pop` population. Suppose you wanted to use the standard deviation of the bootstrap distribution to estimate the standard deviation of the sampling distribution of sample means for the `diameter` variable for samples of size 164. How would you expect the estimate to compare to the actual standard error?\n",
    "\n",
    "A. The estimate would likely be an under-estimate.\n",
    "\n",
    "B. The estimate would likely be accurate.\n",
    "\n",
    "C. The estimate would likely be an over-estimate.\n",
    "\n",
    "D. There is not enough information to make this comparison.\n",
    "\n",
    "_Assign your answer to an object called `answer3.7`. Your answer should be a single character surrounded by quotes._"
   ]
  },
  {
   "cell_type": "code",
   "execution_count": null,
   "metadata": {
    "deletable": false,
    "nbgrader": {
     "cell_type": "code",
     "checksum": "935c8fec12d03944b439bced23c09f10",
     "grade": false,
     "grade_id": "cell-fcc688c1a5f5aafc",
     "locked": false,
     "schema_version": 3,
     "solution": true,
     "task": false
    }
   },
   "outputs": [],
   "source": [
    "# answer3.7 <- ...\n",
    "\n",
    "# your code here\n",
    "fail() # No Answer - remove if you provide an answer"
   ]
  },
  {
   "cell_type": "code",
   "execution_count": null,
   "metadata": {
    "deletable": false,
    "editable": false,
    "nbgrader": {
     "cell_type": "code",
     "checksum": "138b7aab3f29269f02391ae81d211739",
     "grade": true,
     "grade_id": "cell-77a7fcc29f5d9d08",
     "locked": true,
     "points": 3,
     "schema_version": 3,
     "solution": false,
     "task": false
    }
   },
   "outputs": [],
   "source": [
    "# Here we check to see if you have given your answer the correct object name\n",
    "# and if your answer is plausible. However, all other tests have been hidden\n",
    "# so you can practice deciding when you have the correct answer.\n",
    "test_that('Did not assign answer to an object called \"answer3.7\"', {\n",
    "  expect_true(exists(\"answer3.7\"))\n",
    "})\n",
    "test_that('Solution should be a single character (\"A\", \"B\", \"C\", or \"D\")', {\n",
    "  expect_match(answer3.7, \"a|b|c|d\", ignore.case = TRUE)\n",
    "})"
   ]
  },
  {
   "cell_type": "markdown",
   "metadata": {
    "deletable": false,
    "editable": false,
    "nbgrader": {
     "cell_type": "markdown",
     "checksum": "4d279ea8b312399f1ebff0e7b687e543",
     "grade": false,
     "grade_id": "cell-aa93730bf9b99905",
     "locked": true,
     "schema_version": 3,
     "solution": false,
     "task": false
    }
   },
   "source": [
    "### More Bootstrapping Nuances"
   ]
  },
  {
   "cell_type": "markdown",
   "metadata": {
    "deletable": false,
    "editable": false,
    "nbgrader": {
     "cell_type": "markdown",
     "checksum": "daf5b677527958ca272fe85e819c8583",
     "grade": false,
     "grade_id": "cell-926dcf19654f9798",
     "locked": true,
     "schema_version": 3,
     "solution": false,
     "task": false
    }
   },
   "source": [
    "**Question 3.8** \n",
    "<br> {points: 3}\n",
    "\n",
    "Suppose a bootstrap distribution of sample means of the `diameter` variable in `plum_pop`, using `rep_sample_n` to take single sample of size 8 from the population and 3000 bootstrap samples. The resulting distribution is displayed below with bin widths of 0.25:\n",
    "\n",
    "<img src=\"plot.png\" width=600/>\n",
    "\n",
    "a) Given that the standard deviation of the `diameter` variable for the population `plum_pop` is around 5.0, is this a shape that you would expect the bootstrap distribution to have?\n",
    "\n",
    "b) If you answered yes, justify yourself in 1-2 sentences. If you answered no, justify yourself in 1-2 sentence and describe an error or scenario that would result in such a distribution in another sentence."
   ]
  },
  {
   "cell_type": "markdown",
   "metadata": {
    "deletable": false,
    "nbgrader": {
     "cell_type": "markdown",
     "checksum": "76acfe4edb73921e9bef0df9313caab0",
     "grade": true,
     "grade_id": "cell-b89f9dba49eab352",
     "locked": false,
     "points": 3,
     "schema_version": 3,
     "solution": true,
     "task": false
    }
   },
   "source": [
    "DOUBLE CLICK TO EDIT **THIS CELL** AND REPLACE THIS TEXT WITH YOUR ANSWER."
   ]
  },
  {
   "cell_type": "markdown",
   "metadata": {
    "deletable": false,
    "editable": false,
    "nbgrader": {
     "cell_type": "markdown",
     "checksum": "863e106d0530fbe8f5da0fca2623c321",
     "grade": false,
     "grade_id": "cell-2ea018ce1de43103",
     "locked": true,
     "schema_version": 3,
     "solution": false,
     "task": false
    }
   },
   "source": [
    "**Question 3.9** \n",
    "<br> {points: 3}\n",
    "\n",
    "Consider the following single random sample of 6 observations of the reported average hours of screen time a person is exposed to each day:\n",
    "\n",
    "| `screen_time` <br> `<dbl>`|\n",
    "| -- |\n",
    "| 3 |\n",
    "| 6 |\n",
    "| 8 |\n",
    "| 1 |\n",
    "| 7 |\n",
    "| 7 |\n",
    "    \n",
    "Below are two more data frames that are claimed to have been created by bootstrapping from the original sample.\n",
    "\n",
    "| `screen_time` <br> `<dbl>`|\n",
    "| -- |\n",
    "| 6 |\n",
    "| 7 |\n",
    "| 6 |\n",
    "| 7 |\n",
    "| 7 |\n",
    "| 1 |\n",
    "\n",
    "| `screen_time` <br> `<dbl>`|\n",
    "| -- |\n",
    "| 7 |\n",
    "| 1 |\n",
    "| 7 |\n",
    "| 3 |\n",
    "| 6 |\n",
    "| 8 |\n",
    "\n",
    " Consider the values in the two data frames above. Is there any evidence to falsify the claim? Explain why or why not in your own words in a few sentences."
   ]
  },
  {
   "cell_type": "markdown",
   "metadata": {
    "deletable": false,
    "nbgrader": {
     "cell_type": "markdown",
     "checksum": "c06bcbd38196b61090cc73d7078bdb39",
     "grade": true,
     "grade_id": "cell-e29a92ff6d0d764d",
     "locked": false,
     "points": 3,
     "schema_version": 3,
     "solution": true,
     "task": false
    }
   },
   "source": [
    "DOUBLE CLICK TO EDIT **THIS CELL** AND REPLACE THIS TEXT WITH YOUR ANSWER."
   ]
  }
 ],
 "metadata": {
  "docker": {
   "latest_image_tag": "v0.4.0"
  },
  "jupytext": {
   "formats": "ipynb,Rmd"
  },
  "kernelspec": {
   "display_name": "R",
   "language": "R",
   "name": "ir"
  },
  "language_info": {
   "codemirror_mode": "r",
   "file_extension": ".r",
   "mimetype": "text/x-r-source",
   "name": "R",
   "pygments_lexer": "r",
   "version": "4.0.0"
  }
 },
 "nbformat": 4,
 "nbformat_minor": 4
}
