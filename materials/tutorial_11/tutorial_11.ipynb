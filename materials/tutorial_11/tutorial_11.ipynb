{
 "cells": [
  {
   "cell_type": "markdown",
   "id": "brave-laundry",
   "metadata": {
    "deletable": false,
    "editable": false,
    "nbgrader": {
     "cell_type": "markdown",
     "checksum": "39e5c3add62ae396e2983e7b648b3bb2",
     "grade": false,
     "grade_id": "cell-7f7daff5cfa3835f",
     "locked": true,
     "schema_version": 3,
     "solution": false,
     "task": false
    }
   },
   "source": [
    "# Tutorial 11: Beyond two-group comparisons"
   ]
  },
  {
   "cell_type": "code",
   "execution_count": null,
   "id": "usual-armor",
   "metadata": {
    "deletable": false,
    "editable": false,
    "message": false,
    "nbgrader": {
     "cell_type": "code",
     "checksum": "daccf14799b315e08841ef2494ee9d2b",
     "grade": false,
     "grade_id": "cell-eaa306f38e77ac65",
     "locked": true,
     "schema_version": 3,
     "solution": false,
     "task": false
    },
    "warning": false
   },
   "outputs": [],
   "source": [
    "library(tidyverse)\n",
    "library(infer)\n",
    "library(datateachr)\n",
    "library(testthat)\n",
    "library(digest)\n",
    "library(broom)"
   ]
  },
  {
   "cell_type": "markdown",
   "id": "intensive-guarantee",
   "metadata": {
    "deletable": false,
    "editable": false,
    "nbgrader": {
     "cell_type": "markdown",
     "checksum": "5de8f8d158e0bce2bacc5d254f676a43",
     "grade": false,
     "grade_id": "cell-8b74f3b0488e6391",
     "locked": true,
     "schema_version": 3,
     "solution": false,
     "task": false
    }
   },
   "source": [
    "## Learning Objectives\n",
    "\n",
    "- Run a simple one-way ANOVA, without knowing the details of the test (the level of detail required is what's presented in the blog post).\n",
    "- Apply FDR or Bonferroni correction to control the errors when performing multiple hypothesis testing.\n",
    "- The value of presenting an entire distribution as a prediction."
   ]
  },
  {
   "cell_type": "markdown",
   "id": "imperial-saint",
   "metadata": {
    "deletable": false,
    "editable": false,
    "nbgrader": {
     "cell_type": "markdown",
     "checksum": "4c3bbcad914b25d3f22b87c8041b8a34",
     "grade": false,
     "grade_id": "cell-35ac1699a9df82f1",
     "locked": true,
     "schema_version": 3,
     "solution": false,
     "task": false
    }
   },
   "source": [
    "## Exercise 1: Multiple Comparisons\n",
    "\n",
    "Last week, we saw that we're more likely to commit a Type I error as we test more and more hypotheses. This week, we'll investigate two methods for addressing this issue. \n",
    "\n",
    "Consider the GWAS dataset:"
   ]
  },
  {
   "cell_type": "code",
   "execution_count": null,
   "id": "mental-hearing",
   "metadata": {
    "deletable": false,
    "editable": false,
    "nbgrader": {
     "cell_type": "code",
     "checksum": "ab3c77f17a62caa39c27632175353e35",
     "grade": false,
     "grade_id": "cell-e922a43ee98a429e",
     "locked": true,
     "schema_version": 3,
     "solution": false,
     "task": false
    }
   },
   "outputs": [],
   "source": [
    "gwas <- \n",
    "    read_csv(\"gwas.csv\")  %>% \n",
    "    rename(p_value = `p-value`)\n",
    "\n",
    "head(gwas)"
   ]
  },
  {
   "cell_type": "markdown",
   "id": "asian-shakespeare",
   "metadata": {
    "deletable": false,
    "editable": false,
    "nbgrader": {
     "cell_type": "markdown",
     "checksum": "cc5ed6f9396371cc3b34da29d5d1e4e9",
     "grade": false,
     "grade_id": "cell-6467cb7a56a3076f",
     "locked": true,
     "schema_version": 3,
     "solution": false,
     "task": false
    }
   },
   "source": [
    "The dataset, as described by Dr. Tiffany Timbers:\n",
    "\n",
    "> The dataset you will see contains two columns, a list of gene names and a list of unadjusted p-values generated from the analysis (the particular statistical test used is called the Sequence Kernel Analysis test, or SKAT). These p-values were created by repeating the analysis on many variables from the same dataset, thus we have a multiple testing problem to deal with!\n",
    "> \n",
    "> Each p-value corresponds to a gene, and tests whether that gene is associated to a phenotype.\n",
    "> \n",
    "> The study can be accessed here: http://dx.doi.org/10.1371/journal.pgen.1006235\n",
    "\n",
    "In STAT 201, we will very briefly explore two methods for handling multiple hypothesis testing: the __Bonferroni__ and __Benjamin-Hochberg (BH)__ adjustments. Unfortunately, we will not have time to go into how they work. But, the idea for both of them is to increase the p-values so that tests are less likely to pass.\n",
    "\n",
    "In general, it's not always obvious when you should use a p-value adjustment. If you conduct a study that includes a few unrelated hypothesis tests, should you \"proof\" the entire study by adjusting all p-values? Probably not. If you do, and you decide to gain a little bit of extra insight by testing one last hypothesis before submitting the study, should you then adjust all of the p-values in the study, potentially changing your results? This isn't realistic. But, if you can group your hypotheses into one overarching question, like [testing to see which of 20 types of jellybeans cause acne](https://xkcd.com/882/), you then might want to implement some level of error-proofing."
   ]
  },
  {
   "cell_type": "markdown",
   "id": "white-equivalent",
   "metadata": {
    "deletable": false,
    "editable": false,
    "nbgrader": {
     "cell_type": "markdown",
     "checksum": "951d77e6a0fc307a93ec948ec95dbd2b",
     "grade": false,
     "grade_id": "cell-13db9415dfd084a0",
     "locked": true,
     "schema_version": 3,
     "solution": false,
     "task": false
    }
   },
   "source": [
    "### Question 1.1\n",
    "\n",
    "How many of the null hypotheses would be rejected under a 0.05 significance level? Store this value in a variable named `number_significant`. What proportion of the total number of tests is that? Store this value in a variable named `prop_significant`."
   ]
  },
  {
   "cell_type": "code",
   "execution_count": null,
   "id": "funny-administrator",
   "metadata": {
    "deletable": false,
    "nbgrader": {
     "cell_type": "code",
     "checksum": "3a8a5cc954c6614e9d0ea9938da2ca3d",
     "grade": false,
     "grade_id": "cell-bf3ff2835661d424",
     "locked": false,
     "schema_version": 3,
     "solution": true,
     "task": false
    }
   },
   "outputs": [],
   "source": [
    "# number_significant <- FILL_THIS_IN\n",
    "# prop_significant <- FILL_THIS_IN\n",
    "\n",
    "# your code here\n",
    "fail() # No Answer - remove if you provide an answer\n",
    "\n",
    "print(number_significant)\n",
    "print(prop_significant)"
   ]
  },
  {
   "cell_type": "code",
   "execution_count": null,
   "id": "identical-egyptian",
   "metadata": {
    "deletable": false,
    "editable": false,
    "lines_to_next_cell": 2,
    "nbgrader": {
     "cell_type": "code",
     "checksum": "084e849f0dd8ca96dd0ad57477843f70",
     "grade": true,
     "grade_id": "cell-04f35cffe3a21414",
     "locked": true,
     "points": 1,
     "schema_version": 3,
     "solution": false,
     "task": false
    }
   },
   "outputs": [],
   "source": [
    "test_that(\"Amount significant\", {\n",
    "  expect_identical(\n",
    "    digest(as.numeric(number_significant)),\n",
    "    \"d344558826c683dbadec305ed64365f1\"\n",
    "  )\n",
    "  expect_identical(\n",
    "    digest(round(prop_significant, digits = 4)),\n",
    "    \"99b9d16651e54de85f1fccc55493a06e\"\n",
    "  )\n",
    "})\n",
    "cat(\"success!\")"
   ]
  },
  {
   "cell_type": "markdown",
   "id": "sexual-extension",
   "metadata": {
    "deletable": false,
    "editable": false,
    "nbgrader": {
     "cell_type": "markdown",
     "checksum": "2a3ff376a656e856c63f3d2d615f99e9",
     "grade": false,
     "grade_id": "cell-c217f340f6c06105",
     "locked": true,
     "schema_version": 3,
     "solution": false,
     "task": false
    }
   },
   "source": [
    "### Question 1.2: Bonferroni Adjustment\n",
    "\n",
    "The Bonferroni correction is seen as an aggressive p-value adjustment method. So, it typically won't be able to detect subtle effect sizes. It limits the probability of seeing at least one false positive (Type I error) to the specified significance level $\\alpha$. \n",
    "\n",
    "The idea is, if there are $k$ hypotheses being tested, to either (1) adjust your chosen significance level $\\alpha$ to $\\alpha / k$, or equivalently, (2) multiply your p-values by $k$.\n",
    "\n",
    "Adjust the p-values of the GWAS study according to a Bonferroni adjustment. Store the adjusted p-values in a vector named `pval_bonf`. You can use the `p.adjust()` function, inserting the vector of p-values in the first argument. How many of these null hypotheses are rejected now, under a 0.05 significance level? Put the number in a variable named `count_bonf`."
   ]
  },
  {
   "cell_type": "code",
   "execution_count": null,
   "id": "declared-badge",
   "metadata": {
    "deletable": false,
    "nbgrader": {
     "cell_type": "code",
     "checksum": "c4544ce31d88930343177114de4e8674",
     "grade": false,
     "grade_id": "cell-a5ad5a93a0225bbe",
     "locked": false,
     "schema_version": 3,
     "solution": true,
     "task": false
    }
   },
   "outputs": [],
   "source": [
    "# pval_bonf <- p.adjust(FILL_THIS_IN, method = \"bonferroni\")\n",
    "# count_bonf <- FILL_THIS_IN\n",
    "\n",
    "# your code here\n",
    "fail() # No Answer - remove if you provide an answer\n",
    "\n",
    "head(pval_bonf)\n",
    "print(count_bonf)"
   ]
  },
  {
   "cell_type": "code",
   "execution_count": null,
   "id": "communist-value",
   "metadata": {
    "deletable": false,
    "editable": false,
    "nbgrader": {
     "cell_type": "code",
     "checksum": "4126b6a1d8697b366274f12dd821b22d",
     "grade": true,
     "grade_id": "cell-d57df8bbcc573872",
     "locked": true,
     "points": 1,
     "schema_version": 3,
     "solution": false,
     "task": false
    }
   },
   "outputs": [],
   "source": [
    "test_that(\"Amount significant\", {\n",
    "  expect_identical(\n",
    "    digest(signif(sort(pval_bonf), digits = 4)),\n",
    "    \"2a8b9d0aa1b0678a4ba67a6799b630ec\"\n",
    "  )\n",
    "  expect_identical(\n",
    "    digest(as.numeric(count_bonf)),\n",
    "    \"db8e490a925a60e62212cefc7674ca02\"\n",
    "  )\n",
    "})\n",
    "cat(\"success!\")"
   ]
  },
  {
   "cell_type": "markdown",
   "id": "closing-consequence",
   "metadata": {
    "deletable": false,
    "editable": false,
    "nbgrader": {
     "cell_type": "markdown",
     "checksum": "42559bdbc7ae6d5443b5a8a165eb02d5",
     "grade": false,
     "grade_id": "cell-1f3347800192a83b",
     "locked": true,
     "schema_version": 3,
     "solution": false,
     "task": false
    }
   },
   "source": [
    "### Question 1.3: BH Adjustment\n",
    "\n",
    "The BH method is a more forgiving method in comparison to the Bonferroni method, and so may be more realistic. Instead of assigning a probability for seeing any Type I error at all, the BH method limits the _false discovery rate_ = the proportion of \"discoveries\" (rejections of the null) that are false. \n",
    "\n",
    "Adjusting the p-values to limit the false discovery rate to some specified level $\\alpha$ is more complicated, and we won't get into details (and won't expect you to, either). But the idea is that, given that p-values are completely random numbers between 0 and 1 _if the null hypothesis is true_, the collection of p-values are compared against what a random sample between 0 and 1 would look like. The p-values that deviate from this pattern are flagged as being significant.\n",
    "\n",
    "Adjust the p-values of the GWAS study according to a BH adjustment. Store the adjusted p-values in a vector named `pval_bh`. How many of these null hypotheses are rejected now, under a 0.05 significance level? Put the number in a variable named `count_bh`."
   ]
  },
  {
   "cell_type": "code",
   "execution_count": null,
   "id": "indian-hometown",
   "metadata": {
    "deletable": false,
    "nbgrader": {
     "cell_type": "code",
     "checksum": "43c76dcd1a14be0b3863298f697d80cc",
     "grade": false,
     "grade_id": "cell-0d41998b7e66ffee",
     "locked": false,
     "schema_version": 3,
     "solution": true,
     "task": false
    }
   },
   "outputs": [],
   "source": [
    "# pval_bh <- p.adjust(FILL_THIS_IN, method = \"BH\")\n",
    "# count_bh <- FILL_THIS_IN\n",
    "\n",
    "# your code here\n",
    "fail() # No Answer - remove if you provide an answer\n",
    "\n",
    "head(pval_bh)\n",
    "print(count_bh)"
   ]
  },
  {
   "cell_type": "code",
   "execution_count": null,
   "id": "material-antarctica",
   "metadata": {
    "deletable": false,
    "editable": false,
    "lines_to_next_cell": 2,
    "nbgrader": {
     "cell_type": "code",
     "checksum": "fda1863d59e3e23784b287f1d4f3651e",
     "grade": true,
     "grade_id": "cell-74f008affbe5842d",
     "locked": true,
     "points": 1,
     "schema_version": 3,
     "solution": false,
     "task": false
    }
   },
   "outputs": [],
   "source": [
    "test_that(\"Amount significant\", {\n",
    "  expect_identical(\n",
    "    digest(signif(sort(pval_bh), digits = 4)),\n",
    "    \"40cdfc2e1720e67f3aae56823ec9ed9e\"\n",
    "  )\n",
    "  expect_identical(\n",
    "    digest(as.numeric(count_bh)),\n",
    "    \"5e338704a8e069ebd8b38ca71991cf94\"\n",
    "  )\n",
    "})\n",
    "cat(\"success!\")"
   ]
  },
  {
   "cell_type": "markdown",
   "id": "tutorial-folks",
   "metadata": {
    "deletable": false,
    "editable": false,
    "nbgrader": {
     "cell_type": "markdown",
     "checksum": "2f2f99a460661d45704692635335240c",
     "grade": false,
     "grade_id": "cell-033d029a19111ee9",
     "locked": true,
     "schema_version": 3,
     "solution": false,
     "task": false
    }
   },
   "source": [
    "## Exercise 2: Prediction\n",
    "\n",
    "Until now, we've been making inference on _population parameters_, such as means, quantiles, variances, etc. As we've seen, this inference allows us to present both (1) our best guess as to what the parameter is (an estimate), along with (2) a description of uncertainty (such as confidence intervals and hypothesis tests). But, \n",
    "how can we go about making inference on a _new observation_? \n",
    "\n",
    "In the worksheet, you explored the inference part of predictions. In this tutorial, you'll explore the predictions themselves.\n",
    "\n",
    "Consider the survey data stored in `attitude`, used in the worksheet. How can we predict what the survey results would be in another department that wasn't included in the survey? Recall that each row of the dataset corresponds to a department that was surveyed."
   ]
  },
  {
   "cell_type": "code",
   "execution_count": null,
   "id": "micro-shock",
   "metadata": {
    "deletable": false,
    "editable": false,
    "nbgrader": {
     "cell_type": "code",
     "checksum": "b216736ca6ec9c8549f72446c1ed0e0e",
     "grade": false,
     "grade_id": "cell-5938e2ed2b477949",
     "locked": true,
     "schema_version": 3,
     "solution": false,
     "task": false
    }
   },
   "outputs": [],
   "source": [
    "head(attitude)"
   ]
  },
  {
   "cell_type": "markdown",
   "id": "stable-audit",
   "metadata": {
    "deletable": false,
    "editable": false,
    "nbgrader": {
     "cell_type": "markdown",
     "checksum": "3f169e2b555317b2eb7e1c3f5f9b112d",
     "grade": false,
     "grade_id": "cell-edce3e77046bdf42",
     "locked": true,
     "schema_version": 3,
     "solution": false,
     "task": false
    }
   },
   "source": [
    "As an aside:\n",
    "\n",
    "- This prediction question is what the branch of _supervised learning_ is primarily concerned with. Usually, it's most useful to make predictions when more than one _predictor_ variable is present (for now, we only have one predictor variable: \"question\"). But, without first thinking about how to make predictions in the absence of predictor variables (or at least, in the presence of one grouping variable like we have), it's easy to lose sight of the interpretation of these predictions. (Hint: the interpretation of a prediction is _not_ just \"a best guess\".)\n",
    "- It's worth saying that, if you were working for this organization that was surveyed, you might have anecdotal evidence as to how this department might respond to the survey. Sometimes, in the presence of numeric analyses, it's easy to forget this and to only rely on the numbers, but human input is also very valuable.\n",
    "\n",
    "### Question 2.1\n",
    "\n",
    "Probably the most common approach to prediction is to use the mean. What would the prediction be for the `\"raises\"` question in this case? Store your prediction in a variable named `prediction_raises`. Yes, this just amounts to calculating the mean!\n",
    "\n",
    "(By the way, it seems most supervised learning models try to make predictions using the mean, although there's nothing about the mean that makes it any better of a prediction than other parameters such as the median!) "
   ]
  },
  {
   "cell_type": "code",
   "execution_count": null,
   "id": "prescribed-receiver",
   "metadata": {
    "deletable": false,
    "lines_to_next_cell": 2,
    "nbgrader": {
     "cell_type": "code",
     "checksum": "f68464679a1a85d4899dc84dfae24e3f",
     "grade": false,
     "grade_id": "cell-92febe773ef47018",
     "locked": false,
     "schema_version": 3,
     "solution": true,
     "task": false
    }
   },
   "outputs": [],
   "source": [
    "# prediction_raises <- FILL_THIS_IN\n",
    "\n",
    "# your code here\n",
    "fail() # No Answer - remove if you provide an answer\n",
    "\n",
    "print(prediction_raises)"
   ]
  },
  {
   "cell_type": "code",
   "execution_count": null,
   "id": "handed-parameter",
   "metadata": {
    "deletable": false,
    "editable": false,
    "nbgrader": {
     "cell_type": "code",
     "checksum": "4fe46a50437f25c75fb0525b99439af2",
     "grade": true,
     "grade_id": "cell-757b068f37a3e5fc",
     "locked": true,
     "points": 1,
     "schema_version": 3,
     "solution": false,
     "task": false
    }
   },
   "outputs": [],
   "source": [
    "test_that(\"Mean prediction of Raises\", {\n",
    "  expect_identical(\n",
    "    digest(round(prediction_raises, digits = 4)),\n",
    "    \"dd346a8cabe03648836f07864372d5f5\"\n",
    "  )\n",
    "})\n",
    "cat(\"success!\")"
   ]
  },
  {
   "cell_type": "markdown",
   "id": "interim-handle",
   "metadata": {
    "deletable": false,
    "editable": false,
    "nbgrader": {
     "cell_type": "markdown",
     "checksum": "01b600479b7c09938203cfd07a61c7bc",
     "grade": false,
     "grade_id": "cell-6a9606c4b9dae453",
     "locked": true,
     "schema_version": 3,
     "solution": false,
     "task": false
    }
   },
   "source": [
    "### Question 2.2\n",
    "\n",
    "What score would you predict the department to give on the `\"privileges\"` question? This time, use the median as a prediction, using the `median()` function. Store your prediction in the variable `prediction_privileges`."
   ]
  },
  {
   "cell_type": "code",
   "execution_count": null,
   "id": "statutory-sampling",
   "metadata": {
    "deletable": false,
    "lines_to_next_cell": 2,
    "nbgrader": {
     "cell_type": "code",
     "checksum": "cbae47d706d374891a5dadf93983b548",
     "grade": false,
     "grade_id": "cell-c261a2188ea64431",
     "locked": false,
     "schema_version": 3,
     "solution": true,
     "task": false
    }
   },
   "outputs": [],
   "source": [
    "# prediction_privileges <- FILL_THIS_IN\n",
    "\n",
    "# your code here\n",
    "fail() # No Answer - remove if you provide an answer\n",
    "\n",
    "print(prediction_privileges)"
   ]
  },
  {
   "cell_type": "code",
   "execution_count": null,
   "id": "above-royalty",
   "metadata": {
    "deletable": false,
    "editable": false,
    "nbgrader": {
     "cell_type": "code",
     "checksum": "cfc050b44ced7ef86caf60aa793406e4",
     "grade": true,
     "grade_id": "cell-b21efbbae9a28aa6",
     "locked": true,
     "points": 1,
     "schema_version": 3,
     "solution": false,
     "task": false
    }
   },
   "outputs": [],
   "source": [
    "test_that(\"Median prediction of Privileges\", {\n",
    "  expect_identical(\n",
    "    digest(round(prediction_privileges, digits = 1)),\n",
    "    \"8e53beb1022c46a17cdfe1f1f2f2f827\"\n",
    "  )\n",
    "})\n",
    "cat(\"success!\")"
   ]
  },
  {
   "cell_type": "markdown",
   "id": "promising-novel",
   "metadata": {
    "deletable": false,
    "editable": false,
    "nbgrader": {
     "cell_type": "markdown",
     "checksum": "858489ca0b707f89744875d3665ed31f",
     "grade": false,
     "grade_id": "cell-9bbc5ca343f292c4",
     "locked": true,
     "schema_version": 3,
     "solution": false,
     "task": false
    }
   },
   "source": [
    "### Question 2.3\n",
    "\n",
    "Depending on the application, you should ask yourself if you truly need a single value prediction. Consider predicting the department's response to the `\"critical\"` question based on the histogram of outcomes below:"
   ]
  },
  {
   "cell_type": "code",
   "execution_count": null,
   "id": "eleven-moscow",
   "metadata": {
    "deletable": false,
    "editable": false,
    "fig.align": "center",
    "fig.height": 3,
    "fig.width": 5,
    "nbgrader": {
     "cell_type": "code",
     "checksum": "c5d5028abc1ad3772b5bf0fe6df30dfd",
     "grade": false,
     "grade_id": "cell-8e5594e1925f12c9",
     "locked": true,
     "schema_version": 3,
     "solution": false,
     "task": false
    }
   },
   "outputs": [],
   "source": [
    "ggplot(attitude, aes(critical)) +\n",
    "    geom_histogram(bins = 10) +\n",
    "    theme_minimal() +\n",
    "    xlab(\"Score for question 'Critical'\")"
   ]
  },
  {
   "cell_type": "markdown",
   "id": "based-frequency",
   "metadata": {
    "deletable": false,
    "editable": false,
    "nbgrader": {
     "cell_type": "markdown",
     "checksum": "e4a972ae9160fd5f33ae6bfe40c1a6af",
     "grade": false,
     "grade_id": "cell-3514fdfea77a6f49",
     "locked": true,
     "schema_version": 3,
     "solution": false,
     "task": false
    }
   },
   "source": [
    "Which of these statements can be inferred by looking at the histogram? Store the letter to your response in a variable named `prediction_critical`.\n",
    "\n",
    "**a**\\. Probably won't be less than 50   \n",
    "**b**\\. Probably won't be more than 90   \n",
    "**c**\\. Most likely to be somewhere between 65 and 85   \n",
    "**d**\\. All of the above\n",
    "\n",
    "By the way, we're able to come up with this histogram, because we have access to multiple observations for the `\"critical\"` question. In supervised learning scenarios, it's uncommon to have such luxury. Yet, methods exist to access such a distribution -- but that's beyond the scope of this course. "
   ]
  },
  {
   "cell_type": "code",
   "execution_count": null,
   "id": "treated-metallic",
   "metadata": {
    "deletable": false,
    "lines_to_next_cell": 2,
    "nbgrader": {
     "cell_type": "code",
     "checksum": "c5983c8662770e5764912d2b80e76be4",
     "grade": false,
     "grade_id": "cell-c64a591352da386e",
     "locked": false,
     "schema_version": 3,
     "solution": true,
     "task": false
    }
   },
   "outputs": [],
   "source": [
    "# prediction_critical <- \"FILL_THIS_IN\"\n",
    "\n",
    "# your code here\n",
    "fail() # No Answer - remove if you provide an answer"
   ]
  },
  {
   "cell_type": "code",
   "execution_count": null,
   "id": "republican-feelings",
   "metadata": {
    "deletable": false,
    "editable": false,
    "nbgrader": {
     "cell_type": "code",
     "checksum": "e86499b92f83489c04a0757e6901f028",
     "grade": true,
     "grade_id": "cell-467db76407515f56",
     "locked": true,
     "points": 1,
     "schema_version": 3,
     "solution": false,
     "task": false
    }
   },
   "outputs": [],
   "source": [
    "test_that(\"Prediction Critical is right\", {\n",
    "  answer_hash <- digest(tolower(prediction_critical))\n",
    "  expect_identical(answer_hash, \"d110f00cfb1b248e835137025804a23b\")\n",
    "})\n",
    "cat(\"success!\")"
   ]
  },
  {
   "cell_type": "markdown",
   "id": "arabic-emphasis",
   "metadata": {
    "deletable": false,
    "editable": false,
    "nbgrader": {
     "cell_type": "markdown",
     "checksum": "bd4cff46995253ecc06ac2475e5944d1",
     "grade": false,
     "grade_id": "cell-0ac2af721fdb0d8d",
     "locked": true,
     "schema_version": 3,
     "solution": false,
     "task": false
    }
   },
   "source": [
    "### Question 2.4\n",
    "\n",
    "Ultimately, predictions are useful because they help us make decisions. If you have to make many decisions quickly, it may not be practical to have a human look at a histogram as part of a decision-making procedure. But if there are few decisions that are very important, going beyond a single-value prediction is useful, such as by looking at histograms. \n",
    "\n",
    "Given this, which of the following scenarios **would it be desirable** to investigate histogram(s) before making decisions? Don't worry about how you'd come up with such histograms, or what they'd look like. Put your choices in a single variable named `prediction_decisions`, in alphabetical order. \n",
    "\n",
    "**a**\\. You are deciding between two people to hire in a high-leverage position in your company, and you want to predict what the \"productivity\" of each person would be after they are hired.    \n",
    "**b**\\. You work for a song streaming company, and want to predict favourable songs for each of your customers automatically.    \n",
    "**c**\\. You are trying to decide whether your business can afford a large purchase.     \n",
    "**d**\\. You work for the Coast Mountain Bus Company, who operates all the city busses in the Vancouver area, and want to predict the demand at every bus stop throughout this coming Canada Day. "
   ]
  },
  {
   "cell_type": "code",
   "execution_count": null,
   "id": "academic-tumor",
   "metadata": {
    "deletable": false,
    "lines_to_next_cell": 2,
    "nbgrader": {
     "cell_type": "code",
     "checksum": "d358118be83a7d57e772076b9f0aee0c",
     "grade": false,
     "grade_id": "cell-68b20f9ef7b8c69f",
     "locked": false,
     "schema_version": 3,
     "solution": true,
     "task": false
    }
   },
   "outputs": [],
   "source": [
    "# prediction_decisions <- \"FILL_THIS_IN\"\n",
    "\n",
    "# your code here\n",
    "fail() # No Answer - remove if you provide an answer"
   ]
  },
  {
   "cell_type": "code",
   "execution_count": null,
   "id": "tamil-unemployment",
   "metadata": {
    "deletable": false,
    "editable": false,
    "lines_to_next_cell": 2,
    "nbgrader": {
     "cell_type": "code",
     "checksum": "de0c9de6ae072932fdbfa577d74f4b5c",
     "grade": true,
     "grade_id": "cell-37c0d2f797452e40",
     "locked": true,
     "points": 1,
     "schema_version": 3,
     "solution": false,
     "task": false
    }
   },
   "outputs": [],
   "source": [
    "test_that(\"Prediction decisions is/are right\", {\n",
    "  answer_hash <- digest(tolower(prediction_decisions))\n",
    "  expect_identical(answer_hash, \"7ecaefcc6ebc9848e7cb04b5c783ae0a\")\n",
    "})\n",
    "cat(\"success!\")"
   ]
  },
  {
   "cell_type": "markdown",
   "id": "persistent-capacity",
   "metadata": {
    "deletable": false,
    "editable": false,
    "nbgrader": {
     "cell_type": "markdown",
     "checksum": "85884a430312c9f42cf9f484afcb6a2a",
     "grade": false,
     "grade_id": "cell-920af51f0592f3cc",
     "locked": true,
     "schema_version": 3,
     "solution": false,
     "task": false
    }
   },
   "source": [
    "## Exercise 3: ANOVA\n",
    "\n",
    "In this exercise, we will revisit the `attitude` survey data from the worksheet. We are going to investigate whether there's a significant difference between the means of two specific questions: \"privileges\" and \"learning\". The following tibble contains the relevant subset of data. "
   ]
  },
  {
   "cell_type": "code",
   "execution_count": null,
   "id": "english-howard",
   "metadata": {
    "deletable": false,
    "editable": false,
    "nbgrader": {
     "cell_type": "code",
     "checksum": "6f73fd4798b6e72a3d3128b7b01b44f5",
     "grade": false,
     "grade_id": "cell-7d637512e0b77b6a",
     "locked": true,
     "schema_version": 3,
     "solution": false,
     "task": false
    }
   },
   "outputs": [],
   "source": [
    "attitude_tidy <- \n",
    "    attitude %>% \n",
    "    select(-rating) %>% \n",
    "    pivot_longer(everything(), names_to = \"question\", values_to = \"score\")\n",
    "\n",
    "attitude_two <- \n",
    "    attitude_tidy %>% \n",
    "   filter(question %in% c(\"privileges\", \"learning\"))\n",
    "\n",
    "head(attitude_two)"
   ]
  },
  {
   "cell_type": "markdown",
   "id": "tested-hungary",
   "metadata": {
    "deletable": false,
    "editable": false,
    "nbgrader": {
     "cell_type": "markdown",
     "checksum": "1caac0d2bde60d68c190a534f5218225",
     "grade": false,
     "grade_id": "cell-19ae3432ee0d1878",
     "locked": true,
     "schema_version": 3,
     "solution": false,
     "task": false
    }
   },
   "source": [
    "### Question 3.1\n",
    "\n",
    "Test the hypothesis using a two-sample t-test, approximating the group variances to be equal. Use the `tidy()` function from the broom package to tidy your results, putting the resulting tibble in a variable called `two_t_equal_tidy`."
   ]
  },
  {
   "cell_type": "code",
   "execution_count": null,
   "id": "diagnostic-custom",
   "metadata": {
    "deletable": false,
    "lines_to_next_cell": 2,
    "nbgrader": {
     "cell_type": "code",
     "checksum": "725cfc159c43245b5bb2cf199f52185f",
     "grade": false,
     "grade_id": "cell-f94607b905ef0a68",
     "locked": false,
     "schema_version": 3,
     "solution": true,
     "task": false
    }
   },
   "outputs": [],
   "source": [
    "# two_t_equal_tidy <- \n",
    "#    t.test(FILL_THIS_IN ~ FILL_THIS_IN, data = attitude_two, \n",
    "#               var.equal = FILL_THIS_IN) %>% \n",
    "#   tidy()\n",
    "\n",
    "# your code here\n",
    "fail() # No Answer - remove if you provide an answer\n",
    "\n",
    "print(two_t_equal_tidy)"
   ]
  },
  {
   "cell_type": "code",
   "execution_count": null,
   "id": "worse-repository",
   "metadata": {
    "deletable": false,
    "editable": false,
    "lines_to_next_cell": 2,
    "nbgrader": {
     "cell_type": "code",
     "checksum": "bd05a6d2f77a26bf34aca6f82ccee13b",
     "grade": true,
     "grade_id": "cell-8f099f82410d536f",
     "locked": true,
     "points": 1,
     "schema_version": 3,
     "solution": false,
     "task": false
    }
   },
   "outputs": [],
   "source": [
    "test_that(\"two-sample t test\", {\n",
    "  unclassed_tibble <- two_t_equal_tidy %>% \n",
    "    mutate(across(where(is.numeric), signif, digits = 6)) %>% \n",
    "    unclass()\n",
    "  expect_identical(digest(unclassed_tibble), \"c06fceed15285dd067533c8378ab3db1\")\n",
    "})\n",
    "cat(\"success!\")"
   ]
  },
  {
   "cell_type": "markdown",
   "id": "dedicated-politics",
   "metadata": {
    "deletable": false,
    "editable": false,
    "nbgrader": {
     "cell_type": "markdown",
     "checksum": "997c818d7cc3025830d19d04f67b02a7",
     "grade": false,
     "grade_id": "cell-dbe3ae8b59ed9dd4",
     "locked": true,
     "schema_version": 3,
     "solution": false,
     "task": false
    }
   },
   "source": [
    "### Question 3.2\n",
    "\n",
    "Test the hypothesis using a two-sample t-test, allowing the group variances to be unequal. Use the `tidy()` function from the broom package to tidy your results, putting the resulting tibble in a variable called `two_t_unequal_tidy`."
   ]
  },
  {
   "cell_type": "code",
   "execution_count": null,
   "id": "governing-consultancy",
   "metadata": {
    "deletable": false,
    "lines_to_next_cell": 2,
    "nbgrader": {
     "cell_type": "code",
     "checksum": "110731d367576202a9dc3c36acd4d902",
     "grade": false,
     "grade_id": "cell-44582ffde9fd6881",
     "locked": false,
     "schema_version": 3,
     "solution": true,
     "task": false
    }
   },
   "outputs": [],
   "source": [
    "# two_t_unequal_tidy <- t.test(FILL_THIS_IN ~ FILL_THIS_IN, data = attitude_two, \n",
    "#                              var.equal = FILL_THIS_IN) %>% \n",
    "#   tidy()\n",
    "\n",
    "# your code here\n",
    "fail() # No Answer - remove if you provide an answer\n",
    "\n",
    "print(two_t_unequal_tidy)"
   ]
  },
  {
   "cell_type": "code",
   "execution_count": null,
   "id": "assumed-ceramic",
   "metadata": {
    "deletable": false,
    "editable": false,
    "nbgrader": {
     "cell_type": "code",
     "checksum": "57933ad6393d6c6664cc30ed70cf6d90",
     "grade": true,
     "grade_id": "cell-5a9a2437322fcb5d",
     "locked": true,
     "points": 1,
     "schema_version": 3,
     "solution": false,
     "task": false
    }
   },
   "outputs": [],
   "source": [
    "test_that(\"two-sample t test, unequal\", {\n",
    "  unclassed_tibble <- two_t_unequal_tidy %>% \n",
    "    mutate(across(where(is.numeric), signif, digits = 6)) %>% \n",
    "    unclass()\n",
    "  expect_identical(digest(unclassed_tibble), \"fa84d26bab7f0c530f9128ddcbe0d5d6\")\n",
    "})\n",
    "cat(\"success!\")"
   ]
  },
  {
   "cell_type": "markdown",
   "id": "norwegian-aruba",
   "metadata": {
    "deletable": false,
    "editable": false,
    "nbgrader": {
     "cell_type": "markdown",
     "checksum": "54237c13ffe92c785476f6dc084ea6f1",
     "grade": false,
     "grade_id": "cell-2cbc678f144f9f51",
     "locked": true,
     "schema_version": 3,
     "solution": false,
     "task": false
    }
   },
   "source": [
    "### Question 3.3\n",
    "\n",
    "Test the hypothesis using an ANOVA F-test. Use the `tidy()` function from the broom package to tidy your results, putting the resulting tibble in a variable called `two_anova_tidy`. Hint: use the `aov()` function. Scaffolding is given in the worksheet if you need a reminder. "
   ]
  },
  {
   "cell_type": "code",
   "execution_count": null,
   "id": "pacific-grenada",
   "metadata": {
    "deletable": false,
    "lines_to_next_cell": 2,
    "nbgrader": {
     "cell_type": "code",
     "checksum": "dfe40084e5e86c676ecf0ade09848684",
     "grade": false,
     "grade_id": "cell-8fb3318a04726b48",
     "locked": false,
     "schema_version": 3,
     "solution": true,
     "task": false
    }
   },
   "outputs": [],
   "source": [
    "# two_anova_tidy <- FILL_THIS_IN\n",
    "# your code here\n",
    "fail() # No Answer - remove if you provide an answer\n",
    "\n",
    "print(two_anova_tidy)"
   ]
  },
  {
   "cell_type": "code",
   "execution_count": null,
   "id": "informal-draft",
   "metadata": {
    "deletable": false,
    "editable": false,
    "lines_to_next_cell": 0,
    "nbgrader": {
     "cell_type": "code",
     "checksum": "ca681ecb229759d609d2f1e878abbf3b",
     "grade": true,
     "grade_id": "cell-2bf2e0457de039cc",
     "locked": true,
     "points": 1,
     "schema_version": 3,
     "solution": false,
     "task": false
    }
   },
   "outputs": [],
   "source": [
    "test_that(\"two-sample t test, unequal\", {\n",
    "  unclassed_tibble <- two_anova_tidy %>% \n",
    "    mutate(across(where(is.numeric), signif, digits = 6)) %>% \n",
    "    unclass()\n",
    "  expect_identical(digest(unclassed_tibble), \"d930a51f72a40a3933ae536c699a924a\")\n",
    "})\n",
    "cat(\"success!\")"
   ]
  },
  {
   "cell_type": "markdown",
   "id": "julian-classic",
   "metadata": {
    "deletable": false,
    "editable": false,
    "nbgrader": {
     "cell_type": "markdown",
     "checksum": "c383eed09a3ca1e844dcd3119a7297ea",
     "grade": false,
     "grade_id": "cell-a0f71eadfc52af1a",
     "locked": true,
     "schema_version": 3,
     "solution": false,
     "task": false
    }
   },
   "source": [
    "### Question 3.4\n",
    "\n",
    "Store the $p$-values of the above three tests in the following variables. \n",
    "\n",
    "- Two-sample $t$-test, equal variance: `two_t_equal`\n",
    "- Two-sample $t$-test, unequal variance: `two_t_unequal`\n",
    "- ANOVA $F$-test: `two_anova`\n",
    "\n",
    "By the way, the ANOVA $F$-test has a $p$-value that's identical to one of the two $t$-tests (take a look at which one) -- this is no accident, this is always true whenever there are two groups! So, the ANOVA $F$-test is truly a generalization of the two-sample $t$-test. "
   ]
  },
  {
   "cell_type": "code",
   "execution_count": null,
   "id": "second-thirty",
   "metadata": {
    "deletable": false,
    "lines_to_next_cell": 2,
    "nbgrader": {
     "cell_type": "code",
     "checksum": "9ef5d957d21e2309331243253f4be0a9",
     "grade": false,
     "grade_id": "cell-433541c893203176",
     "locked": false,
     "schema_version": 3,
     "solution": true,
     "task": false
    }
   },
   "outputs": [],
   "source": [
    "# two_t_equal <- FILL_THIS_IN\n",
    "# two_t_unequal <- FILL_THIS_IN\n",
    "# two_anova <- FILL_THIS_IN\n",
    "\n",
    "# your code here\n",
    "fail() # No Answer - remove if you provide an answer\n",
    "\n",
    "print(two_t_equal)\n",
    "print(two_t_unequal)\n",
    "print(two_anova)"
   ]
  },
  {
   "cell_type": "code",
   "execution_count": null,
   "id": "empty-amazon",
   "metadata": {
    "deletable": false,
    "editable": false,
    "lines_to_next_cell": 2,
    "nbgrader": {
     "cell_type": "code",
     "checksum": "2b89fff22984efa58fc41ff953d67b8f",
     "grade": true,
     "grade_id": "cell-691ab1b3ef7b80b6",
     "locked": true,
     "points": 1,
     "schema_version": 3,
     "solution": false,
     "task": false
    }
   },
   "outputs": [],
   "source": [
    "test_that(\"Two group test\", {\n",
    "  expect_identical(\n",
    "    digest(round(two_t_equal, digits = 6)), \n",
    "    \"77710c78ca705287d335be9ac2ca8d86\"\n",
    "  )\n",
    "  expect_identical(\n",
    "    digest(round(two_t_unequal, digits = 6)), \n",
    "    \"5e8f21b565d74ce485c5852857bf2786\"\n",
    "  )\n",
    "  expect_identical(\n",
    "    digest(round(two_anova, digits = 6)), \n",
    "    \"77710c78ca705287d335be9ac2ca8d86\"\n",
    "  )\n",
    "})\n",
    "cat(\"success!\")"
   ]
  },
  {
   "cell_type": "markdown",
   "id": "level-thousand",
   "metadata": {
    "deletable": false,
    "editable": false,
    "nbgrader": {
     "cell_type": "markdown",
     "checksum": "bfba8072f28b2632ff3b06a0dfac9a80",
     "grade": false,
     "grade_id": "cell-bf5ceafae308d426",
     "locked": true,
     "schema_version": 3,
     "solution": false,
     "task": false
    }
   },
   "source": [
    "### Question 3.5\n",
    "\n",
    "In the above two-sample comparison, the two questions that appeared to have the most similar means were selected for comparison. Why is this bad practice? Store the letter of your choice in the variable named `why_inappropriate`.\n",
    "\n",
    "**a**\\.  If we want to highlight two groups, we should choose the ones that are most _different_, not the most similar.    \n",
    "**b**\\.  This is an example of \"cherry picking\": only presenting two groups that appear the most similar means that these two groups are more likely to be artificially similar.     \n",
    "**c**\\.  This is actually not bad practice at all -- it's a natural next step after ANOVA to investigate pairs of groups. \n"
   ]
  },
  {
   "cell_type": "code",
   "execution_count": null,
   "id": "certain-leather",
   "metadata": {
    "deletable": false,
    "lines_to_next_cell": 2,
    "nbgrader": {
     "cell_type": "code",
     "checksum": "170a673b4d80e6d1232f967df5dcfa16",
     "grade": false,
     "grade_id": "cell-1b4a4dab3f72de55",
     "locked": false,
     "schema_version": 3,
     "solution": true,
     "task": false
    }
   },
   "outputs": [],
   "source": [
    "# why_inappropriate <- \"FILL_THIS_IN\"\n",
    "\n",
    "# your code here\n",
    "fail() # No Answer - remove if you provide an answer\n",
    "\n",
    "print(why_inappropriate)"
   ]
  },
  {
   "cell_type": "code",
   "execution_count": null,
   "id": "victorian-planning",
   "metadata": {
    "deletable": false,
    "editable": false,
    "nbgrader": {
     "cell_type": "code",
     "checksum": "b7447c58fda1005e58accb5bba87396d",
     "grade": true,
     "grade_id": "cell-76f531f9a0a22509",
     "locked": true,
     "points": 1,
     "schema_version": 3,
     "solution": false,
     "task": false
    }
   },
   "outputs": [],
   "source": [
    "test_that(\"Answer to why these two groups\", {\n",
    "  answer_hash <- digest(tolower(why_inappropriate))\n",
    "  if (answer_hash == \"127a2ec00989b9f7faf671ed470be7f8\") {\n",
    "    cat(\"This response suggests that there's some statistical\",\n",
    "        \"justification for choosing two specific groups to test,\", \n",
    "        \"but there is no such justification.\")\n",
    "  } else if (answer_hash == \"6e7a8c1c098e8817e3df3fd1b21149d1\") {\n",
    "    cat(\"Although this is true, the comparison we did only includes\",\n",
    "        \"one specific pair of groups, whereas we should have\",\n",
    "        \"investigated all pairs\")\n",
    "  }\n",
    "  expect_identical(answer_hash, \"ddf100612805359cd81fdc5ce3b9fbba\")\n",
    "})\n",
    "cat(\"success!\")"
   ]
  }
 ],
 "metadata": {
  "docker": {
   "latest_image_tag": "v0.6.0"
  },
  "jupytext": {
   "formats": "ipynb,Rmd"
  },
  "kernelspec": {
   "display_name": "R",
   "language": "R",
   "name": "ir"
  },
  "language_info": {
   "codemirror_mode": "r",
   "file_extension": ".r",
   "mimetype": "text/x-r-source",
   "name": "R",
   "pygments_lexer": "r",
   "version": "4.1.3"
  }
 },
 "nbformat": 4,
 "nbformat_minor": 5
}
