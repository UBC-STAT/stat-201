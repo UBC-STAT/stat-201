{
 "cells": [
  {
   "cell_type": "markdown",
   "metadata": {
    "deletable": false,
    "editable": false,
    "nbgrader": {
     "cell_type": "markdown",
     "checksum": "28ad898f969f44d9bb7a1709f69d82d2",
     "grade": false,
     "grade_id": "cell-f3ae6db28c5041d9",
     "locked": true,
     "schema_version": 3,
     "solution": false,
     "task": false
    }
   },
   "source": [
    "# Tutorial 2: Bootstrapping and its Relationship to the Sampling Distribution"
   ]
  },
  {
   "cell_type": "markdown",
   "metadata": {
    "deletable": false,
    "editable": false,
    "nbgrader": {
     "cell_type": "markdown",
     "checksum": "4230258c2b773ffb198b86959b204b1d",
     "grade": false,
     "grade_id": "cell-712e9ac4e769eb39",
     "locked": true,
     "schema_version": 3,
     "solution": false,
     "task": false
    }
   },
   "source": [
    "### Lecture and Tutorial Learning Goals\n",
    "After completing this week's lecture and tutorial work, you will be able to:\n",
    "1. Contrast quantitative and categorical variables.\n",
    "2. Explain why we don’t know/have a sampling distribution in practice/real life.\n",
    "3. Describe the standard deviation and the variance and write computer scripts to calculate estimates of these parameters.\n",
    "4. Define standard error and explain its purpose.\n",
    "5. Define bootstrapping.\n",
    "6. Write a computer script to create a bootstrap distribution to approximate a sampling distribution.\n",
    "7. Contrast a bootstrap sampling distribution with a sampling distribution obtained using multiple samples.\n",
    "8. Contrast sampling with and without replacement."
   ]
  },
  {
   "cell_type": "code",
   "execution_count": null,
   "metadata": {
    "deletable": false,
    "editable": false,
    "nbgrader": {
     "cell_type": "code",
     "checksum": "383639f34d6026eda803f070698ea8e5",
     "grade": false,
     "grade_id": "cell-28cb9e52e89ace8d",
     "locked": true,
     "schema_version": 3,
     "solution": false,
     "task": false
    }
   },
   "outputs": [],
   "source": [
    "# Run this cell before continuing.\n",
    "library(cowplot)\n",
    "library(datateachr)\n",
    "library(digest)\n",
    "library(gridExtra)\n",
    "library(infer)\n",
    "library(repr)\n",
    "library(taxyvr)\n",
    "library(tidyverse)\n",
    "source(\"tests_tutorial_02.R\")"
   ]
  },
  {
   "cell_type": "markdown",
   "metadata": {
    "deletable": false,
    "editable": false,
    "nbgrader": {
     "cell_type": "markdown",
     "checksum": "0044a8ce4048de32292c6153b18507d1",
     "grade": false,
     "grade_id": "cell-dc2ef0d60b4a4933",
     "locked": true,
     "schema_version": 3,
     "solution": false,
     "task": false
    }
   },
   "source": [
    "## 1. Warm-Up Questions\n",
    "\n",
    "Let's start off with a few questions about bootstrapping and sampling practices in reality."
   ]
  },
  {
   "cell_type": "markdown",
   "metadata": {
    "deletable": false,
    "editable": false,
    "nbgrader": {
     "cell_type": "markdown",
     "checksum": "6c325c84f9dbc24ca7d5dd77335510ce",
     "grade": false,
     "grade_id": "cell-3e24b34269f128b4",
     "locked": true,
     "schema_version": 3,
     "solution": false,
     "task": false
    }
   },
   "source": [
    "**Question 1.0**\n",
    "<br>{points: 3}\n",
    "\n",
    "In 1-2 sentences, explain what bootstrapping is useful for."
   ]
  },
  {
   "cell_type": "markdown",
   "metadata": {
    "deletable": false,
    "nbgrader": {
     "cell_type": "markdown",
     "checksum": "a23919b36d994ade6b9ed4960645ddc4",
     "grade": true,
     "grade_id": "cell-8c84f203af7f48fd",
     "locked": false,
     "points": 3,
     "schema_version": 3,
     "solution": true,
     "task": false
    }
   },
   "source": [
    "DOUBLE CLICK TO EDIT **THIS CELL** AND REPLACE THIS TEXT WITH YOUR ANSWER."
   ]
  },
  {
   "cell_type": "markdown",
   "metadata": {
    "deletable": false,
    "editable": false,
    "nbgrader": {
     "cell_type": "markdown",
     "checksum": "85c80662a5bdaf88fa4396a949fd85e2",
     "grade": false,
     "grade_id": "cell-608fcde8287d2be1",
     "locked": true,
     "schema_version": 3,
     "solution": false,
     "task": false
    }
   },
   "source": [
    "**Question 1.1**\n",
    "<br>{points: 1}\n",
    "\n",
    "True or false?\n",
    "\n",
    "A bootstrap sampling distribution will **always** have a similar width as the sampling distribution it is approximating.\n",
    "\n",
    "_Assign your answer to an object called `answer1.1`. Your answer should be either \"true\" or \"false\", surrounded by quotes._"
   ]
  },
  {
   "cell_type": "code",
   "execution_count": null,
   "metadata": {
    "deletable": false,
    "nbgrader": {
     "cell_type": "code",
     "checksum": "9f5912307ae2c5fb859dd19047b8449b",
     "grade": false,
     "grade_id": "cell-3eb563d3ebcd4b3e",
     "locked": false,
     "schema_version": 3,
     "solution": true,
     "task": false
    }
   },
   "outputs": [],
   "source": [
    "# answer1.1 <- ...\n",
    "\n",
    "# your code here\n",
    "fail() # No Answer - remove if you provide an answer"
   ]
  },
  {
   "cell_type": "code",
   "execution_count": null,
   "metadata": {
    "deletable": false,
    "editable": false,
    "nbgrader": {
     "cell_type": "code",
     "checksum": "159c62cc078cc395c73a49dd100e9700",
     "grade": true,
     "grade_id": "cell-ec461d6d65200f1d",
     "locked": true,
     "points": 1,
     "schema_version": 3,
     "solution": false,
     "task": false
    }
   },
   "outputs": [],
   "source": [
    "test_1.1()"
   ]
  },
  {
   "cell_type": "markdown",
   "metadata": {
    "deletable": false,
    "editable": false,
    "nbgrader": {
     "cell_type": "markdown",
     "checksum": "e06f748b9e001c4c12d026edd1b3c0a8",
     "grade": false,
     "grade_id": "cell-45d0af92c1953424",
     "locked": true,
     "schema_version": 3,
     "solution": false,
     "task": false
    }
   },
   "source": [
    "**Question 1.2**\n",
    "<br>{points: 1}\n",
    "\n",
    "True or false?\n",
    "\n",
    "In reality, when we take a sample from the population, we are sampling with replacement.\n",
    "\n",
    "_Assign your answer to an object called `answer1.2`. Your answer should be either \"true\" or \"false\", surrounded by quotes._"
   ]
  },
  {
   "cell_type": "code",
   "execution_count": null,
   "metadata": {
    "deletable": false,
    "nbgrader": {
     "cell_type": "code",
     "checksum": "715b740d7cf5ba296e0e533c16da3b80",
     "grade": false,
     "grade_id": "cell-54bf9d55fc56bbf6",
     "locked": false,
     "schema_version": 3,
     "solution": true,
     "task": false
    }
   },
   "outputs": [],
   "source": [
    "# answer1.2 <- ...\n",
    "\n",
    "# your code here\n",
    "fail() # No Answer - remove if you provide an answer"
   ]
  },
  {
   "cell_type": "code",
   "execution_count": null,
   "metadata": {
    "deletable": false,
    "editable": false,
    "nbgrader": {
     "cell_type": "code",
     "checksum": "6f9346280e962f7a161c81946e3709e1",
     "grade": true,
     "grade_id": "cell-1b1ad2d17f5bb494",
     "locked": true,
     "points": 1,
     "schema_version": 3,
     "solution": false,
     "task": false
    }
   },
   "outputs": [],
   "source": [
    "test_1.2()"
   ]
  },
  {
   "cell_type": "markdown",
   "metadata": {
    "deletable": false,
    "editable": false,
    "nbgrader": {
     "cell_type": "markdown",
     "checksum": "46d08f20626427ed34a0da3db0bc8b79",
     "grade": false,
     "grade_id": "cell-64353174ba5550f6",
     "locked": true,
     "schema_version": 3,
     "solution": false,
     "task": false
    }
   },
   "source": [
    "## 2. Proportions\n",
    "\n",
    "So far we have only been interested in the population parameters of mean and median. However, these parameters can only describe numerical data; what about categorical data? For this type of data, we often refer to **proportions**. Recall that proportion is the ratio of the number of individuals in the population with a given attribute to the size of the entire population. For example, if there are $n$ individuals in our population and there are $x$ individuals amongst the population with a given attribute of interest, then the proportion, $p$, of the individuals of interest is \n",
    "\n",
    "$$p = \\frac{x}{n}$$\n",
    "\n",
    "Just like with the other parameters we have explored, we can also estimate the proportion of a population by taking a sample and calculating a point estimate. Thus, we can also have a sampling distribution of sample proportions. But how does this sampling distribution look? Does it have the same properties as the others we have explored? Let's find out.\n"
   ]
  },
  {
   "cell_type": "markdown",
   "metadata": {
    "deletable": false,
    "editable": false,
    "nbgrader": {
     "cell_type": "markdown",
     "checksum": "c598718056d3d4508a8ed13ed020b7d0",
     "grade": false,
     "grade_id": "cell-ba510f173c3b9a17",
     "locked": true,
     "schema_version": 3,
     "solution": false,
     "task": false
    }
   },
   "source": [
    "Before we continue, here are a couple questions to reinforce your knowledge of the concept of proportion."
   ]
  },
  {
   "cell_type": "markdown",
   "metadata": {
    "deletable": false,
    "editable": false,
    "nbgrader": {
     "cell_type": "markdown",
     "checksum": "9e381c2a38a9464ca205bf1d5697e6fc",
     "grade": false,
     "grade_id": "cell-c178aeef21572645",
     "locked": true,
     "schema_version": 3,
     "solution": false,
     "task": false
    }
   },
   "source": [
    "**Question 2.0**\n",
    "<br>{points: 1}\n",
    "\n",
    "Consider the population of students enrolled at UBC's Vancouver campus. As of the start of the 2019 Winter term, there were 57250 students in total, and among them, 10294 were Faculty of Science students ([source](https://bog3.sites.olt.ubc.ca/files/2020/01/4_2020.02_Enrolment-Annual-Report.pdf)). What is the proportion of Science students at UBC?\n",
    "\n",
    "_Assign your answer to an object called `answer2.0`. Your answer should be a single number._"
   ]
  },
  {
   "cell_type": "code",
   "execution_count": null,
   "metadata": {
    "deletable": false,
    "nbgrader": {
     "cell_type": "code",
     "checksum": "8a03da2217579affa86eef5f74aaf538",
     "grade": false,
     "grade_id": "cell-3e96a0d7c9028c28",
     "locked": false,
     "schema_version": 3,
     "solution": true,
     "task": false
    }
   },
   "outputs": [],
   "source": [
    "# answer2.0 <- ...\n",
    "\n",
    "# your code here\n",
    "fail() # No Answer - remove if you provide an answer\n",
    "\n",
    "answer2.0"
   ]
  },
  {
   "cell_type": "code",
   "execution_count": null,
   "metadata": {
    "deletable": false,
    "editable": false,
    "nbgrader": {
     "cell_type": "code",
     "checksum": "784850ea4b2e5c4fc648f7c59a7c773f",
     "grade": true,
     "grade_id": "cell-ac17357e81cdaf6e",
     "locked": true,
     "points": 1,
     "schema_version": 3,
     "solution": false,
     "task": false
    }
   },
   "outputs": [],
   "source": [
    "test_2.0()"
   ]
  },
  {
   "cell_type": "markdown",
   "metadata": {
    "deletable": false,
    "editable": false,
    "nbgrader": {
     "cell_type": "markdown",
     "checksum": "0653bb662e990e0a703791fb2f43ad69",
     "grade": false,
     "grade_id": "cell-948af605408daf22",
     "locked": true,
     "schema_version": 3,
     "solution": false,
     "task": false
    }
   },
   "source": [
    "**Question 2.1**\n",
    "<br>{points: 1}\n",
    "\n",
    "You are told that 168 students in your BIOL 200 section have taken, or are currently taking, one or more CPSC or STAT courses, which is 60% of the students in the section. How many students are there in total in your BIOL 200 section?\n",
    "\n",
    "_Assign your answer to an object called `answer2.1`. Your answer should be a single number._"
   ]
  },
  {
   "cell_type": "code",
   "execution_count": null,
   "metadata": {
    "deletable": false,
    "nbgrader": {
     "cell_type": "code",
     "checksum": "182a8e2064560093ac687053c90ee437",
     "grade": false,
     "grade_id": "cell-1b1cca76607912d2",
     "locked": false,
     "schema_version": 3,
     "solution": true,
     "task": false
    }
   },
   "outputs": [],
   "source": [
    "# answer2.1 <- ...\n",
    "\n",
    "# your code here\n",
    "fail() # No Answer - remove if you provide an answer\n",
    "answer2.1"
   ]
  },
  {
   "cell_type": "code",
   "execution_count": null,
   "metadata": {
    "deletable": false,
    "editable": false,
    "nbgrader": {
     "cell_type": "code",
     "checksum": "ed97401dcdb02ab81106bd8b804f8b3b",
     "grade": true,
     "grade_id": "cell-922d209a74075a4f",
     "locked": true,
     "points": 1,
     "schema_version": 3,
     "solution": false,
     "task": false
    }
   },
   "outputs": [],
   "source": [
    "test_2.1()"
   ]
  },
  {
   "cell_type": "markdown",
   "metadata": {
    "deletable": false,
    "editable": false,
    "nbgrader": {
     "cell_type": "markdown",
     "checksum": "589f12effec28d6df92194f3f5576db3",
     "grade": false,
     "grade_id": "cell-de5e76040569868c",
     "locked": true,
     "schema_version": 3,
     "solution": false,
     "task": false
    }
   },
   "source": [
    "### Proportions of Vancouver Property Tax \n",
    "\n",
    "To learn more about proportions and the sampling distribution of sample proportions, we are again going to revisit the `tax_2019` dataset from the `taxyvr` R package. However, this time we'll be looking at a different variable for **all** properties in Vancouver: `geo_local_area`, which describes the local area where the property can be found (such as Kitsilano, Downtown, or Oakridge). Specifically, we will be looking at the **proportion of properties in Vancouver located downtown** (have a `geo_local_area` of `\"Downtown\"`), which we can call our population parameter of interest.\n",
    "\n",
    "Just as before, don't forget about where we are in the grand scheme of things. Let's remind ourselves of the two things we should be keeping in mind as we work through this section:\n",
    "\n",
    "> First, we don't usually have access to data for the entire population that we are interested. If we did, we could always calculate the population parameter directly. Here, we are taking the opportunity of having access to these entire populations to study sampling distributions. Second, always remember the purpose of learning about sampling distributions. By learning about the properties of sampling distributions, you will be able to understand the inherent variability/error in point estimates. This \"error\" associated with a point estimate is critical, and in later weeks we will learn how to report it formally."
   ]
  },
  {
   "cell_type": "markdown",
   "metadata": {
    "deletable": false,
    "editable": false,
    "nbgrader": {
     "cell_type": "markdown",
     "checksum": "47ed004f8219e8a48d75e24c600b99eb",
     "grade": false,
     "grade_id": "cell-68556462eb251638",
     "locked": true,
     "schema_version": 3,
     "solution": false,
     "task": false
    }
   },
   "source": [
    "**Question 2.2**\n",
    "<br>{points: 1}\n",
    "\n",
    "True or false?\n",
    "\n",
    "The `geo_local_area` variable in the `tax_2019` dataset is an example of a categorical variable.\n",
    "\n",
    "_Assign your answer to an object called `answer2.2`. Your answer should be either \"true\" or \"false\", surrounded by quotes._"
   ]
  },
  {
   "cell_type": "code",
   "execution_count": null,
   "metadata": {
    "deletable": false,
    "nbgrader": {
     "cell_type": "code",
     "checksum": "74d225897db5ab74a4433154bf4fc7a9",
     "grade": false,
     "grade_id": "cell-4782bbac07cc5dd7",
     "locked": false,
     "schema_version": 3,
     "solution": true,
     "task": false
    }
   },
   "outputs": [],
   "source": [
    "# answer2.2 <- ...\n",
    "\n",
    "# your code here\n",
    "fail() # No Answer - remove if you provide an answer"
   ]
  },
  {
   "cell_type": "code",
   "execution_count": null,
   "metadata": {
    "deletable": false,
    "editable": false,
    "nbgrader": {
     "cell_type": "code",
     "checksum": "08790995907ec18d90efb14cf1894c14",
     "grade": true,
     "grade_id": "cell-739bd297786badd3",
     "locked": true,
     "points": 1,
     "schema_version": 3,
     "solution": false,
     "task": false
    }
   },
   "outputs": [],
   "source": [
    "test_2.2()"
   ]
  },
  {
   "cell_type": "markdown",
   "metadata": {
    "deletable": false,
    "editable": false,
    "nbgrader": {
     "cell_type": "markdown",
     "checksum": "8694aeaf0603a72d27598c5c9f10034b",
     "grade": false,
     "grade_id": "cell-bab59223730622a1",
     "locked": true,
     "schema_version": 3,
     "solution": false,
     "task": false
    }
   },
   "source": [
    "**Question 2.3**\n",
    "<br>{points: 1}\n",
    "\n",
    "From the `tax_2019` dataset, filter out the rows that contain an `NA` in the `geo_local_area` column and select only this column.\n",
    "\n",
    "_Assign your data frame to an object called `geo_pop`._"
   ]
  },
  {
   "cell_type": "code",
   "execution_count": null,
   "metadata": {
    "deletable": false,
    "nbgrader": {
     "cell_type": "code",
     "checksum": "ae59f073dd426dbe562cc00c456a2ddc",
     "grade": false,
     "grade_id": "cell-c1f42fe962aea858",
     "locked": false,
     "schema_version": 3,
     "solution": true,
     "task": false
    }
   },
   "outputs": [],
   "source": [
    "# your code here\n",
    "fail() # No Answer - remove if you provide an answer\n",
    "\n",
    "head(geo_pop)"
   ]
  },
  {
   "cell_type": "code",
   "execution_count": null,
   "metadata": {
    "deletable": false,
    "editable": false,
    "nbgrader": {
     "cell_type": "code",
     "checksum": "66b09b59fe7212a7193c8a51a3f3b670",
     "grade": true,
     "grade_id": "cell-a69019dd39e8d083",
     "locked": true,
     "points": 1,
     "schema_version": 3,
     "solution": false,
     "task": false
    }
   },
   "outputs": [],
   "source": [
    "test_2.3()"
   ]
  },
  {
   "cell_type": "markdown",
   "metadata": {
    "deletable": false,
    "editable": false,
    "nbgrader": {
     "cell_type": "markdown",
     "checksum": "4b6c9391bee478bb3765826fed458be2",
     "grade": false,
     "grade_id": "cell-b93af13346d05f22",
     "locked": true,
     "schema_version": 3,
     "solution": false,
     "task": false
    }
   },
   "source": [
    "**Question 2.4**\n",
    "<br>{points: 1}\n",
    "\n",
    "Calculate the proportion of properties in our population `geo_pop` that are `\"Downtown\"`; this is the population parameter of interest. Recall that we are going to be exploring the effect of sampling size on the distributions of the point estimates for this parameter.\n",
    "\n",
    "To do this, copy and paste the code below and then rearrange the lines so that the code runs properly.\n",
    "\n",
    "    count(geo_local_area) %>% \n",
    "    p <- \n",
    "    geo_pop %>% \n",
    "    pull(p)\n",
    "    filter(geo_local_area == \"Downtown\") %>% \n",
    "    mutate(p = n/sum(n)) %>% \n",
    "    \n",
    "_Assign your answer to an object called `p`. Your answer should be a single number._"
   ]
  },
  {
   "cell_type": "code",
   "execution_count": null,
   "metadata": {
    "deletable": false,
    "nbgrader": {
     "cell_type": "code",
     "checksum": "4ec996bab5d2037b0ba26a7ce303aa60",
     "grade": false,
     "grade_id": "cell-849d9979497dd0d6",
     "locked": false,
     "schema_version": 3,
     "solution": true,
     "task": false
    }
   },
   "outputs": [],
   "source": [
    "# your code here\n",
    "fail() # No Answer - remove if you provide an answer\n",
    "\n",
    "p"
   ]
  },
  {
   "cell_type": "code",
   "execution_count": null,
   "metadata": {
    "deletable": false,
    "editable": false,
    "nbgrader": {
     "cell_type": "code",
     "checksum": "1d8e0bc9598c845c21748055be9fc518",
     "grade": true,
     "grade_id": "cell-ba8a8c4244a1551d",
     "locked": true,
     "points": 1,
     "schema_version": 3,
     "solution": false,
     "task": false
    }
   },
   "outputs": [],
   "source": [
    "test_2.4()"
   ]
  },
  {
   "cell_type": "markdown",
   "metadata": {
    "deletable": false,
    "editable": false,
    "nbgrader": {
     "cell_type": "markdown",
     "checksum": "20d0c74c6b6d3cb00b0abb5c89c6bc16",
     "grade": false,
     "grade_id": "cell-31e196e1d305d33e",
     "locked": true,
     "schema_version": 3,
     "solution": false,
     "task": false
    }
   },
   "source": [
    "**Question 2.5**\n",
    "<br>{points: 1}\n",
    "\n",
    "Let's take our first set of samples from our population `geo_pop`. First, take 2000 random samples of a size 10 using the `rep_sample_n` function and a seed of `2410`.\n",
    "\n",
    "_Assign your data frame to an object called `samples_10`._"
   ]
  },
  {
   "cell_type": "code",
   "execution_count": null,
   "metadata": {
    "deletable": false,
    "nbgrader": {
     "cell_type": "code",
     "checksum": "88d0db75108523e592b5134bcfeeb922",
     "grade": false,
     "grade_id": "cell-76dca3e8757f294a",
     "locked": false,
     "schema_version": 3,
     "solution": true,
     "task": false
    }
   },
   "outputs": [],
   "source": [
    "set.seed(2410) # DO NOT CHANGE!\n",
    "\n",
    "# your code here\n",
    "fail() # No Answer - remove if you provide an answer\n",
    "head(samples_10)"
   ]
  },
  {
   "cell_type": "code",
   "execution_count": null,
   "metadata": {
    "deletable": false,
    "editable": false,
    "nbgrader": {
     "cell_type": "code",
     "checksum": "e4b9433350bdbb1b1536cd555e3d5d23",
     "grade": true,
     "grade_id": "cell-6b3abca156f86d36",
     "locked": true,
     "points": 1,
     "schema_version": 3,
     "solution": false,
     "task": false
    }
   },
   "outputs": [],
   "source": [
    "test_2.5()"
   ]
  },
  {
   "cell_type": "markdown",
   "metadata": {
    "deletable": false,
    "editable": false,
    "nbgrader": {
     "cell_type": "markdown",
     "checksum": "42c38206a56d49be5c37b2e02115cc3f",
     "grade": false,
     "grade_id": "cell-1f6861f2f516ebb6",
     "locked": true,
     "schema_version": 3,
     "solution": false,
     "task": false
    }
   },
   "source": [
    "**Question 2.6**\n",
    "<br>{points: 1}\n",
    "\n",
    "Next, calculate the proportion of each sample you took in the previous question. Name the new column containing the sample proportions `sample_proportion`.\n",
    "\n",
    "Use the scaffolding provided below as a guide:\n",
    "\n",
    "```r\n",
    "sample_proportions_10 <- \n",
    "    ... %>% \n",
    "    group_by(...) %>% \n",
    "    summarize(... = \n",
    "              sum(...)/n())\n",
    "```\n",
    "\n",
    "_Assign your data frame to an object called `sample_proportions_10`._"
   ]
  },
  {
   "cell_type": "code",
   "execution_count": null,
   "metadata": {
    "deletable": false,
    "nbgrader": {
     "cell_type": "code",
     "checksum": "89331ada6b629dfe351581fed4783c15",
     "grade": false,
     "grade_id": "cell-6b334028eda70e8d",
     "locked": false,
     "schema_version": 3,
     "solution": true,
     "task": false
    }
   },
   "outputs": [],
   "source": [
    "# your code here\n",
    "fail() # No Answer - remove if you provide an answer\n",
    "\n",
    "head(sample_proportions_10)"
   ]
  },
  {
   "cell_type": "code",
   "execution_count": null,
   "metadata": {
    "deletable": false,
    "editable": false,
    "nbgrader": {
     "cell_type": "code",
     "checksum": "fbc1e62bb43f8645d0ca5fbbcd46266c",
     "grade": true,
     "grade_id": "cell-e61f87f6eb7ceb6c",
     "locked": true,
     "points": 1,
     "schema_version": 3,
     "solution": false,
     "task": false
    }
   },
   "outputs": [],
   "source": [
    "test_2.6()"
   ]
  },
  {
   "cell_type": "markdown",
   "metadata": {
    "deletable": false,
    "editable": false,
    "nbgrader": {
     "cell_type": "markdown",
     "checksum": "4142ae082f7cb5eb275e11870f5f7736",
     "grade": false,
     "grade_id": "cell-a0f7ae74be4f7007",
     "locked": true,
     "schema_version": 3,
     "solution": false,
     "task": false
    }
   },
   "source": [
    "**Question 2.7**\n",
    "<br>{points: 1}\n",
    "\n",
    "Finally, visualize the distribution of the sample proportions from the previous question by plotting a histogram using `geom_histogram` with the argument `binwidth = 1/10`. Add a title of \"n = 10\" to the plot using `ggtitle` and ensure that the x-axis has a human-readable label.\n",
    "\n",
    "_Assign your plot to an object called `sampling_dist_10`._"
   ]
  },
  {
   "cell_type": "code",
   "execution_count": null,
   "metadata": {
    "deletable": false,
    "nbgrader": {
     "cell_type": "code",
     "checksum": "096f4f834759b12a0b6e0d7ba9aea9fa",
     "grade": false,
     "grade_id": "cell-8a925ee49a49df0b",
     "locked": false,
     "schema_version": 3,
     "solution": true,
     "task": false
    }
   },
   "outputs": [],
   "source": [
    "# your code here\n",
    "fail() # No Answer - remove if you provide an answer\n",
    "\n",
    "sampling_dist_10"
   ]
  },
  {
   "cell_type": "code",
   "execution_count": null,
   "metadata": {
    "deletable": false,
    "editable": false,
    "nbgrader": {
     "cell_type": "code",
     "checksum": "0dc4ce6e18a86dc784b570f639330017",
     "grade": true,
     "grade_id": "cell-b7a06cf5e3cd5fea",
     "locked": true,
     "points": 1,
     "schema_version": 3,
     "solution": false,
     "task": false
    }
   },
   "outputs": [],
   "source": [
    "test_2.7()"
   ]
  },
  {
   "cell_type": "markdown",
   "metadata": {
    "deletable": false,
    "editable": false,
    "nbgrader": {
     "cell_type": "markdown",
     "checksum": "d040ecf15a458f11aaf2f6f9a771cb8e",
     "grade": false,
     "grade_id": "cell-d41acc8f82a60bac",
     "locked": true,
     "schema_version": 3,
     "solution": false,
     "task": false
    }
   },
   "source": [
    "**Question 2.8**\n",
    "<br>{points: 1}\n",
    "\n",
    "The example above shows that not all sampling distributions come out as a nice symmetrical bell shape. \n",
    "\n",
    "_Use the histogram above to answer the following question._\n",
    "\n",
    "The true proportion of buildings in Vancouver that are located downtown is 0.195. Suppose the data was adjusted such that the true proportion is now 0.5, and we created another sampling distribution with samples of size 100 using the code above. How would the symmetry of the new sampling distribution compare to the one generated above?\n",
    "\n",
    "A. The new sampling distribution would be less symmetrical.\n",
    "\n",
    "B. The symmetry of the new sampling distribution would be about the same.\n",
    "\n",
    "C. The new sampling distribution would be more symmetrical.\n",
    "\n",
    "D. It is impossible to tell how the symmetry of the new sampling distribution would compare.\n",
    "\n",
    "_Assign your answer to an object called `answer2.8`. Your answer should be a single character surrounded by quotes._"
   ]
  },
  {
   "cell_type": "code",
   "execution_count": null,
   "metadata": {
    "deletable": false,
    "nbgrader": {
     "cell_type": "code",
     "checksum": "ed9199c2c2403d1bcfa96e68f92f0ea3",
     "grade": false,
     "grade_id": "cell-1487c5a41a521870",
     "locked": false,
     "schema_version": 3,
     "solution": true,
     "task": false
    }
   },
   "outputs": [],
   "source": [
    "# answer2.8 <- ...\n",
    "\n",
    "# your code here\n",
    "fail() # No Answer - remove if you provide an answer"
   ]
  },
  {
   "cell_type": "code",
   "execution_count": null,
   "metadata": {
    "deletable": false,
    "editable": false,
    "nbgrader": {
     "cell_type": "code",
     "checksum": "915a93e38b08f49087181ab27e1eaa5b",
     "grade": true,
     "grade_id": "cell-79e2ecf537661b10",
     "locked": true,
     "points": 1,
     "schema_version": 3,
     "solution": false,
     "task": false
    }
   },
   "outputs": [],
   "source": [
    "test_2.8()"
   ]
  },
  {
   "cell_type": "markdown",
   "metadata": {
    "deletable": false,
    "editable": false,
    "nbgrader": {
     "cell_type": "markdown",
     "checksum": "a9f2cac85db0e7bc85299f732fe76136",
     "grade": false,
     "grade_id": "cell-79e2ecf537661b11",
     "locked": true,
     "schema_version": 3,
     "solution": false,
     "task": false
    }
   },
   "source": [
    "In Module 3, we will explore in detail how sample size affect the sampling distribution."
   ]
  },
  {
   "cell_type": "markdown",
   "metadata": {
    "deletable": false,
    "editable": false,
    "nbgrader": {
     "cell_type": "markdown",
     "checksum": "a07d0cc71cf2b754793c6c9281c59efd",
     "grade": false,
     "grade_id": "cell-f3fec4bdcd74fe8c",
     "locked": true,
     "schema_version": 3,
     "solution": false,
     "task": false
    }
   },
   "source": [
    "## 3. Bootstrap Distribution vs Sampling Distribution\n",
    "\n",
    "### Root Barriers\n",
    "\n",
    "In this section, we are going to test the limits of bootstrapping to see whether it results in reliable approximations of asymmetrical sampling distributions, such as the one shown above. To do this, we will attempt to use bootstrapping to estimate sampling distributions that we know are even less symmetrical and compare them to see if our estimates are reasonable. One population that we have at our disposal that yields some asymmetrical sampling distributions is the `vancouver_trees` data set from the `datateachr` package. One example of this is the sampling distribution of sample proportions for the `root_barrier` variable; in this section, we will be looking at the proportion of trees that **do not** have a root barrier.\n",
    "\n",
    "<img src=\"https://www.flexiblelining.co.uk/media/shared/product-images/urban-hard-landscaping/rootbarrier/170UR4170-rootbarrier-panels-1.jpg\" width=400>\n",
    "\n",
    "<div style=\"text-align: center\"><i>Image from <a href=\"https://www.flexiblelining.co.uk/green-roof-systems/roof-garden-root-barrier/ribbed-root-barrier-panels\"> Flexible Lining Products</i></a></div>\n",
    "\n",
    "Recall that the `vancouver_trees` dataset contains information about public trees planted along boulevards in Vancouver. The `root_barrier` variable in this dataset specifies whether or not a tree was planted with a root barrier or not. A root barrier is a type of underground wall that protects buildings, sidewalks, and roads from roots, which can severely damage these structures. One example of a type of root barrier is shown in the picture above."
   ]
  },
  {
   "cell_type": "markdown",
   "metadata": {
    "deletable": false,
    "editable": false,
    "nbgrader": {
     "cell_type": "markdown",
     "checksum": "722b8fa78f1b240a11b0b44557338e92",
     "grade": false,
     "grade_id": "cell-c719fb42fc24881f",
     "locked": true,
     "schema_version": 3,
     "solution": false,
     "task": false
    }
   },
   "source": [
    "**Question 3.1** \n",
    "<br> {points: 1}\n",
    "\n",
    "Filter `vancouver_trees` such that there are no `NA` values in the `root_barrier` column, and then select only that column. Use the scaffolding provided below as a guide:\n",
    "\n",
    "```r\n",
    "barrier_pop <- vancouver_trees %>% \n",
    "    filter(...) %>% \n",
    "    ...(root_barrier)\n",
    "```\n",
    "\n",
    "_Assign your data frame to an object called `barrier_pop`._"
   ]
  },
  {
   "cell_type": "code",
   "execution_count": null,
   "metadata": {
    "deletable": false,
    "nbgrader": {
     "cell_type": "code",
     "checksum": "b8c41f19fcece75027afa5a77acfd61b",
     "grade": false,
     "grade_id": "cell-65aebf1f840a376d",
     "locked": false,
     "schema_version": 3,
     "solution": true,
     "task": false
    }
   },
   "outputs": [],
   "source": [
    "# your code here\n",
    "fail() # No Answer - remove if you provide an answer\n",
    "head(barrier_pop)"
   ]
  },
  {
   "cell_type": "code",
   "execution_count": null,
   "metadata": {
    "deletable": false,
    "editable": false,
    "nbgrader": {
     "cell_type": "code",
     "checksum": "181fd5b15e0a667b00a0651be4ab1415",
     "grade": true,
     "grade_id": "cell-5be38a133d838f2f",
     "locked": true,
     "points": 1,
     "schema_version": 3,
     "solution": false,
     "task": false
    }
   },
   "outputs": [],
   "source": [
    "test_3.1()"
   ]
  },
  {
   "cell_type": "markdown",
   "metadata": {
    "deletable": false,
    "editable": false,
    "nbgrader": {
     "cell_type": "markdown",
     "checksum": "a9261842caefdcb71b72c245990ef27a",
     "grade": false,
     "grade_id": "cell-3db19654da2479d1",
     "locked": true,
     "schema_version": 3,
     "solution": false,
     "task": false
    }
   },
   "source": [
    "**Question 3.2** \n",
    "<br> {points: 1}\n",
    "\n",
    "Draw 2000 random samples of size 20 from the population `barrier_pop` using the `rep_sample_n` function and a seed of 3909. For each sample, calculate the proportion of trees that **do not** have a root barrier (i.e. where `root_barrier == \"N\"`) as the point estimate. Lastly, we will visualize the distribution of the sample proportions you just calculated by plotting a histogram. The plot should have a variable named `p` on the x-axis. Use the scaffolding provided below as a guide:\n",
    "\n",
    "```r\n",
    "barrier_sampling_dist <- \n",
    "    ... %>% \n",
    "    rep_sample_n(size = ..., reps = ..., replace = ...) %>% \n",
    "    ...(replicate) %>% \n",
    "    summarize(x = sum(... == \"N\"),\n",
    "              n = n()) %>% \n",
    "    mutate(p = ... / ...) %>% \n",
    "    ggplot(aes(x = ...)) +\n",
    "        geom_histogram(binwidth = 1/20, color = 'white') +\n",
    "        xlab(\"Proportion\") +\n",
    "        ggtitle(\"Sampling Distribution of Proportions (n = 20)\")\n",
    "        \n",
    "```\n",
    "\n",
    "_Assign your plot to an object called `barrier_sampling_dist`._"
   ]
  },
  {
   "cell_type": "code",
   "execution_count": null,
   "metadata": {
    "deletable": false,
    "nbgrader": {
     "cell_type": "code",
     "checksum": "bf6aa56eb189621be439c0227194bcea",
     "grade": false,
     "grade_id": "cell-68ae3b69a08fbf94",
     "locked": false,
     "schema_version": 3,
     "solution": true,
     "task": false
    }
   },
   "outputs": [],
   "source": [
    "set.seed(3909) # DO NOT CHANGE!\n",
    "        \n",
    "# your code here\n",
    "fail() # No Answer - remove if you provide an answer\n",
    "\n",
    "barrier_sampling_dist"
   ]
  },
  {
   "cell_type": "code",
   "execution_count": null,
   "metadata": {
    "deletable": false,
    "editable": false,
    "nbgrader": {
     "cell_type": "code",
     "checksum": "3d49fdc0b52e384fce1092e856b48550",
     "grade": true,
     "grade_id": "cell-baec19ed025dc2e9",
     "locked": true,
     "points": 1,
     "schema_version": 3,
     "solution": false,
     "task": false
    }
   },
   "outputs": [],
   "source": [
    "test_3.2()"
   ]
  },
  {
   "cell_type": "markdown",
   "metadata": {
    "deletable": false,
    "editable": false,
    "nbgrader": {
     "cell_type": "markdown",
     "checksum": "2b95eb90577427849aa1440bc9446f36",
     "grade": false,
     "grade_id": "cell-656b90f2deb5d102",
     "locked": true,
     "schema_version": 3,
     "solution": false,
     "task": false
    }
   },
   "source": [
    "**Question 3.3** \n",
    "<br> {points: 1}\n",
    "\n",
    "Take a single random sample of size 20 from `barrier_pop` using `rep_sample_n` and a seed of 1933. Ensure your resulting data frame only has a single column: `root_barrier`.\n",
    "\n",
    "**Hint:** Remember to `ungroup()` before using `select()`!\n",
    "\n",
    "_Assign your data frame to an object called `barrier_sample`._"
   ]
  },
  {
   "cell_type": "code",
   "execution_count": null,
   "metadata": {
    "deletable": false,
    "nbgrader": {
     "cell_type": "code",
     "checksum": "7469ccb8ac1db1b5532574a7bc4d8732",
     "grade": false,
     "grade_id": "cell-d565a00f0fb18d3a",
     "locked": false,
     "schema_version": 3,
     "solution": true,
     "task": false
    }
   },
   "outputs": [],
   "source": [
    "set.seed(1933) # DO NOT CHANGE!\n",
    "\n",
    "# your code here\n",
    "fail() # No Answer - remove if you provide an answer\n",
    "\n",
    "head(barrier_sample)"
   ]
  },
  {
   "cell_type": "code",
   "execution_count": null,
   "metadata": {
    "deletable": false,
    "editable": false,
    "nbgrader": {
     "cell_type": "code",
     "checksum": "692dc691a9ceb005092eccf298ef3f8e",
     "grade": true,
     "grade_id": "cell-789b0060d74dbe20",
     "locked": true,
     "points": 1,
     "schema_version": 3,
     "solution": false,
     "task": false
    }
   },
   "outputs": [],
   "source": [
    "test_3.3()"
   ]
  },
  {
   "cell_type": "markdown",
   "metadata": {
    "deletable": false,
    "editable": false,
    "nbgrader": {
     "cell_type": "markdown",
     "checksum": "e64707f265b7ee7ec07e17ae3104e983",
     "grade": false,
     "grade_id": "cell-5cc1c16691bdfe76",
     "locked": true,
     "schema_version": 3,
     "solution": false,
     "task": false
    }
   },
   "source": [
    "**Question 3.4** \n",
    "<br> {points: 1}\n",
    "\n",
    "Now we want to produce a bootstrap sampling distribution using `barrier_sample` sample we just took, which we will be able to compare to the sampling distribution we generated above. We want to use the exact same scaffolding as **question 3.2** (except the object name we are saving to) to complete the following task: \n",
    "\n",
    "> Take 2000 bootstrap samples from `barrier_sample` using `rep_sample_n` with a seed of 2767. Then, calculate the proportion of trees in each sample that does not have a root barrier (`root_barrier == \"N\"`); name the column containing the sample propotions `p`. Lastly, use `geom_histogram` with bin widths of 1/20 to visualize the bootstrap distribution. Add a descriptive title to the plot using `ggtitle` and ensure that the x-axis has a human-readable label. \n",
    "\n",
    "**Which two `...`'s in the scaffolding below _must_ be different than the code you used in question 3.2?**\n",
    "\n",
    "```R\n",
    "# LINE  1:    bootstrap_dist_20 <- ... %>% \n",
    "# LINE  2:       rep_sample_n(size = ..., reps = ..., replace = ...) %>% \n",
    "# LINE  3:       ...(replicate) %>% \n",
    "# LINE  4:       summarize(x = sum(... == \"N\"),\n",
    "# LINE  5:                 n = n()) %>% \n",
    "# LINE  6:       mutate(p = ... / ...) %>% \n",
    "# LINE  7:       ggplot(aes(x = p)) +\n",
    "# LINE  8:           geom_histogram(... = ...) +\n",
    "# LINE  9:           xlab(\"Proportion\") +\n",
    "# LINE 10:           ...(\"n = 20\")\n",
    "```\n",
    "\n",
    "A. The `...` in `LINE 1` and the third `...` from the left in `LINE 2`\n",
    "\n",
    "B. The `...` in `LINE 1` and the second `...` from the left in `LINE 8`\n",
    "\n",
    "C. The first `...` from the left in `LINE 2` and the third `...` from the left in `LINE 2`\n",
    "\n",
    "D. The first `...` from the left in `LINE 2` and the second `...` from the left in `LINE 8`\n",
    "\n",
    "E. Some other two `...`'s not listed above.\n",
    "\n",
    "F. None of the above; only one `...` must be different.\n",
    "\n",
    "G. None of the above; three or more of the `...` must be different.\n",
    "\n",
    "_Assign your answer to an object called `answer2.4`. Your answer should be a single character surrounded by quotes._"
   ]
  },
  {
   "cell_type": "code",
   "execution_count": null,
   "metadata": {
    "deletable": false,
    "nbgrader": {
     "cell_type": "code",
     "checksum": "dc3d510d9c8ccca6c57579381136e47e",
     "grade": false,
     "grade_id": "cell-bb6ac4a03c970908",
     "locked": false,
     "schema_version": 3,
     "solution": true,
     "task": false
    }
   },
   "outputs": [],
   "source": [
    "# answer3.4 <- ...\n",
    "\n",
    "# your code here\n",
    "fail() # No Answer - remove if you provide an answer"
   ]
  },
  {
   "cell_type": "code",
   "execution_count": null,
   "metadata": {
    "deletable": false,
    "editable": false,
    "nbgrader": {
     "cell_type": "code",
     "checksum": "2e94d46b7fb95fb50d5af01856069541",
     "grade": true,
     "grade_id": "cell-c108dea3f7b6b6e2",
     "locked": true,
     "points": 1,
     "schema_version": 3,
     "solution": false,
     "task": false
    }
   },
   "outputs": [],
   "source": [
    "test_3.4()"
   ]
  },
  {
   "cell_type": "markdown",
   "metadata": {
    "deletable": false,
    "editable": false,
    "nbgrader": {
     "cell_type": "markdown",
     "checksum": "ccabd1a10ad5fedae7c00f49ee40a752",
     "grade": false,
     "grade_id": "cell-092e11d77cbda9d5",
     "locked": true,
     "schema_version": 3,
     "solution": false,
     "task": false
    }
   },
   "source": [
    "**Question 3.5** \n",
    "<br> {points: 1}\n",
    "\n",
    "Take 2000 bootstrap samples from `barrier_sample` using `rep_sample_n` with a seed of 2767. Then, calculate the proportion of trees in each sample that does not have a root barrier (`root_barrier == \"N\"`). Lastly, use `geom_histogram` with bin widths of 1/20 to visualize the bootstrap distribution. Add a descriptive title to the plot using `ggtitle` and ensure that the x-axis has a human-readable label. \n",
    "\n",
    "**Hint:** use your answer to the previous question and your code from **question 3.2**.\n",
    "\n",
    "_Assign your plot to an object called `barrier_bootstrap_dist`._"
   ]
  },
  {
   "cell_type": "code",
   "execution_count": null,
   "metadata": {
    "deletable": false,
    "nbgrader": {
     "cell_type": "code",
     "checksum": "6299af6be208f102f21b2cf787e94143",
     "grade": false,
     "grade_id": "cell-49c66e4141824107",
     "locked": false,
     "schema_version": 3,
     "solution": true,
     "task": false
    }
   },
   "outputs": [],
   "source": [
    "set.seed(2767) # DO NOT CHANGE!\n",
    "\n",
    "# barrier_bootstrap_dist <- \n",
    "#     ... %>% # this is a multiline command that you need to fill\n",
    "#     ggplot(aes(x = p)) +\n",
    "#     geom_histogram(binwidth = 1/20, color = 'white') +\n",
    "#     xlab(\"Proportion\") +\n",
    "#     ggtitle(\"Bootstrap Distribution of Sample Proportions (n = 20)\")\n",
    "\n",
    "# your code here\n",
    "fail() # No Answer - remove if you provide an answer\n",
    "\n",
    "barrier_bootstrap_dist"
   ]
  },
  {
   "cell_type": "code",
   "execution_count": null,
   "metadata": {
    "deletable": false,
    "editable": false,
    "nbgrader": {
     "cell_type": "code",
     "checksum": "240333e386623f04abc1a9182e5a8d1c",
     "grade": true,
     "grade_id": "cell-1e5db4cb336f35b7",
     "locked": true,
     "points": 1,
     "schema_version": 3,
     "solution": false,
     "task": false
    }
   },
   "outputs": [],
   "source": [
    "test_3.5()"
   ]
  },
  {
   "cell_type": "markdown",
   "metadata": {
    "deletable": false,
    "editable": false,
    "nbgrader": {
     "cell_type": "markdown",
     "checksum": "3320a5bd83f1966c0bd6fbb9071d7102",
     "grade": false,
     "grade_id": "cell-5b7a33251a40cd78",
     "locked": true,
     "schema_version": 3,
     "solution": false,
     "task": false
    }
   },
   "source": [
    "**Question 3.6** \n",
    "<br> {points: 1}\n",
    "\n",
    "**Note:** this question has two parts!\n",
    "\n",
    "a) Calculate the standard deviation of the sampling distribution you generated above (`barrier_sampling_dist`); this is the standard error of the corresponding estimator.\n",
    "\n",
    "_Assign your answer to an object called `standard_error`. Your answer should be a single number._\n",
    "\n",
    "<br>\n",
    "\n",
    "b) Calculate the standard deviation of the bootstrap distribution you generated above (`barrier_bootstrap_dist`).\n",
    "\n",
    "_Assign your answer to an object called `standard_deviation`. Your answer should be a single number._\n",
    "\n",
    "**Hints:**\n",
    "- You can get the data that was used to generate using a plot with `plot_name$data`, for example: `barrier_sampling_dist$data`.\n",
    "- You can convert a 1x1 data frame to a number using `as.numeric()`."
   ]
  },
  {
   "cell_type": "code",
   "execution_count": null,
   "metadata": {
    "deletable": false,
    "nbgrader": {
     "cell_type": "code",
     "checksum": "9f4b1d0a76fe148b09e2e30c3ed6d181",
     "grade": false,
     "grade_id": "cell-723febc1c6611afd",
     "locked": false,
     "schema_version": 3,
     "solution": true,
     "task": false
    }
   },
   "outputs": [],
   "source": [
    "# your code here\n",
    "fail() # No Answer - remove if you provide an answer\n",
    "standard_error\n",
    "standard_deviation"
   ]
  },
  {
   "cell_type": "code",
   "execution_count": null,
   "metadata": {
    "deletable": false,
    "editable": false,
    "nbgrader": {
     "cell_type": "code",
     "checksum": "c42ffe052f579ed85527b465e95c7395",
     "grade": true,
     "grade_id": "cell-96fbd5f460153e4d",
     "locked": true,
     "points": 1,
     "schema_version": 3,
     "solution": false,
     "task": false
    }
   },
   "outputs": [],
   "source": [
    "test_3.6()"
   ]
  },
  {
   "cell_type": "markdown",
   "metadata": {
    "deletable": false,
    "editable": false,
    "nbgrader": {
     "cell_type": "markdown",
     "checksum": "21592e7e25bbb83cd8d34394f7e67b39",
     "grade": false,
     "grade_id": "cell-872bca96dfb37d39",
     "locked": true,
     "schema_version": 3,
     "solution": false,
     "task": false
    }
   },
   "source": [
    "**Question 3.7** \n",
    "<br> {points: 1}\n",
    "\n",
    "True or false?\n",
    "\n",
    "The standard deviation of a bootstrap distribution is a \"good guess\" of the standard deviation of the corresponding sampling distribution."
   ]
  },
  {
   "cell_type": "code",
   "execution_count": null,
   "metadata": {
    "deletable": false,
    "nbgrader": {
     "cell_type": "code",
     "checksum": "0abfc33e8412e02d3d47a877e9e68e76",
     "grade": false,
     "grade_id": "cell-98838fdd73e845c4",
     "locked": false,
     "schema_version": 3,
     "solution": true,
     "task": false
    }
   },
   "outputs": [],
   "source": [
    "# answer3.7 <- ...\n",
    "\n",
    "# your code here\n",
    "fail() # No Answer - remove if you provide an answer"
   ]
  },
  {
   "cell_type": "code",
   "execution_count": null,
   "metadata": {
    "deletable": false,
    "editable": false,
    "nbgrader": {
     "cell_type": "code",
     "checksum": "1801412817e56c3f5024c118ab390858",
     "grade": true,
     "grade_id": "cell-2b590d0c77cfb166",
     "locked": true,
     "points": 1,
     "schema_version": 3,
     "solution": false,
     "task": false
    }
   },
   "outputs": [],
   "source": [
    "test_3.7()"
   ]
  },
  {
   "cell_type": "markdown",
   "metadata": {
    "deletable": false,
    "editable": false,
    "nbgrader": {
     "cell_type": "markdown",
     "checksum": "41788b713ceee58491f33127be4b2785",
     "grade": false,
     "grade_id": "cell-c1862c7bad5b258e",
     "locked": true,
     "schema_version": 3,
     "solution": false,
     "task": false
    }
   },
   "source": [
    "**Question 3.8** \n",
    "<br> {points: 3}\n",
    "\n",
    "Will the standard deviation of a bootstrap distribution **always** be relatively close to the standard deviation of the corresponding sampling distribution?\n",
    "- If no, describe one situation related to our root barrier scenario above that would result in the `standard_deviation` object from **question 3.6** being very different than the `standard_error` object.\n",
    "- If yes, explain why no such situation exists."
   ]
  },
  {
   "cell_type": "markdown",
   "metadata": {
    "deletable": false,
    "nbgrader": {
     "cell_type": "markdown",
     "checksum": "fa4ef74f207a8af9d77c47ade5dd5548",
     "grade": true,
     "grade_id": "cell-692bb294134028ed",
     "locked": false,
     "points": 3,
     "schema_version": 3,
     "solution": true,
     "task": false
    }
   },
   "source": [
    "DOUBLE CLICK TO EDIT **THIS CELL** AND REPLACE THIS TEXT WITH YOUR ANSWER."
   ]
  },
  {
   "cell_type": "markdown",
   "metadata": {
    "deletable": false,
    "editable": false,
    "nbgrader": {
     "cell_type": "markdown",
     "checksum": "6086d41e61cfb94385f2a8095150268a",
     "grade": false,
     "grade_id": "cell-09699b3910c5e22d",
     "locked": true,
     "schema_version": 3,
     "solution": false,
     "task": false
    }
   },
   "source": [
    "## 4. A Closer Look at Bootstrapping\n",
    "\n",
    "There is one \"rule\" related to bootstrapping that we have not mentioned yet:\n",
    "\n",
    "> When generating a bootstrap distribution to estimate the sampling distribution for the original sample size, the **bootstrap samples** should be the **same size** as the **original sample** to get a useful estimate.\n",
    "\n",
    "For example, we would get poor results if we took a sample of size 30 from the population, and then took many bootstrap samples (resamples from the original sample, with replacement) of size 60 to estimate a sampling distribution for samples of size 30. Why? Let's try it out ourselves to discover the answer. Afterwards, we'll also go through some other questions to continue to solidify our understanding of the various nuances related to bootstrapping."
   ]
  },
  {
   "cell_type": "markdown",
   "metadata": {
    "deletable": false,
    "editable": false,
    "nbgrader": {
     "cell_type": "markdown",
     "checksum": "eb1aff75180df94ab4828912f0cde2bb",
     "grade": false,
     "grade_id": "cell-0bd9dc7d44fd3c04",
     "locked": true,
     "schema_version": 3,
     "solution": false,
     "task": false
    }
   },
   "source": [
    "### Pissard plum\n",
    "\n",
    "To explore the \"rule of thumb\" that we mentioned above, we will again use the `vancouver_trees` data set from the `datateachr` package. However, this time the population we are interested in is only the trees with the common name `\"PISSARD PLUM\"`, and the parameter that we are interested in is the standard deviation of the `diameter` of these trees."
   ]
  },
  {
   "cell_type": "code",
   "execution_count": null,
   "metadata": {
    "deletable": false,
    "editable": false,
    "nbgrader": {
     "cell_type": "code",
     "checksum": "edddfed3762773a96971a5767cad4355",
     "grade": false,
     "grade_id": "cell-499c4bc56a311d6f",
     "locked": true,
     "schema_version": 3,
     "solution": false,
     "task": false
    }
   },
   "outputs": [],
   "source": [
    "head(vancouver_trees)"
   ]
  },
  {
   "cell_type": "markdown",
   "metadata": {
    "deletable": false,
    "editable": false,
    "nbgrader": {
     "cell_type": "markdown",
     "checksum": "e9d6b2fbe21217bce0c4a21c18379b6f",
     "grade": false,
     "grade_id": "cell-b08c8f90c4b7f79d",
     "locked": true,
     "schema_version": 3,
     "solution": false,
     "task": false
    }
   },
   "source": [
    "**Question 4.0** \n",
    "<br> {points: 1}\n",
    "\n",
    "Filter the `vancouver_trees` dataset for the population that we are interested in and then select the variable that we are interested in (your final data frame should have a single column).\n",
    "\n",
    "_Assign your data frame to an object called `plum_pop`._"
   ]
  },
  {
   "cell_type": "code",
   "execution_count": null,
   "metadata": {
    "deletable": false,
    "nbgrader": {
     "cell_type": "code",
     "checksum": "f06dddd02d738f8c00b9cbfc3f627e91",
     "grade": false,
     "grade_id": "cell-bdde492539c6004d",
     "locked": false,
     "schema_version": 3,
     "solution": true,
     "task": false
    }
   },
   "outputs": [],
   "source": [
    "# your code here\n",
    "fail() # No Answer - remove if you provide an answer\n",
    "\n",
    "head(plum_pop)"
   ]
  },
  {
   "cell_type": "code",
   "execution_count": null,
   "metadata": {
    "deletable": false,
    "editable": false,
    "nbgrader": {
     "cell_type": "code",
     "checksum": "089dab2b325c0d6bacfac0c6780bccc9",
     "grade": true,
     "grade_id": "cell-ae4e3ed82fd5daf8",
     "locked": true,
     "points": 1,
     "schema_version": 3,
     "solution": false,
     "task": false
    }
   },
   "outputs": [],
   "source": [
    "test_4.0()"
   ]
  },
  {
   "cell_type": "markdown",
   "metadata": {
    "deletable": false,
    "editable": false,
    "nbgrader": {
     "cell_type": "markdown",
     "checksum": "9b034326a0dffb590f35cb01bd5cd297",
     "grade": false,
     "grade_id": "cell-380227c9b0e5412d",
     "locked": true,
     "schema_version": 3,
     "solution": false,
     "task": false
    }
   },
   "source": [
    "**Question 4.1** \n",
    "<br> {points: 1}\n",
    "\n",
    "Take a single random sample of size 10 from `plum_pop` using the `rep_sample_n` function and a seed of 0737. Ensure your resulting data frame only has a single column: `diameter`.\n",
    "\n",
    "_Assign your data frame to an object called `plum_sample`._"
   ]
  },
  {
   "cell_type": "code",
   "execution_count": null,
   "metadata": {
    "deletable": false,
    "nbgrader": {
     "cell_type": "code",
     "checksum": "1a3fb7fe6fb468888bb90ca75ff429fd",
     "grade": false,
     "grade_id": "cell-75af97d43ec269ac",
     "locked": false,
     "schema_version": 3,
     "solution": true,
     "task": false
    }
   },
   "outputs": [],
   "source": [
    "set.seed(0737) # DO NOT CHANGE!\n",
    "\n",
    "# your code here\n",
    "fail() # No Answer - remove if you provide an answer\n",
    "\n",
    "head(plum_sample)"
   ]
  },
  {
   "cell_type": "code",
   "execution_count": null,
   "metadata": {
    "deletable": false,
    "editable": false,
    "nbgrader": {
     "cell_type": "code",
     "checksum": "5a362dfc17b5eabd6c81d73a60e25e9f",
     "grade": true,
     "grade_id": "cell-0986f2eb2717d803",
     "locked": true,
     "points": 1,
     "schema_version": 3,
     "solution": false,
     "task": false
    }
   },
   "outputs": [],
   "source": [
    "test_4.1()"
   ]
  },
  {
   "cell_type": "markdown",
   "metadata": {
    "deletable": false,
    "editable": false,
    "nbgrader": {
     "cell_type": "markdown",
     "checksum": "9edecc2ae50458b012a4210e873efb05",
     "grade": false,
     "grade_id": "cell-997950696b0f714d",
     "locked": true,
     "schema_version": 3,
     "solution": false,
     "task": false
    }
   },
   "source": [
    "**Question 4.2** \n",
    "<br> {points: 1}\n",
    "\n",
    "Take 2500 bootstrap samples **of size 100** from the sample you took in the previous question by using the `rep_sample_n` function and a seed of 9284. \n",
    "\n",
    "_Assign your data frame to an object called `plum_resamples`._"
   ]
  },
  {
   "cell_type": "code",
   "execution_count": null,
   "metadata": {
    "deletable": false,
    "nbgrader": {
     "cell_type": "code",
     "checksum": "b1ced273603586367346c295d9730599",
     "grade": false,
     "grade_id": "cell-b06447756aff9cd5",
     "locked": false,
     "schema_version": 3,
     "solution": true,
     "task": false
    }
   },
   "outputs": [],
   "source": [
    "set.seed(9284) # DO NOT CHANGE!\n",
    "\n",
    "# your code here\n",
    "fail() # No Answer - remove if you provide an answer\n",
    "\n",
    "head(plum_resamples)"
   ]
  },
  {
   "cell_type": "code",
   "execution_count": null,
   "metadata": {
    "deletable": false,
    "editable": false,
    "nbgrader": {
     "cell_type": "code",
     "checksum": "bc84a98f902f7ef6b6b713e39d348758",
     "grade": true,
     "grade_id": "cell-a2e18241939fda90",
     "locked": true,
     "points": 1,
     "schema_version": 3,
     "solution": false,
     "task": false
    }
   },
   "outputs": [],
   "source": [
    "test_4.2()"
   ]
  },
  {
   "cell_type": "markdown",
   "metadata": {
    "deletable": false,
    "editable": false,
    "nbgrader": {
     "cell_type": "markdown",
     "checksum": "7c984f04266ef67b3d85e9454e6ae405",
     "grade": false,
     "grade_id": "cell-c8eda13872adcd19",
     "locked": true,
     "schema_version": 3,
     "solution": false,
     "task": false
    }
   },
   "source": [
    "**Question 4.3** \n",
    "<br> {points: 3}\n",
    "\n",
    "Calculate the standard deviation for each resample that you took in the previous question with `group_by()` and `summarize()`. Name the new column containing the standard deviation `sd`.\n",
    "\n",
    "_Assign your data frame to an object called `resample_estimates`._"
   ]
  },
  {
   "cell_type": "code",
   "execution_count": null,
   "metadata": {
    "deletable": false,
    "nbgrader": {
     "cell_type": "code",
     "checksum": "be47cac574cb1c25764efc7199707345",
     "grade": false,
     "grade_id": "cell-704a430b3580ea41",
     "locked": false,
     "schema_version": 3,
     "solution": true,
     "task": false
    }
   },
   "outputs": [],
   "source": [
    "# your code here\n",
    "fail() # No Answer - remove if you provide an answer\n",
    "\n",
    "head(resample_estimates)"
   ]
  },
  {
   "cell_type": "code",
   "execution_count": null,
   "metadata": {
    "deletable": false,
    "editable": false,
    "nbgrader": {
     "cell_type": "code",
     "checksum": "acb1bf708fc89826d14bc2707f3eb135",
     "grade": true,
     "grade_id": "cell-caa64285e3611f8d",
     "locked": true,
     "points": 3,
     "schema_version": 3,
     "solution": false,
     "task": false
    }
   },
   "outputs": [],
   "source": [
    "# Here we check to see if you have given your answer the correct object name\n",
    "# and if your answer is plausible. However, all other tests have been hidden\n",
    "# so you can practice deciding when you have the correct answer.\n",
    "test_that('Did not assign answer to an object called \"resample_estimates\"', {\n",
    "  expect_true(exists(\"resample_estimates\"))\n",
    "})\n",
    "test_that(\"Solution should be a data frame\", {\n",
    "  expect_true(\"data.frame\" %in% class(resample_estimates))\n",
    "})"
   ]
  },
  {
   "cell_type": "markdown",
   "metadata": {
    "deletable": false,
    "editable": false,
    "nbgrader": {
     "cell_type": "markdown",
     "checksum": "76ec8113d90c8727043b678758bb2a63",
     "grade": false,
     "grade_id": "cell-28a80204df4ba87d",
     "locked": true,
     "schema_version": 3,
     "solution": false,
     "task": false
    }
   },
   "source": [
    "**Question 4.4** \n",
    "<br> {points: 3}\n",
    "\n",
    "Visualize the bootstrap distribution (of `resample_estimates`) by plotting a histogram using `geom_histogram` with bin widths of 0.25. Ensure that the x-axis has a human-readable label.\n",
    "\n",
    "_Assign your plot to an object called `plum_bootstrap_dist`._"
   ]
  },
  {
   "cell_type": "code",
   "execution_count": null,
   "metadata": {
    "deletable": false,
    "nbgrader": {
     "cell_type": "code",
     "checksum": "34d35af4675c860c8e649a2bb575485f",
     "grade": false,
     "grade_id": "cell-f4e06076985de5fe",
     "locked": false,
     "schema_version": 3,
     "solution": true,
     "task": false
    }
   },
   "outputs": [],
   "source": [
    "# your code here\n",
    "fail() # No Answer - remove if you provide an answer\n",
    "\n",
    "plum_bootstrap_dist"
   ]
  },
  {
   "cell_type": "code",
   "execution_count": null,
   "metadata": {
    "deletable": false,
    "editable": false,
    "nbgrader": {
     "cell_type": "code",
     "checksum": "d1871e5552d82012ff62a7c8117ec982",
     "grade": true,
     "grade_id": "cell-962d663ea98f596f",
     "locked": true,
     "points": 3,
     "schema_version": 3,
     "solution": false,
     "task": false
    }
   },
   "outputs": [],
   "source": [
    "# Here we check to see if you have given your answer the correct object name\n",
    "# and if your answer is plausible. However, all other tests have been hidden\n",
    "# so you can practice deciding when you have the correct answer.\n",
    "test_that('Did not assign answer to an object called \"plum_bootstrap_dist\"', {\n",
    "  expect_true(exists(\"plum_bootstrap_dist\"))\n",
    "})\n",
    "test_that(\"Solution should be a ggplot object\", {\n",
    "  expect_true(is.ggplot(plum_bootstrap_dist))\n",
    "})"
   ]
  },
  {
   "cell_type": "markdown",
   "metadata": {
    "deletable": false,
    "editable": false,
    "nbgrader": {
     "cell_type": "markdown",
     "checksum": "0a6d347f92f0cec2905b697e49ec8f4b",
     "grade": false,
     "grade_id": "cell-1b4a28c6484afef9",
     "locked": true,
     "schema_version": 3,
     "solution": false,
     "task": false
    }
   },
   "source": [
    "**Question 4.5** \n",
    "<br> {points: 3}\n",
    "\n",
    "Produce a sampling distribution (**not** a bootstrap distribution) of sample standard deviations for samples of size 10 from the population `plum_pop` using a procedure similar to the previous questions and the last section; use 2500 sample replicates and a seed of 2362. Then, visualize the distribution using a histogram. \n",
    "\n",
    "_Assign your plot to an object called `plum_sampling_dist`._"
   ]
  },
  {
   "cell_type": "code",
   "execution_count": null,
   "metadata": {
    "deletable": false,
    "nbgrader": {
     "cell_type": "code",
     "checksum": "cdcf389c4d0d1b6b6a8dd1304a5faf89",
     "grade": false,
     "grade_id": "cell-ad672783439467a1",
     "locked": false,
     "schema_version": 3,
     "solution": true,
     "task": false
    }
   },
   "outputs": [],
   "source": [
    "set.seed(2362) # DO NOT CHANGE!\n",
    "\n",
    "# plum_sampling_dist <- \n",
    "#     ... %>% # this is a multiline command\n",
    "#     ggplot(aes(x = sd)) +\n",
    "#         geom_histogram(binwidth = 0.5) +\n",
    "#         xlab(\"Standard Deviation\")\n",
    "\n",
    "# your code here\n",
    "fail() # No Answer - remove if you provide an answer\n",
    "\n",
    "plum_sampling_dist"
   ]
  },
  {
   "cell_type": "code",
   "execution_count": null,
   "metadata": {
    "deletable": false,
    "editable": false,
    "nbgrader": {
     "cell_type": "code",
     "checksum": "bcc3c9bc04e09bf71c4d853c3e8dc380",
     "grade": true,
     "grade_id": "cell-6766ffaf56560b7f",
     "locked": true,
     "points": 3,
     "schema_version": 3,
     "solution": false,
     "task": false
    }
   },
   "outputs": [],
   "source": [
    "# Here we check to see if you have given your answer the correct object name\n",
    "# and if your answer is plausible. However, all other tests have been hidden\n",
    "# so you can practice deciding when you have the correct answer.\n",
    "test_that('Did not assign answer to an object called \"plum_sampling_dist\"', {\n",
    "  expect_true(exists(\"plum_sampling_dist\"))\n",
    "})\n",
    "test_that(\"Solution should be a ggplot object\", {\n",
    "  expect_true(is.ggplot(plum_sampling_dist))\n",
    "})"
   ]
  },
  {
   "cell_type": "markdown",
   "metadata": {
    "deletable": false,
    "editable": false,
    "nbgrader": {
     "cell_type": "markdown",
     "checksum": "9650703e071d3003622c3c388e8ee15a",
     "grade": false,
     "grade_id": "cell-7e8315e5d3cbc365",
     "locked": true,
     "schema_version": 3,
     "solution": false,
     "task": false
    }
   },
   "source": [
    "In the code cell below, we have used `plot_grid` to plot the sample distribution and bootstrap distribution side by side.\n",
    "\n",
    "**Note:** some of the sample standard deviations are not visible because we have manually set bounds on the x-axis so you can compare the important parts of the distributions more easily\n",
    "\n",
    "_Use the two plots below to answer the next **three questions**._"
   ]
  },
  {
   "cell_type": "code",
   "execution_count": null,
   "metadata": {
    "deletable": false,
    "editable": false,
    "nbgrader": {
     "cell_type": "code",
     "checksum": "fee2002f5ff4d0f86197d3da2c2bc03b",
     "grade": false,
     "grade_id": "cell-8fb6ead05de278cb",
     "locked": true,
     "schema_version": 3,
     "solution": false,
     "task": false
    }
   },
   "outputs": [],
   "source": [
    "options(repr.plot.width = 12, repr.plot.height = 4)\n",
    "plot_grid(plum_sampling_dist +\n",
    "              labs(title = \"Sampling Distribution\",\n",
    "                   caption = \"Generated using 2500 sample replicates of size 10.\") +\n",
    "              scale_x_continuous(limits = c(0, 10)),\n",
    "          plum_bootstrap_dist +\n",
    "              labs(title = \"Bootstrap Distribution\",\n",
    "                   caption = \"Generated using 2500 bootstrap samples of size 100 from a sample of size 10.\") + \n",
    "              scale_x_continuous(limits = c(0, 10)),\n",
    "          ncol = 2)"
   ]
  },
  {
   "cell_type": "markdown",
   "metadata": {
    "deletable": false,
    "editable": false,
    "nbgrader": {
     "cell_type": "markdown",
     "checksum": "f31c7712fc5307576a3596666846328c",
     "grade": false,
     "grade_id": "cell-2244b50e950e9a0c",
     "locked": true,
     "schema_version": 3,
     "solution": false,
     "task": false
    }
   },
   "source": [
    "**Question 4.6** \n",
    "<br> {points: 3}\n",
    "\n",
    "Which statement **best** describes the bootstrap distribution above?\n",
    "\n",
    "A. The distribution of many point estimates for the standard deviation of the population, which were acquired by taking many samples from the population and calculating the standard deviation of each sample.\n",
    "\n",
    "B. The distribution of many point estimates for the standard deviation of the sampling distribution (which is the standard error of the corresponding estimator), which were acquired by re-sampling from the original sample and calculating the standard deviation of each re-sample.\n",
    "\n",
    "C. The distribution of the standard deviations of many samples that were taken from the population.\n",
    "\n",
    "D. The distribution of standard deviations for many re-samples that were taken from the original sample.\n",
    "\n",
    "_Assign your answer to an object called `answer4.6`. Your answer should be a single character surrounded by quotes._"
   ]
  },
  {
   "cell_type": "code",
   "execution_count": null,
   "metadata": {
    "deletable": false,
    "nbgrader": {
     "cell_type": "code",
     "checksum": "824eb6025dfb44488d8952d8f1310651",
     "grade": false,
     "grade_id": "cell-91d590e6b77000e6",
     "locked": false,
     "schema_version": 3,
     "solution": true,
     "task": false
    }
   },
   "outputs": [],
   "source": [
    "# answer4.6 <- ...\n",
    "\n",
    "# your code here\n",
    "fail() # No Answer - remove if you provide an answer"
   ]
  },
  {
   "cell_type": "code",
   "execution_count": null,
   "metadata": {
    "deletable": false,
    "editable": false,
    "nbgrader": {
     "cell_type": "code",
     "checksum": "e284b57fbe2e1a6063d9969652c6f6c4",
     "grade": true,
     "grade_id": "cell-edf9b5c8e15d6131",
     "locked": true,
     "points": 3,
     "schema_version": 3,
     "solution": false,
     "task": false
    }
   },
   "outputs": [],
   "source": [
    "# Here we check to see if you have given your answer the correct object name\n",
    "# and if your answer is plausible. However, all other tests have been hidden\n",
    "# so you can practice deciding when you have the correct answer.\n",
    "test_that('Did not assign answer to an object called \"answer4.6\"', {\n",
    "  expect_true(exists(\"answer4.6\"))\n",
    "})\n",
    "test_that('Solution should be a single character (\"A\", \"B\", \"C\", or \"D\")', {\n",
    "  expect_match(answer4.6, \"a|b|c|d\", ignore.case = TRUE)\n",
    "})"
   ]
  },
  {
   "cell_type": "markdown",
   "metadata": {
    "deletable": false,
    "editable": false,
    "nbgrader": {
     "cell_type": "markdown",
     "checksum": "f1c052a61432fd2b4f63efcc551fda19",
     "grade": false,
     "grade_id": "cell-a21ce58b3d2da734",
     "locked": true,
     "schema_version": 3,
     "solution": false,
     "task": false
    }
   },
   "source": [
    "**Question 4.7** \n",
    "<br> {points: 3}\n",
    "\n",
    "By referencing the plots above, explain why it's not a good idea to take bootstrap sizes of a **larger size than the original sample** to estimate the sampling distribution for the original sample size."
   ]
  },
  {
   "cell_type": "markdown",
   "metadata": {
    "deletable": false,
    "nbgrader": {
     "cell_type": "markdown",
     "checksum": "ec10052cbfc89966d146437b3686976b",
     "grade": true,
     "grade_id": "cell-ea429f75fae054cc",
     "locked": false,
     "points": 3,
     "schema_version": 3,
     "solution": true,
     "task": false
    }
   },
   "source": [
    "DOUBLE CLICK TO EDIT **THIS CELL** AND REPLACE THIS TEXT WITH YOUR ANSWER."
   ]
  },
  {
   "cell_type": "markdown",
   "metadata": {
    "deletable": false,
    "editable": false,
    "nbgrader": {
     "cell_type": "markdown",
     "checksum": "aa28591bb321955d0da4d698f3f9ef17",
     "grade": false,
     "grade_id": "cell-5a499689a7ee1a31",
     "locked": true,
     "schema_version": 3,
     "solution": false,
     "task": false
    }
   },
   "source": [
    "**Question 4.8** \n",
    "<br> {points: 3}\n",
    "\n",
    "Suppose you took a single sample of size 164 and then took many bootstrap samples of size 10 from the first sample to produce a bootstrap distribution for the mean of the `diameter` variable in the `plum_pop` population. Suppose you wanted to use the standard deviation of the bootstrap distribution to estimate the standard deviation of the sampling distribution of sample means for the `diameter` variable for samples of size 164. How would you expect the estimate to compare to the actual standard error?\n",
    "\n",
    "A. The estimate would likely be an under-estimate.\n",
    "\n",
    "B. The estimate would likely be accurate.\n",
    "\n",
    "C. The estimate would likely be an over-estimate.\n",
    "\n",
    "D. There is not enough information to make this comparison.\n",
    "\n",
    "_Assign your answer to an object called `answer4.8`. Your answer should be a single character surrounded by quotes._"
   ]
  },
  {
   "cell_type": "code",
   "execution_count": null,
   "metadata": {
    "deletable": false,
    "nbgrader": {
     "cell_type": "code",
     "checksum": "460d9d611c7aa3fe47152c84246f738e",
     "grade": false,
     "grade_id": "cell-fcc688c1a5f5aafc",
     "locked": false,
     "schema_version": 3,
     "solution": true,
     "task": false
    }
   },
   "outputs": [],
   "source": [
    "# answer4.8 <- ...\n",
    "\n",
    "# your code here\n",
    "fail() # No Answer - remove if you provide an answer"
   ]
  },
  {
   "cell_type": "code",
   "execution_count": null,
   "metadata": {
    "deletable": false,
    "editable": false,
    "nbgrader": {
     "cell_type": "code",
     "checksum": "10feae43715b6040d65bb4fd53aedbb9",
     "grade": true,
     "grade_id": "cell-77a7fcc29f5d9d08",
     "locked": true,
     "points": 3,
     "schema_version": 3,
     "solution": false,
     "task": false
    }
   },
   "outputs": [],
   "source": [
    "# Here we check to see if you have given your answer the correct object name\n",
    "# and if your answer is plausible. However, all other tests have been hidden\n",
    "# so you can practice deciding when you have the correct answer.\n",
    "test_that('Did not assign answer to an object called \"answer4.8\"', {\n",
    "  expect_true(exists(\"answer4.8\"))\n",
    "})\n",
    "test_that('Solution should be a single character (\"A\", \"B\", \"C\", or \"D\")', {\n",
    "  expect_match(answer4.8, \"a|b|c|d\", ignore.case = TRUE)\n",
    "})"
   ]
  },
  {
   "cell_type": "markdown",
   "metadata": {
    "deletable": false,
    "editable": false,
    "nbgrader": {
     "cell_type": "markdown",
     "checksum": "4d279ea8b312399f1ebff0e7b687e543",
     "grade": false,
     "grade_id": "cell-aa93730bf9b99905",
     "locked": true,
     "schema_version": 3,
     "solution": false,
     "task": false
    }
   },
   "source": [
    "### More Bootstrapping Nuances"
   ]
  },
  {
   "cell_type": "markdown",
   "metadata": {
    "deletable": false,
    "editable": false,
    "nbgrader": {
     "cell_type": "markdown",
     "checksum": "fde4ffa2065f315abf689f2ab9947622",
     "grade": false,
     "grade_id": "cell-926dcf19654f9798",
     "locked": true,
     "schema_version": 3,
     "solution": false,
     "task": false
    }
   },
   "source": [
    "**Question 4.9** \n",
    "<br> {points: 3}\n",
    "\n",
    "Suppose a bootstrap distribution of sample means of the `diameter` variable in `plum_pop` was created by using `rep_sample_n` to take a single sample of size 8 from the population and then 3000 bootstrap samples. The resulting distribution is displayed below with bin widths of 0.25:\n",
    "\n",
    "<img src=\"plot.png\" width=600/>\n",
    "\n",
    "a) Given that the standard deviation of the `diameter` variable for the population `plum_pop` is around 5.0, is this a shape that you would expect the bootstrap distribution to have?\n",
    "\n",
    "b) If you answered yes, justify yourself in 1-2 sentences. If you answered no, justify yourself in 1-2 sentence and describe an error or scenario that would result in such a distribution in another sentence."
   ]
  },
  {
   "cell_type": "markdown",
   "metadata": {
    "deletable": false,
    "nbgrader": {
     "cell_type": "markdown",
     "checksum": "76acfe4edb73921e9bef0df9313caab0",
     "grade": true,
     "grade_id": "cell-b89f9dba49eab352",
     "locked": false,
     "points": 3,
     "schema_version": 3,
     "solution": true,
     "task": false
    }
   },
   "source": [
    "DOUBLE CLICK TO EDIT **THIS CELL** AND REPLACE THIS TEXT WITH YOUR ANSWER."
   ]
  },
  {
   "cell_type": "markdown",
   "metadata": {
    "deletable": false,
    "editable": false,
    "nbgrader": {
     "cell_type": "markdown",
     "checksum": "7241a7cd8d07364a213bc55196dd83a0",
     "grade": false,
     "grade_id": "cell-2ea018ce1de43103",
     "locked": true,
     "schema_version": 3,
     "solution": false,
     "task": false
    }
   },
   "source": [
    "**Question 4.10** \n",
    "<br> {points: 3}\n",
    "\n",
    "Consider the following single random sample of 6 observations of the reported average hours of screen time a person is exposed to each day:\n",
    "\n",
    "| `screen_time` <br> `<dbl>`|\n",
    "| -- |\n",
    "| 3 |\n",
    "| 6 |\n",
    "| 8 |\n",
    "| 1 |\n",
    "| 7 |\n",
    "| 7 |\n",
    "    \n",
    "Below are two more data frames that are claimed to have been created by bootstrapping from the original sample.\n",
    "\n",
    "| `screen_time` <br> `<dbl>`|\n",
    "| -- |\n",
    "| 6 |\n",
    "| 7 |\n",
    "| 6 |\n",
    "| 7 |\n",
    "| 7 |\n",
    "| 1 |\n",
    "\n",
    "| `screen_time` <br> `<dbl>`|\n",
    "| -- |\n",
    "| 7 |\n",
    "| 1 |\n",
    "| 7 |\n",
    "| 3 |\n",
    "| 6 |\n",
    "| 8 |\n",
    "\n",
    " Consider the values in the two data frames above. Do you agree that the two data frames above were bootstrapped samples? Explain why or why not in your own words in a few sentences."
   ]
  },
  {
   "cell_type": "markdown",
   "metadata": {
    "deletable": false,
    "nbgrader": {
     "cell_type": "markdown",
     "checksum": "c06bcbd38196b61090cc73d7078bdb39",
     "grade": true,
     "grade_id": "cell-e29a92ff6d0d764d",
     "locked": false,
     "points": 3,
     "schema_version": 3,
     "solution": true,
     "task": false
    }
   },
   "source": [
    "DOUBLE CLICK TO EDIT **THIS CELL** AND REPLACE THIS TEXT WITH YOUR ANSWER."
   ]
  }
 ],
 "metadata": {
  "docker": {
   "latest_image_tag": "v0.4.0"
  },
  "jupytext": {
   "formats": "ipynb,Rmd"
  },
  "kernelspec": {
   "display_name": "R",
   "language": "R",
   "name": "ir"
  },
  "language_info": {
   "codemirror_mode": "r",
   "file_extension": ".r",
   "mimetype": "text/x-r-source",
   "name": "R",
   "pygments_lexer": "r",
   "version": "4.3.3"
  }
 },
 "nbformat": 4,
 "nbformat_minor": 4
}
