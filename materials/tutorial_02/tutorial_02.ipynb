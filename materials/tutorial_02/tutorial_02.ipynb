{
 "cells": [
  {
   "cell_type": "markdown",
   "metadata": {
    "deletable": false,
    "editable": false,
    "nbgrader": {
     "cell_type": "markdown",
     "checksum": "9123ffac7bd8453e249147297eaa4422",
     "grade": false,
     "grade_id": "cell-e878cedd195c223b",
     "locked": true,
     "schema_version": 3,
     "solution": false,
     "task": false
    }
   },
   "source": [
    "# Tutorial 2: Populations and Sampling"
   ]
  },
  {
   "cell_type": "markdown",
   "metadata": {
    "deletable": false,
    "editable": false,
    "nbgrader": {
     "cell_type": "markdown",
     "checksum": "7f9b743355571a39ac89245c9872c584",
     "grade": false,
     "grade_id": "cell-54a529ad4f75126b",
     "locked": true,
     "schema_version": 3,
     "solution": false,
     "task": false
    }
   },
   "source": [
    "### Lecture and Tutorial Learning Goals\n",
    "After completing this week's lecture and tutorial work, you will be able to:\n",
    "\n",
    "1. Compare and contrast quantitative and categorical variables.\n",
    "2. Explain random and representative sampling and how this can influence estimation.\n",
    "3. Define random variables and explain how they relate to sampling.\n",
    "4. Define standard error and explain its purpose.\n",
    "5. Compare and contrast population distribution, sample distribution and an estimator's sampling distribution.\n",
    "6. Explain what a sampling distribution is, list its properties, and its purpose in statistical inference."
   ]
  },
  {
   "cell_type": "code",
   "execution_count": null,
   "metadata": {
    "deletable": false,
    "editable": false,
    "nbgrader": {
     "cell_type": "code",
     "checksum": "fff1b1ebfa1ba7383f8a1d0853077f96",
     "grade": false,
     "grade_id": "cell-072bbedad529ead5",
     "locked": true,
     "schema_version": 3,
     "solution": false,
     "task": false
    }
   },
   "outputs": [],
   "source": [
    "# Run this cell before continuing.\n",
    "library(cowplot)\n",
    "library(datateachr)\n",
    "library(digest)\n",
    "library(infer)\n",
    "library(lubridate)\n",
    "library(repr)\n",
    "library(tidyverse)\n",
    "source(\"tests_tutorial_02.R\")"
   ]
  },
  {
   "cell_type": "markdown",
   "metadata": {
    "deletable": false,
    "editable": false,
    "nbgrader": {
     "cell_type": "markdown",
     "checksum": "5a5ba760ff3ee529a055303e939d8b94",
     "grade": false,
     "grade_id": "cell-814a3bbf621b941f",
     "locked": true,
     "schema_version": 3,
     "solution": false,
     "task": false
    }
   },
   "source": [
    "## 1. Warm-Up Questions\n",
    "\n",
    "Here are a few questions to get you warmed up before we dive into the tutorial."
   ]
  },
  {
   "cell_type": "markdown",
   "metadata": {
    "deletable": false,
    "editable": false,
    "nbgrader": {
     "cell_type": "markdown",
     "checksum": "2e98fe1e3fc6114ff8298a1aa5572a48",
     "grade": false,
     "grade_id": "cell-ab94b4d1c4911d17",
     "locked": true,
     "schema_version": 3,
     "solution": false,
     "task": false
    }
   },
   "source": [
    "**Question 1.0**\n",
    "<br>{points: 1}\n",
    "\n",
    "Suppose you are given a random sample of the heights of 100 different trees planted in Vancouver. You are asked to calculate the variance of the sample, which will be used as a point estimate of the variance of the height of all trees in Vancouver.\n",
    "\n",
    "True or false?\n",
    "\n",
    "Your point estimate could be considered the outcome of a random variable.\n",
    "\n",
    "_Assign your answer to an object called `answer1.0`. Your answer should be either \"true\" or \"false\", surrounded by quotes._"
   ]
  },
  {
   "cell_type": "code",
   "execution_count": null,
   "metadata": {
    "deletable": false,
    "nbgrader": {
     "cell_type": "code",
     "checksum": "4e1a3938bb9d7a6e65037cf380a03bc9",
     "grade": false,
     "grade_id": "cell-ee3221cfa9364516",
     "locked": false,
     "schema_version": 3,
     "solution": true,
     "task": false
    }
   },
   "outputs": [],
   "source": [
    "# answer1.0 <- ...\n",
    "\n",
    "# your code here\n",
    "fail() # No Answer - remove if you provide an answer"
   ]
  },
  {
   "cell_type": "code",
   "execution_count": null,
   "metadata": {
    "deletable": false,
    "editable": false,
    "nbgrader": {
     "cell_type": "code",
     "checksum": "b043ea0332e2a0ce534a1fb1adbbfc10",
     "grade": true,
     "grade_id": "cell-19ddcc9b045f5837",
     "locked": true,
     "points": 1,
     "schema_version": 3,
     "solution": false,
     "task": false
    }
   },
   "outputs": [],
   "source": [
    "test_1.0()"
   ]
  },
  {
   "cell_type": "markdown",
   "metadata": {
    "deletable": false,
    "editable": false,
    "nbgrader": {
     "cell_type": "markdown",
     "checksum": "4ef0e9a4a73cecf7ae5730e6c1ef2ac3",
     "grade": false,
     "grade_id": "cell-ee9f65d2aca14d1e",
     "locked": true,
     "schema_version": 3,
     "solution": false,
     "task": false
    }
   },
   "source": [
    "**Question 1.1**\n",
    "<br>{points: 1}\n",
    "\n",
    "Consider the following 20 values:\n",
    "\n",
    "```\n",
    "-2\t 7\t-7\t-10\t 0\n",
    " 4\t-7\t 5\t 10\t 9\n",
    " 9\t 6\t-3\t  2\t 1\n",
    " 4\t 1\t 2\t  7\t-9\n",
    "```\n",
    "\n",
    "What is the proportion of the values that are **less than or equal to 0**?\n",
    "\n",
    "_Assign your answer to an object called `answer1.1`. Your answer should be a single number._"
   ]
  },
  {
   "cell_type": "code",
   "execution_count": null,
   "metadata": {
    "deletable": false,
    "nbgrader": {
     "cell_type": "code",
     "checksum": "b1748b0d697aee2b867d9b117b8f2da6",
     "grade": false,
     "grade_id": "cell-140d960e0aeccec8",
     "locked": false,
     "schema_version": 3,
     "solution": true,
     "task": false
    }
   },
   "outputs": [],
   "source": [
    "# answer1.1 <- ...\n",
    "\n",
    "# your code here\n",
    "fail() # No Answer - remove if you provide an answer\n",
    "\n",
    "answer1.1"
   ]
  },
  {
   "cell_type": "code",
   "execution_count": null,
   "metadata": {
    "deletable": false,
    "editable": false,
    "nbgrader": {
     "cell_type": "code",
     "checksum": "811bf4ede80abd9615441d88d1f4c595",
     "grade": true,
     "grade_id": "cell-7334b04965794762",
     "locked": true,
     "points": 1,
     "schema_version": 3,
     "solution": false,
     "task": false
    }
   },
   "outputs": [],
   "source": [
    "test_1.1()"
   ]
  },
  {
   "cell_type": "markdown",
   "metadata": {
    "deletable": false,
    "editable": false,
    "nbgrader": {
     "cell_type": "markdown",
     "checksum": "1c56a503c75f298368fad3c082287f1f",
     "grade": false,
     "grade_id": "cell-e7edc23c85367d7a",
     "locked": true,
     "schema_version": 3,
     "solution": false,
     "task": false
    }
   },
   "source": [
    "**Question 1.2**\n",
    "<br>{points: 1}\n",
    "\n",
    "In which scenario(s) would it **not** be logical to calculate the mean of the data collected?\n",
    "\n",
    "A. You record the length of each word on a single page in a book.\n",
    "\n",
    "B. You record the colour of each vehicle parked along one side of a block in downtown Vancouver.\n",
    "\n",
    "C. You record the time that it takes for you sprint 100m on 10 different days.\n",
    "\n",
    "D. You record the number of students using laptops during each of the first 5 days of your math class.\n",
    "\n",
    "E. None of the above\n",
    "\n",
    "_Assign your answer to an object called `answer1.2`. Your answer should be a single character surrounded by quotes._"
   ]
  },
  {
   "cell_type": "code",
   "execution_count": null,
   "metadata": {
    "deletable": false,
    "nbgrader": {
     "cell_type": "code",
     "checksum": "924d1df1b7908a0db47f8b3e1a0c5ab7",
     "grade": false,
     "grade_id": "cell-f0edb2a029003f3a",
     "locked": false,
     "schema_version": 3,
     "solution": true,
     "task": false
    }
   },
   "outputs": [],
   "source": [
    "# answer1.2 <- ...\n",
    "\n",
    "# your code here\n",
    "fail() # No Answer - remove if you provide an answer"
   ]
  },
  {
   "cell_type": "code",
   "execution_count": null,
   "metadata": {
    "deletable": false,
    "editable": false,
    "nbgrader": {
     "cell_type": "code",
     "checksum": "1e1ebfd2789096405440d795d8ed19e0",
     "grade": true,
     "grade_id": "cell-3467ef68544c6ec2",
     "locked": true,
     "points": 1,
     "schema_version": 3,
     "solution": false,
     "task": false
    }
   },
   "outputs": [],
   "source": [
    "test_1.2()"
   ]
  },
  {
   "cell_type": "markdown",
   "metadata": {
    "deletable": false,
    "editable": false,
    "nbgrader": {
     "cell_type": "markdown",
     "checksum": "810643b535538987937cac6fcc7ecfbd",
     "grade": false,
     "grade_id": "cell-a526e3ba7d40ef3c",
     "locked": true,
     "schema_version": 3,
     "solution": false,
     "task": false
    }
   },
   "source": [
    "**Question 1.3**\n",
    "<br>{points: 1}\n",
    "\n",
    "True or false?\n",
    "\n",
    "An estimator is a random variable whose distribution is the sampling distribution for a particular sample size and population parameter."
   ]
  },
  {
   "cell_type": "code",
   "execution_count": null,
   "metadata": {
    "deletable": false,
    "nbgrader": {
     "cell_type": "code",
     "checksum": "5beae6f6b8e8691adc84270b23577ffa",
     "grade": false,
     "grade_id": "cell-f26017e8ccddaf15",
     "locked": false,
     "schema_version": 3,
     "solution": true,
     "task": false
    }
   },
   "outputs": [],
   "source": [
    "# answer1.3 <- ...\n",
    "\n",
    "# your code here\n",
    "fail() # No Answer - remove if you provide an answer"
   ]
  },
  {
   "cell_type": "code",
   "execution_count": null,
   "metadata": {
    "deletable": false,
    "editable": false,
    "nbgrader": {
     "cell_type": "code",
     "checksum": "9860856a4775a00d9bb26716e8c41fea",
     "grade": true,
     "grade_id": "cell-342c9b87e546ce6c",
     "locked": true,
     "points": 1,
     "schema_version": 3,
     "solution": false,
     "task": false
    }
   },
   "outputs": [],
   "source": [
    "test_1.3()"
   ]
  },
  {
   "cell_type": "markdown",
   "metadata": {
    "deletable": false,
    "editable": false,
    "nbgrader": {
     "cell_type": "markdown",
     "checksum": "b5f173f4b9dbcda4db0157707c5c3648",
     "grade": false,
     "grade_id": "cell-eff6d292442e9f82",
     "locked": true,
     "schema_version": 3,
     "solution": false,
     "task": false
    }
   },
   "source": [
    "## 2. Influence of Sample Size\n",
    "\n",
    "Recall that in the last worksheet, we took a look at how the size of our virtual samples can affect the shape of the sampling distributions that they produce. In this tutorial, we are going to continue looking at these trends in a bit more depth.\n",
    "\n",
    "To do this, we will be using the `apt_buildings` dataset from the `datateachr` package. Unlike the other dataset that we have worked with from this package, `vancouver_trees`, this dataset originates from Toronto. Here is a bit more information about it from the documentation (which you can access yourself using `?apt_buildings`):\n",
    "> This dataset contains Toronto apartment building information for buildings that are registered in the Apartment Building Standard (ABS) program. The information was collected from building owners/managers during the initial registration process. \n",
    "\n",
    "![](https://media.giphy.com/media/Ru86ce44TU4A8/giphy.gif)\n",
    "<div style=\"text-align: center\"><i>Image from <a href=\"https://media.giphy.com/media/Ru86ce44TU4A8/giphy.gif\">giphy.com</i></a></div>\n",
    "\n",
    "As this dataset contains information about all apartments registered in the ABS program, we can consider it as a finite population. Hence, to solidify our understanding of the influence of sampling size on sampling distributions, we will take a look at the **sampling distribution of sample variance** for the **age (in years)** of our population apartment buildings in Toronto that are registered in the ABS program."
   ]
  },
  {
   "cell_type": "code",
   "execution_count": null,
   "metadata": {
    "deletable": false,
    "editable": false,
    "nbgrader": {
     "cell_type": "code",
     "checksum": "a6fa89ccea3ddbf4c0c38d94a26444d8",
     "grade": false,
     "grade_id": "cell-26183e350a81edc6",
     "locked": true,
     "schema_version": 3,
     "solution": false,
     "task": false
    }
   },
   "outputs": [],
   "source": [
    "# Run this cell before continuing.\n",
    "colnames(apt_buildings)"
   ]
  },
  {
   "cell_type": "markdown",
   "metadata": {
    "deletable": false,
    "editable": false,
    "nbgrader": {
     "cell_type": "markdown",
     "checksum": "f151e6eaeabecac43129a7d891836f3b",
     "grade": false,
     "grade_id": "cell-748bb43889baf70e",
     "locked": true,
     "schema_version": 3,
     "solution": false,
     "task": false
    }
   },
   "source": [
    "Taking a look at the list of columns in the `apt_buildings` dataset that has been printed above, it appears there is no column describing age; we must create one ourselves."
   ]
  },
  {
   "cell_type": "markdown",
   "metadata": {
    "deletable": false,
    "editable": false,
    "nbgrader": {
     "cell_type": "markdown",
     "checksum": "506321b36bac795761552cc5ffa9a8bc",
     "grade": false,
     "grade_id": "cell-d022c2280f3cad60",
     "locked": true,
     "schema_version": 3,
     "solution": false,
     "task": false
    }
   },
   "source": [
    "**Question 2.0** \n",
    "<br> {points: 1}\n",
    "\n",
    "Use the scaffolding in the code cell below to add a new `age_yrs` column (which should describe be the age in **years** of each building) to `apt_buildings`, and then select only that new column. Afterwards, filter out rows that contain `NA` values.\n",
    "\n",
    "_**Note:** `Sys.Date()` is a function that returns a `date-time` object describing the current time, and `year()` is a function that gets the year from a `date-time` object. Hence, `year(Sys.Date())` is the current year._\n",
    "\n",
    "_**Hint:** check the list of column names above to see which column you need to use to calculate `age_yrs`._\n",
    "\n",
    "_Assign your data frame to an object called `apt_ages`._"
   ]
  },
  {
   "cell_type": "code",
   "execution_count": null,
   "metadata": {
    "deletable": false,
    "nbgrader": {
     "cell_type": "code",
     "checksum": "e107946f5ba7220c7b5c69f0be35cffe",
     "grade": false,
     "grade_id": "cell-72431e625a28bea3",
     "locked": false,
     "schema_version": 3,
     "solution": true,
     "task": false
    }
   },
   "outputs": [],
   "source": [
    "# apt_ages <- \n",
    "#    apt_buildings %>% \n",
    "#    ...(... = year(Sys.Date()) - ...) %>%    \n",
    "#    select(...) %>% \n",
    "#    ...(...)\n",
    "\n",
    "# your code here\n",
    "fail() # No Answer - remove if you provide an answer\n",
    "\n",
    "head(apt_ages)"
   ]
  },
  {
   "cell_type": "code",
   "execution_count": null,
   "metadata": {
    "deletable": false,
    "editable": false,
    "nbgrader": {
     "cell_type": "code",
     "checksum": "c95260f1d2f06506e801c8d0f9b532f2",
     "grade": true,
     "grade_id": "cell-06cb18bbf067eafe",
     "locked": true,
     "points": 1,
     "schema_version": 3,
     "solution": false,
     "task": false
    }
   },
   "outputs": [],
   "source": [
    "test_2.0()"
   ]
  },
  {
   "cell_type": "markdown",
   "metadata": {
    "deletable": false,
    "editable": false,
    "nbgrader": {
     "cell_type": "markdown",
     "checksum": "bf2622a92f09512607130f9c583b5087",
     "grade": false,
     "grade_id": "cell-6d372aa6ac776323",
     "locked": true,
     "schema_version": 3,
     "solution": false,
     "task": false
    }
   },
   "source": [
    "**Question 2.1**\n",
    "<br> {points: 1}\n",
    "\n",
    "Visualize the population distribution by creating a histogram with bin widths of 10 using `geom_histogram`. Add a title to the plot using `ggtitle` and ensure that the x-axis has a descriptive and human-readable label.\n",
    "\n",
    "_Assign your plot to an object called `apt_age_dist`._"
   ]
  },
  {
   "cell_type": "code",
   "execution_count": null,
   "metadata": {
    "deletable": false,
    "nbgrader": {
     "cell_type": "code",
     "checksum": "99d4ccfd911f86335c879d76206369bc",
     "grade": false,
     "grade_id": "cell-5ffde2ae0d0f6fb1",
     "locked": false,
     "schema_version": 3,
     "solution": true,
     "task": false
    }
   },
   "outputs": [],
   "source": [
    "# apt_age_dist <- \n",
    "#    apt_ages %>% \n",
    "#    ggplot(aes(x = ...)) +\n",
    "#    ...(... = ..., boundary = 0, color = 'white') +\n",
    "#    ...(\"Ages of Toronto ABS Apartment Buildings\") +\n",
    "#    ...(\"...\")\n",
    "\n",
    "# your code here\n",
    "fail() # No Answer - remove if you provide an answer\n",
    "\n",
    "apt_age_dist"
   ]
  },
  {
   "cell_type": "code",
   "execution_count": null,
   "metadata": {
    "deletable": false,
    "editable": false,
    "nbgrader": {
     "cell_type": "code",
     "checksum": "f66de30fb139478ee4ab4547a65862aa",
     "grade": true,
     "grade_id": "cell-260bb0b7736e6db1",
     "locked": true,
     "points": 1,
     "schema_version": 3,
     "solution": false,
     "task": false
    }
   },
   "outputs": [],
   "source": [
    "test_2.1()"
   ]
  },
  {
   "cell_type": "markdown",
   "metadata": {
    "deletable": false,
    "editable": false,
    "nbgrader": {
     "cell_type": "markdown",
     "checksum": "ccbd1b23ad86a91ff4b39c5143e1bac0",
     "grade": false,
     "grade_id": "cell-b4a218c8fc742180",
     "locked": true,
     "schema_version": 3,
     "solution": false,
     "task": false
    }
   },
   "source": [
    "**Question 2.2**\n",
    "<br> {points: 3}\n",
    "\n",
    "Let the $X$ be the age (in years) of a randomly selected apartment from the population of interest (all apartments in Toronto that are registered in the ABS program). Is it more likely that $X \\leq 25$ or $X \\geq 75$? Justify your answer in 1-2 sentences."
   ]
  },
  {
   "cell_type": "markdown",
   "metadata": {
    "deletable": false,
    "nbgrader": {
     "cell_type": "markdown",
     "checksum": "9ba56a6582da0b494c2fb24facc4014c",
     "grade": true,
     "grade_id": "cell-a28bcc5868a1fae7",
     "locked": false,
     "points": 3,
     "schema_version": 3,
     "solution": true,
     "task": false
    }
   },
   "source": [
    "DOUBLE CLICK TO EDIT **THIS CELL** AND REPLACE THIS TEXT WITH YOUR ANSWER."
   ]
  },
  {
   "cell_type": "markdown",
   "metadata": {
    "deletable": false,
    "editable": false,
    "nbgrader": {
     "cell_type": "markdown",
     "checksum": "a4a306d9b7c3a519c09d62b0e63e95a8",
     "grade": false,
     "grade_id": "cell-ba00d3dc68131c58",
     "locked": true,
     "schema_version": 3,
     "solution": false,
     "task": false
    }
   },
   "source": [
    "**Question 2.3**\n",
    "<br> {points: 1}\n",
    "\n",
    "Use the `rep_sample_n` function to take 2000 samples of size 10 from the population `apt_ages`. Use the seed `3735`. Then, calculate the variance of each sample; name the column containing the sample variances `sample_var`. Your final data frame should have two columns: `replicate` and `sample_var`.\n",
    "\n",
    "_Assign your data frame to an object called `sample_vars_10x2000`._"
   ]
  },
  {
   "cell_type": "code",
   "execution_count": null,
   "metadata": {
    "deletable": false,
    "nbgrader": {
     "cell_type": "code",
     "checksum": "d5e35d215ce2f5fc96ebda4fe282e1ac",
     "grade": false,
     "grade_id": "cell-bfd696f40df627bb",
     "locked": false,
     "schema_version": 3,
     "solution": true,
     "task": false
    }
   },
   "outputs": [],
   "source": [
    "set.seed(3735) # DO NOT CHANGE!\n",
    "\n",
    "# your code here\n",
    "fail() # No Answer - remove if you provide an answer\n",
    "\n",
    "head(sample_vars_10x2000)"
   ]
  },
  {
   "cell_type": "code",
   "execution_count": null,
   "metadata": {
    "deletable": false,
    "editable": false,
    "nbgrader": {
     "cell_type": "code",
     "checksum": "eeb223f3a411e23f219f67ccd8260d01",
     "grade": true,
     "grade_id": "cell-0a2c436fa5a27f7b",
     "locked": true,
     "points": 1,
     "schema_version": 3,
     "solution": false,
     "task": false
    }
   },
   "outputs": [],
   "source": [
    "test_2.3()"
   ]
  },
  {
   "cell_type": "markdown",
   "metadata": {
    "deletable": false,
    "editable": false,
    "nbgrader": {
     "cell_type": "markdown",
     "checksum": "c244342c0a4d3eb423b25e24df46e0bd",
     "grade": false,
     "grade_id": "cell-61b2eff1ffabc9c8",
     "locked": true,
     "schema_version": 3,
     "solution": false,
     "task": false
    }
   },
   "source": [
    "**Question 2.4**\n",
    "<br> {points: 1}\n",
    "\n",
    "Visualize the distribution of the sample variances that you calculated in the previous question by plotting a histogram with bin widths of 80 using `geom_histogram`. Add a title of \"size = 10, 2000 reps\" to the plot using `ggtitle` and ensure that the x-axis has a descriptive and human-readable label.\n",
    "\n",
    "_Assign your plot to an object called `sampling_dist_10x2000`._"
   ]
  },
  {
   "cell_type": "code",
   "execution_count": null,
   "metadata": {
    "deletable": false,
    "nbgrader": {
     "cell_type": "code",
     "checksum": "e7a7256cfa3106d069a8a5069789b66a",
     "grade": false,
     "grade_id": "cell-57d34a3685eadabf",
     "locked": false,
     "schema_version": 3,
     "solution": true,
     "task": false
    }
   },
   "outputs": [],
   "source": [
    "# sampling_dist_10x2000 <- \n",
    "#    ... %>% \n",
    "#    ...(aes(x = sample_var)) +\n",
    "#    ...(binwidth = ...) +\n",
    "#    ggtitle(...) +\n",
    "#    ...(...)\n",
    "\n",
    "# your code here\n",
    "fail() # No Answer - remove if you provide an answer\n",
    "\n",
    "sampling_dist_10x2000"
   ]
  },
  {
   "cell_type": "code",
   "execution_count": null,
   "metadata": {
    "deletable": false,
    "editable": false,
    "nbgrader": {
     "cell_type": "code",
     "checksum": "16225369a8c8b4326cc71a1980dd732e",
     "grade": true,
     "grade_id": "cell-91d26a4811796629",
     "locked": true,
     "points": 1,
     "schema_version": 3,
     "solution": false,
     "task": false
    }
   },
   "outputs": [],
   "source": [
    "test_2.4()"
   ]
  },
  {
   "cell_type": "markdown",
   "metadata": {
    "deletable": false,
    "editable": false,
    "nbgrader": {
     "cell_type": "markdown",
     "checksum": "d37e2b57bb948cd58506590c1493bb28",
     "grade": false,
     "grade_id": "cell-a9196bcc6cfa8834",
     "locked": true,
     "schema_version": 3,
     "solution": false,
     "task": false
    }
   },
   "source": [
    "**Question 2.5**\n",
    "<br> {points: 1}\n",
    "\n",
    "Using the same strategy as you did in **question 2.2**, draw 2000 random samples of size 50 from the population `apt_ages`. Use the seed `4623`. Then, for each sample, calculate the sample variance. Finally, visualize the distribution of the sample variances you just calculated by plotting a histogram with bin widths of 60 using `geom_histogram`. Add a title of \"size = 50, 2000 reps\" to the plot using `ggtitle` and ensure that the x-axis has a descriptive and human-readable label.\n",
    "\n",
    "_Assign your plot to an object called `sampling_dist_50x2000`._"
   ]
  },
  {
   "cell_type": "code",
   "execution_count": null,
   "metadata": {
    "deletable": false,
    "nbgrader": {
     "cell_type": "code",
     "checksum": "5c80f5a7efe58368b909c8c840916671",
     "grade": false,
     "grade_id": "cell-5f6ff68722771bb2",
     "locked": false,
     "schema_version": 3,
     "solution": true,
     "task": false
    }
   },
   "outputs": [],
   "source": [
    "set.seed(4623) # DO NOT CHANGE!\n",
    "\n",
    "# your code here\n",
    "fail() # No Answer - remove if you provide an answer\n",
    "\n",
    "sampling_dist_50x2000"
   ]
  },
  {
   "cell_type": "code",
   "execution_count": null,
   "metadata": {
    "deletable": false,
    "editable": false,
    "nbgrader": {
     "cell_type": "code",
     "checksum": "6c809009b1ff0f807f738302636d9f7f",
     "grade": true,
     "grade_id": "cell-4654ab9a460d94c4",
     "locked": true,
     "points": 1,
     "schema_version": 3,
     "solution": false,
     "task": false
    }
   },
   "outputs": [],
   "source": [
    "test_2.5()"
   ]
  },
  {
   "cell_type": "markdown",
   "metadata": {
    "deletable": false,
    "editable": false,
    "nbgrader": {
     "cell_type": "markdown",
     "checksum": "8e8ae843d816826eefac921e16d20869",
     "grade": false,
     "grade_id": "cell-c5bb4004eb9087f2",
     "locked": true,
     "schema_version": 3,
     "solution": false,
     "task": false
    }
   },
   "source": [
    "**Question 2.6**\n",
    "<br> {points: 1}\n",
    "\n",
    "Using the same strategy as you did in **question 2.2**, draw 2000 random samples of size 150 from the population `apt_ages`. Use the seed `8614`. Then, for each sample, calculate the sample variance. Finally, visualize the distribution of the sample variances you just calculated by plotting a histogram with bin widths of 30 using `geom_histogram`. Add a title of \"size = 150, 2000 reps\" to the plot using `ggtitle` and ensure that the x-axis has a descriptive and human-readable label.\n",
    "\n",
    "_Assign your plot to an object called `sampling_dist_150x2000`._"
   ]
  },
  {
   "cell_type": "code",
   "execution_count": null,
   "metadata": {
    "deletable": false,
    "nbgrader": {
     "cell_type": "code",
     "checksum": "7dbd1919f056d5c69139d22037175dcd",
     "grade": false,
     "grade_id": "cell-dba2e1cf0450de35",
     "locked": false,
     "schema_version": 3,
     "solution": true,
     "task": false
    }
   },
   "outputs": [],
   "source": [
    "set.seed(8614)\n",
    "\n",
    "# your code here\n",
    "fail() # No Answer - remove if you provide an answer\n",
    "\n",
    "sampling_dist_150x2000"
   ]
  },
  {
   "cell_type": "code",
   "execution_count": null,
   "metadata": {
    "deletable": false,
    "editable": false,
    "nbgrader": {
     "cell_type": "code",
     "checksum": "cb30605de876968a120402cb9df2bdfb",
     "grade": true,
     "grade_id": "cell-4799dd561a0d61c7",
     "locked": true,
     "points": 1,
     "schema_version": 3,
     "solution": false,
     "task": false
    }
   },
   "outputs": [],
   "source": [
    "test_2.6()"
   ]
  },
  {
   "cell_type": "markdown",
   "metadata": {
    "deletable": false,
    "editable": false,
    "nbgrader": {
     "cell_type": "markdown",
     "checksum": "00529be55f11d8bc2c8500e8bf4dade0",
     "grade": false,
     "grade_id": "cell-c2fce07e86a7fc10",
     "locked": true,
     "schema_version": 3,
     "solution": false,
     "task": false
    }
   },
   "source": [
    "_Use the set of plots below to answer the **next 2 questions**. Some of the code may be confusing, but you do not need to understand the code to answer the questions._\n",
    "\n",
    "In the code cell below, we have used `plot_grid` to plot the three sampling distributions side-by-side. We have sorted the plots by increasing order of sample size from left to right.\n",
    "\n",
    "**Note**: a small number of the sample variances are not visible because we manually set bounds on the x-axis so you can compare the distributions more easily (this causes the warnings you observe below)."
   ]
  },
  {
   "cell_type": "code",
   "execution_count": null,
   "metadata": {
    "deletable": false,
    "editable": false,
    "nbgrader": {
     "cell_type": "code",
     "checksum": "b0b576dd092dacdd4c5d50ea42749e3a",
     "grade": false,
     "grade_id": "cell-256a9d20bf3efb5a",
     "locked": true,
     "schema_version": 3,
     "solution": false,
     "task": false
    }
   },
   "outputs": [],
   "source": [
    "# Run this cell before continuing.\n",
    "options(repr.plot.width = 20) # temp\n",
    "\n",
    "var_plot_row <- plot_grid(sampling_dist_10x2000  + xlim(0, 1250) + ylim(0, 500)+ ylim(0, 500) + theme(text = element_text(size=25)),\n",
    "                           sampling_dist_50x2000  + xlim(0, 1250) + ylim(0, 500) + ylim(0, 500) + theme(text = element_text(size=25)),\n",
    "                           sampling_dist_150x2000 + xlim(0, 1250) + ylim(0, 500) + ylim(0, 500) + theme(text = element_text(size=25)),\n",
    "                           ncol = 3)\n",
    "title <- ggdraw() + \n",
    "  draw_label(\"Comparison of distributions of sample variances\",\n",
    "             fontface = 'bold',\n",
    "             x = 0,\n",
    "             hjust = 0) +\n",
    "  theme(plot.margin = margin(0, 0, 0, 7))\n",
    "\n",
    "vars_grid <- plot_grid(title,\n",
    "                       var_plot_row,\n",
    "                       ncol = 1,\n",
    "                       rel_heights = c(0.1, 1))\n",
    "\n",
    "vars_grid"
   ]
  },
  {
   "cell_type": "markdown",
   "metadata": {
    "deletable": false,
    "editable": false,
    "nbgrader": {
     "cell_type": "markdown",
     "checksum": "6785910f8e796b658eaf937d163d9217",
     "grade": false,
     "grade_id": "cell-b81a69a258c5c9e2",
     "locked": true,
     "schema_version": 3,
     "solution": false,
     "task": false
    }
   },
   "source": [
    "**Question 2.7**\n",
    "<br> {points: 3}\n",
    "\n",
    "Given the three distributions of sample variances printed above, what can you say about the relationship(s) between sample size and the resulting distribution of sample variances (i.e. as the sample size changes, how does the distribution change)? Answer in 2-3 sentences in your own words."
   ]
  },
  {
   "cell_type": "markdown",
   "metadata": {
    "deletable": false,
    "nbgrader": {
     "cell_type": "markdown",
     "checksum": "b7a34ca9d33d2941cdaa29c5742fb032",
     "grade": true,
     "grade_id": "cell-6247a09f38047bd5",
     "locked": false,
     "points": 3,
     "schema_version": 3,
     "solution": true,
     "task": false
    }
   },
   "source": [
    "DOUBLE CLICK TO EDIT **THIS CELL** AND REPLACE THIS TEXT WITH YOUR ANSWER."
   ]
  },
  {
   "cell_type": "markdown",
   "metadata": {
    "deletable": false,
    "editable": false,
    "nbgrader": {
     "cell_type": "markdown",
     "checksum": "0ac8ebd9e5b551e9e0ba4d5da9120754",
     "grade": false,
     "grade_id": "cell-bf217720327aedca",
     "locked": true,
     "schema_version": 3,
     "solution": false,
     "task": false
    }
   },
   "source": [
    "In the cell below, we have printed the true variance of the population. Use this value AND the sampling distribution printed above to answer the **next question**."
   ]
  },
  {
   "cell_type": "code",
   "execution_count": null,
   "metadata": {
    "deletable": false,
    "editable": false,
    "nbgrader": {
     "cell_type": "code",
     "checksum": "0804f04c813bc863a6d2cc9f15af07bf",
     "grade": false,
     "grade_id": "cell-9b62bb9684a965cc",
     "locked": true,
     "schema_version": 3,
     "solution": false,
     "task": false
    }
   },
   "outputs": [],
   "source": [
    "# Run this cell before continuing.\n",
    "print(var(apt_ages$age_yrs))"
   ]
  },
  {
   "cell_type": "markdown",
   "metadata": {
    "deletable": false,
    "editable": false,
    "nbgrader": {
     "cell_type": "markdown",
     "checksum": "ce7f22dfd2b7e969316e427aedb1158d",
     "grade": false,
     "grade_id": "cell-cf251c85ca4d4756",
     "locked": true,
     "schema_version": 3,
     "solution": false,
     "task": false
    }
   },
   "source": [
    "**Question 2.8**\n",
    "<br> {points: 3}\n",
    "\n",
    "What is similar between the three sampling distributions above? Answer in 1-2 sentences in your own words."
   ]
  },
  {
   "cell_type": "markdown",
   "metadata": {
    "deletable": false,
    "nbgrader": {
     "cell_type": "markdown",
     "checksum": "42135af70a71627c1c3b40acd705622f",
     "grade": true,
     "grade_id": "cell-487509bbc8ae46a2",
     "locked": false,
     "points": 3,
     "schema_version": 3,
     "solution": true,
     "task": false
    }
   },
   "source": [
    "DOUBLE CLICK TO EDIT **THIS CELL** AND REPLACE THIS TEXT WITH YOUR ANSWER."
   ]
  },
  {
   "cell_type": "markdown",
   "metadata": {
    "deletable": false,
    "editable": false,
    "nbgrader": {
     "cell_type": "markdown",
     "checksum": "de6ab668406306615107a9965b76138c",
     "grade": false,
     "grade_id": "cell-70a043b6daa5e7e2",
     "locked": true,
     "schema_version": 3,
     "solution": false,
     "task": false
    }
   },
   "source": [
    "## 3. Influence of Sample Repetitions (the `reps` argument)\n",
    "\n",
    "At this point, you should have a deep understanding of how sample size influences the sampling distributions of point estimates. However, as we hinted in the previous section, there is one more argument that we haven't tinkered with: the `reps` argument in `rep_sample_n`.\n",
    "\n",
    "> To be clear, the `reps` argument describes the _number of samples_ that we take when calling `rep_sample_n`. The `replicate` column of the data frame returned by `rep_sample_n` describes which sample that observation is a member of. For example, if `reps = 10` and `size = 5`, then we will have $5 \\times 10 = 50$ rows in the data frame produced by `rep_sample_n`, with `replicate` numbers ranging from 1 to 10, inclusive.\n",
    "\n",
    "In this section, we are going to explore the relationship between the number of samples we take (sample repetitions) and the sampling distribution produced, while holding the sample size constant. To do this, we are going to use the same population as the last section (`apt_ages`: the age in years of apartments in Toronto that are registered in the Apartment Building Standard program)."
   ]
  },
  {
   "cell_type": "markdown",
   "metadata": {
    "deletable": false,
    "editable": false,
    "nbgrader": {
     "cell_type": "markdown",
     "checksum": "abcf62ae37577e87aff28329e53dbe9a",
     "grade": false,
     "grade_id": "cell-fae274cdbc0d7baf",
     "locked": true,
     "schema_version": 3,
     "solution": false,
     "task": false
    }
   },
   "source": [
    "**Question 3.0**\n",
    "<br> {points: 1}\n",
    "\n",
    "Consider the following code that takes a number of samples from `apt_ages`:\n",
    "```r\n",
    "samples <- apt_ages %>% \n",
    "    rep_sample_n(size = 15, reps = 2000)\n",
    "```\n",
    "\n",
    "And, suppose one row of the resulting `samples` data frame appears as follows:\n",
    "\n",
    "| replicate | age_yrs |\n",
    "| --------- | ------- |\n",
    "| 201       | 15      |\n",
    "\n",
    "Given the code above, which of the following statements is true about this individual row taken from `samples`?\n",
    "\n",
    "A. This is the 201st observation sampled from `apt_ages`.\n",
    "\n",
    "B. This is the 15th observation sampled from `apt_ages`.\n",
    "\n",
    "C. This observation is a member of the 201st sample taken from `apt_ages`.\n",
    "\n",
    "D. This observation is a member of the 15th sample taken from `apt_ages`.\n",
    "\n",
    "_Assign your answer to an object called `answer3.0`. Your answer should be a single character surrounded by quotes._"
   ]
  },
  {
   "cell_type": "code",
   "execution_count": null,
   "metadata": {
    "deletable": false,
    "nbgrader": {
     "cell_type": "code",
     "checksum": "073c73d1cc1cc14cd1acf3642fbe97c9",
     "grade": false,
     "grade_id": "cell-ddb2f18952910742",
     "locked": false,
     "schema_version": 3,
     "solution": true,
     "task": false
    }
   },
   "outputs": [],
   "source": [
    "# answer3.0 <- ...\n",
    "\n",
    "# your code here\n",
    "fail() # No Answer - remove if you provide an answer"
   ]
  },
  {
   "cell_type": "code",
   "execution_count": null,
   "metadata": {
    "deletable": false,
    "editable": false,
    "nbgrader": {
     "cell_type": "code",
     "checksum": "7d340e17277988f6530009123f8aa745",
     "grade": true,
     "grade_id": "cell-9e3d30aca1aa9bbc",
     "locked": true,
     "points": 3,
     "schema_version": 3,
     "solution": false,
     "task": false
    }
   },
   "outputs": [],
   "source": [
    "# Here we check to see whether you have given your answer the correct\n",
    "# object name. However, all other tests have been hidden so you can\n",
    "# practice deciding when you have the correct answer.\n",
    "test_that('Did not assign answer to an object called \"answer3.0\"', {\n",
    "  expect_true(exists(\"answer3.0\"))\n",
    "})\n",
    "\n",
    "test_that('Solution should be a single character (\"A\", \"B\", \"C\", or \"D\")', {\n",
    "  expect_match(answer3.0, \"a|b|c|d\", ignore.case = TRUE)\n",
    "})"
   ]
  },
  {
   "cell_type": "markdown",
   "metadata": {
    "deletable": false,
    "editable": false,
    "nbgrader": {
     "cell_type": "markdown",
     "checksum": "5135b1144056bdb1cb97e81d718c302c",
     "grade": false,
     "grade_id": "cell-5de3743af956a013",
     "locked": true,
     "schema_version": 3,
     "solution": false,
     "task": false
    }
   },
   "source": [
    "**Question 3.1**\n",
    "<br> {points: 1}\n",
    "\n",
    "Use the `rep_sample_n` function to take 1000 samples of size 20 from the population `apt_ages`. Use the seed `3448`. Then, calculate the variance of each sample; name the column containing the sample variances `sample_var`.\n",
    "\n",
    "_Assign your data frame to an object called `sample_vars_20x1000`._"
   ]
  },
  {
   "cell_type": "code",
   "execution_count": null,
   "metadata": {
    "deletable": false,
    "nbgrader": {
     "cell_type": "code",
     "checksum": "1a71e56bb459e327953082bf0e49be17",
     "grade": false,
     "grade_id": "cell-df551ee1f1ae6b8b",
     "locked": false,
     "schema_version": 3,
     "solution": true,
     "task": false
    }
   },
   "outputs": [],
   "source": [
    "set.seed(3448) # DO NOT CHANGE!\n",
    "\n",
    "# your code here\n",
    "fail() # No Answer - remove if you provide an answer\n",
    "\n",
    "head(sample_vars_20x1000)"
   ]
  },
  {
   "cell_type": "code",
   "execution_count": null,
   "metadata": {
    "deletable": false,
    "editable": false,
    "nbgrader": {
     "cell_type": "code",
     "checksum": "f560b89572e4141a267e7abd21b04cca",
     "grade": true,
     "grade_id": "cell-ea6886a8fb5a6a12",
     "locked": true,
     "points": 1,
     "schema_version": 3,
     "solution": false,
     "task": false
    }
   },
   "outputs": [],
   "source": [
    "test_3.1()"
   ]
  },
  {
   "cell_type": "markdown",
   "metadata": {
    "deletable": false,
    "editable": false,
    "nbgrader": {
     "cell_type": "markdown",
     "checksum": "b18270a4b61b4e1d487ab1258510ec83",
     "grade": false,
     "grade_id": "cell-058fc2d9edb254c0",
     "locked": true,
     "schema_version": 3,
     "solution": false,
     "task": false
    }
   },
   "source": [
    "**Question 3.2**\n",
    "<br> {points: 1}\n",
    "\n",
    "Visualize the distribution of the sample variances that you calculated in the previous question by plotting a histogram with bin widths of 5 using `geom_histogram`. Add a title of \"size = 20, 1000 reps\" to the plot using `ggtitle` and ensure that the x-axis has a descriptive and human-readable label.\n",
    "\n",
    "_Assign your plot to an object called `sampling_dist_20x1000`._"
   ]
  },
  {
   "cell_type": "code",
   "execution_count": null,
   "metadata": {
    "deletable": false,
    "nbgrader": {
     "cell_type": "code",
     "checksum": "e2f404ad54dc0220295f04f24d92f22e",
     "grade": false,
     "grade_id": "cell-56d1cad13827cb57",
     "locked": false,
     "schema_version": 3,
     "solution": true,
     "task": false
    }
   },
   "outputs": [],
   "source": [
    "# your code here\n",
    "fail() # No Answer - remove if you provide an answer\n",
    "\n",
    "sampling_dist_20x1000"
   ]
  },
  {
   "cell_type": "code",
   "execution_count": null,
   "metadata": {
    "deletable": false,
    "editable": false,
    "nbgrader": {
     "cell_type": "code",
     "checksum": "735c9229d30e48ff7b82659f5c62ad1c",
     "grade": true,
     "grade_id": "cell-92023380dd1ffdea",
     "locked": true,
     "points": 1,
     "schema_version": 3,
     "solution": false,
     "task": false
    }
   },
   "outputs": [],
   "source": [
    "test_3.2()"
   ]
  },
  {
   "cell_type": "markdown",
   "metadata": {
    "deletable": false,
    "editable": false,
    "nbgrader": {
     "cell_type": "markdown",
     "checksum": "ba8a419649d1fb826f54e19f6bb38c78",
     "grade": false,
     "grade_id": "cell-6482fbb01eedb37f",
     "locked": true,
     "schema_version": 3,
     "solution": false,
     "task": false
    }
   },
   "source": [
    "**Question 3.3**\n",
    "<br> {points: 1}\n",
    "\n",
    "Using the same strategy as you did in **question 3.1**, draw 5000 random samples of size 20 from the population `apt_ages`. Use the seed `7631`. Then, for each sample, calculate the variance. Finally, visualize the distribution of the sample variances you just calculated by plotting a histogram with bin widths of 5 using `geom_histogram`. Add a title of \"size = 20, 5000 reps\" to the plot using `ggtitle` and ensure that the x-axis has a descriptive and human-readable label.\n",
    "\n",
    "_**Hint:** you can use the code from the previous section as a framework for your code here!_\n",
    "\n",
    "_Assign your plot to an object called `sampling_dist_20x5000`._"
   ]
  },
  {
   "cell_type": "code",
   "execution_count": null,
   "metadata": {
    "deletable": false,
    "nbgrader": {
     "cell_type": "code",
     "checksum": "226b5c25716ad2d54535d127a7587dca",
     "grade": false,
     "grade_id": "cell-e164db48f429b609",
     "locked": false,
     "schema_version": 3,
     "solution": true,
     "task": false
    }
   },
   "outputs": [],
   "source": [
    "set.seed(7631)\n",
    "\n",
    "# your code here\n",
    "fail() # No Answer - remove if you provide an answer\n",
    "\n",
    "sampling_dist_20x5000"
   ]
  },
  {
   "cell_type": "code",
   "execution_count": null,
   "metadata": {
    "deletable": false,
    "editable": false,
    "nbgrader": {
     "cell_type": "code",
     "checksum": "c2a38fd53c5a80457e042b08b52a7e86",
     "grade": true,
     "grade_id": "cell-9e1d0fb5432536fb",
     "locked": true,
     "points": 1,
     "schema_version": 3,
     "solution": false,
     "task": false
    }
   },
   "outputs": [],
   "source": [
    "test_3.3()"
   ]
  },
  {
   "cell_type": "markdown",
   "metadata": {
    "deletable": false,
    "editable": false,
    "nbgrader": {
     "cell_type": "markdown",
     "checksum": "560f9145fb94b8ad532aeb7bd2eaa8f2",
     "grade": false,
     "grade_id": "cell-9ce06ef61e845054",
     "locked": true,
     "schema_version": 3,
     "solution": false,
     "task": false
    }
   },
   "source": [
    "**Question 3.4**\n",
    "<br> {points: 1}\n",
    "\n",
    "Using the same strategy as you did in **question 3.1**, draw 20000 random samples of size 20 from the population `apt_ages`. Use the seed `3695`. Then, for each sample, calculate the variance. Finally, visualize the distribution of the sample variances you just calculated by plotting a histogram with bin widths of 5 using `geom_histogram`. Add a title of \"size = 20, 20000 reps\" to the plot using `ggtitle` and ensure that the x-axis has a descriptive and human-readable label.\n",
    "\n",
    "_**Hint:** you can use the code from the previous section as a framework for your code here!_\n",
    "\n",
    "_Assign your plot to an object called `sampling_dist_20x20000`._"
   ]
  },
  {
   "cell_type": "code",
   "execution_count": null,
   "metadata": {
    "deletable": false,
    "nbgrader": {
     "cell_type": "code",
     "checksum": "6cae1bfa91394a31cfb84d9117af8cd6",
     "grade": false,
     "grade_id": "cell-a98f148673d4e2d7",
     "locked": false,
     "schema_version": 3,
     "solution": true,
     "task": false
    }
   },
   "outputs": [],
   "source": [
    "set.seed(3695)\n",
    "\n",
    "# your code here\n",
    "fail() # No Answer - remove if you provide an answer\n",
    "\n",
    "sampling_dist_20x20000"
   ]
  },
  {
   "cell_type": "code",
   "execution_count": null,
   "metadata": {
    "deletable": false,
    "editable": false,
    "nbgrader": {
     "cell_type": "code",
     "checksum": "274e0922b1b6efc8423596469706aa84",
     "grade": true,
     "grade_id": "cell-b43ba8b35a85ddee",
     "locked": true,
     "points": 1,
     "schema_version": 3,
     "solution": false,
     "task": false
    }
   },
   "outputs": [],
   "source": [
    "test_3.4()"
   ]
  },
  {
   "cell_type": "markdown",
   "metadata": {
    "deletable": false,
    "editable": false,
    "nbgrader": {
     "cell_type": "markdown",
     "checksum": "dba14ceaaca05ac6e91cdd880e8b48ab",
     "grade": false,
     "grade_id": "cell-2c5f079c329e35a4",
     "locked": true,
     "schema_version": 3,
     "solution": false,
     "task": false
    }
   },
   "source": [
    "_Use the set of plots below to answer the **next question**. Some of the code may be confusing, but you do not need to understand the code to answer the question._\n",
    "\n",
    "In the code cell below, we have used `plot_grid` to plot the three sampling distributions side-by-side. We have sorted the plots by increasing order of sample repetitions from top to bottom.\n",
    "\n",
    "**Note**: a small number of the sample variances are not visible because we manually set bounds on the x-axis so you can compare the distributions more easily (this causes the warnings you observe below)."
   ]
  },
  {
   "cell_type": "code",
   "execution_count": null,
   "metadata": {
    "deletable": false,
    "editable": false,
    "nbgrader": {
     "cell_type": "code",
     "checksum": "db4aa9d7a2ceb68f2a3eeb57d3aff2cd",
     "grade": false,
     "grade_id": "cell-a4bc2c031eabf499",
     "locked": true,
     "schema_version": 3,
     "solution": false,
     "task": false
    }
   },
   "outputs": [],
   "source": [
    "# Run this cell before continuing.\n",
    "options(repr.plot.width = 10, repr.plot.height = 8) # temp\n",
    "\n",
    "var_plot_col <- plot_grid(sampling_dist_20x1000  + xlim(0, 1500),\n",
    "                          sampling_dist_20x5000  + xlim(0, 1500),\n",
    "                          sampling_dist_20x20000 + xlim(0, 1500),\n",
    "                          ncol = 1)\n",
    "title <- ggdraw() + \n",
    "  draw_label(\"Comparison of distributions of sample variances, varying sample repetitions\",\n",
    "             fontface = 'bold',\n",
    "             x = 0,\n",
    "             hjust = 0) +\n",
    "  theme(plot.margin = margin(0, 0, 0, 7))\n",
    "\n",
    "vars_grid <- plot_grid(title,\n",
    "                       var_plot_col,\n",
    "                       ncol = 1,\n",
    "                       rel_heights = c(0.1, 1))\n",
    "\n",
    "vars_grid"
   ]
  },
  {
   "cell_type": "markdown",
   "metadata": {
    "deletable": false,
    "editable": false,
    "nbgrader": {
     "cell_type": "markdown",
     "checksum": "31a9670edc2e14f25d0412ad810fdb9b",
     "grade": false,
     "grade_id": "cell-6f255566d10e17eb",
     "locked": true,
     "schema_version": 3,
     "solution": false,
     "task": false
    }
   },
   "source": [
    "**Question 3.5**\n",
    "<br> {points: 3}\n",
    "\n",
    "**Note:** the bin widths for the histograms above are _significantly_ smaller than the bin widths for the histograms produced in section 2 so we can see the effects of number of sampling repetitions clearly.\n",
    "\n",
    "How does the sampling distribution change as we increase the number of sampling repititions?"
   ]
  },
  {
   "cell_type": "markdown",
   "metadata": {
    "deletable": false,
    "nbgrader": {
     "cell_type": "markdown",
     "checksum": "731cb671d770263495b720b44f8e1093",
     "grade": true,
     "grade_id": "cell-643cde902b49aeb1",
     "locked": false,
     "points": 3,
     "schema_version": 3,
     "solution": true,
     "task": false
    }
   },
   "source": [
    "DOUBLE CLICK TO EDIT **THIS CELL** AND REPLACE THIS TEXT WITH YOUR ANSWER."
   ]
  },
  {
   "cell_type": "markdown",
   "metadata": {
    "deletable": false,
    "editable": false,
    "nbgrader": {
     "cell_type": "markdown",
     "checksum": "d70f006dbf6d6534b3000ce034d316f8",
     "grade": false,
     "grade_id": "cell-1e3d8991a08a1e75",
     "locked": true,
     "schema_version": 3,
     "solution": false,
     "task": false
    }
   },
   "source": [
    "_Use the plot below to answer the **next 2 questions**._\n",
    "\n",
    "Below is a picture of a sampling distribution (displayed a histogram with **bin widths of 2**) that was produced by taking **20 million samples** of size 20 from `apt_ages` using `rep_sample_n`. This is an extreme example to further demonstrate the effects of the number of sample repetitions on the resulting sample distribution:\n",
    "\n",
    "<img src=\"smooth_plot.png\" style=\"width: 500px;\"/>\n",
    "\n",
    "> <font color='red'><font size = 3>**WARNING!**</font>: Do **NOT** attempt to take this many samples on your own inside this notebook **OR ANY OTHER NOTEBOOK** located on the JupyterHub that we use for STAT 201."
   ]
  },
  {
   "cell_type": "markdown",
   "metadata": {
    "deletable": false,
    "editable": false,
    "nbgrader": {
     "cell_type": "markdown",
     "checksum": "6faec7f709417cc3dd1af8e2e56920b9",
     "grade": false,
     "grade_id": "cell-074c6d2ab15ba4e2",
     "locked": true,
     "schema_version": 3,
     "solution": false,
     "task": false
    }
   },
   "source": [
    "**Question 3.6**\n",
    "<br> {points: 3}\n",
    "\n",
    "Why don't we always take a large number of samples when exploring sampling distributions so we can get a nice, smooth distribution like the one shown above?\n",
    "\n",
    "A. Taking a large number of samples is computationally expensive.\n",
    "\n",
    "B. We may not always have enough data to draw such a large number of samples.\n",
    "\n",
    "C. We can get a good approximation of the \"smoother\" sampling distribution by using less sample repetitions, but larger bin widths in our histogram.\n",
    "\n",
    "D. All of the above.\n",
    "\n",
    "E. A and B only.\n",
    "\n",
    "F. A and C only.\n",
    "\n",
    "G. B and C only.\n",
    "\n",
    "H. None of the above.\n",
    "\n",
    "_Assign your answer to an object called `answer3.6`. Your answer should be a single character surrounded by quotes._"
   ]
  },
  {
   "cell_type": "code",
   "execution_count": null,
   "metadata": {
    "deletable": false,
    "nbgrader": {
     "cell_type": "code",
     "checksum": "b1a2d6983e074fabb502310e899926ba",
     "grade": false,
     "grade_id": "cell-e13587503fbb792d",
     "locked": false,
     "schema_version": 3,
     "solution": true,
     "task": false
    }
   },
   "outputs": [],
   "source": [
    "# answer3.6 <- ...\n",
    "\n",
    "# your code here\n",
    "fail() # No Answer - remove if you provide an answer"
   ]
  },
  {
   "cell_type": "code",
   "execution_count": null,
   "metadata": {
    "deletable": false,
    "editable": false,
    "nbgrader": {
     "cell_type": "code",
     "checksum": "b0f5a9bcb89448d36dd6c2a2e6971544",
     "grade": true,
     "grade_id": "cell-b121ddf9b7f0c895",
     "locked": true,
     "points": 1,
     "schema_version": 3,
     "solution": false,
     "task": false
    }
   },
   "outputs": [],
   "source": [
    "test_3.6()"
   ]
  },
  {
   "cell_type": "markdown",
   "metadata": {
    "deletable": false,
    "editable": false,
    "nbgrader": {
     "cell_type": "markdown",
     "checksum": "abe7d60dfaee2db69a1cf4496c600009",
     "grade": false,
     "grade_id": "cell-0955b59c0b3419f0",
     "locked": true,
     "schema_version": 3,
     "solution": false,
     "task": false
    }
   },
   "source": [
    "**Question 3.7**\n",
    "<br> {points: 3}\n",
    "\n",
    "True or false?\n",
    "\n",
    "The sampling distribution displayed below is a good approximation of the smooth sampling distribution pictured above.\n",
    "\n",
    "**Note:** the sampling distribution below was generated using 2000 samples of size 20 and bin widths of 45.\n",
    "\n",
    "_Assign your answer to an object called `answer3.7`. Your answer should be either \"true\" or \"false\", surrounded by quotes._"
   ]
  },
  {
   "cell_type": "code",
   "execution_count": null,
   "metadata": {
    "deletable": false,
    "editable": false,
    "nbgrader": {
     "cell_type": "code",
     "checksum": "d65e4fb7145e35b3abf1848f26398cf1",
     "grade": false,
     "grade_id": "cell-ad4f0cac123403fd",
     "locked": true,
     "schema_version": 3,
     "solution": false,
     "task": false
    }
   },
   "outputs": [],
   "source": [
    "# NOTE: perhaps convert this plot to a picture to hide the code?\n",
    "options(repr.plot.width = 9, repr.plot.height = 4) # temp\n",
    "set.seed(4746)\n",
    "\n",
    "apt_ages %>% \n",
    "    rep_sample_n(size = 20, reps = 2000) %>% \n",
    "    group_by(replicate) %>% \n",
    "    summarise(sample_var = var(age_yrs)) %>% \n",
    "    ggplot(aes(x = sample_var)) + \n",
    "    geom_histogram(binwidth = 45, color = 'white') +\n",
    "    ggtitle(\"size = 20, 2000 reps\") +\n",
    "    xlab(\"Sample Variance\")"
   ]
  },
  {
   "cell_type": "code",
   "execution_count": null,
   "metadata": {
    "deletable": false,
    "nbgrader": {
     "cell_type": "code",
     "checksum": "85ea644563822c9cc231c09b66f55ec8",
     "grade": false,
     "grade_id": "cell-35cda83f1d9208f9",
     "locked": false,
     "schema_version": 3,
     "solution": true,
     "task": false
    }
   },
   "outputs": [],
   "source": [
    "# answer3.7 <- ...\n",
    "\n",
    "# your code here\n",
    "fail() # No Answer - remove if you provide an answer"
   ]
  },
  {
   "cell_type": "code",
   "execution_count": null,
   "metadata": {
    "deletable": false,
    "editable": false,
    "nbgrader": {
     "cell_type": "code",
     "checksum": "884f12983705c31dc5c38ee53488b421",
     "grade": true,
     "grade_id": "cell-a776642bf4dae7b9",
     "locked": true,
     "points": 1,
     "schema_version": 3,
     "solution": false,
     "task": false
    }
   },
   "outputs": [],
   "source": [
    "test_3.7()"
   ]
  },
  {
   "cell_type": "markdown",
   "metadata": {
    "deletable": false,
    "editable": false,
    "nbgrader": {
     "cell_type": "markdown",
     "checksum": "2a00645fc8a50d2c1f1514cc24f90dc6",
     "grade": false,
     "grade_id": "cell-2a19d7a7bc919855",
     "locked": true,
     "schema_version": 3,
     "solution": false,
     "task": false
    }
   },
   "source": [
    "## 4. Distributions\n",
    "\n",
    "So far, in this course, we have looked at many different distributions, each of which falls into one of three different categories:\n",
    "\n",
    "1. Population distributions\n",
    "2. Sample distributions\n",
    "3. Sampl**_ing_** distributions (of an estimator)\n",
    "\n",
    "In this section, we are going to revisit the definitions of each distribution and explore the relationships between them using `apt_buildings` dataset that we introduced at the start of this tutorial. However, this time we will look at the `no_of_storeys` variable and parameters relating to the centre of the population; the median and the mean.\n",
    "\n",
    "In the code cell below, we have selected only the `no_of_storeys` column and saved the result to a data frame named `apt_storeys` for your convenience; we will define this as our population for this section."
   ]
  },
  {
   "cell_type": "code",
   "execution_count": null,
   "metadata": {
    "deletable": false,
    "editable": false,
    "nbgrader": {
     "cell_type": "code",
     "checksum": "c7961cb6dead582826c2043d68742c32",
     "grade": false,
     "grade_id": "cell-6a610402ab257f46",
     "locked": true,
     "schema_version": 3,
     "solution": false,
     "task": false
    }
   },
   "outputs": [],
   "source": [
    "apt_storeys <- apt_buildings %>% \n",
    "    select(no_of_storeys)"
   ]
  },
  {
   "cell_type": "markdown",
   "metadata": {
    "deletable": false,
    "editable": false,
    "nbgrader": {
     "cell_type": "markdown",
     "checksum": "bae87dcfd47bb12914091210a8355c9d",
     "grade": false,
     "grade_id": "cell-93214766c0edcabb",
     "locked": true,
     "schema_version": 3,
     "solution": false,
     "task": false
    }
   },
   "source": [
    "**Question 4.0**\n",
    "<br> {points: 3}\n",
    "\n",
    "Visualize the population distribution by creating a histogram with bin widths of 2 using `geom_histogram`. Add a title to the plot using `ggtitle` and ensure that the x-axis has a descriptive and human-readable label.\n",
    "\n",
    "_Assign your plot to an object called `apt_storeys_dist`._"
   ]
  },
  {
   "cell_type": "code",
   "execution_count": null,
   "metadata": {
    "deletable": false,
    "nbgrader": {
     "cell_type": "code",
     "checksum": "33251398537b719edf5b2abef5b8d0e9",
     "grade": false,
     "grade_id": "cell-0221ce4a6d88c79e",
     "locked": false,
     "schema_version": 3,
     "solution": true,
     "task": false
    }
   },
   "outputs": [],
   "source": [
    "# your code here\n",
    "fail() # No Answer - remove if you provide an answer\n",
    "\n",
    "apt_storeys_dist"
   ]
  },
  {
   "cell_type": "code",
   "execution_count": null,
   "metadata": {
    "deletable": false,
    "editable": false,
    "nbgrader": {
     "cell_type": "code",
     "checksum": "eff8cce892e76ab74b76cdf13768225a",
     "grade": true,
     "grade_id": "cell-1d230c757a56c4d3",
     "locked": true,
     "points": 3,
     "schema_version": 3,
     "solution": false,
     "task": false
    }
   },
   "outputs": [],
   "source": [
    "# Here we check to see whether you have given your answer the correct\n",
    "# object name. However, all other tests have been hidden so you can\n",
    "# practice deciding when you have the correct answer.\n",
    "test_that('Did not assign answer to an object called \"apt_storeys_dist\"', {\n",
    "  expect_true(exists(\"apt_storeys_dist\"))\n",
    "})"
   ]
  },
  {
   "cell_type": "markdown",
   "metadata": {
    "deletable": false,
    "editable": false,
    "nbgrader": {
     "cell_type": "markdown",
     "checksum": "485e6bec46c5274cc94ecaffb4cbecf9",
     "grade": false,
     "grade_id": "cell-d0409ad1e1b9e058",
     "locked": true,
     "schema_version": 3,
     "solution": false,
     "task": false
    }
   },
   "source": [
    "**Question 4.1**\n",
    "<br> {points: 3}\n",
    "\n",
    "Considering the population `apt_storeys` and the population distribution you created in **question 4.0**, which pair of distributions from the following list would you expect to have the **most** similar characteristics?\n",
    "\n",
    "1. Population distribution of `apt_storeys`\n",
    "2. Sample distribution generated using a sample of size 15 from `apt_storeys`\n",
    "3. Sample distribution generated using a sample of size 283 from `apt_storeys`\n",
    "4. Sampling distribution of sample medians generated using samples of size 9 and 200,000 sample repetitions from `apt_storeys`\n",
    "5. Sampling distribution of sample means (generated using samples of size 175 and 200,000 sample repetitions from `apt_storeys`\n",
    "\n",
    "A. 1 & 2\n",
    "\n",
    "B. 1 & 3\n",
    "\n",
    "C. 1 & 4\n",
    "\n",
    "D. 1 & 5\n",
    "\n",
    "E. 2 & 3\n",
    "\n",
    "F. 4 & 5\n",
    "\n",
    "G. There is not enough information to answer the question.\n",
    "\n",
    "_Assign your answer to an object called `answer4.1`. Your answer should be a single character surrounded by quotes._"
   ]
  },
  {
   "cell_type": "code",
   "execution_count": null,
   "metadata": {
    "deletable": false,
    "nbgrader": {
     "cell_type": "code",
     "checksum": "abbfbb77b85eb75881c595ea5e4eb552",
     "grade": false,
     "grade_id": "cell-b37888aa62cb71ee",
     "locked": false,
     "schema_version": 3,
     "solution": true,
     "task": false
    }
   },
   "outputs": [],
   "source": [
    "# answer4.1 <- ...\n",
    "\n",
    "# your code here\n",
    "fail() # No Answer - remove if you provide an answer"
   ]
  },
  {
   "cell_type": "code",
   "execution_count": null,
   "metadata": {
    "deletable": false,
    "editable": false,
    "nbgrader": {
     "cell_type": "code",
     "checksum": "789830c105dfa6e72a46f32b6971241a",
     "grade": true,
     "grade_id": "cell-415f912ba3f6516c",
     "locked": true,
     "points": 3,
     "schema_version": 3,
     "solution": false,
     "task": false
    }
   },
   "outputs": [],
   "source": [
    "# Here we check to see whether you have given your answer the correct\n",
    "# object name. However, all other tests have been hidden so you can\n",
    "# practice deciding when you have the correct answer.\n",
    "test_that('Did not assign answer to an object called \"answer4.1\"', {\n",
    "  expect_true(exists(\"answer4.1\"))\n",
    "})\n",
    "\n",
    "test_that('Solution should be a single character (\"A\", \"B\", \"C\", \"D\", \"E\", \"F\", or \"G\")', {\n",
    "  expect_match(answer4.1, \"a|b|c|d|e|f|g\", ignore.case = TRUE)\n",
    "})"
   ]
  },
  {
   "cell_type": "markdown",
   "metadata": {
    "deletable": false,
    "editable": false,
    "nbgrader": {
     "cell_type": "markdown",
     "checksum": "80ea183f155be027c4b0321dec21de5f",
     "grade": false,
     "grade_id": "cell-a7274b64a2787415",
     "locked": true,
     "schema_version": 3,
     "solution": false,
     "task": false
    }
   },
   "source": [
    "**Question 4.2**\n",
    "<br> {points: 3}\n",
    "\n",
    "True or false?\n",
    "\n",
    "As you increase the sample size used to generate a sample distribution, the variance of the distribution will decrease.\n",
    "\n",
    "_Assign your answer to an object called `answer4.2`. Your answer should be either \"true\" or \"false\", surrounded by quotes._"
   ]
  },
  {
   "cell_type": "code",
   "execution_count": null,
   "metadata": {
    "deletable": false,
    "nbgrader": {
     "cell_type": "code",
     "checksum": "c6fba2f1e8cb1cb8c9c3a6d7cc9c7053",
     "grade": false,
     "grade_id": "cell-997d8932340fa6c7",
     "locked": false,
     "schema_version": 3,
     "solution": true,
     "task": false
    }
   },
   "outputs": [],
   "source": [
    "# answer4.2 <- ...\n",
    "\n",
    "# your code here\n",
    "fail() # No Answer - remove if you provide an answer"
   ]
  },
  {
   "cell_type": "code",
   "execution_count": null,
   "metadata": {
    "deletable": false,
    "editable": false,
    "nbgrader": {
     "cell_type": "code",
     "checksum": "4acb10e628ff2762bec2ea471fb023c5",
     "grade": true,
     "grade_id": "cell-592172c7a16ff792",
     "locked": true,
     "points": 3,
     "schema_version": 3,
     "solution": false,
     "task": false
    }
   },
   "outputs": [],
   "source": [
    "# Here we check to see whether you have given your answer the correct\n",
    "# object name. However, all other tests have been hidden so you can\n",
    "# practice deciding when you have the correct answer.\n",
    "test_that('Did not assign answer to an object called \"answer4.2\"', {\n",
    "  expect_true(exists(\"answer4.2\"))\n",
    "})\n",
    "\n",
    "test_that('Answer should be \"true\" or \"false\"', {\n",
    "  expect_match(answer4.2, \"true|false\", ignore.case = TRUE)\n",
    "})"
   ]
  },
  {
   "cell_type": "markdown",
   "metadata": {
    "deletable": false,
    "editable": false,
    "nbgrader": {
     "cell_type": "markdown",
     "checksum": "295ef23de1c4651c6af4b5788725f226",
     "grade": false,
     "grade_id": "cell-3693c9a1d65aa0d5",
     "locked": true,
     "schema_version": 3,
     "solution": false,
     "task": false
    }
   },
   "source": [
    "**Question 4.3**\n",
    "<br> {points: 3}\n",
    "\n",
    "**Note:** this question has two parts!\n",
    "\n",
    "a) Take a single sample from `apt_storeys` of size 100 using the `rep_sample_n` function and a seed of 4524.\n",
    "\n",
    "_Assign your data frame to an object called `sample`._\n",
    "\n",
    "<br>\n",
    "\n",
    "b) Afterwards, visualize the distribution of the sample by creating a histogram with bin widths of 2 using `geom_histogram`. Additionally, add the argument `boundary = 0` to `geom_histogram` to force the histogram bars to start at 0 on the x-axis. Finally, add a title to the plot using `ggtitle` and ensure that the x-axis has a descriptive and human-readable label.\n",
    "\n",
    "_Assign your plot to an object called `sample_dist`._"
   ]
  },
  {
   "cell_type": "code",
   "execution_count": null,
   "metadata": {
    "deletable": false,
    "nbgrader": {
     "cell_type": "code",
     "checksum": "92b8294adc2ba0c66284284132d4f79e",
     "grade": false,
     "grade_id": "cell-0096b4d2dcdb1e76",
     "locked": false,
     "schema_version": 3,
     "solution": true,
     "task": false
    }
   },
   "outputs": [],
   "source": [
    "set.seed(4524)\n",
    "\n",
    "# your code here\n",
    "fail() # No Answer - remove if you provide an answer\n",
    "\n",
    "head(sample)\n",
    "sample_dist"
   ]
  },
  {
   "cell_type": "code",
   "execution_count": null,
   "metadata": {
    "deletable": false,
    "editable": false,
    "nbgrader": {
     "cell_type": "code",
     "checksum": "1b852f0e6c33d5e4d5702828fd2e361e",
     "grade": true,
     "grade_id": "cell-30c5d7cb7339ff00",
     "locked": true,
     "points": 3,
     "schema_version": 3,
     "solution": false,
     "task": false
    }
   },
   "outputs": [],
   "source": [
    "# Here we check to see whether you have given your answer the correct\n",
    "# object name. However, all other tests have been hidden so you can\n",
    "# practice deciding when you have the correct answer.\n",
    "test_that('Did not assign answer to an object called \"sample\"', {\n",
    "  expect_true(exists(\"sample\"))\n",
    "})\n",
    "\n",
    "test_that('Did not assign answer to an object called \"sample_dist\"', {\n",
    "  expect_true(exists(\"sample_dist\"))\n",
    "})"
   ]
  },
  {
   "cell_type": "markdown",
   "metadata": {
    "deletable": false,
    "editable": false,
    "nbgrader": {
     "cell_type": "markdown",
     "checksum": "dcaee2b86eba576aef7535cdc3aad9ee",
     "grade": false,
     "grade_id": "cell-2c2a90f042653be6",
     "locked": true,
     "schema_version": 3,
     "solution": false,
     "task": false
    }
   },
   "source": [
    "**Question 4.4**\n",
    "<br> {points: 3}\n",
    "\n",
    "**Note:** this question has two parts!\n",
    "\n",
    "a) Calculate the **mean** of the sample you took in **question 3.3** (`sample`).\n",
    "\n",
    "_Assign your answer to an object called `sample_mean`. Your answer should be a single number._\n",
    "\n",
    "<br>\n",
    "\n",
    "b) Calculate the **median** of the sample you took in **question 3.3** (`sample`).\n",
    "\n",
    "_Assign your answer to an object called `sample_median`. Your answer should be a single number._\n",
    "\n",
    "<font color='dodgerblue'> **Hint:** you can convert a 1x1 dataframe to a single number using the `as.numeric()` function!"
   ]
  },
  {
   "cell_type": "code",
   "execution_count": null,
   "metadata": {
    "deletable": false,
    "nbgrader": {
     "cell_type": "code",
     "checksum": "41701d9c61062ae50a16e3e17f14cf77",
     "grade": false,
     "grade_id": "cell-d7ab7f6fe8350cb7",
     "locked": false,
     "schema_version": 3,
     "solution": true,
     "task": false
    }
   },
   "outputs": [],
   "source": [
    "# your code here\n",
    "fail() # No Answer - remove if you provide an answer\n",
    "\n",
    "sample_mean\n",
    "sample_median"
   ]
  },
  {
   "cell_type": "code",
   "execution_count": null,
   "metadata": {
    "deletable": false,
    "editable": false,
    "nbgrader": {
     "cell_type": "code",
     "checksum": "cf1e9eec89e9fc341f1fd1df3b33aa6d",
     "grade": true,
     "grade_id": "cell-d05853c35df333b2",
     "locked": true,
     "points": 3,
     "schema_version": 3,
     "solution": false,
     "task": false
    }
   },
   "outputs": [],
   "source": [
    "# Here we check to see whether you have given your answer the correct\n",
    "# object name. However, all other tests have been hidden so you can\n",
    "# practice deciding when you have the correct answer.\n",
    "test_that('Did not assign answer to an object called \"sample_mean\"', {\n",
    "  expect_true(exists(\"sample_mean\"))\n",
    "})\n",
    "test_that(\"Solution should be a number\", {\n",
    "  expect_false(is.na(as.numeric(sample_mean)))\n",
    "})\n",
    "\n",
    "test_that('Did not assign answer to an object called \"sample_median\"', {\n",
    "  expect_true(exists(\"sample_median\"))\n",
    "})\n",
    "test_that(\"Solution should be a number\", {\n",
    "  expect_false(is.na(as.numeric(sample_median)))\n",
    "})"
   ]
  },
  {
   "cell_type": "markdown",
   "metadata": {
    "deletable": false,
    "editable": false,
    "nbgrader": {
     "cell_type": "markdown",
     "checksum": "85a1d603a30f2617868f8c54bf695cec",
     "grade": false,
     "grade_id": "cell-1d7870dee996de61",
     "locked": true,
     "schema_version": 3,
     "solution": false,
     "task": false
    }
   },
   "source": [
    "_Use the value of `sample_mean` and `sample_median` to answer the **next 2 questions**._"
   ]
  },
  {
   "cell_type": "markdown",
   "metadata": {
    "deletable": false,
    "editable": false,
    "nbgrader": {
     "cell_type": "markdown",
     "checksum": "d220745bdfe5cf4a211763ff22547c1a",
     "grade": false,
     "grade_id": "cell-e868ca2f0c5a7db0",
     "locked": true,
     "schema_version": 3,
     "solution": false,
     "task": false
    }
   },
   "source": [
    "**Question 4.5**\n",
    "<br> {points: 3}\n",
    "\n",
    "Assume the sample you took in **question 4.3**, `sample`, was one out of many samples taken from `apt_storeys` and used to generate one of the sampling distributions below.\n",
    "\n",
    "Given that each was generated using 1000 sample replicates, which histogram below represents a sampling distribution of sample means that **most likely** contains a point estimate from `sample`?\n",
    "\n",
    "<img src=\"question4.5.png\"/>\n",
    "\n",
    "_Assign your answer to an object called `answer4.5`. Your answer should be a single character surrounded by quotes._"
   ]
  },
  {
   "cell_type": "code",
   "execution_count": null,
   "metadata": {
    "deletable": false,
    "nbgrader": {
     "cell_type": "code",
     "checksum": "d5444ef17b705e2f6122c264dabd42c4",
     "grade": false,
     "grade_id": "cell-8b0ce7e5735e78ad",
     "locked": false,
     "schema_version": 3,
     "solution": true,
     "task": false
    }
   },
   "outputs": [],
   "source": [
    "# answer4.5 <- ...\n",
    "\n",
    "# your code here\n",
    "fail() # No Answer - remove if you provide an answer"
   ]
  },
  {
   "cell_type": "code",
   "execution_count": null,
   "metadata": {
    "deletable": false,
    "editable": false,
    "nbgrader": {
     "cell_type": "code",
     "checksum": "707410fd7b46333d30dd20abd6213000",
     "grade": true,
     "grade_id": "cell-a48999f3328bcbd0",
     "locked": true,
     "points": 3,
     "schema_version": 3,
     "solution": false,
     "task": false
    }
   },
   "outputs": [],
   "source": [
    "# Here we check to see whether you have given your answer the correct\n",
    "# object name. However, all other tests have been hidden so you can\n",
    "# practice deciding when you have the correct answer.\n",
    "test_that('Did not assign answer to an object called \"answer4.5\"', {\n",
    "  expect_true(exists(\"answer4.5\"))\n",
    "})\n",
    "\n",
    "test_that('Solution should be a single character (\"A\", \"B\", \"C\", or \"D\")', {\n",
    "  expect_match(answer4.5, \"a|b|c|d\", ignore.case = TRUE)\n",
    "})"
   ]
  },
  {
   "cell_type": "markdown",
   "metadata": {
    "deletable": false,
    "editable": false,
    "nbgrader": {
     "cell_type": "markdown",
     "checksum": "a332983185288e71faaf53bcc275ce4a",
     "grade": false,
     "grade_id": "cell-d65a150c5fae03d6",
     "locked": true,
     "schema_version": 3,
     "solution": false,
     "task": false
    }
   },
   "source": [
    "**Question 4.6**\n",
    "<br> {points: 3}\n",
    "\n",
    "Consider the following two distributions:\n",
    "1. Sampling distribution of sample means of `apt_storeys`, generated using 50,000 samples of size 250\n",
    "2. Sampling distribution of sample medians of `apt_storeys`, generated using 50,000 samples of size 250\n",
    "\n",
    "Given the values of `sample_mean` and `sample_median`, what should you expect about the position of the mean of distribution 2 in comparison to the mean of distribution 1?"
   ]
  },
  {
   "cell_type": "markdown",
   "metadata": {
    "deletable": false,
    "nbgrader": {
     "cell_type": "markdown",
     "checksum": "108568f274a3ebd8063a7becde1dc396",
     "grade": true,
     "grade_id": "cell-e1caed95e00109dc",
     "locked": false,
     "points": 3,
     "schema_version": 3,
     "solution": true,
     "task": false
    }
   },
   "source": [
    "DOUBLE CLICK TO EDIT **THIS CELL** AND REPLACE THIS TEXT WITH YOUR ANSWER."
   ]
  },
  {
   "cell_type": "markdown",
   "metadata": {
    "deletable": false,
    "editable": false,
    "nbgrader": {
     "cell_type": "markdown",
     "checksum": "2ca75cb4a0bd581f20997c5c25025f81",
     "grade": false,
     "grade_id": "cell-cc0545fe782efe45",
     "locked": true,
     "schema_version": 3,
     "solution": false,
     "task": false
    }
   },
   "source": [
    "## 5. The Reality of Sampling\n",
    "\n",
    "If you recall from the last worksheet, there were two important points that we should have in the back of our minds as we learn about sampling and sampling distributions:\n",
    "> First, you must acknowledge that we don't usually have access to data for the entire population that we are interested in like we have so far. If we did, we could always calculate the population parameter directly. Here, we are taking the opportunity of having access to these entire populations to study sampling distributions. Second, always remember the purpose of learning about sampling distributions. By learning about the properties of sampling distributions, you will be able to understand the inherent variability/error in point estimates. This \"error\" associated with a point estimate is critical, and in later weeks we will learn how to report it formally.\n",
    "\n",
    "So, what happens when we don't have access to the entire population? In this section, we'll take a look at two different point estimates, compare them, and introduce ourselves to the problem that we will be able to address next week."
   ]
  },
  {
   "cell_type": "markdown",
   "metadata": {
    "deletable": false,
    "editable": false,
    "nbgrader": {
     "cell_type": "markdown",
     "checksum": "8ed0f816587eeb62bde9109545a5f96f",
     "grade": false,
     "grade_id": "cell-24d83e70f27a6c55",
     "locked": true,
     "schema_version": 3,
     "solution": false,
     "task": false
    }
   },
   "source": [
    "_Use the following scenario to answer the next **3 questions**._\n",
    "\n",
    "Suppose you are interested in determining the median height of all students at UBC. You do not have the resources to perform a census or take a large number of samples. You end up gathering two different samples and compute a point estimate of the median for each sample. The details of each point estimate are as follows:\n",
    "\n",
    "1. Using a sample size of 42, you calculate a sample median of 175.3cm (or around 5' 9\"). You are certain that the sample is unbiased and representative of the population.\n",
    "2. Using a sample size of 7, you calculate a sample median of 167.6cm (or around 5' 6\"). You are certain that the sample is unbiased and representative of the population."
   ]
  },
  {
   "cell_type": "markdown",
   "metadata": {
    "deletable": false,
    "editable": false,
    "nbgrader": {
     "cell_type": "markdown",
     "checksum": "8020b84bdd1cc67d04868ff56a24ed0d",
     "grade": false,
     "grade_id": "cell-dd0a789519d115f0",
     "locked": true,
     "schema_version": 3,
     "solution": false,
     "task": false
    }
   },
   "source": [
    "**Question 5.0**\n",
    "<br> {points: 1}\n",
    "\n",
    "Which point estimate has a **higher chance** of being closer to the true median of all students at UBC?\n",
    "\n",
    "A. Point estimate 1\n",
    "\n",
    "B. Point estimate 2\n",
    "\n",
    "_Assign your answer to an object called `answer5.0`. Your answer should be a single character surrounded by quotes._"
   ]
  },
  {
   "cell_type": "code",
   "execution_count": null,
   "metadata": {
    "deletable": false,
    "nbgrader": {
     "cell_type": "code",
     "checksum": "bf75700d4c3e1a12ff59ec5193d28115",
     "grade": false,
     "grade_id": "cell-c93aa63b25d2e85f",
     "locked": false,
     "schema_version": 3,
     "solution": true,
     "task": false
    }
   },
   "outputs": [],
   "source": [
    "# answer5.0 <- ...\n",
    "\n",
    "# your code here\n",
    "fail() # No Answer - remove if you provide an answer"
   ]
  },
  {
   "cell_type": "code",
   "execution_count": null,
   "metadata": {
    "deletable": false,
    "editable": false,
    "nbgrader": {
     "cell_type": "code",
     "checksum": "8b78f13b509fad0ac4328c2cf56fae4b",
     "grade": true,
     "grade_id": "cell-7508e66b22ea9921",
     "locked": true,
     "points": 1,
     "schema_version": 3,
     "solution": false,
     "task": false
    }
   },
   "outputs": [],
   "source": [
    "test_5.0()"
   ]
  },
  {
   "cell_type": "markdown",
   "metadata": {
    "deletable": false,
    "editable": false,
    "nbgrader": {
     "cell_type": "markdown",
     "checksum": "208923d264002b87f02ae7423354dbf0",
     "grade": false,
     "grade_id": "cell-95d4625fca43e5b6",
     "locked": true,
     "schema_version": 3,
     "solution": false,
     "task": false
    }
   },
   "source": [
    "**Question 5.1**\n",
    "<br> {points: 1}\n",
    "\n",
    "True or false?\n",
    "\n",
    "One potential justification for the correct answer to the previous question could be: the standard deviation of the sampling distribution containing the first point estimate is larger than the standard deviation of the sampling distribution containing the second point estimate.\n",
    "\n",
    "_Assign your answer to an object called `answer5.1`. Your answer should be either \"true\" or \"false\", surrounded by quotes._"
   ]
  },
  {
   "cell_type": "code",
   "execution_count": null,
   "metadata": {
    "deletable": false,
    "nbgrader": {
     "cell_type": "code",
     "checksum": "47a5cbd5a99527720492540cdf24f46a",
     "grade": false,
     "grade_id": "cell-8c31f7f568de20b2",
     "locked": false,
     "schema_version": 3,
     "solution": true,
     "task": false
    }
   },
   "outputs": [],
   "source": [
    "# answer5.1 <- ...\n",
    "\n",
    "# your code here\n",
    "fail() # No Answer - remove if you provide an answer"
   ]
  },
  {
   "cell_type": "code",
   "execution_count": null,
   "metadata": {
    "deletable": false,
    "editable": false,
    "nbgrader": {
     "cell_type": "code",
     "checksum": "5f711b8f3c50fa69cc139f3f3a9e6fa6",
     "grade": true,
     "grade_id": "cell-2a4e3bd34392bce5",
     "locked": true,
     "points": 1,
     "schema_version": 3,
     "solution": false,
     "task": false
    }
   },
   "outputs": [],
   "source": [
    "test_5.1()"
   ]
  },
  {
   "cell_type": "markdown",
   "metadata": {
    "deletable": false,
    "editable": false,
    "nbgrader": {
     "cell_type": "markdown",
     "checksum": "83df8b37f58548d55aceaf00b54bd3f3",
     "grade": false,
     "grade_id": "cell-a3bbdb4b85d6594d",
     "locked": true,
     "schema_version": 3,
     "solution": false,
     "task": false
    }
   },
   "source": [
    "**Question 5.2**\n",
    "<br> {points: 1}\n",
    "\n",
    "Given what you have learned so far in this course and the scenario described above, how could you **quantify** the sampling variance of the two different samples?\n",
    "\n",
    "A. Take many more samples of size 42 and size 7 and compute the standard error of each sampling distribution.\n",
    "\n",
    "B. Estimate the standard error by computing the standard deviation of the two samples.\n",
    "\n",
    "C. There does not seem to be a way to do this using the techniques we have learned so far in this course. However, there must be some way to do this using a single sample. Perhaps we will learn about how to do this next week _(hint: you will)_.\n",
    "\n",
    "D. None of the above.\n",
    "\n",
    "_Assign your answer to an object called `answer5.2`. Your answer should be a single character surrounded by quotes._"
   ]
  },
  {
   "cell_type": "code",
   "execution_count": null,
   "metadata": {
    "deletable": false,
    "nbgrader": {
     "cell_type": "code",
     "checksum": "b66958e90740c66eb3f7f719a24c447a",
     "grade": false,
     "grade_id": "cell-77c85c7f076e024d",
     "locked": false,
     "schema_version": 3,
     "solution": true,
     "task": false
    }
   },
   "outputs": [],
   "source": [
    "# answer5.2 <- ...\n",
    "\n",
    "# your code here\n",
    "fail() # No Answer - remove if you provide an answer"
   ]
  },
  {
   "cell_type": "code",
   "execution_count": null,
   "metadata": {
    "deletable": false,
    "editable": false,
    "nbgrader": {
     "cell_type": "code",
     "checksum": "d264b401c27e79822dfdcc6ee1d10128",
     "grade": true,
     "grade_id": "cell-1a178122a934be88",
     "locked": true,
     "points": 1,
     "schema_version": 3,
     "solution": false,
     "task": false
    }
   },
   "outputs": [],
   "source": [
    "test_5.2()"
   ]
  }
 ],
 "metadata": {
  "docker": {
   "latest_image_tag": "v0.4.0"
  },
  "jupytext": {
   "formats": "ipynb,Rmd"
  },
  "kernelspec": {
   "display_name": "R",
   "language": "R",
   "name": "ir"
  },
  "language_info": {
   "codemirror_mode": "r",
   "file_extension": ".r",
   "mimetype": "text/x-r-source",
   "name": "R",
   "pygments_lexer": "r",
   "version": "4.0.0"
  }
 },
 "nbformat": 4,
 "nbformat_minor": 4
}
