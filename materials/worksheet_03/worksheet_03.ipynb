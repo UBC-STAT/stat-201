{
 "cells": [
  {
   "cell_type": "markdown",
   "metadata": {
    "deletable": false,
    "editable": false,
    "nbgrader": {
     "cell_type": "markdown",
     "checksum": "5beae144aad877cce6c0ffb29a09ab50",
     "grade": false,
     "grade_id": "cell-5d74e003204bdc7c",
     "locked": true,
     "schema_version": 3,
     "solution": false,
     "task": false
    }
   },
   "source": [
    "# Worksheet 3: The central limit theorem and mathematical approximation of the sampling distribution"
   ]
  },
  {
   "cell_type": "markdown",
   "metadata": {
    "deletable": false,
    "editable": false,
    "nbgrader": {
     "cell_type": "markdown",
     "checksum": "9be0f5b3b67838b3c20fcc2a9d8d9acc",
     "grade": false,
     "grade_id": "cell-6e0e5cd42c84f810",
     "locked": true,
     "schema_version": 3,
     "solution": false,
     "task": false
    }
   },
   "source": [
    "### Lecture and Tutorial Learning Goals\n",
    "After completing this week's lecture and tutorial work, you will be able to:\n",
    "\n",
    "1. Describe the Law of Large Numbers.\n",
    "2. Describe a normal distribution.\n",
    "3. Explain the Central Limit Theorem and other general asymptotic results.\n",
    "4. List the properties of the sampling distribution.\n",
    "5. Decide whether to use asymptotic theory or bootstrapping to compute estimator uncertainty."
   ]
  },
  {
   "cell_type": "code",
   "execution_count": null,
   "metadata": {
    "deletable": false,
    "editable": false,
    "nbgrader": {
     "cell_type": "code",
     "checksum": "b5cad7fd97da26b1229d9368b61bba14",
     "grade": false,
     "grade_id": "cell-cdfeee5b501a179d",
     "locked": true,
     "schema_version": 3,
     "solution": false,
     "task": false
    }
   },
   "outputs": [],
   "source": [
    "# Run this cell before continuing.\n",
    "library(cowplot)\n",
    "library(digest)\n",
    "library(gridExtra)\n",
    "library(infer)\n",
    "library(repr)\n",
    "library(taxyvr)\n",
    "library(tidyverse)\n",
    "source(\"tests_worksheet_03.R\")"
   ]
  },
  {
   "cell_type": "markdown",
   "metadata": {
    "deletable": false,
    "editable": false,
    "nbgrader": {
     "cell_type": "markdown",
     "checksum": "e044523119953a6519b491c3e61ba6fc",
     "grade": false,
     "grade_id": "cell-db6779330180eb83",
     "locked": true,
     "schema_version": 3,
     "solution": false,
     "task": false
    }
   },
   "source": [
    "## 1. Warm-Up Questions\n",
    "\n",
    "Before we get started, let's start with a few warm-up questions."
   ]
  },
  {
   "cell_type": "markdown",
   "metadata": {
    "deletable": false,
    "editable": false,
    "nbgrader": {
     "cell_type": "markdown",
     "checksum": "8286dd8db7ff83e5cf35fe5d954a91d0",
     "grade": false,
     "grade_id": "cell-eb586840fcc0dffb",
     "locked": true,
     "schema_version": 3,
     "solution": false,
     "task": false
    }
   },
   "source": [
    "**Question 1.0**\n",
    "<br>{points: 1}\n",
    "\n",
    "True or false?\n",
    "\n",
    "The distribution of a single sample will **always** have a similar shape to the population distribution.\n",
    "\n",
    "_Assign your answer to an object called `answer1.0`. Your answer should be either \"true\" or \"false\" surrounded by quotes._"
   ]
  },
  {
   "cell_type": "code",
   "execution_count": null,
   "metadata": {
    "deletable": false,
    "nbgrader": {
     "cell_type": "code",
     "checksum": "ed00bd1fc6fec11046aec3b1f2940dc3",
     "grade": false,
     "grade_id": "cell-29a9adf7e6ea149e",
     "locked": false,
     "schema_version": 3,
     "solution": true,
     "task": false
    }
   },
   "outputs": [],
   "source": [
    "# answer1.0 <- ...\n",
    "\n",
    "# your code here\n",
    "fail() # No Answer - remove if you provide an answer"
   ]
  },
  {
   "cell_type": "code",
   "execution_count": null,
   "metadata": {
    "deletable": false,
    "editable": false,
    "nbgrader": {
     "cell_type": "code",
     "checksum": "2c2cb1bda76d257326761e546c0b4710",
     "grade": true,
     "grade_id": "cell-939c12dc83d99156",
     "locked": true,
     "points": 1,
     "schema_version": 3,
     "solution": false,
     "task": false
    }
   },
   "outputs": [],
   "source": [
    "test_1.0()"
   ]
  },
  {
   "cell_type": "markdown",
   "metadata": {
    "deletable": false,
    "editable": false,
    "nbgrader": {
     "cell_type": "markdown",
     "checksum": "ce287a7e25820d4127377458baf6762d",
     "grade": false,
     "grade_id": "cell-97b86dec05432d87",
     "locked": true,
     "schema_version": 3,
     "solution": false,
     "task": false
    }
   },
   "source": [
    "**Question 1.1**\n",
    "<br>{points: 1}\n",
    "\n",
    "Which of the following variables is **not** an example of a quantitative variable?\n",
    "\n",
    "A. The number of red Skittles in a given package.\n",
    "\n",
    "B. The species of a tree.\n",
    "\n",
    "C. The age of a student in STAT 201.\n",
    "\n",
    "D. The weight of a newborn puppy.\n",
    "\n",
    "_Assign your answer to an object called `answer1.1`. Your answer should be a single character surrounded by quotes._"
   ]
  },
  {
   "cell_type": "code",
   "execution_count": null,
   "metadata": {
    "deletable": false,
    "nbgrader": {
     "cell_type": "code",
     "checksum": "fbf337d1fddf4a6d236791ec93768bad",
     "grade": false,
     "grade_id": "cell-49fc8e017bd917a9",
     "locked": false,
     "schema_version": 3,
     "solution": true,
     "task": false
    }
   },
   "outputs": [],
   "source": [
    "# answer1.1 <- ...\n",
    "\n",
    "# your code here\n",
    "fail() # No Answer - remove if you provide an answer"
   ]
  },
  {
   "cell_type": "code",
   "execution_count": null,
   "metadata": {
    "deletable": false,
    "editable": false,
    "nbgrader": {
     "cell_type": "code",
     "checksum": "cf5b7cedfdc6cab32f03d948309e3a14",
     "grade": true,
     "grade_id": "cell-0e1045f7c706859b",
     "locked": true,
     "points": 1,
     "schema_version": 3,
     "solution": false,
     "task": false
    }
   },
   "outputs": [],
   "source": [
    "test_1.1()"
   ]
  },
  {
   "cell_type": "markdown",
   "metadata": {
    "deletable": false,
    "editable": false,
    "nbgrader": {
     "cell_type": "markdown",
     "checksum": "5618f9c6ab793ef767d436eeffec969d",
     "grade": false,
     "grade_id": "cell-62a8810743e4dc45",
     "locked": true,
     "schema_version": 3,
     "solution": false,
     "task": false
    }
   },
   "source": [
    "**Question 1.2**\n",
    "<br>{points: 1}\n",
    "\n",
    "We quantify the variation of a point estimator by using:\n",
    "\n",
    "A. The standard deviation of the population distribution, which is called the standard error.\n",
    "\n",
    "B. The standard deviation of the sample distribution, which is called the standard error.\n",
    "\n",
    "C. The number of possible samples we can take from the population.\n",
    "\n",
    "D. The standard deviation of the sampling distribution, which is called the standard error.\n",
    "\n",
    "_Assign your answer to an object called `answer1.2`. Your answer should be a single character surrounded by quotes._"
   ]
  },
  {
   "cell_type": "code",
   "execution_count": null,
   "metadata": {
    "deletable": false,
    "nbgrader": {
     "cell_type": "code",
     "checksum": "0a06db5c506f15fc5710110207401e44",
     "grade": false,
     "grade_id": "cell-a54c534433b2173b",
     "locked": false,
     "schema_version": 3,
     "solution": true,
     "task": false
    }
   },
   "outputs": [],
   "source": [
    "# answer1.2 <- ...\n",
    "\n",
    "# your code here\n",
    "fail() # No Answer - remove if you provide an answer"
   ]
  },
  {
   "cell_type": "code",
   "execution_count": null,
   "metadata": {
    "deletable": false,
    "editable": false,
    "nbgrader": {
     "cell_type": "code",
     "checksum": "7d2708bfd74c494a76c5a827b2fedff8",
     "grade": true,
     "grade_id": "cell-440a7e90021f2c67",
     "locked": true,
     "points": 1,
     "schema_version": 3,
     "solution": false,
     "task": false
    }
   },
   "outputs": [],
   "source": [
    "test_1.2()"
   ]
  },
  {
   "cell_type": "markdown",
   "metadata": {
    "deletable": false,
    "editable": false,
    "nbgrader": {
     "cell_type": "markdown",
     "checksum": "92646e7f2cb85922d7d70e4c8f39738a",
     "grade": false,
     "grade_id": "cell-a526e3ba7d40ef3c",
     "locked": true,
     "schema_version": 3,
     "solution": false,
     "task": false
    }
   },
   "source": [
    "**Question 1.3**\n",
    "<br>{points: 1}\n",
    "\n",
    "True or false?\n",
    "\n",
    "An estimator of a population parameter is a random variable whose distribution is the sampling distribution."
   ]
  },
  {
   "cell_type": "code",
   "execution_count": null,
   "metadata": {
    "deletable": false,
    "nbgrader": {
     "cell_type": "code",
     "checksum": "5beae6f6b8e8691adc84270b23577ffa",
     "grade": false,
     "grade_id": "cell-f26017e8ccddaf15",
     "locked": false,
     "schema_version": 3,
     "solution": true,
     "task": false
    }
   },
   "outputs": [],
   "source": [
    "# answer1.3 <- ...\n",
    "\n",
    "# your code here\n",
    "fail() # No Answer - remove if you provide an answer"
   ]
  },
  {
   "cell_type": "code",
   "execution_count": null,
   "metadata": {
    "deletable": false,
    "editable": false,
    "nbgrader": {
     "cell_type": "code",
     "checksum": "9860856a4775a00d9bb26716e8c41fea",
     "grade": true,
     "grade_id": "cell-342c9b87e546ce6c",
     "locked": true,
     "points": 1,
     "schema_version": 3,
     "solution": false,
     "task": false
    }
   },
   "outputs": [],
   "source": [
    "test_1.3()"
   ]
  },
  {
   "cell_type": "markdown",
   "metadata": {
    "deletable": false,
    "editable": false,
    "nbgrader": {
     "cell_type": "markdown",
     "checksum": "3310c1d47163088652e4b671331e60e2",
     "grade": false,
     "grade_id": "cell-48595088ea6784fe",
     "locked": true,
     "schema_version": 3,
     "solution": false,
     "task": false
    }
   },
   "source": [
    "## 2. Influence of Sample Size\n",
    "\n",
    "What happens to our sampling distributions when we increase or decrease the sample size (e.g. a sample size of 10 or 100)? Does it matter? How does it affect our sampling distribution(s)? Is there a pattern? These are some questions that we will answer as we progress through the remainder of this worksheet. To do so, we will revisit the real population we worked with in `worksheet_01`.\n",
    "\n",
    "<div style=\"text-align: center\">\n",
    "    <img src=\"https://media.giphy.com/media/5XRB3Ay93FZw4/giphy.gif\"><br>\n",
    "    <i>Image from <a href=\"https://media.giphy.com/media/5XRB3Ay93FZw4/giphy.gif\">giphy.com</i></a>\n",
    "    <br><br>\n",
    "</div>\n",
    "\n",
    "As you work through the rest of this worksheet, there are a few important things you should keep in mind. First, you must acknowledge that we don't usually have access to data for the entire population that we are interested in like we have so far. If we did, we could always calculate the population parameter directly. Here, we are taking the opportunity of having access to these entire populations to study sampling distributions. Second, always remember the purpose of learning about sampling distributions. By learning about the properties of sampling distributions, you will be able to understand the inherent variability/error in point estimates. This \"error\" associated with a point estimate is critical, and in later weeks we will learn how to report it formally.\n",
    "\n",
    "### Vancouver Property Tax (Revisited)\n",
    "\n",
    "If you recall from `worksheet_01`, we explored the population distribution, some sample distributions, and the sampling distribution of sample means for the tax assessment value for **multiple-family dwellings in strata housing** in Vancouver using the `tax_2019` dataset from the `taxyvr` R package. As mentioned previously, we're going to revisit and extend our exploration of the sampling distribution of sample means by altering the size of our simulated samples from this dataset.\n",
    "\n",
    "Let's start by filtering the `tax_2019` dataset for the population that we are interested in again. Since you already did this in a previous worksheet, we have done it for you in the code cell below. Recall that we were interested in the `current_land_value` of properties that meet the following criteria:\n",
    "- **Have a `current_land_value` greater than \\$1:**  Some properties are assigned a value of `NA` and these are the properties undergoing big renovations. These values get amended after the improvement and are reflected in the following year's assessment. The same occurs with homes that are assessed at \\\\$0 and \\\\$1.\n",
    "- **Are of `legal_type` `\"STRATA\"`**\n",
    "- **Are of `zone_category` `\"Multiple Family Dwelling\"`** \n",
    "\n",
    "_If you need a refresher on the `tax_2019` dataset and where it came from, please look back at `worksheet_01` and re-read the introduction of section 2 there._"
   ]
  },
  {
   "cell_type": "code",
   "execution_count": null,
   "metadata": {
    "deletable": false,
    "editable": false,
    "nbgrader": {
     "cell_type": "code",
     "checksum": "a1c5bcf8174a90b36876d41309552f38",
     "grade": false,
     "grade_id": "cell-1f3bfd53e562ce26",
     "locked": true,
     "schema_version": 3,
     "solution": false,
     "task": false
    }
   },
   "outputs": [],
   "source": [
    "# Run this cell before continuing.\n",
    "multi_family_strata <- \n",
    "    tax_2019 %>%  \n",
    "    filter(!is.na(current_land_value),\n",
    "           current_land_value > 1,\n",
    "           legal_type == \"STRATA\",\n",
    "           zone_category == \"Multiple Family Dwelling\") %>% \n",
    "    select(current_land_value)\n",
    "head(multi_family_strata)"
   ]
  },
  {
   "cell_type": "markdown",
   "metadata": {
    "deletable": false,
    "editable": false,
    "nbgrader": {
     "cell_type": "markdown",
     "checksum": "e6d82abae05b9e009fdacf255d148b6a",
     "grade": false,
     "grade_id": "cell-218a5a8ba7c99cba",
     "locked": true,
     "schema_version": 3,
     "solution": false,
     "task": false
    }
   },
   "source": [
    "**Question 2.0** \n",
    "<br> {points: 1}\n",
    "\n",
    "Now let's start taking samples from our population `multi_family_strata`. First, take 2000 random samples of size 10 using the `rep_sample_n` function and a seed of `9869`.\n",
    "\n",
    "_Assign your data frame to an object called `samples_10`._"
   ]
  },
  {
   "cell_type": "code",
   "execution_count": null,
   "metadata": {
    "deletable": false,
    "nbgrader": {
     "cell_type": "code",
     "checksum": "772e632a5cce8846438c719133fdab7e",
     "grade": false,
     "grade_id": "cell-303acaad7b7ef9ec",
     "locked": false,
     "schema_version": 3,
     "solution": true,
     "task": false
    }
   },
   "outputs": [],
   "source": [
    "set.seed(9869) # DO NOT CHANGE!\n",
    "\n",
    "# your code here\n",
    "fail() # No Answer - remove if you provide an answer\n",
    "\n",
    "head(samples_10)"
   ]
  },
  {
   "cell_type": "code",
   "execution_count": null,
   "metadata": {
    "deletable": false,
    "editable": false,
    "nbgrader": {
     "cell_type": "code",
     "checksum": "5516ff7e8b331eafc99d2a354a18cf13",
     "grade": true,
     "grade_id": "cell-7fa51fbfac84d70e",
     "locked": true,
     "points": 1,
     "schema_version": 3,
     "solution": false,
     "task": false
    }
   },
   "outputs": [],
   "source": [
    "test_2.0()"
   ]
  },
  {
   "cell_type": "markdown",
   "metadata": {
    "deletable": false,
    "editable": false,
    "nbgrader": {
     "cell_type": "markdown",
     "checksum": "a3de263931394cd1dbfd5a556d01cd1f",
     "grade": false,
     "grade_id": "cell-fc7136064820d5f8",
     "locked": true,
     "schema_version": 3,
     "solution": false,
     "task": false
    }
   },
   "source": [
    "**Question 2.1** \n",
    "<br> {points: 1}\n",
    "\n",
    "Next, calculate the mean of each sample you took in **question 2.0**; these are our point estimates. Name the new column containing the sample means `sample_mean`.\n",
    "\n",
    "_Assign your data frame to an object called `sample_means_10`._"
   ]
  },
  {
   "cell_type": "code",
   "execution_count": null,
   "metadata": {
    "deletable": false,
    "nbgrader": {
     "cell_type": "code",
     "checksum": "dbdb15fe54752bc00531b63c860c88ee",
     "grade": false,
     "grade_id": "cell-9e4581334e49b421",
     "locked": false,
     "schema_version": 3,
     "solution": true,
     "task": false
    }
   },
   "outputs": [],
   "source": [
    "# your code here\n",
    "fail() # No Answer - remove if you provide an answer\n",
    "\n",
    "head(sample_means_10)"
   ]
  },
  {
   "cell_type": "code",
   "execution_count": null,
   "metadata": {
    "deletable": false,
    "editable": false,
    "nbgrader": {
     "cell_type": "code",
     "checksum": "d4afdac77c55074fdc6cde2ce2a16286",
     "grade": true,
     "grade_id": "cell-eae137174260d70f",
     "locked": true,
     "points": 1,
     "schema_version": 3,
     "solution": false,
     "task": false
    }
   },
   "outputs": [],
   "source": [
    "test_2.1()"
   ]
  },
  {
   "cell_type": "markdown",
   "metadata": {
    "deletable": false,
    "editable": false,
    "nbgrader": {
     "cell_type": "markdown",
     "checksum": "9bb12130bc87f0d2424fdb26479bbfd6",
     "grade": false,
     "grade_id": "cell-409f1b2769bebe07",
     "locked": true,
     "schema_version": 3,
     "solution": false,
     "task": false
    }
   },
   "source": [
    "Let's visualize the distribution of the sample means from the previous question."
   ]
  },
  {
   "cell_type": "code",
   "execution_count": null,
   "metadata": {
    "deletable": false,
    "editable": false,
    "nbgrader": {
     "cell_type": "code",
     "checksum": "d02f1889369eab95ca33c01930b9c0b8",
     "grade": false,
     "grade_id": "cell-b019963b74a75a0b",
     "locked": true,
     "schema_version": 3,
     "solution": false,
     "task": false
    }
   },
   "outputs": [],
   "source": [
    "sampling_dist_10 <- \n",
    "    sample_means_10 %>% \n",
    "    ggplot(aes(x = sample_mean)) +\n",
    "    geom_histogram(binwidth = 50000, color='white') +\n",
    "    xlab(\"Sample Mean Land Value (CAD)\") +\n",
    "    ggtitle(\"n = 10\")\n",
    "\n",
    "sampling_dist_10"
   ]
  },
  {
   "cell_type": "markdown",
   "metadata": {
    "deletable": false,
    "editable": false,
    "nbgrader": {
     "cell_type": "markdown",
     "checksum": "1101ccc5a7e851fe456c9fff7a99ecad",
     "grade": false,
     "grade_id": "cell-da45ac1a5690d79e",
     "locked": true,
     "schema_version": 3,
     "solution": false,
     "task": false
    }
   },
   "source": [
    "**Question 2.2** \n",
    "<br> {points: 1}\n",
    "\n",
    "Using the same strategy as you did above, draw 2000 random samples of size 30 from `multi_family_strata` using the `rep_sample_n` function, but this time use the seed `7032`. For each sample, calculate the mean as the point estimate. Lastly, let's visualize the distribution of the sample means (point estimates) you just calculated by plotting a histogram.\n",
    "\n",
    "_Assign your plot to an object called `sampling_dist_30`._"
   ]
  },
  {
   "cell_type": "code",
   "execution_count": null,
   "metadata": {
    "deletable": false,
    "nbgrader": {
     "cell_type": "code",
     "checksum": "dd356fa8dcb5858779749467186ab050",
     "grade": false,
     "grade_id": "cell-8e33a33f5bcfe9f3",
     "locked": false,
     "schema_version": 3,
     "solution": true,
     "task": false
    }
   },
   "outputs": [],
   "source": [
    "set.seed(7032) # DO NOT CHANGE!\n",
    "\n",
    "# sampling_dist_30 <- \n",
    "#     multi_family_strata %>% \n",
    "#     ... %>%  # This is a multiline command\n",
    "#     ggplot(aes(x = sample_mean)) +\n",
    "#     geom_histogram(binwidth = 25000, color = 'white') +\n",
    "#     xlab(\"Mean Land Value (CAD)\") +\n",
    "#     ggtitle(\"n = 30\")\n",
    "\n",
    "# your code here\n",
    "fail() # No Answer - remove if you provide an answer\n",
    "\n",
    "sampling_dist_30"
   ]
  },
  {
   "cell_type": "code",
   "execution_count": null,
   "metadata": {
    "deletable": false,
    "editable": false,
    "nbgrader": {
     "cell_type": "code",
     "checksum": "9c9d3cdbf4637434403831125af95646",
     "grade": true,
     "grade_id": "cell-273df730ac619b40",
     "locked": true,
     "points": 1,
     "schema_version": 3,
     "solution": false,
     "task": false
    }
   },
   "outputs": [],
   "source": [
    "test_2.2()"
   ]
  },
  {
   "cell_type": "markdown",
   "metadata": {
    "deletable": false,
    "editable": false,
    "nbgrader": {
     "cell_type": "markdown",
     "checksum": "0b7f374047cd808c12a3162ccce85e75",
     "grade": false,
     "grade_id": "cell-84fb3dbd6492d91a",
     "locked": true,
     "schema_version": 3,
     "solution": false,
     "task": false
    }
   },
   "source": [
    "**Question 2.3** \n",
    "<br> {points: 1}\n",
    "\n",
    "Again, using the same strategy as you did above, draw 2000 random samples of size 100 using the `rep_sample_n` function. Use the seed `8408`. For each sample, calculate the mean as the point estimate. Lastly, let's visualize the distribution of the sample means (point estimates) you just calculated by plotting a histogram.\n",
    "\n",
    "_Assign your plot to an object called `sampling_dist_100`._"
   ]
  },
  {
   "cell_type": "code",
   "execution_count": null,
   "metadata": {
    "deletable": false,
    "nbgrader": {
     "cell_type": "code",
     "checksum": "da77d1d87716eef96a297a0f4bedfd3c",
     "grade": false,
     "grade_id": "cell-e2cb7f9ef0d83904",
     "locked": false,
     "schema_version": 3,
     "solution": true,
     "task": false
    }
   },
   "outputs": [],
   "source": [
    "set.seed(8408) # DO NOT CHANGE!\n",
    "\n",
    "# sampling_dist_100 <- \n",
    "#     multi_family_strata %>% \n",
    "#     ... %>% # This is a multiline command\n",
    "#     ggplot(aes(x = sample_mean)) +\n",
    "#     geom_histogram(binwidth = 14000, color = 'white') +\n",
    "#     xlab(\"Mean Land Value (CAD)\") +\n",
    "#     ggtitle(\"n = 100\")\n",
    "\n",
    "\n",
    "# your code here\n",
    "fail() # No Answer - remove if you provide an answer\n",
    "\n",
    "sampling_dist_100"
   ]
  },
  {
   "cell_type": "code",
   "execution_count": null,
   "metadata": {
    "deletable": false,
    "editable": false,
    "nbgrader": {
     "cell_type": "code",
     "checksum": "256a091f9e2b1369230b39a270ca7248",
     "grade": true,
     "grade_id": "cell-f68f6bcb383eff02",
     "locked": true,
     "points": 1,
     "schema_version": 3,
     "solution": false,
     "task": false
    }
   },
   "outputs": [],
   "source": [
    "test_2.3()"
   ]
  },
  {
   "cell_type": "markdown",
   "metadata": {
    "deletable": false,
    "editable": false,
    "nbgrader": {
     "cell_type": "markdown",
     "checksum": "0671373e7ee0498cafeb9cc12acf0b84",
     "grade": false,
     "grade_id": "cell-8e182b389bb40473",
     "locked": true,
     "schema_version": 3,
     "solution": false,
     "task": false
    }
   },
   "source": [
    "In the code cell below, we have used `plot_grid` to plot the three sampling distributions side-by-side. We have sorted the plots by increasing order of sample size from left to right. **Note**: a small number of the sample means are not visible because we manually set bounds on the x-axis so you can compare the distributions more easily (this causes the warnings you observe below).\n",
    "\n",
    "_Use the set of plots below to answer the **next question**. Some of the code may be confusing, but you do not need to understand the code to answer the question._"
   ]
  },
  {
   "cell_type": "code",
   "execution_count": null,
   "metadata": {
    "deletable": false,
    "editable": false,
    "nbgrader": {
     "cell_type": "code",
     "checksum": "2b6b057dd40cbbe569bf04bc3653dd04",
     "grade": false,
     "grade_id": "cell-afa92dcfa7631f52",
     "locked": true,
     "schema_version": 3,
     "solution": false,
     "task": false
    }
   },
   "outputs": [],
   "source": [
    "# Run this cell before continuing.\n",
    "options(repr.plot.width = 20) # temp\n",
    "\n",
    "mean_plot_row <- plot_grid(sampling_dist_10 +\n",
    "                theme(axis.text.x = element_text(angle = 90)) +\n",
    "                scale_x_continuous(breaks = seq(400000, 1200000, 200000),\n",
    "                                   limits = c(400000, 1200000)),\n",
    "            sampling_dist_30 +\n",
    "                theme(axis.text.x = element_text(angle = 90)) +\n",
    "                scale_x_continuous(breaks = seq(400000, 1200000, 200000),\n",
    "                                   limits = c(400000, 1200000)),\n",
    "            sampling_dist_100 +\n",
    "                theme(axis.text.x = element_text(angle = 90)) +\n",
    "                scale_x_continuous(breaks = seq(400000, 1200000, 200000),\n",
    "                                   limits = c(400000, 1200000)),\n",
    "            ncol = 3)\n",
    "title <- ggdraw() + \n",
    "  draw_label(\"Comparison of sampling distributions of sample means\",\n",
    "             fontface = 'bold',\n",
    "             x = 0,\n",
    "             hjust = 0) +\n",
    "  theme(plot.margin = margin(0, 0, 0, 7))\n",
    "\n",
    "means_grid <- plot_grid(title,\n",
    "                        mean_plot_row,\n",
    "                        ncol = 1,\n",
    "                        rel_heights = c(0.1, 1))\n",
    "\n",
    "means_grid"
   ]
  },
  {
   "cell_type": "markdown",
   "metadata": {
    "deletable": false,
    "editable": false,
    "nbgrader": {
     "cell_type": "markdown",
     "checksum": "8a0d4b19dc44645d01f9dd080ed41f5e",
     "grade": false,
     "grade_id": "cell-6d6eb0e43482155e",
     "locked": true,
     "schema_version": 3,
     "solution": false,
     "task": false
    }
   },
   "source": [
    "**Question 2.4**\n",
    "<br> {points: 1}\n",
    "\n",
    "Considering the set of plots above, which statement below **is not** correct:\n",
    "\n",
    "A. As the sample size increases, the sampling distribution becomes narrower.\n",
    "\n",
    "B. As the sample size increases, there are more sample point estimates closer to the true population mean.\n",
    "\n",
    "C. As the sample size increases, the sampling distribution appears more bell-shaped.\n",
    "\n",
    "D. As the sample size increases, the standard error of the estimator increases.\n",
    "\n",
    "_Assign your answer to an object called `answer2.4`. Your answer should be a single character surrounded by quotes._"
   ]
  },
  {
   "cell_type": "code",
   "execution_count": null,
   "metadata": {
    "deletable": false,
    "nbgrader": {
     "cell_type": "code",
     "checksum": "e49993d9b5dbc4f574efeafa47e350d4",
     "grade": false,
     "grade_id": "cell-58cda3f054966112",
     "locked": false,
     "schema_version": 3,
     "solution": true,
     "task": false
    }
   },
   "outputs": [],
   "source": [
    "# your code here\n",
    "fail() # No Answer - remove if you provide an answer"
   ]
  },
  {
   "cell_type": "code",
   "execution_count": null,
   "metadata": {
    "deletable": false,
    "editable": false,
    "nbgrader": {
     "cell_type": "code",
     "checksum": "1a58e9cc9a82d1f585f0b7939e6a32d8",
     "grade": true,
     "grade_id": "cell-d68c6b42ff8a70d5",
     "locked": true,
     "points": 1,
     "schema_version": 3,
     "solution": false,
     "task": false
    }
   },
   "outputs": [],
   "source": [
    "test_2.4()"
   ]
  },
  {
   "cell_type": "markdown",
   "metadata": {
    "deletable": false,
    "editable": false,
    "nbgrader": {
     "cell_type": "markdown",
     "checksum": "cf7064ab3ccc72e5e36984f222d7130b",
     "grade": false,
     "grade_id": "cell-7972e65e3ce6cd7f",
     "locked": true,
     "schema_version": 3,
     "solution": false,
     "task": false
    }
   },
   "source": [
    "**Question 2.5**\n",
    "<br> {points: 1}\n",
    "\n",
    "Given what you observed above, and considering the real life scenario where you only have the resources to take one sample, answer the true or false question below: \n",
    "\n",
    "True or false?\n",
    "\n",
    "The smaller your random sample, the better your point estimate reflects the true population quantity you are trying to estimate. \n",
    "\n",
    "_Assign your answer to an object called `answer2.5`. Your answer should be either \"true\" or \"false\", surrounded by quotes._"
   ]
  },
  {
   "cell_type": "code",
   "execution_count": null,
   "metadata": {
    "deletable": false,
    "nbgrader": {
     "cell_type": "code",
     "checksum": "58c4b297c4bfe6dc8dc1a8f5039c7e6b",
     "grade": false,
     "grade_id": "cell-59003042d3f3f156",
     "locked": false,
     "schema_version": 3,
     "solution": true,
     "task": false
    }
   },
   "outputs": [],
   "source": [
    "# answer2.5 <- ...\n",
    "\n",
    "# your code here\n",
    "fail() # No Answer - remove if you provide an answer"
   ]
  },
  {
   "cell_type": "code",
   "execution_count": null,
   "metadata": {
    "deletable": false,
    "editable": false,
    "nbgrader": {
     "cell_type": "code",
     "checksum": "47d795317eb887deabb20b006064cff3",
     "grade": true,
     "grade_id": "cell-b9ef4e1a5bcb5bb9",
     "locked": true,
     "points": 1,
     "schema_version": 3,
     "solution": false,
     "task": false
    }
   },
   "outputs": [],
   "source": [
    "test_2.5()"
   ]
  },
  {
   "cell_type": "markdown",
   "metadata": {
    "deletable": false,
    "editable": false,
    "nbgrader": {
     "cell_type": "markdown",
     "checksum": "327be4695fa15db7f9dd01565beb3126",
     "grade": false,
     "grade_id": "cell-6a821d5a140ea1cf",
     "locked": true,
     "schema_version": 3,
     "solution": false,
     "task": false
    }
   },
   "source": [
    "## 3. Mathematical models and approximations\n",
    "\n",
    "In many situations, there are alternatives to bootstrapping to study sampling distributions. These methods rely on mathematical models and approximations. This week, we will examine two significant results in probability and a vital probability distribution, namely Normal distribution."
   ]
  },
  {
   "cell_type": "markdown",
   "metadata": {
    "deletable": false,
    "editable": false,
    "nbgrader": {
     "cell_type": "markdown",
     "checksum": "ce03351056806c88e146d4ac93818244",
     "grade": false,
     "grade_id": "cell-36e90cb3decead6d",
     "locked": true,
     "schema_version": 3,
     "solution": false,
     "task": false
    }
   },
   "source": [
    "### 3.1 Law of Large Numbers\n",
    "\n",
    "What happens with the sample average when the sample size increases? In this section, we will try to answer this question."
   ]
  },
  {
   "cell_type": "markdown",
   "metadata": {
    "deletable": false,
    "editable": false,
    "nbgrader": {
     "cell_type": "markdown",
     "checksum": "ae9db46567556aa2794c3ccf1716ebb5",
     "grade": false,
     "grade_id": "cell-f0e36df95cc1ef6d",
     "locked": true,
     "schema_version": 3,
     "solution": false,
     "task": false
    }
   },
   "source": [
    "**Question 3.1.1**\n",
    "<br> {points: 1}\n",
    "\n",
    "In this exercise, you will study what happens with the sample mean when the sample size increases. We will consider three populations with very different distributions, namely, `pop1`, `pop2`, and `pop3`. Their histograms are plotted by the cell below. "
   ]
  },
  {
   "cell_type": "code",
   "execution_count": null,
   "metadata": {
    "deletable": false,
    "editable": false,
    "nbgrader": {
     "cell_type": "code",
     "checksum": "1dc293196fa8b9ef2b0a14a935cde4c0",
     "grade": false,
     "grade_id": "cell-035afb3aa80a1380",
     "locked": true,
     "schema_version": 3,
     "solution": false,
     "task": false
    }
   },
   "outputs": [],
   "source": [
    "# Run this cell before continuing.\n",
    "options(repr.plot.width = 18, repr.plot.height = 8)\n",
    "\n",
    "N <- 10e5 # pop size\n",
    "pops <- \n",
    "    tibble(pop1 = rnorm(N, 5, 4),\n",
    "           pop2 = rexp(N, 1/3),\n",
    "           pop3 = rnorm(N, rbinom(N,1,0.7)*15, 3)) %>% \n",
    "    pivot_longer(cols = starts_with('pop'), names_to = 'pop')\n",
    "\n",
    "pops_plot <- \n",
    "    pops %>% \n",
    "    ggplot() + \n",
    "    geom_histogram(aes(value, fill=pop), color='white', binwidth = 1) + \n",
    "    facet_wrap(~pop, scales = \"free\") +\n",
    "    theme(text = element_text(size=25)) \n",
    "\n",
    "pops_plot"
   ]
  },
  {
   "cell_type": "markdown",
   "metadata": {
    "deletable": false,
    "editable": false,
    "nbgrader": {
     "cell_type": "markdown",
     "checksum": "e1659a14df9ef0c690f65e290328e1fa",
     "grade": false,
     "grade_id": "cell-ea0420915cd98524",
     "locked": true,
     "schema_version": 3,
     "solution": false,
     "task": false
    }
   },
   "source": [
    "To check how the sample mean changes as the sample size increases, we will examine 5 replicates from each population with samples ranging in size from 5 to 5000 elements. To do this, we will sample 5 replicates of size 5000 and calculate the sample mean when we include only the first 5 randomly selected elements (as if we sampled 5 replicates of size 5), then include another random element and calculate the sample mean (as if we sampled 5 replicates of size 6), and so on, all the way up to a sample size of 5000. We will do this process for each population. The code has already been written for you in the cell below."
   ]
  },
  {
   "cell_type": "code",
   "execution_count": null,
   "metadata": {
    "deletable": false,
    "editable": false,
    "nbgrader": {
     "cell_type": "code",
     "checksum": "179874ede256311893d04eb08a167c24",
     "grade": false,
     "grade_id": "cell-89e4f303b3e47159",
     "locked": true,
     "schema_version": 3,
     "solution": false,
     "task": false
    }
   },
   "outputs": [],
   "source": [
    "set.seed(7812653)\n",
    "law_large_numbers <- \n",
    "    pops %>% \n",
    "    group_by(pop) %>% \n",
    "    group_modify(~rep_sample_n(.x, size = 5000, reps = 5)) %>%\n",
    "    group_by(pop, replicate) %>% \n",
    "    mutate(sample_size = row_number(), mean = cummean(value), replicate = as_factor(replicate)) %>% \n",
    "    filter(sample_size > 5)\n",
    "\n",
    "# Let's take a peek at the first 2 rows of each replicate for each population\n",
    "law_large_numbers %>% slice_head(n = 2)\n",
    "# Let's take a peek at the last 2 rows of each replicate for each population\n",
    "law_large_numbers %>% slice_tail(n = 2)"
   ]
  },
  {
   "cell_type": "markdown",
   "metadata": {
    "deletable": false,
    "editable": false,
    "nbgrader": {
     "cell_type": "markdown",
     "checksum": "5752ba294d8a6adc3a5939a9c7da6025",
     "grade": false,
     "grade_id": "cell-9c3f390a8d9c1b60",
     "locked": true,
     "schema_version": 3,
     "solution": false,
     "task": false
    }
   },
   "source": [
    "We now have all the data that we need, but we cannot make sense of it in a data frame. Your job is to plot this data using `geom_line`, for each population and each replication, how the mean is changing as the sample size increase. The scaffolding below was written to assist you. \n",
    "```r\n",
    "law_large_numbers_plot <- \n",
    "    law_large_numbers %>% \n",
    "    ggplot() + \n",
    "    geom_line(aes(x = ..., y = ..., color = replicate), alpha=.75) +\n",
    "    xlab(...) + # What is the xlab?\n",
    "    ylab(...) + # What is the ylab?\n",
    "    geom_hline(data = tibble(pop=c(\"pop1\", 'pop2', 'pop3'), true_mean=c(5, 3, 0.7*15)),\n",
    "               aes(yintercept = true_mean)) +                \n",
    "    facet_wrap(~pop, scales=\"free\", nrow = 1) +\n",
    "    ggtitle(\"Sample mean for different sample sizes and population distribution (black line is the population mean)\") + \n",
    "    theme(text = element_text(size=20))\n",
    "```\n",
    "\n",
    "\n",
    "_Assign your plot to an object called `law_large_numbers_plot`._"
   ]
  },
  {
   "cell_type": "code",
   "execution_count": null,
   "metadata": {
    "deletable": false,
    "nbgrader": {
     "cell_type": "code",
     "checksum": "fb96632101c73ff0ed1c84276d430d73",
     "grade": false,
     "grade_id": "cell-ec680fc8f270ccc0",
     "locked": false,
     "schema_version": 3,
     "solution": true,
     "task": false
    }
   },
   "outputs": [],
   "source": [
    "set.seed(54652) # Do not change this.\n",
    "\n",
    "# your code here\n",
    "fail() # No Answer - remove if you provide an answer\n",
    "\n",
    "law_large_numbers_plot"
   ]
  },
  {
   "cell_type": "code",
   "execution_count": null,
   "metadata": {
    "deletable": false,
    "editable": false,
    "nbgrader": {
     "cell_type": "code",
     "checksum": "c920731b0e320a3ed2cd0a6823484fa6",
     "grade": true,
     "grade_id": "cell-d5fe1eb294e778be",
     "locked": true,
     "points": 1,
     "schema_version": 3,
     "solution": false,
     "task": false
    }
   },
   "outputs": [],
   "source": [
    "test_3.1.1()"
   ]
  },
  {
   "cell_type": "markdown",
   "metadata": {
    "deletable": false,
    "editable": false,
    "nbgrader": {
     "cell_type": "markdown",
     "checksum": "cf302290b9e16ce7f87f36b7cf3f252a",
     "grade": false,
     "grade_id": "cell-a24a263cf963057d",
     "locked": true,
     "schema_version": 3,
     "solution": false,
     "task": false
    }
   },
   "source": [
    "**Question 3.1.2**\n",
    "<br>{points: 1}\n",
    "\n",
    "Considering the effects of increasing the sample size has on the sample mean, which of the statements below is **not** true:\n",
    "\n",
    "A. By increasing the sample size, the sampling distribution becomes narrower.\n",
    "\n",
    "B. By sufficiently increasing the sample size, it is possible to <em><u>guarantee</u></em> (with probability 1!) that the sample mean is as close as we want from the population mean, regardless of the population distribution. \n",
    "\n",
    "C. By increasing the sample size, the centre of the sampling distribution becomes closer and closer to the true mean.\n",
    "\n",
    "D. For any given sample size, the population distribution affects how much the sample mean varies.\n",
    "\n",
    "_Assign your answer to an object called `answer3.1.2`. Your answer should be a single character surrounded by quotes._"
   ]
  },
  {
   "cell_type": "code",
   "execution_count": null,
   "metadata": {
    "deletable": false,
    "nbgrader": {
     "cell_type": "code",
     "checksum": "20025d53bbbee5aaace166574bfeeb24",
     "grade": false,
     "grade_id": "cell-3c42bc3a34d43f7a",
     "locked": false,
     "schema_version": 3,
     "solution": true,
     "task": false
    }
   },
   "outputs": [],
   "source": [
    "# answer3.1.2 <- ...\n",
    "\n",
    "# your code here\n",
    "fail() # No Answer - remove if you provide an answer"
   ]
  },
  {
   "cell_type": "code",
   "execution_count": null,
   "metadata": {
    "deletable": false,
    "editable": false,
    "nbgrader": {
     "cell_type": "code",
     "checksum": "4b6fc6cc9a2c20c5fd6c53a0d0551e09",
     "grade": true,
     "grade_id": "cell-848733e0f2a32869",
     "locked": true,
     "points": 1,
     "schema_version": 3,
     "solution": false,
     "task": false
    }
   },
   "outputs": [],
   "source": [
    "test_3.1.2()"
   ]
  },
  {
   "cell_type": "markdown",
   "metadata": {
    "deletable": false,
    "editable": false,
    "nbgrader": {
     "cell_type": "markdown",
     "checksum": "d314d4dcc3aec9fe89bc95acc6ac8422",
     "grade": false,
     "grade_id": "cell-c81e15eeb16e483d",
     "locked": true,
     "schema_version": 3,
     "solution": false,
     "task": false
    }
   },
   "source": [
    "## 3.2 Normal (also known as Gaussian) distribution\n",
    "\n",
    "By plotting the histogram of a population, we can check the population distribution. The population distribution is a key part of statistical inference, mainly because it affects the estimator's sampling distribution. So far in the course, we haven't made any assumptions about the population distribution. Instead, to study the sampling distribution, we used bootstrapping. \n",
    "\n",
    "In many situations, however, it is reasonable to approximate the exact population distribution, which is unknown, by a theoretical probability distribution. You can think of it as having the formula to approximate the histogram of the population distribution. In fact, you might see people referring to probability distributions as a population.\n",
    "\n",
    "There is one probability distribution that is especially important: the Normal distribution. Besides being very common in practice (i.e., it is a good model to be applied in a broad range of problems), the Central Limit Theorem (you will study next section) makes the Normal distribution a fundamental part of Statistics.\n",
    "\n",
    "In this section, you are going to study the Normal distribution.\n"
   ]
  },
  {
   "cell_type": "markdown",
   "metadata": {
    "deletable": false,
    "editable": false,
    "nbgrader": {
     "cell_type": "markdown",
     "checksum": "fc7d430d167ca4e9f9c57dfddc5cef84",
     "grade": false,
     "grade_id": "cell-0ca57062cfdbf5e3",
     "locked": true,
     "schema_version": 3,
     "solution": false,
     "task": false
    }
   },
   "source": [
    "**Question 3.2.1**\n",
    "<br> {points: 1}\n",
    "\n",
    "For this exercise, we are going to use the wings' length of houseflies (made available by [Fs Lab](https://fslab.org/datasets/04_HouseflyWingLength.html) and  [Seattle Central College](https://seattlecentral.edu) from [this paper](https://academic-oup-com.ezproxy.library.ubc.ca/aesa/article-abstract/48/6/499/26366?redirectedFrom=fulltext) -- we have the code to download it for you in the cell below). Naturally, this is not the population; however, let us consider this as our population for the sake of discussion. Your job is to fill in the scaffolding below to plot the population distribution. Make sure you don't change the binwidth.\n",
    "\n",
    "```r\n",
    "pop_dist_flies <- \n",
    "    houseflies %>% \n",
    "    ...() + \n",
    "    ...(aes(x = ..., y = ..density..), color = 'white', binwidth = 0.198)+\n",
    "    theme(text = element_text(size=25)) +\n",
    "    xlab(...) +\n",
    "    ylab(...) + \n",
    "    ggtitle(...)\n",
    "    \n",
    "```\n",
    "\n",
    "_Assign your plot to an object called `pop_dist_flies`._"
   ]
  },
  {
   "cell_type": "code",
   "execution_count": null,
   "metadata": {
    "deletable": false,
    "editable": false,
    "nbgrader": {
     "cell_type": "code",
     "checksum": "280f4157007e6fb538424688e5d10b23",
     "grade": false,
     "grade_id": "cell-25bba1571e6909c7",
     "locked": true,
     "schema_version": 3,
     "solution": false,
     "task": false
    }
   },
   "outputs": [],
   "source": [
    "# Run this cell before continuing.\n",
    "houseflies <- \n",
    "    read_table(\"data/HouseflyWingLength.txt\", col_names = 'wings_length') %>% \n",
    "    mutate(wings_length = wings_length/10)\n",
    "\n",
    "pop_mu = 4.55  # Ignore this for now.\n",
    "pop_sd = 0.391964747951093 # Ignore this for now."
   ]
  },
  {
   "cell_type": "code",
   "execution_count": null,
   "metadata": {
    "deletable": false,
    "nbgrader": {
     "cell_type": "code",
     "checksum": "132c477427f3b8af011ff1fd92cd18e1",
     "grade": false,
     "grade_id": "cell-faf6d109f0c7530e",
     "locked": false,
     "schema_version": 3,
     "solution": true,
     "task": false
    }
   },
   "outputs": [],
   "source": [
    "# your code here\n",
    "fail() # No Answer - remove if you provide an answer\n",
    "\n",
    "pop_dist_flies"
   ]
  },
  {
   "cell_type": "code",
   "execution_count": null,
   "metadata": {
    "deletable": false,
    "editable": false,
    "nbgrader": {
     "cell_type": "code",
     "checksum": "ef949dcb6959e9bc89d70afd52873c97",
     "grade": true,
     "grade_id": "cell-a6716b58caa6fbb7",
     "locked": true,
     "points": 1,
     "schema_version": 3,
     "solution": false,
     "task": false
    }
   },
   "outputs": [],
   "source": [
    "test_3.2.1()"
   ]
  },
  {
   "cell_type": "markdown",
   "metadata": {
    "deletable": false,
    "editable": false,
    "nbgrader": {
     "cell_type": "markdown",
     "checksum": "a2559ece8c7a69090ba6eaf2e4099f70",
     "grade": false,
     "grade_id": "cell-edda07aa4aba1779",
     "locked": true,
     "schema_version": 3,
     "solution": false,
     "task": false
    }
   },
   "source": [
    "**Question 3.2.2**\n",
    "<br> {points: 1}\n",
    "\n",
    "In this exercise, you will check the shape of the Normal distribution and compare it with the histogram of the population distribution. In the cell below, we prepared a `tibble` for you with the values of the Normal density (i.e., the formula that will approximate the population distribution). Your job is to fill in the scaffolding below to add the  Normal density to the population histogram you obtained in the previous exercise.\n",
    "\n",
    "```r\n",
    "pop_dist_normal <- \n",
    "    pop_dist_flies + \n",
    "    geom_line(data = ..., aes(..., ...), color=\"red\", lwd = 2)\n",
    "\n",
    "```\n",
    "\n",
    "_Assign your plot to an object called `pop_dist_normal`._"
   ]
  },
  {
   "cell_type": "code",
   "execution_count": null,
   "metadata": {
    "deletable": false,
    "editable": false,
    "nbgrader": {
     "cell_type": "code",
     "checksum": "79d4cb88c95654ccacb4ee29d9e00437",
     "grade": false,
     "grade_id": "cell-f74729124cb0c797",
     "locked": true,
     "schema_version": 3,
     "solution": false,
     "task": false
    }
   },
   "outputs": [],
   "source": [
    "# Run this cell before continuing\n",
    "data_normal <- tibble(wings_length=seq(min(houseflies$wings_length), \n",
    "                                             max(houseflies$wings_length),0.01), \n",
    "                      density = dnorm(wings_length, pop_mu, pop_sd))\n",
    "head(data_normal)"
   ]
  },
  {
   "cell_type": "code",
   "execution_count": null,
   "metadata": {
    "deletable": false,
    "nbgrader": {
     "cell_type": "code",
     "checksum": "7bfa2b5f0608cc130a097296f5242d9f",
     "grade": false,
     "grade_id": "cell-c649964ee96a698d",
     "locked": false,
     "schema_version": 3,
     "solution": true,
     "task": false
    }
   },
   "outputs": [],
   "source": [
    "# your code here\n",
    "fail() # No Answer - remove if you provide an answer\n",
    "\n",
    "pop_dist_normal"
   ]
  },
  {
   "cell_type": "code",
   "execution_count": null,
   "metadata": {
    "deletable": false,
    "editable": false,
    "nbgrader": {
     "cell_type": "code",
     "checksum": "590239f3a43297f785832103dc6b90d1",
     "grade": true,
     "grade_id": "cell-f4f517593800f9c2",
     "locked": true,
     "points": 1,
     "schema_version": 3,
     "solution": false,
     "task": false
    }
   },
   "outputs": [],
   "source": [
    "test_3.2.2()"
   ]
  },
  {
   "cell_type": "markdown",
   "metadata": {},
   "source": [
    "**What do you think? Is the Normal distribution a good approximation for the population distribution?**"
   ]
  },
  {
   "cell_type": "markdown",
   "metadata": {
    "deletable": false,
    "editable": false,
    "nbgrader": {
     "cell_type": "markdown",
     "checksum": "1c63c053993696a3b1049d0d034cc5c6",
     "grade": false,
     "grade_id": "cell-431f2a7f161d4a64",
     "locked": true,
     "schema_version": 3,
     "solution": false,
     "task": false
    }
   },
   "source": [
    "**Question 3.2.3**\n",
    "<br>{points: 1}\n",
    "\n",
    "The Normal distribution family is indexed by two parameters $\\mu$ (read *mu*) and $\\sigma$ (read *sigma*). In this exercise, your job is to investigate how changing $\\mu$, and $\\sigma$ affects the Normal density. To help you investigate the role of the parameters, we prepared a function that will return the `data_normal` tibble with the parameters you specified. Then, you can plot the new curve. The scaffolding below will also include the Normal curve with parameter *mu* = 0 and *sigma* = 1, which is called the Standard Normal curve. Try different values for $mu$ and $sigma$ (note: $\\sigma$ must be a positive number, but $\\mu$ can be anything). \n",
    "\n",
    "After you investigate the role of the parameters, select the statements below that are true (select all that apply): \n",
    "\n",
    "A. The parameter $\\mu$ controls how wide the curve is, while the parameter $\\sigma$ controls its location.\n",
    "\n",
    "B. The parameter $\\mu$ controls the location of the curve, while the parameter $\\sigma$ controls its spread.\n",
    "\n",
    "C. As $\\mu$ increases, the Normal curve becomes narrower. \n",
    "\n",
    "D. As $\\sigma$ increases, the Normal curve becomes wider. \n",
    "\n",
    "_Assign your answer to an object called `answer3.2.3`. Your answer should all selected letters above surrounded by quotes (e.g., a possible solution is `\"ABCD\"`)._"
   ]
  },
  {
   "cell_type": "code",
   "execution_count": null,
   "metadata": {
    "deletable": false,
    "editable": false,
    "nbgrader": {
     "cell_type": "code",
     "checksum": "58e7f6a67374c7e93dc660c5879f670d",
     "grade": false,
     "grade_id": "cell-9f4d01f957bb90f0",
     "locked": true,
     "schema_version": 3,
     "solution": false,
     "task": false
    }
   },
   "outputs": [],
   "source": [
    "# Run this before continuing\n",
    "\n",
    "#' Generate the data_normal tibble for a given mu and sigma of your choice\n",
    "#'\n",
    "#' @param mu The desired mu value you want (it can be anything).\n",
    "#' @param sigma The desired sigma value you want (it must be higher than 0)\n",
    "#' @return Returns the data_normal tibble with two columns: wings_length and density.\n",
    "create_data_normal <- function(mu, sigma){\n",
    "    return(tibble(x = seq(mu - 4 * sigma, mu + 4 * sigma, 0.01), \n",
    "                  density = dnorm(x, mu, sigma)))\n",
    "}"
   ]
  },
  {
   "cell_type": "code",
   "execution_count": null,
   "metadata": {},
   "outputs": [],
   "source": [
    "# Use this cell for your experiments (uncomment the lines below)\n",
    "\n",
    "#    ggplot() + \n",
    "#    geom_line(data = create_data_normal(mu = 0, sigma = 1), aes(x, density), color = \"black\", lwd = 2) + \n",
    "#    geom_line(data = create_data_normal(mu = ..., sigma = ...), aes(x, density), color = \"red\", lwd = 2)\n"
   ]
  },
  {
   "cell_type": "code",
   "execution_count": null,
   "metadata": {
    "deletable": false,
    "nbgrader": {
     "cell_type": "code",
     "checksum": "348b89df4537b270649a5238d6831989",
     "grade": false,
     "grade_id": "cell-545f94b657a2964a",
     "locked": false,
     "schema_version": 3,
     "solution": true,
     "task": false
    }
   },
   "outputs": [],
   "source": [
    "# Your solution here:\n",
    "# answer3.2.3 <- ...\n",
    "\n",
    "# your code here\n",
    "fail() # No Answer - remove if you provide an answer"
   ]
  },
  {
   "cell_type": "code",
   "execution_count": null,
   "metadata": {
    "deletable": false,
    "editable": false,
    "nbgrader": {
     "cell_type": "code",
     "checksum": "67123587c886e8700fc806e0bbb52300",
     "grade": true,
     "grade_id": "cell-f1bd84df4a2af0ba",
     "locked": true,
     "points": 1,
     "schema_version": 3,
     "solution": false,
     "task": false
    }
   },
   "outputs": [],
   "source": [
    "test_3.2.3()"
   ]
  },
  {
   "cell_type": "markdown",
   "metadata": {
    "deletable": false,
    "editable": false,
    "nbgrader": {
     "cell_type": "markdown",
     "checksum": "03d10e43c305ec485603429390554ff1",
     "grade": false,
     "grade_id": "cell-a37c0264a89c9f22",
     "locked": true,
     "schema_version": 3,
     "solution": false,
     "task": false
    }
   },
   "source": [
    "**Question 3.2.4** \n",
    "<br> {points: 1}\n",
    "\n",
    "The Normal distribution has an interesting property: regardless of the values of $\\mu$ and $\\sigma$, we have that:\n",
    "\n",
    "- Approximately 68% of the observations are between $[\\mu -\\sigma; \\mu+\\sigma]$.\n",
    "- Approximately 95.5% of the observations are between $[\\mu -2\\sigma; \\mu+2\\sigma]$.\n",
    "- Approximately 99.7% of the observations are between $[\\mu -3\\sigma; \\mu+3\\sigma]$.\n",
    "\n",
    "The cell below illustrate that for you.\n",
    "Again, these are valid for any value of $\\mu$ and $\\sigma$. \n",
    "\n",
    "In this exercise, you will calculate the proportion of houseflies that have wings between:\n",
    "\n",
    "- A. $[4.55 - 0.392; 4.55 + 0.392]$\n",
    "- B. $[4.55 - 2\\times0.392; 4.55 + 2\\times0.392]$\n",
    "- C. $[4.55 - 3\\times0.392; 4.55 + 3\\times0.392]$\n",
    "\n",
    "\n",
    "What do you think? Are these values similar to the theoretical values?\n",
    "\n",
    "_Assign your answers to objects called `answer3.2.4_partA`, `answer3.2.4_partB`, and `answer3.2.4_partC`. Your answer should be a single number._"
   ]
  },
  {
   "cell_type": "code",
   "execution_count": null,
   "metadata": {
    "deletable": false,
    "editable": false,
    "nbgrader": {
     "cell_type": "code",
     "checksum": "cc4b71d8dcdbee2befecb63e604cf038",
     "grade": false,
     "grade_id": "cell-880739d62c8d68b8",
     "locked": true,
     "schema_version": 3,
     "solution": false,
     "task": false
    }
   },
   "outputs": [],
   "source": [
    "# Run this cell to see the plots\n",
    "\n",
    "data_normal <- tibble(x = seq(-4, 4, 0.01), density = dnorm(x, 0, 1)) \n",
    "plots_normal <- list()\n",
    "pecentages <- c(\"68%\", \"95.5%\", \"99.7%\")\n",
    "for (i in 1:3){\n",
    "plots_normal[[i]] <- \n",
    "    data_normal %>% \n",
    "    ggplot() + \n",
    "    geom_line(aes(x, density), lwd=2) + \n",
    "    geom_ribbon(data=subset(data_normal, x>-i & x<i), \n",
    "                aes(x = x, ymax = density), ymin = 0, alpha = 0.3, fill = \"blue\") + \n",
    "    annotate(\"text\", x = 0, 0.18, label = pecentages[i], size = 15) +\n",
    "    scale_x_continuous(breaks = c(-3, -2, -1, 0, 1, 2, 3), labels = c(expression(paste(mu, \" - 3\", sigma)), expression(paste(mu, \" - 2\", sigma)), expression(paste(mu, \" - 1\", sigma)),\n",
    "                                                                      expression(mu),\n",
    "                                                                      expression(paste(mu, \" + 1\", sigma)), expression(paste(mu, \" + 2\", sigma)), expression(paste(mu, \" + 3\", sigma)))) +\n",
    "    theme(text = element_text(size=25))\n",
    "}\n",
    "do.call(\"grid.arrange\", c(plots_normal, ncol=1))"
   ]
  },
  {
   "cell_type": "code",
   "execution_count": null,
   "metadata": {
    "deletable": false,
    "nbgrader": {
     "cell_type": "code",
     "checksum": "bef6a75c494280063de2fa6783a5de85",
     "grade": false,
     "grade_id": "cell-7dd21ec3041464b4",
     "locked": false,
     "schema_version": 3,
     "solution": true,
     "task": false
    }
   },
   "outputs": [],
   "source": [
    "# mu <- ... # The mean of the \"population\"\n",
    "# sigma <- ... # The standard deviation of the \"population\" \n",
    "\n",
    "# (answer3.2.4_partA <- houseflies %>% filter(between(wings_length, left = ..., right = ...)) %>% nrow() / nrow(houseflies))\n",
    "# (answer3.2.4_partB <- ... )\n",
    "# (answer3.2.4_partC <- ... )\n",
    "\n",
    "# your code here\n",
    "fail() # No Answer - remove if you provide an answer"
   ]
  },
  {
   "cell_type": "code",
   "execution_count": null,
   "metadata": {
    "deletable": false,
    "editable": false,
    "nbgrader": {
     "cell_type": "code",
     "checksum": "7eb7e1a098551a97884f8ae2fe54aa5f",
     "grade": true,
     "grade_id": "cell-40a36a7faa6f08e2",
     "locked": true,
     "points": 1,
     "schema_version": 3,
     "solution": false,
     "task": false
    }
   },
   "outputs": [],
   "source": [
    "test_3.2.4()"
   ]
  },
  {
   "cell_type": "markdown",
   "metadata": {
    "deletable": false,
    "editable": false,
    "nbgrader": {
     "cell_type": "markdown",
     "checksum": "5a003791afcf6fe0a99eb1280eca7a49",
     "grade": false,
     "grade_id": "cell-61a1f0b2ffb30a62",
     "locked": true,
     "schema_version": 3,
     "solution": false,
     "task": false
    }
   },
   "source": [
    "**Question 2.2.5** \n",
    "<br> {points: 1}\n",
    "\n",
    "Knowing that the population approximately follows a Normal distribution allows us to find the formula for the sampling distribution of the sample mean. For example, for samples of size $16$ houseflies, we claim that the sampling distribution of the sample mean will follow a Normal distribution with parameters $\\mu_{\\bar{X}}=4.55$ and $\\sigma_{\\bar{X}} = \\frac{0.392}{4}.$ In this and the next  exercise, you are going to verify if this is (approximately) accurate. \n",
    "\n",
    "For this exercise, take 10000 samples of size 16, with replacement, from the `houseflies` data set.\n",
    "\n",
    "_Assign your data frame to an object called `samples_houseflies`. This data frame should have two columns: `replicate` and `wings_length`._\n"
   ]
  },
  {
   "cell_type": "code",
   "execution_count": null,
   "metadata": {
    "deletable": false,
    "nbgrader": {
     "cell_type": "code",
     "checksum": "e2b0455ad7880a0f597b1f5b8034be8b",
     "grade": false,
     "grade_id": "cell-70d8758d4a65e077",
     "locked": false,
     "schema_version": 3,
     "solution": true,
     "task": false
    }
   },
   "outputs": [],
   "source": [
    "set.seed(1)\n",
    "\n",
    "# your code here\n",
    "fail() # No Answer - remove if you provide an answer\n",
    "\n",
    "head(samples_houseflies)"
   ]
  },
  {
   "cell_type": "code",
   "execution_count": null,
   "metadata": {
    "deletable": false,
    "editable": false,
    "nbgrader": {
     "cell_type": "code",
     "checksum": "0b07d87a17c5ad974d30f304ff05bf6b",
     "grade": true,
     "grade_id": "cell-4187fd505b0eab90",
     "locked": true,
     "points": 1,
     "schema_version": 3,
     "solution": false,
     "task": false
    }
   },
   "outputs": [],
   "source": [
    "test_3.2.5()"
   ]
  },
  {
   "cell_type": "markdown",
   "metadata": {
    "deletable": false,
    "editable": false,
    "nbgrader": {
     "cell_type": "markdown",
     "checksum": "5abd1cf9e85e20f3afcaa4f3276f8de7",
     "grade": false,
     "grade_id": "cell-ced4368f9c784908",
     "locked": true,
     "schema_version": 3,
     "solution": false,
     "task": false
    }
   },
   "source": [
    "**Question 3.2.6**\n",
    "<br> {points: 1}\n",
    "\n",
    "For each of the samples, you obtained in the previous exercise, calculate the sample mean. Then, plot the histogram of all sample means you obtained and the line for the Normal density. You can use the scaffolding below. \n",
    "\n",
    "\n",
    "```r\n",
    "sampling_dist_mean_houseflies <-\n",
    "    samples_houseflies %>% \n",
    "    group_by(...) %>% \n",
    "    summarise(sample_mean = ...) %>% \n",
    "    ggplot() + \n",
    "    geom_histogram(aes(sample_mean, y = after_stat(density)), color='white', binwidth=.05) + \n",
    "    theme(text = element_text(size=25)) +\n",
    "    xlab(\"Mean houseflies' wing length (mm)\") + \n",
    "    ggtitle('Sampling distribution of the sample mean (n = 16)') +\n",
    "    geom_line(data = tibble(sample_mean = seq(3.5, 5.8, 0.01), \n",
    "                            density = dnorm(sample_mean, 4.55, 0.392/4)), \n",
    "                            aes(sample_mean, density), color = \"red\", lwd = 2) + \n",
    "    ggtitle(\"Sampling distribution of sample mean, for sample size n=16\")\n",
    "              \n",
    "```\n",
    "\n",
    "Take a look at the plot and think about if you would consider this a good approximation. Also, keep in mind that we got the approximation without any simulation, just using the fact that the population was approximately Normally distributed. \n",
    "\n",
    "_Assign your plot to an object called `sampling_dist_mean_houseflies`._"
   ]
  },
  {
   "cell_type": "code",
   "execution_count": null,
   "metadata": {
    "deletable": false,
    "nbgrader": {
     "cell_type": "code",
     "checksum": "0b78501e923675f380d1172dc46c82c5",
     "grade": false,
     "grade_id": "cell-fc87ed09ff8189f7",
     "locked": false,
     "schema_version": 3,
     "solution": true,
     "task": false
    }
   },
   "outputs": [],
   "source": [
    "# your code here\n",
    "fail() # No Answer - remove if you provide an answer\n",
    "\n",
    "sampling_dist_mean_houseflies"
   ]
  },
  {
   "cell_type": "code",
   "execution_count": null,
   "metadata": {
    "deletable": false,
    "editable": false,
    "nbgrader": {
     "cell_type": "code",
     "checksum": "70d1ddd392f9c227b981265531af17b0",
     "grade": true,
     "grade_id": "cell-5167819fb2a3ed68",
     "locked": true,
     "points": 1,
     "schema_version": 3,
     "solution": false,
     "task": false
    }
   },
   "outputs": [],
   "source": [
    "test_3.2.6()"
   ]
  },
  {
   "cell_type": "markdown",
   "metadata": {
    "deletable": false,
    "editable": false,
    "nbgrader": {
     "cell_type": "markdown",
     "checksum": "9c5e342c9d9a37e8c7a5c2f9c7483b24",
     "grade": false,
     "grade_id": "cell-884f6d530d5122a0",
     "locked": true,
     "schema_version": 3,
     "solution": false,
     "task": false
    }
   },
   "source": [
    "## 3.3 Central Limit Theorem (CLT)\n",
    "\n",
    "In many cases, the Normal distribution will not be a good approximation for the population distribution. So why are we studying the Normal distribution specifically? Because, luckily for us, there is a very strong result in probability, called the Central Limit Theorem, that allows us to approximate the sampling distribution of many estimators by a Normal distribution, even when the population distribution is not Normal.\n",
    "\n",
    "The Central Limit Theorem roughly states that if you are summing up a very large number of random terms, the distribution of this sum is approximately Normal. For example, when you calculate the sample mean, you are summing the elements of your sample; therefore, if your sample size is large, then the sampling distribution of the sample will be approximately Normal, *regardless of the population distribution*. \n",
    "\n",
    "Let us see the Central Limit Theorem in action. In the following exercises, we will study the sampling distribution of the sample mean, using different sample sizes from a peculiar population distribution, which is definitely not Gaussian. The cell below creates said population, stores it in an object named `weird_pop`, and plots its histogram (you do not need to worry about the code in the cell, you just need to run the cell).\n"
   ]
  },
  {
   "cell_type": "code",
   "execution_count": null,
   "metadata": {
    "deletable": false,
    "editable": false,
    "nbgrader": {
     "cell_type": "code",
     "checksum": "6622b98e8c8dc00c7fa6ec6d8b9621ba",
     "grade": false,
     "grade_id": "cell-ac717af5b8987ca1",
     "locked": true,
     "schema_version": 3,
     "solution": false,
     "task": false
    }
   },
   "outputs": [],
   "source": [
    "# Run this cell before continuing\n",
    "\n",
    "set.seed(1)\n",
    "N <- 10e5 # Pop size\n",
    "w <- rbinom(N, 1, 0.2) # Mixture weights\n",
    "\n",
    "# Creates the pop\n",
    "weird_pop <- \n",
    "    tibble(value = w*rnorm(N, rbinom(N,1,0.7)*15+5, 3) + (1-w)*rexp(N, 1) )\n",
    "\n",
    "# Creates the histogram of the weird_pop\n",
    "weird_pop_plot <-\n",
    "    weird_pop %>% \n",
    "    ggplot() + \n",
    "    geom_histogram(aes(x=value, y = after_stat(density)), bins=70, color = \"white\") +\n",
    "    theme(text = element_text(size=25)) +\n",
    "    ggtitle(\"Weird population distribution - definitely not Gaussian\")\n",
    "\n",
    "# Obtain the density for different values of n.\n",
    "mu <- mean(weird_pop$value)\n",
    "sigma <- sd(weird_pop$value)\n",
    "me <- 4*sigma\n",
    "\n",
    "gaussian_densities <- \n",
    "    tibble(sample_size = c(10, 30, 500), \n",
    "           grid = map(.x = sample_size, \n",
    "                      .f = ~tibble(value = seq(mu-me/sqrt(.x), mu+me/sqrt(.x), 0.01), \n",
    "                                   density = dnorm(value, mu, sigma/sqrt(.x))))) %>% \n",
    "    unnest(grid)\n",
    "\n",
    "# Plot the population distribution\n",
    "weird_pop_plot"
   ]
  },
  {
   "cell_type": "markdown",
   "metadata": {
    "deletable": false,
    "editable": false,
    "nbgrader": {
     "cell_type": "markdown",
     "checksum": "7c5bc9776ccaccecfbd8d39ef286796c",
     "grade": false,
     "grade_id": "cell-49956123d3cbe3eb",
     "locked": true,
     "schema_version": 3,
     "solution": false,
     "task": false
    }
   },
   "source": [
    "**Question 3.3.1** \n",
    "<br> {points: 1}\n",
    "\n",
    "For this exercise, your job is to take 3000 samples of size 10. The samples should be taken without replacement.\n",
    "\n",
    "_Assign your data frame to an object called `samples_size10`. The data frame should have two columns: `replicate` and `value`_"
   ]
  },
  {
   "cell_type": "code",
   "execution_count": null,
   "metadata": {
    "deletable": false,
    "nbgrader": {
     "cell_type": "code",
     "checksum": "ab0e184618f95ac94205af7ffbcaf5c4",
     "grade": false,
     "grade_id": "cell-eb22f151f85ef1a5",
     "locked": false,
     "schema_version": 3,
     "solution": true,
     "task": false
    }
   },
   "outputs": [],
   "source": [
    "set.seed(1) # do not change this\n",
    "\n",
    "# your code here\n",
    "fail() # No Answer - remove if you provide an answer\n",
    "\n",
    "head(samples_size10)"
   ]
  },
  {
   "cell_type": "code",
   "execution_count": null,
   "metadata": {
    "deletable": false,
    "editable": false,
    "nbgrader": {
     "cell_type": "code",
     "checksum": "ddbfd5eb732031840d27939af062eac3",
     "grade": true,
     "grade_id": "cell-f8e223339c8abc89",
     "locked": true,
     "points": 1,
     "schema_version": 3,
     "solution": false,
     "task": false
    }
   },
   "outputs": [],
   "source": [
    "test_3.3.1()"
   ]
  },
  {
   "cell_type": "markdown",
   "metadata": {
    "deletable": false,
    "editable": false,
    "nbgrader": {
     "cell_type": "markdown",
     "checksum": "17ee9a431e68e7c900b97f1abe2b4ccc",
     "grade": false,
     "grade_id": "cell-b16bd276be4cbf7d",
     "locked": true,
     "schema_version": 3,
     "solution": false,
     "task": false
    }
   },
   "source": [
    "**Question 3.3.2**\n",
    "<br> {points: 1}\n",
    "\n",
    "Fill in the scaffolding below to plot the sampling distribution of the sample mean versus the sampling distribution given by the CLT. Check how good the approximation is. \n",
    "\n",
    "```r\n",
    "sampling_dist_size10 <-\n",
    "    samples_size10 %>% \n",
    "    group_by(...) %>% \n",
    "    summarise(sample_mean = ..., `.groups` = \"drop\") %>% \n",
    "    ggplot() + \n",
    "    geom_histogram(aes(x=sample_mean, y = after_stat(density)), color = \"white\", binwidth = 0.2) +\n",
    "    theme(text = element_text(size=25))+\n",
    "    xlab(\"Sample mean\") +\n",
    "    ggtitle(\"Sampling distribution of the sample mean for samples of size 10 from Weird Population.\") + \n",
    "    geom_line(data = gaussian_densities %>% filter(sample_size == 10), aes(value, density), color = \"red\", lwd = 2)\n",
    "    \n",
    "```\n",
    "\n",
    "\n",
    "_Assign your plot to an object called `sampling_dist_size10`._"
   ]
  },
  {
   "cell_type": "code",
   "execution_count": null,
   "metadata": {
    "deletable": false,
    "nbgrader": {
     "cell_type": "code",
     "checksum": "b045331f8444ad09692b40c087a48d52",
     "grade": false,
     "grade_id": "cell-9aaea132e348653f",
     "locked": false,
     "schema_version": 3,
     "solution": true,
     "task": false
    }
   },
   "outputs": [],
   "source": [
    "# your code here\n",
    "fail() # No Answer - remove if you provide an answer\n",
    "\n",
    "sampling_dist_size10"
   ]
  },
  {
   "cell_type": "code",
   "execution_count": null,
   "metadata": {
    "deletable": false,
    "editable": false,
    "nbgrader": {
     "cell_type": "code",
     "checksum": "c67c80b572e33a133043745db3b59752",
     "grade": true,
     "grade_id": "cell-b559474135832cf4",
     "locked": true,
     "points": 1,
     "schema_version": 3,
     "solution": false,
     "task": false
    }
   },
   "outputs": [],
   "source": [
    "test_3.3.2()"
   ]
  },
  {
   "cell_type": "markdown",
   "metadata": {
    "deletable": false,
    "editable": false,
    "nbgrader": {
     "cell_type": "markdown",
     "checksum": "b4d8ed5a6423838ab9e1978fe932c5df",
     "grade": false,
     "grade_id": "cell-108c6e45ee91f66b",
     "locked": true,
     "schema_version": 3,
     "solution": false,
     "task": false
    }
   },
   "source": [
    "**Question 3.3.3** \n",
    "<br> {points: 1}\n",
    "\n",
    "Let us repeat Question 3.2.1, but this time using a much larger sample size. Take 3,000 samples of size 500 from weird_pop. The samples should be taken without replacement.\n",
    "\n",
    "_Assign your data frame to an object called `samples_size500`. The data frame should have two columns: `replicate` and `value`_"
   ]
  },
  {
   "cell_type": "code",
   "execution_count": null,
   "metadata": {
    "deletable": false,
    "nbgrader": {
     "cell_type": "code",
     "checksum": "27efc09300f579a19d794ef4fa45bbc8",
     "grade": false,
     "grade_id": "cell-3c2eee73a532a3f6",
     "locked": false,
     "schema_version": 3,
     "solution": true,
     "task": false
    }
   },
   "outputs": [],
   "source": [
    "set.seed(2) # Do not change this\n",
    "# your code here\n",
    "fail() # No Answer - remove if you provide an answer\n",
    "\n",
    "head(samples_size500)"
   ]
  },
  {
   "cell_type": "code",
   "execution_count": null,
   "metadata": {
    "deletable": false,
    "editable": false,
    "nbgrader": {
     "cell_type": "code",
     "checksum": "a069bd2bd15e767c9e0a5712f192e386",
     "grade": true,
     "grade_id": "cell-c520439e66efb478",
     "locked": true,
     "points": 1,
     "schema_version": 3,
     "solution": false,
     "task": false
    }
   },
   "outputs": [],
   "source": [
    "test_3.3.3()"
   ]
  },
  {
   "cell_type": "markdown",
   "metadata": {
    "deletable": false,
    "editable": false,
    "nbgrader": {
     "cell_type": "markdown",
     "checksum": "c41684432c3117f2e48a806bff4163d8",
     "grade": false,
     "grade_id": "cell-d724cfdbddaeff76",
     "locked": true,
     "schema_version": 3,
     "solution": false,
     "task": false
    }
   },
   "source": [
    "**Question 3.3.4**\n",
    "<br> {points: 1}\n",
    "\n",
    "Let's take a look at how the CLT approximate the sampling distribution of the sample mean when the sample size is 500. Fill in the scaffolding below to plot the sampling distribution of the sample mean versus the sampling distribution given by the CLT. Check how good the approximation is. \n",
    "\n",
    "```r\n",
    "sampling_dist_size500 <-\n",
    "    samples_size500 %>% \n",
    "    group_by(...) %>% \n",
    "    summarise(sample_mean = ..., `.groups` = \"drop\") %>% \n",
    "    ggplot() + \n",
    "    geom_histogram(aes(x = sample_mean, y = after_stat(density)), color=\"white\", binwidth = 0.2) +\n",
    "    theme(text = element_text(size = 25))+\n",
    "    xlab(\"Sample mean\") +\n",
    "    ggtitle(\"Sampling distribution of the sample mean for samples of size 500 from Weird Population.\") + \n",
    "    geom_line(data = gaussian_densities %>% filter(sample_size == 500), aes(value, density), color = \"red\", lwd = 2)\n",
    "    \n",
    "```\n",
    "\n",
    "_Assign your plot to an object called `sampling_dist_size500`._"
   ]
  },
  {
   "cell_type": "code",
   "execution_count": null,
   "metadata": {
    "deletable": false,
    "nbgrader": {
     "cell_type": "code",
     "checksum": "0e99f5071e57b5f0fac639100710eaaf",
     "grade": false,
     "grade_id": "cell-e642a588fc464317",
     "locked": false,
     "schema_version": 3,
     "solution": true,
     "task": false
    }
   },
   "outputs": [],
   "source": [
    "# your code here\n",
    "fail() # No Answer - remove if you provide an answer\n",
    "\n",
    "sampling_dist_size500"
   ]
  },
  {
   "cell_type": "code",
   "execution_count": null,
   "metadata": {
    "deletable": false,
    "editable": false,
    "nbgrader": {
     "cell_type": "code",
     "checksum": "f59bad196189a16fb5de8d0cc89f5012",
     "grade": true,
     "grade_id": "cell-681e18ef367913e8",
     "locked": true,
     "points": 1,
     "schema_version": 3,
     "solution": false,
     "task": false
    }
   },
   "outputs": [],
   "source": [
    "test_3.3.4()"
   ]
  },
  {
   "cell_type": "markdown",
   "metadata": {
    "deletable": false,
    "editable": false,
    "nbgrader": {
     "cell_type": "markdown",
     "checksum": "cd2e34c12bbd51a0942ccb60ab9efdd7",
     "grade": false,
     "grade_id": "cell-3e855ef129740e00",
     "locked": true,
     "schema_version": 3,
     "solution": false,
     "task": false
    }
   },
   "source": [
    "The cell below plots the two figures you created in the exercises above and includes the case where the sample size is 30, so you can compare how the approximation is improving as the sample size increases. "
   ]
  },
  {
   "cell_type": "code",
   "execution_count": null,
   "metadata": {
    "deletable": false,
    "editable": false,
    "nbgrader": {
     "cell_type": "code",
     "checksum": "d3d4a1614acf83a925edc2de6987e875",
     "grade": false,
     "grade_id": "cell-7fcc7a6da81af6bb",
     "locked": true,
     "schema_version": 3,
     "solution": false,
     "task": false
    }
   },
   "outputs": [],
   "source": [
    "# Run this cell before continuing. \n",
    "\n",
    "set.seed(13)\n",
    "\n",
    "all_samples <- \n",
    "    bind_rows(samples_size10 %>% mutate(sample_size = 10), \n",
    "              weird_pop %>% rep_sample_n(size = 30, reps = 3000) %>% mutate(sample_size = 30), \n",
    "              samples_size500 %>% mutate(sample_size = 500))\n",
    "\n",
    "all_samples %>% \n",
    "    group_by(sample_size, replicate) %>% \n",
    "    summarise(sample_mean = mean(value), `.groups` = \"drop\") %>% \n",
    "    select(-replicate) %>% \n",
    "    mutate(sample_size = as_factor(sample_size)) %>% \n",
    "    ggplot() +\n",
    "    facet_wrap(~sample_size, scale=\"free\") +\n",
    "    geom_histogram(aes(x = sample_mean, y = after_stat(density), fill = sample_size),\n",
    "                   color='white', \n",
    "                   binwidth = function(x) 2 * IQR(x) / (length(x)^(1/4)))+\n",
    "    theme(text = element_text(size=25)) +\n",
    "    ggtitle(\"Sampling distribution of the sample mean for different sample size (n)\") +\n",
    "    geom_line(data = gaussian_densities, aes(x = value, y = density), lwd=2) + \n",
    "    xlab(\"Sample mean\")\n"
   ]
  },
  {
   "cell_type": "markdown",
   "metadata": {
    "deletable": false,
    "editable": false,
    "nbgrader": {
     "cell_type": "markdown",
     "checksum": "d3e5adc90e693a484cad898bb2a8d8fe",
     "grade": false,
     "grade_id": "cell-2809aa3eb5fe6627",
     "locked": true,
     "schema_version": 3,
     "solution": false,
     "task": false
    }
   },
   "source": [
    "The question that remains, but it is very hard to answer, is: <em>what sample size is big enough?</em> There is no universal answer. The problem is, although it is true that (some) sampling distributions will converge to a Gaussian (i.e., Normal) distribution no matter what the population distribution looks like, the sample size required to have a good approximation will depend on the population distribution. In most cases, something between 30 or 50 should be enough. But the more different a population distribution is from the Normal distribution (e.g., having multiple peaks, being asymmetric, etc...), the larger the sample size required to have a good approximation. \n",
    "\n",
    "In the case of `weird_pop`, we can see that the approximation given by the CLT is quite poor for a sample of size 10. For a sample of size 500, the approximation is quite good. For a sample of size 30, CLT already provides a decent approximation; however, the approximation is not as good on the left tail if you look closely. "
   ]
  },
  {
   "cell_type": "markdown",
   "metadata": {
    "deletable": false,
    "editable": false,
    "nbgrader": {
     "cell_type": "markdown",
     "checksum": "7ffaf81eae4daeca97578288e845bc13",
     "grade": false,
     "grade_id": "cell-f08fb0d3ba460f03",
     "locked": true,
     "schema_version": 3,
     "solution": false,
     "task": false
    }
   },
   "source": [
    "### CLT is not always applicable\n",
    "\n",
    "It is important to notice that CLT is not magic -- you should not automatically rely on CLT. There are three main things you need to check:\n",
    "1. Is the size of your sample large enough? \n",
    "2. Was the sample taken in an independent fashion? \n",
    "3. Is the estimator being used a sum of random components? \n",
    "\n",
    "We have discussed the effects of the sample size in the previous exercises. Now, we will see an example of an estimator that is not a sum of random components, and therefore, you cannot use the CLT."
   ]
  },
  {
   "cell_type": "markdown",
   "metadata": {
    "deletable": false,
    "editable": false,
    "nbgrader": {
     "cell_type": "markdown",
     "checksum": "f0eb14c73dc1d7801a2aed1f06bec1d9",
     "grade": false,
     "grade_id": "cell-8fcaa9e7925f5136",
     "locked": true,
     "schema_version": 3,
     "solution": false,
     "task": false
    }
   },
   "source": [
    "**Question 3.3.5** \n",
    "<br> {points: 1}\n",
    "\n",
    "For this exercise, you are going to estimate the `minimum` of the population. To estimate the population minimum, we are going to use the sample minimum. Let us study the sampling distribution of the sample minimum. You have already drawn samples of different sizes. They are stored now in the object `all_samples`. Complete the scaffolding below to plot the sampling distribution of the sample minimum for different sample sizes. As the sample size increases, does the sampling distribution looks more like a Normal distribution?\n",
    "\n",
    "```r\n",
    "sampling_dist_min <- \n",
    "    all_samples %>% \n",
    "    group_by(..., ...) %>% \n",
    "    summarise(sample_min = ..., `.groups` = \"drop\") %>% \n",
    "    ggplot() +\n",
    "    geom_histogram(aes(x = sample_min, y = after_stat(density)), color=\"white\", binwidth = 0.2) +\n",
    "    facet_wrap(~sample_size, scales = \"free\") +\n",
    "    theme(text = element_text(size = 25)) + \n",
    "    ggtitle(\"Sampling distribution of sample minimum for different sample sizes\") +\n",
    "    xlab(\"Sample Minimum\")\n",
    "    \n",
    "```\n",
    "\n",
    "\n",
    "_Assign your plot to an object called `sampling_dist_min`._"
   ]
  },
  {
   "cell_type": "code",
   "execution_count": null,
   "metadata": {
    "deletable": false,
    "nbgrader": {
     "cell_type": "code",
     "checksum": "f6c51650e38b28b55797531daa010bfa",
     "grade": false,
     "grade_id": "cell-928f81ff98a4afae",
     "locked": false,
     "schema_version": 3,
     "solution": true,
     "task": false
    }
   },
   "outputs": [],
   "source": [
    "# your code here\n",
    "fail() # No Answer - remove if you provide an answer\n",
    "\n",
    "sampling_dist_min"
   ]
  },
  {
   "cell_type": "code",
   "execution_count": null,
   "metadata": {
    "deletable": false,
    "editable": false,
    "nbgrader": {
     "cell_type": "code",
     "checksum": "9f65abbe4d84158710017afd228eda8e",
     "grade": true,
     "grade_id": "cell-2ccfa455cfcbb93f",
     "locked": true,
     "points": 1,
     "schema_version": 3,
     "solution": false,
     "task": false
    }
   },
   "outputs": [],
   "source": [
    "test_3.3.5()"
   ]
  },
  {
   "cell_type": "markdown",
   "metadata": {
    "deletable": false,
    "editable": false,
    "nbgrader": {
     "cell_type": "markdown",
     "checksum": "57abf4717ff960c5cdeb766d1d528b05",
     "grade": false,
     "grade_id": "cell-40e6f2f40bcca5e7",
     "locked": true,
     "schema_version": 3,
     "solution": false,
     "task": false
    }
   },
   "source": [
    "### To summarise this section:\n",
    "\n",
    " - The Law of Large Numbers states that the sample mean converges (i.e., gets closer and closer) to the population mean when the sample size increases. \n",
    " - The CLT states that if we have an estimator that is a sum of random components (like the mean), then the sampling distribution of your estimator converges (i.e., gets more and more similar) to the Normal distribution.\n",
    " - The Normal distribution is very important in statistics and:\n",
    "     1. It is symmetric around the mean;\n",
    "     2. It has two parameters $\\mu$, which is the mean of the distribution (a location parameter) and $\\sigma$, which is the standard deviation of the distribution (a measure of spread)."
   ]
  }
 ],
 "metadata": {
  "docker": {
   "latest_image_tag": "v0.4.0"
  },
  "jupytext": {
   "formats": "ipynb,Rmd"
  },
  "kernelspec": {
   "display_name": "R",
   "language": "R",
   "name": "ir"
  },
  "language_info": {
   "codemirror_mode": "r",
   "file_extension": ".r",
   "mimetype": "text/x-r-source",
   "name": "R",
   "pygments_lexer": "r",
   "version": "4.3.3"
  }
 },
 "nbformat": 4,
 "nbformat_minor": 4
}
