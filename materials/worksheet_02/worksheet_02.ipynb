{
 "cells": [
  {
   "cell_type": "markdown",
   "metadata": {
    "deletable": false,
    "editable": false,
    "nbgrader": {
     "cell_type": "markdown",
     "checksum": "b8048018d0b5f3492feef1e82f9500a3",
     "grade": false,
     "grade_id": "cell-5d74e003204bdc7c",
     "locked": true,
     "schema_version": 3,
     "solution": false,
     "task": false
    }
   },
   "source": [
    "# Worksheet 2: Populations and Sampling"
   ]
  },
  {
   "cell_type": "markdown",
   "metadata": {
    "deletable": false,
    "editable": false,
    "nbgrader": {
     "cell_type": "markdown",
     "checksum": "d3ebe7ee3541875e1e0b63e32f655b13",
     "grade": false,
     "grade_id": "cell-6e0e5cd42c84f810",
     "locked": true,
     "schema_version": 3,
     "solution": false,
     "task": false
    }
   },
   "source": [
    "### Lecture and Tutorial Learning Goals\n",
    "After completing this week's lecture and tutorial work, you will be able to:\n",
    "\n",
    "1. Compare and contrast quantitative and categorical variables.\n",
    "2. Explain random and representative sampling and how this can influence estimation.\n",
    "3. Define random variables and explain how they relate to sampling.\n",
    "4. Define standard error and explain its purpose.\n",
    "5. Compare and contrast population distribution, sample distribution and an estimator's sampling distribution.\n",
    "6. Explain what a sampling distribution is, list its properties, and its purpose in statistical inference."
   ]
  },
  {
   "cell_type": "code",
   "execution_count": null,
   "metadata": {
    "deletable": false,
    "editable": false,
    "nbgrader": {
     "cell_type": "code",
     "checksum": "d05b4db0d9b060acbee092de2c1b59a5",
     "grade": false,
     "grade_id": "cell-cdfeee5b501a179d",
     "locked": true,
     "schema_version": 3,
     "solution": false,
     "task": false
    }
   },
   "outputs": [],
   "source": [
    "# Run this cell before continuing.\n",
    "library(cowplot)\n",
    "library(digest)\n",
    "library(gridExtra)\n",
    "library(infer)\n",
    "library(repr)\n",
    "library(taxyvr)\n",
    "library(tidyverse)\n",
    "source(\"tests_worksheet_02.R\")"
   ]
  },
  {
   "cell_type": "markdown",
   "metadata": {
    "deletable": false,
    "editable": false,
    "nbgrader": {
     "cell_type": "markdown",
     "checksum": "e044523119953a6519b491c3e61ba6fc",
     "grade": false,
     "grade_id": "cell-db6779330180eb83",
     "locked": true,
     "schema_version": 3,
     "solution": false,
     "task": false
    }
   },
   "source": [
    "## 1. Warm-Up Questions\n",
    "\n",
    "Before we get started, let's start with a few warm-up questions."
   ]
  },
  {
   "cell_type": "markdown",
   "metadata": {
    "deletable": false,
    "editable": false,
    "nbgrader": {
     "cell_type": "markdown",
     "checksum": "8286dd8db7ff83e5cf35fe5d954a91d0",
     "grade": false,
     "grade_id": "cell-eb586840fcc0dffb",
     "locked": true,
     "schema_version": 3,
     "solution": false,
     "task": false
    }
   },
   "source": [
    "**Question 1.0**\n",
    "<br>{points: 1}\n",
    "\n",
    "True or false?\n",
    "\n",
    "The distribution of a single sample will **always** have a similar shape to the population distribution.\n",
    "\n",
    "_Assign your answer to an object called `answer1.0`. Your answer should be either \"true\" or \"false\" surrounded by quotes._"
   ]
  },
  {
   "cell_type": "code",
   "execution_count": null,
   "metadata": {
    "deletable": false,
    "nbgrader": {
     "cell_type": "code",
     "checksum": "ed00bd1fc6fec11046aec3b1f2940dc3",
     "grade": false,
     "grade_id": "cell-29a9adf7e6ea149e",
     "locked": false,
     "schema_version": 3,
     "solution": true,
     "task": false
    }
   },
   "outputs": [],
   "source": [
    "# answer1.0 <- ...\n",
    "\n",
    "# your code here\n",
    "fail() # No Answer - remove if you provide an answer"
   ]
  },
  {
   "cell_type": "code",
   "execution_count": null,
   "metadata": {
    "deletable": false,
    "editable": false,
    "nbgrader": {
     "cell_type": "code",
     "checksum": "2c2cb1bda76d257326761e546c0b4710",
     "grade": true,
     "grade_id": "cell-939c12dc83d99156",
     "locked": true,
     "points": 1,
     "schema_version": 3,
     "solution": false,
     "task": false
    }
   },
   "outputs": [],
   "source": [
    "test_1.0()"
   ]
  },
  {
   "cell_type": "markdown",
   "metadata": {
    "deletable": false,
    "editable": false,
    "nbgrader": {
     "cell_type": "markdown",
     "checksum": "ce287a7e25820d4127377458baf6762d",
     "grade": false,
     "grade_id": "cell-97b86dec05432d87",
     "locked": true,
     "schema_version": 3,
     "solution": false,
     "task": false
    }
   },
   "source": [
    "**Question 1.1**\n",
    "<br>{points: 1}\n",
    "\n",
    "Which of the following variables is **not** an example of a quantitative variable?\n",
    "\n",
    "A. The number of red Skittles in a given package.\n",
    "\n",
    "B. The species of a tree.\n",
    "\n",
    "C. The age of a student in STAT 201.\n",
    "\n",
    "D. The weight of a newborn puppy.\n",
    "\n",
    "_Assign your answer to an object called `answer1.1`. Your answer should be a single character surrounded by quotes._"
   ]
  },
  {
   "cell_type": "code",
   "execution_count": null,
   "metadata": {
    "deletable": false,
    "nbgrader": {
     "cell_type": "code",
     "checksum": "fbf337d1fddf4a6d236791ec93768bad",
     "grade": false,
     "grade_id": "cell-49fc8e017bd917a9",
     "locked": false,
     "schema_version": 3,
     "solution": true,
     "task": false
    }
   },
   "outputs": [],
   "source": [
    "# answer1.1 <- ...\n",
    "\n",
    "# your code here\n",
    "fail() # No Answer - remove if you provide an answer"
   ]
  },
  {
   "cell_type": "code",
   "execution_count": null,
   "metadata": {
    "deletable": false,
    "editable": false,
    "nbgrader": {
     "cell_type": "code",
     "checksum": "cf5b7cedfdc6cab32f03d948309e3a14",
     "grade": true,
     "grade_id": "cell-0e1045f7c706859b",
     "locked": true,
     "points": 1,
     "schema_version": 3,
     "solution": false,
     "task": false
    }
   },
   "outputs": [],
   "source": [
    "test_1.1()"
   ]
  },
  {
   "cell_type": "markdown",
   "metadata": {
    "deletable": false,
    "editable": false,
    "nbgrader": {
     "cell_type": "markdown",
     "checksum": "fc3db99948f018fcc0eb0226c28e969d",
     "grade": false,
     "grade_id": "cell-62a8810743e4dc45",
     "locked": true,
     "schema_version": 3,
     "solution": false,
     "task": false
    }
   },
   "source": [
    "**Question 1.2**\n",
    "<br>{points: 1}\n",
    "\n",
    "We quantify the variation of the point estimates in a sampling distribution by using:\n",
    "\n",
    "A. The variance of the sampling distribution, which is called the standard variance.\n",
    "\n",
    "B. The variance of the sampling distribution, which is called the standard error.\n",
    "\n",
    "C. The square root of the variance of the sampling distribution, which is called the standard variance.\n",
    "\n",
    "D. The standard deviation of the sampling distribution, which is called the standard error.\n",
    "\n",
    "_Assign your answer to an object called `answer1.2`. Your answer should be a single character surrounded by quotes._"
   ]
  },
  {
   "cell_type": "code",
   "execution_count": null,
   "metadata": {
    "deletable": false,
    "nbgrader": {
     "cell_type": "code",
     "checksum": "0a06db5c506f15fc5710110207401e44",
     "grade": false,
     "grade_id": "cell-a54c534433b2173b",
     "locked": false,
     "schema_version": 3,
     "solution": true,
     "task": false
    }
   },
   "outputs": [],
   "source": [
    "# answer1.2 <- ...\n",
    "\n",
    "# your code here\n",
    "fail() # No Answer - remove if you provide an answer"
   ]
  },
  {
   "cell_type": "code",
   "execution_count": null,
   "metadata": {
    "deletable": false,
    "editable": false,
    "nbgrader": {
     "cell_type": "code",
     "checksum": "7d2708bfd74c494a76c5a827b2fedff8",
     "grade": true,
     "grade_id": "cell-440a7e90021f2c67",
     "locked": true,
     "points": 1,
     "schema_version": 3,
     "solution": false,
     "task": false
    }
   },
   "outputs": [],
   "source": [
    "test_1.2()"
   ]
  },
  {
   "cell_type": "markdown",
   "metadata": {
    "deletable": false,
    "editable": false,
    "nbgrader": {
     "cell_type": "markdown",
     "checksum": "d5512533c600ee804b65b837aac02de2",
     "grade": false,
     "grade_id": "cell-d08c340377094e97",
     "locked": true,
     "schema_version": 3,
     "solution": false,
     "task": false
    }
   },
   "source": [
    "## 2. Random Variables\n",
    "\n",
    "Since we are going to be working with populations and sampling quite extensively throughout this course, we are now going to introduce the concept of a random variable so we can describe them a bit more formally. First, let's answer a few general questions relating to random variables, and then we will connect them to our understanding of populations and sampling."
   ]
  },
  {
   "cell_type": "markdown",
   "metadata": {
    "deletable": false,
    "editable": false,
    "nbgrader": {
     "cell_type": "markdown",
     "checksum": "6e2976249a54a1ec5de6dcb675d93b9d",
     "grade": false,
     "grade_id": "cell-ade7bbe70c090c97",
     "locked": true,
     "schema_version": 3,
     "solution": false,
     "task": false
    }
   },
   "source": [
    "**Question 2.0**\n",
    "<br>{points: 1}\n",
    "\n",
    "Which of the following examples could **not** be described as a random variable?\n",
    "\n",
    "A. The number of windows in the Earth Sciences Building (ESB).\n",
    "\n",
    "B. The number of students in the Earth Sciences Building (ESB) in an hour from now.\n",
    "\n",
    "C. The result of rolling a 6-sided die.\n",
    "\n",
    "D. The result of a coin flip.\n",
    "\n",
    "_Assign your answer to an object called `answer2.0`. Your answer should be a single character surrounded by quotes._"
   ]
  },
  {
   "cell_type": "code",
   "execution_count": null,
   "metadata": {
    "deletable": false,
    "nbgrader": {
     "cell_type": "code",
     "checksum": "5ad7e0c6731408c2f84d414d642f7994",
     "grade": false,
     "grade_id": "cell-4745bddc088bf76e",
     "locked": false,
     "schema_version": 3,
     "solution": true,
     "task": false
    }
   },
   "outputs": [],
   "source": [
    "# answer2.0 <- ...\n",
    "\n",
    "# your code here\n",
    "fail() # No Answer - remove if you provide an answer"
   ]
  },
  {
   "cell_type": "code",
   "execution_count": null,
   "metadata": {
    "deletable": false,
    "editable": false,
    "nbgrader": {
     "cell_type": "code",
     "checksum": "79c6bc611585eba502dda7233848df9b",
     "grade": true,
     "grade_id": "cell-85e877f0379142a5",
     "locked": true,
     "points": 1,
     "schema_version": 3,
     "solution": false,
     "task": false
    }
   },
   "outputs": [],
   "source": [
    "test_2.0()"
   ]
  },
  {
   "cell_type": "markdown",
   "metadata": {
    "deletable": false,
    "editable": false,
    "nbgrader": {
     "cell_type": "markdown",
     "checksum": "a3d05d5355d3bd5247056c510e9f180c",
     "grade": false,
     "grade_id": "cell-52669c282a889350",
     "locked": true,
     "schema_version": 3,
     "solution": false,
     "task": false
    }
   },
   "source": [
    "_Use the following information to answer the **next 2 questions**._\n",
    "\n",
    "Consider the population of cars owned by UBC students and assume there are exactly $3000$ of these cars. Suppose we had access to up-to-date data for the age (in years, rounded down to the nearest integer), horsepower (HP), and the number of doors for each of the $3000$ cars (we have access to data for the entire population). The first few rows of the data frame representing the population might look something like this\n",
    "\n",
    "\n",
    "| age | horsepower | doors |\n",
    "|-----|------------|-------|\n",
    "| 7   | 127        | 4     |\n",
    "| 9   | 310        | 4     |\n",
    "| 5   | 140        | 2     |\n",
    "| 5   | 132        | 2     |\n",
    "| ... | ...        | ...   |\n",
    "\n",
    "with $2996$ more rows."
   ]
  },
  {
   "cell_type": "markdown",
   "metadata": {
    "deletable": false,
    "editable": false,
    "nbgrader": {
     "cell_type": "markdown",
     "checksum": "cffff0f0860ba96a2a8031d50373b6b1",
     "grade": false,
     "grade_id": "cell-4a62cb59552694c2",
     "locked": true,
     "schema_version": 3,
     "solution": false,
     "task": false
    }
   },
   "source": [
    "**Question 2.1**\n",
    "<br>{points: 1}\n",
    "\n",
    "Convince yourself that the age of a single UBC student's car is a random variable (the distribution of the random variable can be visualized as a histogram of all of the car ages in the population). Call it $X$. Which of the following statements best describes the meaning of the `age` column of the data frame in relation to the random variable $X$?\n",
    "\n",
    "A. The `age` column is an outcome of $X$.\n",
    "\n",
    "B. The `age` column is a sample of $3000$ different outcomes of $X$.\n",
    "\n",
    "C. The `age` column is the collection of all possible outcomes of $X$.\n",
    "\n",
    "_Assign your answer to an object called `answer2.1`. Your answer should be a single character surrounded by quotes._"
   ]
  },
  {
   "cell_type": "code",
   "execution_count": null,
   "metadata": {
    "deletable": false,
    "nbgrader": {
     "cell_type": "code",
     "checksum": "1a1f9c33c584751752b0ead761f4545d",
     "grade": false,
     "grade_id": "cell-9881d6f54de83c12",
     "locked": false,
     "schema_version": 3,
     "solution": true,
     "task": false
    }
   },
   "outputs": [],
   "source": [
    "# answer2.1 <- ...\n",
    "\n",
    "# your code here\n",
    "fail() # No Answer - remove if you provide an answer"
   ]
  },
  {
   "cell_type": "code",
   "execution_count": null,
   "metadata": {
    "deletable": false,
    "editable": false,
    "nbgrader": {
     "cell_type": "code",
     "checksum": "d36889d772ac0a8d2cbccc1bfccdba3e",
     "grade": true,
     "grade_id": "cell-8d8fbbbba420afb9",
     "locked": true,
     "points": 1,
     "schema_version": 3,
     "solution": false,
     "task": false
    }
   },
   "outputs": [],
   "source": [
    "test_2.1()"
   ]
  },
  {
   "cell_type": "markdown",
   "metadata": {
    "deletable": false,
    "editable": false,
    "nbgrader": {
     "cell_type": "markdown",
     "checksum": "3f19bba3472cbbb084165e13c00dcfa9",
     "grade": false,
     "grade_id": "cell-af84de35225c6a0d",
     "locked": true,
     "schema_version": 3,
     "solution": false,
     "task": false
    }
   },
   "source": [
    "**Question 2.2**\n",
    "<br>{points: 1}\n",
    "\n",
    "Suppose we choose a single car from the population (the data frame above) using `rep_sample_n(size = 1)` and it has the following characteristics:\n",
    "\n",
    "| age | horsepower | doors |\n",
    "|-----|------------|-------|\n",
    "| 2   | 156        | 2     |\n",
    "\n",
    "True or false?\n",
    "\n",
    "The number of doors on this car (2) can be considered an outcome of a random variable.\n",
    "\n",
    "_Assign your answer to an object called `answer2.2`. Your answer should be either \"true\" or \"false\", surrounded by quotes._"
   ]
  },
  {
   "cell_type": "code",
   "execution_count": null,
   "metadata": {
    "deletable": false,
    "nbgrader": {
     "cell_type": "code",
     "checksum": "bc891420170aeaaf5cb0bc1cb4bccbd0",
     "grade": false,
     "grade_id": "cell-601a51d473b0d8ef",
     "locked": false,
     "schema_version": 3,
     "solution": true,
     "task": false
    }
   },
   "outputs": [],
   "source": [
    "# answer2.2 <- ...\n",
    "\n",
    "# your code here\n",
    "fail() # No Answer - remove if you provide an answer"
   ]
  },
  {
   "cell_type": "code",
   "execution_count": null,
   "metadata": {
    "deletable": false,
    "editable": false,
    "nbgrader": {
     "cell_type": "code",
     "checksum": "c6a3c20a1558b4eff019bc9a2aa9a4c4",
     "grade": true,
     "grade_id": "cell-a0d53a43b9baa31e",
     "locked": true,
     "points": 1,
     "schema_version": 3,
     "solution": false,
     "task": false
    }
   },
   "outputs": [],
   "source": [
    "test_2.2()"
   ]
  },
  {
   "cell_type": "markdown",
   "metadata": {
    "deletable": false,
    "editable": false,
    "nbgrader": {
     "cell_type": "markdown",
     "checksum": "2feaa090ea84f234cf7a757ef5297b1b",
     "grade": false,
     "grade_id": "cell-ec6e5b3b0d856c6a",
     "locked": true,
     "schema_version": 3,
     "solution": false,
     "task": false
    }
   },
   "source": [
    "**Question 2.3**\n",
    "<br>{points: 1}\n",
    "\n",
    "Which of the following variables related to populations and sampling is an example of a random variable?\n",
    "\n",
    "A. The mean of a population.\n",
    "\n",
    "B. The mean of a random sample from a population.\n",
    "\n",
    "C. The number of individuals in a population.\n",
    "\n",
    "D. The number of individuals in a random sample from a population.\n",
    "\n",
    "_Assign your answer to an object called `answer2.3`. Your answer should be a single character surrounded by quotes._"
   ]
  },
  {
   "cell_type": "code",
   "execution_count": null,
   "metadata": {
    "deletable": false,
    "nbgrader": {
     "cell_type": "code",
     "checksum": "b6210f2440216fd1029f664a5f0d68fc",
     "grade": false,
     "grade_id": "cell-851832733516e7f8",
     "locked": false,
     "schema_version": 3,
     "solution": true,
     "task": false
    }
   },
   "outputs": [],
   "source": [
    "# answer2.3 <- ...\n",
    "\n",
    "# your code here\n",
    "fail() # No Answer - remove if you provide an answer"
   ]
  },
  {
   "cell_type": "code",
   "execution_count": null,
   "metadata": {
    "deletable": false,
    "editable": false,
    "nbgrader": {
     "cell_type": "code",
     "checksum": "95a999aaeaf1e147e8badf146712f278",
     "grade": true,
     "grade_id": "cell-6f972ad56f889117",
     "locked": true,
     "points": 1,
     "schema_version": 3,
     "solution": false,
     "task": false
    }
   },
   "outputs": [],
   "source": [
    "test_2.3()"
   ]
  },
  {
   "cell_type": "markdown",
   "metadata": {
    "deletable": false,
    "editable": false,
    "nbgrader": {
     "cell_type": "markdown",
     "checksum": "5f03878d61dcbffe5b6ac4c7fc633e20",
     "grade": false,
     "grade_id": "cell-b571aa4b21fd46d0",
     "locked": true,
     "schema_version": 3,
     "solution": false,
     "task": false
    }
   },
   "source": [
    "**Question 2.4**\n",
    "<br>{points: 1}\n",
    "\n",
    "True or false?\n",
    "\n",
    "Given that an \"estimator\" is a random variable whose distribution is the sampling distribution for a population paramater, a point estimate is an observation of a random variable.\n",
    "\n",
    "_Assign your answer to an object called `answer2.4`. Your answer should be either `\"true\"` or `\"false\"`._"
   ]
  },
  {
   "cell_type": "code",
   "execution_count": null,
   "metadata": {
    "deletable": false,
    "nbgrader": {
     "cell_type": "code",
     "checksum": "da9b242d0f4b4057d7fd40db1523c9fa",
     "grade": false,
     "grade_id": "cell-f25e9214a2023843",
     "locked": false,
     "schema_version": 3,
     "solution": true,
     "task": false
    }
   },
   "outputs": [],
   "source": [
    "# answer2.4 <- ...\n",
    "\n",
    "# your code here\n",
    "fail() # No Answer - remove if you provide an answer"
   ]
  },
  {
   "cell_type": "code",
   "execution_count": null,
   "metadata": {
    "deletable": false,
    "editable": false,
    "nbgrader": {
     "cell_type": "code",
     "checksum": "df3875099eebf9fec53605ffa707f6d5",
     "grade": true,
     "grade_id": "cell-dfa044b49cb963b1",
     "locked": true,
     "points": 1,
     "schema_version": 3,
     "solution": false,
     "task": false
    }
   },
   "outputs": [],
   "source": [
    "test_2.4()"
   ]
  },
  {
   "cell_type": "markdown",
   "metadata": {
    "deletable": false,
    "editable": false,
    "nbgrader": {
     "cell_type": "markdown",
     "checksum": "a4fd847e825e220b48d5778730dbc43e",
     "grade": false,
     "grade_id": "cell-48595088ea6784fe",
     "locked": true,
     "schema_version": 3,
     "solution": false,
     "task": false
    }
   },
   "source": [
    "## 3. Influence of Sample Size\n",
    "\n",
    "In the previous worksheet, you may have noticed that we held the sample size at a relatively constant size throughout our simulations. But what happens to our sampling distributions when we increase or decrease the sample size more drastically (e.g. a sample size of 10 or 100)? Does it matter? How does it affect our sampling distribution(s)? Is there a pattern? These are some questions that we will answer as we progress through the remainder of this worksheet. To do so, we will revisit the real population we worked with in `worksheet_01`.\n",
    "\n",
    "![](https://media.giphy.com/media/5XRB3Ay93FZw4/giphy.gif)\n",
    "<div style=\"text-align: center\"><i>Image from <a href=\"hhttps://giphy.com/gifs/5XRB3Ay93FZw4/links\">giphy.com</i></a></div>\n",
    "\n",
    "As you work through the rest of this worksheet, there are a few important things you should keep in mind. First, you must acknowledge that we don't usually have access to data for the entire population that we are interested in like we have so far. If we did, we could always calculate the population parameter directly. Here, we are taking the opportunity of having access to these entire populations to study sampling distributions. Second, always remember the purpose of learning about sampling distributions. By learning about the properties of sampling distributions, you will be able to understand the inherent variability/error in point estimates. This \"error\" associated with a point estimate is critical, and in later weeks we will learn how to report it formally.\n",
    "\n",
    "### Vancouver Property Tax (Revisited)\n",
    "\n",
    "If you recall from `worksheet_01`, we explored the population distribution, some sample distributions, and the sampling distribution of sample means for the tax assessment value for **multiple-family dwellings in strata housing** in Vancouver using the `tax_2019` dataset from the `taxyvr` R package. As mentioned previously, we're going to revisit and extend our exploration of the sampling distribution of sample means by altering the size of our simulated samples from this dataset.\n",
    "\n",
    "Let's start by filtering the `tax_2019` dataset for the population that we are interested in again. Since you already did this during the last worksheet, we have done it for you in the code cell below. Recall that we were interested in the `current_land_value` of properties that meet the following criteria:\n",
    "- **Have a `current_land_value` greater than \\$1:**  Some properties are assignment a value of `NA` and these are the properties undergoing big renovations. These values get ammended after the improvement and are reflected in the following year's assessment. The same occurs with homes that are asssessed at $0.\n",
    "- **Are of `legal_type` `\"STRATA\"`**\n",
    "- **Are of `zone_category` `\"Multiple Family Dwelling\"`** \n",
    "\n",
    "_If you need a refresher on the `tax_2019` dataset and where it came from, please look back at `worksheet_01` and re-read the introduction of section 2 there._"
   ]
  },
  {
   "cell_type": "code",
   "execution_count": null,
   "metadata": {
    "deletable": false,
    "editable": false,
    "nbgrader": {
     "cell_type": "code",
     "checksum": "a1c5bcf8174a90b36876d41309552f38",
     "grade": false,
     "grade_id": "cell-1f3bfd53e562ce26",
     "locked": true,
     "schema_version": 3,
     "solution": false,
     "task": false
    }
   },
   "outputs": [],
   "source": [
    "# Run this cell before continuing.\n",
    "multi_family_strata <- \n",
    "    tax_2019 %>%  \n",
    "    filter(!is.na(current_land_value),\n",
    "           current_land_value > 1,\n",
    "           legal_type == \"STRATA\",\n",
    "           zone_category == \"Multiple Family Dwelling\") %>% \n",
    "    select(current_land_value)\n",
    "head(multi_family_strata)"
   ]
  },
  {
   "cell_type": "markdown",
   "metadata": {
    "deletable": false,
    "editable": false,
    "nbgrader": {
     "cell_type": "markdown",
     "checksum": "2c141b7d54d0dde4463b32df3620572a",
     "grade": false,
     "grade_id": "cell-218a5a8ba7c99cba",
     "locked": true,
     "schema_version": 3,
     "solution": false,
     "task": false
    }
   },
   "source": [
    "**Question 3.0** \n",
    "<br> {points: 1}\n",
    "\n",
    "Now let's start taking samples from our population `multi_family_strata`. First, take 2000 random samples of size 10 using the `rep_sample_n` function and a seed of `9869`.\n",
    "\n",
    "_Assign your data frame to an object called `samples_10`._"
   ]
  },
  {
   "cell_type": "code",
   "execution_count": null,
   "metadata": {
    "deletable": false,
    "nbgrader": {
     "cell_type": "code",
     "checksum": "772e632a5cce8846438c719133fdab7e",
     "grade": false,
     "grade_id": "cell-303acaad7b7ef9ec",
     "locked": false,
     "schema_version": 3,
     "solution": true,
     "task": false
    }
   },
   "outputs": [],
   "source": [
    "set.seed(9869) # DO NOT CHANGE!\n",
    "\n",
    "# your code here\n",
    "fail() # No Answer - remove if you provide an answer\n",
    "\n",
    "head(samples_10)"
   ]
  },
  {
   "cell_type": "code",
   "execution_count": null,
   "metadata": {
    "deletable": false,
    "editable": false,
    "nbgrader": {
     "cell_type": "code",
     "checksum": "005757c166d5493b374e2f82d3f13269",
     "grade": true,
     "grade_id": "cell-7fa51fbfac84d70e",
     "locked": true,
     "points": 1,
     "schema_version": 3,
     "solution": false,
     "task": false
    }
   },
   "outputs": [],
   "source": [
    "test_3.0()"
   ]
  },
  {
   "cell_type": "markdown",
   "metadata": {
    "deletable": false,
    "editable": false,
    "nbgrader": {
     "cell_type": "markdown",
     "checksum": "75c66d2f08343a2f0b4699d9e98ee087",
     "grade": false,
     "grade_id": "cell-fc7136064820d5f8",
     "locked": true,
     "schema_version": 3,
     "solution": false,
     "task": false
    }
   },
   "source": [
    "**Question 3.1** \n",
    "<br> {points: 1}\n",
    "\n",
    "Next, calculate the mean of each sample you took in **question 3.0**; these are our point estimates. Name the new column containing the sample means `sample_mean`.\n",
    "\n",
    "_Assign your data frame to an object called `sample_means_10`._"
   ]
  },
  {
   "cell_type": "code",
   "execution_count": null,
   "metadata": {
    "deletable": false,
    "nbgrader": {
     "cell_type": "code",
     "checksum": "dbdb15fe54752bc00531b63c860c88ee",
     "grade": false,
     "grade_id": "cell-9e4581334e49b421",
     "locked": false,
     "schema_version": 3,
     "solution": true,
     "task": false
    }
   },
   "outputs": [],
   "source": [
    "# your code here\n",
    "fail() # No Answer - remove if you provide an answer\n",
    "\n",
    "head(sample_means_10)"
   ]
  },
  {
   "cell_type": "code",
   "execution_count": null,
   "metadata": {
    "deletable": false,
    "editable": false,
    "nbgrader": {
     "cell_type": "code",
     "checksum": "2ef337e95ec613b9b13724ff32a5c003",
     "grade": true,
     "grade_id": "cell-eae137174260d70f",
     "locked": true,
     "points": 1,
     "schema_version": 3,
     "solution": false,
     "task": false
    }
   },
   "outputs": [],
   "source": [
    "test_3.1()"
   ]
  },
  {
   "cell_type": "markdown",
   "metadata": {
    "deletable": false,
    "editable": false,
    "nbgrader": {
     "cell_type": "markdown",
     "checksum": "debc0a6d7931012a288dd52a9a01fdbf",
     "grade": false,
     "grade_id": "cell-409f1b2769bebe07",
     "locked": true,
     "schema_version": 3,
     "solution": false,
     "task": false
    }
   },
   "source": [
    "**Question 3.2**\n",
    "<br> {points: 1}\n",
    "\n",
    "Finally, visualize the distribution of the sample means from the previous question by plotting a histogram using `geom_histogram` with the argument `binwidth = 30000`. Add a title of \"n = 10\" to the plot using `ggtitle` and ensure that the x-axis has a human-readable label.\n",
    "\n",
    "_Assign your plot to an object called `sampling_dist_10`._"
   ]
  },
  {
   "cell_type": "code",
   "execution_count": null,
   "metadata": {
    "deletable": false,
    "nbgrader": {
     "cell_type": "code",
     "checksum": "bc987fb23400884dcd979ce8d6817c6c",
     "grade": false,
     "grade_id": "cell-b019963b74a75a0b",
     "locked": false,
     "schema_version": 3,
     "solution": true,
     "task": false
    }
   },
   "outputs": [],
   "source": [
    "# your code here\n",
    "fail() # No Answer - remove if you provide an answer\n",
    "\n",
    "sampling_dist_10"
   ]
  },
  {
   "cell_type": "code",
   "execution_count": null,
   "metadata": {
    "deletable": false,
    "editable": false,
    "nbgrader": {
     "cell_type": "code",
     "checksum": "6aecff3f4ef114d90640a3e3535ccf1a",
     "grade": true,
     "grade_id": "cell-37af6e6d17076bcf",
     "locked": true,
     "points": 1,
     "schema_version": 3,
     "solution": false,
     "task": false
    }
   },
   "outputs": [],
   "source": [
    "test_3.2()"
   ]
  },
  {
   "cell_type": "markdown",
   "metadata": {
    "deletable": false,
    "editable": false,
    "nbgrader": {
     "cell_type": "markdown",
     "checksum": "99b5b6127fa939911acf5309ed3625b3",
     "grade": false,
     "grade_id": "cell-da45ac1a5690d79e",
     "locked": true,
     "schema_version": 3,
     "solution": false,
     "task": false
    }
   },
   "source": [
    "**Question 3.3** \n",
    "<br> {points: 1}\n",
    "\n",
    "Using the same strategy as you did above, draw 2000 random samples of size 30 from `multi_family_strata` using the `rep_sample_n` function, but this time use the seed `7032`. For each sample, calculate the mean as the point estimate. Lastly, visualize the distribution of the sample means (point estimates) you just calculated by plotting a histogram using `geom_histogram` with the argument `binwidth = 25000`. Add a title of \"n = 30\" to the plot using `ggtitle` and ensure that the x-axis has a human-readable label.\n",
    "\n",
    "_Assign your plot to an object called `sampling_dist_30`._"
   ]
  },
  {
   "cell_type": "code",
   "execution_count": null,
   "metadata": {
    "deletable": false,
    "nbgrader": {
     "cell_type": "code",
     "checksum": "99ffdb040e6ad4530ccb96fa650e93a6",
     "grade": false,
     "grade_id": "cell-8e33a33f5bcfe9f3",
     "locked": false,
     "schema_version": 3,
     "solution": true,
     "task": false
    }
   },
   "outputs": [],
   "source": [
    "set.seed(7032) # DO NOT CHANGE!\n",
    "\n",
    "# your code here\n",
    "fail() # No Answer - remove if you provide an answer\n",
    "sampling_dist_30"
   ]
  },
  {
   "cell_type": "code",
   "execution_count": null,
   "metadata": {
    "deletable": false,
    "editable": false,
    "nbgrader": {
     "cell_type": "code",
     "checksum": "4bf97afc299ea3356698f7a58b94b33f",
     "grade": true,
     "grade_id": "cell-273df730ac619b40",
     "locked": true,
     "points": 1,
     "schema_version": 3,
     "solution": false,
     "task": false
    }
   },
   "outputs": [],
   "source": [
    "test_3.3()"
   ]
  },
  {
   "cell_type": "markdown",
   "metadata": {
    "deletable": false,
    "editable": false,
    "nbgrader": {
     "cell_type": "markdown",
     "checksum": "3b5376c4be392455505d29b422beeeed",
     "grade": false,
     "grade_id": "cell-84fb3dbd6492d91a",
     "locked": true,
     "schema_version": 3,
     "solution": false,
     "task": false
    }
   },
   "source": [
    "**Question 3.4** \n",
    "<br> {points: 1}\n",
    "\n",
    "Again, using the same strategy as you did above, draw 2000 random samples of size 100 using the `rep_sample_n` function. Use the seed `8408`. For each sample, calculate the mean as the point estimate. Lastly, visualize the distribution of the sample means (point estimates) you just calculated by plotting a histogram using `geom_histogram` with the argument `binwidth = 14000`. Add a title of \"n = 100\" to the plot using `ggtitle` and ensure that the x-axis has a human-readable label.\n",
    "\n",
    "_Assign your plot to an object called `sampling_dist_100`._"
   ]
  },
  {
   "cell_type": "code",
   "execution_count": null,
   "metadata": {
    "deletable": false,
    "nbgrader": {
     "cell_type": "code",
     "checksum": "bf040db51be01a2ff8ba1e66bf1964ca",
     "grade": false,
     "grade_id": "cell-e2cb7f9ef0d83904",
     "locked": false,
     "schema_version": 3,
     "solution": true,
     "task": false
    }
   },
   "outputs": [],
   "source": [
    "set.seed(8408) # DO NOT CHANGE!\n",
    "\n",
    "# your code here\n",
    "fail() # No Answer - remove if you provide an answer\n",
    "sampling_dist_100"
   ]
  },
  {
   "cell_type": "code",
   "execution_count": null,
   "metadata": {
    "deletable": false,
    "editable": false,
    "nbgrader": {
     "cell_type": "code",
     "checksum": "fe42ce855989f12661b9a6ecbf3449d3",
     "grade": true,
     "grade_id": "cell-f68f6bcb383eff02",
     "locked": true,
     "points": 1,
     "schema_version": 3,
     "solution": false,
     "task": false
    }
   },
   "outputs": [],
   "source": [
    "test_3.4()"
   ]
  },
  {
   "cell_type": "markdown",
   "metadata": {
    "deletable": false,
    "editable": false,
    "nbgrader": {
     "cell_type": "markdown",
     "checksum": "0671373e7ee0498cafeb9cc12acf0b84",
     "grade": false,
     "grade_id": "cell-8e182b389bb40473",
     "locked": true,
     "schema_version": 3,
     "solution": false,
     "task": false
    }
   },
   "source": [
    "In the code cell below, we have used `plot_grid` to plot the three sampling distributions side-by-side. We have sorted the plots by increasing order of sample size from left to right. **Note**: a small number of the sample means are not visible because we manually set bounds on the x-axis so you can compare the distributions more easily (this causes the warnings you observe below).\n",
    "\n",
    "_Use the set of plots below to answer the **next question**. Some of the code may be confusing, but you do not need to understand the code to answer the question._"
   ]
  },
  {
   "cell_type": "code",
   "execution_count": null,
   "metadata": {
    "deletable": false,
    "editable": false,
    "nbgrader": {
     "cell_type": "code",
     "checksum": "2b6b057dd40cbbe569bf04bc3653dd04",
     "grade": false,
     "grade_id": "cell-afa92dcfa7631f52",
     "locked": true,
     "schema_version": 3,
     "solution": false,
     "task": false
    }
   },
   "outputs": [],
   "source": [
    "# Run this cell before continuing.\n",
    "options(repr.plot.width = 20) # temp\n",
    "\n",
    "mean_plot_row <- plot_grid(sampling_dist_10 +\n",
    "                theme(axis.text.x = element_text(angle = 90)) +\n",
    "                scale_x_continuous(breaks = seq(400000, 1200000, 200000),\n",
    "                                   limits = c(400000, 1200000)),\n",
    "            sampling_dist_30 +\n",
    "                theme(axis.text.x = element_text(angle = 90)) +\n",
    "                scale_x_continuous(breaks = seq(400000, 1200000, 200000),\n",
    "                                   limits = c(400000, 1200000)),\n",
    "            sampling_dist_100 +\n",
    "                theme(axis.text.x = element_text(angle = 90)) +\n",
    "                scale_x_continuous(breaks = seq(400000, 1200000, 200000),\n",
    "                                   limits = c(400000, 1200000)),\n",
    "            ncol = 3)\n",
    "title <- ggdraw() + \n",
    "  draw_label(\"Comparison of sampling distributions of sample means\",\n",
    "             fontface = 'bold',\n",
    "             x = 0,\n",
    "             hjust = 0) +\n",
    "  theme(plot.margin = margin(0, 0, 0, 7))\n",
    "\n",
    "means_grid <- plot_grid(title,\n",
    "                        mean_plot_row,\n",
    "                        ncol = 1,\n",
    "                        rel_heights = c(0.1, 1))\n",
    "\n",
    "means_grid"
   ]
  },
  {
   "cell_type": "markdown",
   "metadata": {
    "deletable": false,
    "editable": false,
    "nbgrader": {
     "cell_type": "markdown",
     "checksum": "aad3cc501d1b20e9752f56c76297acc5",
     "grade": false,
     "grade_id": "cell-6d6eb0e43482155e",
     "locked": true,
     "schema_version": 3,
     "solution": false,
     "task": false
    }
   },
   "source": [
    "**Question 3.5**\n",
    "<br> {points: 1}\n",
    "\n",
    "Considering the set of plots above, which statement below **is not** correct:\n",
    "\n",
    "A. As the sample size increases, the sampling distribution becomes narrower.\n",
    "\n",
    "B. As the sample size increases, there are more sample point estimates closer to the true population mean.\n",
    "\n",
    "C. As the sample size increases, the sampling distribution appears more bell-shaped.\n",
    "\n",
    "D. As the sample size increases, the standard error of the estimator increases.\n",
    "\n",
    "_Assign your answer to an object called `answer3.5`. Your answer should be a single character surrounded by quotes._"
   ]
  },
  {
   "cell_type": "code",
   "execution_count": null,
   "metadata": {
    "deletable": false,
    "nbgrader": {
     "cell_type": "code",
     "checksum": "e49993d9b5dbc4f574efeafa47e350d4",
     "grade": false,
     "grade_id": "cell-58cda3f054966112",
     "locked": false,
     "schema_version": 3,
     "solution": true,
     "task": false
    }
   },
   "outputs": [],
   "source": [
    "# your code here\n",
    "fail() # No Answer - remove if you provide an answer"
   ]
  },
  {
   "cell_type": "code",
   "execution_count": null,
   "metadata": {
    "deletable": false,
    "editable": false,
    "nbgrader": {
     "cell_type": "code",
     "checksum": "c68ed89759bbe05f28b3e39a18af7a40",
     "grade": true,
     "grade_id": "cell-d68c6b42ff8a70d5",
     "locked": true,
     "points": 1,
     "schema_version": 3,
     "solution": false,
     "task": false
    }
   },
   "outputs": [],
   "source": [
    "test_3.5()"
   ]
  },
  {
   "cell_type": "markdown",
   "metadata": {
    "deletable": false,
    "editable": false,
    "nbgrader": {
     "cell_type": "markdown",
     "checksum": "ceb02ec138fc0e11d41e7e51cc66263e",
     "grade": false,
     "grade_id": "cell-7972e65e3ce6cd7f",
     "locked": true,
     "schema_version": 3,
     "solution": false,
     "task": false
    }
   },
   "source": [
    "**Question 3.6**\n",
    "<br> {points: 1}\n",
    "\n",
    "Given what you observed above, and considering the real life scenario where you only have the resources to take one sample, answer the true or false question below: \n",
    "\n",
    "True or false?\n",
    "\n",
    "The smaller your random sample, the better your point estimate reflects the true population quantity you are trying to estimate. \n",
    "\n",
    "_Assign your answer to an object called `answer3.6`. Your answer should be either \"true\" or \"false\", surrounded by quotes._"
   ]
  },
  {
   "cell_type": "code",
   "execution_count": null,
   "metadata": {
    "deletable": false,
    "nbgrader": {
     "cell_type": "code",
     "checksum": "6a602f9cc67db6a7cbe0963cc6627ab4",
     "grade": false,
     "grade_id": "cell-59003042d3f3f156",
     "locked": false,
     "schema_version": 3,
     "solution": true,
     "task": false
    }
   },
   "outputs": [],
   "source": [
    "# answer3.6 <- ...\n",
    "\n",
    "# your code here\n",
    "fail() # No Answer - remove if you provide an answer"
   ]
  },
  {
   "cell_type": "code",
   "execution_count": null,
   "metadata": {
    "deletable": false,
    "editable": false,
    "nbgrader": {
     "cell_type": "code",
     "checksum": "482e40c9b5cb5ef5b0e5087f9c2da35a",
     "grade": true,
     "grade_id": "cell-b9ef4e1a5bcb5bb9",
     "locked": true,
     "points": 1,
     "schema_version": 3,
     "solution": false,
     "task": false
    }
   },
   "outputs": [],
   "source": [
    "test_3.6()"
   ]
  },
  {
   "cell_type": "markdown",
   "metadata": {
    "deletable": false,
    "editable": false,
    "nbgrader": {
     "cell_type": "markdown",
     "checksum": "1c086aa5d3ccfed84bb90430e5673eac",
     "grade": false,
     "grade_id": "cell-64353174ba5550f6",
     "locked": true,
     "schema_version": 3,
     "solution": false,
     "task": false
    }
   },
   "source": [
    "## 4. Proportions\n",
    "\n",
    "Previously we have only been interested in the population parameters of mean, median, and variance. However, these parameters can only describe numerical data; what about categorical data? For this type of data, we often refer to **proportions**. Recall that proportion is the ratio of the number of individuals in the population with a given attribute to the size of the entire population. For example, if there are $n$ individuals in our population and there are $x$ individuals amongst the population with a given attribute of interest, then the proportion, $p$, of the individuals of interest is \n",
    "\n",
    "$$p = \\frac{x}{n}$$\n",
    "\n",
    "Just like with the other parameters we have explored, we can also estimate the proportion of a population by taking a sample and calculating a point estimate. Thus, we can also have a sampling distribution of sample proportions. But how does this sampling distribution look? Does it have the same properties as the others we have explored? Is it affected by the sample size in the same way? Let's find out.\n"
   ]
  },
  {
   "cell_type": "markdown",
   "metadata": {
    "deletable": false,
    "editable": false,
    "nbgrader": {
     "cell_type": "markdown",
     "checksum": "c598718056d3d4508a8ed13ed020b7d0",
     "grade": false,
     "grade_id": "cell-ba510f173c3b9a17",
     "locked": true,
     "schema_version": 3,
     "solution": false,
     "task": false
    }
   },
   "source": [
    "Before we continue, here are a couple questions to reinforce your knowledge of the concept of proportion."
   ]
  },
  {
   "cell_type": "markdown",
   "metadata": {
    "deletable": false,
    "editable": false,
    "nbgrader": {
     "cell_type": "markdown",
     "checksum": "393e8b66fa2990874c9072684c35abc1",
     "grade": false,
     "grade_id": "cell-c178aeef21572645",
     "locked": true,
     "schema_version": 3,
     "solution": false,
     "task": false
    }
   },
   "source": [
    "**Question 4.0**\n",
    "<br>{points: 1}\n",
    "\n",
    "Consider the population of students enrolled at UBC's Vancouver campus. As of the start of the 2019 Winter term, there were 57250 students in total, and among them, 10294 were Faculty of Science students ([source](https://bog3.sites.olt.ubc.ca/files/2020/01/4_2020.02_Enrolment-Annual-Report.pdf)). What is the proportion of Science students at UBC?\n",
    "\n",
    "_Assign your answer to an object called `answer4.0`. Your answer should be a single number._"
   ]
  },
  {
   "cell_type": "code",
   "execution_count": null,
   "metadata": {
    "deletable": false,
    "nbgrader": {
     "cell_type": "code",
     "checksum": "f354f66b30690b54b2ded40ccf7f31d0",
     "grade": false,
     "grade_id": "cell-3e96a0d7c9028c28",
     "locked": false,
     "schema_version": 3,
     "solution": true,
     "task": false
    }
   },
   "outputs": [],
   "source": [
    "# answer4.0 <- ...\n",
    "\n",
    "# your code here\n",
    "fail() # No Answer - remove if you provide an answer\n",
    "\n",
    "answer4.0"
   ]
  },
  {
   "cell_type": "code",
   "execution_count": null,
   "metadata": {
    "deletable": false,
    "editable": false,
    "nbgrader": {
     "cell_type": "code",
     "checksum": "8d5b65c49150ddc51a6be508533da4de",
     "grade": true,
     "grade_id": "cell-ac17357e81cdaf6e",
     "locked": true,
     "points": 1,
     "schema_version": 3,
     "solution": false,
     "task": false
    }
   },
   "outputs": [],
   "source": [
    "test_4.0()"
   ]
  },
  {
   "cell_type": "markdown",
   "metadata": {
    "deletable": false,
    "editable": false,
    "nbgrader": {
     "cell_type": "markdown",
     "checksum": "4cfe968ee1f1af87ae5b704775719e99",
     "grade": false,
     "grade_id": "cell-948af605408daf22",
     "locked": true,
     "schema_version": 3,
     "solution": false,
     "task": false
    }
   },
   "source": [
    "**Question 4.1**\n",
    "<br>{points: 1}\n",
    "\n",
    "You are told that 168 students in your BIOL 200 section have taken, or are currently taking, one or more CPSC or STAT courses, which is 60% of the students in the section. How many students are there in total in your BIOL 200 section?\n",
    "\n",
    "_Assign your answer to an object called `answer4.1`. Your answer should be a single number._"
   ]
  },
  {
   "cell_type": "code",
   "execution_count": null,
   "metadata": {
    "deletable": false,
    "nbgrader": {
     "cell_type": "code",
     "checksum": "b1da0eda0b6544bf78d4835c18643a18",
     "grade": false,
     "grade_id": "cell-1b1cca76607912d2",
     "locked": false,
     "schema_version": 3,
     "solution": true,
     "task": false
    }
   },
   "outputs": [],
   "source": [
    "# answer4.1 <- ...\n",
    "\n",
    "# your code here\n",
    "fail() # No Answer - remove if you provide an answer\n",
    "answer4.1"
   ]
  },
  {
   "cell_type": "code",
   "execution_count": null,
   "metadata": {
    "deletable": false,
    "editable": false,
    "nbgrader": {
     "cell_type": "code",
     "checksum": "00440769efa55f1856bfdb54fecea220",
     "grade": true,
     "grade_id": "cell-922d209a74075a4f",
     "locked": true,
     "points": 1,
     "schema_version": 3,
     "solution": false,
     "task": false
    }
   },
   "outputs": [],
   "source": [
    "test_4.1()"
   ]
  },
  {
   "cell_type": "markdown",
   "metadata": {
    "deletable": false,
    "editable": false,
    "nbgrader": {
     "cell_type": "markdown",
     "checksum": "7650b140cdc3fa6923cddea21ceae703",
     "grade": false,
     "grade_id": "cell-de5e76040569868c",
     "locked": true,
     "schema_version": 3,
     "solution": false,
     "task": false
    }
   },
   "source": [
    "### Proportions of Vancouver Property Tax \n",
    "\n",
    "To learn more about proportions and the sampling distribution of sample proportions, we are again going to revisit the `tax_2019` dataset from the `taxyvr` R package. However, this time we'll be looking at a different variable for **all** properties in Vancouver: `geo_local_area`, which describes the local area where the property can be found (such as Kitsilano, Downtown, or Oakridge). Specifically, we will be looking at the **proportion of properties in Vancouver located downtown** (have a `geo_local_area` of `\"Downtown\"`), which we can call our population parameter of interest.\n",
    "\n",
    "Just as before, don't forget about where we are in the grand scheme of things. Let's remind ourselves of the two things we should be keeping in mind as we work through this section:\n",
    "\n",
    "> First, you must acknowledge that we don't usually have access to data for the entire population that we are interested in like we have so far. If we did, we could always calculate the population parameter directly. Here, we are taking the opportunity of having access to these entire populations to study sampling distributions. Second, always remember the purpose of learning about sampling distributions. By learning about the properties of sampling distributions, you will be able to understand the inherent variability/error in point estimates. This \"error\" associated with a point estimate is critical, and in later weeks we will learn how to report it formally."
   ]
  },
  {
   "cell_type": "markdown",
   "metadata": {
    "deletable": false,
    "editable": false,
    "nbgrader": {
     "cell_type": "markdown",
     "checksum": "837afb26e755381ded932c5c26e69ff5",
     "grade": false,
     "grade_id": "cell-68556462eb251638",
     "locked": true,
     "schema_version": 3,
     "solution": false,
     "task": false
    }
   },
   "source": [
    "**Question 4.2**\n",
    "<br>{points: 1}\n",
    "\n",
    "True or false?\n",
    "\n",
    "The `geo_local_area` variable in the `tax_2019` dataset is an example of a categorical variable.\n",
    "\n",
    "_Assign your answer to an object called `answer4.2`. Your answer should be either \"true\" or \"false\", surrounded by quotes._"
   ]
  },
  {
   "cell_type": "code",
   "execution_count": null,
   "metadata": {
    "deletable": false,
    "nbgrader": {
     "cell_type": "code",
     "checksum": "0ae695eab6c19d84284ebda06cd7d06a",
     "grade": false,
     "grade_id": "cell-4782bbac07cc5dd7",
     "locked": false,
     "schema_version": 3,
     "solution": true,
     "task": false
    }
   },
   "outputs": [],
   "source": [
    "# answer4.2 <- ...\n",
    "\n",
    "# your code here\n",
    "fail() # No Answer - remove if you provide an answer"
   ]
  },
  {
   "cell_type": "code",
   "execution_count": null,
   "metadata": {
    "deletable": false,
    "editable": false,
    "nbgrader": {
     "cell_type": "code",
     "checksum": "33fff1deeede6c2c9e2a0838ae942352",
     "grade": true,
     "grade_id": "cell-739bd297786badd3",
     "locked": true,
     "points": 1,
     "schema_version": 3,
     "solution": false,
     "task": false
    }
   },
   "outputs": [],
   "source": [
    "test_4.2()"
   ]
  },
  {
   "cell_type": "markdown",
   "metadata": {
    "deletable": false,
    "editable": false,
    "nbgrader": {
     "cell_type": "markdown",
     "checksum": "77e8dcdea9351363ff6b9a8931d5d9b0",
     "grade": false,
     "grade_id": "cell-bab59223730622a1",
     "locked": true,
     "schema_version": 3,
     "solution": false,
     "task": false
    }
   },
   "source": [
    "**Question 4.3**\n",
    "<br>{points: 1}\n",
    "\n",
    "From the `tax_2019` dataset, filter out the rows that contain an `NA` in the `geo_local_area` column and select only this column.\n",
    "\n",
    "_Assign your data frame to an object called `geo_pop`._"
   ]
  },
  {
   "cell_type": "code",
   "execution_count": null,
   "metadata": {
    "deletable": false,
    "nbgrader": {
     "cell_type": "code",
     "checksum": "ae59f073dd426dbe562cc00c456a2ddc",
     "grade": false,
     "grade_id": "cell-c1f42fe962aea858",
     "locked": false,
     "schema_version": 3,
     "solution": true,
     "task": false
    }
   },
   "outputs": [],
   "source": [
    "# your code here\n",
    "fail() # No Answer - remove if you provide an answer\n",
    "\n",
    "head(geo_pop)"
   ]
  },
  {
   "cell_type": "code",
   "execution_count": null,
   "metadata": {
    "deletable": false,
    "editable": false,
    "nbgrader": {
     "cell_type": "code",
     "checksum": "0eac64dad47eef418cabf4169560efc0",
     "grade": true,
     "grade_id": "cell-a69019dd39e8d083",
     "locked": true,
     "points": 1,
     "schema_version": 3,
     "solution": false,
     "task": false
    }
   },
   "outputs": [],
   "source": [
    "test_4.3()"
   ]
  },
  {
   "cell_type": "markdown",
   "metadata": {
    "deletable": false,
    "editable": false,
    "nbgrader": {
     "cell_type": "markdown",
     "checksum": "d57bc7bf805164f315c28f794d6e1a4f",
     "grade": false,
     "grade_id": "cell-b93af13346d05f22",
     "locked": true,
     "schema_version": 3,
     "solution": false,
     "task": false
    }
   },
   "source": [
    "**Question 4.4**\n",
    "<br>{points: 1}\n",
    "\n",
    "Calculate the proportion of properties in our population `geo_pop` that are `\"Downtown\"`; this is the population parameter of interest. Recall that we are going to be exploring the effect of sampling size on the distributions of the point estimates for this parameter.\n",
    "\n",
    "_Assign your answer to an object called `p`. Your answer should be a single number._"
   ]
  },
  {
   "cell_type": "code",
   "execution_count": null,
   "metadata": {
    "deletable": false,
    "nbgrader": {
     "cell_type": "code",
     "checksum": "4ec996bab5d2037b0ba26a7ce303aa60",
     "grade": false,
     "grade_id": "cell-849d9979497dd0d6",
     "locked": false,
     "schema_version": 3,
     "solution": true,
     "task": false
    }
   },
   "outputs": [],
   "source": [
    "# your code here\n",
    "fail() # No Answer - remove if you provide an answer\n",
    "\n",
    "p"
   ]
  },
  {
   "cell_type": "code",
   "execution_count": null,
   "metadata": {
    "deletable": false,
    "editable": false,
    "nbgrader": {
     "cell_type": "code",
     "checksum": "0cc13ec9a05c563539f4b7a9b7f2ede2",
     "grade": true,
     "grade_id": "cell-ba8a8c4244a1551d",
     "locked": true,
     "points": 1,
     "schema_version": 3,
     "solution": false,
     "task": false
    }
   },
   "outputs": [],
   "source": [
    "test_4.4()"
   ]
  },
  {
   "cell_type": "markdown",
   "metadata": {
    "deletable": false,
    "editable": false,
    "nbgrader": {
     "cell_type": "markdown",
     "checksum": "fe030c3b277ec4b22862b71386380352",
     "grade": false,
     "grade_id": "cell-31e196e1d305d33e",
     "locked": true,
     "schema_version": 3,
     "solution": false,
     "task": false
    }
   },
   "source": [
    "**Question 4.5**\n",
    "<br>{points: 1}\n",
    "\n",
    "Let's take our first set of samples from our population `geo_pop`. First, take 2000 random samples of a size 10 using the `rep_sample_n` function and a seed of `2410`.\n",
    "\n",
    "_Assign your data frame to an object called `samples_10`._"
   ]
  },
  {
   "cell_type": "code",
   "execution_count": null,
   "metadata": {
    "deletable": false,
    "nbgrader": {
     "cell_type": "code",
     "checksum": "88d0db75108523e592b5134bcfeeb922",
     "grade": false,
     "grade_id": "cell-76dca3e8757f294a",
     "locked": false,
     "schema_version": 3,
     "solution": true,
     "task": false
    }
   },
   "outputs": [],
   "source": [
    "set.seed(2410) # DO NOT CHANGE!\n",
    "\n",
    "# your code here\n",
    "fail() # No Answer - remove if you provide an answer\n",
    "head(samples_10)"
   ]
  },
  {
   "cell_type": "code",
   "execution_count": null,
   "metadata": {
    "deletable": false,
    "editable": false,
    "nbgrader": {
     "cell_type": "code",
     "checksum": "a3d67fcb919a7ed735b3a865657b313d",
     "grade": true,
     "grade_id": "cell-6b3abca156f86d36",
     "locked": true,
     "points": 1,
     "schema_version": 3,
     "solution": false,
     "task": false
    }
   },
   "outputs": [],
   "source": [
    "test_4.5()"
   ]
  },
  {
   "cell_type": "markdown",
   "metadata": {
    "deletable": false,
    "editable": false,
    "nbgrader": {
     "cell_type": "markdown",
     "checksum": "839453b41ff5850cd7084306828fa277",
     "grade": false,
     "grade_id": "cell-1f6861f2f516ebb6",
     "locked": true,
     "schema_version": 3,
     "solution": false,
     "task": false
    }
   },
   "source": [
    "**Question 4.6**\n",
    "<br>{points: 1}\n",
    "\n",
    "Next, calculate the proportion of each sample you took in the previous question. Name the new column containing the sample proportions `sample_proportion`.\n",
    "\n",
    "_Assign your data frame to an object called `sample_proportions_10`._"
   ]
  },
  {
   "cell_type": "code",
   "execution_count": null,
   "metadata": {
    "deletable": false,
    "nbgrader": {
     "cell_type": "code",
     "checksum": "89331ada6b629dfe351581fed4783c15",
     "grade": false,
     "grade_id": "cell-6b334028eda70e8d",
     "locked": false,
     "schema_version": 3,
     "solution": true,
     "task": false
    }
   },
   "outputs": [],
   "source": [
    "# your code here\n",
    "fail() # No Answer - remove if you provide an answer\n",
    "\n",
    "head(sample_proportions_10)"
   ]
  },
  {
   "cell_type": "code",
   "execution_count": null,
   "metadata": {
    "deletable": false,
    "editable": false,
    "nbgrader": {
     "cell_type": "code",
     "checksum": "313780e766b1618c491b8c179910d718",
     "grade": true,
     "grade_id": "cell-e61f87f6eb7ceb6c",
     "locked": true,
     "points": 1,
     "schema_version": 3,
     "solution": false,
     "task": false
    }
   },
   "outputs": [],
   "source": [
    "test_4.6()"
   ]
  },
  {
   "cell_type": "markdown",
   "metadata": {
    "deletable": false,
    "editable": false,
    "nbgrader": {
     "cell_type": "markdown",
     "checksum": "fd779b0c722ca57f56d30d6a10eda25d",
     "grade": false,
     "grade_id": "cell-a0f7ae74be4f7007",
     "locked": true,
     "schema_version": 3,
     "solution": false,
     "task": false
    }
   },
   "source": [
    "**Question 4.7**\n",
    "<br>{points: 1}\n",
    "\n",
    "Finally, visualize the distribution of the sample proportions from the previous question by plotting a histogram using `geom_histogram` with the argument `binwidth = 1/10`. Add a title of \"n = 10\" to the plot using `ggtitle` and ensure that the x-axis has a human-readable label.\n",
    "\n",
    "_Assign your plot to an object called `sampling_dist_10`._"
   ]
  },
  {
   "cell_type": "code",
   "execution_count": null,
   "metadata": {
    "deletable": false,
    "nbgrader": {
     "cell_type": "code",
     "checksum": "096f4f834759b12a0b6e0d7ba9aea9fa",
     "grade": false,
     "grade_id": "cell-8a925ee49a49df0b",
     "locked": false,
     "schema_version": 3,
     "solution": true,
     "task": false
    }
   },
   "outputs": [],
   "source": [
    "# your code here\n",
    "fail() # No Answer - remove if you provide an answer\n",
    "\n",
    "sampling_dist_10"
   ]
  },
  {
   "cell_type": "code",
   "execution_count": null,
   "metadata": {
    "deletable": false,
    "editable": false,
    "nbgrader": {
     "cell_type": "code",
     "checksum": "55a07cc1bff9c6b8358b14f0febb816f",
     "grade": true,
     "grade_id": "cell-b7a06cf5e3cd5fea",
     "locked": true,
     "points": 1,
     "schema_version": 3,
     "solution": false,
     "task": false
    }
   },
   "outputs": [],
   "source": [
    "test_4.7()"
   ]
  },
  {
   "cell_type": "markdown",
   "metadata": {
    "deletable": false,
    "editable": false,
    "nbgrader": {
     "cell_type": "markdown",
     "checksum": "4fb4349ac3a72ff1baa34d7a49825bb9",
     "grade": false,
     "grade_id": "cell-ef6519fea53617bf",
     "locked": true,
     "schema_version": 3,
     "solution": false,
     "task": false
    }
   },
   "source": [
    "**Question 4.8** \n",
    "<br> {points: 1}\n",
    "\n",
    "Using the same strategy as you did above, draw 2000 random samples of size 30 from the population `geo_pop` using the `rep_sample_n` function, but this time use the seed `6977`. For each sample, calculate the proportion as the point estimate. Lastly, visualize the distribution of the sample proportions (point estimates) you just calculated by plotting a histogram using `geom_histogram` with the argument `binwidth = 1/30`. Add a title of \"n = 30\" to the plot using `ggtitle` and ensure that the x-axis has a human-readable label.\n",
    "\n",
    "_Assign your plot to an object called `sampling_dist_30`._"
   ]
  },
  {
   "cell_type": "code",
   "execution_count": null,
   "metadata": {
    "deletable": false,
    "nbgrader": {
     "cell_type": "code",
     "checksum": "f97daed95eb9d7d6a6f2adefbf46c3c7",
     "grade": false,
     "grade_id": "cell-6662981ad1c6053f",
     "locked": false,
     "schema_version": 3,
     "solution": true,
     "task": false
    }
   },
   "outputs": [],
   "source": [
    "set.seed(6977) # DO NOT CHANGE!\n",
    "\n",
    "# your code here\n",
    "fail() # No Answer - remove if you provide an answer\n",
    "\n",
    "sampling_dist_30"
   ]
  },
  {
   "cell_type": "code",
   "execution_count": null,
   "metadata": {
    "deletable": false,
    "editable": false,
    "nbgrader": {
     "cell_type": "code",
     "checksum": "2a8bdea4b22e76a735ae83e32b4f8f11",
     "grade": true,
     "grade_id": "cell-48e1f932e6c95c2a",
     "locked": true,
     "points": 1,
     "schema_version": 3,
     "solution": false,
     "task": false
    }
   },
   "outputs": [],
   "source": [
    "test_4.8()"
   ]
  },
  {
   "cell_type": "markdown",
   "metadata": {
    "deletable": false,
    "editable": false,
    "nbgrader": {
     "cell_type": "markdown",
     "checksum": "c60dfe34957b8406b8d01edab9b82045",
     "grade": false,
     "grade_id": "cell-4bbb4ae8290b9415",
     "locked": true,
     "schema_version": 3,
     "solution": false,
     "task": false
    }
   },
   "source": [
    "**Question 4.9** \n",
    "<br> {points: 1}\n",
    "\n",
    "Using the same strategy as you did above, draw 2000 random samples of size 100 from the population `geo_pop` using the `rep_sample_n` function, but this time use the seed `5231`. For each sample, calculate the proportion as the point estimate. Lastly, visualize the distribution of the sample proportions (point estimates) you just calculated by plotting a histogram using `geom_histogram` with the argument `binwidth = 1/100`. Add a title of \"n = 100\" to the plot using `ggtitle` and ensure that the x-axis has a human-readable label.\n",
    "\n",
    "_Assign your plot to an object called `sampling_dist_100`._"
   ]
  },
  {
   "cell_type": "code",
   "execution_count": null,
   "metadata": {
    "deletable": false,
    "nbgrader": {
     "cell_type": "code",
     "checksum": "8b5c09cd45a25380c60f70c973fdc42f",
     "grade": false,
     "grade_id": "cell-42874db0ecbd1c82",
     "locked": false,
     "schema_version": 3,
     "solution": true,
     "task": false
    }
   },
   "outputs": [],
   "source": [
    "set.seed(5231) # DO NOT CHANGE!\n",
    "\n",
    "# your code here\n",
    "fail() # No Answer - remove if you provide an answer\n",
    "sampling_dist_100"
   ]
  },
  {
   "cell_type": "code",
   "execution_count": null,
   "metadata": {
    "deletable": false,
    "editable": false,
    "nbgrader": {
     "cell_type": "code",
     "checksum": "da0a32bd492296a7dca1120dffee113b",
     "grade": true,
     "grade_id": "cell-92debfa4ea7c2733",
     "locked": true,
     "points": 1,
     "schema_version": 3,
     "solution": false,
     "task": false
    }
   },
   "outputs": [],
   "source": [
    "test_4.9()"
   ]
  },
  {
   "cell_type": "markdown",
   "metadata": {
    "deletable": false,
    "editable": false,
    "nbgrader": {
     "cell_type": "markdown",
     "checksum": "b349a65070e7d52f4264a0929ad70b0c",
     "grade": false,
     "grade_id": "cell-efc13a0e61479f1e",
     "locked": true,
     "schema_version": 3,
     "solution": false,
     "task": false
    }
   },
   "source": [
    "In the code cell below, we have used `plot_grid` to plot the three sampling distributions side-by-side. We have sorted the plots by increasing order of sample size from left to right. \n",
    "\n",
    "_Use the set of plots below to answer the **next 2 questions**. Some of the code may be confusing, but you do not need to understand the code to answer the questions._"
   ]
  },
  {
   "cell_type": "code",
   "execution_count": null,
   "metadata": {
    "deletable": false,
    "editable": false,
    "nbgrader": {
     "cell_type": "code",
     "checksum": "efeb292dccdc77f4e3ddde5038565a44",
     "grade": false,
     "grade_id": "cell-4c7f9950801bbf3a",
     "locked": true,
     "schema_version": 3,
     "solution": false,
     "task": false
    }
   },
   "outputs": [],
   "source": [
    "# Run this cell before continuing.\n",
    "options(repr.plot.width = 20)\n",
    "\n",
    "proportion_plot_row <- plot_grid(sampling_dist_10 +\n",
    "                                 scale_x_continuous(limits = c(-0.05, 0.8)),\n",
    "                                 sampling_dist_30 +\n",
    "                                 scale_x_continuous(limits = c(-0.05, 0.8)),\n",
    "                                 sampling_dist_100 +\n",
    "                                 scale_x_continuous(limits = c(-0.05, 0.8)),\n",
    "                                 ncol = 3)\n",
    "\n",
    "title <- ggdraw() + \n",
    "  draw_label(\"Comparison of sampling distributions of sample proportions\",\n",
    "             fontface = 'bold',\n",
    "             x = 0,\n",
    "             hjust = 0) +\n",
    "  theme(plot.margin = margin(0, 0, 0, 7))\n",
    "\n",
    "means_grid <- plot_grid(title,\n",
    "                        proportion_plot_row,\n",
    "                        ncol = 1,\n",
    "                        rel_heights = c(0.1, 1))\n",
    "\n",
    "means_grid"
   ]
  },
  {
   "cell_type": "markdown",
   "metadata": {
    "deletable": false,
    "editable": false,
    "nbgrader": {
     "cell_type": "markdown",
     "checksum": "389f3a835229cd68752de7be8b8fdec6",
     "grade": false,
     "grade_id": "cell-afa0b1da40d4c5b5",
     "locked": true,
     "schema_version": 3,
     "solution": false,
     "task": false
    }
   },
   "source": [
    "**Question 4.10**\n",
    "<br> {points: 1}\n",
    "\n",
    "When considering the set of plots above, which statement below **is not** correct:\n",
    "\n",
    "A. As the sample size increases, the sampling distribution becomes narrower.\n",
    "\n",
    "B. As the sample size increases, there are more sample point estimates closer to the true population proportion.\n",
    "\n",
    "C. As the sample size increases, the sampling distribution appears more bell-shaped.\n",
    "\n",
    "D. As the sample size increases, the standard error of the estimator increases.\n",
    "\n",
    "_Assign your answer to an object called `answer4.10`. Your answer should be a single character surrounded by quotes._"
   ]
  },
  {
   "cell_type": "code",
   "execution_count": null,
   "metadata": {
    "deletable": false,
    "nbgrader": {
     "cell_type": "code",
     "checksum": "90d0ad9a49b426f742e79ea00c3ed7ec",
     "grade": false,
     "grade_id": "cell-3a4c341f6d8a2121",
     "locked": false,
     "schema_version": 3,
     "solution": true,
     "task": false
    }
   },
   "outputs": [],
   "source": [
    "# answer4.10 <- ...\n",
    "\n",
    "# your code here\n",
    "fail() # No Answer - remove if you provide an answer"
   ]
  },
  {
   "cell_type": "code",
   "execution_count": null,
   "metadata": {
    "deletable": false,
    "editable": false,
    "nbgrader": {
     "cell_type": "code",
     "checksum": "2461818aebac873a4bbaaff45696ad62",
     "grade": true,
     "grade_id": "cell-43ffdd1a64bf7894",
     "locked": true,
     "points": 1,
     "schema_version": 3,
     "solution": false,
     "task": false
    }
   },
   "outputs": [],
   "source": [
    "test_4.10()"
   ]
  },
  {
   "cell_type": "markdown",
   "metadata": {
    "deletable": false,
    "editable": false,
    "nbgrader": {
     "cell_type": "markdown",
     "checksum": "d9fbb55c2ab7434da7f1625e5ae2fbd1",
     "grade": false,
     "grade_id": "cell-932953a112eb8592",
     "locked": true,
     "schema_version": 3,
     "solution": false,
     "task": false
    }
   },
   "source": [
    "**Question 4.11**\n",
    "<br> {points: 1}\n",
    "\n",
    "True or false?\n",
    "\n",
    "When considering the set of plots above, sample size has a similar influence on the distribution of sample proportions as it does the distribution of other point estimates.\n",
    "\n",
    "_Assign your answer to an object called `answer4.11`. Your answer should be either \"true\" or \"false\", surrounded by quotes._"
   ]
  },
  {
   "cell_type": "code",
   "execution_count": null,
   "metadata": {
    "deletable": false,
    "nbgrader": {
     "cell_type": "code",
     "checksum": "912891bbf4179eb39b41739e11a1022d",
     "grade": false,
     "grade_id": "cell-6c1ae5238bf286ed",
     "locked": false,
     "schema_version": 3,
     "solution": true,
     "task": false
    }
   },
   "outputs": [],
   "source": [
    "# answer4.11 <- ...\n",
    "\n",
    "# your code here\n",
    "fail() # No Answer - remove if you provide an answer"
   ]
  },
  {
   "cell_type": "code",
   "execution_count": null,
   "metadata": {
    "deletable": false,
    "editable": false,
    "nbgrader": {
     "cell_type": "code",
     "checksum": "4a3938cd7dc5dc747199dec474b7e296",
     "grade": true,
     "grade_id": "cell-9b70f5d3f5b9d554",
     "locked": true,
     "points": 1,
     "schema_version": 3,
     "solution": false,
     "task": false
    }
   },
   "outputs": [],
   "source": [
    "test_4.11()"
   ]
  },
  {
   "cell_type": "markdown",
   "metadata": {
    "deletable": false,
    "editable": false,
    "nbgrader": {
     "cell_type": "markdown",
     "checksum": "4488bfd1c746a23b40b4f3a7b3c672f2",
     "grade": false,
     "grade_id": "cell-69c9234f72a8306d",
     "locked": true,
     "schema_version": 3,
     "solution": false,
     "task": false
    }
   },
   "source": [
    "## 5. Random and Representative Sampling\n",
    "\n",
    "Imagine you are at an outdoor Beyoncé concert at the Coachella Valley Music and Arts Festival along with over 125,000 others in attendance, and you are interested in the proportion of the audience that has the entire Beyoncé's discography. Clearly, it would take far too many resources to check whether each audience member has the discography. So how would you answer your question?\n",
    "\n",
    "This situation, which is analogous to scenarios commonly faced in reality, would force you to estimate the population parameter rather than calculate it directly. As we have learned, one method of doing so is by **sampling**.\n",
    "\n",
    "![](https://media.giphy.com/media/fxTqfhCjfQC03qBVch/giphy.gif)\n",
    "<div style=\"text-align: center\"><i>Image from <a href=\"https://media.giphy.com/media/fxTqfhCjfQC03qBVch/giphy.gif\">giphy.com</i></a></div>\n",
    "\n",
    "So far, we have been using the `rep_sample_n` function to take virtual samples from data that we have acquired for entire populations, which guarantees that our samples are as **random** as possible and gives us a high chance that they are **representative**. However, how do we take a sample in reality when we don't have a function to do it for us?\n",
    "\n",
    "In the scenario above, suppose you took a sample from the population by asking the 40 people closest to the stage if they have Beyoncé's entire discography. Would this sample be representative of the population? Likely not. Perhaps the individuals near the front are diehard Beyoncé fans and are more likely to have bought the entire discography. This approach may result in an estimate that is much higher than the true parameter. But is the sample random at least? Not necessarily. Perhaps you had to line up early at the entrance to have a chance at being near the front, which means that those who are not diehard Beyoncé's fans and came in later had a significantly less chance of being selected, making the sample biased.\n",
    "\n",
    "The following questions will focus on your understanding of random and representative sampling and how it can affect your estimations."
   ]
  },
  {
   "cell_type": "markdown",
   "metadata": {
    "deletable": false,
    "editable": false,
    "nbgrader": {
     "cell_type": "markdown",
     "checksum": "bba2d233ae5f4f36bccbae127f5b5516",
     "grade": false,
     "grade_id": "cell-240a9f04755fd698",
     "locked": true,
     "schema_version": 3,
     "solution": false,
     "task": false
    }
   },
   "source": [
    "**Question 5.0**\n",
    "<br>{points: 1}\n",
    "\n",
    "You are interested in determining the proportion of students at UBC that own an iPhone, but you do not have the resources to perform a census. Which sampling method would you expect to be the **least** biased?\n",
    "\n",
    "A. From a list of all registered UBC students, you randomly select 30 students and ask them if they own an iPhone.\n",
    "\n",
    "B. You randomly select 30 different people at the Starbucks in the Life Building ask them if they own an iPhone.\n",
    "\n",
    "C. From a list of all students registered in your STAT 201 lecture, you randomly select 30 students and ask them if they own an iPhone.\n",
    "\n",
    "D. You stand near an entrance to the West Parkade and randomly select 30 different people entering the parkade and ask them if they own an iPhone.\n",
    "\n",
    "_Assign your answer to an object called `answer5.0`. Your answer should be a single character surrounded by quotes._"
   ]
  },
  {
   "cell_type": "code",
   "execution_count": null,
   "metadata": {
    "deletable": false,
    "nbgrader": {
     "cell_type": "code",
     "checksum": "add6f73b7a735c885580eb689b1278b6",
     "grade": false,
     "grade_id": "cell-fa982760960bb32e",
     "locked": false,
     "schema_version": 3,
     "solution": true,
     "task": false
    }
   },
   "outputs": [],
   "source": [
    "# answer5.0 <- ...\n",
    "\n",
    "# your code here\n",
    "fail() # No Answer - remove if you provide an answer"
   ]
  },
  {
   "cell_type": "code",
   "execution_count": null,
   "metadata": {
    "deletable": false,
    "editable": false,
    "nbgrader": {
     "cell_type": "code",
     "checksum": "806e0cfd6169289348868951f6ea9d6b",
     "grade": true,
     "grade_id": "cell-23814927a131425b",
     "locked": true,
     "points": 1,
     "schema_version": 3,
     "solution": false,
     "task": false
    }
   },
   "outputs": [],
   "source": [
    "test_5.0()"
   ]
  },
  {
   "cell_type": "markdown",
   "metadata": {
    "deletable": false,
    "editable": false,
    "nbgrader": {
     "cell_type": "markdown",
     "checksum": "f006100f05538548a096d425f5a3e7db",
     "grade": false,
     "grade_id": "cell-1b01ced0e24131fb",
     "locked": true,
     "schema_version": 3,
     "solution": false,
     "task": false
    }
   },
   "source": [
    "**Question 5.1**\n",
    "<br>{points: 1}\n",
    "\n",
    "You are interested in the proportion of UBC students who are satisfied with UBC's responses to COVID-19. To estimate the population parameter, you take a sample from the population by conducting several online polls through UBC's social media platforms, compiling the results, and using them to calculate a point estimate.\n",
    "\n",
    "True or false?\n",
    "\n",
    "The sampling method used in the scenario above is an example of random sampling. \n",
    "\n",
    "_Assign your answer to an object called `answer5.1`. Your answer should be either \"true\" or \"false\", surrounded by quotes._"
   ]
  },
  {
   "cell_type": "code",
   "execution_count": null,
   "metadata": {
    "deletable": false,
    "nbgrader": {
     "cell_type": "code",
     "checksum": "402174874cb62dc203914a12f5de148b",
     "grade": false,
     "grade_id": "cell-5171268f427103e9",
     "locked": false,
     "schema_version": 3,
     "solution": true,
     "task": false
    }
   },
   "outputs": [],
   "source": [
    "# answer5.1 <- ...\n",
    "\n",
    "# your code here\n",
    "fail() # No Answer - remove if you provide an answer"
   ]
  },
  {
   "cell_type": "code",
   "execution_count": null,
   "metadata": {
    "deletable": false,
    "editable": false,
    "nbgrader": {
     "cell_type": "code",
     "checksum": "2ec266102075a11abdfb23842673fd54",
     "grade": true,
     "grade_id": "cell-58e0a5591011346e",
     "locked": true,
     "points": 1,
     "schema_version": 3,
     "solution": false,
     "task": false
    }
   },
   "outputs": [],
   "source": [
    "test_5.1()"
   ]
  },
  {
   "cell_type": "markdown",
   "metadata": {
    "deletable": false,
    "editable": false,
    "nbgrader": {
     "cell_type": "markdown",
     "checksum": "bfae033015d04a1c948c2cb731a3ed2e",
     "grade": false,
     "grade_id": "cell-30d4ffcdc68b3331",
     "locked": true,
     "schema_version": 3,
     "solution": false,
     "task": false
    }
   },
   "source": [
    "**Question 5.2**\n",
    "<br>{points: 1}\n",
    "\n",
    "You are interested in determining the mean age of all teaching staff at UBC (including professors, lecturers, TAs, etc.). Suppose you randomly choose 50 undergraduate TAs at UBC and calculate the mean of their ages to use as a point estimate. Would you expect the point estimate to be accurate? Why or why not?\n",
    "\n",
    "A. Your estimate is accurate because your sample size is large enough and the sample is representative of the population.\n",
    "\n",
    "B. Your estimate is inaccurate. It would likely be too low because of sample bias; your sample is not representative of the population.\n",
    "\n",
    "C. Your estimate is inaccurate. It would likely be too high because of sample bias; your sample is not representative of the population.\n",
    "\n",
    "D. Your estimate is inaccurate. There's a high chance it would be either too high or too low because the sample size is quite small.\n",
    "\n",
    "_Assign your answer to an object called `answer5.2`. Your answer should be a single character surrounded by quotes._"
   ]
  },
  {
   "cell_type": "code",
   "execution_count": null,
   "metadata": {
    "deletable": false,
    "nbgrader": {
     "cell_type": "code",
     "checksum": "8e4e2b88596467a47f20e8d9bd4a1f6d",
     "grade": false,
     "grade_id": "cell-f45983f930ed4c1d",
     "locked": false,
     "schema_version": 3,
     "solution": true,
     "task": false
    }
   },
   "outputs": [],
   "source": [
    "# answer5.2 <- ...\n",
    "\n",
    "# your code here\n",
    "fail() # No Answer - remove if you provide an answer"
   ]
  },
  {
   "cell_type": "code",
   "execution_count": null,
   "metadata": {
    "deletable": false,
    "editable": false,
    "nbgrader": {
     "cell_type": "code",
     "checksum": "435225f319f2b0949cf33f86d8191e9f",
     "grade": true,
     "grade_id": "cell-d2e022c935e15536",
     "locked": true,
     "points": 1,
     "schema_version": 3,
     "solution": false,
     "task": false
    }
   },
   "outputs": [],
   "source": [
    "test_5.2()"
   ]
  },
  {
   "cell_type": "markdown",
   "metadata": {
    "deletable": false,
    "editable": false,
    "nbgrader": {
     "cell_type": "markdown",
     "checksum": "2d9a9484a53ad4fc12693c9bd1eeee20",
     "grade": false,
     "grade_id": "cell-0da84052148fd620",
     "locked": true,
     "schema_version": 3,
     "solution": false,
     "task": false
    }
   },
   "source": [
    "**Question 5.3**\n",
    "<br>{points: 1}\n",
    "\n",
    "Suppose you are hired by a fast-food restaurant company to survey its workers about working conditions. You are told that there are 25 restaurants in total, and that there is approximately 1 manager, 6 supervisors, and 34 other workers for each restaurant. You manage to randomly select 200 individuals from all 25 restaurants: 4 managers, 25 supervisors, and 171 workers.\n",
    "\n",
    "True or false?\n",
    "\n",
    "Your sample is representative of the population.\n",
    "\n",
    "_Assign your answer to an object called `answer5.3`. Your answer should be either \"true\" or \"false\", surrounded by quotes._"
   ]
  },
  {
   "cell_type": "code",
   "execution_count": null,
   "metadata": {
    "deletable": false,
    "nbgrader": {
     "cell_type": "code",
     "checksum": "5d94587248d2b76a46464061a84d97c1",
     "grade": false,
     "grade_id": "cell-01642ceac6e1bc04",
     "locked": false,
     "schema_version": 3,
     "solution": true,
     "task": false
    }
   },
   "outputs": [],
   "source": [
    "# answer5.3 <- ...\n",
    "\n",
    "# your code here\n",
    "fail() # No Answer - remove if you provide an answer"
   ]
  },
  {
   "cell_type": "code",
   "execution_count": null,
   "metadata": {
    "deletable": false,
    "editable": false,
    "nbgrader": {
     "cell_type": "code",
     "checksum": "427ac2699da2ea92c33d72faf922994c",
     "grade": true,
     "grade_id": "cell-f2af439a5c815f41",
     "locked": true,
     "points": 1,
     "schema_version": 3,
     "solution": false,
     "task": false
    }
   },
   "outputs": [],
   "source": [
    "test_5.3()"
   ]
  }
 ],
 "metadata": {
  "docker": {
   "latest_image_tag": "v0.4.0"
  },
  "jupytext": {
   "formats": "ipynb,Rmd"
  },
  "kernelspec": {
   "display_name": "R",
   "language": "R",
   "name": "ir"
  },
  "language_info": {
   "codemirror_mode": "r",
   "file_extension": ".r",
   "mimetype": "text/x-r-source",
   "name": "R",
   "pygments_lexer": "r",
   "version": "4.1.3"
  }
 },
 "nbformat": 4,
 "nbformat_minor": 4
}
