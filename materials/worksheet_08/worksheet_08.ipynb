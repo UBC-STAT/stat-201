{
 "cells": [
  {
   "cell_type": "markdown",
   "metadata": {
    "deletable": false,
    "editable": false,
    "nbgrader": {
     "cell_type": "markdown",
     "checksum": "9caaa273e84b96a14d948f5eb491ef5e",
     "grade": false,
     "grade_id": "cell-edca88dd0fad0da0",
     "locked": true,
     "schema_version": 3,
     "solution": false,
     "task": false
    }
   },
   "source": [
    "# Worksheet 8: Classical Tests Based on Normal and t-Distributions\n",
    "\n"
   ]
  },
  {
   "cell_type": "markdown",
   "metadata": {
    "deletable": false,
    "editable": false,
    "nbgrader": {
     "cell_type": "markdown",
     "checksum": "6c25b719a8b9f3912c23b767f5c9262f",
     "grade": false,
     "grade_id": "cell-dfdf9bb167981881",
     "locked": true,
     "schema_version": 3,
     "solution": false,
     "task": false
    }
   },
   "source": [
    "#### Lecture and Tutorial Learning Goals:\n",
    "After completing this week's lecture and tutorial work, you will be able to:\n",
    "\n",
    "1.\tDescribe the t-distribution family and its relationship with the normal distribution.\n",
    "2.\tUse results from the assumption of normality or the Central Limit Theorem to perform estimation and hypothesis testing.\n",
    "3.\tCompare and contrast the parts of estimation and hypothesis testing that differ between simulation- and resampling-based approaches with the assumption of normality or the Central Limit Theorem- based approaches.\n",
    "4.\tWrite a computer script to perform hypothesis testing based on results from the assumption of normality or the Central Limit Theorem.\n",
    "5.\tDiscuss the potential limitations of these methods."
   ]
  },
  {
   "cell_type": "code",
   "execution_count": null,
   "metadata": {
    "deletable": false,
    "editable": false,
    "nbgrader": {
     "cell_type": "code",
     "checksum": "1d97cdf9a06881ffeb1934f6b23941fe",
     "grade": false,
     "grade_id": "cell-1f4710caa4111248",
     "locked": true,
     "schema_version": 3,
     "solution": false,
     "task": false
    }
   },
   "outputs": [],
   "source": [
    "# Run this cell before continuing.\n",
    "library(tidyverse)\n",
    "library(broom)\n",
    "library(repr)\n",
    "library(digest)\n",
    "library(infer)\n",
    "library(gridExtra)\n",
    "penguins <- read.csv(\"https://raw.githubusercontent.com/allisonhorst/palmerpenguins/master/inst/extdata/penguins.csv\")\n",
    "source(\"tests_worksheet_08.r\")"
   ]
  },
  {
   "cell_type": "markdown",
   "metadata": {
    "deletable": false,
    "editable": false,
    "nbgrader": {
     "cell_type": "markdown",
     "checksum": "c6e84a269ea6d05c99b77c1c37310609",
     "grade": false,
     "grade_id": "cell-b8e4a8453b8cb1df",
     "locked": true,
     "schema_version": 3,
     "solution": false,
     "task": false
    }
   },
   "source": [
    "## 1. Short Recap & Warm-Up\n",
    "\n",
    "This week we will use the Normal Distribution and Central Limit Theorem you learned last week to test hypotheses. Before we start exploring the new material for this week, let's remind ourselves of some of the most important points covered in the previous week."
   ]
  },
  {
   "cell_type": "markdown",
   "metadata": {
    "deletable": false,
    "editable": false,
    "nbgrader": {
     "cell_type": "markdown",
     "checksum": "56bad5ccb0547b96d1f1c0b4bbbbf9a8",
     "grade": false,
     "grade_id": "cell-9bc26fa075f38bce",
     "locked": true,
     "schema_version": 3,
     "solution": false,
     "task": false
    }
   },
   "source": [
    "**Question 1.1**\n",
    "<br>{points: 1}\n",
    "\n",
    "True or false?\n",
    "\n",
    "Given the sample size is large enough, we can use the CLT to obtain an estimator's sampling distribution.\n",
    "\n",
    "_Assign your answer to an object called `answer1.1`. Your answer should be either \"true\" or \"false\", surrounded by quotes._"
   ]
  },
  {
   "cell_type": "code",
   "execution_count": null,
   "metadata": {
    "deletable": false,
    "nbgrader": {
     "cell_type": "code",
     "checksum": "2d1e01a4f85f4ab39404eb42515bf797",
     "grade": false,
     "grade_id": "cell-22fea57a87dbcff8",
     "locked": false,
     "schema_version": 3,
     "solution": true,
     "task": false
    }
   },
   "outputs": [],
   "source": [
    "# answer1.1 <- ...\n",
    "\n",
    "# your code here\n",
    "fail() # No Answer - remove if you provide an answer"
   ]
  },
  {
   "cell_type": "code",
   "execution_count": null,
   "metadata": {
    "deletable": false,
    "editable": false,
    "nbgrader": {
     "cell_type": "code",
     "checksum": "c30016997c6c918f12207a313ebb56b9",
     "grade": true,
     "grade_id": "cell-41af9a6ba1a4c7c2",
     "locked": true,
     "points": 1,
     "schema_version": 3,
     "solution": false,
     "task": false
    }
   },
   "outputs": [],
   "source": [
    "test_1.1()"
   ]
  },
  {
   "cell_type": "markdown",
   "metadata": {
    "deletable": false,
    "editable": false,
    "nbgrader": {
     "cell_type": "markdown",
     "checksum": "2045a94d7f52945f2d41912934fc296d",
     "grade": false,
     "grade_id": "cell-b63018f49eca47f1",
     "locked": true,
     "schema_version": 3,
     "solution": false,
     "task": false
    }
   },
   "source": [
    "**Question 1.2**\n",
    "<br>{points: 1}\n",
    "\n",
    "Suppose the sampling distribution of an unbiased estimator can be reasonably approximated by a $N(\\mu=110, \\sigma = 4)$. What of the following intervals is a valid 92% confidence interval for the parameter? \n",
    "\n",
    "A. $[98.129; 121.871]$\n",
    "\n",
    "B. $[102.1601; 117.8399]$\n",
    "\n",
    "C. $[102.9973; 117.0027]$\n",
    "\n",
    "D. $[103.4206; 116.5794]$\n",
    "\n",
    "_Assign your answer to an object called `answer1.2`. Your answer should be a single character surrounded by quotes._"
   ]
  },
  {
   "cell_type": "code",
   "execution_count": null,
   "metadata": {
    "deletable": false,
    "nbgrader": {
     "cell_type": "code",
     "checksum": "9dfdc3dc00143d29756c970f14a85a7c",
     "grade": false,
     "grade_id": "cell-5038f6f2306eb925",
     "locked": false,
     "schema_version": 3,
     "solution": true,
     "task": false
    }
   },
   "outputs": [],
   "source": [
    "# answer1.2 <- ...\n",
    "\n",
    "# your code here\n",
    "fail() # No Answer - remove if you provide an answer"
   ]
  },
  {
   "cell_type": "code",
   "execution_count": null,
   "metadata": {
    "deletable": false,
    "editable": false,
    "nbgrader": {
     "cell_type": "code",
     "checksum": "9b971ca0b420162eecc56d35041cdf31",
     "grade": true,
     "grade_id": "cell-bf196b06500887d5",
     "locked": true,
     "points": 1,
     "schema_version": 3,
     "solution": false,
     "task": false
    }
   },
   "outputs": [],
   "source": [
    "test_1.2()"
   ]
  },
  {
   "cell_type": "markdown",
   "metadata": {
    "deletable": false,
    "editable": false,
    "nbgrader": {
     "cell_type": "markdown",
     "checksum": "269e56c87cd73a704c58a43f2ad870b3",
     "grade": false,
     "grade_id": "cell-8b6d7c95443ea4e1",
     "locked": true,
     "schema_version": 3,
     "solution": false,
     "task": false
    }
   },
   "source": [
    "**Question 1.3**\n",
    "<br>{points: 1}\n",
    "\n",
    "To estimate the heart rate of patients with a given cardiac disease, you took a sample of 500 patients out of a population of 1300 patients. The average heart rate while resting in your sample was 95 bpm, and the standard deviation 10 bpm. Which of the following options is right?  \n",
    "\n",
    "\n",
    "A. Although our sample size is large, the estimator is not a sum of random components. Therefore, we should not apply the CLT.\n",
    "\n",
    "B. The sample size is too large compared to the population's size, causing a strong violation of the assumption of sample independence. Therefore, we should not apply the CLT.\n",
    "\n",
    "C. Given the large sample size, it is realistic to apply CLT and obtain a 95% confidence interval given by $[75.4004; 114.5996]$;\n",
    "\n",
    "D. Given the large sample size, it is realistic to apply CLT and obtain a 99.7% confidence interval given by $[65.3226; 124.6774]$;\n",
    "\n",
    "E. Both A and B are correct;\n",
    "\n",
    "F. Both C and D are correct;\n",
    "\n",
    "_Assign your answer to an object called `answer1.3`. Your answer should be a single character surrounded by quotes._"
   ]
  },
  {
   "cell_type": "code",
   "execution_count": null,
   "metadata": {
    "deletable": false,
    "nbgrader": {
     "cell_type": "code",
     "checksum": "03960e6b3b92d047cb46f9e04bcc5b26",
     "grade": false,
     "grade_id": "cell-496b3df45d3fbda5",
     "locked": false,
     "schema_version": 3,
     "solution": true,
     "task": false
    }
   },
   "outputs": [],
   "source": [
    "# answer1.3 <- ...\n",
    "\n",
    "# your code here\n",
    "fail() # No Answer - remove if you provide an answer"
   ]
  },
  {
   "cell_type": "code",
   "execution_count": null,
   "metadata": {
    "deletable": false,
    "editable": false,
    "lines_to_next_cell": 0,
    "nbgrader": {
     "cell_type": "code",
     "checksum": "7f8276d98aaeff8b98eb1dad5b9a6842",
     "grade": true,
     "grade_id": "cell-1650f0ebc5f3a664",
     "locked": true,
     "points": 1,
     "schema_version": 3,
     "solution": false,
     "task": false
    }
   },
   "outputs": [],
   "source": [
    "test_1.3()"
   ]
  },
  {
   "cell_type": "markdown",
   "metadata": {
    "deletable": false,
    "editable": false,
    "nbgrader": {
     "cell_type": "markdown",
     "checksum": "28b63f26e909b9388b01b5407b38402b",
     "grade": false,
     "grade_id": "cell-ed779909e05c6d10",
     "locked": true,
     "schema_version": 3,
     "solution": false,
     "task": false
    }
   },
   "source": [
    "## 2. Student's t Distribution (or, t-distribution)\n",
    "\n",
    "The $t$-distribution family is quite similar to the standard Normal distribution:\n",
    "- it is symmetric;\n",
    "- it is bell-shaped;\n",
    "- it is unimodal;\n",
    "\n",
    "Run the cell below to see a plot of some t-distributions."
   ]
  },
  {
   "cell_type": "code",
   "execution_count": null,
   "metadata": {
    "deletable": false,
    "editable": false,
    "nbgrader": {
     "cell_type": "code",
     "checksum": "ac66856386f18e4f96d5534e0dea38c4",
     "grade": false,
     "grade_id": "cell-c77e09df133080cb",
     "locked": true,
     "schema_version": 3,
     "solution": false,
     "task": false
    }
   },
   "outputs": [],
   "source": [
    "options(repr.plot.width=15, repr.plot.height=7)\n",
    "\n",
    "densities <- \n",
    "    tibble(degrees_of_freedom = c(1, 5, 10)) %>% \n",
    "    mutate(tdensity = map(degrees_of_freedom, ~tibble(x = seq(-4, 4, 0.01),\n",
    "                                     t_density = dt(x,.x),\n",
    "                                     std_Gaussian = dnorm(x) ))) %>% \n",
    "    mutate(degrees_of_freedom = as_factor(degrees_of_freedom)) %>% \n",
    "    unnest(tdensity)\n",
    "    \n",
    "\n",
    "densities %>% \n",
    "    ggplot() +\n",
    "    geom_line(aes(x, t_density, color = degrees_of_freedom)) + \n",
    "    geom_line(aes(x, std_Gaussian), lwd = 1.2) + \n",
    "    ggtitle(\"Densities of t-Distributions and Standard Gaussian (the thicker black line)\") + \n",
    "    ylab(\"Density\") + \n",
    "    theme(text = element_text(size=20)) "
   ]
  },
  {
   "cell_type": "markdown",
   "metadata": {
    "deletable": false,
    "editable": false,
    "nbgrader": {
     "cell_type": "markdown",
     "checksum": "ca74d97eeb98e9ea177d5efc63d2ea78",
     "grade": false,
     "grade_id": "cell-83597fc22c9da81e",
     "locked": true,
     "schema_version": 3,
     "solution": false,
     "task": false
    }
   },
   "source": [
    "Although t-distributions are very similar to the Standard Gaussian distribution, there are some key differences. A t-distribution:\n",
    "\n",
    "- is always centred around 0.\n",
    "- has only one parameter: the degrees of freedom (which controls the spread)\n",
    "- has heavier tails (mostly for low values of degrees of freedom)\n",
    "- converges to the Normal distribution for large degrees of freedom (it does not need to be very large, a t-distribution with 50 or more degrees of freedom is almost identical to the Normal distribution).\n",
    "\n",
    "The heavier tails of the t-distribution allow us to account for \"additional\" uncertainty compared to the Gaussian distribution. In fact, that was the reason it came up. The t-distribution family was found by William Gosset, an employee at Guinness Brewery, when studying the error around the sample mean for small samples (so, CLT was not applicable). The story behind t-Distribution is quite interesting, and you can read more [here](https://priceonomics.com/the-guinness-brewer-who-revolutionized-statistics/) if you are curious.\n",
    "\n",
    "To understand better the heavier tails of the t-distributions, let us discuss an example. \n"
   ]
  },
  {
   "cell_type": "code",
   "execution_count": null,
   "metadata": {
    "deletable": false,
    "editable": false,
    "nbgrader": {
     "cell_type": "code",
     "checksum": "a6e0a9e6c0b33b8065d93d6fa9d1e758",
     "grade": false,
     "grade_id": "cell-40eae262499f58c4",
     "locked": true,
     "schema_version": 3,
     "solution": false,
     "task": false
    }
   },
   "outputs": [],
   "source": [
    "# Run this cell before continuing. \n",
    "\n",
    "set.seed(1)\n",
    "\n",
    "mu = 1.7\n",
    "sigma = 0.07\n",
    "gaussian_pop <- \n",
    "    tibble(height = rnorm(10000, mu, sigma))"
   ]
  },
  {
   "cell_type": "markdown",
   "metadata": {
    "deletable": false,
    "editable": false,
    "nbgrader": {
     "cell_type": "markdown",
     "checksum": "6ad63c77defa3c4d6d55bea5120aeed3",
     "grade": false,
     "grade_id": "cell-4628997437de3e10",
     "locked": true,
     "schema_version": 3,
     "solution": false,
     "task": false
    }
   },
   "source": [
    "**Question 2.1**\n",
    "<br>{points: 1}\n",
    "\n",
    "In the tibble `gaussian_pop`, we measured the height of 10,000 people, which will be our population of interest. Let us take a look at the population distribution. Use the scaffolding below to plot the histogram with the normal distribution:\n",
    "\n",
    "_Assign your answer to an object named `gaussian_pop_dist`._"
   ]
  },
  {
   "cell_type": "code",
   "execution_count": null,
   "metadata": {
    "deletable": false,
    "nbgrader": {
     "cell_type": "code",
     "checksum": "91af037aaa19d97ddb0d18478f10c337",
     "grade": false,
     "grade_id": "cell-f16aa82937997e64",
     "locked": false,
     "schema_version": 3,
     "solution": true,
     "task": false
    }
   },
   "outputs": [],
   "source": [
    "# gaussian_pop_dist <- \n",
    "#     ... %>%   \n",
    "#     ... +\n",
    "#     ...(aes(..., y = ..density..), color = 'white') +\n",
    "#     geom_line(data = tibble(x = seq(mu - 3.5*sigma, mu + 3.5*sigma, 0.01), \n",
    "#                             density = dnorm(x, mu, sigma)), \n",
    "#               aes(x = x, y = density), color = \"red\", lwd = 2) +\n",
    "#     ggtitle(...) +\n",
    "#     theme(text = element_text(size = 22))\n",
    "\n",
    "# your code here\n",
    "fail() # No Answer - remove if you provide an answer\n",
    "\n",
    "gaussian_pop_dist"
   ]
  },
  {
   "cell_type": "code",
   "execution_count": null,
   "metadata": {
    "deletable": false,
    "editable": false,
    "nbgrader": {
     "cell_type": "code",
     "checksum": "5383b4d3eff18fa8f999459cbdf9a411",
     "grade": true,
     "grade_id": "cell-4e3592460e341c52",
     "locked": true,
     "points": 1,
     "schema_version": 3,
     "solution": false,
     "task": false
    }
   },
   "outputs": [],
   "source": [
    "test_2.1()"
   ]
  },
  {
   "cell_type": "markdown",
   "metadata": {
    "deletable": false,
    "editable": false,
    "nbgrader": {
     "cell_type": "markdown",
     "checksum": "ed325146a1ffeecef1e5f3447baa8fc0",
     "grade": false,
     "grade_id": "cell-7041748307409496",
     "locked": true,
     "schema_version": 3,
     "solution": false,
     "task": false
    }
   },
   "source": [
    "**Question 2.2**\n",
    "<br> {points: 1}\n",
    "\n",
    "Last week we saw that the Central Limit Theorem roughly states that the sampling distribution of the sample mean converges to $N\\left(\\mu, \\sigma/\\sqrt{n}\\right)$, where $\\mu$ and $\\sigma$ are, respectively, the mean and standard deviation of the population. But what is the distribution of the sample mean for small sample sizes? Unfortunately, it will be highly dependent on the population distribution. If the population is normally distributed, the sampling distribution of the mean is also normally distributed. More specifically, it is $N\\left(\\mu, \\sigma/\\sqrt{n}\\right)$. \n",
    "\n",
    "The previous question clearly showed that our population follows a normal distribution. Now, we are going to draw a large number of **small** samples from the population and calculate their sample means. But this time, we want to standardize the sample means by calculating the Z-score:\n",
    "\n",
    "$$\n",
    "Z = \\frac{\\bar{x}_i - \\mu}{\\sigma/\\sqrt{n}}\n",
    "$$\n",
    "\n",
    "We are still pretending that we know $\\mu$ and $\\sigma$, which are stored in the `mu` and `sigma` variables, respectively. Our Z-score distribution will be the Standard Normal, i.e., $N(0,1)$. \n",
    "\n",
    "Here's your job:\n",
    "\n",
    "1. draw 2000 samples of size seven from the `gaussian_pop`;\n",
    "2. for each sample, calculate the sample average;\n",
    "3. then, obtain the transformed Z-scores of the sample averages and store them in a column named `z`;\n",
    "\n",
    "_Assign your data frame to an object called `zscore_sample_means`. The data frame should have three columns `replicate`, `sample_mean` and `z`_"
   ]
  },
  {
   "cell_type": "code",
   "execution_count": null,
   "metadata": {
    "deletable": false,
    "nbgrader": {
     "cell_type": "code",
     "checksum": "8adad9f43f2cb210c13bb46c2236e426",
     "grade": false,
     "grade_id": "cell-9d2c2dd1c3c43a64",
     "locked": false,
     "schema_version": 3,
     "solution": true,
     "task": false
    }
   },
   "outputs": [],
   "source": [
    "set.seed(89) # Do not change this\n",
    "n <- 7\n",
    "\n",
    "# zscore_sample_means <-\n",
    "#     gaussian_pop %>% \n",
    "#     rep_sample_n(...) %>% \n",
    "#     group_by(...) %>% \n",
    "#     summarise(sample_mean = ...) %>% \n",
    "#     mutate(z = ... )\n",
    "\n",
    "# your code here\n",
    "fail() # No Answer - remove if you provide an answer\n",
    "\n",
    "head(zscore_sample_means)\n"
   ]
  },
  {
   "cell_type": "code",
   "execution_count": null,
   "metadata": {
    "deletable": false,
    "editable": false,
    "nbgrader": {
     "cell_type": "code",
     "checksum": "cfa1a1c89ddaa2e5de24cd94dfae7d38",
     "grade": true,
     "grade_id": "cell-c51d9be59541f814",
     "locked": true,
     "points": 1,
     "schema_version": 3,
     "solution": false,
     "task": false
    }
   },
   "outputs": [],
   "source": [
    "test_2.2()"
   ]
  },
  {
   "cell_type": "markdown",
   "metadata": {
    "deletable": false,
    "editable": false,
    "nbgrader": {
     "cell_type": "markdown",
     "checksum": "6a8c6f8d85cebe21c6c6165b1fc8ae43",
     "grade": false,
     "grade_id": "cell-9500a6592baa41e1",
     "locked": true,
     "schema_version": 3,
     "solution": false,
     "task": false
    }
   },
   "source": [
    "**Question 2.3**\n",
    "<br> {points: 1}\n",
    "\n",
    "Compare the sampling distribution of the z-scores of the sample mean that you obtained in the previous question with the density line of a $N(0, 1)$. Use `binwidth` equals 0.3.\n",
    "\n",
    "_Assign your plot to an object called `sampling_dist_sample_mean_z`._"
   ]
  },
  {
   "cell_type": "code",
   "execution_count": null,
   "metadata": {
    "deletable": false,
    "nbgrader": {
     "cell_type": "code",
     "checksum": "48e8563d8eebe5efba9e356ca59f5afc",
     "grade": false,
     "grade_id": "cell-149d7a16a57d0af2",
     "locked": false,
     "schema_version": 3,
     "solution": true,
     "task": false
    }
   },
   "outputs": [],
   "source": [
    "# sampling_dist_sample_mean_z <- \n",
    "#     ... %>% \n",
    "#     ... + \n",
    "#     geom_...(aes(..., ..density..), color = 'white', binwidth = ...) + \n",
    "#     geom_line(data = tibble(x = seq(-3.5, 3.5, 0.01), \n",
    "#                             density = dnorm(x, 0, 1)), \n",
    "#               aes(x = x, y = density), color = \"red\", lwd = 2) +\n",
    "#     theme(text = element_text(size = 22)) +\n",
    "#     xlab(\"Sample Mean of Z-score\") +\n",
    "#     ggtitle(\"Sampling distribution of the Z-scores of the sample mean vs Standard Normal density\")\n",
    "\n",
    "# your code here\n",
    "fail() # No Answer - remove if you provide an answer\n",
    "\n",
    "sampling_dist_sample_mean_z"
   ]
  },
  {
   "cell_type": "code",
   "execution_count": null,
   "metadata": {
    "deletable": false,
    "editable": false,
    "nbgrader": {
     "cell_type": "code",
     "checksum": "8023351d4486add120af506b1a86b939",
     "grade": true,
     "grade_id": "cell-9e7679510421fd2a",
     "locked": true,
     "points": 1,
     "schema_version": 3,
     "solution": false,
     "task": false
    }
   },
   "outputs": [],
   "source": [
    "test_2.3()"
   ]
  },
  {
   "cell_type": "markdown",
   "metadata": {
    "deletable": false,
    "editable": false,
    "nbgrader": {
     "cell_type": "markdown",
     "checksum": "14ed2f948999e56d30fce45cef1117d5",
     "grade": false,
     "grade_id": "cell-5e7920cd01f0e699",
     "locked": true,
     "schema_version": 3,
     "solution": false,
     "task": false
    }
   },
   "source": [
    "**Question 2.4**\n",
    "<br> {points: 1}\n",
    "\n",
    "In the previous question, you used the population standard deviation (which almost always is unknown) to calculate the z-scores. What can we do in the cases we do not know the true value of $\\sigma$? A reasonable answer would be to use the sample standard deviation, $s$. However, by using this approach, there will be an increase in uncertainty. The value of $\\sigma$ is fixed, a constant that is just unknown. If we use $s$ instead, we are replacing a constant $\\sigma$ with a random variable that changes from sample to sample. Therefore, it would certainly increase our uncertainty as the formula for the z-score now is changing from sample to sample. Would this additional uncertainty affect the sampling distribution of the z-scores of the sample mean? Take a minute to think about this. What do you expect to happen to the sampling distribution above if we have this extra layer of uncertainty?\n",
    "\n",
    "In this exercise, you are going to:\n",
    "1. take 10000 samples of size $n=5$\n",
    "2. calculate the sample average and sample standard deviation of each sample, store them in  variables named `sample_mean` and `sample_sd`, respectively\n",
    "3. calculate the Z-scores of the sample average, but this time using $s$ instead of $\\sigma$, store them in a column called `z`\n",
    "4. plot the histogram of the sample averages\n",
    "5. plot the density line of the $N(0, 1)$\n",
    "5. plot the density line of the $t_{6}$\n",
    "\n",
    "The scaffolding below is provided to help you accomplish these steps:\n",
    "\n",
    "```r\n",
    "n <- 5\n",
    "sampling_dist_zscore_s <-\n",
    "    gaussian_pop %>% \n",
    "    rep_sample_n(reps = ..., size = n, replace = ...) %>% \n",
    "    group_by(...) %>% \n",
    "    summarise(sample_mean = ..., sd = ...) %>% \n",
    "    mutate(z = ...) %>% \n",
    "    ggplot() +\n",
    "    geom_histogram(aes(..., ..density..), color = 'white', binwidth = 0.3) + \n",
    "    geom_line(data = tibble(x = seq(-3.5, 3.5, 0.01), \n",
    "                            std_normal = dnorm(x, 0, 1), \n",
    "                            t = dt(x, n-1)) %>% \n",
    "                      pivot_longer(cols = c(std_normal, t), \n",
    "                                   names_to = \"distribution\", \n",
    "                                   values_to = \"density\"), \n",
    "              aes(x = x, y = density, color = distribution), lwd = 2) +\n",
    "    theme(text = element_text(size = 22)) + \n",
    "    xlab(\"...\") +\n",
    "    ggtitle(\"Z-score of sample means of height\") +\n",
    "    xlim(-4, 4)\n",
    "```\n",
    "\n",
    "Pay close attention to the tails of the distributions.\n",
    "\n",
    "_Assign your plot to an object called `sampling_dist_zscore_s`._"
   ]
  },
  {
   "cell_type": "code",
   "execution_count": null,
   "metadata": {
    "deletable": false,
    "nbgrader": {
     "cell_type": "code",
     "checksum": "34750fc91766aab19d3b346c743a3e5e",
     "grade": false,
     "grade_id": "cell-0b53f7183cb0d781",
     "locked": false,
     "schema_version": 3,
     "solution": true,
     "task": false
    }
   },
   "outputs": [],
   "source": [
    "set.seed(5) # Do not change this\n",
    "\n",
    "# n <- ...\n",
    "# sampling_dist_zscore_s <-\n",
    "#     ... %>% \n",
    "#     rep_sample_n(reps = ..., size = n, replace = ...) %>% \n",
    "#     group_by(...) %>% \n",
    "#     summarise(sample_mean = ..., sample_sd = ...) %>% \n",
    "#     mutate(z = ...) %>% \n",
    "#     ggplot() +\n",
    "#     ...(aes(..., ..density..), color = 'white', binwidth = 0.3) + \n",
    "#     geom_line(data = tibble(x = seq(-3.5, 3.5, 0.01), \n",
    "#        std_normal = dnorm(x, 0, 1), \n",
    "#        t = dt(x, n-1)) %>% pivot_longer(cols = c(std_normal, t), names_to = \"distribution\", values_to = \"density\"), \n",
    "#               aes(x = x, y = density, color = distribution), lwd = 2) +\n",
    "#     theme(text = element_text(size = 22)) + \n",
    "#     xlab(\"Sample Mean of Z-score\") +\n",
    "#     ggtitle(...) +\n",
    "#     xlim(-4, 4)\n",
    "\n",
    "# your code here\n",
    "fail() # No Answer - remove if you provide an answer\n",
    "\n",
    "sampling_dist_zscore_s"
   ]
  },
  {
   "cell_type": "code",
   "execution_count": null,
   "metadata": {
    "deletable": false,
    "editable": false,
    "nbgrader": {
     "cell_type": "code",
     "checksum": "ff82a9e1efa7c6b2546264050c18d21b",
     "grade": true,
     "grade_id": "cell-a9dbd7b65d217f3b",
     "locked": true,
     "points": 1,
     "schema_version": 3,
     "solution": false,
     "task": false
    }
   },
   "outputs": [],
   "source": [
    "test_2.4()"
   ]
  },
  {
   "cell_type": "markdown",
   "metadata": {
    "deletable": false,
    "editable": false,
    "nbgrader": {
     "cell_type": "markdown",
     "checksum": "f2562286f558f98d4ab075bac8e3b7f5",
     "grade": false,
     "grade_id": "cell-52703efe93dc8b14",
     "locked": true,
     "schema_version": 3,
     "solution": false,
     "task": false
    }
   },
   "source": [
    "Please take a close look at the distribution's tails and note how our Z-Scores are more spread. If we use the normal distribution to approximate this sampling distribution, we will end up with narrower confidence intervals than we should. Remember when you compared the bootstrap confidence interval with the CLT confidence interval in the previous worksheet? However, for larger sample sizes, the t-distribution becomes much closer to the normal distribution, and the difference of using the normal distribution instead of t-distribution diminishes. "
   ]
  },
  {
   "cell_type": "markdown",
   "metadata": {
    "deletable": false,
    "editable": false,
    "nbgrader": {
     "cell_type": "markdown",
     "checksum": "af5b4d98c1853acae86734a97364d8ab",
     "grade": false,
     "grade_id": "cell-20c3b031b431fd93",
     "locked": true,
     "schema_version": 3,
     "solution": false,
     "task": false
    }
   },
   "source": [
    "## 3. Hypothesis Testing"
   ]
  },
  {
   "cell_type": "markdown",
   "metadata": {
    "deletable": false,
    "editable": false,
    "nbgrader": {
     "cell_type": "markdown",
     "checksum": "df56da2d0d0b94432fd945396aeb44b8",
     "grade": false,
     "grade_id": "cell-8da811d25b8cc73a",
     "locked": true,
     "schema_version": 3,
     "solution": false,
     "task": false
    }
   },
   "source": [
    "### 3.1 Testing the Mean of One Population:  `one-sample t-test`\n",
    "\n",
    "In this section, we will use a mathematical approximation to test the population mean. The cases to be considered will be: \n",
    "\n",
    "- $H_0: \\mu = \\mu_0$ vs $H_1: \\mu < \\mu_0$\n",
    "\n",
    "- $H_0: \\mu = \\mu_0$ vs $H_1: \\mu > \\mu_0$\n",
    "\n",
    "- $H_0: \\mu = \\mu_0$ vs $H_1: \\mu \\neq \\mu_0$\n",
    "\n",
    "To test $H_0$, we use the following test statistic:\n",
    "\n",
    "$$\n",
    "T = \\frac{\\bar{x} - \\mu_0}{s/\\sqrt{n}}\n",
    "$$\n",
    "\n",
    "where $\\bar{x}$ is the sample mean, $s$ is the sample standard deviation, $n$ is the sample size, and $\\mu_0$ is the value of $\\mu$ under $H_0$. \n",
    "\n",
    "To test the hypotheses, we need to know the sampling distribution of $T$ under the assumption that $H_0$ is true. There are two cases to consider:\n",
    "\n",
    "<br>\n",
    "<dl>\n",
    "<dt> Case 1: The population is normally distributed\n",
    "<dd> In this case, under $H_0$ (i.e., if $H_0$ were true), $T$ will follow a t-distribution with $n-1$ degrees of freedom, denoted by $t_{n-1}$. This is true for any sample size. We do not need to use the CLT in this case.\n",
    "<br>\n",
    "<br>\n",
    "<dt> Case 2: The population is NOT normally distributed\n",
    "<dd> In this case, we need to rely on the CLT. According to the CLT, the sampling distribution of the sample average $\\bar{X}$ will converge to a Normal distribution. Therefore, given that $n$ is large enough, the distribution of $T$ will also converge to a $t_{n-1}$ under $H_0$. But in this case, you need to rely that $n$ is big enough.\n",
    "</dl>\n",
    "\n",
    "Knowing the distribution of our test statistic $T$ allows us to check if the observed test statistic would be a plausible value if $H_0$ were true. If the observed test statistics fall in the red region in the plots below, we will reject $H_0$. The significance level specifies the size of the red region. "
   ]
  },
  {
   "cell_type": "code",
   "execution_count": null,
   "metadata": {
    "deletable": false,
    "editable": false,
    "nbgrader": {
     "cell_type": "code",
     "checksum": "645222ff40f4510b4f47133335b80042",
     "grade": false,
     "grade_id": "cell-ddde570668b633a4",
     "locked": true,
     "schema_version": 3,
     "solution": false,
     "task": false
    }
   },
   "outputs": [],
   "source": [
    "# Run this cell to see the plots\n",
    "\n",
    "options(repr.plot.width = 20, repr.plot.height = 12)\n",
    "\n",
    "q <- map_dbl(c(0.05, 0.025, 0.975, 0.95), qt, df = 25)\n",
    "t <- tibble(T = seq(-4, 4, 0.01), density = dt(T, 25))\n",
    "    \n",
    "\n",
    "base_plot <-\n",
    "    ggplot(t) + \n",
    "    geom_line(aes(T, density)) + \n",
    "    theme(text = element_text(size=26)) +\n",
    "    ylab(\"Density of the test statistic T\")\n",
    "\n",
    "plots <- list()\n",
    "plots[[1]] <-    \n",
    "    base_plot + \n",
    "    geom_ribbon(t %>% filter(T < qt(0.1, 25)),\n",
    "                mapping = aes(x = T, ymax = density, ymin = 0), alpha = 0.5, fill = \"red\") + \n",
    "    ggtitle(expression(paste(H[0], \": \", mu == mu[0], \" vs \", H[1], \": \", mu < mu[0],))) + \n",
    "    scale_x_continuous(labels = expression(q[alpha]), breaks = c(qt(0.1, 25)) ) + \n",
    "    geom_segment(aes(x = qt(0.1, 25), xend= qt(0.1, 25), y = 0, yend=dt(qt(0.1, 25), 25)), colour=\"black\", linetype = 'dashed')\n",
    "\n",
    "\n",
    "\n",
    "plots[[2]] <-    \n",
    "    base_plot + \n",
    "    geom_ribbon(t %>% filter(T < qt(0.05, 25)),\n",
    "                mapping = aes(x = T, ymax = density, ymin = 0), alpha = 0.5, fill = \"red\") +\n",
    "    geom_ribbon(t %>% filter(T > qt(0.95, 25)),\n",
    "                mapping = aes(x = T, ymax = density, ymin = 0), alpha = 0.5, fill = \"red\") + \n",
    "    ggtitle(expression(paste(H[0], \": \", mu == mu[0], \" vs \", H[1], \": \", mu != mu[0],))) + \n",
    "    scale_x_continuous(labels = c(expression(q[alpha/2]), expression(q[1-alpha/2])), breaks = c(qt(0.05, 25), qt(0.95, 25)) ) +\n",
    "    geom_segment(aes(x = qt(0.05, 25), xend= qt(0.05, 25), y = 0, yend=dt(qt(0.05, 25), 25)), colour=\"black\", linetype = 'dashed') +\n",
    "    geom_segment(aes(x = qt(0.95, 25), xend= qt(0.95, 25), y = 0, yend=dt(qt(0.95, 25), 25)), colour=\"black\", linetype = 'dashed')\n",
    "\n",
    "plots[[3]] <-    \n",
    "    base_plot + \n",
    "    geom_ribbon(t %>% filter(T > qt(0.9, 25)),\n",
    "                mapping = aes(x = T, ymax = density, ymin = 0), alpha = 0.5, fill = \"red\") + \n",
    "    ggtitle(expression(paste(H[0], \": \", mu == mu[0], \" vs \", H[1], \": \", mu > mu[0],))) + \n",
    "    scale_x_continuous(labels = expression(q[1-alpha]), breaks = c(qt(0.9, 25)) ) +\n",
    "    geom_segment(aes(x = qt(0.9, 25), xend= qt(0.9, 25), y = 0, yend=dt(qt(0.9, 25), 25)), colour=\"black\", linetype = 'dashed')\n",
    "\n",
    "grid.arrange(grobs = plots, ncol = 2)"
   ]
  },
  {
   "cell_type": "markdown",
   "metadata": {
    "deletable": false,
    "editable": false,
    "nbgrader": {
     "cell_type": "markdown",
     "checksum": "4f9807a5cfd97a67abc67f784316eafb",
     "grade": false,
     "grade_id": "cell-e9c1f30bb7d68318",
     "locked": true,
     "schema_version": 3,
     "solution": false,
     "task": false
    }
   },
   "source": [
    "Now it is your turn! \n",
    "\n",
    "The medical community has long declared the average temperature of healthy human bodies to be 98.2 degrees Fahrenheit. Let us check such a claim. We have body temperature measurements of 130 people ([ref 1](http://jse.amstat.org/datasets/normtemp.txt)). The data set has three columns:\n",
    "\n",
    "1. the body temperature (in degree Fahrenheit);\n",
    "2. the sex;\n",
    "3. heart rate (beats per minute) \n",
    "\n",
    "Run the cell below to load the data set."
   ]
  },
  {
   "cell_type": "code",
   "execution_count": null,
   "metadata": {
    "deletable": false,
    "editable": false,
    "nbgrader": {
     "cell_type": "code",
     "checksum": "20ca684a9564fe591ca30fe80d458739",
     "grade": false,
     "grade_id": "cell-b806bcbe926a67b6",
     "locked": true,
     "schema_version": 3,
     "solution": false,
     "task": false
    }
   },
   "outputs": [],
   "source": [
    "options(repr.plot.width = 16, repr.plot.height = 8)\n",
    "# Run this cell before continuing\n",
    "body_temp <-\n",
    "    read.table(\"http://jse.amstat.org/datasets/normtemp.dat.txt\",\n",
    "                col.names = c(\"body_temp\", \"sex\", \"heart_rate\"), header = FALSE) %>% \n",
    "    mutate(sex = if_else(sex == 1, \"male\", \"female\")) %>% \n",
    "    mutate(sex = as_factor(sex))\n",
    "    \n",
    "\n",
    "head(body_temp)"
   ]
  },
  {
   "cell_type": "markdown",
   "metadata": {
    "deletable": false,
    "editable": false,
    "nbgrader": {
     "cell_type": "markdown",
     "checksum": "81f222178c98565814e009e5bce82371",
     "grade": false,
     "grade_id": "cell-7196b2d4a8f1697b",
     "locked": true,
     "schema_version": 3,
     "solution": false,
     "task": false
    }
   },
   "source": [
    "**Question 3.1.0**\n",
    "<br>{points: 1}\n",
    "\n",
    "Which of the options below has the appropriate hypotheses?\n",
    "\n",
    "A. $H_0: \\mu = \\mu_0$ vs $H_1: \\mu < \\mu_0$\n",
    "\n",
    "B. $H_0: \\mu = \\mu_0$ vs $H_1: \\mu > \\mu_0$\n",
    "\n",
    "C. $H_0: \\mu = \\mu_0$ vs $H_1: \\mu \\neq \\mu_0$\n",
    "\n",
    "D. $H_0: \\mu \\neq \\mu_0$ vs $H_1: \\mu = \\mu_0$\n",
    "\n",
    "E. $H_0: \\mu < \\mu_0$ vs $H_1: \\mu = \\mu_0$\n",
    "\n",
    "F. $H_0: \\mu > \\mu_0$ vs $H_1: \\mu = \\mu_0$\n",
    "\n",
    "G. $H_0: \\mu \\geq \\mu_0$ vs $H_1: \\mu < \\mu_0$\n",
    "\n",
    "H. $H_0: \\mu \\leq \\mu_0$ vs $H_1: \\mu > \\mu_0$\n",
    "\n",
    "_Assign your answer to an object called `answer3.1.0`. Your answer should be a single character surrounded by quotes._"
   ]
  },
  {
   "cell_type": "code",
   "execution_count": null,
   "metadata": {
    "deletable": false,
    "nbgrader": {
     "cell_type": "code",
     "checksum": "e3327628996f1ce0bf065a75b42c3b95",
     "grade": false,
     "grade_id": "cell-a3fc05cfbc39db81",
     "locked": false,
     "schema_version": 3,
     "solution": true,
     "task": false
    }
   },
   "outputs": [],
   "source": [
    "# answer3.1.0 <- ...\n",
    "\n",
    "# your code here\n",
    "fail() # No Answer - remove if you provide an answer"
   ]
  },
  {
   "cell_type": "code",
   "execution_count": null,
   "metadata": {
    "deletable": false,
    "editable": false,
    "nbgrader": {
     "cell_type": "code",
     "checksum": "a8bd41aec36fab49c0116985fa6755c7",
     "grade": true,
     "grade_id": "cell-67dd7e786505470d",
     "locked": true,
     "points": 1,
     "schema_version": 3,
     "solution": false,
     "task": false
    }
   },
   "outputs": [],
   "source": [
    "test_3.1.0()"
   ]
  },
  {
   "cell_type": "markdown",
   "metadata": {
    "deletable": false,
    "editable": false,
    "nbgrader": {
     "cell_type": "markdown",
     "checksum": "bdca6d2200b05c66c3f71f1e016696bb",
     "grade": false,
     "grade_id": "cell-2f57b29daf7d061b",
     "locked": true,
     "schema_version": 3,
     "solution": false,
     "task": false
    }
   },
   "source": [
    "**Question 3.1.1**\n",
    "<br> {points: 1}\n",
    "\n",
    "To begin our study, we need to take a look at the sample distribution to understand if we are dealing with a roughly Normal distribution or a super weird distribution (or anything in between). Plot the sample histogram of `body_temp`. Use `bindwith` equals 0.2.\n",
    "\n",
    "_Assign your plot to an object called `answer3.1.1`._"
   ]
  },
  {
   "cell_type": "code",
   "execution_count": null,
   "metadata": {
    "deletable": false,
    "nbgrader": {
     "cell_type": "code",
     "checksum": "fa1775f61fbdbb1bc3de2204909431f6",
     "grade": false,
     "grade_id": "cell-d60586b2c5888300",
     "locked": false,
     "schema_version": 3,
     "solution": true,
     "task": false
    }
   },
   "outputs": [],
   "source": [
    "# answer3.1.1 <-\n",
    "#    ... %>% \n",
    "#    ...\n",
    "\n",
    "# your code here\n",
    "fail() # No Answer - remove if you provide an answer\n",
    "\n",
    "answer3.1.1"
   ]
  },
  {
   "cell_type": "code",
   "execution_count": null,
   "metadata": {
    "deletable": false,
    "editable": false,
    "nbgrader": {
     "cell_type": "code",
     "checksum": "c33104687e8116281b280b6abd50610e",
     "grade": true,
     "grade_id": "cell-5002856142358a5b",
     "locked": true,
     "points": 1,
     "schema_version": 3,
     "solution": false,
     "task": false
    }
   },
   "outputs": [],
   "source": [
    "test_3.1.1()"
   ]
  },
  {
   "cell_type": "markdown",
   "metadata": {
    "deletable": false,
    "editable": false,
    "nbgrader": {
     "cell_type": "markdown",
     "checksum": "74d61d61383a82324fe67df09ed156ef",
     "grade": false,
     "grade_id": "cell-7db7f5f3693ec831",
     "locked": true,
     "schema_version": 3,
     "solution": false,
     "task": false
    }
   },
   "source": [
    "**Question 3.1.2**\n",
    "<br>{points: 1}\n",
    "\n",
    "True or false?\n",
    "\n",
    "The sample distribution of body temperature is roughly symmetrical and unimodal. It does not seem to be too far from the Normal distribution. At the very least, it indicates that it should be ok to rely on the CLT here. \n",
    "\n",
    "\n",
    "_Assign your answer to an object called `answer3.1.2`. Your answer should be either \"true\" or \"false\", surrounded by quotes._"
   ]
  },
  {
   "cell_type": "code",
   "execution_count": null,
   "metadata": {
    "deletable": false,
    "nbgrader": {
     "cell_type": "code",
     "checksum": "66867e1e72d13f218daeb6bedcbcbe4d",
     "grade": false,
     "grade_id": "cell-976b4dff7cfabc01",
     "locked": false,
     "schema_version": 3,
     "solution": true,
     "task": false
    }
   },
   "outputs": [],
   "source": [
    "# answer3.1.2 <- ...\n",
    "\n",
    "# your code here\n",
    "fail() # No Answer - remove if you provide an answer"
   ]
  },
  {
   "cell_type": "code",
   "execution_count": null,
   "metadata": {
    "deletable": false,
    "editable": false,
    "nbgrader": {
     "cell_type": "code",
     "checksum": "12e31511b60cdaafb225850df6e3752e",
     "grade": true,
     "grade_id": "cell-551f0511b3e6ccc6",
     "locked": true,
     "points": 1,
     "schema_version": 3,
     "solution": false,
     "task": false
    }
   },
   "outputs": [],
   "source": [
    "test_3.1.2()"
   ]
  },
  {
   "cell_type": "markdown",
   "metadata": {
    "deletable": false,
    "editable": false,
    "nbgrader": {
     "cell_type": "markdown",
     "checksum": "b46f0eb810e7d2a6258353da81aa4ebf",
     "grade": false,
     "grade_id": "cell-b7b88433d8f46dca",
     "locked": true,
     "schema_version": 3,
     "solution": false,
     "task": false
    }
   },
   "source": [
    "**Question 3.1.3** \n",
    "<br> {points: 1}\n",
    "\n",
    "Calculate the test statistic, $T$.\n",
    "\n",
    "_Assign your answer to an object called `observed_test_statistic3.1.3`. Your answer should be a single number._"
   ]
  },
  {
   "cell_type": "code",
   "execution_count": null,
   "metadata": {
    "deletable": false,
    "nbgrader": {
     "cell_type": "code",
     "checksum": "f1ac3fb8a6ed2d963c30ee284aa87262",
     "grade": false,
     "grade_id": "cell-cf8cd526c00c5e2f",
     "locked": false,
     "schema_version": 3,
     "solution": true,
     "task": false
    }
   },
   "outputs": [],
   "source": [
    "# observed_test_statistic3.1.3 <- \n",
    "#    (mean(body_temp$...) - ...) / ( ... / ...(nrow(...)))\n",
    "\n",
    "# your code here\n",
    "fail() # No Answer - remove if you provide an answer\n",
    "\n",
    "observed_test_statistic3.1.3"
   ]
  },
  {
   "cell_type": "code",
   "execution_count": null,
   "metadata": {
    "deletable": false,
    "editable": false,
    "nbgrader": {
     "cell_type": "code",
     "checksum": "a1c585c53994ab80bef01647f6bf5b62",
     "grade": true,
     "grade_id": "cell-1465a919270fa49d",
     "locked": true,
     "points": 1,
     "schema_version": 3,
     "solution": false,
     "task": false
    }
   },
   "outputs": [],
   "source": [
    "test_3.1.3()"
   ]
  },
  {
   "cell_type": "markdown",
   "metadata": {
    "deletable": false,
    "editable": false,
    "nbgrader": {
     "cell_type": "markdown",
     "checksum": "1b7d94d8fcbe6e5a702db7afb3cc4178",
     "grade": false,
     "grade_id": "cell-b2db52846c7b90f6",
     "locked": true,
     "schema_version": 3,
     "solution": false,
     "task": false
    }
   },
   "source": [
    "**Question 3.1.4**\n",
    "<br> {points: 1}\n",
    "\n",
    "Complete the scaffolding below to plot the null model, i.e., the sampling distribution of $T$ under $H_0$, the observed $T$ value and a ten percent critical region. \n",
    "\n",
    "```r\n",
    "null_model3.1.4 <-\n",
    "    tibble(t = seq(-4, 4, 0.01), density = dt(t, df = ...)) %>% \n",
    "    ggplot() + geom_line(aes(t, density)) +\n",
    "    geom_segment(aes(x = observed_test_statistic3.1.3, \n",
    "                     y = 0, \n",
    "                     xend= observed_test_statistic3.1.3,\n",
    "                     yend = dt(observed_test_statistic3.1.3, ...)),\n",
    "                 colour=\"blue\", linetype = 'dashed') + \n",
    "    geom_ribbon(. %>% filter(t > qt(0.95, ...)),\n",
    "                mapping = aes(x = t, ymax = density, ymin = 0), alpha = 0.5, fill = \"red\") + \n",
    "    geom_ribbon(. %>% filter(t > qt(0.05, ...)),\n",
    "                mapping = aes(x = t, ymax = density, ymin = 0), alpha = 0.5, fill = \"red\")\n",
    "    \n",
    "    theme(text = element_text(size=22)) + \n",
    "    xlab(\"...\") +\n",
    "    ggtitle(\"...\")\n",
    "```\n",
    "\n",
    "_Assign your plot to an object called `null_model3.1.4`._"
   ]
  },
  {
   "cell_type": "code",
   "execution_count": null,
   "metadata": {
    "deletable": false,
    "nbgrader": {
     "cell_type": "code",
     "checksum": "1050c633e85b98fcb813fdfae8655bfc",
     "grade": false,
     "grade_id": "cell-47aa9fe3cbf19d3a",
     "locked": false,
     "schema_version": 3,
     "solution": true,
     "task": false
    }
   },
   "outputs": [],
   "source": [
    "# your code here\n",
    "fail() # No Answer - remove if you provide an answer\n",
    "\n",
    "null_model3.1.4"
   ]
  },
  {
   "cell_type": "code",
   "execution_count": null,
   "metadata": {
    "deletable": false,
    "editable": false,
    "nbgrader": {
     "cell_type": "code",
     "checksum": "20875ae0ae7bee5e9865f8f846e5b85b",
     "grade": true,
     "grade_id": "cell-d5bad26634cc80c6",
     "locked": true,
     "points": 1,
     "schema_version": 3,
     "solution": false,
     "task": false
    }
   },
   "outputs": [],
   "source": [
    "test_3.1.4()"
   ]
  },
  {
   "cell_type": "markdown",
   "metadata": {
    "deletable": false,
    "editable": false,
    "nbgrader": {
     "cell_type": "markdown",
     "checksum": "b3805de475ca8780cfb48c8e2d998af2",
     "grade": false,
     "grade_id": "cell-02078e47ed39c199",
     "locked": true,
     "schema_version": 3,
     "solution": false,
     "task": false
    }
   },
   "source": [
    "**Question 3.1.5** \n",
    "<br> {points: 1}\n",
    "\n",
    "Using the test statistic you obtained in Question 3.1.3, calculate the p-value. \n",
    "\n",
    "_Hint: `pt()` gives the area to the left of a specified value for the t-distribution._\n",
    "\n",
    "_Assign your answer to an object called `answer3.1.5`. Your answer should be a single number._"
   ]
  },
  {
   "cell_type": "code",
   "execution_count": null,
   "metadata": {
    "deletable": false,
    "nbgrader": {
     "cell_type": "code",
     "checksum": "9ac6f192486d2cee74f4bb83794a46a0",
     "grade": false,
     "grade_id": "cell-7d8b5464efba1d7a",
     "locked": false,
     "schema_version": 3,
     "solution": true,
     "task": false
    }
   },
   "outputs": [],
   "source": [
    "# answer3.1.5 <- 2 * pt(..., \n",
    "#                  df = nrow(...) - 1, \n",
    "#                  lower.tail = ... )\n",
    "\n",
    "# your code here\n",
    "fail() # No Answer - remove if you provide an answer\n",
    "\n",
    "answer3.1.5"
   ]
  },
  {
   "cell_type": "code",
   "execution_count": null,
   "metadata": {
    "deletable": false,
    "editable": false,
    "nbgrader": {
     "cell_type": "code",
     "checksum": "41f089532f2ec3ffc76572676caac52b",
     "grade": true,
     "grade_id": "cell-e289db893f5c2fe8",
     "locked": true,
     "points": 1,
     "schema_version": 3,
     "solution": false,
     "task": false
    }
   },
   "outputs": [],
   "source": [
    "test_3.1.5()"
   ]
  },
  {
   "cell_type": "markdown",
   "metadata": {
    "deletable": false,
    "editable": false,
    "nbgrader": {
     "cell_type": "markdown",
     "checksum": "7221910a61a3c240db7065ed69115b9a",
     "grade": false,
     "grade_id": "cell-cea4a7fb4ea5e08e",
     "locked": true,
     "schema_version": 3,
     "solution": false,
     "task": false
    }
   },
   "source": [
    "**Question 3.1.6**\n",
    "<br>{points: 1}\n",
    "\n",
    "What is your decision at 10% significance level?\n",
    "\n",
    "A. Since the p-value is higher than 0.10, we should not reject $H_0$.\n",
    "\n",
    "B. Since the p-value is higher than 0.10, we should reject $H_0$.\n",
    "\n",
    "_Assign your answer to an object called `answer3.1.6`. Your answer should be a single character surrounded by quotes._"
   ]
  },
  {
   "cell_type": "code",
   "execution_count": null,
   "metadata": {
    "deletable": false,
    "nbgrader": {
     "cell_type": "code",
     "checksum": "6fc15bc671d5faf0f481ccf73b80ba27",
     "grade": false,
     "grade_id": "cell-3f47a937f310685b",
     "locked": false,
     "schema_version": 3,
     "solution": true,
     "task": false
    }
   },
   "outputs": [],
   "source": [
    "# answer3.1.6 <- ...\n",
    "\n",
    "# your code here\n",
    "fail() # No Answer - remove if you provide an answer\n",
    "\n",
    "answer3.1.6"
   ]
  },
  {
   "cell_type": "code",
   "execution_count": null,
   "metadata": {
    "deletable": false,
    "editable": false,
    "nbgrader": {
     "cell_type": "code",
     "checksum": "d0cdfea8ce000da582340b89519ee916",
     "grade": true,
     "grade_id": "cell-2162cdc57ef038fa",
     "locked": true,
     "points": 1,
     "schema_version": 3,
     "solution": false,
     "task": false
    }
   },
   "outputs": [],
   "source": [
    "test_3.1.6()"
   ]
  },
  {
   "cell_type": "markdown",
   "metadata": {
    "deletable": false,
    "editable": false,
    "nbgrader": {
     "cell_type": "markdown",
     "checksum": "adc48acd8cc755b1d663fc6a3ae3108b",
     "grade": false,
     "grade_id": "cell-ae6a8ac2051ba981",
     "locked": true,
     "schema_version": 3,
     "solution": false,
     "task": false
    }
   },
   "source": [
    "**Question 3.1.7**\n",
    "<br>{points: 1}\n",
    "\n",
    "In the previous exercises, you went through the whole process of hypothesis testing. However, luckily for us, R already has the t-test implemented: the `t.test` function. At this point, it would be good for you to start practicing with reading the documentation. So try it out! Check `?t.test` and test the hypotheses using `t.test`. Make sure to use `broom::tidy()` to get a more organized result.\n",
    "\n",
    "_Assign your answer (the output of `t.test`) to an object called `answer3.1.7`._"
   ]
  },
  {
   "cell_type": "code",
   "execution_count": null,
   "metadata": {
    "deletable": false,
    "nbgrader": {
     "cell_type": "code",
     "checksum": "4ccf20fd3517f492c005e766119656c5",
     "grade": false,
     "grade_id": "cell-d81f62d9220b1b07",
     "locked": false,
     "schema_version": 3,
     "solution": true,
     "task": false
    }
   },
   "outputs": [],
   "source": [
    "# answer3.1.7 <- \n",
    "#     tidy(\n",
    "#         t.test(....)\n",
    "#     )\n",
    "\n",
    "# your code here\n",
    "fail() # No Answer - remove if you provide an answer\n",
    "\n",
    "answer3.1.7"
   ]
  },
  {
   "cell_type": "code",
   "execution_count": null,
   "metadata": {
    "deletable": false,
    "editable": false,
    "nbgrader": {
     "cell_type": "code",
     "checksum": "2fb2fa4499850218682af98e46a922e3",
     "grade": true,
     "grade_id": "cell-b9545f2ca90cf8e4",
     "locked": true,
     "points": 1,
     "schema_version": 3,
     "solution": false,
     "task": false
    }
   },
   "outputs": [],
   "source": [
    "test_3.1.7()"
   ]
  },
  {
   "cell_type": "markdown",
   "metadata": {
    "deletable": false,
    "editable": false,
    "nbgrader": {
     "cell_type": "markdown",
     "checksum": "2489900f0cd320f781a679b168143bcf",
     "grade": false,
     "grade_id": "cell-a841362361219a53",
     "locked": true,
     "schema_version": 3,
     "solution": false,
     "task": false
    }
   },
   "source": [
    "### 3.2 Testing the Proportion of One Population: `one-sample z-test`\n",
    "\n",
    "For this section, we are going to study the case where we want to test a proportion. As a matter of fact, this is just a particular case of the previous section (testing the mean); after all, the proportion is nothing else than the mean of a 0-1 random variable.\n",
    "\n",
    "The cases to be considered are: \n",
    "\n",
    "- $H_0: p = p_0$ vs $H_1: p < p_0$\n",
    "\n",
    "- $H_0: p = p_0$ vs $H_1: p > p_0$\n",
    "\n",
    "- $H_0: p = p_0$ vs $H_1: p \\neq p_0$\n",
    "\n",
    "To test $H_0$, we use the following test statistic:\n",
    "\n",
    "$$\n",
    "Z = \\frac{\\hat{p} - p_0}{\\sqrt{p_0(1-p_0)/n}}\n",
    "$$\n",
    "\n",
    "where $\\hat{p}$ is the sample proportion, $n$ is the sample size, and $p_0$ is the value of $p$ under $H_0$. Since, in this case, the population distribution is clearly not Normal (the random variable is a 0-1 variable), we need to rely on the CLT.\n",
    "\n",
    "Given that the sample size is large enough, the null model (i.e., the sampling distribution under $H_0$) of the test statistic $Z$ is approximately $N(0, 1)$. Roughly speaking, if the sample size is such that $n p_0 \\geq 10$ and $n(1-p_0)\\geq 10$, the approximation of the null-model by the standard Gaussian is fairly good."
   ]
  },
  {
   "cell_type": "markdown",
   "metadata": {
    "deletable": false,
    "editable": false,
    "nbgrader": {
     "cell_type": "markdown",
     "checksum": "e57238efa3ec12e69e7f7475e3ce87c7",
     "grade": false,
     "grade_id": "cell-ba7214dc55526850",
     "locked": true,
     "schema_version": 3,
     "solution": false,
     "task": false
    }
   },
   "source": [
    "Your turn!\n",
    "\n",
    "In this section, we will use a subset of the 1987 National Indonesia Contraceptive Prevalence Survey, available [here](https://archive.ics.uci.edu/ml/datasets/Contraceptive+Method+Choice). Let's start by reading the data. "
   ]
  },
  {
   "cell_type": "code",
   "execution_count": null,
   "metadata": {
    "deletable": false,
    "editable": false,
    "nbgrader": {
     "cell_type": "code",
     "checksum": "867609d78f1a7d941c577bac2515a30d",
     "grade": false,
     "grade_id": "cell-9d1c5309d5b6bfa8",
     "locked": true,
     "schema_version": 3,
     "solution": false,
     "task": false
    }
   },
   "outputs": [],
   "source": [
    "# Run this cell before continuing.\n",
    "\n",
    "contraceptive_survey_data <-\n",
    "    read_csv(\"https://archive.ics.uci.edu/ml/machine-learning-databases/cmc/cmc.data\", \n",
    "         col_names = FALSE) %>% \n",
    "    select(X2, X10) %>% \n",
    "    mutate(X2 = as_factor(X2), X10 = as_factor(X10)) %>% \n",
    "    rename(education_level = X2, contraceptive = X10) %>% \n",
    "    mutate(education_level = fct_recode(education_level,\n",
    "                                        \"high\" = \"4\",\n",
    "                                        \"high\" = \"3\", \n",
    "                                        \"low\" = \"2\",\n",
    "                                        \"low\" = \"1\"),\n",
    "           contraceptive = fct_recode(contraceptive,\n",
    "                                     \"No\" = \"1\",\n",
    "                                     \"Yes\" = \"2\",\n",
    "                                     \"Yes\" = \"3\"))\n",
    "\n",
    "contraceptive_survey_data %>%\n",
    "    sample_n(10) %>% \n",
    "    head()"
   ]
  },
  {
   "cell_type": "markdown",
   "metadata": {
    "deletable": false,
    "editable": false,
    "nbgrader": {
     "cell_type": "markdown",
     "checksum": "0a8cfd0b788e8ed73518f9de76f57542",
     "grade": false,
     "grade_id": "cell-48a936af9446f974",
     "locked": true,
     "schema_version": 3,
     "solution": false,
     "task": false
    }
   },
   "source": [
    "**Question 3.2.1**\n",
    "<br>{points: 1}\n",
    "\n",
    "We want to check if most married Indonesian women were using a contraceptive at the time of the survey at a 15% significance level. \n",
    "\n",
    "What are the hypotheses in question?\n",
    "\n",
    "A. $H_0: p > 0.5$ vs $H_1: p=0.5$\n",
    "\n",
    "B. $H_0: p = 0.5$ vs $H_1: p < 0.5$\n",
    "\n",
    "C. $H_0: p = 0.5$ vs $H_1: p > 0.5$\n",
    "\n",
    "D. $H_0: p < 0.5$ vs $H_1: p = 0.5$\n",
    "\n",
    "_Assign your answer to an object called `answer3.2.1`. Your answer should be a single character surrounded by quotes._\n",
    "\n"
   ]
  },
  {
   "cell_type": "code",
   "execution_count": null,
   "metadata": {
    "deletable": false,
    "nbgrader": {
     "cell_type": "code",
     "checksum": "b8b5e43ad4b7180a79ebacafcb8b251b",
     "grade": false,
     "grade_id": "cell-9048bdb032b1de2e",
     "locked": false,
     "schema_version": 3,
     "solution": true,
     "task": false
    }
   },
   "outputs": [],
   "source": [
    "# answer3.2.1 <- ...\n",
    "\n",
    "# your code here\n",
    "fail() # No Answer - remove if you provide an answer"
   ]
  },
  {
   "cell_type": "code",
   "execution_count": null,
   "metadata": {
    "deletable": false,
    "editable": false,
    "nbgrader": {
     "cell_type": "code",
     "checksum": "9836640c4cbe17d3280036b4c21c25ff",
     "grade": true,
     "grade_id": "cell-221c30f9a48b92d4",
     "locked": true,
     "points": 1,
     "schema_version": 3,
     "solution": false,
     "task": false
    }
   },
   "outputs": [],
   "source": [
    "test_3.2.1()"
   ]
  },
  {
   "cell_type": "markdown",
   "metadata": {
    "deletable": false,
    "editable": false,
    "nbgrader": {
     "cell_type": "markdown",
     "checksum": "244af049fe70d9f1fbfac1bbd4d65799",
     "grade": false,
     "grade_id": "cell-da20189784a23172",
     "locked": true,
     "schema_version": 3,
     "solution": false,
     "task": false
    }
   },
   "source": [
    "**Question 3.2.2** \n",
    "<br> {points: 1}\n",
    "\n",
    "Obtain the proportion of women using contraceptive methods.\n",
    "\n",
    "_Assign your answer to an object called `answer3.2.2_phat`. Your answer should be a single number._"
   ]
  },
  {
   "cell_type": "code",
   "execution_count": null,
   "metadata": {
    "deletable": false,
    "nbgrader": {
     "cell_type": "code",
     "checksum": "d9d07b093ad925bd9067e43a68c6d686",
     "grade": false,
     "grade_id": "cell-c506876d108d2dca",
     "locked": false,
     "schema_version": 3,
     "solution": true,
     "task": false
    }
   },
   "outputs": [],
   "source": [
    "# answer3.2.2 <- mean(...)\n",
    "\n",
    "# your code here\n",
    "fail() # No Answer - remove if you provide an answer\n",
    "\n",
    "answer3.2.2_phat"
   ]
  },
  {
   "cell_type": "code",
   "execution_count": null,
   "metadata": {
    "deletable": false,
    "editable": false,
    "nbgrader": {
     "cell_type": "code",
     "checksum": "0b266fa0ccd1c9dc60a8a6e058fbfb3a",
     "grade": true,
     "grade_id": "cell-0a7b3b41ff9fd55a",
     "locked": true,
     "points": 1,
     "schema_version": 3,
     "solution": false,
     "task": false
    }
   },
   "outputs": [],
   "source": [
    "test_3.2.2()"
   ]
  },
  {
   "cell_type": "markdown",
   "metadata": {
    "deletable": false,
    "editable": false,
    "nbgrader": {
     "cell_type": "markdown",
     "checksum": "63221641300fc3e80bc5c71dc2666455",
     "grade": false,
     "grade_id": "cell-9745b4e6e6df308a",
     "locked": true,
     "schema_version": 3,
     "solution": false,
     "task": false
    }
   },
   "source": [
    "**Question 3.2.3** \n",
    "<br> {points: 1}\n",
    "\n",
    "We can see that the sample proportion is slightly higher than 0.5. But is it enough for us to confidently claim that true proportion is higher than 0.5? To answer this question, calculate the test statistic, Z. \n",
    "\n",
    "_Assign your answer to an object called `answer3.2.3_test_statistic`. Your answer should be a single number._"
   ]
  },
  {
   "cell_type": "code",
   "execution_count": null,
   "metadata": {
    "deletable": false,
    "nbgrader": {
     "cell_type": "code",
     "checksum": "18b982ec1aa6d5c9f48e20777c533833",
     "grade": false,
     "grade_id": "cell-f02bced166e0bae5",
     "locked": false,
     "schema_version": 3,
     "solution": true,
     "task": false
    }
   },
   "outputs": [],
   "source": [
    "# answer3.2.3_test_statistic <- ...\n",
    "\n",
    "# your code here\n",
    "fail() # No Answer - remove if you provide an answer\n",
    "\n",
    "answer3.2.3_test_statistic"
   ]
  },
  {
   "cell_type": "code",
   "execution_count": null,
   "metadata": {
    "deletable": false,
    "editable": false,
    "nbgrader": {
     "cell_type": "code",
     "checksum": "2a7811a5ef3ac5ab6f3571d67b8f57e4",
     "grade": true,
     "grade_id": "cell-7bc7af50915fa1d3",
     "locked": true,
     "points": 1,
     "schema_version": 3,
     "solution": false,
     "task": false
    }
   },
   "outputs": [],
   "source": [
    "test_3.2.3()"
   ]
  },
  {
   "cell_type": "markdown",
   "metadata": {
    "deletable": false,
    "editable": false,
    "nbgrader": {
     "cell_type": "markdown",
     "checksum": "d0601ea9dfa6d1a29efc6eed225e4f01",
     "grade": false,
     "grade_id": "cell-35fdcb78b0c8a2ed",
     "locked": true,
     "schema_version": 3,
     "solution": false,
     "task": false
    }
   },
   "source": [
    "**Question 3.2.4** \n",
    "<br> {points: 1}\n",
    "\n",
    "Calculate the p-value of the test. \n",
    "\n",
    "_Assign your answer to an object called `answer3.2.4_pvalue`. Your answer should be a single number._"
   ]
  },
  {
   "cell_type": "code",
   "execution_count": null,
   "metadata": {
    "deletable": false,
    "nbgrader": {
     "cell_type": "code",
     "checksum": "e69b1db6e4379dc99d7aaee8c44fcde1",
     "grade": false,
     "grade_id": "cell-52d69df2c2853241",
     "locked": false,
     "schema_version": 3,
     "solution": true,
     "task": false
    }
   },
   "outputs": [],
   "source": [
    "# answer3.2.4_pvalue <- pnorm(...)\n",
    "\n",
    "# your code here\n",
    "fail() # No Answer - remove if you provide an answer\n",
    "\n",
    "answer3.2.4_pvalue"
   ]
  },
  {
   "cell_type": "code",
   "execution_count": null,
   "metadata": {
    "deletable": false,
    "editable": false,
    "nbgrader": {
     "cell_type": "code",
     "checksum": "7d4db82ea29eb59dd630c6afd89cdcde",
     "grade": true,
     "grade_id": "cell-59dec011b2a5b4f1",
     "locked": true,
     "points": 1,
     "schema_version": 3,
     "solution": false,
     "task": false
    }
   },
   "outputs": [],
   "source": [
    "test_3.2.4()"
   ]
  },
  {
   "cell_type": "markdown",
   "metadata": {
    "deletable": false,
    "editable": false,
    "nbgrader": {
     "cell_type": "markdown",
     "checksum": "0c16d425cec2a70dc4ec18d2a6d8d663",
     "grade": false,
     "grade_id": "cell-6e5ff3ce2ca2352e",
     "locked": true,
     "schema_version": 3,
     "solution": false,
     "task": false
    }
   },
   "source": [
    "**Question 3.2.5**\n",
    "<br>{points: 1}\n",
    "\n",
    "What is your conclusion at a 15% significance level?\n",
    "\n",
    "A. We do not have enough evidence at a 15% significance level to conclude that most Indonesian women were using contraceptives in 1987. \n",
    "\n",
    "B. At a 15% significance level, we can conclude that most Indonesian women were using contraceptives in 1987.\n",
    "\n",
    "_Assign your answer to an object called `answer3.2.5`. Your answer should be a single character surrounded by quotes._"
   ]
  },
  {
   "cell_type": "code",
   "execution_count": null,
   "metadata": {
    "deletable": false,
    "nbgrader": {
     "cell_type": "code",
     "checksum": "e2b50707e3fde974dde9d338c303ce57",
     "grade": false,
     "grade_id": "cell-1bfce476c3f405e4",
     "locked": false,
     "schema_version": 3,
     "solution": true,
     "task": false
    }
   },
   "outputs": [],
   "source": [
    "# answer3.2.5 <- ...\n",
    "\n",
    "# your code here\n",
    "fail() # No Answer - remove if you provide an answer\n",
    "\n",
    "answer3.2.5"
   ]
  },
  {
   "cell_type": "code",
   "execution_count": null,
   "metadata": {
    "deletable": false,
    "editable": false,
    "nbgrader": {
     "cell_type": "code",
     "checksum": "eff55972da993bc8ce7a40a6960a169d",
     "grade": true,
     "grade_id": "cell-b3d8ec2ae9e18cd3",
     "locked": true,
     "points": 1,
     "schema_version": 3,
     "solution": false,
     "task": false
    }
   },
   "outputs": [],
   "source": [
    "test_3.2.5()"
   ]
  },
  {
   "cell_type": "markdown",
   "metadata": {
    "deletable": false,
    "editable": false,
    "nbgrader": {
     "cell_type": "markdown",
     "checksum": "895eee21e556a9bf3a74b2dc3166ddc4",
     "grade": false,
     "grade_id": "cell-19fcf37888effc82",
     "locked": true,
     "schema_version": 3,
     "solution": false,
     "task": false
    }
   },
   "source": [
    "**Question 3.2.6** \n",
    "<br> {points: 1}\n",
    "\n",
    "Again, R can take care of all this work for us. The function `prop.test` will return detailed information about the hypothesis test. Use the scaffolding below to run the test with R. Make sure to use `broom::tidy()` to get a more organized result.\n",
    "\n",
    "```r\n",
    "answer3.2.6 <- \n",
    "    tidy(\n",
    "        prop.test(\n",
    "        x = # the number of successes,\n",
    "        n = # the number of trials, \n",
    "        p = # p0 (i.e., the value of p under H0),\n",
    "        alternative = # alternative hypothesis: \"less\", \"greater\", \"two.sided\"\n",
    "        conf.level = # the desired confidence level,\n",
    "        correct = FALSE))\n",
    "```\n",
    "\n",
    "\n",
    "_Assign your answer to an object called `answer3.2.6`._"
   ]
  },
  {
   "cell_type": "code",
   "execution_count": null,
   "metadata": {
    "deletable": false,
    "nbgrader": {
     "cell_type": "code",
     "checksum": "c599636a8311f2373369a0f4bd022959",
     "grade": false,
     "grade_id": "cell-d9cd53d0823a9372",
     "locked": false,
     "schema_version": 3,
     "solution": true,
     "task": false
    }
   },
   "outputs": [],
   "source": [
    "# your code here\n",
    "fail() # No Answer - remove if you provide an answer\n",
    "\n",
    "answer3.2.6"
   ]
  },
  {
   "cell_type": "code",
   "execution_count": null,
   "metadata": {
    "deletable": false,
    "editable": false,
    "nbgrader": {
     "cell_type": "code",
     "checksum": "6085c877a5a2aa25f6e203386fc9d39d",
     "grade": true,
     "grade_id": "cell-dfaea56c58dca8ea",
     "locked": true,
     "points": 1,
     "schema_version": 3,
     "solution": false,
     "task": false
    }
   },
   "outputs": [],
   "source": [
    "test_3.2.6()"
   ]
  },
  {
   "cell_type": "markdown",
   "metadata": {
    "deletable": false,
    "editable": false,
    "nbgrader": {
     "cell_type": "markdown",
     "checksum": "81ed9b33a32404ceb1015d73c9909eb6",
     "grade": false,
     "grade_id": "cell-1e94912dc4dbd739",
     "locked": true,
     "schema_version": 3,
     "solution": false,
     "task": false
    }
   },
   "source": [
    "### 3.3 Comparing the Means of Two Independent Populations: `two-sample t-test`\n",
    "\n",
    "This section will introduce a mathematical approximation to test the difference between two **independent** populations' means.\n",
    "\n",
    "The scenarios to be considered:\n",
    "\n",
    "- $H_0: \\mu_1 - \\mu_2 = d_0$ vs $H_1: \\mu_1 - \\mu_2 \\neq d_0$\n",
    "- $H_0: \\mu_1 - \\mu_2 = d_0$ vs $H_1: \\mu_1 - \\mu_2 > d_0$\n",
    "- $H_0: \\mu_1 - \\mu_2 = d_0$ vs $H_1: \\mu_1 - \\mu_2 < d_0$\n",
    "\n",
    "To carry out this hypothesis test, we take two independent samples, one from each population. By independent samples, we mean that the individuals are selected independently in each population.\n",
    "\n",
    "Let $x_1, x_2, \\ldots, x_{n_1}$ be a random sample of size $n_1$ from population A, with mean $\\mu_1$ and standard deviation $\\sigma_1$. Let $y_1, y_2, \\ldots, y_{n_2}$ be a random sample of size $n_2$ from population B, with mean $\\mu_2$ and standard deviation $\\sigma_2$. \n",
    "\n",
    "<img src=\"imgs/two-sample-t-test.png\" width=700px/>\n",
    "\n",
    "\n",
    "Test statistic: \n",
    "$$\n",
    "T = \\frac{\\bar{x}-\\bar{y} - d_0}{\\sqrt{\\frac{s_1^2}{n_1} + \\frac{s_2^2}{n_2}} }\n",
    "$$\n",
    "\n",
    "Null model: $t$-distribution with approximately $\\nu$ degrees of freedom, where \n",
    "$$\n",
    "\\nu = \\frac{\n",
    "    \\left(\\frac{s_1^2}{n_1}+\\frac{s_2^2}{n_2}\\right)^2\n",
    "}\n",
    "{\n",
    "\\frac{s_1^4}{n_1^2(n_1-1)}+\\frac{s_2^4}{n_2^2(n_2-1)}\n",
    "}\n",
    "$$\n",
    "If both populations are normally distributed, the null model is valid for all sample sizes. However, if the populations are not normally distributed, we need to rely on the CLT, i.e., we need large sample sizes. "
   ]
  },
  {
   "cell_type": "markdown",
   "metadata": {
    "deletable": false,
    "editable": false,
    "nbgrader": {
     "cell_type": "markdown",
     "checksum": "429ff9b73ec48b09418e535caec879b3",
     "grade": false,
     "grade_id": "cell-f56d75efa6490292",
     "locked": true,
     "schema_version": 3,
     "solution": false,
     "task": false
    }
   },
   "source": [
    "Your turn!\n",
    "\n",
    "Let us try to answer the following question: do the flippers of Adelie penguins differ in length from the flippers of Chinstrap penguins? "
   ]
  },
  {
   "cell_type": "markdown",
   "metadata": {
    "deletable": false,
    "editable": false,
    "nbgrader": {
     "cell_type": "markdown",
     "checksum": "54fc0534e98ab302e6dfb6f35b560b1b",
     "grade": false,
     "grade_id": "cell-813f31ee50247b75",
     "locked": true,
     "schema_version": 3,
     "solution": false,
     "task": false
    }
   },
   "source": [
    "**Question 3.3.1**\n",
    "<br> {points: 1}\n",
    "\n",
    "Boxplot is a very nice way to compare distributions. Let's start by taking a look at the boxplot of the flippers' length of both species, `Adelie` and `Chinstrap`.\n",
    "\n",
    "```r\n",
    "flipper_length_boxplots <-\n",
    "    adelie_chin %>% \n",
    "    ggplot() +\n",
    "    geom_boxplot(aes(..., ..., fill = ...)) +\n",
    "    theme(text = element_text(size = 22)) +\n",
    "    ggtitle(...) + \n",
    "    xlab(...) + \n",
    "    ylab(...) + \n",
    "    guides(fill = FALSE)\n",
    "```\n",
    "\n",
    "\n",
    "_Assign your plot to an object called `flipper_length_boxplots`._"
   ]
  },
  {
   "cell_type": "code",
   "execution_count": null,
   "metadata": {
    "deletable": false,
    "nbgrader": {
     "cell_type": "code",
     "checksum": "ba22b8351d026b3d2ff7ff46c23a287b",
     "grade": false,
     "grade_id": "cell-494d0911b07bb8b5",
     "locked": false,
     "schema_version": 3,
     "solution": true,
     "task": false
    }
   },
   "outputs": [],
   "source": [
    "adelie_chin <- \n",
    "    penguins %>% \n",
    "    filter(species %in% c(\"Adelie\", \"Chinstrap\")) # Do not delete this\n",
    "\n",
    "# your code here\n",
    "fail() # No Answer - remove if you provide an answer\n",
    "\n",
    "flipper_length_boxplots"
   ]
  },
  {
   "cell_type": "code",
   "execution_count": null,
   "metadata": {
    "deletable": false,
    "editable": false,
    "nbgrader": {
     "cell_type": "code",
     "checksum": "11faa51b5c4d5757cfd3ee1e9e8bb77f",
     "grade": true,
     "grade_id": "cell-6d1f75e108c3ba61",
     "locked": true,
     "points": 1,
     "schema_version": 3,
     "solution": false,
     "task": false
    }
   },
   "outputs": [],
   "source": [
    "test_3.3.1()"
   ]
  },
  {
   "cell_type": "markdown",
   "metadata": {
    "deletable": false,
    "editable": false,
    "nbgrader": {
     "cell_type": "markdown",
     "checksum": "87ed89694f9813fc9c7253db96f1d78a",
     "grade": false,
     "grade_id": "cell-fad30940d81b20bc",
     "locked": true,
     "schema_version": 3,
     "solution": false,
     "task": false
    }
   },
   "source": [
    "**Question 3.3.2** \n",
    "<br> {points: 1}\n",
    "\n",
    "The boxplot indicates that the Chinstrap penguins have slightly longer flippers. But we have to always keep in mind that we only have a sample of the penguins and not all existing Adelie and Chinstrap penguins. \n",
    "\n",
    "Let us keep up our investigation. This time obtain the sample mean, sample standard deviation, and the number of penguins, for both species and store them in the columns `sample_mean`, `sample_var`, and `n`, respectively. (Hint: remember to filter out the NAs). \n",
    "\n",
    "_Assign your data frame to an object called `adelie_chin_summary`. Your data frame should have four columns: `species`, `sample_mean`, `sample_var`, and `n`._"
   ]
  },
  {
   "cell_type": "code",
   "execution_count": null,
   "metadata": {
    "deletable": false,
    "nbgrader": {
     "cell_type": "code",
     "checksum": "a1125066e25f1b17c334b8bb30378e12",
     "grade": false,
     "grade_id": "cell-d5d56c712fad5cbc",
     "locked": false,
     "schema_version": 3,
     "solution": true,
     "task": false
    }
   },
   "outputs": [],
   "source": [
    "# adelie_chin_summary <- \n",
    "#     adelie_chin %>% \n",
    "#     ...(!is.na(flipper_length_mm)) %>% \n",
    "#     group_by(species) %>% \n",
    "#     summarise(sample_mean = ..., \n",
    "#               sample_var = ..., \n",
    "#               n = ...)\n",
    "\n",
    "# your code here\n",
    "fail() # No Answer - remove if you provide an answer\n",
    "\n",
    "head(adelie_chin_summary)"
   ]
  },
  {
   "cell_type": "code",
   "execution_count": null,
   "metadata": {
    "deletable": false,
    "editable": false,
    "nbgrader": {
     "cell_type": "code",
     "checksum": "259f6e5d8c1bb096e8184f8f4b16d9f0",
     "grade": true,
     "grade_id": "cell-745a1ba8b24214a5",
     "locked": true,
     "points": 1,
     "schema_version": 3,
     "solution": false,
     "task": false
    }
   },
   "outputs": [],
   "source": [
    "test_3.3.2()"
   ]
  },
  {
   "cell_type": "markdown",
   "metadata": {
    "deletable": false,
    "editable": false,
    "nbgrader": {
     "cell_type": "markdown",
     "checksum": "82001bd971ffabcaad1b126de039548b",
     "grade": false,
     "grade_id": "cell-6f6edf9801ee51a1",
     "locked": true,
     "schema_version": 3,
     "solution": false,
     "task": false
    }
   },
   "source": [
    "**Question 3.3.3** \n",
    "<br> {points: 1}\n",
    "\n",
    "As expected, the Chinstrap species has a higher sample average flipper length than the Adelie species. But given the variation of flipper length for each species, how likely would it be for us to see a sample difference at least as extreme as the observed one? In other words, is the observed difference statistically significant? \n",
    "\n",
    "Remember the question we were trying to answer from the beginning: _do the flippers of Adelie penguins differ in length from the flippers of Chinstrap penguins?_\n",
    "\n",
    "To answer this question, we will test the following hypotheses:\n",
    "$$H_0: \\mu_{\\text{Chinstrap}} - \\mu_{\\text{Adelie}} = 0$$ $$H_1: \\mu_{\\text{Chinstrap}} - \\mu_{\\text{Adelie}} \\neq 0$$\n",
    "using the following test statistic:\n",
    "$$\n",
    "T = \\frac{\\bar{x}_{\\text{Chinstrap}} - \\bar{x}_{\\text{Adelie}}}{\\sqrt{\\frac{s^2_{\\text{Chinstrap}}}{n_1}+\\frac{s^2_{\\text{Adelie}}}{n_2}}}\n",
    "$$\n",
    "where $\\bar{x}_{\\text{Chinstrap}}$ and $\\bar{x}_{\\text{Adelie}}$ are the sample means of flipper length for Chinstrap and Adelie species, respectively; $s^2_{\\text{Chinstrap}}$ and $s^2_{\\text{Adelie}}$ are the sample variances for the Chinstrap and Adelie species, respectively; and $n_1$ and $n_2$ are the sample size for Chinstrap and Adelie species, respectively. \n",
    "\n",
    "Your job is to calculate this test statistic.\n",
    "\n",
    "_Assign your answer to an object called `answer3.3.3`. Your answer should be a single number._"
   ]
  },
  {
   "cell_type": "code",
   "execution_count": null,
   "metadata": {
    "deletable": false,
    "nbgrader": {
     "cell_type": "code",
     "checksum": "bbfcbab4aee796ce834bcbfe740cf96a",
     "grade": false,
     "grade_id": "cell-4f157730a23ae1f1",
     "locked": false,
     "schema_version": 3,
     "solution": true,
     "task": false
    }
   },
   "outputs": [],
   "source": [
    "# answer3.3.3 <- \n",
    "#   (...$sample_mean[2] - adelie_chin_summary$...[1]) / ...\n",
    "\n",
    "# your code here\n",
    "fail() # No Answer - remove if you provide an answer\n",
    "answer3.3.3"
   ]
  },
  {
   "cell_type": "code",
   "execution_count": null,
   "metadata": {
    "deletable": false,
    "editable": false,
    "nbgrader": {
     "cell_type": "code",
     "checksum": "d85c96a9d5942b070a4a066d2a5c1221",
     "grade": true,
     "grade_id": "cell-26dd57f2181f92dd",
     "locked": true,
     "points": 1,
     "schema_version": 3,
     "solution": false,
     "task": false
    }
   },
   "outputs": [],
   "source": [
    "test_3.3.3()"
   ]
  },
  {
   "cell_type": "markdown",
   "metadata": {
    "deletable": false,
    "editable": false,
    "nbgrader": {
     "cell_type": "markdown",
     "checksum": "88679f113ee3f1f8a79c972a07627208",
     "grade": false,
     "grade_id": "cell-34aa231d66f75dec",
     "locked": true,
     "schema_version": 3,
     "solution": false,
     "task": false
    }
   },
   "source": [
    "**Question 3.3.4** \n",
    "<br> {points: 1}\n",
    "\n",
    "Now, if $H_0$ is true, i.e., if $\\mu_{\\text{Chinstrap}} = \\mu_{\\text{Adelie}}$, the $T$ statistic from the previous exercise follows a $t$ distribution with approximately\n",
    "$$\n",
    "\\nu = \\frac{\n",
    "    \\left(\\frac{s_{Chinstrap}^2}{n_1}+\\frac{s_{Adelie}^2}{n_2}\\right)^2\n",
    "}\n",
    "{\n",
    "\\frac{s_{Chinstrap}^4}{n_1^2(n_1-1)}+\\frac{s_{Adelie}^2}{n_2^2(n_2-1)}\n",
    "}\n",
    "$$\n",
    "degrees of freedom. This is a peculiar formula, indeed. But don't worry, we presented it here for completeness only. R already knows how to calculate this (you'll see it soon).\n",
    "\n",
    "In our case: $\\nu \\approx 120$. Your job is to obtain the p-value for this hypothesis test using this approximate value of $\\nu$.\n",
    "\n",
    "_Assign your answer to an object called `answer3.3.4`. Your answer should be a single number._"
   ]
  },
  {
   "cell_type": "code",
   "execution_count": null,
   "metadata": {
    "deletable": false,
    "nbgrader": {
     "cell_type": "code",
     "checksum": "933324b3e4ac7c1f2f0112142637ff80",
     "grade": false,
     "grade_id": "cell-9dbe8f09ccf1177f",
     "locked": false,
     "schema_version": 3,
     "solution": true,
     "task": false
    }
   },
   "outputs": [],
   "source": [
    "# answer3.3.4 <- ...\n",
    "\n",
    "# your code here\n",
    "fail() # No Answer - remove if you provide an answer\n",
    "answer3.3.4"
   ]
  },
  {
   "cell_type": "code",
   "execution_count": null,
   "metadata": {
    "deletable": false,
    "editable": false,
    "nbgrader": {
     "cell_type": "code",
     "checksum": "a7cff20c0d55c8ccd8b24580651c889a",
     "grade": true,
     "grade_id": "cell-066ec24205699f42",
     "locked": true,
     "points": 1,
     "schema_version": 3,
     "solution": false,
     "task": false
    }
   },
   "outputs": [],
   "source": [
    "test_3.3.4()"
   ]
  },
  {
   "cell_type": "markdown",
   "metadata": {
    "deletable": false,
    "editable": false,
    "nbgrader": {
     "cell_type": "markdown",
     "checksum": "d30c45c7fb9048890a209b1748be9ec7",
     "grade": false,
     "grade_id": "cell-ed4ea784a970f840",
     "locked": true,
     "schema_version": 3,
     "solution": false,
     "task": false
    }
   },
   "source": [
    "**Question 3.3.5**\n",
    "<br>{points: 1}\n",
    "\n",
    "True or false?\n",
    "\n",
    "Since the `p-value` is less than 0.07, we do not reject at a 7% significance level. \n",
    "\n",
    "_Assign your answer to an object called `answer3.3.5`. Your answer should be either \"true\" or \"false\", surrounded by quotes._"
   ]
  },
  {
   "cell_type": "code",
   "execution_count": null,
   "metadata": {
    "deletable": false,
    "nbgrader": {
     "cell_type": "code",
     "checksum": "6d867cf96e3a0a679d5d63b80657197f",
     "grade": false,
     "grade_id": "cell-d6e081dbe02d4d51",
     "locked": false,
     "schema_version": 3,
     "solution": true,
     "task": false
    }
   },
   "outputs": [],
   "source": [
    "# answer3.3.5 <- ...\n",
    "\n",
    "# your code here\n",
    "fail() # No Answer - remove if you provide an answer"
   ]
  },
  {
   "cell_type": "code",
   "execution_count": null,
   "metadata": {
    "deletable": false,
    "editable": false,
    "nbgrader": {
     "cell_type": "code",
     "checksum": "b66ee8ba79bd984ad741a7366e03a6b3",
     "grade": true,
     "grade_id": "cell-f2140351339a537b",
     "locked": true,
     "points": 1,
     "schema_version": 3,
     "solution": false,
     "task": false
    }
   },
   "outputs": [],
   "source": [
    "test_3.3.5()"
   ]
  },
  {
   "cell_type": "markdown",
   "metadata": {
    "deletable": false,
    "editable": false,
    "nbgrader": {
     "cell_type": "markdown",
     "checksum": "8d06cf497d5da22fa70125ff19152088",
     "grade": false,
     "grade_id": "cell-ff12b8050fd1f94c",
     "locked": true,
     "schema_version": 3,
     "solution": false,
     "task": false
    }
   },
   "source": [
    "**Question 3.3.6**\n",
    "<br>{points: 1}\n",
    "\n",
    "You can use the function `t.test` (yes, the same function as before!) in R to make these calculations for you. Make sure to use `broom::tidy()` to get a more organized result.\n",
    "\n",
    "```r\n",
    "answer3.3.6 <- \n",
    "    tidy(\n",
    "        t.test(x = ...,\n",
    "               y = ...,\n",
    "               alternative = ...))\n",
    "```\n",
    "_Assign your answer to an object called `answer3.3.6`._"
   ]
  },
  {
   "cell_type": "code",
   "execution_count": null,
   "metadata": {
    "deletable": false,
    "nbgrader": {
     "cell_type": "code",
     "checksum": "b31c6d7e8de6d7377bd3d1272db30c1e",
     "grade": false,
     "grade_id": "cell-ce729e52876e79d1",
     "locked": false,
     "schema_version": 3,
     "solution": true,
     "task": false
    }
   },
   "outputs": [],
   "source": [
    "# your code here\n",
    "fail() # No Answer - remove if you provide an answer\n",
    "\n",
    "answer3.3.6"
   ]
  },
  {
   "cell_type": "code",
   "execution_count": null,
   "metadata": {
    "deletable": false,
    "editable": false,
    "nbgrader": {
     "cell_type": "code",
     "checksum": "2cb24b79cb952b35df5f015f147c45b7",
     "grade": true,
     "grade_id": "cell-f02c02de0ab2d53e",
     "locked": true,
     "points": 1,
     "schema_version": 3,
     "solution": false,
     "task": false
    }
   },
   "outputs": [],
   "source": [
    "test_3.3.6()"
   ]
  },
  {
   "cell_type": "markdown",
   "metadata": {
    "deletable": false,
    "editable": false,
    "nbgrader": {
     "cell_type": "markdown",
     "checksum": "0a791a889cd886800881ed8b4e02bc34",
     "grade": false,
     "grade_id": "cell-00df6b3135132dd0",
     "locked": true,
     "schema_version": 3,
     "solution": false,
     "task": false
    }
   },
   "source": [
    "### 3.4 Comparing the Proportions of Two Independent Populations: `two-sample z-test`"
   ]
  },
  {
   "cell_type": "markdown",
   "metadata": {
    "deletable": false,
    "editable": false,
    "nbgrader": {
     "cell_type": "markdown",
     "checksum": "bf61fb01d3fd20cb3ee1c0c5a98e746b",
     "grade": false,
     "grade_id": "cell-01f1232f2b39c96c",
     "locked": true,
     "schema_version": 3,
     "solution": false,
     "task": false
    }
   },
   "source": [
    "In this section, we are going to study the case where we want to compare two proportions. Again, we are going to assume we have two independent random samples, one from each population. \n",
    "\n",
    "The case to be considered here is: \n",
    "\n",
    "- $H_0: p_1 - p_2 = 0$ vs $H_1: p_1 - p_2 \\neq 0$\n",
    "- $H_0: p_1 - p_2 = 0$ vs $H_1: p_1 - p_2 > 0$\n",
    "- $H_0: p_1 - p_2 = 0$ vs $H_1: p_1 - p_2 < 0$\n",
    "\n",
    "\n",
    "To test $H_0$, we use the following test statistic:\n",
    "\n",
    "$$\n",
    "Z = \\frac{\\hat{p}_1 - \\hat{p}_2}{\\sqrt{\\hat{p}(1-\\hat{p})\\left(\\frac{1}{n_1} + \\frac{1}{n_2}\\right)}}\n",
    "$$\n",
    "where $\\hat{p}_1$ and $\\hat{p}_2$ are the sample proportions in samples 1 and 2, respectively; $n$ is the sample size; and $\\hat{p}$ is the pooled proportion, given by: \n",
    "\n",
    "$$\\hat{p} = \\frac{n_1\\hat{p}_1+n_2\\hat{p}_2}{n_1+n_2}$$\n",
    "\n",
    "Since, in this case, the population distribution is clearly not Normal (the random variable is a 0-1 variable), we need to rely on the CLT.\n",
    "\n",
    "Given that the sample size is large enough, the null model (i.e., the sampling distribution under $H_0$) of the test statistic $Z$ is approximately $N(0, 1)$. Roughly speaking, if your sample size is such that $n \\hat{p} \\geq 10$ and $n(1-\\hat{p})\\geq 10$, the approximation of the null-model by the standard Gaussian is fairly good."
   ]
  },
  {
   "cell_type": "markdown",
   "metadata": {
    "deletable": false,
    "editable": false,
    "nbgrader": {
     "cell_type": "markdown",
     "checksum": "9480ebe94c92ad72c35abe5e5f928725",
     "grade": false,
     "grade_id": "cell-ee5f6b91a7065443",
     "locked": true,
     "schema_version": 3,
     "solution": false,
     "task": false
    }
   },
   "source": [
    "Your turn!\n",
    "\n",
    "Let us go back to the `contraceptive_survey_data`. We want to check if the proportions of Indonesian women that use contraceptives are different between women with a high education level and women with a low education level. "
   ]
  },
  {
   "cell_type": "markdown",
   "metadata": {
    "deletable": false,
    "editable": false,
    "nbgrader": {
     "cell_type": "markdown",
     "checksum": "c1a800048b9b6779fcbf8a4eb5c70aff",
     "grade": false,
     "grade_id": "cell-288c924e6fd2a646",
     "locked": true,
     "schema_version": 3,
     "solution": false,
     "task": false
    }
   },
   "source": [
    "**Question 3.4.1** \n",
    "<br> {points: 1}\n",
    "\n",
    "Calculate the test statistic. Consider the women with a high education level as sample 1. \n",
    "\n",
    "_Assign your answer to an object called `answer3.4.1`. Your answer should be a single number._"
   ]
  },
  {
   "cell_type": "code",
   "execution_count": null,
   "metadata": {
    "deletable": false,
    "nbgrader": {
     "cell_type": "code",
     "checksum": "b25a31ab89073488add0e4c8e4ac56d9",
     "grade": false,
     "grade_id": "cell-229ec39890fc1e86",
     "locked": false,
     "schema_version": 3,
     "solution": true,
     "task": false
    }
   },
   "outputs": [],
   "source": [
    "# answer3.4.1 <- ...\n",
    "\n",
    "# your code here\n",
    "fail() # No Answer - remove if you provide an answer\n",
    "\n",
    "answer3.4.1"
   ]
  },
  {
   "cell_type": "code",
   "execution_count": null,
   "metadata": {
    "deletable": false,
    "editable": false,
    "nbgrader": {
     "cell_type": "code",
     "checksum": "4859b4ed85e455c13e9fb558283f689e",
     "grade": true,
     "grade_id": "cell-9312af24408e21be",
     "locked": true,
     "points": 1,
     "schema_version": 3,
     "solution": false,
     "task": false
    }
   },
   "outputs": [],
   "source": [
    "test_3.4.1()"
   ]
  },
  {
   "cell_type": "markdown",
   "metadata": {
    "deletable": false,
    "editable": false,
    "nbgrader": {
     "cell_type": "markdown",
     "checksum": "95566921300bd6ccff1d054f6d90bb47",
     "grade": false,
     "grade_id": "cell-81d138baf571041f",
     "locked": true,
     "schema_version": 3,
     "solution": false,
     "task": false
    }
   },
   "source": [
    "**Question 3.4.2** \n",
    "<br> {points: 1}\n",
    "\n",
    "Calculate the p-value.\n",
    "\n",
    "_Assign your answer to an object called `answer3.4.2`. Your answer should be a single number._"
   ]
  },
  {
   "cell_type": "code",
   "execution_count": null,
   "metadata": {
    "deletable": false,
    "nbgrader": {
     "cell_type": "code",
     "checksum": "99b73fb7f68ffd9b4564edfd2f7110d9",
     "grade": false,
     "grade_id": "cell-e760bfb6b562fc00",
     "locked": false,
     "schema_version": 3,
     "solution": true,
     "task": false
    }
   },
   "outputs": [],
   "source": [
    "# answer3.4.2 <- ...\n",
    "\n",
    "# your code here\n",
    "fail() # No Answer - remove if you provide an answer\n",
    "\n",
    "answer3.4.2"
   ]
  },
  {
   "cell_type": "code",
   "execution_count": null,
   "metadata": {
    "deletable": false,
    "editable": false,
    "nbgrader": {
     "cell_type": "code",
     "checksum": "7e2ef5d9a6361999ca907e9db5978150",
     "grade": true,
     "grade_id": "cell-6402149b0ab4eb56",
     "locked": true,
     "points": 1,
     "schema_version": 3,
     "solution": false,
     "task": false
    }
   },
   "outputs": [],
   "source": [
    "test_3.4.2()"
   ]
  },
  {
   "cell_type": "markdown",
   "metadata": {
    "deletable": false,
    "editable": false,
    "nbgrader": {
     "cell_type": "markdown",
     "checksum": "07d07d3c12d5a166f1d42b96a2b6dfcd",
     "grade": false,
     "grade_id": "cell-14d4c79fa709f3c7",
     "locked": true,
     "schema_version": 3,
     "solution": false,
     "task": false
    }
   },
   "source": [
    "**Question 3.4.3**\n",
    "<br>{points: 1}\n",
    "\n",
    "What is your conclusion at 10% significance?\n",
    "\n",
    "A. At a 10% significance level, we reject the null-hypothesis that the education level did not affect contraceptive use in Indonesian women in 1987.\n",
    "\n",
    "B. At a 10% significance level, we do not reject the null-hypothesis that the education level did not affect contraceptive use in Indonesian women in 1987.\n",
    "\n",
    "_Assign your answer to an object called `answer3.4.3`. Your answer should be a single character surrounded by quotes._"
   ]
  },
  {
   "cell_type": "code",
   "execution_count": null,
   "metadata": {
    "deletable": false,
    "nbgrader": {
     "cell_type": "code",
     "checksum": "56bcab664b5d69085e68f5ac400b4525",
     "grade": false,
     "grade_id": "cell-36182fc401ae859b",
     "locked": false,
     "schema_version": 3,
     "solution": true,
     "task": false
    }
   },
   "outputs": [],
   "source": [
    "# answer3.4.3 <- ...\n",
    "\n",
    "# your code here\n",
    "fail() # No Answer - remove if you provide an answer\n",
    "\n",
    "answer3.4.3"
   ]
  },
  {
   "cell_type": "code",
   "execution_count": null,
   "metadata": {
    "deletable": false,
    "editable": false,
    "nbgrader": {
     "cell_type": "code",
     "checksum": "ce4b6e8841a3b41d483582e41c7736e6",
     "grade": true,
     "grade_id": "cell-4c7ccf738b8eb956",
     "locked": true,
     "points": 1,
     "schema_version": 3,
     "solution": false,
     "task": false
    }
   },
   "outputs": [],
   "source": [
    "test_3.4.3()"
   ]
  },
  {
   "cell_type": "markdown",
   "metadata": {
    "deletable": false,
    "editable": false,
    "nbgrader": {
     "cell_type": "markdown",
     "checksum": "34659614dd1898715b161da4612ea600",
     "grade": false,
     "grade_id": "cell-e8502334ab8fc933",
     "locked": true,
     "schema_version": 3,
     "solution": false,
     "task": false
    }
   },
   "source": [
    "**Question 3.4.4**\n",
    "<br>{points: 1}\n",
    "\n",
    "Let R do the work for you! \n",
    "You can use the function `prop.test` in R to make these calculations for you. Make sure to use `broom::tidy()` to get a more organized result.\n",
    "\n",
    "```r\n",
    "answer3.4.4 <- tidy(\n",
    "        prop.test(x = ..., # an array with the number of successes in each sample\n",
    "                  n = ..., # an array with the size of each sample\n",
    "                  correct = FALSE))         \n",
    "```\n",
    "_Assign your answer to an object called `answer3.4.4`._"
   ]
  },
  {
   "cell_type": "code",
   "execution_count": null,
   "metadata": {
    "deletable": false,
    "nbgrader": {
     "cell_type": "code",
     "checksum": "6b83cc1f812fa82ff445e1e56db1c8af",
     "grade": false,
     "grade_id": "cell-b5e09ae5307a332a",
     "locked": false,
     "schema_version": 3,
     "solution": true,
     "task": false
    }
   },
   "outputs": [],
   "source": [
    "\n",
    "# your code here\n",
    "fail() # No Answer - remove if you provide an answer\n",
    "\n",
    "answer3.4.4"
   ]
  },
  {
   "cell_type": "code",
   "execution_count": null,
   "metadata": {
    "deletable": false,
    "editable": false,
    "nbgrader": {
     "cell_type": "code",
     "checksum": "a7cc26e6041325242a3f374f0e160f3b",
     "grade": true,
     "grade_id": "cell-76645a4c2b8a2732",
     "locked": true,
     "points": 1,
     "schema_version": 3,
     "solution": false,
     "task": false
    }
   },
   "outputs": [],
   "source": [
    "test_3.4.4()"
   ]
  },
  {
   "cell_type": "markdown",
   "metadata": {
    "deletable": false,
    "editable": false,
    "nbgrader": {
     "cell_type": "markdown",
     "checksum": "c2473e7b204ce674e0ad24622046e0e7",
     "grade": false,
     "grade_id": "cell-a2e9bb0aebb6ec90",
     "locked": true,
     "schema_version": 3,
     "solution": false,
     "task": false
    }
   },
   "source": [
    "### 3.5 Comparing the Means of Two Dependent Populations: `paired t-test`"
   ]
  },
  {
   "cell_type": "markdown",
   "metadata": {
    "deletable": false,
    "editable": false,
    "nbgrader": {
     "cell_type": "markdown",
     "checksum": "8dcc72319728465d1ccdf80cc662da06",
     "grade": false,
     "grade_id": "cell-0ce1f402b24b1020",
     "locked": true,
     "schema_version": 3,
     "solution": false,
     "task": false
    }
   },
   "source": [
    "The paired t-test compares two population means, like the two-sample t-test. However, the paired t-test deals with dependent samples. Consider the situation where the elements in Population A are paired with elements in Population B. In this case, if you choose an element in Population A, you automatically choose an element in Population B. In this sense, the samples from the two populations are not independent. However, the sample pairs must be chosen independently. Compare the diagram below with the one of two-sample t-test.\n",
    "\n",
    "<img src=\"imgs/paired-t-test.png\" width=700px/>\n",
    "\n",
    "For example, suppose we want to check if the training provided by a personal trainer increases endurance. To measure this effect, we ask 50 people to go over the entire training. Before the training starts, we measure how long (in seconds) each of the 50 participants can keep up running at their maximum speed. After training for one month, we measure how long the participants can keep up running at their maximum speed.\n",
    "Note how the first and second measurements are paired, and therefore are not independent. We cannot use the two-sample t-test in this case because it assumes that the samples are independent. What should we do?\n",
    "\n",
    "We start by taking the difference of measurements: $d_i = y_i - x_i$. Then, we can apply the one-sample t-test to the differences. Cool, right? But remember from the one-sample t-test: \n",
    " - if the distribution of $d$ is Normal, we should be fine with the one-sample t-test even for small sample sizes;\n",
    " - if the distribution of $d$ is far from Normal, then a larger sample size is needed before the CLT \"kicks in\" and the one-sample t-test becomes appropriate. Usually, a sample of size 30 tends to be sufficient."
   ]
  },
  {
   "cell_type": "markdown",
   "metadata": {
    "deletable": false,
    "editable": false,
    "nbgrader": {
     "cell_type": "markdown",
     "checksum": "78fd365a643efd22af19dc339b6cd4b2",
     "grade": false,
     "grade_id": "cell-6046940eb96d95b0",
     "locked": true,
     "schema_version": 3,
     "solution": false,
     "task": false
    }
   },
   "source": [
    "Your turn!\n",
    "\n",
    "Consider the two endurance measurements in the example above. Run the cell below to load the data set. "
   ]
  },
  {
   "cell_type": "code",
   "execution_count": null,
   "metadata": {
    "deletable": false,
    "editable": false,
    "nbgrader": {
     "cell_type": "code",
     "checksum": "ff7059dae0db9e4a1ae1e28dc9b69157",
     "grade": false,
     "grade_id": "cell-577d39f23b70e2f2",
     "locked": true,
     "schema_version": 3,
     "solution": false,
     "task": false
    }
   },
   "outputs": [],
   "source": [
    "# Run this cell before continuing\n",
    "training_data <- read_csv(\"training_data\")\n",
    "head(training_data)"
   ]
  },
  {
   "cell_type": "markdown",
   "metadata": {
    "deletable": false,
    "editable": false,
    "nbgrader": {
     "cell_type": "markdown",
     "checksum": "459e65ddf40c38f80b5d7ca09867b838",
     "grade": false,
     "grade_id": "cell-5214178812368b9c",
     "locked": true,
     "schema_version": 3,
     "solution": false,
     "task": false
    }
   },
   "source": [
    "Now, suppose we want to test whether the participants can keep up running at their maximum speed for a longer period after `after_training`, i.e., we want to test\n",
    "\n",
    "$$\n",
    "H_0: \\mu_{\\text{before}} = \\mu_{\\text{after}}\\\\\n",
    "H_1: \\mu_{\\text{before}} < \\mu_{\\text{after}}\n",
    "$$\n",
    "\n",
    "The next exercises will walk you through how to conduct this test. "
   ]
  },
  {
   "cell_type": "markdown",
   "metadata": {
    "deletable": false,
    "editable": false,
    "nbgrader": {
     "cell_type": "markdown",
     "checksum": "14084e6cda4ebd04b7fb09696528d0e5",
     "grade": false,
     "grade_id": "cell-5f65dab9e7dea619",
     "locked": true,
     "schema_version": 3,
     "solution": false,
     "task": false
    }
   },
   "source": [
    "**Question 3.5.1** \n",
    "<br> {points: 1}\n",
    "\n",
    "Add a column with the difference between the after training and before training measurements. Name this column `d`.\n",
    "\n",
    "_Assign your data frame to an object called `training`._"
   ]
  },
  {
   "cell_type": "code",
   "execution_count": null,
   "metadata": {
    "deletable": false,
    "nbgrader": {
     "cell_type": "code",
     "checksum": "41c568499a940bc101f0d124a7d6b4d9",
     "grade": false,
     "grade_id": "cell-da833b0dcc16ae42",
     "locked": false,
     "schema_version": 3,
     "solution": true,
     "task": false
    }
   },
   "outputs": [],
   "source": [
    "# your code here\n",
    "fail() # No Answer - remove if you provide an answer\n",
    "\n",
    "head(training)"
   ]
  },
  {
   "cell_type": "code",
   "execution_count": null,
   "metadata": {
    "deletable": false,
    "editable": false,
    "nbgrader": {
     "cell_type": "code",
     "checksum": "f252c0e531f3b7400b9c92edda241a04",
     "grade": true,
     "grade_id": "cell-10ac6565843a02cd",
     "locked": true,
     "points": 1,
     "schema_version": 3,
     "solution": false,
     "task": false
    }
   },
   "outputs": [],
   "source": [
    "test_3.5.1()"
   ]
  },
  {
   "cell_type": "markdown",
   "metadata": {
    "deletable": false,
    "editable": false,
    "nbgrader": {
     "cell_type": "markdown",
     "checksum": "1777276b066de78ede637833c5dcf4ae",
     "grade": false,
     "grade_id": "cell-b405ed5a9f60194a",
     "locked": true,
     "schema_version": 3,
     "solution": false,
     "task": false
    }
   },
   "source": [
    "**Question 3.5.2**\n",
    "<br> {points: 1}\n",
    "\n",
    "Check the sample distribution of $d$ by plotting the histogram. Use `binwidth` equals 5.\n",
    "\n",
    "_Assign your plot to an object called `diff_histogram`._"
   ]
  },
  {
   "cell_type": "code",
   "execution_count": null,
   "metadata": {
    "deletable": false,
    "nbgrader": {
     "cell_type": "code",
     "checksum": "c973425b00736ea3ec5da6e7b1067ab1",
     "grade": false,
     "grade_id": "cell-f28a1398dedc7a7f",
     "locked": false,
     "schema_version": 3,
     "solution": true,
     "task": false
    }
   },
   "outputs": [],
   "source": [
    "# your code here\n",
    "fail() # No Answer - remove if you provide an answer\n",
    "diff_histogram"
   ]
  },
  {
   "cell_type": "code",
   "execution_count": null,
   "metadata": {
    "deletable": false,
    "editable": false,
    "nbgrader": {
     "cell_type": "code",
     "checksum": "442266a7b9d0a476184c1ae3be0eb091",
     "grade": true,
     "grade_id": "cell-5d32fb5bbbda7813",
     "locked": true,
     "points": 1,
     "schema_version": 3,
     "solution": false,
     "task": false
    }
   },
   "outputs": [],
   "source": [
    "test_3.5.2()"
   ]
  },
  {
   "cell_type": "markdown",
   "metadata": {
    "deletable": false,
    "editable": false,
    "nbgrader": {
     "cell_type": "markdown",
     "checksum": "3bc519e1e7e3289ec538666e5784ab60",
     "grade": false,
     "grade_id": "cell-6ace6d1f8283cd33",
     "locked": true,
     "schema_version": 3,
     "solution": false,
     "task": false
    }
   },
   "source": [
    "**Question 3.5.3**\n",
    "<br>{points: 1}\n",
    "\n",
    "Based on the histogram from the previous question, how would you classify the population distribution of the differences?\n",
    "\n",
    "A. symmetric and unimodal;\n",
    "\n",
    "B. asymmetric and unimodal;\n",
    "\n",
    "C. symmetric and multimodal;\n",
    "\n",
    "D. asymmetric and multimodal;\n",
    "\n",
    "_Assign your answer to an object called `answer3.5.3`. Your answer should be a single character surrounded by quotes._"
   ]
  },
  {
   "cell_type": "code",
   "execution_count": null,
   "metadata": {
    "deletable": false,
    "nbgrader": {
     "cell_type": "code",
     "checksum": "f18b435f789b4bfa587d96ae7356eb12",
     "grade": false,
     "grade_id": "cell-246caf74d7c26b69",
     "locked": false,
     "schema_version": 3,
     "solution": true,
     "task": false
    }
   },
   "outputs": [],
   "source": [
    "# answer3.5.3 <- ...\n",
    "\n",
    "# your code here\n",
    "fail() # No Answer - remove if you provide an answer\n",
    "\n",
    "answer3.5.3"
   ]
  },
  {
   "cell_type": "code",
   "execution_count": null,
   "metadata": {
    "deletable": false,
    "editable": false,
    "nbgrader": {
     "cell_type": "code",
     "checksum": "9ecccf2168f515277b3ee5c879f8d491",
     "grade": true,
     "grade_id": "cell-02758dce5f9e38ce",
     "locked": true,
     "points": 1,
     "schema_version": 3,
     "solution": false,
     "task": false
    }
   },
   "outputs": [],
   "source": [
    "test_3.5.3()"
   ]
  },
  {
   "cell_type": "markdown",
   "metadata": {
    "deletable": false,
    "editable": false,
    "nbgrader": {
     "cell_type": "markdown",
     "checksum": "bf2db0c3028d7bd78994ae5f84dafe0f",
     "grade": false,
     "grade_id": "cell-b8e693e0d5b95df0",
     "locked": true,
     "schema_version": 3,
     "solution": false,
     "task": false
    }
   },
   "source": [
    "You can see that the sample distribution is clearly not Normal. However, given that our sample size is fairly large, $n=50$, we should be fine using the CLT. \n",
    "\n",
    "You should always check if there are strong violations of the assumptions made by a given test. If you suspect that there is a violation, you can always perform a simulation based hypothesis test. "
   ]
  },
  {
   "cell_type": "markdown",
   "metadata": {
    "deletable": false,
    "editable": false,
    "nbgrader": {
     "cell_type": "markdown",
     "checksum": "8af1be186c43e3f9a2e22e8faf7dcccb",
     "grade": false,
     "grade_id": "cell-8641b67ae0adae58",
     "locked": true,
     "schema_version": 3,
     "solution": false,
     "task": false
    }
   },
   "source": [
    "**Question 3.5.4** \n",
    "<br> {points: 1}\n",
    "\n",
    "Calculate the test statistic, $T$.\n",
    "\n",
    "_Assign your answer to an object called `answer3.5.4`. Your answer should be a single number._"
   ]
  },
  {
   "cell_type": "code",
   "execution_count": null,
   "metadata": {
    "deletable": false,
    "nbgrader": {
     "cell_type": "code",
     "checksum": "0b26d4b13519994f022f4be710c69386",
     "grade": false,
     "grade_id": "cell-59271fe0fdc7a8e9",
     "locked": false,
     "schema_version": 3,
     "solution": true,
     "task": false
    }
   },
   "outputs": [],
   "source": [
    "# answer3.5.4 <- ...\n",
    "\n",
    "# your code here\n",
    "fail() # No Answer - remove if you provide an answer\n",
    "answer3.5.4"
   ]
  },
  {
   "cell_type": "code",
   "execution_count": null,
   "metadata": {
    "deletable": false,
    "editable": false,
    "nbgrader": {
     "cell_type": "code",
     "checksum": "361b41d2aa5ea946d9752de01c20b7db",
     "grade": true,
     "grade_id": "cell-a4bb3206af73a310",
     "locked": true,
     "points": 1,
     "schema_version": 3,
     "solution": false,
     "task": false
    }
   },
   "outputs": [],
   "source": [
    "test_3.5.4()"
   ]
  },
  {
   "cell_type": "markdown",
   "metadata": {
    "deletable": false,
    "editable": false,
    "nbgrader": {
     "cell_type": "markdown",
     "checksum": "75b114bcf1683b2805b9522b81679972",
     "grade": false,
     "grade_id": "cell-d4f88d87d1bc5630",
     "locked": true,
     "schema_version": 3,
     "solution": false,
     "task": false
    }
   },
   "source": [
    "**Question 3.5.5** \n",
    "<br> {points: 1}\n",
    "\n",
    "Obtain the p-value of the test.\n",
    "\n",
    "_Assign your answer to an object called `answer3.5.5`. Your answer should be a single number._"
   ]
  },
  {
   "cell_type": "code",
   "execution_count": null,
   "metadata": {
    "deletable": false,
    "nbgrader": {
     "cell_type": "code",
     "checksum": "b19a7c24b96a56563c3f4cd610200c46",
     "grade": false,
     "grade_id": "cell-a4356aeb514c98a7",
     "locked": false,
     "schema_version": 3,
     "solution": true,
     "task": false
    }
   },
   "outputs": [],
   "source": [
    "# answer3.5.5 <- ...\n",
    "\n",
    "# your code here\n",
    "fail() # No Answer - remove if you provide an answer\n",
    "answer3.5.5"
   ]
  },
  {
   "cell_type": "code",
   "execution_count": null,
   "metadata": {
    "deletable": false,
    "editable": false,
    "nbgrader": {
     "cell_type": "code",
     "checksum": "d8f9cfe9103fdb913a6fe8c5ae64e217",
     "grade": true,
     "grade_id": "cell-25c18d474d808d78",
     "locked": true,
     "points": 1,
     "schema_version": 3,
     "solution": false,
     "task": false
    }
   },
   "outputs": [],
   "source": [
    "test_3.5.5()"
   ]
  },
  {
   "cell_type": "markdown",
   "metadata": {
    "deletable": false,
    "editable": false,
    "nbgrader": {
     "cell_type": "markdown",
     "checksum": "dfbcfc9025f17668ad6046ac59322469",
     "grade": false,
     "grade_id": "cell-1aefb83420a4bee0",
     "locked": true,
     "schema_version": 3,
     "solution": false,
     "task": false
    }
   },
   "source": [
    "**Question 3.5.6**\n",
    "<br>{points: 1}\n",
    "\n",
    "What is your conclusion at 1% significance?\n",
    "\n",
    "A. At a 1% significance level, we conclude that training was effective, and the participants showed a significant improvement in stamina. \n",
    "\n",
    "B. At a 1% significance level, we conclude that training was ineffective, and the participants' improved stamina was not statistically significant. \n",
    "\n",
    "_Assign your answer to an object called `answer3.5.6`. Your answer should be a single character surrounded by quotes._"
   ]
  },
  {
   "cell_type": "code",
   "execution_count": null,
   "metadata": {
    "deletable": false,
    "nbgrader": {
     "cell_type": "code",
     "checksum": "4f3b58466923e0a4f17b2e843d86ead1",
     "grade": false,
     "grade_id": "cell-534565b063ee0e1b",
     "locked": false,
     "schema_version": 3,
     "solution": true,
     "task": false
    }
   },
   "outputs": [],
   "source": [
    "# answer3.5.6 <- ...\n",
    "\n",
    "# your code here\n",
    "fail() # No Answer - remove if you provide an answer"
   ]
  },
  {
   "cell_type": "code",
   "execution_count": null,
   "metadata": {
    "deletable": false,
    "editable": false,
    "nbgrader": {
     "cell_type": "code",
     "checksum": "3d43f17893f6b5117257d90bba11d98f",
     "grade": true,
     "grade_id": "cell-85f6f14a24669440",
     "locked": true,
     "points": 1,
     "schema_version": 3,
     "solution": false,
     "task": false
    }
   },
   "outputs": [],
   "source": [
    "test_3.5.6()"
   ]
  },
  {
   "cell_type": "markdown",
   "metadata": {
    "deletable": false,
    "editable": false,
    "nbgrader": {
     "cell_type": "markdown",
     "checksum": "cf97b4ac43d6e2716d4bee2e4e7cad82",
     "grade": false,
     "grade_id": "cell-85969d30b24e3956",
     "locked": true,
     "schema_version": 3,
     "solution": false,
     "task": false
    }
   },
   "source": [
    "**Question 3.5.7**\n",
    "<br>{points: 1}\n",
    "\n",
    "Let R do the work for you. The function `t.test` that you used earlier can also calculate the `paired t.test`. Check the documentation and perform the `paired t.test` using the R's `t.test` function. Make sure to use `broom::tidy()` to get a more organized result.\n",
    " \n",
    "\n",
    "_Assign your answer (the output of `t.test`) to an object called `answer3.5.7`._"
   ]
  },
  {
   "cell_type": "code",
   "execution_count": null,
   "metadata": {
    "deletable": false,
    "nbgrader": {
     "cell_type": "code",
     "checksum": "533a63778b16979a32a6dc730b9bd1ea",
     "grade": false,
     "grade_id": "cell-a640bd2feb4c42d5",
     "locked": false,
     "schema_version": 3,
     "solution": true,
     "task": false
    }
   },
   "outputs": [],
   "source": [
    "# answer3.5.7 <- ...\n",
    "\n",
    "# your code here\n",
    "fail() # No Answer - remove if you provide an answer\n",
    "\n",
    "answer3.5.7"
   ]
  },
  {
   "cell_type": "code",
   "execution_count": null,
   "metadata": {
    "deletable": false,
    "editable": false,
    "nbgrader": {
     "cell_type": "code",
     "checksum": "a01537ca2669376ef69a8af6537a73a8",
     "grade": true,
     "grade_id": "cell-a233df1fd2085a5b",
     "locked": true,
     "points": 1,
     "schema_version": 3,
     "solution": false,
     "task": false
    }
   },
   "outputs": [],
   "source": [
    "test_3.5.7()"
   ]
  }
 ],
 "metadata": {
  "jupytext": {
   "formats": "ipynb,Rmd"
  },
  "kernelspec": {
   "display_name": "R",
   "language": "R",
   "name": "ir"
  },
  "language_info": {
   "codemirror_mode": "r",
   "file_extension": ".r",
   "mimetype": "text/x-r-source",
   "name": "R",
   "pygments_lexer": "r",
   "version": "4.0.0"
  }
 },
 "nbformat": 4,
 "nbformat_minor": 4
}
