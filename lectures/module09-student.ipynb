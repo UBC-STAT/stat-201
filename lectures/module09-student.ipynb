{
 "cells": [
  {
   "cell_type": "code",
   "execution_count": null,
   "id": "6fa5aca2-167d-47f2-9749-221d27f8be6e",
   "metadata": {},
   "outputs": [],
   "source": [
    "## Ignore this code, this is just generating some data\n",
    "library(infer)\n",
    "library(tidyverse)\n",
    "library(nycflights13)\n",
    "library(palmerpenguins)"
   ]
  },
  {
   "cell_type": "markdown",
   "id": "ec1677f2-a953-4573-8030-2067967e2105",
   "metadata": {},
   "source": [
    "## 1. **AN**alysis **O**f **VA**riance (ANOVA)"
   ]
  },
  {
   "cell_type": "markdown",
   "id": "94a61df6-1a68-48f1-8b74-185c2f0f7cb6",
   "metadata": {},
   "source": [
    "- We learned how to compare the mean of two groups: `t.test` or permutation test.\n",
    "\n",
    "- But how does it work when we have more than two groups?\n",
    "\n",
    "- For example, imagine we have $k$ groups. We set the hypotheses to be:\n",
    "$$H_0: \\mu_1=\\mu_2=...=\\mu_k\\quad\\quad vs \\quad\\quad H_A: \\mu_i\\neq \\mu_j, \\text{ for at least one } i\\neq j$$\n",
    "    \n",
    "- In other words, the alternative hypothesis of ANOVA suggests that at least one group has a different mean\n",
    "    - We don't need all the groups to have a different mean. It is enough that one group has a different mean for $H_0$ to be false.      \n",
    "    \n",
    "- Let's explore ANOVA with an example."
   ]
  },
  {
   "cell_type": "markdown",
   "id": "8d65bd4e-b526-4114-aa68-ee03ceb4563f",
   "metadata": {},
   "source": [
    "### 1.1 cars dataset"
   ]
  },
  {
   "cell_type": "code",
   "execution_count": null,
   "id": "0d0f68a4-ba80-468c-9f4a-9037e6ebe2d0",
   "metadata": {},
   "outputs": [],
   "source": [
    "# cell-01\n",
    "# Let's take a look on the dataset\n"
   ]
  },
  {
   "cell_type": "code",
   "execution_count": null,
   "id": "c124252f-2d86-43f5-ad6f-66cfeeb87056",
   "metadata": {},
   "outputs": [],
   "source": [
    "# cell-02\n",
    "# Let's make cyl a factor\n",
    "\n"
   ]
  },
  {
   "cell_type": "code",
   "execution_count": 1,
   "id": "ffd6e086-96bc-481a-9c3f-f240e2612453",
   "metadata": {},
   "outputs": [],
   "source": [
    "# cell-03\n",
    "# Horsepower per cylinder\n"
   ]
  },
  {
   "cell_type": "markdown",
   "id": "98fc3c10-a12b-43b2-a6c6-fe4bc12a3cee",
   "metadata": {},
   "source": [
    "- The idea of ANOVA is to compare the variation within each group/category against the variation between the groups/category.\n",
    "\n",
    "- If the within-group spread is small compared to the between-group spread, then we have evidence of difference. "
   ]
  },
  {
   "cell_type": "markdown",
   "id": "4a61e260-cd0e-4cfa-80b6-2504fb001f5c",
   "metadata": {},
   "source": [
    "### 1.2 Variability within the groups (SSE)\n",
    "\n",
    "- We want to see how spread the points of a group are around its mean.\n",
    "\n",
    "1. We take the difference of each point to the mean of its group.\n",
    "2. Take the square of these differences;\n",
    "3. Sum the square difference for all points"
   ]
  },
  {
   "cell_type": "code",
   "execution_count": null,
   "id": "b4cff3b6-dd5e-42d6-a5be-daec1e124edf",
   "metadata": {},
   "outputs": [],
   "source": [
    "# cell-04 \n",
    "# Let's plot the data\n",
    "cars %>%\n",
    "    mutate(car_number = 1:nrow(cars)) %>%\n",
    "    ggplot(aes(car_number, hp, color = cyl)) + \n",
    "    geom_point(size=3) +\n",
    "    theme(text = element_text(size = 20)) #+ \n",
    "    #geom_hline(aes(yintercept = cars %>% filter(cyl == 4) %>% pull(hp) %>% mean()), color = 'red') +\n",
    "    #geom_hline(aes(yintercept = cars %>% filter(cyl == 6) %>% pull(hp) %>% mean()), color = 'darkgreen') +\n",
    "    #geom_hline(aes(yintercept = cars %>% filter(cyl == 8) %>% pull(hp) %>% mean()), color = 'blue')"
   ]
  },
  {
   "cell_type": "code",
   "execution_count": null,
   "id": "cef6e8ed-8873-42fd-8c3a-8080e06f099b",
   "metadata": {},
   "outputs": [],
   "source": [
    "# cell-05\n",
    "# Calculate the SSE\n"
   ]
  },
  {
   "cell_type": "markdown",
   "id": "f84cdf66-956e-41a2-b2a9-7f201d372773",
   "metadata": {},
   "source": [
    "### 1.3 Variability between groups (SST)\n",
    "\n"
   ]
  },
  {
   "cell_type": "markdown",
   "id": "6e906a5f-01ef-4470-9dfb-2f5be83fe9fe",
   "metadata": {},
   "source": [
    "- We want to see how the **mean** of each group varies around the **overall mean** (the mean considering all the points of all the groups).\n",
    "  \n",
    "1. Take the difference between the mean of each group and the overall mean;\n",
    "2. Take the square of the difference\n",
    "3. Multiply the square difference by the number of points in the group."
   ]
  },
  {
   "cell_type": "code",
   "execution_count": null,
   "id": "66c8d614-b30c-46b1-b37e-54c1da79c821",
   "metadata": {},
   "outputs": [],
   "source": [
    "# cell-06\n",
    "# Plot the means for the variability between groups\n",
    "cars %>%\n",
    "    mutate(car_number = 1:nrow(cars)) %>%\n",
    "    ggplot(aes(car_number, hp, color = cyl)) + \n",
    "    #geom_point(size=3) +\n",
    "    theme(text = element_text(size = 20)) + \n",
    "    geom_hline(aes(yintercept = cars %>% filter(cyl == 4) %>% pull(hp) %>% mean()), color = 'red') +\n",
    "    geom_hline(aes(yintercept = cars %>% filter(cyl == 6) %>% pull(hp) %>% mean()), color = 'darkgreen') +\n",
    "    geom_hline(aes(yintercept = cars %>% filter(cyl == 8) %>% pull(hp) %>% mean()), color = 'blue') + \n",
    "    geom_hline(aes(yintercept = mean(cars$hp)s), color = 'black', lwd = 2) "
   ]
  },
  {
   "cell_type": "code",
   "execution_count": null,
   "id": "8859f54e-9880-475d-9476-f3d32cce7054",
   "metadata": {},
   "outputs": [],
   "source": [
    "# cell-07 \n",
    "# Calculate SST\n"
   ]
  },
  {
   "cell_type": "markdown",
   "id": "f202a7bc-dce7-4dc8-8d04-56ab9a526c30",
   "metadata": {},
   "source": [
    "### 1.4 Degrees of freedom \n",
    "\n",
    "We want to compare the SSE and SST, but they are dependent on the number of groups and points in each group we have. To account for that, we will compute some sort of average. But instead of dividing by the number of points we will use the so-called \"Degrees of Freedom\". \n",
    "\n",
    "- The degrees of freedom for SST: is the number of groups - 1.\n",
    "- The degrees of freedom for SSE: is the number of points minus the number of groups."
   ]
  },
  {
   "cell_type": "code",
   "execution_count": null,
   "id": "1330abf6-217e-433d-835a-daf9428cc923",
   "metadata": {},
   "outputs": [],
   "source": [
    "# cell-08\n",
    "# Get MSE and MST\n"
   ]
  },
  {
   "cell_type": "markdown",
   "id": "a91ed01d-4872-4ad2-a01d-b12a4f75e697",
   "metadata": {},
   "source": [
    "### 1.5 The F-statistic\n",
    "\n",
    "- Now that we have accounted for the number of points and number of groups, we can compare the MSE and MST.\n",
    "\n",
    "- The test statistic for ANOVA is then given by\n",
    "\n",
    "$$\n",
    "F = MST/MSE\n",
    "$$"
   ]
  },
  {
   "cell_type": "code",
   "execution_count": null,
   "id": "f08e1e85-1ff2-4d42-8445-d7b07c7e0abf",
   "metadata": {},
   "outputs": [],
   "source": [
    "# cell-09\n",
    "# Calculate F-statistic\n"
   ]
  },
  {
   "cell_type": "markdown",
   "id": "bdd493ae-8f5c-4d5e-9e8d-3002c3212778",
   "metadata": {},
   "source": [
    "**<font color= \"red\">It is time for CLICKER QUESTION!!</font>**"
   ]
  },
  {
   "cell_type": "markdown",
   "id": "92d38f28-295f-4362-a4f3-6d81508637c0",
   "metadata": {},
   "source": [
    "### 1.6 ANOVA in R"
   ]
  },
  {
   "cell_type": "markdown",
   "id": "f4c1b364-a433-4ccc-af8e-a7e8e325c330",
   "metadata": {},
   "source": [
    "To do ANOVA in R, we use the `aov` function: "
   ]
  },
  {
   "cell_type": "markdown",
   "id": "4edd4e7a-ad32-4962-ade1-9d685ef7b90b",
   "metadata": {},
   "source": [
    "```\n",
    "aov(formula = response ~ grouping_variable,\n",
    "    data = dataframe)\n",
    "```"
   ]
  },
  {
   "cell_type": "code",
   "execution_count": null,
   "id": "75960e1f-d65d-4492-ba62-42e183a5ea0a",
   "metadata": {},
   "outputs": [],
   "source": [
    "# cell-10\n",
    "# Solve the problem above using aov\n"
   ]
  },
  {
   "cell_type": "markdown",
   "id": "9cf9bf54-32fb-4784-a305-39b7fa50f702",
   "metadata": {},
   "source": [
    "The `broom::tidy` extracts all the info in a dataframe for you:"
   ]
  },
  {
   "cell_type": "code",
   "execution_count": null,
   "id": "4f7c4cad-c2ab-4ccf-8d91-0020d4a0dc77",
   "metadata": {},
   "outputs": [],
   "source": [
    "# cell-11\n",
    "# Call broom::tidy on the aov object\n"
   ]
  },
  {
   "cell_type": "markdown",
   "id": "b392bc15-0a97-445f-b796-193ddb93a234",
   "metadata": {},
   "source": [
    "Let's see if it matches what we did. \n",
    "\n",
    "- `sumsq` is our SS terms\n",
    "    -  `sumsq` of `cyl` is SST\n",
    "    -  `sumsq` of residuals is SSE"
   ]
  },
  {
   "cell_type": "code",
   "execution_count": null,
   "id": "9f8fc7c8-02ed-4d80-8292-b22a76fe94dd",
   "metadata": {},
   "outputs": [],
   "source": [
    "# cell-12\n",
    "SST\n",
    "SSE"
   ]
  },
  {
   "cell_type": "markdown",
   "id": "0bf7aaa3-8cb3-462a-a26f-a6bbd8a44732",
   "metadata": {},
   "source": [
    "- `meansq` is our MS terms\n",
    "    -  `meansq` of `cyl` is MST\n",
    "    -  `meansq` of residuals is MSE"
   ]
  },
  {
   "cell_type": "code",
   "execution_count": null,
   "id": "74f9c24b-6edd-47e7-aab9-e56ba1950977",
   "metadata": {},
   "outputs": [],
   "source": [
    "# cell-13\n",
    "MST\n",
    "MSE"
   ]
  },
  {
   "cell_type": "markdown",
   "id": "a5153a0b-9071-491d-9b54-64c33f6f7b00",
   "metadata": {},
   "source": [
    "### 1.7 Assumptions for ANOVA"
   ]
  },
  {
   "cell_type": "markdown",
   "id": "ca849173-e769-452d-9bed-e7b4055efa75",
   "metadata": {},
   "source": [
    "- The population of all groups follow a Normal distribution;\n",
    "- All the population have the same variance.\n",
    "    - In practice, we are fine as long as the largest variance is not multiple times larger than the smallest variance. \n",
    "<br>\n",
    "- The samples are independent across and within each group. "
   ]
  },
  {
   "cell_type": "markdown",
   "id": "e909446a-4e49-4617-bb9f-b2a63606f6e2",
   "metadata": {},
   "source": [
    "### 1.8 Tuckey Honest Significant Difference "
   ]
  },
  {
   "cell_type": "markdown",
   "id": "ad65b37f-7bda-406d-964f-912beb7af26a",
   "metadata": {},
   "source": [
    "The issue with ANOVA is that it only tells us that at least one group has a different mean. But it doesn't tell us which groups are different. \n",
    "\n",
    "Once we detect that there is a difference with ANOVA, we can study pairwise difference of means by using Tukey's HSD. Tukey's HSD will basically make pairwise tests, but it will control the probability of Type I Error. "
   ]
  },
  {
   "cell_type": "code",
   "execution_count": null,
   "id": "c57b0918-7189-44b9-a70a-c85d954e4880",
   "metadata": {},
   "outputs": [],
   "source": [
    "# cell-14\n",
    "# TukeyHSD\n",
    "...(aov(hp ~ cyl, data = cars))"
   ]
  }
 ],
 "metadata": {
  "kernelspec": {
   "display_name": "R",
   "language": "R",
   "name": "ir"
  },
  "language_info": {
   "codemirror_mode": "r",
   "file_extension": ".r",
   "mimetype": "text/x-r-source",
   "name": "R",
   "pygments_lexer": "r",
   "version": "4.4.2"
  }
 },
 "nbformat": 4,
 "nbformat_minor": 5
}
