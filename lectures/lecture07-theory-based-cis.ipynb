{
 "cells": [
  {
   "cell_type": "markdown",
   "metadata": {
    "slideshow": {
     "slide_type": "slide"
    }
   },
   "source": [
    "# STAT 201 - Statistical Inference for Data Science\n",
    "\n",
    "\n",
    "## Lecture 7: Confidence Intervals (of means and proportions) based on the assumption of Normality or the Central Limit Theorem\n",
    "\n",
    "**Attribution:** these slides are adapted from [Rodolfo Lourenzutti's slides](https://github.com/UBC-STAT/stat-201/blob/website/lec/stat201-week7.pdf)"
   ]
  },
  {
   "cell_type": "markdown",
   "metadata": {
    "slideshow": {
     "slide_type": "slide"
    }
   },
   "source": [
    "## Reminders\n",
    "\n",
    "\n",
    "- Worksheet 7 and tutorial 7 are due on Saturday, October 28 \n",
    "- Project Proposal due on November 4th  \n",
    "    - Instructions under \"Deliverable 2: Project Proposal\" on the [course website](https://ubc-stat.github.io/stat-201/group-project.html) \n",
    "\n",
    "\n"
   ]
  },
  {
   "cell_type": "markdown",
   "metadata": {
    "slideshow": {
     "slide_type": "skip"
    }
   },
   "source": [
    "## Re-cap\n",
    "\n",
    "#### Module 1 - Introduction to Statistical Inference and Sampling\n",
    "- Understand the terminologies in statistical inferene (Population, Sample, Sampling, Point estimate (sample statistics),  Sample distribution, Sampling distribution, Standard error)\n",
    "\n",
    "#### Module 2 - Populations and Sampling\n",
    "- Sampling methodology, Sampling distribution\n",
    "\n",
    "#### Module 3 - Bootstrapping and its Relationship to the Sampling Distribution\n",
    "- Bootstrap distribution\n",
    "\n",
    "#### Module 4 - Confidence Intervals via bootstrapping\n",
    "- Bootstrap confidence interval\n",
    "\n",
    "#### Module 5 - Hypothesis Testing via simulation/randomization \n",
    "\n",
    "#### Module 6 - Midterm  1"
   ]
  },
  {
   "cell_type": "markdown",
   "metadata": {
    "slideshow": {
     "slide_type": "slide"
    }
   },
   "source": [
    "## Statistical Inference\n",
    "\n",
    "1. **Point estimation**: we estimate an unknown parameter using a *single number* calculated from sample data.\n",
    "2. **Interval estimation**: we estimate an unknown parameter using an *interval of values* that plausibly contain the true parameter value (and state how confident we are the interval captures the true value).\n",
    "3. **Hypothesis testing**: we make a statement about the value of an unknown population parameter, and we check whether or not the data obtained from the sample provide evidence against this claim."
   ]
  },
  {
   "cell_type": "markdown",
   "metadata": {
    "slideshow": {
     "slide_type": "slide"
    }
   },
   "source": [
    "## Review: Bootstrapping\n",
    "<img src=\"https://miro.medium.com/max/1575/1*SgeDm_wb2QNSF0CSYVmhuw.jpeg\" width=2000> \n",
    "\n",
    "*image source: [Towards Data Science](https://towardsdatascience.com/bootstrapping-statistics-what-it-is-and-why-its-used-e2fa29577307)*\n"
   ]
  },
  {
   "cell_type": "markdown",
   "metadata": {
    "slideshow": {
     "slide_type": "slide"
    }
   },
   "source": [
    "## Today: Traditional methods\n",
    "<img src=\"https://miro.medium.com/max/1575/1*QpDvUNXHTSDbgwXP2kVBsA.jpeg\" width=2000> \n",
    "\n",
    "*image source: [Towards Data Science](https://towardsdatascience.com/bootstrapping-statistics-what-it-is-and-why-its-used-e2fa29577307)*"
   ]
  },
  {
   "cell_type": "markdown",
   "metadata": {
    "slideshow": {
     "slide_type": "skip"
    }
   },
   "source": [
    "<img src=\"img/stat201-week7.png\" width=1000>"
   ]
  },
  {
   "cell_type": "markdown",
   "metadata": {
    "slideshow": {
     "slide_type": "slide"
    }
   },
   "source": [
    "## Sampling Scenarios\n",
    "\n",
    "| Scenario | Population parameter                | Symbol     | Point estimate | Symbol(s)|\n",
    "|----------|:------------------------------------|:------------|:--------------|:---------|\n",
    "| 1\t       | Population proportion               |  $p$  <img width=100/>| Sample proportion | $\\hat{p}$ | \t \n",
    "| 2\t       | Population mean                     | $\\mu$      | Sample mean | $\\bar{x}$ | \t \n",
    "| 3\t       | Difference in population proportions| $p_1 - p_2$| Difference in sample proportions | $\\hat{p}_1 - \\hat{p}_2$ | \t \n",
    "| 4\t       | Difference in population means      | $\\mu_1 - \\mu_2$ | Difference in sample means\t| $\\bar{x}_1- \\bar{x}_2$      | \t\n",
    "\n",
    "TABLE 7.5: Scenarios of sampling for inference from [Modern Dive](https://moderndive.com/7-sampling.html#sampling-conclusion-central-limit-theorem) by Kim & McConville"
   ]
  },
  {
   "cell_type": "markdown",
   "metadata": {
    "slideshow": {
     "slide_type": "slide"
    }
   },
   "source": [
    "## Normal (Gaussian) distribution\n",
    "\n",
    "A distribution defined by two values: \n",
    "\n",
    "1. the mean $\\mu$ (\"mu\") and \n",
    "2. the standard deviation $\\sigma$ (\"sigma\") \n",
    "\n",
    "A normal distribution is: \n",
    "- Unimodal (one peak) and bell-shaped;\n",
    "- Symmetric around the mean, $\\mu$\n",
    "\n",
    "<img src=\"https://www.restore.ac.uk/srme/www/fac/soc/wie/research-new/srme/modules/mod1/8/normal_curve.jpg\" width=600> \n"
   ]
  },
  {
   "cell_type": "code",
   "execution_count": null,
   "metadata": {
    "slideshow": {
     "slide_type": "slide"
    }
   },
   "outputs": [],
   "source": [
    "IRdisplay::display_html('<iframe src=\"https://www.zoology.ubc.ca/~whitlock/Kingfisher/SamplingNormal.htm\" width=1000, height=550iframe>') "
   ]
  },
  {
   "cell_type": "markdown",
   "metadata": {
    "slideshow": {
     "slide_type": "slide"
    }
   },
   "source": [
    "## Location & spread\n",
    "- The mean $\\mu$ controls the location of the center of the distribution\n",
    "- The standard deviation $\\sigma$, controls the spread of the curve (wider or narrower)\n",
    "- We give a normal distribution with a mean $\\mu = 0$ and the standard deviation $\\sigma = 1$ a special name. It's called the **standard normal distribution**.\n",
    "\n",
    "<img src=\"img/stat201-week7_Page_10.png\" width=1800>"
   ]
  },
  {
   "cell_type": "markdown",
   "metadata": {
    "slideshow": {
     "slide_type": "slide"
    }
   },
   "source": [
    "## 68-95-99.7% rule (Empirical rule) \n",
    "\n",
    "If a variable follows a Normal distribution, there are three rules of thumb we can use:\n",
    "\n",
    "- approximately 68% of values will lie within $\\pm1$ standard deviation of the mean \n",
    "- approximately 95% of values will lie within $\\pm2$ standard deviation of the mean \n",
    "- approximately 99.7% of values will lie within $\\pm3$ standard deviation of the mean\n",
    "<p align=\"center\">\n",
    "    <img src=\"https://andymath.com/wp-content/uploads/2019/12/empirical-rule-normdist2.jpg\" width=1000>\n",
    "</p>\n",
    "\n",
    "*image source: [Andymath.com](https://andymath.com/normal-distribution-empirical-rule/)*"
   ]
  },
  {
   "cell_type": "markdown",
   "metadata": {
    "slideshow": {
     "slide_type": "slide"
    }
   },
   "source": [
    "## Functions in R for the Normal distribution\n",
    "\n",
    "- We can use software packages to get the desired probability or quantiles.\n",
    "\n",
    "- Probabilities: e.g., $P(X \\le 0)$\n",
    "> pnorm(0, mu, sigma)\n",
    "\n",
    "- Quantiles: e.g., $P(X \\le x) = 0.25$ \n",
    "> qnorm(0.25, mu, sigma)"
   ]
  },
  {
   "cell_type": "markdown",
   "metadata": {
    "slideshow": {
     "slide_type": "fragment"
    }
   },
   "source": [
    "<div style=\"display:flex\">\n",
    "     <div style=\"flex:1;padding-right:10px;\">\n",
    "          <img src=\"img/pnorm.png\" width=\"800\"/>\n",
    "     </div>\n",
    "     <div style=\"flex:1;padding-left:10px;\">\n",
    "          <img src=\"img/qnorm.png\" width=\"800\"/>\n",
    "     </div>\n",
    "</div>\n",
    "\n",
    "\n",
    "\n",
    "*image source: [Visual guide to pnorm, dnorm, qnorm, and rnorm functions in R](https://diggingdeeperwithstats.wordpress.com/2021/05/21/visual-guide-to-pnorm-dnorm-qnorm-and-rnorm-functions-in-r/)*"
   ]
  },
  {
   "cell_type": "markdown",
   "metadata": {
    "slideshow": {
     "slide_type": "slide"
    }
   },
   "source": [
    "```\n",
    "pnorm(0)\n",
    "pnorm(-2, 0, 1)\n",
    "qnorm(0.84)\n",
    "```"
   ]
  },
  {
   "cell_type": "markdown",
   "metadata": {
    "slideshow": {
     "slide_type": "slide"
    }
   },
   "source": [
    "## Clicker Question 1\n",
    "\n",
    "Suppose the lengths of fish in a certain lake follow approximately a Normal distribution with mean $\\mu = 100$ mm and standard deviation $\\sigma = 10$ mm.\n",
    "\n",
    "Approximately, what percentage of fish have lengths below 90 mm? (Use the 68-95-99.7 rule)\n",
    "\n",
    "A. 2.5% \n",
    "\n",
    "B. 5%\n",
    "\n",
    "C. 16%\n",
    "\n",
    "D. 68%"
   ]
  },
  {
   "cell_type": "code",
   "execution_count": null,
   "metadata": {
    "slideshow": {
     "slide_type": "fragment"
    }
   },
   "outputs": [],
   "source": [
    "pnorm(..., mean = ..., sd = ...)"
   ]
  },
  {
   "cell_type": "code",
   "execution_count": null,
   "metadata": {
    "slideshow": {
     "slide_type": "notes"
    }
   },
   "outputs": [],
   "source": [
    "pnorm(90, mean = 100, sd = 10)\n"
   ]
  },
  {
   "cell_type": "markdown",
   "metadata": {
    "slideshow": {
     "slide_type": "notes"
    }
   },
   "source": [
    "C"
   ]
  },
  {
   "cell_type": "markdown",
   "metadata": {
    "slideshow": {
     "slide_type": "slide"
    }
   },
   "source": [
    "## Clicker Question 2\n",
    "\n",
    "Suppose the lengths of fish in a certain lake follow approximately a Normal distribution with mean $\\mu = 100$ mm and standard deviation $\\sigma = 10$ mm.\n",
    "\n",
    "How big is the length such that only 2.5\\% of fish fall above? \n",
    "\n",
    "A. 100 mm\n",
    "\n",
    "B. 110 mm\n",
    "\n",
    "C. 120 mm\n",
    "\n",
    "D. 130 mm"
   ]
  },
  {
   "cell_type": "code",
   "execution_count": null,
   "metadata": {
    "slideshow": {
     "slide_type": "fragment"
    }
   },
   "outputs": [],
   "source": [
    "qnorm(..., mean = 100, sd = 10)\n"
   ]
  },
  {
   "cell_type": "code",
   "execution_count": null,
   "metadata": {
    "slideshow": {
     "slide_type": "notes"
    }
   },
   "outputs": [],
   "source": [
    "qnorm(.975, mean = 100, sd = 10)\n"
   ]
  },
  {
   "cell_type": "markdown",
   "metadata": {
    "slideshow": {
     "slide_type": "slide"
    }
   },
   "source": [
    "## Recall: Sampling Distributions of Proportions\n",
    "\n",
    "The sampling distribution of proportions is the distribution of the sample proportions of all possible random samples of size $n$ that can be obtained from a population.\n",
    "\n"
   ]
  },
  {
   "cell_type": "markdown",
   "metadata": {
    "slideshow": {
     "slide_type": "fragment"
    }
   },
   "source": [
    "For sufficiently large samples (such that $n\\times p\\ge 10$ and $n \\times (1-p)\\ge 10$) and with other necessary conditions, the sampling distribution of $\\hat{p}$ is approximately Normal with \n",
    "- with mean $p$  and\n",
    "- standard error $\\sqrt{\\frac{p \\times (1-p)}{n}}$"
   ]
  },
  {
   "cell_type": "markdown",
   "metadata": {
    "slideshow": {
     "slide_type": "notes"
    }
   },
   "source": [
    "The larger the sample size n, the better the normal approximation."
   ]
  },
  {
   "cell_type": "markdown",
   "metadata": {
    "slideshow": {
     "slide_type": "slide"
    }
   },
   "source": [
    "## Recall: Sampling Distribution of Means\n",
    "The sampling distribution of means is the distribution of the means of all the possible random samples of size $n$ that could be selected from a population.\n"
   ]
  },
  {
   "cell_type": "markdown",
   "metadata": {
    "slideshow": {
     "slide_type": "fragment"
    }
   },
   "source": [
    "\n",
    "Let $x_1, x_2, ..., x_n$ be independent values of a random sample from some population with mean $\\mu$ and standard deviation $\\sigma$. The Central Limit Theorem (CLT) states that for large sample sizes ($n$) the sampling distribution of the sample mean is approximately Normally distributed, regardless of the distribution of the population one samples from with\n",
    "- mean $\\mu$ and \n",
    "- standard error $\\frac{\\sigma}{\\sqrt{n}}$\n",
    "\n"
   ]
  },
  {
   "cell_type": "markdown",
   "metadata": {
    "slideshow": {
     "slide_type": "fragment"
    }
   },
   "source": [
    "\n",
    "Note: If the population distribution is Normal, the sample mean $\\bar{X}$ follows the Normal model with mean $\\mu$ and standard deviation $\\frac{\\sigma}{\\sqrt{n}}$ regardless of the sample size. "
   ]
  },
  {
   "cell_type": "markdown",
   "metadata": {
    "slideshow": {
     "slide_type": "slide"
    }
   },
   "source": [
    "## Central Limit Theorem - Explain using an applet\n"
   ]
  },
  {
   "cell_type": "code",
   "execution_count": null,
   "metadata": {
    "slideshow": {
     "slide_type": "fragment"
    }
   },
   "outputs": [],
   "source": [
    "IRdisplay::display_html('<iframe src=\"https://www.zoology.ubc.ca/~whitlock/Kingfisher/CLT.htm\" width=800, height=550iframe>') "
   ]
  },
  {
   "cell_type": "markdown",
   "metadata": {
    "slideshow": {
     "slide_type": "slide"
    }
   },
   "source": [
    "## Assumptions & conditions\n",
    "- The sample is randomly drawn from the population. \n",
    "- The sample values are independent. In general, if your sample size is greater than 10% of the population size, there will be a severe violation of independence.\n",
    "- The sample size must be large enough.\n",
    "    - For proportions: \n",
    "        - check $n\\times p \\ge 10$ and $n\\times(1-p) \\ge 10$.\n",
    "    - For means: \n",
    "        - there is no universal guideline, and we might need a large sample size. Usually, however, sample sizes larger than 30 are enough to get a reasonable approximation (but it is not guaranteed)."
   ]
  },
  {
   "cell_type": "markdown",
   "metadata": {
    "slideshow": {
     "slide_type": "slide"
    }
   },
   "source": [
    "## Recall \n",
    "The **standard error** is the standard deviation of point estimates\n",
    "\n",
    "$$\\sigma_{\\hat{p}} = \\sqrt{\\frac{p(1-p)}{n}}$$ \n",
    "\n",
    "- $\\sigma_{\\hat{p}}$: standard deviation of sample proportions (i.e. standard error)\n",
    "- $p$: population proportion\n",
    "\n",
    "$$\\sigma_{\\bar{x}} = \\frac{\\sigma}{\\sqrt{n}}$$ \n",
    "\n",
    "- $\\sigma_{\\bar{x}}$: standard deviation of sample mean (i.e. standard error)\n",
    "- $\\sigma$: standard deviation of population"
   ]
  },
  {
   "cell_type": "markdown",
   "metadata": {
    "slideshow": {
     "slide_type": "fragment"
    }
   },
   "source": [
    "### In reality: \n",
    "\n",
    "- We don't know the value of the population proportion ($p$) so we estimate $p$ using the sample proportion ($\\hat{p}$). Thus we estimate $\\sigma_{\\hat{p}}$ (variability of $\\hat{p}$) using:\n",
    "\n",
    "$$\\sigma_{\\hat{p}} = \\sqrt{\\frac{\\hat{p} \\times (1-\\hat{p})}{n}}$$\n",
    "\n",
    "- We don't know the value of the population standard deviation ($\\sigma$) so we estimate $\\sigma$ using the sample standard deviation ($s$). Thus we estimate $\\sigma_{\\bar{x}}$ using \n",
    "\n",
    "$$\\sigma_{\\bar{X}} = \\frac{s}{\\sqrt{n}}$$\n"
   ]
  },
  {
   "cell_type": "markdown",
   "metadata": {
    "slideshow": {
     "slide_type": "slide"
    }
   },
   "source": [
    "## Idea behind confidence intervals \n",
    "- By the 68-95-99.7 rule, approximately 95% of $\\hat{p}$ will fall between $p \\pm 2 \\times \\sigma_{\\hat{p}}$ \n",
    "\n",
    "<p align=\"center\"> <img src=img/sampling_dist_p.png width=1200>\n",
    "</p>"
   ]
  },
  {
   "cell_type": "markdown",
   "metadata": {
    "slideshow": {
     "slide_type": "skip"
    }
   },
   "source": [
    "<p align=\"center\"> <img src=\"https://faculty.elgin.edu/dkernler/statistics/ch09/images/sample-proportions.jpg\" width=1000>\n",
    "</p>"
   ]
  },
  {
   "cell_type": "markdown",
   "metadata": {
    "slideshow": {
     "slide_type": "slide"
    }
   },
   "source": [
    "## Confidence Intervals\n",
    "\n",
    "\n",
    "Today the confidence intervals for population parameters we will be learning about today take the following form:\n",
    "\n",
    "<p style=\"text-align: center;\"> statistic $\\pm$ margin of error </p>\n",
    "<p style=\"text-align: center;\"> statistic $\\pm$ critical value $\\times$ standard error </p>"
   ]
  },
  {
   "cell_type": "markdown",
   "metadata": {
    "slideshow": {
     "slide_type": "slide"
    }
   },
   "source": [
    "## Confidence Intervals: proportions\n",
    "\n",
    "Formula for a confidence interval (CI) for the population proportion $p$:\n",
    "\n",
    "$$\\hat{p} \\pm z^* \\times \\sigma_{\\hat{p}}$$\n",
    "\n",
    "$$\\hat{p} \\pm z^* \\times \\sqrt{\\frac{\\hat{p}(1 - \\hat{p})}{n}}$$\n",
    "\n",
    "where $z^∗$ is called the critical value."
   ]
  },
  {
   "cell_type": "markdown",
   "metadata": {
    "slideshow": {
     "slide_type": "skip"
    }
   },
   "source": [
    "## Confidence Intervals: proportions\n",
    "<img src=\"img/stat201-week7_Page_21.png\" width=1000>"
   ]
  },
  {
   "cell_type": "markdown",
   "metadata": {
    "slideshow": {
     "slide_type": "slide"
    }
   },
   "source": [
    "## Finding the critical value\n",
    "- The critical value depends on the confidence level you choose \n",
    "\n",
    "- $z^∗$ is the value such that the upper tail area (area to the right of $z^*$) under the standard normal curve equals to $\\frac{1 - C}{2}$ (where $C$ is the confidence level).\n",
    "\n",
    "<img src=\"http://www.stat.yale.edu/Courses/1997-98/101/confdiag.gif\" width=800> "
   ]
  },
  {
   "cell_type": "markdown",
   "metadata": {
    "slideshow": {
     "slide_type": "slide"
    }
   },
   "source": [
    "## Finding $z^*$ in R"
   ]
  },
  {
   "cell_type": "markdown",
   "metadata": {},
   "source": [
    "Recall:\n",
    "- Quantiles: e.g., $P(X \\le x) = 0.25$ \n",
    "> qnorm(0.25, mu, sigma)\n"
   ]
  },
  {
   "cell_type": "markdown",
   "metadata": {
    "slideshow": {
     "slide_type": "fragment"
    }
   },
   "source": [
    "For a 95% confidence level, the $z^*$ is..."
   ]
  },
  {
   "cell_type": "code",
   "execution_count": null,
   "metadata": {
    "slideshow": {
     "slide_type": "-"
    }
   },
   "outputs": [],
   "source": [
    "qnorm(...)"
   ]
  },
  {
   "cell_type": "code",
   "execution_count": null,
   "metadata": {
    "slideshow": {
     "slide_type": "notes"
    }
   },
   "outputs": [],
   "source": [
    "qnorm(0.975)"
   ]
  },
  {
   "cell_type": "markdown",
   "metadata": {
    "slideshow": {
     "slide_type": "slide"
    }
   },
   "source": [
    "## Confidence Intervals: means\n",
    "\n",
    "Formula for a confidence interval (CI) for the population mean $\\mu$:\n",
    "\n",
    "$$\\bar{x} \\pm z^* \\times \\sigma_{\\bar{x}}$$\n",
    "\n",
    "$$\\bar{x} \\pm z^* \\times \\frac{s}{\\sqrt{n}}$$\n",
    "\n",
    "where $z^∗$ is the z-score such that upper tail area under the standard Normal curve is equal to $\\frac{1 - C}{2}$ (where $C$ is the confidence level).\n",
    "\n",
    "*Note: we could actually get a better approximation using the t-distribution, which we will learn about in the next module. However, for large $n$, the Normal and $t$ distributions are quite close*"
   ]
  },
  {
   "cell_type": "markdown",
   "metadata": {
    "slideshow": {
     "slide_type": "skip"
    }
   },
   "source": [
    "## Confidence Intervals: means\n",
    "<img src=\"img/stat201-week7_Page_18.png\" width=1000>"
   ]
  },
  {
   "cell_type": "markdown",
   "metadata": {
    "slideshow": {
     "slide_type": "skip"
    }
   },
   "source": [
    "## Confidence Intervals: means\n",
    "<img src=\"img/stat201-week7_Page_19.png\" width=1000>"
   ]
  },
  {
   "cell_type": "markdown",
   "metadata": {
    "slideshow": {
     "slide_type": "slide"
    }
   },
   "source": [
    "## Assumptions & conditions for constructing confidence intervals\n",
    "- The sample is randomly drawn from the population. \n",
    "- The sample values are independent. In general, if your sample size is greater than 10% of the population size, there will be a severe violation of independence.\n",
    "- The sample size must be large enough. \n",
    "    - For proportions: Check $n\\times \\hat{p} \\ge 10$ and $n\\times(1-\\hat{p}) \\ge 10$ (Remember we don't know $p$!)\n",
    "    - For means: Usually, sample sizes larger than 30 are enough to get a reasonable approximation (but it is not guaranteed)."
   ]
  },
  {
   "cell_type": "markdown",
   "metadata": {
    "slideshow": {
     "slide_type": "slide"
    }
   },
   "source": [
    "## Clicker question 3 \n",
    "\n",
    "A manufacturer is producing a chocolate bar. The factory manager wants to find out about the true proportion of the bars that are overweight (i.e. the weight is larger than the labeled weight). They take a random sample of 100 bars and find that 20 out of 100 are overweight. \n",
    "\n",
    "A 95% confidence interval for the true proportion of the bars that are overweight is:\n",
    "\n",
    "A. $0.20 \\pm 0.04$\n",
    "\n",
    "B. $0.20 \\pm 0.08$\n",
    "\n",
    "C. $100 \\pm 0.04$\n",
    "\n",
    "D. $100 \\pm 0.08$"
   ]
  },
  {
   "cell_type": "markdown",
   "metadata": {
    "slideshow": {
     "slide_type": "slide"
    }
   },
   "source": [
    "## Confidence interval interpretation\n"
   ]
  },
  {
   "cell_type": "code",
   "execution_count": null,
   "metadata": {
    "slideshow": {
     "slide_type": "-"
    }
   },
   "outputs": [],
   "source": [
    "IRdisplay::display_html('<iframe src=\"https://www.zoology.ubc.ca/~whitlock/Kingfisher/CIMean.htm\" width=800, height=550iframe>') "
   ]
  },
  {
   "cell_type": "markdown",
   "metadata": {
    "slideshow": {
     "slide_type": "skip"
    }
   },
   "source": [
    "## Confidence Interval (CI) for Population mean $\\mu$ is\n",
    "$\\left[\\bar{x}-Z_{1-\\alpha}^* \\dfrac{s}{\\sqrt{n}} , \\; \\bar{x} + Z_{1-\\alpha}^* \\dfrac{s}{\\sqrt{n}}\\right] $\n",
    "<br />\n",
    "\n",
    "#### $\\bar{x}\\pm Z_{1- \\alpha}^* \\dfrac{s}{\\sqrt{n}}$ where  $\\bar{x} $ is the point estimate for $\\mu$ and  $ Z_{1- \\alpha}^* \\dfrac{s}{\\sqrt{n}}$ is the margin of error\n",
    "<br />\n",
    "Confidence Interval takes the form \n",
    "\n",
    "### $\\qquad \\Rightarrow \\qquad$ point estimate $\\pm$ margin of error"
   ]
  },
  {
   "cell_type": "markdown",
   "metadata": {
    "slideshow": {
     "slide_type": "skip"
    }
   },
   "source": [
    "## Confidence Intervals: Difference in means\n",
    "\n",
    "<img src=\"img/stat201-week7_Page_22.png\" width=1000>  "
   ]
  },
  {
   "cell_type": "markdown",
   "metadata": {
    "slideshow": {
     "slide_type": "skip"
    }
   },
   "source": [
    "## Confidence Intervals: Difference in means\n",
    "\n",
    "<img src=\"img/stat201-week7_Page_23.png\" width=1000> "
   ]
  },
  {
   "cell_type": "markdown",
   "metadata": {
    "slideshow": {
     "slide_type": "skip"
    }
   },
   "source": [
    "## Confidence Intervals: Difference in proportions\n",
    "\n",
    "<img src=\"img/stat201-week7_Page_24.png\" width=1000> "
   ]
  },
  {
   "cell_type": "markdown",
   "metadata": {
    "slideshow": {
     "slide_type": "skip"
    }
   },
   "source": [
    "## Confidence Intervals: Difference in proportions\n",
    "\n",
    "<img src=\"img/stat201-week7_Page_25.png\" width=1000> "
   ]
  },
  {
   "cell_type": "markdown",
   "metadata": {
    "slideshow": {
     "slide_type": "slide"
    }
   },
   "source": [
    "## Get started on worksheet 7!\n",
    "- Navigate to Canvas, open `worksheet_07`\n",
    "\n",
    "If you get stuck:\n",
    "\n",
    "- Discuss with your neighbours, the TAs & Instructors, and consult the textbook reading to help you get unstuck when needed!\n",
    "- Ask your group mates if you need help with any questions\n",
    "- The TAs and myself will walk around and answer questions"
   ]
  },
  {
   "cell_type": "markdown",
   "metadata": {
    "slideshow": {
     "slide_type": "slide"
    }
   },
   "source": [
    "## What did you learn today?\n",
    "\n",
    "-  \n",
    "- \n",
    "- "
   ]
  },
  {
   "cell_type": "markdown",
   "metadata": {
    "slideshow": {
     "slide_type": "skip"
    }
   },
   "source": [
    "## Take a break! \n",
    "\n",
    "Come back at 3:00 PM \n",
    "\n",
    "<!--- Summer term --->"
   ]
  },
  {
   "cell_type": "code",
   "execution_count": null,
   "metadata": {},
   "outputs": [],
   "source": []
  }
 ],
 "metadata": {
  "celltoolbar": "Slideshow",
  "kernelspec": {
   "display_name": "R",
   "language": "R",
   "name": "ir"
  },
  "language_info": {
   "codemirror_mode": "r",
   "file_extension": ".r",
   "mimetype": "text/x-r-source",
   "name": "R",
   "pygments_lexer": "r",
   "version": "4.1.3"
  },
  "rise": {
   "transition": "fade"
  }
 },
 "nbformat": 4,
 "nbformat_minor": 4
}
